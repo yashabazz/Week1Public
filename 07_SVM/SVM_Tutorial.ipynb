{
 "cells": [
  {
   "cell_type": "markdown",
   "source": "# Support Vector Machine (SVM) Tutorial",
   "metadata": {
    "colab_type": "text",
    "id": "q71qY1utlDUm",
    "cell_id": "00000-eb16b0eb-b205-4981-9ce2-b30451097902",
    "deepnote_cell_type": "markdown"
   }
  },
  {
   "cell_type": "markdown",
   "source": "SVMs are algorithms that can be used for both classification and regression purposes, although they are more commonly used for **classification**.\n\nTo understand how SVM's work, imagine each data point a vector point in $n$-dimensional space, where $n$ is the total number of features.\n\nAn SVM classifies data by finding the **optimal hyperplane** that best divides the data into groups by class. In a 2D space (data with two features), this \"hyperplane\" is a line dividing the space into two regions, as shown below. The trick to finding the optimal line is maximizing the distance from the line to any data. This is the **maximum margin**.\n\n<img src=\"https://cdn-images-1.medium.com/max/1200/0*0o8xIA4k3gXUDCFU.png\">\n\n\n**Support vectors** are the data points nearest to the hyperplane. If these points were removed, the optimal hyperplane would change. The position and number of points outside the support vectors will not change the hyperplane fit at all. This means SVM's can have solid results on small datasets (with valuable support vectors). In the image below, the support vectors are circled.\n\n![](https://raw.githubusercontent.com/BeaverWorksMedlytics2020/Data_Public/master/Images/Week1/svm_4.png))",
   "metadata": {
    "id": "EgDMEbcOxfzU",
    "colab_type": "text",
    "cell_id": "00001-12f6a78e-7817-4cc9-8ed7-ccb4b9a93716",
    "deepnote_cell_type": "markdown"
   }
  },
  {
   "cell_type": "markdown",
   "source": "Intuitively, the further from the hyperplane our support vectors points lie, the larger the margin, and the more confident we are in our classifier. Therefore, we ideally want our data points to be as far away from the hyperplane as possible, while still being on the correct side.",
   "metadata": {
    "id": "-0-2PaniEWk9",
    "colab_type": "text",
    "cell_id": "00002-ca7ee2ba-204a-4ca3-a8f7-b45ee8f3705b",
    "deepnote_cell_type": "markdown"
   }
  },
  {
   "cell_type": "markdown",
   "source": "So what happens when data overlaps, or doesn't have a clear dividing line? Take this image as an example:\n\n<img src=\"https://miro.medium.com/max/720/1*fv8DDZLaR0t7SO-W6tdDAg.png\">\n\nHere we have these two options. Try to draw a line despite some points being on the wrong side:\n\n<img src=\"https://miro.medium.com/max/600/1*1dwut8cWQ-39POHV48tv4w.png\">\n\nOr give up on having a straight line, and define a curved or segmented line instead:\n\n<img src=\"https://miro.medium.com/max/600/1*gt_dkcA5p0ZTHjIpq1qnLQ.png\"> \n\nBoth options can work! However, there are tradeoffs. In some cases, the first option may not be accurate enough. However, the second option may take too long for large data sets, and may over-fit to the training data.",
   "metadata": {
    "id": "Lh0EH1TzEWlA",
    "colab_type": "text",
    "cell_id": "00003-c1c1d41d-90c3-46cb-b1fb-a191da904d3b",
    "deepnote_cell_type": "markdown"
   }
  },
  {
   "cell_type": "markdown",
   "source": "## Important Parameters for SVM\n\nIn this notebook, we will be using sklearn's SVC (Support Vector Classifier documentation found here: https://scikit-learn.org/stable/modules/generated/sklearn.svm.SVC.html). Feel free to look at the other available SVM models here: https://scikit-learn.org/stable/modules/svm.html.\n\nIn this section we will describe three key parameters for training SVMs: Regularization, Gamma, and Kernel.",
   "metadata": {
    "colab_type": "text",
    "id": "vfvZCdtTla0p",
    "cell_id": "00004-d4b2438e-43ef-4454-9a46-e139b9f9bc79",
    "deepnote_cell_type": "markdown"
   }
  },
  {
   "cell_type": "markdown",
   "source": "### Regularization\n---\n\n**Regularization (C)** impacts the division of data by telling the SVM optimization how much you want to avoid misclassifying the training data.\n\n- Low regularization values create smooth decision boundaries\n- High regularization values create more complex decision boundaries, but may over-fit to the training set\n\nLow C:\n\n<img src=\"https://miro.medium.com/max/600/1*1dwut8cWQ-39POHV48tv4w.png\">\n\nHigh C:\n\n<img src=\"https://miro.medium.com/max/600/1*gt_dkcA5p0ZTHjIpq1qnLQ.png\"> ",
   "metadata": {
    "id": "8fVGb0z6EWlC",
    "colab_type": "text",
    "cell_id": "00005-505366a7-20e6-4a04-bc40-f81d19588823",
    "deepnote_cell_type": "markdown"
   }
  },
  {
   "cell_type": "markdown",
   "source": "### Gamma\n---\n\n**Gamma** defines how close a training data point needs to be to impact the decision boundary. High gamma can lead to a lot of the data not being considered.\n\n<img src=\"https://miro.medium.com/max/720/1*dGDQxV8j83VB90skHsXktw.png\">\n<img src=\"https://miro.medium.com/max/720/1*ClmsnU_yb1YtIwAAr7krmg.png\">",
   "metadata": {
    "id": "XFzIqLy0EWlE",
    "colab_type": "text",
    "cell_id": "00006-a00040ad-cabc-4e29-a669-8e4c7f07e5e7",
    "deepnote_cell_type": "markdown"
   }
  },
  {
   "cell_type": "markdown",
   "source": "### Kernel\n---\n\nA **kernel** is essentially a transformation that makes decision boundaries possible for different shaped distributions. In the example below, it is impossible to draw a straight line to separate the circles from the squares.\n\n<img src=\"https://miro.medium.com/max/720/1*C3j5m3E3KviEApHKleILZQ.png\"> <br><br>\n\nHowever, if we apply a kernel to transform the data into 3D space (for example, with z = x² + y²), we may be able to draw a line on the Z-X or Z-Y plane.\n\n<img src=\"https://miro.medium.com/max/720/1*FLolUnVUjqV0EGm3CYBPLw.png\"> <br><br>\n\nLooking at it again in X-Y, we have managed to separate the data quite well.\n\n<img src=\"https://miro.medium.com/max/720/1*NN5VCpVg9gPCLYrDl0YFYw.png\"> <br><br>",
   "metadata": {
    "id": "We-EM7x-EWlF",
    "colab_type": "text",
    "cell_id": "00007-0abb1ecf-69e1-45e3-a4f6-b03b4e0650e2",
    "deepnote_cell_type": "markdown"
   }
  },
  {
   "cell_type": "markdown",
   "source": "# Example SVM\n\nAs an example, we'll use an SVM to predict diabetes using the Pima Diabetes dataset. Load and view the data in the cells below:",
   "metadata": {
    "id": "L0bM5mvsEWlK",
    "colab_type": "text",
    "cell_id": "00008-e17ab439-518e-427c-bf07-c7897e1019c1",
    "deepnote_cell_type": "markdown"
   }
  },
  {
   "cell_type": "code",
   "metadata": {
    "id": "m_GGUYGvEWlL",
    "colab_type": "code",
    "colab": {},
    "cell_id": "00009-873a660f-adda-4bb8-9f6f-e19c2bc52274",
    "deepnote_to_be_reexecuted": false,
    "source_hash": "b5b843fc",
    "execution_start": 1625683488874,
    "execution_millis": 1488,
    "deepnote_cell_type": "code"
   },
   "source": "import numpy as np\nimport pandas as pd\n\nfrom sklearn.model_selection import train_test_split\nfrom sklearn import svm\nfrom sklearn.metrics import accuracy_score\nfrom sklearn.svm import SVC ",
   "outputs": [],
   "execution_count": null
  },
  {
   "cell_type": "markdown",
   "source": "## Loading the Data",
   "metadata": {
    "id": "HOyMSQyqEWlR",
    "colab_type": "text",
    "cell_id": "00010-af1ffaa5-9d9d-4a3f-ad86-f636c7234078",
    "deepnote_cell_type": "markdown"
   }
  },
  {
   "cell_type": "code",
   "metadata": {
    "id": "t9-qgexhEWlS",
    "colab_type": "code",
    "colab": {},
    "cell_id": "00011-b973e06f-57d8-4d1d-8a82-39352d976e0e",
    "deepnote_to_be_reexecuted": false,
    "source_hash": "298bd88",
    "execution_start": 1625683492640,
    "execution_millis": 102,
    "deepnote_cell_type": "code"
   },
   "source": "url = \"https://raw.githubusercontent.com/BeaverWorksMedlytics2020/Data_Public/master/NotebookExampleData/Week1/diabetes.csv\"\nnames = ['preg', 'plas', 'pres', 'skin', 'test', 'mass', 'pedi', 'age', 'class']\ndata = pd.read_csv(url, names=names)\n\n# Dropping NaN rows\ninvalid = ['plas', 'pres', 'skin', 'test', 'mass']\n\nfor i in invalid:\n    data[i].replace(to_replace=0, value=np.nan, inplace=True)\n    \ndata = data.dropna(axis=0).reset_index(drop=True)\n\ndata.head()",
   "outputs": [
    {
     "output_type": "execute_result",
     "execution_count": 3,
     "data": {
      "application/vnd.deepnote.dataframe.v2+json": {
       "row_count": 5,
       "column_count": 9,
       "columns": [
        {
         "name": "preg",
         "dtype": "int64",
         "stats": {
          "unique_count": 4,
          "nan_count": 0,
          "min": "0",
          "max": "3",
          "histogram": [
           {
            "bin_start": 0,
            "bin_end": 0.3,
            "count": 1
           },
           {
            "bin_start": 0.3,
            "bin_end": 0.6,
            "count": 0
           },
           {
            "bin_start": 0.6,
            "bin_end": 0.8999999999999999,
            "count": 0
           },
           {
            "bin_start": 0.8999999999999999,
            "bin_end": 1.2,
            "count": 2
           },
           {
            "bin_start": 1.2,
            "bin_end": 1.5,
            "count": 0
           },
           {
            "bin_start": 1.5,
            "bin_end": 1.7999999999999998,
            "count": 0
           },
           {
            "bin_start": 1.7999999999999998,
            "bin_end": 2.1,
            "count": 1
           },
           {
            "bin_start": 2.1,
            "bin_end": 2.4,
            "count": 0
           },
           {
            "bin_start": 2.4,
            "bin_end": 2.6999999999999997,
            "count": 0
           },
           {
            "bin_start": 2.6999999999999997,
            "bin_end": 3,
            "count": 1
           }
          ]
         }
        },
        {
         "name": "plas",
         "dtype": "float64",
         "stats": {
          "unique_count": 5,
          "nan_count": 0,
          "min": "78.0",
          "max": "197.0",
          "histogram": [
           {
            "bin_start": 78,
            "bin_end": 89.9,
            "count": 2
           },
           {
            "bin_start": 89.9,
            "bin_end": 101.8,
            "count": 0
           },
           {
            "bin_start": 101.8,
            "bin_end": 113.7,
            "count": 0
           },
           {
            "bin_start": 113.7,
            "bin_end": 125.6,
            "count": 0
           },
           {
            "bin_start": 125.6,
            "bin_end": 137.5,
            "count": 1
           },
           {
            "bin_start": 137.5,
            "bin_end": 149.4,
            "count": 0
           },
           {
            "bin_start": 149.4,
            "bin_end": 161.3,
            "count": 0
           },
           {
            "bin_start": 161.3,
            "bin_end": 173.2,
            "count": 0
           },
           {
            "bin_start": 173.2,
            "bin_end": 185.10000000000002,
            "count": 0
           },
           {
            "bin_start": 185.10000000000002,
            "bin_end": 197,
            "count": 2
           }
          ]
         }
        },
        {
         "name": "pres",
         "dtype": "float64",
         "stats": {
          "unique_count": 5,
          "nan_count": 0,
          "min": "40.0",
          "max": "70.0",
          "histogram": [
           {
            "bin_start": 40,
            "bin_end": 43,
            "count": 1
           },
           {
            "bin_start": 43,
            "bin_end": 46,
            "count": 0
           },
           {
            "bin_start": 46,
            "bin_end": 49,
            "count": 0
           },
           {
            "bin_start": 49,
            "bin_end": 52,
            "count": 1
           },
           {
            "bin_start": 52,
            "bin_end": 55,
            "count": 0
           },
           {
            "bin_start": 55,
            "bin_end": 58,
            "count": 0
           },
           {
            "bin_start": 58,
            "bin_end": 61,
            "count": 1
           },
           {
            "bin_start": 61,
            "bin_end": 64,
            "count": 0
           },
           {
            "bin_start": 64,
            "bin_end": 67,
            "count": 1
           },
           {
            "bin_start": 67,
            "bin_end": 70,
            "count": 1
           }
          ]
         }
        },
        {
         "name": "skin",
         "dtype": "float64",
         "stats": {
          "unique_count": 4,
          "nan_count": 0,
          "min": "23.0",
          "max": "45.0",
          "histogram": [
           {
            "bin_start": 23,
            "bin_end": 25.2,
            "count": 2
           },
           {
            "bin_start": 25.2,
            "bin_end": 27.4,
            "count": 0
           },
           {
            "bin_start": 27.4,
            "bin_end": 29.6,
            "count": 0
           },
           {
            "bin_start": 29.6,
            "bin_end": 31.8,
            "count": 0
           },
           {
            "bin_start": 31.8,
            "bin_end": 34,
            "count": 1
           },
           {
            "bin_start": 34,
            "bin_end": 36.2,
            "count": 1
           },
           {
            "bin_start": 36.2,
            "bin_end": 38.400000000000006,
            "count": 0
           },
           {
            "bin_start": 38.400000000000006,
            "bin_end": 40.6,
            "count": 0
           },
           {
            "bin_start": 40.6,
            "bin_end": 42.8,
            "count": 0
           },
           {
            "bin_start": 42.8,
            "bin_end": 45,
            "count": 1
           }
          ]
         }
        },
        {
         "name": "test",
         "dtype": "float64",
         "stats": {
          "unique_count": 5,
          "nan_count": 0,
          "min": "88.0",
          "max": "846.0",
          "histogram": [
           {
            "bin_start": 88,
            "bin_end": 163.8,
            "count": 2
           },
           {
            "bin_start": 163.8,
            "bin_end": 239.6,
            "count": 1
           },
           {
            "bin_start": 239.6,
            "bin_end": 315.4,
            "count": 0
           },
           {
            "bin_start": 315.4,
            "bin_end": 391.2,
            "count": 0
           },
           {
            "bin_start": 391.2,
            "bin_end": 467,
            "count": 0
           },
           {
            "bin_start": 467,
            "bin_end": 542.8,
            "count": 0
           },
           {
            "bin_start": 542.8,
            "bin_end": 618.6,
            "count": 1
           },
           {
            "bin_start": 618.6,
            "bin_end": 694.4,
            "count": 0
           },
           {
            "bin_start": 694.4,
            "bin_end": 770.1999999999999,
            "count": 0
           },
           {
            "bin_start": 770.1999999999999,
            "bin_end": 846,
            "count": 1
           }
          ]
         }
        },
        {
         "name": "mass",
         "dtype": "float64",
         "stats": {
          "unique_count": 5,
          "nan_count": 0,
          "min": "28.1",
          "max": "43.1",
          "histogram": [
           {
            "bin_start": 28.1,
            "bin_end": 29.6,
            "count": 1
           },
           {
            "bin_start": 29.6,
            "bin_end": 31.1,
            "count": 3
           },
           {
            "bin_start": 31.1,
            "bin_end": 32.6,
            "count": 0
           },
           {
            "bin_start": 32.6,
            "bin_end": 34.1,
            "count": 0
           },
           {
            "bin_start": 34.1,
            "bin_end": 35.6,
            "count": 0
           },
           {
            "bin_start": 35.6,
            "bin_end": 37.1,
            "count": 0
           },
           {
            "bin_start": 37.1,
            "bin_end": 38.6,
            "count": 0
           },
           {
            "bin_start": 38.6,
            "bin_end": 40.1,
            "count": 0
           },
           {
            "bin_start": 40.1,
            "bin_end": 41.6,
            "count": 0
           },
           {
            "bin_start": 41.6,
            "bin_end": 43.1,
            "count": 1
           }
          ]
         }
        },
        {
         "name": "pedi",
         "dtype": "float64",
         "stats": {
          "unique_count": 5,
          "nan_count": 0,
          "min": "0.158",
          "max": "2.288",
          "histogram": [
           {
            "bin_start": 0.158,
            "bin_end": 0.371,
            "count": 3
           },
           {
            "bin_start": 0.371,
            "bin_end": 0.584,
            "count": 1
           },
           {
            "bin_start": 0.584,
            "bin_end": 0.797,
            "count": 0
           },
           {
            "bin_start": 0.797,
            "bin_end": 1.01,
            "count": 0
           },
           {
            "bin_start": 1.01,
            "bin_end": 1.2229999999999999,
            "count": 0
           },
           {
            "bin_start": 1.2229999999999999,
            "bin_end": 1.436,
            "count": 0
           },
           {
            "bin_start": 1.436,
            "bin_end": 1.6489999999999998,
            "count": 0
           },
           {
            "bin_start": 1.6489999999999998,
            "bin_end": 1.8619999999999999,
            "count": 0
           },
           {
            "bin_start": 1.8619999999999999,
            "bin_end": 2.075,
            "count": 0
           },
           {
            "bin_start": 2.075,
            "bin_end": 2.288,
            "count": 1
           }
          ]
         }
        },
        {
         "name": "age",
         "dtype": "int64",
         "stats": {
          "unique_count": 5,
          "nan_count": 0,
          "min": "21",
          "max": "59",
          "histogram": [
           {
            "bin_start": 21,
            "bin_end": 24.8,
            "count": 1
           },
           {
            "bin_start": 24.8,
            "bin_end": 28.6,
            "count": 1
           },
           {
            "bin_start": 28.6,
            "bin_end": 32.4,
            "count": 0
           },
           {
            "bin_start": 32.4,
            "bin_end": 36.2,
            "count": 1
           },
           {
            "bin_start": 36.2,
            "bin_end": 40,
            "count": 0
           },
           {
            "bin_start": 40,
            "bin_end": 43.8,
            "count": 0
           },
           {
            "bin_start": 43.8,
            "bin_end": 47.599999999999994,
            "count": 0
           },
           {
            "bin_start": 47.599999999999994,
            "bin_end": 51.4,
            "count": 0
           },
           {
            "bin_start": 51.4,
            "bin_end": 55.199999999999996,
            "count": 1
           },
           {
            "bin_start": 55.199999999999996,
            "bin_end": 59,
            "count": 1
           }
          ]
         }
        },
        {
         "name": "class",
         "dtype": "int64",
         "stats": {
          "unique_count": 2,
          "nan_count": 0,
          "min": "0",
          "max": "1",
          "histogram": [
           {
            "bin_start": 0,
            "bin_end": 0.1,
            "count": 1
           },
           {
            "bin_start": 0.1,
            "bin_end": 0.2,
            "count": 0
           },
           {
            "bin_start": 0.2,
            "bin_end": 0.30000000000000004,
            "count": 0
           },
           {
            "bin_start": 0.30000000000000004,
            "bin_end": 0.4,
            "count": 0
           },
           {
            "bin_start": 0.4,
            "bin_end": 0.5,
            "count": 0
           },
           {
            "bin_start": 0.5,
            "bin_end": 0.6000000000000001,
            "count": 0
           },
           {
            "bin_start": 0.6000000000000001,
            "bin_end": 0.7000000000000001,
            "count": 0
           },
           {
            "bin_start": 0.7000000000000001,
            "bin_end": 0.8,
            "count": 0
           },
           {
            "bin_start": 0.8,
            "bin_end": 0.9,
            "count": 0
           },
           {
            "bin_start": 0.9,
            "bin_end": 1,
            "count": 4
           }
          ]
         }
        },
        {
         "name": "_deepnote_index_column",
         "dtype": "int64"
        }
       ],
       "rows_top": [
        {
         "preg": 1,
         "plas": 89,
         "pres": 66,
         "skin": 23,
         "test": 94,
         "mass": 28.1,
         "pedi": 0.167,
         "age": 21,
         "class": 0,
         "_deepnote_index_column": 0
        },
        {
         "preg": 0,
         "plas": 137,
         "pres": 40,
         "skin": 35,
         "test": 168,
         "mass": 43.1,
         "pedi": 2.288,
         "age": 33,
         "class": 1,
         "_deepnote_index_column": 1
        },
        {
         "preg": 3,
         "plas": 78,
         "pres": 50,
         "skin": 32,
         "test": 88,
         "mass": 31,
         "pedi": 0.248,
         "age": 26,
         "class": 1,
         "_deepnote_index_column": 2
        },
        {
         "preg": 2,
         "plas": 197,
         "pres": 70,
         "skin": 45,
         "test": 543,
         "mass": 30.5,
         "pedi": 0.158,
         "age": 53,
         "class": 1,
         "_deepnote_index_column": 3
        },
        {
         "preg": 1,
         "plas": 189,
         "pres": 60,
         "skin": 23,
         "test": 846,
         "mass": 30.1,
         "pedi": 0.398,
         "age": 59,
         "class": 1,
         "_deepnote_index_column": 4
        }
       ],
       "rows_bottom": null
      },
      "text/plain": "   preg   plas  pres  skin   test  mass   pedi  age  class\n0     1   89.0  66.0  23.0   94.0  28.1  0.167   21      0\n1     0  137.0  40.0  35.0  168.0  43.1  2.288   33      1\n2     3   78.0  50.0  32.0   88.0  31.0  0.248   26      1\n3     2  197.0  70.0  45.0  543.0  30.5  0.158   53      1\n4     1  189.0  60.0  23.0  846.0  30.1  0.398   59      1",
      "text/html": "<div>\n<style scoped>\n    .dataframe tbody tr th:only-of-type {\n        vertical-align: middle;\n    }\n\n    .dataframe tbody tr th {\n        vertical-align: top;\n    }\n\n    .dataframe thead th {\n        text-align: right;\n    }\n</style>\n<table border=\"1\" class=\"dataframe\">\n  <thead>\n    <tr style=\"text-align: right;\">\n      <th></th>\n      <th>preg</th>\n      <th>plas</th>\n      <th>pres</th>\n      <th>skin</th>\n      <th>test</th>\n      <th>mass</th>\n      <th>pedi</th>\n      <th>age</th>\n      <th>class</th>\n    </tr>\n  </thead>\n  <tbody>\n    <tr>\n      <th>0</th>\n      <td>1</td>\n      <td>89.0</td>\n      <td>66.0</td>\n      <td>23.0</td>\n      <td>94.0</td>\n      <td>28.1</td>\n      <td>0.167</td>\n      <td>21</td>\n      <td>0</td>\n    </tr>\n    <tr>\n      <th>1</th>\n      <td>0</td>\n      <td>137.0</td>\n      <td>40.0</td>\n      <td>35.0</td>\n      <td>168.0</td>\n      <td>43.1</td>\n      <td>2.288</td>\n      <td>33</td>\n      <td>1</td>\n    </tr>\n    <tr>\n      <th>2</th>\n      <td>3</td>\n      <td>78.0</td>\n      <td>50.0</td>\n      <td>32.0</td>\n      <td>88.0</td>\n      <td>31.0</td>\n      <td>0.248</td>\n      <td>26</td>\n      <td>1</td>\n    </tr>\n    <tr>\n      <th>3</th>\n      <td>2</td>\n      <td>197.0</td>\n      <td>70.0</td>\n      <td>45.0</td>\n      <td>543.0</td>\n      <td>30.5</td>\n      <td>0.158</td>\n      <td>53</td>\n      <td>1</td>\n    </tr>\n    <tr>\n      <th>4</th>\n      <td>1</td>\n      <td>189.0</td>\n      <td>60.0</td>\n      <td>23.0</td>\n      <td>846.0</td>\n      <td>30.1</td>\n      <td>0.398</td>\n      <td>59</td>\n      <td>1</td>\n    </tr>\n  </tbody>\n</table>\n</div>"
     },
     "metadata": {}
    }
   ],
   "execution_count": null
  },
  {
   "cell_type": "markdown",
   "source": "## Splitting Data into Training, Validation, and Testing",
   "metadata": {
    "id": "00EMh2hBEWlc",
    "colab_type": "text",
    "cell_id": "00012-5384c523-24c7-4e44-8511-7c188708fb47",
    "deepnote_cell_type": "markdown"
   }
  },
  {
   "cell_type": "code",
   "metadata": {
    "id": "fBtdMz_vEWld",
    "colab_type": "code",
    "colab": {},
    "cell_id": "00013-7f657106-3e82-4c47-bfa5-5d28fb74be4f",
    "deepnote_to_be_reexecuted": false,
    "source_hash": "59364d98",
    "execution_start": 1625683495331,
    "execution_millis": 1,
    "deepnote_cell_type": "code"
   },
   "source": "X_cols = ['preg', 'plas', 'pres', 'skin', 'test', 'mass', 'pedi', 'age']\n\ny_col = 'class'\n\ntest_size = 0.2\nX_train, X_test, y_train, y_test = train_test_split(data[X_cols], data[y_col], test_size=test_size, random_state=0)\n\n# Further split X and y of training into training and validation sets\nX_train, X_val, y_train, y_val = train_test_split(X_train, y_train, test_size=test_size, random_state=0)",
   "outputs": [],
   "execution_count": null
  },
  {
   "cell_type": "markdown",
   "source": "## Building the Model\nNext, we create a model using SVC, and fit the data.",
   "metadata": {
    "id": "HBR277yFEWli",
    "colab_type": "text",
    "cell_id": "00014-dd549bb2-e0e8-4cfa-a751-ef726d18d518",
    "deepnote_cell_type": "markdown"
   }
  },
  {
   "cell_type": "code",
   "metadata": {
    "id": "pW-Ac5pQEWll",
    "colab_type": "code",
    "colab": {
     "base_uri": "https://localhost:8080/",
     "height": 92
    },
    "outputId": "dad5e52b-84a1-40a2-cd7e-7cbdb6d96564",
    "cell_id": "00015-73467eb6-5ba4-437f-85db-f6d3a499fd64",
    "deepnote_to_be_reexecuted": false,
    "source_hash": "2c26612f",
    "execution_start": 1625683530779,
    "execution_millis": 57,
    "deepnote_cell_type": "code"
   },
   "source": "# Creating a model with sklearn's SVC\nsvm = SVC(gamma=.1, C=2)\n\n# Training/fitting a model with training data\nsvm.fit(X_train, y_train)",
   "outputs": [
    {
     "output_type": "execute_result",
     "execution_count": 10,
     "data": {
      "text/plain": "SVC(C=2, gamma=0.1)"
     },
     "metadata": {}
    }
   ],
   "execution_count": null
  },
  {
   "cell_type": "markdown",
   "source": "## Evaluation",
   "metadata": {
    "id": "1DnG36VMEWlq",
    "colab_type": "text",
    "cell_id": "00016-799ecaa9-3a78-4066-a39a-31fe7a20a05d",
    "deepnote_cell_type": "markdown"
   }
  },
  {
   "cell_type": "code",
   "metadata": {
    "id": "hPkcLqS_EWlr",
    "colab_type": "code",
    "colab": {
     "base_uri": "https://localhost:8080/",
     "height": 55
    },
    "outputId": "f59b6a20-761b-4af7-eba5-fd3044534526",
    "cell_id": "00017-51e4ea9b-a481-4a19-aed4-4b38d2e6bd54",
    "deepnote_to_be_reexecuted": false,
    "source_hash": "73f124ce",
    "execution_start": 1625683532594,
    "execution_millis": 20,
    "deepnote_cell_type": "code"
   },
   "source": "# Printing accuracy of training and validation data\ny_train_pred=svm.predict(X_train)\nprint(\"Training Accuracy is \", accuracy_score(y_train, y_train_pred)*100)\ny_val_pred=svm.predict(X_val)\nprint(\"Validation Accuracy is \", accuracy_score(y_val,y_val_pred)*100)",
   "outputs": [
    {
     "name": "stdout",
     "text": "Training Accuracy is  100.0\nValidation Accuracy is  63.49206349206349\n",
     "output_type": "stream"
    }
   ],
   "execution_count": null
  },
  {
   "cell_type": "markdown",
   "source": "As you can see above, despite achieving a training accuracy of 100%, the validation accuracy is only 63%. This suggests that the model has been **over-fit**! In general if your training accuracy reaches 100%, you've most likely over-fit your model.\n\nPlay around with the parameters to try to balance out the accuracies. You can start with the ones we've mentioned above, but look through documentation for more options!",
   "metadata": {
    "id": "POLOa6NAEWlu",
    "colab_type": "text",
    "cell_id": "00018-ac475caa-d0dc-4a34-b273-d97dd40e24c0",
    "deepnote_cell_type": "markdown"
   }
  },
  {
   "cell_type": "markdown",
   "source": "Once you feel like your model's at a good place, you can do one last evaluation using the **testing data**. Don't forget, your testing data should never be used to change your model and is reserved for one last evaluation.",
   "metadata": {
    "id": "Cjb0uy-jEWlv",
    "colab_type": "text",
    "cell_id": "00019-cfd8f4d1-2533-402a-a6d8-7753e0ddd909",
    "deepnote_cell_type": "markdown"
   }
  },
  {
   "cell_type": "code",
   "metadata": {
    "id": "RmyJg3jvEWlw",
    "colab_type": "code",
    "colab": {
     "base_uri": "https://localhost:8080/",
     "height": 73
    },
    "outputId": "c5cb3fa0-5f2f-4c36-cd2e-9e9f90e8fe21",
    "cell_id": "00020-bc479e53-4618-4b3c-a072-6a431524bcc7",
    "deepnote_to_be_reexecuted": false,
    "source_hash": "47e3d252",
    "execution_start": 1625523231177,
    "execution_millis": 11,
    "deepnote_cell_type": "code"
   },
   "source": "y_test_pred=svm.predict(X_test)\n\nprint(\"Training Accuracy is \", accuracy_score(y_train, y_train_pred)*100)\nprint(\"Validation Accuracy is \", accuracy_score(y_val,y_val_pred)*100)\nprint(\"Testing Accuracy is \", accuracy_score(y_test,y_test_pred)*100)",
   "outputs": [
    {
     "name": "stdout",
     "text": "Training Accuracy is  100.0\nValidation Accuracy is  63.49206349206349\nTesting Accuracy is  68.35443037974683\n",
     "output_type": "stream"
    }
   ],
   "execution_count": null
  },
  {
   "cell_type": "markdown",
   "source": "# Conclusion\nPros of SVM\n- SVM works well with small data sets with many attributes\n- SVM models run fast and don't use much memory, as they only depend on a few support vectors\n\nCons of SVM\n- Training time is long, which isn't well suited for larger data sets\n- SVM is less effective on \"noisier\" datasets with overlapping classes\n- Results are very dependent on parameters, which can be hard to tune on small data sets",
   "metadata": {
    "id": "YmfXxVxgEWl0",
    "colab_type": "text",
    "cell_id": "00021-adc8619e-6019-459a-bde4-dd2b57333e73",
    "deepnote_cell_type": "markdown"
   }
  },
  {
   "cell_type": "markdown",
   "source": "## Resource\n\nLesson adapted from https://medium.com/machine-learning-101\n> This is really great series of articles on introductory machine learning, take a look if you feel like you need additional clarification",
   "metadata": {
    "id": "oOiqnNAbEWl2",
    "colab_type": "text",
    "cell_id": "00022-b020f21b-8096-4746-bdf2-6c7e947a7fc5",
    "deepnote_cell_type": "markdown"
   }
  },
  {
   "cell_type": "markdown",
   "source": "<a style='text-decoration:none;line-height:16px;display:flex;color:#5B5B62;padding:10px;justify-content:end;' href='https://deepnote.com?utm_source=created-in-deepnote-cell&projectId=6aa92908-daf4-47cc-a24d-1e94a9949d60' target=\"_blank\">\n<img alt='Created in deepnote.com' style='display:inline;max-height:16px;margin:0px;margin-right:7.5px;' src='data:image/svg+xml;base64,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' > </img>\nCreated in <span style='font-weight:600;margin-left:4px;'>Deepnote</span></a>",
   "metadata": {
    "tags": [],
    "created_in_deepnote_cell": true,
    "deepnote_cell_type": "markdown"
   }
  }
 ],
 "nbformat": 4,
 "nbformat_minor": 0,
 "metadata": {
  "colab": {
   "name": "SVM_Tutorial",
   "provenance": [],
   "collapsed_sections": []
  },
  "kernelspec": {
   "display_name": "Python 3",
   "language": "python",
   "name": "python3"
  },
  "language_info": {
   "codemirror_mode": {
    "name": "ipython",
    "version": 3
   },
   "file_extension": ".py",
   "mimetype": "text/x-python",
   "name": "python",
   "nbconvert_exporter": "python",
   "pygments_lexer": "ipython3",
   "version": "3.7.3"
  },
  "deepnote_notebook_id": "30d4917b-c1f3-437b-9e8b-e038d1036eef",
  "deepnote": {},
  "deepnote_execution_queue": []
 }
}