{
 "cells": [
  {
   "cell_type": "markdown",
   "source": "# Nearest Neighbors Exercises",
   "metadata": {
    "colab_type": "text",
    "id": "3hHvV20eD58o",
    "cell_id": "00000-3516d813-e90d-45e3-9f73-93082328bde7",
    "deepnote_cell_type": "markdown"
   }
  },
  {
   "cell_type": "code",
   "metadata": {
    "colab_type": "code",
    "id": "z1h_AAj_D4kX",
    "colab": {},
    "deepnote_to_be_reexecuted": false,
    "source_hash": "ab7040a7",
    "execution_start": 1625680987387,
    "execution_millis": 2608,
    "cell_id": "00001-76489e64-ec5b-4559-bbd5-36da37078ed5",
    "deepnote_cell_type": "code"
   },
   "source": "import numpy as np\nimport pandas as po\nimport matplotlib.pyplot as plt\n\nfrom sklearn.model_selection import train_test_split\nfrom sklearn.neighbors import KNeighborsClassifier\nfrom sklearn.metrics import accuracy_score",
   "outputs": [],
   "execution_count": null
  },
  {
   "cell_type": "markdown",
   "source": "## Problem 1\n\nConsider the following simple data-set:\n\n<img src=\"https://github.com/BeaverWorksMedlytics2020/Data_Public/raw/master/Images/Week1/knn_notebook_example_table.png\" alt=\"Example Table\" width=\"600\">\n\nNow consider the Sample:\n    $$X= 4, Y = 4, Z = 2$$",
   "metadata": {
    "id": "87tmgzNMb9tV",
    "colab_type": "text",
    "cell_id": "00002-b5f617ba-0020-49be-beeb-5985f6faf2ca",
    "deepnote_cell_type": "markdown"
   }
  },
  {
   "cell_type": "markdown",
   "source": "Using kNN, what is the class for this sample for $k = 1$ and $k = 3?$ Use the Eucledian metric.\n\nFor k = 1, the class would be 1  \nFor k = 3, the class would be 2",
   "metadata": {
    "colab_type": "text",
    "id": "gqjait37Qws0",
    "cell_id": "00003-78788524-5661-4634-8a81-afbe5d2d91d7",
    "deepnote_cell_type": "markdown"
   }
  },
  {
   "cell_type": "markdown",
   "source": "## Problem 2\nEarlier in the tutorial we were told that kNN depends on several factors, one of them being $k$. Consider the following datasets below, find the optimal value of $k$ that gives the highest accuracy. Visualize your data! Can you come up with some rule for getting a good idea of what $k$ is? \n\nHINT: look for a pattern/bound! Answer should be in terms of the size of the dataset $n$. ",
   "metadata": {
    "colab_type": "text",
    "id": "MtE0uiKuTWsI",
    "cell_id": "00004-48b19a32-4e14-4fab-b8dd-a4d79021c31c",
    "deepnote_cell_type": "markdown"
   }
  },
  {
   "cell_type": "code",
   "metadata": {
    "id": "aapncOgUo_5r",
    "colab_type": "code",
    "colab": {},
    "deepnote_to_be_reexecuted": false,
    "source_hash": "10e73169",
    "execution_start": 1625680990015,
    "execution_millis": 261,
    "cell_id": "00005-608a0daa-159a-4b0d-af73-58a17df276b5",
    "deepnote_cell_type": "code"
   },
   "source": "# Solve this problem for each of these datasets\nfrom sklearn.datasets import load_iris \nfrom sklearn.datasets import load_breast_cancer\nfrom sklearn.datasets import load_wine \n\n# Load those datasets into some easily accessible variables\n# The datasets are already normalized, so that saves us some steps!\niris = load_iris()                    #iris dataset: size = 150\nbreast_cancer = load_breast_cancer()  #diabetes dataset: size = 569\nwine = load_wine()                    #wine dataset: size 178\n\n# This function will perfom KNN classification for a specified k\ndef split_train_test_dataset(dataset, k, test_size=0.2):\n    \"\"\"Loads and performs KNN classification on the provided dataset\"\"\"\n    # Grab and split the dataset\n    X_train, X_val, y_train, y_val = train_test_split(\n        dataset.data, dataset.target, test_size=test_size, random_state=0)\n\n    # Build a KNN classifier, fit it and test its predictions\n    knn = KNeighborsClassifier(n_neighbors=k)\n    knn.fit(X_train, y_train)\n    #print(\"Validation Accuracy is {:5.1%}\".format(\n    #    accuracy_score(y_val, knn.predict(X_val))))\n    return accuracy_score(y_val, knn.predict(X_val))",
   "outputs": [],
   "execution_count": null
  },
  {
   "cell_type": "code",
   "metadata": {
    "tags": [],
    "deepnote_to_be_reexecuted": false,
    "source_hash": "25b16fa2",
    "execution_start": 1625680990291,
    "execution_millis": 1,
    "cell_id": "00006-50713734-056f-4e82-8150-f307f9933f34",
    "deepnote_cell_type": "code"
   },
   "source": "print(type(iris))",
   "outputs": [
    {
     "name": "stdout",
     "text": "<class 'sklearn.utils.Bunch'>\n",
     "output_type": "stream"
    }
   ],
   "execution_count": null
  },
  {
   "cell_type": "code",
   "metadata": {
    "id": "lQk-b90Kgz-S",
    "colab_type": "code",
    "colab": {},
    "deepnote_to_be_reexecuted": false,
    "source_hash": "bdfd1205",
    "execution_start": 1625680990320,
    "execution_millis": 17345,
    "cell_id": "00007-577fad07-b4b3-46ab-a094-68973b95d65c",
    "deepnote_cell_type": "code"
   },
   "source": "X_iris = []\nY_iris = []\nX_breast = []\nY_breast = []\nX_wine = []\nY_wine = []\n\nfor i in range(1, 120):\n    X_iris.append(i)\n    Y_iris.append(split_train_test_dataset(iris, i))\nprint('\\n')\n\nfor i in range(1, 455):\n    X_breast.append(i)\n    Y_breast.append(split_train_test_dataset(breast_cancer,i))\nprint('\\n')\n\nfor i in range(1,140):\n    X_wine.append(i)\n    Y_wine.append(split_train_test_dataset(wine,i))\n\nplt.subplot(1,3,1)\nplt.plot(X_iris,Y_iris,\"r-\")\nplt.subplot(1,3,2)\nplt.plot(X_breast, Y_breast, 'b-')\nplt.subplot(1,3,3)\nplt.plot(X_wine, Y_wine, 'g-')\n\nplt.show()",
   "outputs": [
    {
     "name": "stdout",
     "text": "\n\n\n\n",
     "output_type": "stream"
    },
    {
     "data": {
      "text/plain": "<Figure size 432x288 with 3 Axes>",
      "image/png": "[encoded data removed]"
     },
     "metadata": {
      "needs_background": "light",
      "image/png": {
       "width": 372,
       "height": 251
      }
     },
     "output_type": "display_data"
    }
   ],
   "execution_count": null
  },
  {
   "cell_type": "code",
   "metadata": {
    "tags": [],
    "deepnote_to_be_reexecuted": false,
    "source_hash": "cdeb9d07",
    "execution_start": 1625681007677,
    "execution_millis": 1754,
    "cell_id": "00008-f03d31a4-9f30-4850-afef-802e7993f790",
    "deepnote_cell_type": "code"
   },
   "source": "for i in range(1, 30):\n    print(i, split_train_test_dataset(iris, i))\nprint('\\n')\n\nfor i in range(5, 50):\n    print(i, split_train_test_dataset(breast_cancer, i))\nprint('\\n')\n\nfor i in range(90,115):\n    print(i, split_train_test_dataset(wine, i))\n",
   "outputs": [
    {
     "name": "stdout",
     "text": "1 1.0\n2 0.9666666666666667\n3 0.9666666666666667\n4 1.0\n5 0.9666666666666667\n6 1.0\n7 1.0\n8 1.0\n9 1.0\n10 1.0\n11 1.0\n12 1.0\n13 1.0\n14 1.0\n15 1.0\n16 1.0\n17 1.0\n18 1.0\n19 1.0\n20 1.0\n21 1.0\n22 1.0\n23 1.0\n24 1.0\n25 1.0\n26 0.9666666666666667\n27 0.9333333333333333\n28 0.9666666666666667\n29 0.9666666666666667\n\n\n5 0.9385964912280702\n6 0.9385964912280702\n7 0.9473684210526315\n8 0.9473684210526315\n9 0.9649122807017544\n10 0.9473684210526315\n11 0.9649122807017544\n12 0.9649122807017544\n13 0.9649122807017544\n14 0.9649122807017544\n15 0.9649122807017544\n16 0.9649122807017544\n17 0.9649122807017544\n18 0.9649122807017544\n19 0.9649122807017544\n20 0.9649122807017544\n21 0.9649122807017544\n22 0.9649122807017544\n23 0.9649122807017544\n24 0.9649122807017544\n25 0.9649122807017544\n26 0.9649122807017544\n27 0.956140350877193\n28 0.9649122807017544\n29 0.956140350877193\n30 0.9649122807017544\n31 0.9473684210526315\n32 0.9473684210526315\n33 0.9473684210526315\n34 0.9473684210526315\n35 0.9473684210526315\n36 0.9473684210526315\n37 0.9473684210526315\n38 0.956140350877193\n39 0.9473684210526315\n40 0.956140350877193\n41 0.9473684210526315\n42 0.956140350877193\n43 0.956140350877193\n44 0.956140350877193\n45 0.9473684210526315\n46 0.9473684210526315\n47 0.9473684210526315\n48 0.9473684210526315\n49 0.9473684210526315\n\n\n90 0.75\n91 0.75\n92 0.75\n93 0.75\n94 0.75\n95 0.8333333333333334\n96 0.8333333333333334\n97 0.8333333333333334\n98 0.8333333333333334\n99 0.8333333333333334\n100 0.8333333333333334\n101 0.8333333333333334\n102 0.8333333333333334\n103 0.8333333333333334\n104 0.8333333333333334\n105 0.8333333333333334\n106 0.8333333333333334\n107 0.8055555555555556\n108 0.8055555555555556\n109 0.8055555555555556\n110 0.8055555555555556\n111 0.8055555555555556\n112 0.7777777777777778\n113 0.7777777777777778\n114 0.7777777777777778\n",
     "output_type": "stream"
    }
   ],
   "execution_count": null
  },
  {
   "cell_type": "markdown",
   "source": "Write a single mathematical expression describing the relationship you found between $n$ (the size of the dataset) and $k$ (the number of datapoints used to classify each validation datum).\n\nThe optimal value for K is approximately sqrt(n).",
   "metadata": {
    "id": "n1_EbFlqzjAT",
    "colab_type": "text",
    "cell_id": "00009-501336ac-7fee-476f-9e7f-4a0ebe015eac",
    "deepnote_cell_type": "markdown"
   }
  },
  {
   "cell_type": "markdown",
   "source": "## Problem 3\nNow, we will **be writing our k-NNA**. Recall that we said a kNN is comprised of a predictions and using those predictions to classify the data. Here we will try to mimic sklearn's kNN methods. We will be using the Pima diabetes dataset. ",
   "metadata": {
    "colab_type": "text",
    "id": "-vDZy0F3eyeH",
    "cell_id": "00010-9103de7f-01c0-445f-92f6-7e13f0b5e047",
    "deepnote_cell_type": "markdown"
   }
  },
  {
   "cell_type": "markdown",
   "source": "### Loading and splitting data",
   "metadata": {
    "id": "8YFfjG9G3lVO",
    "colab_type": "text",
    "cell_id": "00011-6606701c-3396-4646-86d7-8b30779de467",
    "deepnote_cell_type": "markdown"
   }
  },
  {
   "cell_type": "code",
   "metadata": {
    "colab_type": "code",
    "id": "zbs8WICFgITd",
    "colab": {},
    "deepnote_to_be_reexecuted": false,
    "source_hash": "ac1b2bb9",
    "execution_start": 1625681009498,
    "execution_millis": 86,
    "cell_id": "00012-e493e8e3-7c8c-47fb-b077-1ebfe65cb298",
    "deepnote_cell_type": "code"
   },
   "source": "url = \"https://github.com/BeaverWorksMedlytics2020/Data_Public/raw/master/NotebookExampleData/Week1/diabetes.csv\"\nnames = ['preg', 'plas', 'pres', 'skin', 'test', 'mass', 'pedi', 'age', 'class']\ndata = po.read_csv(url, names=names)\n\n# Dropping NaN rows\ninvalid = ['plas', 'pres', 'skin', 'test', 'mass']\n\nfor i in invalid:\n    data[i].replace(to_replace=0, value=np.nan, inplace=True)\n    \ndata = data.dropna(axis=0).reset_index(drop=True)",
   "outputs": [],
   "execution_count": null
  },
  {
   "cell_type": "markdown",
   "source": "Now, let's clearly define which columns will act as explanatory variables, and which column will be the target value, and split the dataset between your training data and testing data. Let's try an 80-20 split and use sklearn's [train_test_split](http://scikit-learn.org/stable/modules/generated/sklearn.model_selection.train_test_split.html) method (set random_state = 0 so we get the same output each time).",
   "metadata": {
    "id": "aSUwHL6-4P2F",
    "colab_type": "text",
    "cell_id": "00013-0f05cea1-efaf-43db-91a0-bf8787a3a498",
    "deepnote_cell_type": "markdown"
   }
  },
  {
   "cell_type": "code",
   "metadata": {
    "colab_type": "code",
    "id": "9MXZjxRcgy78",
    "colab": {
     "base_uri": "https://localhost:8080/",
     "height": 68
    },
    "outputId": "91bb35f5-9c29-4c6b-dbba-7a0644a3e2ca",
    "deepnote_to_be_reexecuted": false,
    "source_hash": "d98a6cd6",
    "execution_start": 1625681009596,
    "execution_millis": 47,
    "cell_id": "00014-898b8c09-c48b-4bae-827d-7e59ae25139e",
    "deepnote_cell_type": "code"
   },
   "source": "# Columns we will use to make predictions with (features!) feel free to play around with these\nX_cols = ['preg', 'plas', 'pres', 'skin', 'test', 'mass', 'pedi', 'age']\n\n# Column that we want to predict (the labels)\ny_col = 'class'\n\n# 80-20 train-test split of datset\ntest_size = 0.2\nX_train, X_test, y_train, y_test = train_test_split(data[X_cols], data[y_col], test_size=test_size, random_state=0)\n\n# Further split X and y of training into training and validation sets\nX_train, X_val, y_train, y_val = train_test_split(X_train, y_train, test_size=test_size, random_state=0)\n\nprint('There are {} training samples with {} features and {} associated classification labels'.format(*X_train.shape, *y_train.shape))\nprint('There are {} validation samples with {} features and {} associated classification labels'.format(*X_val.shape, *y_val.shape))\nprint('There are {} test samples with {} features and {} associated classification labels'.format(*X_test.shape, *y_test.shape))",
   "outputs": [
    {
     "name": "stdout",
     "text": "There are 250 training samples with 8 features and 250 associated classification labels\nThere are 63 validation samples with 8 features and 63 associated classification labels\nThere are 79 test samples with 8 features and 79 associated classification labels\n",
     "output_type": "stream"
    }
   ],
   "execution_count": null
  },
  {
   "cell_type": "markdown",
   "source": "### Normalizing Data\n\nLet's not forget to normalize the data! We'll use sklearn's StandardScaler normalization like we did before to normalize the training **and** validation/data.",
   "metadata": {
    "colab_type": "text",
    "id": "De_EJnYKgz_6",
    "cell_id": "00015-025c5fe7-8c54-4e83-80d9-adac7281afc4",
    "deepnote_cell_type": "markdown"
   }
  },
  {
   "cell_type": "code",
   "metadata": {
    "colab_type": "code",
    "id": "6PD6-ibriBJO",
    "colab": {},
    "deepnote_to_be_reexecuted": false,
    "source_hash": "844e8ff7",
    "execution_start": 1625681009638,
    "execution_millis": 44,
    "cell_id": "00016-3e4def1d-3405-4f92-adab-54b24596f609",
    "deepnote_cell_type": "code"
   },
   "source": "from sklearn.preprocessing import StandardScaler\n\nscaler = StandardScaler()\n\nfor i in list(X_train):\n    feature_data_train = X_train[i].values.reshape(-1, 1)\n    scaler.fit(feature_data_train)\n    X_train[i] = scaler.transform(feature_data_train)\n\nfor j in list(X_test):\n    feature_data_test = X_test[j].values.reshape(-1, 1)\n    scaler.fit(feature_data_test)\n    X_test[j] = scaler.transform(feature_data_test)\n    \nfor k in list(X_val):\n    feature_data_val = X_val[k].values.reshape(-1, 1)\n    scaler.fit(feature_data_val)\n    X_val[k] = scaler.transform(feature_data_val)",
   "outputs": [],
   "execution_count": null
  },
  {
   "cell_type": "markdown",
   "source": "### Writing your kNN\n\nNow for the fun part! Fill in the 3 following methods, euclidean_dist(), predict(), and knn().\n\nThe predict method that we'll make below needs to: \n1. Compute the euclidean distance between the “new” observation and all the data points in the training set. \n2. Assign the corresponding label to the observation\n3. Select the k nearest ones and perform a \"majority vote\"",
   "metadata": {
    "colab_type": "text",
    "id": "hnv61aiiitxU",
    "cell_id": "00017-cb1ec741-2402-45be-946d-684607987e7e",
    "deepnote_cell_type": "markdown"
   }
  },
  {
   "cell_type": "code",
   "metadata": {
    "id": "xXkIw6zN3lVb",
    "colab_type": "code",
    "colab": {},
    "deepnote_to_be_reexecuted": false,
    "source_hash": "9c4668ff",
    "execution_start": 1625681009690,
    "execution_millis": 2,
    "cell_id": "00018-dd303161-9633-41b8-8701-583282a18ab9",
    "deepnote_cell_type": "code"
   },
   "source": "# Euclidean distance function from tutorial\ndef euclidean_dist(datum1, datum2):\n    inner_val = 0.0\n    \n    for g in range(datum1.shape[0]):\n        inner_val += (datum1[g]- datum2[g]) ** 2\n    \n    distance = np.sqrt(inner_val)\n    return(distance)",
   "outputs": [],
   "execution_count": null
  },
  {
   "cell_type": "code",
   "metadata": {
    "colab_type": "code",
    "id": "FqJkm_ytjFgM",
    "colab": {},
    "deepnote_to_be_reexecuted": false,
    "source_hash": "dbacdab0",
    "execution_start": 1625682791470,
    "execution_millis": 111,
    "cell_id": "00019-8dfb244d-0129-43d1-8ce9-d445b2dd3ba6",
    "deepnote_cell_type": "code"
   },
   "source": "from collections import Counter\n#print(X_val.head(5))\n#print(y_train.head(5))\n#print(X_val.iloc[0])\n\ndef predict(x_training, y_training, x_test_sample, k):\n    # Create list for distances and targets\n\n    distances = []\n    targets = []\n    \n    for x in range(len(x_test_sample)):\n        distances.append([euclidean_dist(x_training.iloc[x].values,x_test_sample.values),x])\n    distances = sorted(distances)\n    \n    print(distances)\n    #print(len(distances))\n    \n    for i in range(k):\n        dis = distances[i][1]\n        targets.append(y_training.iloc[dis])\n    c = Counter(targets)\n    return c.most_common()[0][0]\n\n\n#print(predict(X_train, y_train, X_val.iloc[0], k =5))\n#print(y_train.head(5))",
   "outputs": [
    {
     "name": "stdout",
     "text": "         preg      plas      pres      skin      test      mass      pedi  \\\n112  1.209666  0.235141  0.671314  0.617177  1.421038  1.510127 -0.742346   \n42  -0.658200 -1.661758 -1.607084 -1.100871 -0.745255 -1.562683 -0.514171   \n62   0.088946  1.319084 -0.467885  0.617177  0.352628  0.116644 -0.425586   \n263  0.088946  1.108317 -0.040686 -1.100871 -0.531573 -0.228750 -0.661814   \n206 -0.658200  1.379303 -0.183086  1.702260  2.961021  1.057543  0.503221   \n\n          age  \n112  2.632404  \n42  -0.979388  \n62   0.224543  \n263 -0.076440  \n206 -0.076440  \n173    0\n289    0\n115    1\n335    0\n181    0\nName: class, dtype: int64\npreg    1.209666\nplas    0.235141\npres    0.671314\nskin    0.617177\ntest    1.421038\nmass    1.510127\npedi   -0.742346\nage     2.632404\nName: 112, dtype: float64\n",
     "output_type": "stream"
    }
   ],
   "execution_count": null
  },
  {
   "cell_type": "code",
   "metadata": {
    "id": "BguZLcRa3lVh",
    "colab_type": "code",
    "colab": {},
    "deepnote_to_be_reexecuted": false,
    "source_hash": "d66b6dd",
    "execution_start": 1625683062738,
    "execution_millis": 17,
    "cell_id": "00020-38ead51d-72dc-4f3b-b218-9bdb034146ad",
    "deepnote_cell_type": "code"
   },
   "source": "def knn(x_training, y_training, x_testing, k):\n    \n    # YOUR CODE HERE\n    predictions = []\n    for i in range(len(x_testing)):\n        predictions.append(predict(x_training, y_training, x_testing.iloc[i], k))\n    \n    return predictions",
   "outputs": [],
   "execution_count": null
  },
  {
   "cell_type": "markdown",
   "source": "When done, test your code by running the methods here!",
   "metadata": {
    "colab_type": "text",
    "id": "4uhQZPIpjdo9",
    "cell_id": "00021-49b1dfb8-876b-4bc9-9e3d-d3ddd80a612c",
    "deepnote_cell_type": "markdown"
   }
  },
  {
   "cell_type": "code",
   "metadata": {
    "colab_type": "code",
    "id": "AHRJXVr7jcao",
    "colab": {},
    "deepnote_to_be_reexecuted": false,
    "source_hash": "411446fa",
    "execution_start": 1625683009505,
    "execution_millis": 262,
    "cell_id": "00022-1ad38589-9f44-467b-abd6-2263b9710f08",
    "deepnote_cell_type": "code"
   },
   "source": "from sklearn.metrics import accuracy_score\nimport time\n\nstart = time.time()\npredictions_slow = knn(X_train, y_train, X_val, k=5)\n\nprint('Took {} seconds'.format(time.time() - start))\nprint(\"Validation Accuracy is \", accuracy_score(y_val,predictions_slow)*100)",
   "outputs": [
    {
     "name": "stdout",
     "text": "[[2.9578017465562643, 2], [3.988980073220532, 3], [4.376144653987124, 6], [4.5677054153319965, 4], [4.694459895226043, 5], [4.806127005388316, 1], [4.990172825227306, 7], [6.071320981419358, 0]]\n[[2.5705028555141363, 0], [2.616567726158422, 4], [2.6267988871742207, 5], [2.7353952965167396, 7], [3.094891849486243, 1], [3.940588758083138, 3], [6.009120212872763, 2], [6.061674067112084, 6]]\n[[2.005715444412722, 5], [2.027181447983004, 3], [2.710365013922749, 4], [2.9328136059204373, 2], [3.041766016875986, 1], [3.1808491952705347, 0], [3.241895266741024, 7], [4.644755136039006, 6]]\n[[1.800707031847946, 5], [2.5384457105858167, 3], [2.714036182041731, 4], [2.744305342069906, 0], [2.87927491414952, 2], [3.063537354177021, 7], [3.1420142423704367, 1], [4.185573537903491, 6]]\n[[4.406417492428614, 3], [4.682236686283322, 5], [4.7105045428338785, 2], [4.738141597553827, 1], [4.986716938846658, 4], [5.0057351223521875, 7], [5.297249471780417, 0], [6.941018333984514, 6]]\n[[3.3149641184041396, 2], [3.849094565345617, 4], [3.954490719537095, 5], [4.134008177037054, 3], [4.202710053987316, 0], [4.715769152732841, 6], [4.831653207790579, 7], [5.029910330213071, 1]]\n[[1.762991736251755, 3], [2.2258233557520843, 1], [2.666241903974385, 5], [2.8358953316239437, 7], [3.1811392902865596, 4], [3.9738026620474582, 0], [4.379021392391094, 2], [5.97469809118205, 6]]\n[[1.6189048125926722, 0], [1.8762140670741285, 5], [2.1041964589458138, 7], [2.2576966471381197, 4], [2.461189075298546, 1], [2.8866492374869184, 3], [4.401059962764294, 2], [5.626508786815486, 6]]\n[[2.5838425750987137, 3], [2.6170600898116887, 5], [3.0223373652348844, 1], [3.0652377781960816, 7], [3.2635151371288003, 4], [3.3805990481622614, 2], [3.9926085573825074, 0], [4.613268233771632, 6]]\n[[1.8097998963885717, 4], [2.386574168418702, 5], [2.705789950950255, 7], [2.9372633685057097, 3], [3.146643332398666, 0], [3.2090576145115524, 1], [3.641126773986735, 6], [3.9000324677006297, 2]]\n[[3.295735943718631, 7], [3.5265175358026983, 0], [3.5684415921000534, 4], [4.14368159795356, 1], [4.501459248138137, 5], [4.919261128574784, 3], [5.839606785192013, 2], [6.743500951189798, 6]]\n[[1.8356022386597637, 1], [2.380076251059715, 3], [2.383858189125907, 7], [3.2456290645438823, 5], [3.285272289444581, 4], [4.520786930854792, 0], [5.73588863250644, 2], [6.476697219200515, 6]]\n[[2.0812898053238014, 7], [2.1894722551327193, 4], [2.29894795262871, 5], [2.4315893724141655, 1], [2.5435031618031885, 3], [2.76533142101474, 0], [3.315654805274733, 2], [4.870796678231337, 6]]\n[[2.554712155191245, 4], [3.0750104860396568, 5], [3.080780536977311, 7], [3.452501186688476, 3], [3.4555736727646647, 1], [3.54453992383065, 0], [4.280540662292515, 2], [4.647549498800884, 6]]\n[[3.5030812548532495, 2], [3.6460752787085444, 3], [4.1672361136093, 1], [4.454187556294172, 5], [4.564558791937824, 7], [4.5687544858883005, 4], [5.420768229477048, 6], [5.720341781381904, 0]]\n[[1.625725669703027, 4], [1.7742608329379947, 7], [1.960385522048672, 3], [2.002058607541286, 5], [2.0412902693441746, 1], [3.2721205047950392, 0], [4.433778064458984, 2], [4.592964073941001, 6]]\n[[1.2897361200953172, 4], [2.190985295755979, 5], [2.347353770816181, 7], [2.5405060377524666, 3], [2.680967019021186, 1], [2.8611555121368397, 0], [4.92079571199154, 6], [4.974253033397079, 2]]\n[[4.841235131461501, 1], [4.9060624448979535, 3], [5.351527454192878, 7], [5.825840093828982, 2], [6.2525620376510265, 4], [6.298794583983505, 5], [7.311862029697065, 0], [8.060342027389364, 6]]\n[[2.031988605194673, 5], [2.3085196460233792, 0], [2.619643346301299, 7], [2.852690633769714, 4], [2.9233138795341396, 1], [3.198389612893777, 3], [4.274710525998141, 2], [5.212164219949684, 6]]\n[[3.2803660456940698, 4], [3.3223543803242377, 1], [3.3622568389420335, 7], [4.255158057263998, 0], [4.335481696480222, 3], [4.665360894559483, 5], [6.45529963651784, 2], [7.815867145861831, 6]]\n[[1.6804244054946846, 3], [2.360689892508722, 1], [2.7812913313392937, 7], [3.233649176339623, 4], [3.266784472492039, 5], [4.3672413948165225, 2], [4.9711563971841946, 0], [5.096017576024206, 6]]\n[[2.420335535662085, 3], [2.7241738086353573, 1], [2.962174987926129, 5], [3.2686700282250243, 7], [3.672441157357961, 2], [3.681438382736827, 4], [4.223271664378144, 0], [5.816951948615934, 6]]\n[[2.208143609359901, 2], [2.4518291019026304, 5], [3.201748922192204, 4], [3.21836642567905, 3], [3.2367787117041185, 0], [3.554447902179939, 6], [3.774742394331574, 7], [3.9511196436360914, 1]]\n[[2.6099807109192894, 7], [2.6588132555466113, 5], [2.8065187141968706, 4], [2.923508504753452, 1], [3.2299949408408573, 3], [3.4723463243670736, 0], [3.8925089140865627, 2], [4.515452729989686, 6]]\n[[2.5360397477278913, 5], [2.679415975224626, 7], [2.767152311595672, 1], [3.316712571272485, 3], [3.3773618219359904, 4], [3.4550869633530223, 0], [4.850618181447767, 2], [5.520711139345441, 6]]\n[[1.6278566676549655, 5], [2.0079169144216444, 0], [2.11295117829194, 7], [2.120211965433419, 4], [2.289557382380464, 1], [2.92657515918312, 3], [4.8010639644542765, 2], [5.51002513008043, 6]]\n[[2.630038096936358, 4], [3.213683778501698, 3], [3.3292038578547674, 5], [3.569744535034056, 7], [3.5886821504242854, 2], [3.7039713352891006, 1], [3.7282338057835154, 6], [4.419892811700882, 0]]\n[[3.7449000153689025, 3], [3.90226664208325, 7], [3.9866634323247827, 1], [4.144537644876994, 2], [4.390531386462924, 5], [4.5770624486516045, 4], [5.1904868097228265, 0], [5.724626072434801, 6]]\n[[1.52285018743507, 7], [1.6600662783421039, 1], [1.9053855360089127, 4], [2.087461405483642, 5], [2.2507200780885683, 3], [3.2563318453354833, 0], [4.956717093357075, 2], [5.2227645779466325, 6]]\n[[2.4521408377627765, 5], [2.5871492195416246, 7], [2.7184172824357855, 4], [2.7478325674933, 0], [3.128349955244794, 1], [3.5206300288747485, 3], [4.6634239046932775, 2], [4.9170032889510065, 6]]\n[[2.9632199613761903, 0], [2.9823851106205184, 7], [3.512816552091621, 4], [3.5850941759085826, 1], [3.639820903384354, 5], [4.156423822273796, 3], [4.520878607008753, 2], [6.1758460844891605, 6]]\n[[1.5054157003946695, 5], [2.0388608520264424, 4], [2.062098027316893, 3], [2.5200990526470237, 7], [2.5642622290343144, 1], [2.9297041589390487, 0], [3.1745245721468835, 2], [4.0561098124028705, 6]]\n[[1.7892811069644072, 6], [3.1568763914526947, 2], [3.7327110636982, 3], [4.333004991885437, 5], [4.449532381225957, 4], [5.239956896870522, 7], [5.271054268572315, 1], [6.012923949614111, 0]]\n[[2.35085235309029, 6], [3.6474987078686048, 2], [4.7839958535881575, 3], [5.373776661649225, 4], [5.4099568911793385, 5], [6.065324290418682, 7], [6.269515579656098, 1], [6.704115624962583, 0]]\n[[1.4042796228753094, 3], [1.6570490500924469, 1], [2.3495674844085794, 5], [2.413469983641859, 7], [2.997651723486527, 4], [4.036960229156739, 0], [4.5221479191069385, 2], [5.684135049281196, 6]]\n[[1.1847839139662621, 4], [1.2077892805329742, 7], [1.3929894114914205, 1], [2.101106144211539, 5], [2.1155875953604935, 3], [2.8908731202635924, 0], [4.876450689694333, 2], [5.369249860563331, 6]]\n[[2.56481695507085, 7], [2.8393883118616725, 0], [3.0269135499689064, 4], [3.3571911490386768, 1], [3.46589409503588, 5], [4.129324170485942, 3], [5.206399399564393, 2], [6.00539109417105, 6]]\n[[2.122404549917792, 2], [2.159777695802409, 5], [2.250157302610231, 3], [2.7538365526835884, 4], [3.314158786958531, 1], [3.3260906464675535, 6], [3.343889569767162, 7], [3.616269834251279, 0]]\n[[1.544464616706009, 5], [1.938637505430346, 0], [2.1396904178498395, 4], [2.380208010856339, 3], [2.43768677788255, 7], [2.611446935392599, 1], [4.208642510375213, 2], [5.2219458902876, 6]]\n[[2.3946139679907477, 3], [2.5647957250944797, 5], [2.9160050063232674, 2], [3.074182519645492, 4], [3.0996200551205226, 7], [3.1506592560584368, 1], [3.4639762970877355, 0], [4.760532896474917, 6]]\n[[5.2994976828866625, 2], [5.434717515620518, 3], [5.466209523714052, 1], [5.762347302853554, 7], [5.770440601795091, 5], [6.160331452079764, 4], [6.466468308263859, 0], [7.754416023104971, 6]]\n[[1.9924832781782287, 5], [2.103461334877004, 4], [2.570533435622244, 0], [2.723575100476817, 7], [3.1497709777624703, 1], [3.2308500489755976, 3], [4.565629361769347, 6], [4.814957690102178, 2]]\n[[1.5253954177897233, 7], [1.8927867367383073, 4], [1.999069658237102, 1], [2.3525810049890747, 5], [2.368310450457868, 0], [2.9375521238017956, 3], [4.6417077669695015, 2], [5.702220142232647, 6]]\n[[1.8977898680859362, 4], [1.9173311262787245, 7], [2.1668080422542983, 1], [2.2824993791883084, 5], [2.7647230871876163, 3], [3.249334061598668, 0], [4.449492695617893, 2], [4.754707113842376, 6]]\n[[5.765381404787256, 2], [6.0770722565094, 3], [6.100682255887957, 7], [6.328284327823694, 1], [6.382002996277597, 4], [6.485456558096218, 0], [6.516303629264718, 5], [7.865053023843402, 6]]\n[[1.9108036596656464, 5], [2.234287759532425, 7], [2.2601777493594986, 1], [2.7065619843702833, 4], [2.7133837959082343, 3], [2.7798493444054406, 0], [4.105419502262915, 2], [5.183772973461293, 6]]\n[[2.411176283211916, 0], [2.6651156944745114, 5], [3.0564190221216774, 3], [3.082182082854498, 4], [3.107497617218631, 1], [3.274665401889947, 7], [4.574487314826419, 2], [6.417646622480906, 6]]\n[[3.0067218890368625, 2], [3.280042797407768, 3], [3.3975434436489156, 5], [3.8599003288558458, 0], [3.8981618899174726, 1], [3.962756863393128, 7], [4.016335419406693, 4], [5.574282715416371, 6]]\n[[2.694636954573551, 5], [3.069171800044908, 4], [3.233608824838748, 6], [3.3657572878698256, 2], [3.521614589550206, 7], [3.56130118636915, 3], [3.6337468213613118, 0], [3.8770927800589297, 1]]\n[[3.046234375566316, 2], [3.833029463726359, 6], [4.072479441382291, 3], [5.141429383291387, 5], [5.631664190048427, 1], [5.643386609000529, 4], [5.9188731763558335, 7], [7.001473445700922, 0]]\n[[2.8273801120260575, 3], [3.089871360627743, 1], [3.721779615713754, 7], [4.1857210083924254, 5], [4.289222220632009, 4], [4.350751222487923, 2], [5.560202880626453, 0], [6.279752074448557, 6]]\n[[1.8438029435008607, 5], [1.986551082083168, 7], [2.104524842512464, 3], [2.1105401617559014, 1], [2.311568795828765, 4], [2.778742628574605, 0], [3.3993600993672803, 2], [4.916836955659104, 6]]\n[[1.6175312817968028, 5], [1.8143572530075722, 4], [2.3062583062988056, 0], [2.364611676847302, 7], [2.617629592926393, 1], [2.910198344292651, 3], [4.860304759496369, 2], [4.995695590232381, 6]]\n[[1.525012271391344, 1], [1.6710432557617807, 7], [2.1130904668109682, 3], [2.1459582986791657, 5], [2.397074575337114, 4], [3.5295167258733913, 0], [4.204299062943112, 2], [5.028909547108619, 6]]\n[[2.784563285071728, 3], [3.0545038560560815, 1], [3.5146453150225394, 5], [3.6177131755032654, 7], [3.9433116776609842, 4], [4.060649265964445, 2], [4.455726401468879, 0], [6.385344795942018, 6]]\n[[3.2815863890271304, 3], [3.29775233544207, 2], [3.5220305736471267, 4], [3.6432874771443924, 6], [3.6592492453438874, 5], [4.3192676664667875, 7], [4.340846841713625, 1], [5.062557967678075, 0]]\n[[3.439184476718555, 3], [3.5344483094912365, 5], [3.7690300466692928, 2], [4.172331021206013, 1], [4.441405560344446, 7], [4.460829734515724, 4], [4.7400555435378715, 0], [5.622567236309958, 6]]\n[[1.695225103150158, 5], [1.695877454674295, 7], [1.8899920570086388, 1], [2.168046471653961, 0], [2.1963874226081135, 4], [2.7413426299894668, 3], [4.711426291343945, 2], [5.625113221265578, 6]]\n[[2.7161307108627932, 5], [3.139131388797992, 0], [3.419645774142666, 4], [3.6857874927284975, 2], [3.6887207520505845, 3], [3.777974476493224, 7], [3.9078340818559103, 1], [5.057067483011581, 6]]\n[[1.6599252782334528, 1], [1.6897403843396857, 5], [1.7638517743370183, 7], [2.305344978845962, 4], [2.3156897892589745, 3], [2.422220766866442, 0], [4.495579962345503, 2], [5.782631643135447, 6]]\n[[1.7384285563626944, 1], [1.7392064674704997, 7], [1.961453881672157, 5], [2.018412195875256, 3], [2.025963090433852, 4], [2.970891281251255, 0], [3.51719599503508, 2], [4.853434502478124, 6]]\n[[2.4005226084286164, 3], [2.46371705385437, 2], [2.9069487155229514, 5], [3.7091506285737843, 4], [3.7505147172883064, 1], [4.048482727881991, 7], [4.356280368613232, 0], [4.482871823828283, 6]]\n[[1.7753334346543266, 5], [2.1908223878988244, 3], [2.511662385815963, 4], [2.926311541798063, 0], [2.944196486023121, 1], [3.053018860958566, 7], [3.6355495960316926, 2], [4.866763721460954, 6]]\nTook 0.2621490955352783 seconds\nValidation Accuracy is  63.49206349206349\n",
     "output_type": "stream"
    }
   ],
   "execution_count": null
  },
  {
   "cell_type": "markdown",
   "source": "Check sklearn's predictions on validation data from the tutorial notebook and make sure they match yours. Sklearn is faster, but you should get the same answers.",
   "metadata": {
    "id": "2a51RcbJ3lVq",
    "colab_type": "text",
    "cell_id": "00023-c1cbcc85-7b4b-43e0-ba12-191c319e8d60",
    "deepnote_cell_type": "markdown"
   }
  },
  {
   "cell_type": "markdown",
   "source": "<a style='text-decoration:none;line-height:16px;display:flex;color:#5B5B62;padding:10px;justify-content:end;' href='https://deepnote.com?utm_source=created-in-deepnote-cell&projectId=6aa92908-daf4-47cc-a24d-1e94a9949d60' target=\"_blank\">\n<img alt='Created in deepnote.com' style='display:inline;max-height:16px;margin:0px;margin-right:7.5px;' src='data:image/svg+xml;base64,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' > </img>\nCreated in <span style='font-weight:600;margin-left:4px;'>Deepnote</span></a>",
   "metadata": {
    "tags": [],
    "created_in_deepnote_cell": true,
    "deepnote_cell_type": "markdown"
   }
  }
 ],
 "nbformat": 4,
 "nbformat_minor": 0,
 "metadata": {
  "colab": {
   "name": "NearestNeighbors_Exercises",
   "provenance": [],
   "collapsed_sections": []
  },
  "kernelspec": {
   "display_name": "Python 3",
   "language": "python",
   "name": "python3"
  },
  "language_info": {
   "codemirror_mode": {
    "name": "ipython",
    "version": 3
   },
   "file_extension": ".py",
   "mimetype": "text/x-python",
   "name": "python",
   "nbconvert_exporter": "python",
   "pygments_lexer": "ipython3",
   "version": "3.7.3"
  },
  "deepnote_notebook_id": "d78a867c-1117-4aca-b903-0d893e9925ec",
  "deepnote": {},
  "deepnote_execution_queue": []
 }
}