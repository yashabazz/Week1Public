{
 "cells": [
  {
   "cell_type": "markdown",
   "source": "# Regression Tutorial",
   "metadata": {
    "id": "Yx4Z0yPOvpOS",
    "colab_type": "text",
    "cell_id": "00000-0fb33658-d79d-4936-96f8-b8c2d45714a5",
    "deepnote_cell_type": "markdown"
   }
  },
  {
   "cell_type": "markdown",
   "source": "# Linear Regression\n\nRegression analysis encompasses a number of ways to estimate a **dependent** (or *outcome*) variable from one or more **independent** (or *predictor*) variables. Simply put, by building a regression model, we are trying to describe the relationship between variables.\n\n**Linear regression** is a fairly simple model in which we assume the relationship between variables has a **fixed slope**, and is therefore \"linear.\" Linear regression can have multiple independent variables, but for now we'll start with using just one.",
   "metadata": {
    "colab_type": "text",
    "id": "0KE43I0pt8wl",
    "cell_id": "00001-4e893c95-4e08-45d0-a704-f63beb9e986a",
    "deepnote_cell_type": "markdown"
   }
  },
  {
   "cell_type": "markdown",
   "source": "## Example problem",
   "metadata": {
    "colab_type": "text",
    "id": "N-jcbfqyt8wp",
    "cell_id": "00002-395f418e-ff28-4fe9-b1e9-5641f33363f2",
    "deepnote_cell_type": "markdown"
   }
  },
  {
   "cell_type": "markdown",
   "source": "For our example, we'll use linear regression to predict housing prices in Portland, Oregon. Imagine you are trying to sell a house and you want to find a good price to list it at. One obvious thing to do is to find prices that houses have sold for in the past. House prices differ greatly, so we need to find characteristics of houses that impact sale price. A simple, numerical quality that should increase the value of a house is floor area.\n\nOur data set includes both square feet and house value. To see the relationship between these two variables, we can plot them using matplotlib. Note that the area is in column 0, and the price is in column 2.",
   "metadata": {
    "id": "4FqRx0uxvpOe",
    "colab_type": "text",
    "cell_id": "00003-8c641858-d899-448c-bf68-1b95a9cf4a76",
    "deepnote_cell_type": "markdown"
   }
  },
  {
   "cell_type": "markdown",
   "source": "### Load and visualize data",
   "metadata": {
    "colab_type": "text",
    "id": "qquhRJXit8wr",
    "cell_id": "00004-e4411b94-94ba-4a62-8e49-0e1019ac5470",
    "deepnote_cell_type": "markdown"
   }
  },
  {
   "cell_type": "code",
   "metadata": {
    "colab_type": "code",
    "id": "aM0-NVowt8wt",
    "colab": {},
    "cell_id": "00005-ca712874-4132-47e5-b24e-26fcb7ad203b",
    "deepnote_to_be_reexecuted": false,
    "source_hash": "fc05c8",
    "execution_start": 1625522980585,
    "execution_millis": 861,
    "deepnote_cell_type": "code"
   },
   "source": "import numpy as np\nfrom matplotlib import pyplot as plt\n\n# Read data from Github\ndata_url = \"https://raw.githubusercontent.com/BeaverWorksMedlytics2020/Data_Public/master/NotebookExampleData/Week1/ex1data2.txt\"\ndata_array = np.genfromtxt(data_url, delimiter=',')\n\n# The columns in this data set are define as folows:\n\"\"\"\n    0 = floor area\n    1 = number of bedrooms\n    2 = sale price\n\"\"\"\n    \n# Store the relevant columns in more descriptive variables\nx_sqft = data_array[:,0]\ny_value = data_array[:,2]\nplt.plot(x_sqft, y_value, 'ro'); plt.xlabel(\"House Square Footage\"); plt.ylabel(\"Market value (USD)\");",
   "outputs": [
    {
     "data": {
      "text/plain": "<Figure size 432x288 with 1 Axes>",
      "image/png": "[encoded data removed]"
     },
     "metadata": {
      "needs_background": "light",
      "image/png": {
       "width": 407,
       "height": 262
      }
     },
     "output_type": "display_data"
    }
   ],
   "execution_count": null
  },
  {
   "cell_type": "markdown",
   "source": "There definitely seems to be a trend: houses with greater area tend to have higher market value. That said, it's not a perfect predictor.\n\nIf we draw a line through the data following this trend, we could use it to predict the value of other houses. This is called a **trend line**. For example, even if we don't have a house in the dataset with 2800 sqft, we could use our line to estimate the house's value. It can be easy to draw a convincing trend line by hand, as shown in the image below.\n\n![](https://raw.githubusercontent.com/BeaverWorksMedlytics2020/Data_public/master/Images/Week1/regression1.JPG)",
   "metadata": {
    "colab_type": "text",
    "id": "njJpc4lht8w3",
    "cell_id": "00006-9d2adc62-1edc-4408-b23a-bee58930a22c",
    "deepnote_cell_type": "markdown"
   }
  },
  {
   "cell_type": "markdown",
   "source": "This looks like a good estimate for our data. However, we might want to be certain that this trend line is the best possible fit. Ideally, it should be as close as possible to as many data points as possible. Each point has an error associated with it: the vertical distance between the trend line's prediction and the actual data. With linear regression, we seek to minimize the total amount of error.\n\n![image.png](https://raw.githubusercontent.com/BeaverWorksMedlytics2020/Data_public/master/Images/Week1/regression2.JPG)",
   "metadata": {
    "colab_type": "text",
    "id": "j6iG58D4t8w4",
    "cell_id": "00007-1198f72a-3e79-45c6-ad14-c666c3d73900",
    "deepnote_cell_type": "markdown"
   }
  },
  {
   "cell_type": "markdown",
   "source": "In our case, $x$ is square footage and $y$ is market value. Then we can define the error for any datapoint as:\n$$ y_{actual} - y_{predicted} $$\n\n\nIn order to count negative and positive errors without them cancelling each other out, we take the squared error, or \n$$ (y_{actual} - y_{predicted})^2 $$\n\n\nThen for the list of market values $y_1,y_2,...,y_n$ and square footages $x_1,x_2,...,x_n$ the **total error** (or *cost*) of our line is just the sum of each error term.\n $$ \\text{Total error = } \\sum^n_{i=1} (y_i - y_{predicted})^2 $$\n$$ = \\sum^n_{i=1} (y_i - (mx_i+b))^2$$",
   "metadata": {
    "colab_type": "text",
    "id": "RaEzMH6lt8w6",
    "cell_id": "00008-34547f67-084a-4449-8ccb-cfcff27f975e",
    "deepnote_cell_type": "markdown"
   }
  },
  {
   "cell_type": "markdown",
   "source": "In linear regression, there can only one $m$ and $b$ that minimize the total error. If we plot the total error against either $m$ or $b$ as a variable, it turns out we get a U-shaped plot. This curve has changes from increasing to decreasing at a single point. At this point, the curve flattens out, and the derivative is equal to 0.\n\n![image.png](https://raw.githubusercontent.com/BeaverWorksMedlytics2020/Data_public/master/Images/Week1/regression3.JPG)\n\nThis means we can find our best fit by taking the derivative of the equation for total error. We won't go through the full derivation here, but feel free to give it a try if you're feeling adventurous. Setting the derivative equal to 0 and solving for $b$ and $m$ produces formula for the best fit trend. Here are the results:\n$$ m = \\frac{\\sum^n_{i=1} (x_i-x_{mean})(y_i-y_{mean})}{\\sum^n_{i=1} (x_i-x_{mean})^2} $$\n$$ b = y_{mean}-m*x_{mean} $$\n\n<br></br>\nTo apply this to our example, we can express these formula as a code function and apply it to the entire range of data. In the exercise notebook, you'll be doing the calculations and plotting yourself. For now, let's take a look at sklearn's LinearRegression.",
   "metadata": {
    "colab_type": "text",
    "id": "I68V5F6nt8w7",
    "cell_id": "00009-821273a6-8183-4ee0-a284-af521baf4267",
    "deepnote_cell_type": "markdown"
   }
  },
  {
   "cell_type": "markdown",
   "source": "### Creating model using sklearn",
   "metadata": {
    "colab_type": "text",
    "id": "K_lIC-BGt8w9",
    "cell_id": "00010-490b3f2a-da7b-4a9f-a467-a0ab5032c024",
    "deepnote_cell_type": "markdown"
   }
  },
  {
   "cell_type": "code",
   "metadata": {
    "colab_type": "code",
    "id": "ybxsvhPCt8w-",
    "colab": {},
    "cell_id": "00011-ffc50db2-ebf5-4468-a25f-0e4124a63aa9",
    "deepnote_to_be_reexecuted": false,
    "source_hash": "126b3756",
    "execution_start": 1625522987200,
    "execution_millis": 1348,
    "deepnote_cell_type": "code"
   },
   "source": "import sklearn.linear_model as lm\n\n# Create a linear regression model\nmodel = lm.LinearRegression()\n\n# Reshape the data to the required format for lm's fit function\n# We have to reshape the data into a column list like [[3],[3],[3]...] instead of [3, 3, 3,...]\nx_sqft_shaped = x_sqft.reshape(-1,1)\n\n# Fit onto the results\nhousepredictor = model.fit(x_sqft_shaped,y_value)",
   "outputs": [],
   "execution_count": null
  },
  {
   "cell_type": "markdown",
   "source": "Let's print the values for m and b. When you move one to the exercise notebook, your m and b values should match the ones generated with sklearn's.",
   "metadata": {
    "colab_type": "text",
    "id": "u_qva6QIt8xD",
    "cell_id": "00012-465543e5-9ebd-4d23-af4a-48f25f74ee5c",
    "deepnote_cell_type": "markdown"
   }
  },
  {
   "cell_type": "code",
   "metadata": {
    "colab_type": "code",
    "id": "JoxSwq4Pt8xE",
    "colab": {},
    "cell_id": "00013-8011acaf-5887-4b54-b866-2358c1dafe19",
    "deepnote_to_be_reexecuted": false,
    "source_hash": "122bbe16",
    "execution_start": 1625522989852,
    "execution_millis": 78,
    "deepnote_cell_type": "code"
   },
   "source": "print(housepredictor.coef_,housepredictor.intercept_)",
   "outputs": [
    {
     "name": "stdout",
     "text": "[134.52528772] 71270.49244872917\n",
     "output_type": "stream"
    }
   ],
   "execution_count": null
  },
  {
   "cell_type": "markdown",
   "source": "We can also print the R^2 value of our model.",
   "metadata": {
    "colab_type": "text",
    "id": "2BwS74dft8xI",
    "cell_id": "00014-fc3b5aa5-b724-4eba-ba8a-13f408039518",
    "deepnote_cell_type": "markdown"
   }
  },
  {
   "cell_type": "code",
   "metadata": {
    "colab_type": "code",
    "id": "5GWTa4Wut8xJ",
    "colab": {},
    "cell_id": "00015-1196f502-1b4b-43df-a906-9b614d8359aa",
    "deepnote_to_be_reexecuted": false,
    "source_hash": "e7736a97",
    "execution_start": 1625522991184,
    "execution_millis": 9,
    "deepnote_cell_type": "code"
   },
   "source": "housepredictor.score(x_sqft_shaped,y_value)",
   "outputs": [
    {
     "output_type": "execute_result",
     "execution_count": 4,
     "data": {
      "text/plain": "0.7310037839755306"
     },
     "metadata": {}
    }
   ],
   "execution_count": null
  },
  {
   "cell_type": "markdown",
   "source": "Next we will consider the case of 2 variables: floor area again and this time number of bedrooms as well. Recall 0 = floor area, 1 = number of bedrooms, and 2 = sale price.\n\nThe equation for a trend is similar to before. There is still only one $b$, but now we have a unique $m$ for each $x$ variable:\n$$ y = m_1x_1+m_2x_2+b $$\n\nThe error will look a little different, since now we are working in multiple dimensions.\n\nUsing a library means we don't have to find the total error for each possible plane ourselves. Our data already includes the number of bedrooms in column 1, so all we need to do is reshape the data and hand it to the fit function.",
   "metadata": {
    "colab_type": "text",
    "id": "l7r1qUVzt8xL",
    "cell_id": "00016-93253184-3821-4074-8096-f5e15a987131",
    "deepnote_cell_type": "markdown"
   }
  },
  {
   "cell_type": "code",
   "metadata": {
    "colab_type": "code",
    "id": "aBccFpTTt8xM",
    "colab": {},
    "cell_id": "00017-381abc47-1786-4a5b-a106-c632781b10f8",
    "deepnote_to_be_reexecuted": false,
    "source_hash": "e1b48b14",
    "execution_start": 1625522992630,
    "execution_millis": 5,
    "deepnote_cell_type": "code"
   },
   "source": "# Get the number of bedrooms\nx_rooms = data_array[:,1]\n\n# Reshape the data to the required format for lm's fit function\nx_rooms_shaped = x_rooms.reshape(-1,1)\n\n# Concatenate the data into a single array\nx_combined = np.concatenate((x_sqft_shaped,x_rooms_shaped),axis=1)\n\n# Create a new linear regression model\nmodel_2d = lm.LinearRegression()\n\n# Run fit for two independent variables\nhousepredictor_2d = model_2d.fit(x_combined,y_value)",
   "outputs": [],
   "execution_count": null
  },
  {
   "cell_type": "markdown",
   "source": "Generally speaking, more dimensions should give us a better predictive value. How can we tell if this new predictor is better? One metric we can look at is $R^2$. Called the \"coefficient of determination,\" $R^2$ describes a bit more than just correlation. Instead, it shows how much variance in dependent data is predictable from variance in independent data. More simply, its a metric for \"goodness of fit.\"\n\nLet's compare the $R^2$ values for both trend models.",
   "metadata": {
    "colab_type": "text",
    "id": "8qT-qJN-t8xP",
    "cell_id": "00018-ee718f90-6644-4030-911a-2f2746227a1d",
    "deepnote_cell_type": "markdown"
   }
  },
  {
   "cell_type": "code",
   "metadata": {
    "colab_type": "code",
    "id": "Uahmm6Qet8xQ",
    "colab": {},
    "cell_id": "00019-63eeab3e-fb3f-4b25-9a20-b41b32478308",
    "deepnote_to_be_reexecuted": false,
    "source_hash": "6facd71a",
    "execution_start": 1625522993474,
    "execution_millis": 6,
    "deepnote_cell_type": "code"
   },
   "source": "print(housepredictor.score(x_sqft_shaped,y_value))\nprint(housepredictor_2d.score(x_combined,y_value))",
   "outputs": [
    {
     "name": "stdout",
     "text": "0.7310037839755306\n0.7329450180289142\n",
     "output_type": "stream"
    }
   ],
   "execution_count": null
  },
  {
   "cell_type": "markdown",
   "source": "Interestingly, even though we added an entire new variable, the $R^2$ value barely increased using the 2D model. We can speculate as to why. Intuitively, houses with more bedrooms also have greater floor space. The two are likely correlated. This means adding it to the model didn't add much new information.\n\nAnother way of thinking about it is this: consider a point with a large error on the sqft-value trend. Perhaps the house has a large area, but is valued lower than expected. We may expect that large house to also have a large number of bedrooms. However, if number of bedrooms raises the price, this house will also look undervalued from that metric as well. Therefore adding a second dimension hasn't changed the fact that this point is an outlier in our model.",
   "metadata": {
    "colab_type": "text",
    "id": "6Ap6HsO8t8xT",
    "cell_id": "00020-42e74659-86e6-4fd8-bd06-58d471472f98",
    "deepnote_cell_type": "markdown"
   }
  },
  {
   "cell_type": "markdown",
   "source": "# Logistic Regression",
   "metadata": {
    "id": "4yXL5q6IvpQO",
    "colab_type": "text",
    "cell_id": "00021-88ab63ff-1da5-43cc-a9ee-9c261ed0ec65",
    "deepnote_cell_type": "markdown"
   }
  },
  {
   "cell_type": "markdown",
   "source": "![](https://raw.githubusercontent.com/BeaverWorksMedlytics2020/Data_public/master/Images/Week1/regression4.jpeg)\n\nLogistic regression analysis is used for predicting the outcome of a categorical variable. Typically these problems arise in terms of classifaction. The probabilities describing the possible outcomes of a single trial are modeled, as a function of the predictor variables, using a logistic function. Rather than modeling the probabilities directly, we model a function of the probabilities that is not restricted between 0 and 1. In particular, we model the log of the odds, rather than the actual probabilities. Remember the odds are defined to be the probability that the event occurs, divided by the probability that it does not occur. ",
   "metadata": {
    "colab_type": "text",
    "id": "n091LnCUt8xU",
    "cell_id": "00022-bf0842dd-2bc3-4f6f-b555-d7065e113b8a",
    "deepnote_cell_type": "markdown"
   }
  },
  {
   "cell_type": "markdown",
   "source": "As seen in the images above, the logisitic function seems to have an 'S' like shape instead of a straight line. To understand why this is, we need to delve in to some mathematics. \n\nWe consider a special function called the sigmoid function:\n\n$$\\sigma(a) = \\frac{exp (a)}{1+exp (a)}$$\n\nThis function produces an 'S' shape as shown above and its range lies between 0 and 1. A perfect fit for our model. We have an predictor $X$ which we would also like to relate to our model. So we do the following Let $a = \\beta_0 + \\beta_1X$. Then it follows\n\n$$\\frac{exp (\\beta_0 + \\beta_1X)}{1+exp (\\beta_0 + \\beta_1X)}.$$\n  \n\nThe logistic regression model expresses the population proportion p of individuals with a given attribute as a function of a single predictor variable X. The model assumes that $p = p(X)$ is related through the following:\n\n$$p = \\frac{exp (\\beta_0+\\beta_1X)}{1+exp (\\beta_0 + \\beta_1X)}$$\n\nequivalentally\n\n$$ln(\\frac{p}{1-p})= \\beta_0 +\\beta_1X $$\n\n<br></br>\n  The expression $\\frac{p}{1-p}$ is known as the odds.\n\n The logistic model assumes that the log-odds of success is linearly related. Mathematically, this makes sense if we assume $ln(\\frac{p}{1-p})$ = $y$ then we have$ y =  \\beta_0 +\\beta_1X$ a straight line!\nto $X$. \n\nGraphs of the logistic model relating $p$ to $X$ are given below. \n\n![](https://raw.githubusercontent.com/BeaverWorksMedlytics2020/Data_public/master/Images/Week1/regression5.jpg)\n\n\nSimilarly to linear line of best fit, we would like to find our logisitical best fit. For this, we use the **Maximum Likelihood Estimation**. The mathematics gets a bit rigorious for this, however, similar to setting the derivative zero for our best fit trends. If you're curious here's a link that is very interesting that delves into the topic!\n\nhttp://statweb.stanford.edu/~susan/courses/s200/lectures/lect11.pdf\n\n",
   "metadata": {
    "colab_type": "text",
    "id": "GGql7szrt8xU",
    "cell_id": "00023-fa5bda13-1565-4cf2-a3ad-6117353646ef",
    "deepnote_cell_type": "markdown"
   }
  },
  {
   "cell_type": "markdown",
   "source": "## Example problem",
   "metadata": {
    "colab_type": "text",
    "id": "wHztaRNPt8xV",
    "cell_id": "00024-6f16cbc6-9e4c-4402-976b-c0948515460d",
    "deepnote_cell_type": "markdown"
   }
  },
  {
   "cell_type": "markdown",
   "source": "In this dataset, survival times are given for 30 patients who died from **Acute Myelogenous Leukaemia**. Also measured was the patient's **white blood cell count (WBC)** at the time of diagnosis. The patients were also factored into 2 groups according to the presence or absence of a morphologic characteristic of white blood cells. Patients termed **AG positive** were identified by the presence of Auer rods and/or significant granulation of the leukaemic cells in the bone marrow at the time of diagnosis.\n\nWe are interested in modelling the **probability p of surviving at least one year as a function of WBC and AG**.",
   "metadata": {
    "colab_type": "text",
    "id": "Ms3ZOQ6Vt8xV",
    "cell_id": "00025-74320fd6-b964-4f3b-b301-0b643d6c8bef",
    "deepnote_cell_type": "markdown"
   }
  },
  {
   "cell_type": "markdown",
   "source": "### Load data",
   "metadata": {
    "colab_type": "text",
    "id": "Av4tGemJt8xV",
    "cell_id": "00026-95793874-4b9d-4f1f-93d0-aa4886b77908",
    "deepnote_cell_type": "markdown"
   }
  },
  {
   "cell_type": "code",
   "metadata": {
    "colab_type": "code",
    "id": "Sw-3pZWQt8xW",
    "colab": {},
    "outputId": "52e1d949-84ed-456a-eb21-ff659a6c89d7",
    "cell_id": "00027-c717c2cb-10ca-41c5-a484-b0f0ff2661ba",
    "deepnote_to_be_reexecuted": false,
    "source_hash": "4b34bf17",
    "execution_start": 1625522998929,
    "execution_millis": 228,
    "deepnote_cell_type": "code"
   },
   "source": "import pandas as pd\nimport numpy as np\nimport matplotlib as plt\nimport math\nimport seaborn as sns\n\nurl = \"https://raw.githubusercontent.com/bwsimedlytics/Week1Public/master/leukdata.csv\"\ndata = pd.read_csv(url)\n\n\"\"\"\n    nres: number surviving at least one year  \n    ag: 1 for AG positive, 0 for AG negative  \n    wbc: white cell blood count   \n\"\"\"\n\ndata.head(30)",
   "outputs": [
    {
     "output_type": "execute_result",
     "execution_count": 7,
     "data": {
      "application/vnd.deepnote.dataframe.v2+json": {
       "row_count": 30,
       "column_count": 3,
       "columns": [
        {
         "name": "nres",
         "dtype": "int64",
         "stats": {
          "unique_count": 2,
          "nan_count": 0,
          "min": "0",
          "max": "1",
          "histogram": [
           {
            "bin_start": 0,
            "bin_end": 0.1,
            "count": 19
           },
           {
            "bin_start": 0.1,
            "bin_end": 0.2,
            "count": 0
           },
           {
            "bin_start": 0.2,
            "bin_end": 0.30000000000000004,
            "count": 0
           },
           {
            "bin_start": 0.30000000000000004,
            "bin_end": 0.4,
            "count": 0
           },
           {
            "bin_start": 0.4,
            "bin_end": 0.5,
            "count": 0
           },
           {
            "bin_start": 0.5,
            "bin_end": 0.6000000000000001,
            "count": 0
           },
           {
            "bin_start": 0.6000000000000001,
            "bin_end": 0.7000000000000001,
            "count": 0
           },
           {
            "bin_start": 0.7000000000000001,
            "bin_end": 0.8,
            "count": 0
           },
           {
            "bin_start": 0.8,
            "bin_end": 0.9,
            "count": 0
           },
           {
            "bin_start": 0.9,
            "bin_end": 1,
            "count": 11
           }
          ]
         }
        },
        {
         "name": "ag",
         "dtype": "int64",
         "stats": {
          "unique_count": 2,
          "nan_count": 0,
          "min": "0",
          "max": "1",
          "histogram": [
           {
            "bin_start": 0,
            "bin_end": 0.1,
            "count": 15
           },
           {
            "bin_start": 0.1,
            "bin_end": 0.2,
            "count": 0
           },
           {
            "bin_start": 0.2,
            "bin_end": 0.30000000000000004,
            "count": 0
           },
           {
            "bin_start": 0.30000000000000004,
            "bin_end": 0.4,
            "count": 0
           },
           {
            "bin_start": 0.4,
            "bin_end": 0.5,
            "count": 0
           },
           {
            "bin_start": 0.5,
            "bin_end": 0.6000000000000001,
            "count": 0
           },
           {
            "bin_start": 0.6000000000000001,
            "bin_end": 0.7000000000000001,
            "count": 0
           },
           {
            "bin_start": 0.7000000000000001,
            "bin_end": 0.8,
            "count": 0
           },
           {
            "bin_start": 0.8,
            "bin_end": 0.9,
            "count": 0
           },
           {
            "bin_start": 0.9,
            "bin_end": 1,
            "count": 15
           }
          ]
         }
        },
        {
         "name": "wbc",
         "dtype": "int64",
         "stats": {
          "unique_count": 28,
          "nan_count": 0,
          "min": "75",
          "max": "10000",
          "histogram": [
           {
            "bin_start": 75,
            "bin_end": 1067.5,
            "count": 17
           },
           {
            "bin_start": 1067.5,
            "bin_end": 2060,
            "count": 2
           },
           {
            "bin_start": 2060,
            "bin_end": 3052.5,
            "count": 4
           },
           {
            "bin_start": 3052.5,
            "bin_end": 4045,
            "count": 3
           },
           {
            "bin_start": 4045,
            "bin_end": 5037.5,
            "count": 0
           },
           {
            "bin_start": 5037.5,
            "bin_end": 6030,
            "count": 1
           },
           {
            "bin_start": 6030,
            "bin_end": 7022.5,
            "count": 0
           },
           {
            "bin_start": 7022.5,
            "bin_end": 8015,
            "count": 1
           },
           {
            "bin_start": 8015,
            "bin_end": 9007.5,
            "count": 0
           },
           {
            "bin_start": 9007.5,
            "bin_end": 10000,
            "count": 2
           }
          ]
         }
        },
        {
         "name": "_deepnote_index_column",
         "dtype": "int64"
        }
       ],
       "rows_top": [
        {
         "nres": 1,
         "ag": 1,
         "wbc": 75,
         "_deepnote_index_column": 0
        },
        {
         "nres": 1,
         "ag": 1,
         "wbc": 230,
         "_deepnote_index_column": 1
        },
        {
         "nres": 1,
         "ag": 1,
         "wbc": 260,
         "_deepnote_index_column": 2
        },
        {
         "nres": 1,
         "ag": 1,
         "wbc": 430,
         "_deepnote_index_column": 3
        },
        {
         "nres": 1,
         "ag": 1,
         "wbc": 700,
         "_deepnote_index_column": 4
        },
        {
         "nres": 1,
         "ag": 1,
         "wbc": 940,
         "_deepnote_index_column": 5
        },
        {
         "nres": 1,
         "ag": 1,
         "wbc": 1000,
         "_deepnote_index_column": 6
        },
        {
         "nres": 1,
         "ag": 1,
         "wbc": 1050,
         "_deepnote_index_column": 7
        },
        {
         "nres": 1,
         "ag": 1,
         "wbc": 10000,
         "_deepnote_index_column": 8
        },
        {
         "nres": 1,
         "ag": 0,
         "wbc": 300,
         "_deepnote_index_column": 9
        },
        {
         "nres": 1,
         "ag": 0,
         "wbc": 440,
         "_deepnote_index_column": 10
        },
        {
         "nres": 0,
         "ag": 1,
         "wbc": 540,
         "_deepnote_index_column": 11
        },
        {
         "nres": 0,
         "ag": 1,
         "wbc": 600,
         "_deepnote_index_column": 12
        },
        {
         "nres": 0,
         "ag": 1,
         "wbc": 1700,
         "_deepnote_index_column": 13
        },
        {
         "nres": 0,
         "ag": 1,
         "wbc": 3200,
         "_deepnote_index_column": 14
        },
        {
         "nres": 0,
         "ag": 1,
         "wbc": 3500,
         "_deepnote_index_column": 15
        },
        {
         "nres": 0,
         "ag": 1,
         "wbc": 5200,
         "_deepnote_index_column": 16
        },
        {
         "nres": 0,
         "ag": 0,
         "wbc": 150,
         "_deepnote_index_column": 17
        },
        {
         "nres": 0,
         "ag": 0,
         "wbc": 400,
         "_deepnote_index_column": 18
        },
        {
         "nres": 0,
         "ag": 0,
         "wbc": 530,
         "_deepnote_index_column": 19
        },
        {
         "nres": 0,
         "ag": 0,
         "wbc": 900,
         "_deepnote_index_column": 20
        },
        {
         "nres": 0,
         "ag": 0,
         "wbc": 1000,
         "_deepnote_index_column": 21
        },
        {
         "nres": 0,
         "ag": 0,
         "wbc": 1900,
         "_deepnote_index_column": 22
        },
        {
         "nres": 0,
         "ag": 0,
         "wbc": 2100,
         "_deepnote_index_column": 23
        },
        {
         "nres": 0,
         "ag": 0,
         "wbc": 2600,
         "_deepnote_index_column": 24
        },
        {
         "nres": 0,
         "ag": 0,
         "wbc": 2700,
         "_deepnote_index_column": 25
        },
        {
         "nres": 0,
         "ag": 0,
         "wbc": 2800,
         "_deepnote_index_column": 26
        },
        {
         "nres": 0,
         "ag": 0,
         "wbc": 3100,
         "_deepnote_index_column": 27
        },
        {
         "nres": 0,
         "ag": 0,
         "wbc": 7900,
         "_deepnote_index_column": 28
        },
        {
         "nres": 0,
         "ag": 0,
         "wbc": 10000,
         "_deepnote_index_column": 29
        }
       ],
       "rows_bottom": null
      },
      "text/plain": "    nres  ag    wbc\n0      1   1     75\n1      1   1    230\n2      1   1    260\n3      1   1    430\n4      1   1    700\n5      1   1    940\n6      1   1   1000\n7      1   1   1050\n8      1   1  10000\n9      1   0    300\n10     1   0    440\n11     0   1    540\n12     0   1    600\n13     0   1   1700\n14     0   1   3200\n15     0   1   3500\n16     0   1   5200\n17     0   0    150\n18     0   0    400\n19     0   0    530\n20     0   0    900\n21     0   0   1000\n22     0   0   1900\n23     0   0   2100\n24     0   0   2600\n25     0   0   2700\n26     0   0   2800\n27     0   0   3100\n28     0   0   7900\n29     0   0  10000",
      "text/html": "<div>\n<style scoped>\n    .dataframe tbody tr th:only-of-type {\n        vertical-align: middle;\n    }\n\n    .dataframe tbody tr th {\n        vertical-align: top;\n    }\n\n    .dataframe thead th {\n        text-align: right;\n    }\n</style>\n<table border=\"1\" class=\"dataframe\">\n  <thead>\n    <tr style=\"text-align: right;\">\n      <th></th>\n      <th>nres</th>\n      <th>ag</th>\n      <th>wbc</th>\n    </tr>\n  </thead>\n  <tbody>\n    <tr>\n      <th>0</th>\n      <td>1</td>\n      <td>1</td>\n      <td>75</td>\n    </tr>\n    <tr>\n      <th>1</th>\n      <td>1</td>\n      <td>1</td>\n      <td>230</td>\n    </tr>\n    <tr>\n      <th>2</th>\n      <td>1</td>\n      <td>1</td>\n      <td>260</td>\n    </tr>\n    <tr>\n      <th>3</th>\n      <td>1</td>\n      <td>1</td>\n      <td>430</td>\n    </tr>\n    <tr>\n      <th>4</th>\n      <td>1</td>\n      <td>1</td>\n      <td>700</td>\n    </tr>\n    <tr>\n      <th>5</th>\n      <td>1</td>\n      <td>1</td>\n      <td>940</td>\n    </tr>\n    <tr>\n      <th>6</th>\n      <td>1</td>\n      <td>1</td>\n      <td>1000</td>\n    </tr>\n    <tr>\n      <th>7</th>\n      <td>1</td>\n      <td>1</td>\n      <td>1050</td>\n    </tr>\n    <tr>\n      <th>8</th>\n      <td>1</td>\n      <td>1</td>\n      <td>10000</td>\n    </tr>\n    <tr>\n      <th>9</th>\n      <td>1</td>\n      <td>0</td>\n      <td>300</td>\n    </tr>\n    <tr>\n      <th>10</th>\n      <td>1</td>\n      <td>0</td>\n      <td>440</td>\n    </tr>\n    <tr>\n      <th>11</th>\n      <td>0</td>\n      <td>1</td>\n      <td>540</td>\n    </tr>\n    <tr>\n      <th>12</th>\n      <td>0</td>\n      <td>1</td>\n      <td>600</td>\n    </tr>\n    <tr>\n      <th>13</th>\n      <td>0</td>\n      <td>1</td>\n      <td>1700</td>\n    </tr>\n    <tr>\n      <th>14</th>\n      <td>0</td>\n      <td>1</td>\n      <td>3200</td>\n    </tr>\n    <tr>\n      <th>15</th>\n      <td>0</td>\n      <td>1</td>\n      <td>3500</td>\n    </tr>\n    <tr>\n      <th>16</th>\n      <td>0</td>\n      <td>1</td>\n      <td>5200</td>\n    </tr>\n    <tr>\n      <th>17</th>\n      <td>0</td>\n      <td>0</td>\n      <td>150</td>\n    </tr>\n    <tr>\n      <th>18</th>\n      <td>0</td>\n      <td>0</td>\n      <td>400</td>\n    </tr>\n    <tr>\n      <th>19</th>\n      <td>0</td>\n      <td>0</td>\n      <td>530</td>\n    </tr>\n    <tr>\n      <th>20</th>\n      <td>0</td>\n      <td>0</td>\n      <td>900</td>\n    </tr>\n    <tr>\n      <th>21</th>\n      <td>0</td>\n      <td>0</td>\n      <td>1000</td>\n    </tr>\n    <tr>\n      <th>22</th>\n      <td>0</td>\n      <td>0</td>\n      <td>1900</td>\n    </tr>\n    <tr>\n      <th>23</th>\n      <td>0</td>\n      <td>0</td>\n      <td>2100</td>\n    </tr>\n    <tr>\n      <th>24</th>\n      <td>0</td>\n      <td>0</td>\n      <td>2600</td>\n    </tr>\n    <tr>\n      <th>25</th>\n      <td>0</td>\n      <td>0</td>\n      <td>2700</td>\n    </tr>\n    <tr>\n      <th>26</th>\n      <td>0</td>\n      <td>0</td>\n      <td>2800</td>\n    </tr>\n    <tr>\n      <th>27</th>\n      <td>0</td>\n      <td>0</td>\n      <td>3100</td>\n    </tr>\n    <tr>\n      <th>28</th>\n      <td>0</td>\n      <td>0</td>\n      <td>7900</td>\n    </tr>\n    <tr>\n      <th>29</th>\n      <td>0</td>\n      <td>0</td>\n      <td>10000</td>\n    </tr>\n  </tbody>\n</table>\n</div>"
     },
     "metadata": {}
    }
   ],
   "execution_count": null
  },
  {
   "cell_type": "markdown",
   "source": "### Visualize data",
   "metadata": {
    "colab_type": "text",
    "id": "2bAbouKKt8xZ",
    "cell_id": "00028-560e023f-3a44-4a06-9a90-adb565586afa",
    "deepnote_cell_type": "markdown"
   }
  },
  {
   "cell_type": "code",
   "metadata": {
    "colab_type": "code",
    "id": "Hz7QCiqMt8xa",
    "colab": {},
    "outputId": "7cc028b9-16f6-4294-cdb7-71fc2d51f5a0",
    "cell_id": "00029-d2a14a94-d414-4c9a-bedf-4c8512a94080",
    "deepnote_to_be_reexecuted": false,
    "source_hash": "ce725a08",
    "execution_start": 1625523001534,
    "execution_millis": 401,
    "deepnote_cell_type": "code"
   },
   "source": "sns.distplot(data.wbc)",
   "outputs": [
    {
     "name": "stderr",
     "text": "/shared-libs/python3.7/py/lib/python3.7/site-packages/seaborn/distributions.py:2557: FutureWarning: `distplot` is a deprecated function and will be removed in a future version. Please adapt your code to use either `displot` (a figure-level function with similar flexibility) or `histplot` (an axes-level function for histograms).\n  warnings.warn(msg, FutureWarning)\n",
     "output_type": "stream"
    },
    {
     "output_type": "execute_result",
     "execution_count": 8,
     "data": {
      "text/plain": "<AxesSubplot:xlabel='wbc', ylabel='Density'>"
     },
     "metadata": {}
    },
    {
     "data": {
      "text/plain": "<Figure size 432x288 with 1 Axes>",
      "image/png": "[encoded data removed]"
     },
     "metadata": {
      "needs_background": "light",
      "image/png": {
       "width": 426,
       "height": 262
      }
     },
     "output_type": "display_data"
    }
   ],
   "execution_count": null
  },
  {
   "cell_type": "code",
   "metadata": {
    "colab_type": "code",
    "id": "a8qz3UNPt8xc",
    "colab": {},
    "outputId": "0a3f8eb8-3a15-4f86-f2a1-0262fef99a88",
    "cell_id": "00030-7af5aa82-664d-4fac-af29-b6f550dfbeb2",
    "deepnote_to_be_reexecuted": false,
    "source_hash": "812b7cc9",
    "execution_start": 1625523003804,
    "execution_millis": 341,
    "deepnote_cell_type": "code"
   },
   "source": "sns.distplot(data.ag)",
   "outputs": [
    {
     "name": "stderr",
     "text": "/shared-libs/python3.7/py/lib/python3.7/site-packages/seaborn/distributions.py:2557: FutureWarning: `distplot` is a deprecated function and will be removed in a future version. Please adapt your code to use either `displot` (a figure-level function with similar flexibility) or `histplot` (an axes-level function for histograms).\n  warnings.warn(msg, FutureWarning)\n",
     "output_type": "stream"
    },
    {
     "output_type": "execute_result",
     "execution_count": 9,
     "data": {
      "text/plain": "<AxesSubplot:xlabel='ag', ylabel='Density'>"
     },
     "metadata": {}
    },
    {
     "data": {
      "text/plain": "<Figure size 432x288 with 1 Axes>",
      "image/png": "[encoded data removed]"
     },
     "metadata": {
      "needs_background": "light",
      "image/png": {
       "width": 386,
       "height": 262
      }
     },
     "output_type": "display_data"
    }
   ],
   "execution_count": null
  },
  {
   "cell_type": "code",
   "metadata": {
    "colab_type": "code",
    "id": "sk2hqzdht8xe",
    "colab": {},
    "outputId": "771c1a98-5729-4594-d507-efbba23bdd06",
    "cell_id": "00031-c852e20e-3729-4dae-8357-5558785fc14c",
    "deepnote_to_be_reexecuted": false,
    "source_hash": "aa4ee5c1",
    "execution_start": 1625523005793,
    "execution_millis": 172,
    "deepnote_cell_type": "code"
   },
   "source": "sns.distplot(data.nres)",
   "outputs": [
    {
     "name": "stderr",
     "text": "/shared-libs/python3.7/py/lib/python3.7/site-packages/seaborn/distributions.py:2557: FutureWarning: `distplot` is a deprecated function and will be removed in a future version. Please adapt your code to use either `displot` (a figure-level function with similar flexibility) or `histplot` (an axes-level function for histograms).\n  warnings.warn(msg, FutureWarning)\n",
     "output_type": "stream"
    },
    {
     "output_type": "execute_result",
     "execution_count": 10,
     "data": {
      "text/plain": "<AxesSubplot:xlabel='nres', ylabel='Density'>"
     },
     "metadata": {}
    },
    {
     "data": {
      "text/plain": "<Figure size 432x288 with 1 Axes>",
      "image/png": "[encoded data removed]"
     },
     "metadata": {
      "needs_background": "light",
      "image/png": {
       "width": 386,
       "height": 262
      }
     },
     "output_type": "display_data"
    }
   ],
   "execution_count": null
  },
  {
   "cell_type": "code",
   "metadata": {
    "colab_type": "code",
    "id": "hIyHtTb8t8xh",
    "colab": {},
    "outputId": "ae11340f-5666-4677-de6a-b0b562dea1c6",
    "cell_id": "00032-df8b2908-ee01-4541-ae8b-d7858dda8c4b",
    "deepnote_to_be_reexecuted": false,
    "source_hash": "3e113751",
    "execution_start": 1625523007817,
    "execution_millis": 367,
    "deepnote_cell_type": "code"
   },
   "source": "# Relationship between wbc and nres\nsns.regplot(data.wbc, data.nres)",
   "outputs": [
    {
     "name": "stderr",
     "text": "/shared-libs/python3.7/py/lib/python3.7/site-packages/seaborn/_decorators.py:43: FutureWarning: Pass the following variables as keyword args: x, y. From version 0.12, the only valid positional argument will be `data`, and passing other arguments without an explicit keyword will result in an error or misinterpretation.\n  FutureWarning\n",
     "output_type": "stream"
    },
    {
     "output_type": "execute_result",
     "execution_count": 11,
     "data": {
      "text/plain": "<AxesSubplot:xlabel='wbc', ylabel='nres'>"
     },
     "metadata": {}
    },
    {
     "data": {
      "text/plain": "<Figure size 432x288 with 1 Axes>",
      "image/png": "[encoded data removed]"
     },
     "metadata": {
      "needs_background": "light",
      "image/png": {
       "width": 410,
       "height": 262
      }
     },
     "output_type": "display_data"
    }
   ],
   "execution_count": null
  },
  {
   "cell_type": "code",
   "metadata": {
    "colab_type": "code",
    "id": "CbAmsAz8t8xk",
    "colab": {},
    "outputId": "7dde0c0e-26ac-4324-8dcf-a8c4fcd1f2ad",
    "cell_id": "00033-2aef3a7a-42b2-444b-af1e-dd439f78882e",
    "deepnote_to_be_reexecuted": false,
    "source_hash": "b2a8f538",
    "execution_start": 1625523009302,
    "execution_millis": 357,
    "deepnote_cell_type": "code"
   },
   "source": "sns.countplot(data.nres, hue=data.ag) ",
   "outputs": [
    {
     "name": "stderr",
     "text": "/shared-libs/python3.7/py/lib/python3.7/site-packages/seaborn/_decorators.py:43: FutureWarning: Pass the following variable as a keyword arg: x. From version 0.12, the only valid positional argument will be `data`, and passing other arguments without an explicit keyword will result in an error or misinterpretation.\n  FutureWarning\n",
     "output_type": "stream"
    },
    {
     "output_type": "execute_result",
     "execution_count": 12,
     "data": {
      "text/plain": "<AxesSubplot:xlabel='nres', ylabel='count'>"
     },
     "metadata": {}
    },
    {
     "data": {
      "text/plain": "<Figure size 432x288 with 1 Axes>",
      "image/png": "[encoded data removed]"
     },
     "metadata": {
      "needs_background": "light",
      "image/png": {
       "width": 382,
       "height": 262
      }
     },
     "output_type": "display_data"
    }
   ],
   "execution_count": null
  },
  {
   "cell_type": "markdown",
   "source": "As you can see, the scatterplot between wbc and nres best potrays the need for logisitic regression over linear regression.\n\nFirst, you should assess if variables need to be transformed or normalized. If so, change the variable(s).\n\nNotice from the univariate analysis above the skewness of the WBC distribution. Find a transformation of the WBC variable to achieve a normal distribution. Note that power transforms are a family of parametric, monotonic transformations that aim to transform data from any distribution to as close to a Gaussian/Normal distribution as possible in order to stabilize variance and minimize skewness.\n\nHere's some more in-depth documentation: https://scikit-learn.org/stable/modules/preprocessing.html",
   "metadata": {
    "colab_type": "text",
    "id": "YV-yqOgft8xl",
    "cell_id": "00034-67e88711-ef32-497a-96e2-4091d71001d3",
    "deepnote_cell_type": "markdown"
   }
  },
  {
   "cell_type": "code",
   "metadata": {
    "colab_type": "code",
    "id": "3I8Mvmqmt8xm",
    "colab": {},
    "outputId": "07ab157e-4fed-4c95-fcad-4ba45e09cc5b",
    "cell_id": "00035-358834ac-c3c3-45ae-b168-7272f5d2186f",
    "deepnote_to_be_reexecuted": false,
    "source_hash": "2dbc1780",
    "execution_start": 1625523012398,
    "execution_millis": 216,
    "deepnote_cell_type": "code"
   },
   "source": "data['log_wbc']= np.log(data.wbc)\nsns.distplot(data.log_wbc)",
   "outputs": [
    {
     "name": "stderr",
     "text": "/shared-libs/python3.7/py/lib/python3.7/site-packages/seaborn/distributions.py:2557: FutureWarning: `distplot` is a deprecated function and will be removed in a future version. Please adapt your code to use either `displot` (a figure-level function with similar flexibility) or `histplot` (an axes-level function for histograms).\n  warnings.warn(msg, FutureWarning)\n",
     "output_type": "stream"
    },
    {
     "output_type": "execute_result",
     "execution_count": 13,
     "data": {
      "text/plain": "<AxesSubplot:xlabel='log_wbc', ylabel='Density'>"
     },
     "metadata": {}
    },
    {
     "data": {
      "text/plain": "<Figure size 432x288 with 1 Axes>",
      "image/png": "[encoded data removed]"
     },
     "metadata": {
      "needs_background": "light",
      "image/png": {
       "width": 392,
       "height": 263
      }
     },
     "output_type": "display_data"
    }
   ],
   "execution_count": null
  },
  {
   "cell_type": "markdown",
   "source": "Now that we have preprocessed the data, we can implement the model.\n\nThe model we're considering for this analysis is\n\n$$log(\\frac{p}{1-p})= \\beta_0 +\\beta_1log(WBC) + \\beta_2AG$$\n \n\nThe model is best understood by separating the AG+ and AG− cases. For AG− individuals, AG=0 so the model reduces to\n\n$$log(\\frac{p}{1-p})= \\beta_0 +\\beta_1log(WBC) + \\beta_2*0 =  \\beta_0 +\\beta_1log(WBC)$$.\n\nThe model for AG+ individuals (AG = 1) is\n\n$$log(\\frac{p}{1-p})= \\beta_0 +\\beta_1log(WBC) + \\beta_2*1 =  (\\beta_0+\\beta_2) +\\beta_1log(WBC)$$.",
   "metadata": {
    "colab_type": "text",
    "id": "U6_HKVV3t8xp",
    "cell_id": "00036-b2b065a4-f75f-4f3c-85fc-060a3b28a9ae",
    "deepnote_cell_type": "markdown"
   }
  },
  {
   "cell_type": "markdown",
   "source": "The reduced or simple logisitic model is without AG and where the log odds of surviving at least one year is related to log(WBC) linearly. When $\\beta_2 = 0$ implies that AG level has no effect on the survival probability once log(WBC) has been accounted for. Including AG implies the log odds of surviving at least one year and log(WBC) are a linearly associated, with different slopes for the AG levels. $\\beta_0$ and $\\beta_0 + \\beta_2$ are the y-intercepts for the population logistic regression lines for AG− and AG+, respectively. Both prediction lines have a common slope, $\\beta_1$. The $\\beta_2$ estimate for the AG  is the difference between intercepts for the AG+ and AG− regression lines. The image below shows the assumed relationship for a given $\\beta_1$ < 0. The population regression lines are parallel on the logit scale only, and preserved on the probability scale.",
   "metadata": {
    "colab_type": "text",
    "id": "0wl6Os5bt8xp",
    "cell_id": "00037-9ad9f7a5-fe01-4e3a-a0a7-28723c472641",
    "deepnote_cell_type": "markdown"
   }
  },
  {
   "cell_type": "markdown",
   "source": "![](https://raw.githubusercontent.com/BeaverWorksMedlytics2020/Data_public/master/Images/Week1/regression6.png)",
   "metadata": {
    "colab_type": "text",
    "id": "fnEU1Y5Ft8xq",
    "cell_id": "00038-850a2a51-5d6a-40b5-9eae-1c8b06fbe6b3",
    "deepnote_cell_type": "markdown"
   }
  },
  {
   "cell_type": "markdown",
   "source": "### Create model",
   "metadata": {
    "colab_type": "text",
    "id": "UyMLBdIUt8xq",
    "cell_id": "00039-f6dbc28f-4d64-4765-a7cd-3b330ce5d0cd",
    "deepnote_cell_type": "markdown"
   }
  },
  {
   "cell_type": "code",
   "metadata": {
    "colab_type": "code",
    "id": "bttTRdwWt8xr",
    "colab": {},
    "cell_id": "00040-8bed9ba5-4187-4bde-ac4b-31282b6820d5",
    "deepnote_to_be_reexecuted": false,
    "source_hash": "4813498",
    "execution_start": 1625523015917,
    "execution_millis": 14,
    "deepnote_cell_type": "code"
   },
   "source": "# Splitting data\nfrom sklearn.model_selection import train_test_split\nX_cols = ['ag','log_wbc']\ny_col = 'nres'\n\ntest_size = 0.15\nX_train, X_val, y_train, y_val = train_test_split(data[X_cols], data[y_col], test_size=test_size, random_state=1)",
   "outputs": [],
   "execution_count": null
  },
  {
   "cell_type": "code",
   "metadata": {
    "colab_type": "code",
    "id": "ttWJ0YuRt8xt",
    "colab": {},
    "outputId": "4baaa0d4-2504-43ca-ff9e-bf59fe4b8a10",
    "cell_id": "00041-1faec64b-17cf-4721-9be4-0b98754394b3",
    "deepnote_to_be_reexecuted": false,
    "source_hash": "e19ea45d",
    "execution_start": 1625523016548,
    "execution_millis": 31,
    "deepnote_cell_type": "code"
   },
   "source": "# Defining model\nfrom sklearn.linear_model import LogisticRegression\nlogreg = LogisticRegression()\nlogreg.fit(X_train, y_train)",
   "outputs": [
    {
     "output_type": "execute_result",
     "execution_count": 15,
     "data": {
      "text/plain": "LogisticRegression()"
     },
     "metadata": {}
    }
   ],
   "execution_count": null
  },
  {
   "cell_type": "code",
   "metadata": {
    "colab_type": "code",
    "id": "j10ngdEjt8xw",
    "colab": {},
    "outputId": "783156e5-5250-4ae8-e5ad-b85e49159c8e",
    "cell_id": "00042-d52a81a1-1f58-4890-8145-852b3f9b766e",
    "deepnote_to_be_reexecuted": false,
    "source_hash": "2d3fe275",
    "execution_start": 1625523018653,
    "execution_millis": 15,
    "deepnote_cell_type": "code"
   },
   "source": "from sklearn.metrics import accuracy_score\n# Printing accuracy of testing & training data\ny_train_pred=logreg.predict(X_train)\nprint(\"Training Accuracy is \", accuracy_score(y_train, y_train_pred)*100)\ny_val_pred=logreg.predict(X_val)\nprint(\"Validation Accuracy is \", accuracy_score(y_val,y_val_pred)*100)",
   "outputs": [
    {
     "name": "stdout",
     "text": "Training Accuracy is  84.0\nValidation Accuracy is  60.0\n",
     "output_type": "stream"
    }
   ],
   "execution_count": null
  },
  {
   "cell_type": "markdown",
   "source": "<a style='text-decoration:none;line-height:16px;display:flex;color:#5B5B62;padding:10px;justify-content:end;' href='https://deepnote.com?utm_source=created-in-deepnote-cell&projectId=6aa92908-daf4-47cc-a24d-1e94a9949d60' target=\"_blank\">\n<img alt='Created in deepnote.com' style='display:inline;max-height:16px;margin:0px;margin-right:7.5px;' src='data:image/svg+xml;base64,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' > </img>\nCreated in <span style='font-weight:600;margin-left:4px;'>Deepnote</span></a>",
   "metadata": {
    "tags": [],
    "created_in_deepnote_cell": true,
    "deepnote_cell_type": "markdown"
   }
  }
 ],
 "nbformat": 4,
 "nbformat_minor": 0,
 "metadata": {
  "colab": {
   "name": "Regression_Tutorial",
   "provenance": []
  },
  "kernelspec": {
   "display_name": "Python 3",
   "language": "python",
   "name": "python3"
  },
  "language_info": {
   "codemirror_mode": {
    "name": "ipython",
    "version": 3
   },
   "file_extension": ".py",
   "mimetype": "text/x-python",
   "name": "python",
   "nbconvert_exporter": "python",
   "pygments_lexer": "ipython3",
   "version": "3.7.3"
  },
  "deepnote_notebook_id": "85b13e22-75fc-4aa7-89b7-f2cb5dc1f68d",
  "deepnote": {},
  "deepnote_execution_queue": []
 }
}