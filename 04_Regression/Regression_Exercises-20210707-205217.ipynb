{
 "cells": [
  {
   "cell_type": "markdown",
   "source": "# Regression Exercises",
   "metadata": {
    "colab_type": "text",
    "id": "xTfQvqbXr9G1",
    "cell_id": "00000-54f2d147-8aad-4e33-afcc-9314a0acbc15",
    "deepnote_cell_type": "markdown"
   }
  },
  {
   "cell_type": "markdown",
   "source": "## Linear",
   "metadata": {
    "id": "RAgvxOf_qm9m",
    "colab_type": "text",
    "cell_id": "00001-64ae805a-b4c1-4584-b041-1cd9a74df1c5",
    "deepnote_cell_type": "markdown"
   }
  },
  {
   "cell_type": "code",
   "metadata": {
    "colab_type": "code",
    "id": "VohVqdqmr9G3",
    "colab": {},
    "cell_id": "00002-a7a0de70-619c-4ac5-ab40-d3374b62f6be",
    "deepnote_to_be_reexecuted": false,
    "source_hash": "1e051188",
    "execution_start": 1625608208239,
    "execution_millis": 325,
    "deepnote_cell_type": "code"
   },
   "source": "# Loading data\nimport pandas as pd\nimport numpy as np\nfrom matplotlib import pyplot as plt\n\n# Read data from Github\ndata_url = \"https://raw.githubusercontent.com/BeaverWorksMedlytics2020/Data_Public/master/NotebookExampleData/Week1/ex1data2.txt\"\ndata_array = np.genfromtxt(data_url, delimiter=',')\n\n# The columns in this data set are define as folows:\n\"\"\"\n    0 = floor area\n    1 = number of bedrooms\n    2 = sale price\n\"\"\"\n    \n# Store the relevant columns in more descriptive variables\nx_sqft = data_array[:,0]\ny_value = data_array[:,2]",
   "execution_count": null,
   "outputs": []
  },
  {
   "cell_type": "markdown",
   "source": "Here we'll build off of the tutorial exercise, first finding the best linear fit for floor area (sqft) vs valued price (USD). Recall that setting the derivative = 0 and solving for 𝑏 & 𝑚 produces formula for the best fit trend:\n$$ m = \\frac{\\sum^n_{i=1} (x_i-x_{mean})(y_i-y_{mean})}{\\sum^n_{i=1} (x_i-x_{mean})^2} $$\n$$ b = y_{mean}-m*x_{mean} $$",
   "metadata": {
    "colab_type": "text",
    "id": "bubHPtJ5r9G-",
    "cell_id": "00003-b01bcf9e-ff62-4e42-afcb-ef176f000e15",
    "deepnote_cell_type": "markdown"
   }
  },
  {
   "cell_type": "code",
   "metadata": {
    "colab_type": "code",
    "id": "HaPeEPN8r9HA",
    "colab": {},
    "cell_id": "00004-4545490b-af34-4688-80d9-4600f5ac9202",
    "deepnote_to_be_reexecuted": false,
    "source_hash": "da815e8e",
    "execution_start": 1625608210434,
    "execution_millis": 2,
    "deepnote_cell_type": "code"
   },
   "source": "def find_best_fit(xx,yy):\n    '''\n      This function finds the best linear fit for yy vs xx\n    '''\n    xm = xx.mean()\n    ym = yy.mean()\n    a = 0 \n    c = 0\n    for i in range(len(xx)):\n      a += (xx[i] - xm) * (yy[i] - ym)\n      c += (xx[i] - xm) ** 2\n      m = a/c\n    b = ym - m*xm\n",
   "execution_count": null,
   "outputs": []
  },
  {
   "cell_type": "code",
   "metadata": {
    "colab_type": "code",
    "id": "mfZ7t4F9r9HH",
    "colab": {},
    "cell_id": "00005-f6683d67-0f6a-4987-8563-6c2be2b4d96a",
    "deepnote_to_be_reexecuted": false,
    "source_hash": "9b2b15d2",
    "execution_start": 1625608212468,
    "execution_millis": 15,
    "deepnote_cell_type": "code"
   },
   "source": "# Use your function to show the best fit values for our data\n(mm, bb) = find_best_fit(x_sqft, y_value)\nfit_str = 'y = {aa:.1f}x + {bb:.1f}'\nprint(fit_str.format(aa=mm,bb=bb))",
   "execution_count": null,
   "outputs": [
    {
     "output_type": "error",
     "ename": "TypeError",
     "evalue": "cannot unpack non-iterable NoneType object",
     "traceback": [
      "\u001b[0;31m---------------------------------------------------------------------------\u001b[0m",
      "\u001b[0;31mTypeError\u001b[0m                                 Traceback (most recent call last)",
      "\u001b[0;32m<ipython-input-8-71905ca3ab25>\u001b[0m in \u001b[0;36m<module>\u001b[0;34m\u001b[0m\n\u001b[1;32m      1\u001b[0m \u001b[0;31m# Use your function to show the best fit values for our data\u001b[0m\u001b[0;34m\u001b[0m\u001b[0;34m\u001b[0m\u001b[0;34m\u001b[0m\u001b[0m\n\u001b[0;32m----> 2\u001b[0;31m \u001b[0;34m(\u001b[0m\u001b[0mmm\u001b[0m\u001b[0;34m,\u001b[0m \u001b[0mbb\u001b[0m\u001b[0;34m)\u001b[0m \u001b[0;34m=\u001b[0m \u001b[0mfind_best_fit\u001b[0m\u001b[0;34m(\u001b[0m\u001b[0mx_sqft\u001b[0m\u001b[0;34m,\u001b[0m \u001b[0my_value\u001b[0m\u001b[0;34m)\u001b[0m\u001b[0;34m\u001b[0m\u001b[0;34m\u001b[0m\u001b[0m\n\u001b[0m\u001b[1;32m      3\u001b[0m \u001b[0mfit_str\u001b[0m \u001b[0;34m=\u001b[0m \u001b[0;34m'y = {aa:.1f}x + {bb:.1f}'\u001b[0m\u001b[0;34m\u001b[0m\u001b[0;34m\u001b[0m\u001b[0m\n\u001b[1;32m      4\u001b[0m \u001b[0mprint\u001b[0m\u001b[0;34m(\u001b[0m\u001b[0mfit_str\u001b[0m\u001b[0;34m.\u001b[0m\u001b[0mformat\u001b[0m\u001b[0;34m(\u001b[0m\u001b[0maa\u001b[0m\u001b[0;34m=\u001b[0m\u001b[0mmm\u001b[0m\u001b[0;34m,\u001b[0m\u001b[0mbb\u001b[0m\u001b[0;34m=\u001b[0m\u001b[0mbb\u001b[0m\u001b[0;34m)\u001b[0m\u001b[0;34m)\u001b[0m\u001b[0;34m\u001b[0m\u001b[0;34m\u001b[0m\u001b[0m\n",
      "\u001b[0;31mTypeError\u001b[0m: cannot unpack non-iterable NoneType object"
     ]
    }
   ]
  },
  {
   "cell_type": "markdown",
   "source": "Now we have the best fit trend line that minimizes total error for our data, let's try plotting it and see what it looks like. Since its just an equation, we need to *sample* the curve in order to plot it. To do this, we'll find the difference between the largest and smallest floor area, and divide it into 100 sample points.",
   "metadata": {
    "colab_type": "text",
    "id": "jVYEfrpsr9HN",
    "cell_id": "00006-91d4b146-df2e-4bcf-af63-332049afb633",
    "deepnote_cell_type": "markdown"
   }
  },
  {
   "cell_type": "code",
   "metadata": {
    "colab_type": "code",
    "id": "dZARuzL7r9HO",
    "colab": {},
    "cell_id": "00007-e6b00473-e96d-4443-9d36-3d61e1bf97da",
    "deepnote_cell_type": "code"
   },
   "source": "# Plot the data\n\n# Sample the range from minimum to maximum sqft to get 100 points\n\n# Apply the best fit equation to each sample point and plot the result",
   "execution_count": null,
   "outputs": []
  },
  {
   "cell_type": "markdown",
   "source": "1: Given these parameters, how much should a house with 1600 sqft cost?\n\n(YOUR ANSWER HERE)",
   "metadata": {
    "colab_type": "text",
    "id": "ywlWE2xtr9HU",
    "cell_id": "00008-c6508de2-a1ab-4853-8ed9-9cd10434795f",
    "deepnote_cell_type": "markdown"
   }
  },
  {
   "cell_type": "markdown",
   "source": "2: From the dataset, how much did a house with 1600 sqft actually cost?\n\n(YOUR ANSWER HERE)",
   "metadata": {
    "colab_type": "text",
    "id": "J4rZ9L_Rr9HV",
    "cell_id": "00009-d04cbdf5-56be-4f7f-bdea-b78b67fa42d9",
    "deepnote_cell_type": "markdown"
   }
  },
  {
   "cell_type": "markdown",
   "source": "3: Assuming the current 1600 sqft house would sell for as much as the historical one, how much money would we have lost? What percentage of the total price is this?\n\n(YOUR ANSWER HERE)",
   "metadata": {
    "colab_type": "text",
    "id": "KTZMjw7rr9HW",
    "cell_id": "00010-bed6d3ea-4578-4812-9014-ad5d07e42f6d",
    "deepnote_cell_type": "markdown"
   }
  },
  {
   "cell_type": "markdown",
   "source": "Now compare the values for 𝑚 and 𝑏 that sklearn generated in the tutorial notebook with the values that you found just now with your function. Hopefully they match.",
   "metadata": {
    "colab_type": "text",
    "id": "UN9zGe6Mr9HY",
    "cell_id": "00011-970ae067-7dde-4eff-97fb-c053e85eddb1",
    "deepnote_cell_type": "markdown"
   }
  },
  {
   "cell_type": "code",
   "metadata": {
    "colab_type": "code",
    "id": "CDw75BJrr9HZ",
    "colab": {},
    "cell_id": "00012-04c22e66-be2c-4952-a49d-a0589e58a023",
    "deepnote_cell_type": "code"
   },
   "source": "print(\"Sklearn:\",134.52528772, 71270.492448729)\nprint(\"My function:\",mm,bb)",
   "execution_count": null,
   "outputs": []
  },
  {
   "cell_type": "markdown",
   "source": "---\nRemember how despite adding an entire new variable, the $R^2$ value barely increased? Let's investigate this further by finding the correlation ($R^2$) value for a regression of square footage vs. number of bedrooms.",
   "metadata": {
    "colab_type": "text",
    "id": "L5R8SjF9r9Hf",
    "cell_id": "00013-f8640495-e786-4732-bdc4-edff3eba311b",
    "deepnote_cell_type": "markdown"
   }
  },
  {
   "cell_type": "code",
   "metadata": {
    "colab_type": "code",
    "id": "gMPm_HXgr9Hg",
    "colab": {},
    "cell_id": "00014-61ac4d80-9163-47ee-b2da-1d657cc52077",
    "deepnote_cell_type": "code"
   },
   "source": "import sklearn.linear_model as lm\n\n# YOUR CODE HERE",
   "execution_count": null,
   "outputs": []
  },
  {
   "cell_type": "markdown",
   "source": "Do 2 variables have to be verry correlated to reduce their effectiveness together?\n\n(YOUR ANSWER HERE)",
   "metadata": {
    "colab_type": "text",
    "id": "7QT8aPEQr9Hl",
    "cell_id": "00015-d3208db8-283e-47d8-bcd0-630d7958f77a",
    "deepnote_cell_type": "markdown"
   }
  },
  {
   "cell_type": "markdown",
   "source": "## Logistic",
   "metadata": {
    "colab_type": "text",
    "id": "HY_jT1uksAYu",
    "cell_id": "00016-4c0822c9-cb18-4193-a10d-acd737bfdfb2",
    "deepnote_cell_type": "markdown"
   }
  },
  {
   "cell_type": "markdown",
   "source": "We are going to predict wheter or not someone has breast cancer using Logistic Regression on sklearn's breast cancer dataset. It is up to you to decide what features to get the best results.",
   "metadata": {
    "id": "bTR7FOhdqm_e",
    "colab_type": "text",
    "cell_id": "00017-1b373f19-5135-41be-86eb-dd00581e3c78",
    "deepnote_cell_type": "markdown"
   }
  },
  {
   "cell_type": "code",
   "metadata": {
    "colab_type": "code",
    "id": "Pg6kfm6VAdhN",
    "colab": {},
    "cell_id": "00018-d703d1de-62e7-4318-926b-f033ceb37124",
    "deepnote_cell_type": "code"
   },
   "source": "from sklearn.datasets import load_breast_cancer\nfrom sklearn.model_selection import train_test_split\nfrom sklearn.linear_model import LogisticRegression\n\ndata = load_breast_cancer()\n\nX_cols = []\nY_cols = []\n\n# YOUR CODE HERE",
   "execution_count": null,
   "outputs": []
  },
  {
   "cell_type": "markdown",
   "source": "Test your logistical regression! You must get an accuracy of > 80%",
   "metadata": {
    "colab_type": "text",
    "id": "kUZXPX46CUS9",
    "cell_id": "00019-92a01ac8-2487-4e1c-a861-d54f06cd0b4e",
    "deepnote_cell_type": "markdown"
   }
  },
  {
   "cell_type": "code",
   "metadata": {
    "colab_type": "code",
    "id": "AnPoDu-CCTsE",
    "colab": {},
    "cell_id": "00020-1005de50-c723-4dd2-8836-3d3030120fb5",
    "deepnote_cell_type": "code"
   },
   "source": "from sklearn.metrics import accuracy_score\n\n# YOUR CODE HERE\n\nprint(\"Validation Accuracy is \", accuracy_score(y_val,y_val_pred)*100)",
   "execution_count": null,
   "outputs": []
  },
  {
   "cell_type": "markdown",
   "source": "<a style='text-decoration:none;line-height:16px;display:flex;color:#5B5B62;padding:10px;justify-content:end;' href='https://deepnote.com?utm_source=created-in-deepnote-cell&projectId=6aa92908-daf4-47cc-a24d-1e94a9949d60' target=\"_blank\">\n<img alt='Created in deepnote.com' style='display:inline;max-height:16px;margin:0px;margin-right:7.5px;' src='data:image/svg+xml;base64,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' > </img>\nCreated in <span style='font-weight:600;margin-left:4px;'>Deepnote</span></a>",
   "metadata": {
    "tags": [],
    "created_in_deepnote_cell": true,
    "deepnote_cell_type": "markdown"
   }
  }
 ],
 "nbformat": 4,
 "nbformat_minor": 0,
 "metadata": {
  "colab": {
   "name": "Regression_Exercises",
   "provenance": []
  },
  "kernelspec": {
   "display_name": "Python 3",
   "language": "python",
   "name": "python3"
  },
  "language_info": {
   "codemirror_mode": {
    "name": "ipython",
    "version": 3
   },
   "file_extension": ".py",
   "mimetype": "text/x-python",
   "name": "python",
   "nbconvert_exporter": "python",
   "pygments_lexer": "ipython3",
   "version": "3.7.3"
  },
  "deepnote_notebook_id": "cd1723ef-a6c7-4925-9bec-d14711299f9c",
  "deepnote": {},
  "deepnote_execution_queue": []
 }
}