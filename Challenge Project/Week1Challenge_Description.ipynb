{
 "cells": [
  {
   "cell_type": "markdown",
   "source": "# Week 1 Challenge Project\n### Lyle Lalunio\n---\nHypothyroidism, also called underactive thyroid or low thyroid, is a disorder of the endocrine system in which the thyroid gland does not produce enough thyroid hormone. It can cause a number of symptoms, such as poor ability to tolerate cold, a feeling of tiredness, constipation, depression, and weight gain. Occasionally there may be swelling of the front part of the neck due to goitre. Untreated hypothyroidism during pregnancy can lead to delays in growth and intellectual development in the baby or cretinism.\n\nWorldwide, too little iodine in the diet is the most common cause of hypothyroidism. In countries with enough iodine in the diet, the most common cause of hypothyroidism is the autoimmune condition Hashimoto's thyroiditis. Less common causes include: previous treatment with radioactive iodine, injury to the hypothalamus or the anterior pituitary gland, certain medications, a lack of a functioning thyroid at birth, or previous thyroid surgery. The diagnosis of hypothyroidism, when suspected, can be confirmed with blood tests measuring thyroid-stimulating hormone (TSH) and thyroxine levels.\n\nWorldwide about one billion people are estimated to be iodine deficient; however, it is unknown how often this results in hypothyroidism. In the United States, hypothyroidism occurs in 0.3–0.4% of people.\n\nAnd that is why we iodize salt.\n\n![alt text](https://www.mayoclinic.org/-/media/kcms/gbs/patient-consumer/images/2013/11/15/17/39/ds00181_-ds00344_-ds00353_-ds00491_-ds00492_-ds00567_-ds00660_-my00709_im01872_thyroid_gif.jpg)\n\n",
   "metadata": {
    "colab_type": "text",
    "id": "XQDE8pPCpFRb",
    "cell_id": "00000-58a1f58c-8e2a-452b-a702-4d59413a2541",
    "deepnote_cell_type": "markdown"
   }
  },
  {
   "cell_type": "markdown",
   "source": "Background: Doctors all around the world need our help to predict whether a patient has hypothyroid disease. We have already overspent our budget to collect such complete data on about 30 attributes for 2800 patients--a good starting number, but a larger sample would certainly be preferred. Moving forward, however, we simply cannot afford to spend so much money on data collection. Therefore, we also need to determine which attributes are the most meaningful to the predictive models, and cut out the rest that don't contribute much. \n\nThe boss wants to see a **balanced** model that can predict with a **high sensitivity** and **high specificity** while using a ***low amount of features***. Collecting complete data such as this is very rare, very time-consuming, and often very expensive. By minimizing the number of features, it will optimize future data collection by deciding what needs to be collected, and what doesn't.",
   "metadata": {
    "colab_type": "text",
    "id": "OFF1-BLiSLZ8",
    "cell_id": "00001-cc151754-7a5e-4b6f-afcb-7f45e7445d2f",
    "deepnote_cell_type": "markdown"
   }
  },
  {
   "cell_type": "markdown",
   "source": "## Loading the data",
   "metadata": {
    "colab_type": "text",
    "id": "HsZB_SGvp4mP",
    "cell_id": "00002-8b3a55b7-b860-4e82-854a-d8cdabaeef23",
    "deepnote_cell_type": "markdown"
   }
  },
  {
   "cell_type": "markdown",
   "source": "Let's read the data into a Pandas dataframe and look at the first 10 records.",
   "metadata": {
    "colab_type": "text",
    "id": "DWrUz9OQ0uAU",
    "cell_id": "00003-59e514df-9a91-4f20-8150-f1c3620c3295",
    "deepnote_cell_type": "markdown"
   }
  },
  {
   "cell_type": "code",
   "metadata": {
    "colab": {
     "autoexec": {
      "startup": false,
      "wait_interval": 0
     }
    },
    "colab_type": "code",
    "id": "s9AtXQPkzC8j",
    "cell_id": "00004-886ccb32-366b-4d72-8aa6-4a30a58fd976",
    "deepnote_to_be_reexecuted": false,
    "source_hash": "87616c45",
    "execution_start": 1625755665466,
    "execution_millis": 171,
    "deepnote_cell_type": "code"
   },
   "source": "import pandas as po\n\nurl = \"https://raw.githubusercontent.com/Medlytics2021/Week1Public/master/Datasets/allhypo.train.data\"\ndataset = po.read_csv(url) \ndataset.head(10)",
   "execution_count": 16,
   "outputs": [
    {
     "output_type": "execute_result",
     "execution_count": 16,
     "data": {
      "application/vnd.deepnote.dataframe.v2+json": {
       "row_count": 10,
       "column_count": 30,
       "columns": [
        {
         "name": "Age",
         "dtype": "object",
         "stats": {
          "unique_count": 9,
          "nan_count": 0,
          "categories": [
           {
            "name": "70",
            "count": 2
           },
           {
            "name": "41",
            "count": 1
           },
           {
            "name": "7 others",
            "count": 7
           }
          ]
         }
        },
        {
         "name": " Sex",
         "dtype": "object",
         "stats": {
          "unique_count": 2,
          "nan_count": 0,
          "categories": [
           {
            "name": "F",
            "count": 8
           },
           {
            "name": "M",
            "count": 2
           }
          ]
         }
        },
        {
         "name": " On Thyroxine",
         "dtype": "object",
         "stats": {
          "unique_count": 2,
          "nan_count": 0,
          "categories": [
           {
            "name": "f",
            "count": 8
           },
           {
            "name": "t",
            "count": 2
           }
          ]
         }
        },
        {
         "name": " Query on Thyroxine",
         "dtype": "object",
         "stats": {
          "unique_count": 1,
          "nan_count": 0,
          "categories": [
           {
            "name": "f",
            "count": 10
           }
          ]
         }
        },
        {
         "name": " On Antithyroid Medication",
         "dtype": "object",
         "stats": {
          "unique_count": 1,
          "nan_count": 0,
          "categories": [
           {
            "name": "f",
            "count": 10
           }
          ]
         }
        },
        {
         "name": " Sick",
         "dtype": "object",
         "stats": {
          "unique_count": 1,
          "nan_count": 0,
          "categories": [
           {
            "name": "f",
            "count": 10
           }
          ]
         }
        },
        {
         "name": " Pregnant",
         "dtype": "object",
         "stats": {
          "unique_count": 1,
          "nan_count": 0,
          "categories": [
           {
            "name": "f",
            "count": 10
           }
          ]
         }
        },
        {
         "name": " Thyroid Surgery",
         "dtype": "object",
         "stats": {
          "unique_count": 1,
          "nan_count": 0,
          "categories": [
           {
            "name": "f",
            "count": 10
           }
          ]
         }
        },
        {
         "name": " I131 Treatment",
         "dtype": "object",
         "stats": {
          "unique_count": 1,
          "nan_count": 0,
          "categories": [
           {
            "name": "f",
            "count": 10
           }
          ]
         }
        },
        {
         "name": " Query Hypothyroid",
         "dtype": "object",
         "stats": {
          "unique_count": 1,
          "nan_count": 0,
          "categories": [
           {
            "name": "f",
            "count": 10
           }
          ]
         }
        },
        {
         "name": " Query Hyperthyroid",
         "dtype": "object",
         "stats": {
          "unique_count": 1,
          "nan_count": 0,
          "categories": [
           {
            "name": "f",
            "count": 10
           }
          ]
         }
        },
        {
         "name": " Lithium",
         "dtype": "object",
         "stats": {
          "unique_count": 1,
          "nan_count": 0,
          "categories": [
           {
            "name": "f",
            "count": 10
           }
          ]
         }
        },
        {
         "name": " Goiter",
         "dtype": "object",
         "stats": {
          "unique_count": 1,
          "nan_count": 0,
          "categories": [
           {
            "name": "f",
            "count": 10
           }
          ]
         }
        },
        {
         "name": " Tumor",
         "dtype": "object",
         "stats": {
          "unique_count": 2,
          "nan_count": 0,
          "categories": [
           {
            "name": "f",
            "count": 9
           },
           {
            "name": "t",
            "count": 1
           }
          ]
         }
        },
        {
         "name": " Hypopituitary",
         "dtype": "object",
         "stats": {
          "unique_count": 1,
          "nan_count": 0,
          "categories": [
           {
            "name": "f",
            "count": 10
           }
          ]
         }
        },
        {
         "name": " Psych",
         "dtype": "object",
         "stats": {
          "unique_count": 1,
          "nan_count": 0,
          "categories": [
           {
            "name": "f",
            "count": 10
           }
          ]
         }
        },
        {
         "name": " TSH Measured",
         "dtype": "object",
         "stats": {
          "unique_count": 2,
          "nan_count": 0,
          "categories": [
           {
            "name": "t",
            "count": 9
           },
           {
            "name": "f",
            "count": 1
           }
          ]
         }
        },
        {
         "name": " TSH",
         "dtype": "object",
         "stats": {
          "unique_count": 10,
          "nan_count": 0,
          "categories": [
           {
            "name": "1.3",
            "count": 1
           },
           {
            "name": "4.1",
            "count": 1
           },
           {
            "name": "8 others",
            "count": 8
           }
          ]
         }
        },
        {
         "name": " T3 Measured",
         "dtype": "object",
         "stats": {
          "unique_count": 2,
          "nan_count": 0,
          "categories": [
           {
            "name": "t",
            "count": 7
           },
           {
            "name": "f",
            "count": 3
           }
          ]
         }
        },
        {
         "name": " T3",
         "dtype": "object",
         "stats": {
          "unique_count": 8,
          "nan_count": 0,
          "categories": [
           {
            "name": "?",
            "count": 3
           },
           {
            "name": "2.5",
            "count": 1
           },
           {
            "name": "6 others",
            "count": 6
           }
          ]
         }
        },
        {
         "name": " TT4 Measured",
         "dtype": "object",
         "stats": {
          "unique_count": 1,
          "nan_count": 0,
          "categories": [
           {
            "name": "t",
            "count": 10
           }
          ]
         }
        },
        {
         "name": " TT4",
         "dtype": "object",
         "stats": {
          "unique_count": 10,
          "nan_count": 0,
          "categories": [
           {
            "name": "125",
            "count": 1
           },
           {
            "name": "102",
            "count": 1
           },
           {
            "name": "8 others",
            "count": 8
           }
          ]
         }
        },
        {
         "name": " T4U Measured",
         "dtype": "object",
         "stats": {
          "unique_count": 2,
          "nan_count": 0,
          "categories": [
           {
            "name": "t",
            "count": 8
           },
           {
            "name": "f",
            "count": 2
           }
          ]
         }
        },
        {
         "name": " T4U",
         "dtype": "object",
         "stats": {
          "unique_count": 9,
          "nan_count": 0,
          "categories": [
           {
            "name": "?",
            "count": 2
           },
           {
            "name": "1.14",
            "count": 1
           },
           {
            "name": "7 others",
            "count": 7
           }
          ]
         }
        },
        {
         "name": " FTI Measured",
         "dtype": "object",
         "stats": {
          "unique_count": 2,
          "nan_count": 0,
          "categories": [
           {
            "name": "t",
            "count": 8
           },
           {
            "name": "f",
            "count": 2
           }
          ]
         }
        },
        {
         "name": " FTI",
         "dtype": "object",
         "stats": {
          "unique_count": 9,
          "nan_count": 0,
          "categories": [
           {
            "name": "?",
            "count": 2
           },
           {
            "name": "109",
            "count": 1
           },
           {
            "name": "7 others",
            "count": 7
           }
          ]
         }
        },
        {
         "name": " TBG Measured",
         "dtype": "object",
         "stats": {
          "unique_count": 1,
          "nan_count": 0,
          "categories": [
           {
            "name": "f",
            "count": 10
           }
          ]
         }
        },
        {
         "name": " TBG",
         "dtype": "object",
         "stats": {
          "unique_count": 1,
          "nan_count": 0,
          "categories": [
           {
            "name": "?",
            "count": 10
           }
          ]
         }
        },
        {
         "name": " Referral Source",
         "dtype": "object",
         "stats": {
          "unique_count": 3,
          "nan_count": 0,
          "categories": [
           {
            "name": "other",
            "count": 5
           },
           {
            "name": "SVI",
            "count": 4
           },
           {
            "name": "SVHC",
            "count": 1
           }
          ]
         }
        },
        {
         "name": " Class ",
         "dtype": "object",
         "stats": {
          "unique_count": 10,
          "nan_count": 0,
          "categories": [
           {
            "name": "negative.|3733",
            "count": 1
           },
           {
            "name": "negative.|1442",
            "count": 1
           },
           {
            "name": "8 others",
            "count": 8
           }
          ]
         }
        },
        {
         "name": "_deepnote_index_column",
         "dtype": "int64"
        }
       ],
       "rows_top": [
        {
         "Age": "41",
         " Sex": "F",
         " On Thyroxine": "f",
         " Query on Thyroxine": "f",
         " On Antithyroid Medication": "f",
         " Sick": "f",
         " Pregnant": "f",
         " Thyroid Surgery": "f",
         " I131 Treatment": "f",
         " Query Hypothyroid": "f",
         " Query Hyperthyroid": "f",
         " Lithium": "f",
         " Goiter": "f",
         " Tumor": "f",
         " Hypopituitary": "f",
         " Psych": "f",
         " TSH Measured": "t",
         " TSH": "1.3",
         " T3 Measured": "t",
         " T3": "2.5",
         " TT4 Measured": "t",
         " TT4": "125",
         " T4U Measured": "t",
         " T4U": "1.14",
         " FTI Measured": "t",
         " FTI": "109",
         " TBG Measured": "f",
         " TBG": "?",
         " Referral Source": "SVHC",
         " Class ": "negative.|3733",
         "_deepnote_index_column": 0
        },
        {
         "Age": "23",
         " Sex": "F",
         " On Thyroxine": "f",
         " Query on Thyroxine": "f",
         " On Antithyroid Medication": "f",
         " Sick": "f",
         " Pregnant": "f",
         " Thyroid Surgery": "f",
         " I131 Treatment": "f",
         " Query Hypothyroid": "f",
         " Query Hyperthyroid": "f",
         " Lithium": "f",
         " Goiter": "f",
         " Tumor": "f",
         " Hypopituitary": "f",
         " Psych": "f",
         " TSH Measured": "t",
         " TSH": "4.1",
         " T3 Measured": "t",
         " T3": "2",
         " TT4 Measured": "t",
         " TT4": "102",
         " T4U Measured": "f",
         " T4U": "?",
         " FTI Measured": "f",
         " FTI": "?",
         " TBG Measured": "f",
         " TBG": "?",
         " Referral Source": "other",
         " Class ": "negative.|1442",
         "_deepnote_index_column": 1
        },
        {
         "Age": "46",
         " Sex": "M",
         " On Thyroxine": "f",
         " Query on Thyroxine": "f",
         " On Antithyroid Medication": "f",
         " Sick": "f",
         " Pregnant": "f",
         " Thyroid Surgery": "f",
         " I131 Treatment": "f",
         " Query Hypothyroid": "f",
         " Query Hyperthyroid": "f",
         " Lithium": "f",
         " Goiter": "f",
         " Tumor": "f",
         " Hypopituitary": "f",
         " Psych": "f",
         " TSH Measured": "t",
         " TSH": "0.98",
         " T3 Measured": "f",
         " T3": "?",
         " TT4 Measured": "t",
         " TT4": "109",
         " T4U Measured": "t",
         " T4U": "0.91",
         " FTI Measured": "t",
         " FTI": "120",
         " TBG Measured": "f",
         " TBG": "?",
         " Referral Source": "other",
         " Class ": "negative.|2965",
         "_deepnote_index_column": 2
        },
        {
         "Age": "70",
         " Sex": "F",
         " On Thyroxine": "t",
         " Query on Thyroxine": "f",
         " On Antithyroid Medication": "f",
         " Sick": "f",
         " Pregnant": "f",
         " Thyroid Surgery": "f",
         " I131 Treatment": "f",
         " Query Hypothyroid": "f",
         " Query Hyperthyroid": "f",
         " Lithium": "f",
         " Goiter": "f",
         " Tumor": "f",
         " Hypopituitary": "f",
         " Psych": "f",
         " TSH Measured": "t",
         " TSH": "0.16",
         " T3 Measured": "t",
         " T3": "1.9",
         " TT4 Measured": "t",
         " TT4": "175",
         " T4U Measured": "f",
         " T4U": "?",
         " FTI Measured": "f",
         " FTI": "?",
         " TBG Measured": "f",
         " TBG": "?",
         " Referral Source": "other",
         " Class ": "negative.|806",
         "_deepnote_index_column": 3
        },
        {
         "Age": "70",
         " Sex": "F",
         " On Thyroxine": "f",
         " Query on Thyroxine": "f",
         " On Antithyroid Medication": "f",
         " Sick": "f",
         " Pregnant": "f",
         " Thyroid Surgery": "f",
         " I131 Treatment": "f",
         " Query Hypothyroid": "f",
         " Query Hyperthyroid": "f",
         " Lithium": "f",
         " Goiter": "f",
         " Tumor": "f",
         " Hypopituitary": "f",
         " Psych": "f",
         " TSH Measured": "t",
         " TSH": "0.72",
         " T3 Measured": "t",
         " T3": "1.2",
         " TT4 Measured": "t",
         " TT4": "61",
         " T4U Measured": "t",
         " T4U": "0.87",
         " FTI Measured": "t",
         " FTI": "70",
         " TBG Measured": "f",
         " TBG": "?",
         " Referral Source": "SVI",
         " Class ": "negative.|2807",
         "_deepnote_index_column": 4
        },
        {
         "Age": "18",
         " Sex": "F",
         " On Thyroxine": "t",
         " Query on Thyroxine": "f",
         " On Antithyroid Medication": "f",
         " Sick": "f",
         " Pregnant": "f",
         " Thyroid Surgery": "f",
         " I131 Treatment": "f",
         " Query Hypothyroid": "f",
         " Query Hyperthyroid": "f",
         " Lithium": "f",
         " Goiter": "f",
         " Tumor": "f",
         " Hypopituitary": "f",
         " Psych": "f",
         " TSH Measured": "t",
         " TSH": "0.03",
         " T3 Measured": "f",
         " T3": "?",
         " TT4 Measured": "t",
         " TT4": "183",
         " T4U Measured": "t",
         " T4U": "1.3",
         " FTI Measured": "t",
         " FTI": "141",
         " TBG Measured": "f",
         " TBG": "?",
         " Referral Source": "other",
         " Class ": "negative.|3434",
         "_deepnote_index_column": 5
        },
        {
         "Age": "59",
         " Sex": "F",
         " On Thyroxine": "f",
         " Query on Thyroxine": "f",
         " On Antithyroid Medication": "f",
         " Sick": "f",
         " Pregnant": "f",
         " Thyroid Surgery": "f",
         " I131 Treatment": "f",
         " Query Hypothyroid": "f",
         " Query Hyperthyroid": "f",
         " Lithium": "f",
         " Goiter": "f",
         " Tumor": "f",
         " Hypopituitary": "f",
         " Psych": "f",
         " TSH Measured": "f",
         " TSH": "?",
         " T3 Measured": "f",
         " T3": "?",
         " TT4 Measured": "t",
         " TT4": "72",
         " T4U Measured": "t",
         " T4U": "0.92",
         " FTI Measured": "t",
         " FTI": "78",
         " TBG Measured": "f",
         " TBG": "?",
         " Referral Source": "other",
         " Class ": "negative.|1595",
         "_deepnote_index_column": 6
        },
        {
         "Age": "80",
         " Sex": "F",
         " On Thyroxine": "f",
         " Query on Thyroxine": "f",
         " On Antithyroid Medication": "f",
         " Sick": "f",
         " Pregnant": "f",
         " Thyroid Surgery": "f",
         " I131 Treatment": "f",
         " Query Hypothyroid": "f",
         " Query Hyperthyroid": "f",
         " Lithium": "f",
         " Goiter": "f",
         " Tumor": "f",
         " Hypopituitary": "f",
         " Psych": "f",
         " TSH Measured": "t",
         " TSH": "2.2",
         " T3 Measured": "t",
         " T3": "0.6",
         " TT4 Measured": "t",
         " TT4": "80",
         " T4U Measured": "t",
         " T4U": "0.7",
         " FTI Measured": "t",
         " FTI": "115",
         " TBG Measured": "f",
         " TBG": "?",
         " Referral Source": "SVI",
         " Class ": "negative.|1367",
         "_deepnote_index_column": 7
        },
        {
         "Age": "66",
         " Sex": "F",
         " On Thyroxine": "f",
         " Query on Thyroxine": "f",
         " On Antithyroid Medication": "f",
         " Sick": "f",
         " Pregnant": "f",
         " Thyroid Surgery": "f",
         " I131 Treatment": "f",
         " Query Hypothyroid": "f",
         " Query Hyperthyroid": "f",
         " Lithium": "f",
         " Goiter": "f",
         " Tumor": "t",
         " Hypopituitary": "f",
         " Psych": "f",
         " TSH Measured": "t",
         " TSH": "0.6",
         " T3 Measured": "t",
         " T3": "2.2",
         " TT4 Measured": "t",
         " TT4": "123",
         " T4U Measured": "t",
         " T4U": "0.93",
         " FTI Measured": "t",
         " FTI": "132",
         " TBG Measured": "f",
         " TBG": "?",
         " Referral Source": "SVI",
         " Class ": "negative.|1787",
         "_deepnote_index_column": 8
        },
        {
         "Age": "68",
         " Sex": "M",
         " On Thyroxine": "f",
         " Query on Thyroxine": "f",
         " On Antithyroid Medication": "f",
         " Sick": "f",
         " Pregnant": "f",
         " Thyroid Surgery": "f",
         " I131 Treatment": "f",
         " Query Hypothyroid": "f",
         " Query Hyperthyroid": "f",
         " Lithium": "f",
         " Goiter": "f",
         " Tumor": "f",
         " Hypopituitary": "f",
         " Psych": "f",
         " TSH Measured": "t",
         " TSH": "2.4",
         " T3 Measured": "t",
         " T3": "1.6",
         " TT4 Measured": "t",
         " TT4": "83",
         " T4U Measured": "t",
         " T4U": "0.89",
         " FTI Measured": "t",
         " FTI": "93",
         " TBG Measured": "f",
         " TBG": "?",
         " Referral Source": "SVI",
         " Class ": "negative.|2534",
         "_deepnote_index_column": 9
        }
       ],
       "rows_bottom": null
      },
      "text/plain": "  Age  Sex  On Thyroxine  Query on Thyroxine  On Antithyroid Medication  Sick  \\\n0  41    F             f                   f                          f     f   \n1  23    F             f                   f                          f     f   \n2  46    M             f                   f                          f     f   \n3  70    F             t                   f                          f     f   \n4  70    F             f                   f                          f     f   \n5  18    F             t                   f                          f     f   \n6  59    F             f                   f                          f     f   \n7  80    F             f                   f                          f     f   \n8  66    F             f                   f                          f     f   \n9  68    M             f                   f                          f     f   \n\n   Pregnant  Thyroid Surgery  I131 Treatment  Query Hypothyroid  ...  \\\n0         f                f               f                  f  ...   \n1         f                f               f                  f  ...   \n2         f                f               f                  f  ...   \n3         f                f               f                  f  ...   \n4         f                f               f                  f  ...   \n5         f                f               f                  f  ...   \n6         f                f               f                  f  ...   \n7         f                f               f                  f  ...   \n8         f                f               f                  f  ...   \n9         f                f               f                  f  ...   \n\n   TT4 Measured  TT4  T4U Measured   T4U  FTI Measured  FTI  TBG Measured  \\\n0             t  125             t  1.14             t  109             f   \n1             t  102             f     ?             f    ?             f   \n2             t  109             t  0.91             t  120             f   \n3             t  175             f     ?             f    ?             f   \n4             t   61             t  0.87             t   70             f   \n5             t  183             t   1.3             t  141             f   \n6             t   72             t  0.92             t   78             f   \n7             t   80             t   0.7             t  115             f   \n8             t  123             t  0.93             t  132             f   \n9             t   83             t  0.89             t   93             f   \n\n   TBG  Referral Source          Class   \n0    ?             SVHC  negative.|3733  \n1    ?            other  negative.|1442  \n2    ?            other  negative.|2965  \n3    ?            other   negative.|806  \n4    ?              SVI  negative.|2807  \n5    ?            other  negative.|3434  \n6    ?            other  negative.|1595  \n7    ?              SVI  negative.|1367  \n8    ?              SVI  negative.|1787  \n9    ?              SVI  negative.|2534  \n\n[10 rows x 30 columns]",
      "text/html": "<div>\n<style scoped>\n    .dataframe tbody tr th:only-of-type {\n        vertical-align: middle;\n    }\n\n    .dataframe tbody tr th {\n        vertical-align: top;\n    }\n\n    .dataframe thead th {\n        text-align: right;\n    }\n</style>\n<table border=\"1\" class=\"dataframe\">\n  <thead>\n    <tr style=\"text-align: right;\">\n      <th></th>\n      <th>Age</th>\n      <th>Sex</th>\n      <th>On Thyroxine</th>\n      <th>Query on Thyroxine</th>\n      <th>On Antithyroid Medication</th>\n      <th>Sick</th>\n      <th>Pregnant</th>\n      <th>Thyroid Surgery</th>\n      <th>I131 Treatment</th>\n      <th>Query Hypothyroid</th>\n      <th>...</th>\n      <th>TT4 Measured</th>\n      <th>TT4</th>\n      <th>T4U Measured</th>\n      <th>T4U</th>\n      <th>FTI Measured</th>\n      <th>FTI</th>\n      <th>TBG Measured</th>\n      <th>TBG</th>\n      <th>Referral Source</th>\n      <th>Class</th>\n    </tr>\n  </thead>\n  <tbody>\n    <tr>\n      <th>0</th>\n      <td>41</td>\n      <td>F</td>\n      <td>f</td>\n      <td>f</td>\n      <td>f</td>\n      <td>f</td>\n      <td>f</td>\n      <td>f</td>\n      <td>f</td>\n      <td>f</td>\n      <td>...</td>\n      <td>t</td>\n      <td>125</td>\n      <td>t</td>\n      <td>1.14</td>\n      <td>t</td>\n      <td>109</td>\n      <td>f</td>\n      <td>?</td>\n      <td>SVHC</td>\n      <td>negative.|3733</td>\n    </tr>\n    <tr>\n      <th>1</th>\n      <td>23</td>\n      <td>F</td>\n      <td>f</td>\n      <td>f</td>\n      <td>f</td>\n      <td>f</td>\n      <td>f</td>\n      <td>f</td>\n      <td>f</td>\n      <td>f</td>\n      <td>...</td>\n      <td>t</td>\n      <td>102</td>\n      <td>f</td>\n      <td>?</td>\n      <td>f</td>\n      <td>?</td>\n      <td>f</td>\n      <td>?</td>\n      <td>other</td>\n      <td>negative.|1442</td>\n    </tr>\n    <tr>\n      <th>2</th>\n      <td>46</td>\n      <td>M</td>\n      <td>f</td>\n      <td>f</td>\n      <td>f</td>\n      <td>f</td>\n      <td>f</td>\n      <td>f</td>\n      <td>f</td>\n      <td>f</td>\n      <td>...</td>\n      <td>t</td>\n      <td>109</td>\n      <td>t</td>\n      <td>0.91</td>\n      <td>t</td>\n      <td>120</td>\n      <td>f</td>\n      <td>?</td>\n      <td>other</td>\n      <td>negative.|2965</td>\n    </tr>\n    <tr>\n      <th>3</th>\n      <td>70</td>\n      <td>F</td>\n      <td>t</td>\n      <td>f</td>\n      <td>f</td>\n      <td>f</td>\n      <td>f</td>\n      <td>f</td>\n      <td>f</td>\n      <td>f</td>\n      <td>...</td>\n      <td>t</td>\n      <td>175</td>\n      <td>f</td>\n      <td>?</td>\n      <td>f</td>\n      <td>?</td>\n      <td>f</td>\n      <td>?</td>\n      <td>other</td>\n      <td>negative.|806</td>\n    </tr>\n    <tr>\n      <th>4</th>\n      <td>70</td>\n      <td>F</td>\n      <td>f</td>\n      <td>f</td>\n      <td>f</td>\n      <td>f</td>\n      <td>f</td>\n      <td>f</td>\n      <td>f</td>\n      <td>f</td>\n      <td>...</td>\n      <td>t</td>\n      <td>61</td>\n      <td>t</td>\n      <td>0.87</td>\n      <td>t</td>\n      <td>70</td>\n      <td>f</td>\n      <td>?</td>\n      <td>SVI</td>\n      <td>negative.|2807</td>\n    </tr>\n    <tr>\n      <th>5</th>\n      <td>18</td>\n      <td>F</td>\n      <td>t</td>\n      <td>f</td>\n      <td>f</td>\n      <td>f</td>\n      <td>f</td>\n      <td>f</td>\n      <td>f</td>\n      <td>f</td>\n      <td>...</td>\n      <td>t</td>\n      <td>183</td>\n      <td>t</td>\n      <td>1.3</td>\n      <td>t</td>\n      <td>141</td>\n      <td>f</td>\n      <td>?</td>\n      <td>other</td>\n      <td>negative.|3434</td>\n    </tr>\n    <tr>\n      <th>6</th>\n      <td>59</td>\n      <td>F</td>\n      <td>f</td>\n      <td>f</td>\n      <td>f</td>\n      <td>f</td>\n      <td>f</td>\n      <td>f</td>\n      <td>f</td>\n      <td>f</td>\n      <td>...</td>\n      <td>t</td>\n      <td>72</td>\n      <td>t</td>\n      <td>0.92</td>\n      <td>t</td>\n      <td>78</td>\n      <td>f</td>\n      <td>?</td>\n      <td>other</td>\n      <td>negative.|1595</td>\n    </tr>\n    <tr>\n      <th>7</th>\n      <td>80</td>\n      <td>F</td>\n      <td>f</td>\n      <td>f</td>\n      <td>f</td>\n      <td>f</td>\n      <td>f</td>\n      <td>f</td>\n      <td>f</td>\n      <td>f</td>\n      <td>...</td>\n      <td>t</td>\n      <td>80</td>\n      <td>t</td>\n      <td>0.7</td>\n      <td>t</td>\n      <td>115</td>\n      <td>f</td>\n      <td>?</td>\n      <td>SVI</td>\n      <td>negative.|1367</td>\n    </tr>\n    <tr>\n      <th>8</th>\n      <td>66</td>\n      <td>F</td>\n      <td>f</td>\n      <td>f</td>\n      <td>f</td>\n      <td>f</td>\n      <td>f</td>\n      <td>f</td>\n      <td>f</td>\n      <td>f</td>\n      <td>...</td>\n      <td>t</td>\n      <td>123</td>\n      <td>t</td>\n      <td>0.93</td>\n      <td>t</td>\n      <td>132</td>\n      <td>f</td>\n      <td>?</td>\n      <td>SVI</td>\n      <td>negative.|1787</td>\n    </tr>\n    <tr>\n      <th>9</th>\n      <td>68</td>\n      <td>M</td>\n      <td>f</td>\n      <td>f</td>\n      <td>f</td>\n      <td>f</td>\n      <td>f</td>\n      <td>f</td>\n      <td>f</td>\n      <td>f</td>\n      <td>...</td>\n      <td>t</td>\n      <td>83</td>\n      <td>t</td>\n      <td>0.89</td>\n      <td>t</td>\n      <td>93</td>\n      <td>f</td>\n      <td>?</td>\n      <td>SVI</td>\n      <td>negative.|2534</td>\n    </tr>\n  </tbody>\n</table>\n<p>10 rows × 30 columns</p>\n</div>"
     },
     "metadata": {}
    }
   ]
  },
  {
   "cell_type": "code",
   "metadata": {
    "tags": [],
    "cell_id": "00005-1b1c29a4-fe77-48e9-9f05-5e6a76042056",
    "deepnote_to_be_reexecuted": false,
    "source_hash": "efbbfa43",
    "execution_start": 1625755666609,
    "execution_millis": 1,
    "deepnote_cell_type": "code"
   },
   "source": "dataset.columns = ['Age', 'Sex', 'On Thyroxine', 'Query on Thyroxine', 'On Antithyroid Medication', 'Sick', 'Pregnant', 'Thyroid Surgery', 'I131 Treatment', 'Query Hypothyroid', 'Query Hyperthyroid', 'Lithium', 'Goiter', 'Tumor', 'Hypopituitary', 'Psych', 'TSH Measured', 'TSH', 'T3 Measured', 'T3', 'TT4 Measured', 'TT4', 'T4U Measured', 'T4U', 'FTI Measured', 'FTI', 'TBG Measured', 'TBG', 'Referral Source', 'Class']",
   "execution_count": 17,
   "outputs": []
  },
  {
   "cell_type": "markdown",
   "source": "Great, looks like the data loaded in properly. Let's continue looking at some summary statistics on our data.",
   "metadata": {
    "colab_type": "text",
    "id": "tYhtoqdR6Y3J",
    "cell_id": "00005-193eb235-b37a-4fb6-81a6-22b2fb2c703a",
    "deepnote_cell_type": "markdown"
   }
  },
  {
   "cell_type": "markdown",
   "source": "## Viewing summary statistics\nThe functions describe() and info() are your friends",
   "metadata": {
    "colab_type": "text",
    "id": "sGKbG-eBqBjF",
    "cell_id": "00006-7a230caa-6cfa-4cbd-b1c5-0ff69e974b00",
    "deepnote_cell_type": "markdown"
   }
  },
  {
   "cell_type": "code",
   "metadata": {
    "colab": {
     "autoexec": {
      "startup": false,
      "wait_interval": 0
     }
    },
    "colab_type": "code",
    "id": "rnp3nN9b6ZNw",
    "cell_id": "00007-6643b8b9-7eac-4444-bcf9-d32f9a9da869",
    "deepnote_to_be_reexecuted": false,
    "source_hash": "f5acf3f1",
    "execution_start": 1625755667968,
    "execution_millis": 247,
    "deepnote_cell_type": "code"
   },
   "source": "# output high-level column statistics\ndataset.describe()",
   "execution_count": 18,
   "outputs": [
    {
     "output_type": "execute_result",
     "execution_count": 18,
     "data": {
      "application/vnd.deepnote.dataframe.v2+json": {
       "row_count": 4,
       "column_count": 30,
       "columns": [
        {
         "name": "Age",
         "dtype": "object",
         "stats": {
          "unique_count": 4,
          "nan_count": 0,
          "categories": [
           {
            "name": "2800",
            "count": 1
           },
           {
            "name": "94",
            "count": 1
           },
           {
            "name": "2 others",
            "count": 2
           }
          ]
         }
        },
        {
         "name": "Sex",
         "dtype": "object",
         "stats": {
          "unique_count": 4,
          "nan_count": 0,
          "categories": [
           {
            "name": "2800",
            "count": 1
           },
           {
            "name": "3",
            "count": 1
           },
           {
            "name": "2 others",
            "count": 2
           }
          ]
         }
        },
        {
         "name": "On Thyroxine",
         "dtype": "object",
         "stats": {
          "unique_count": 4,
          "nan_count": 0,
          "categories": [
           {
            "name": "2800",
            "count": 1
           },
           {
            "name": "2",
            "count": 1
           },
           {
            "name": "2 others",
            "count": 2
           }
          ]
         }
        },
        {
         "name": "Query on Thyroxine",
         "dtype": "object",
         "stats": {
          "unique_count": 4,
          "nan_count": 0,
          "categories": [
           {
            "name": "2800",
            "count": 1
           },
           {
            "name": "2",
            "count": 1
           },
           {
            "name": "2 others",
            "count": 2
           }
          ]
         }
        },
        {
         "name": "On Antithyroid Medication",
         "dtype": "object",
         "stats": {
          "unique_count": 4,
          "nan_count": 0,
          "categories": [
           {
            "name": "2800",
            "count": 1
           },
           {
            "name": "2",
            "count": 1
           },
           {
            "name": "2 others",
            "count": 2
           }
          ]
         }
        },
        {
         "name": "Sick",
         "dtype": "object",
         "stats": {
          "unique_count": 4,
          "nan_count": 0,
          "categories": [
           {
            "name": "2800",
            "count": 1
           },
           {
            "name": "2",
            "count": 1
           },
           {
            "name": "2 others",
            "count": 2
           }
          ]
         }
        },
        {
         "name": "Pregnant",
         "dtype": "object",
         "stats": {
          "unique_count": 4,
          "nan_count": 0,
          "categories": [
           {
            "name": "2800",
            "count": 1
           },
           {
            "name": "2",
            "count": 1
           },
           {
            "name": "2 others",
            "count": 2
           }
          ]
         }
        },
        {
         "name": "Thyroid Surgery",
         "dtype": "object",
         "stats": {
          "unique_count": 4,
          "nan_count": 0,
          "categories": [
           {
            "name": "2800",
            "count": 1
           },
           {
            "name": "2",
            "count": 1
           },
           {
            "name": "2 others",
            "count": 2
           }
          ]
         }
        },
        {
         "name": "I131 Treatment",
         "dtype": "object",
         "stats": {
          "unique_count": 4,
          "nan_count": 0,
          "categories": [
           {
            "name": "2800",
            "count": 1
           },
           {
            "name": "2",
            "count": 1
           },
           {
            "name": "2 others",
            "count": 2
           }
          ]
         }
        },
        {
         "name": "Query Hypothyroid",
         "dtype": "object",
         "stats": {
          "unique_count": 4,
          "nan_count": 0,
          "categories": [
           {
            "name": "2800",
            "count": 1
           },
           {
            "name": "2",
            "count": 1
           },
           {
            "name": "2 others",
            "count": 2
           }
          ]
         }
        },
        {
         "name": "Query Hyperthyroid",
         "dtype": "object",
         "stats": {
          "unique_count": 4,
          "nan_count": 0,
          "categories": [
           {
            "name": "2800",
            "count": 1
           },
           {
            "name": "2",
            "count": 1
           },
           {
            "name": "2 others",
            "count": 2
           }
          ]
         }
        },
        {
         "name": "Lithium",
         "dtype": "object",
         "stats": {
          "unique_count": 4,
          "nan_count": 0,
          "categories": [
           {
            "name": "2800",
            "count": 1
           },
           {
            "name": "2",
            "count": 1
           },
           {
            "name": "2 others",
            "count": 2
           }
          ]
         }
        },
        {
         "name": "Goiter",
         "dtype": "object",
         "stats": {
          "unique_count": 4,
          "nan_count": 0,
          "categories": [
           {
            "name": "2800",
            "count": 1
           },
           {
            "name": "2",
            "count": 1
           },
           {
            "name": "2 others",
            "count": 2
           }
          ]
         }
        },
        {
         "name": "Tumor",
         "dtype": "object",
         "stats": {
          "unique_count": 4,
          "nan_count": 0,
          "categories": [
           {
            "name": "2800",
            "count": 1
           },
           {
            "name": "2",
            "count": 1
           },
           {
            "name": "2 others",
            "count": 2
           }
          ]
         }
        },
        {
         "name": "Hypopituitary",
         "dtype": "object",
         "stats": {
          "unique_count": 4,
          "nan_count": 0,
          "categories": [
           {
            "name": "2800",
            "count": 1
           },
           {
            "name": "2",
            "count": 1
           },
           {
            "name": "2 others",
            "count": 2
           }
          ]
         }
        },
        {
         "name": "Psych",
         "dtype": "object",
         "stats": {
          "unique_count": 4,
          "nan_count": 0,
          "categories": [
           {
            "name": "2800",
            "count": 1
           },
           {
            "name": "2",
            "count": 1
           },
           {
            "name": "2 others",
            "count": 2
           }
          ]
         }
        },
        {
         "name": "TSH Measured",
         "dtype": "object",
         "stats": {
          "unique_count": 4,
          "nan_count": 0,
          "categories": [
           {
            "name": "2800",
            "count": 1
           },
           {
            "name": "2",
            "count": 1
           },
           {
            "name": "2 others",
            "count": 2
           }
          ]
         }
        },
        {
         "name": "TSH",
         "dtype": "object",
         "stats": {
          "unique_count": 4,
          "nan_count": 0,
          "categories": [
           {
            "name": "2800",
            "count": 1
           },
           {
            "name": "264",
            "count": 1
           },
           {
            "name": "2 others",
            "count": 2
           }
          ]
         }
        },
        {
         "name": "T3 Measured",
         "dtype": "object",
         "stats": {
          "unique_count": 4,
          "nan_count": 0,
          "categories": [
           {
            "name": "2800",
            "count": 1
           },
           {
            "name": "2",
            "count": 1
           },
           {
            "name": "2 others",
            "count": 2
           }
          ]
         }
        },
        {
         "name": "T3",
         "dtype": "object",
         "stats": {
          "unique_count": 4,
          "nan_count": 0,
          "categories": [
           {
            "name": "2800",
            "count": 1
           },
           {
            "name": "65",
            "count": 1
           },
           {
            "name": "2 others",
            "count": 2
           }
          ]
         }
        },
        {
         "name": "TT4 Measured",
         "dtype": "object",
         "stats": {
          "unique_count": 4,
          "nan_count": 0,
          "categories": [
           {
            "name": "2800",
            "count": 1
           },
           {
            "name": "2",
            "count": 1
           },
           {
            "name": "2 others",
            "count": 2
           }
          ]
         }
        },
        {
         "name": "TT4",
         "dtype": "object",
         "stats": {
          "unique_count": 4,
          "nan_count": 0,
          "categories": [
           {
            "name": "2800",
            "count": 1
           },
           {
            "name": "218",
            "count": 1
           },
           {
            "name": "2 others",
            "count": 2
           }
          ]
         }
        },
        {
         "name": "T4U Measured",
         "dtype": "object",
         "stats": {
          "unique_count": 4,
          "nan_count": 0,
          "categories": [
           {
            "name": "2800",
            "count": 1
           },
           {
            "name": "2",
            "count": 1
           },
           {
            "name": "2 others",
            "count": 2
           }
          ]
         }
        },
        {
         "name": "T4U",
         "dtype": "object",
         "stats": {
          "unique_count": 4,
          "nan_count": 0,
          "categories": [
           {
            "name": "2800",
            "count": 1
           },
           {
            "name": "139",
            "count": 1
           },
           {
            "name": "2 others",
            "count": 2
           }
          ]
         }
        },
        {
         "name": "FTI Measured",
         "dtype": "object",
         "stats": {
          "unique_count": 4,
          "nan_count": 0,
          "categories": [
           {
            "name": "2800",
            "count": 1
           },
           {
            "name": "2",
            "count": 1
           },
           {
            "name": "2 others",
            "count": 2
           }
          ]
         }
        },
        {
         "name": "FTI",
         "dtype": "object",
         "stats": {
          "unique_count": 4,
          "nan_count": 0,
          "categories": [
           {
            "name": "2800",
            "count": 1
           },
           {
            "name": "210",
            "count": 1
           },
           {
            "name": "2 others",
            "count": 2
           }
          ]
         }
        },
        {
         "name": "TBG Measured",
         "dtype": "object",
         "stats": {
          "unique_count": 3,
          "nan_count": 0,
          "categories": [
           {
            "name": "2800",
            "count": 2
           },
           {
            "name": "1",
            "count": 1
           },
           {
            "name": "f",
            "count": 1
           }
          ]
         }
        },
        {
         "name": "TBG",
         "dtype": "object",
         "stats": {
          "unique_count": 3,
          "nan_count": 0,
          "categories": [
           {
            "name": "2800",
            "count": 2
           },
           {
            "name": "1",
            "count": 1
           },
           {
            "name": "?",
            "count": 1
           }
          ]
         }
        },
        {
         "name": "Referral Source",
         "dtype": "object",
         "stats": {
          "unique_count": 4,
          "nan_count": 0,
          "categories": [
           {
            "name": "2800",
            "count": 1
           },
           {
            "name": "5",
            "count": 1
           },
           {
            "name": "2 others",
            "count": 2
           }
          ]
         }
        },
        {
         "name": "Class",
         "dtype": "object",
         "stats": {
          "unique_count": 3,
          "nan_count": 0,
          "categories": [
           {
            "name": "2800",
            "count": 2
           },
           {
            "name": "negative.|2640",
            "count": 1
           },
           {
            "name": "1",
            "count": 1
           }
          ]
         }
        },
        {
         "name": "_deepnote_index_column",
         "dtype": "object"
        }
       ],
       "rows_top": [
        {
         "Age": "2800",
         "Sex": "2800",
         "On Thyroxine": "2800",
         "Query on Thyroxine": "2800",
         "On Antithyroid Medication": "2800",
         "Sick": "2800",
         "Pregnant": "2800",
         "Thyroid Surgery": "2800",
         "I131 Treatment": "2800",
         "Query Hypothyroid": "2800",
         "Query Hyperthyroid": "2800",
         "Lithium": "2800",
         "Goiter": "2800",
         "Tumor": "2800",
         "Hypopituitary": "2800",
         "Psych": "2800",
         "TSH Measured": "2800",
         "TSH": "2800",
         "T3 Measured": "2800",
         "T3": "2800",
         "TT4 Measured": "2800",
         "TT4": "2800",
         "T4U Measured": "2800",
         "T4U": "2800",
         "FTI Measured": "2800",
         "FTI": "2800",
         "TBG Measured": "2800",
         "TBG": "2800",
         "Referral Source": "2800",
         "Class": "2800",
         "_deepnote_index_column": "count"
        },
        {
         "Age": "94",
         "Sex": "3",
         "On Thyroxine": "2",
         "Query on Thyroxine": "2",
         "On Antithyroid Medication": "2",
         "Sick": "2",
         "Pregnant": "2",
         "Thyroid Surgery": "2",
         "I131 Treatment": "2",
         "Query Hypothyroid": "2",
         "Query Hyperthyroid": "2",
         "Lithium": "2",
         "Goiter": "2",
         "Tumor": "2",
         "Hypopituitary": "2",
         "Psych": "2",
         "TSH Measured": "2",
         "TSH": "264",
         "T3 Measured": "2",
         "T3": "65",
         "TT4 Measured": "2",
         "TT4": "218",
         "T4U Measured": "2",
         "T4U": "139",
         "FTI Measured": "2",
         "FTI": "210",
         "TBG Measured": "1",
         "TBG": "1",
         "Referral Source": "5",
         "Class": "2800",
         "_deepnote_index_column": "unique"
        },
        {
         "Age": "59",
         "Sex": "F",
         "On Thyroxine": "f",
         "Query on Thyroxine": "f",
         "On Antithyroid Medication": "f",
         "Sick": "f",
         "Pregnant": "f",
         "Thyroid Surgery": "f",
         "I131 Treatment": "f",
         "Query Hypothyroid": "f",
         "Query Hyperthyroid": "f",
         "Lithium": "f",
         "Goiter": "f",
         "Tumor": "f",
         "Hypopituitary": "f",
         "Psych": "f",
         "TSH Measured": "t",
         "TSH": "?",
         "T3 Measured": "t",
         "T3": "?",
         "TT4 Measured": "t",
         "TT4": "?",
         "T4U Measured": "t",
         "T4U": "?",
         "FTI Measured": "t",
         "FTI": "?",
         "TBG Measured": "f",
         "TBG": "?",
         "Referral Source": "other",
         "Class": "negative.|2640",
         "_deepnote_index_column": "top"
        },
        {
         "Age": "75",
         "Sex": "1830",
         "On Thyroxine": "2470",
         "Query on Thyroxine": "2760",
         "On Antithyroid Medication": "2766",
         "Sick": "2690",
         "Pregnant": "2759",
         "Thyroid Surgery": "2761",
         "I131 Treatment": "2752",
         "Query Hypothyroid": "2637",
         "Query Hyperthyroid": "2627",
         "Lithium": "2786",
         "Goiter": "2775",
         "Tumor": "2729",
         "Hypopituitary": "2799",
         "Psych": "2665",
         "TSH Measured": "2516",
         "TSH": "284",
         "T3 Measured": "2215",
         "T3": "585",
         "TT4 Measured": "2616",
         "TT4": "184",
         "T4U Measured": "2503",
         "T4U": "297",
         "FTI Measured": "2505",
         "FTI": "295",
         "TBG Measured": "2800",
         "TBG": "2800",
         "Referral Source": "1632",
         "Class": "1",
         "_deepnote_index_column": "freq"
        }
       ],
       "rows_bottom": null
      },
      "text/plain": "         Age   Sex On Thyroxine Query on Thyroxine On Antithyroid Medication  \\\ncount   2800  2800         2800               2800                      2800   \nunique    94     3            2                  2                         2   \ntop       59     F            f                  f                         f   \nfreq      75  1830         2470               2760                      2766   \n\n        Sick Pregnant Thyroid Surgery I131 Treatment Query Hypothyroid  ...  \\\ncount   2800     2800            2800           2800              2800  ...   \nunique     2        2               2              2                 2  ...   \ntop        f        f               f              f                 f  ...   \nfreq    2690     2759            2761           2752              2637  ...   \n\n       TT4 Measured   TT4 T4U Measured   T4U FTI Measured   FTI TBG Measured  \\\ncount          2800  2800         2800  2800         2800  2800         2800   \nunique            2   218            2   139            2   210            1   \ntop               t     ?            t     ?            t     ?            f   \nfreq           2616   184         2503   297         2505   295         2800   \n\n         TBG Referral Source           Class  \ncount   2800            2800            2800  \nunique     1               5            2800  \ntop        ?           other  negative.|2640  \nfreq    2800            1632               1  \n\n[4 rows x 30 columns]",
      "text/html": "<div>\n<style scoped>\n    .dataframe tbody tr th:only-of-type {\n        vertical-align: middle;\n    }\n\n    .dataframe tbody tr th {\n        vertical-align: top;\n    }\n\n    .dataframe thead th {\n        text-align: right;\n    }\n</style>\n<table border=\"1\" class=\"dataframe\">\n  <thead>\n    <tr style=\"text-align: right;\">\n      <th></th>\n      <th>Age</th>\n      <th>Sex</th>\n      <th>On Thyroxine</th>\n      <th>Query on Thyroxine</th>\n      <th>On Antithyroid Medication</th>\n      <th>Sick</th>\n      <th>Pregnant</th>\n      <th>Thyroid Surgery</th>\n      <th>I131 Treatment</th>\n      <th>Query Hypothyroid</th>\n      <th>...</th>\n      <th>TT4 Measured</th>\n      <th>TT4</th>\n      <th>T4U Measured</th>\n      <th>T4U</th>\n      <th>FTI Measured</th>\n      <th>FTI</th>\n      <th>TBG Measured</th>\n      <th>TBG</th>\n      <th>Referral Source</th>\n      <th>Class</th>\n    </tr>\n  </thead>\n  <tbody>\n    <tr>\n      <th>count</th>\n      <td>2800</td>\n      <td>2800</td>\n      <td>2800</td>\n      <td>2800</td>\n      <td>2800</td>\n      <td>2800</td>\n      <td>2800</td>\n      <td>2800</td>\n      <td>2800</td>\n      <td>2800</td>\n      <td>...</td>\n      <td>2800</td>\n      <td>2800</td>\n      <td>2800</td>\n      <td>2800</td>\n      <td>2800</td>\n      <td>2800</td>\n      <td>2800</td>\n      <td>2800</td>\n      <td>2800</td>\n      <td>2800</td>\n    </tr>\n    <tr>\n      <th>unique</th>\n      <td>94</td>\n      <td>3</td>\n      <td>2</td>\n      <td>2</td>\n      <td>2</td>\n      <td>2</td>\n      <td>2</td>\n      <td>2</td>\n      <td>2</td>\n      <td>2</td>\n      <td>...</td>\n      <td>2</td>\n      <td>218</td>\n      <td>2</td>\n      <td>139</td>\n      <td>2</td>\n      <td>210</td>\n      <td>1</td>\n      <td>1</td>\n      <td>5</td>\n      <td>2800</td>\n    </tr>\n    <tr>\n      <th>top</th>\n      <td>59</td>\n      <td>F</td>\n      <td>f</td>\n      <td>f</td>\n      <td>f</td>\n      <td>f</td>\n      <td>f</td>\n      <td>f</td>\n      <td>f</td>\n      <td>f</td>\n      <td>...</td>\n      <td>t</td>\n      <td>?</td>\n      <td>t</td>\n      <td>?</td>\n      <td>t</td>\n      <td>?</td>\n      <td>f</td>\n      <td>?</td>\n      <td>other</td>\n      <td>negative.|2640</td>\n    </tr>\n    <tr>\n      <th>freq</th>\n      <td>75</td>\n      <td>1830</td>\n      <td>2470</td>\n      <td>2760</td>\n      <td>2766</td>\n      <td>2690</td>\n      <td>2759</td>\n      <td>2761</td>\n      <td>2752</td>\n      <td>2637</td>\n      <td>...</td>\n      <td>2616</td>\n      <td>184</td>\n      <td>2503</td>\n      <td>297</td>\n      <td>2505</td>\n      <td>295</td>\n      <td>2800</td>\n      <td>2800</td>\n      <td>1632</td>\n      <td>1</td>\n    </tr>\n  </tbody>\n</table>\n<p>4 rows × 30 columns</p>\n</div>"
     },
     "metadata": {}
    }
   ]
  },
  {
   "cell_type": "code",
   "metadata": {
    "colab": {
     "autoexec": {
      "startup": false,
      "wait_interval": 0
     }
    },
    "colab_type": "code",
    "id": "9QndSspU7lW4",
    "cell_id": "00008-03475880-0741-4b1d-b59f-1beb0f82c057",
    "deepnote_to_be_reexecuted": false,
    "source_hash": "ecce977f",
    "execution_start": 1625755669147,
    "execution_millis": 12,
    "deepnote_cell_type": "code"
   },
   "source": "# output information about the data including the index dtype and column dtypes, non-null values and memory usage\ndataset.info()",
   "execution_count": 19,
   "outputs": [
    {
     "name": "stdout",
     "text": "<class 'pandas.core.frame.DataFrame'>\nRangeIndex: 2800 entries, 0 to 2799\nData columns (total 30 columns):\n #   Column                     Non-Null Count  Dtype \n---  ------                     --------------  ----- \n 0   Age                        2800 non-null   object\n 1   Sex                        2800 non-null   object\n 2   On Thyroxine               2800 non-null   object\n 3   Query on Thyroxine         2800 non-null   object\n 4   On Antithyroid Medication  2800 non-null   object\n 5   Sick                       2800 non-null   object\n 6   Pregnant                   2800 non-null   object\n 7   Thyroid Surgery            2800 non-null   object\n 8   I131 Treatment             2800 non-null   object\n 9   Query Hypothyroid          2800 non-null   object\n 10  Query Hyperthyroid         2800 non-null   object\n 11  Lithium                    2800 non-null   object\n 12  Goiter                     2800 non-null   object\n 13  Tumor                      2800 non-null   object\n 14  Hypopituitary              2800 non-null   object\n 15  Psych                      2800 non-null   object\n 16  TSH Measured               2800 non-null   object\n 17  TSH                        2800 non-null   object\n 18  T3 Measured                2800 non-null   object\n 19  T3                         2800 non-null   object\n 20  TT4 Measured               2800 non-null   object\n 21  TT4                        2800 non-null   object\n 22  T4U Measured               2800 non-null   object\n 23  T4U                        2800 non-null   object\n 24  FTI Measured               2800 non-null   object\n 25  FTI                        2800 non-null   object\n 26  TBG Measured               2800 non-null   object\n 27  TBG                        2800 non-null   object\n 28  Referral Source            2800 non-null   object\n 29  Class                      2800 non-null   object\ndtypes: object(30)\nmemory usage: 656.4+ KB\n",
     "output_type": "stream"
    }
   ]
  },
  {
   "cell_type": "markdown",
   "source": "Note the data types are all objects--even columns that are obviously numeric like Age.  This is because there are \"?\" values for some of the cells, making pandas interpret these columns as non-null objects (instead of int, for example).\n",
   "metadata": {
    "colab_type": "text",
    "id": "olpFokrp8AIH",
    "cell_id": "00009-09304021-3e8e-4cb3-a17b-e407abeaa483",
    "deepnote_cell_type": "markdown"
   }
  },
  {
   "cell_type": "markdown",
   "source": "## Data cleaning",
   "metadata": {
    "colab_type": "text",
    "id": "0emOppVyqQS9",
    "cell_id": "00010-75f1a428-2cd8-4bdb-a20b-5dd946b1967b",
    "deepnote_cell_type": "markdown"
   }
  },
  {
   "cell_type": "markdown",
   "source": "To start, let's make all the numerical columns contain the correct type of values and change the data type of those columns to numeric. Let's also replace all those question marks with the median of the respective column.\n\nHint: To make it easier, first try converting all the \"?\" to NaN.",
   "metadata": {
    "colab_type": "text",
    "id": "ZRQpnByEWrcx",
    "cell_id": "00011-dd951750-e9c4-45e9-bd83-22f6437bc579",
    "deepnote_cell_type": "markdown"
   }
  },
  {
   "cell_type": "code",
   "metadata": {
    "colab": {
     "autoexec": {
      "startup": false,
      "wait_interval": 0
     }
    },
    "colab_type": "code",
    "id": "BlTsaK5n5Bg1",
    "cell_id": "00012-8e8091d2-8e0d-4a69-adcf-798827a6194a",
    "deepnote_to_be_reexecuted": false,
    "source_hash": "bd729dad",
    "execution_start": 1625755671272,
    "execution_millis": 6,
    "deepnote_cell_type": "code"
   },
   "source": "import numpy as np\n\n# drop columns that do not contain useful information (all 2800 data points have the same value)\ndrop_columns = [\"TBG\", \"TBG Measured\"]\ntry:\n    dataset=dataset.drop(drop_columns,axis=1)\nexcept:\n    print(\"Can't drop columns {}, they may not exist\".format(drop_columns))",
   "execution_count": 20,
   "outputs": []
  },
  {
   "cell_type": "code",
   "metadata": {
    "colab": {
     "autoexec": {
      "startup": false,
      "wait_interval": 0
     }
    },
    "colab_type": "code",
    "id": "BlTsaK5n5Bg1",
    "cell_id": "00013-20b3da5d-2393-4806-8029-875a30b20456",
    "deepnote_to_be_reexecuted": false,
    "source_hash": "90f3a161",
    "allow_embed": false,
    "execution_start": 1625755672278,
    "execution_millis": 33,
    "deepnote_cell_type": "code"
   },
   "source": "dataset.info()",
   "execution_count": 21,
   "outputs": [
    {
     "name": "stdout",
     "text": "<class 'pandas.core.frame.DataFrame'>\nRangeIndex: 2800 entries, 0 to 2799\nData columns (total 28 columns):\n #   Column                     Non-Null Count  Dtype \n---  ------                     --------------  ----- \n 0   Age                        2800 non-null   object\n 1   Sex                        2800 non-null   object\n 2   On Thyroxine               2800 non-null   object\n 3   Query on Thyroxine         2800 non-null   object\n 4   On Antithyroid Medication  2800 non-null   object\n 5   Sick                       2800 non-null   object\n 6   Pregnant                   2800 non-null   object\n 7   Thyroid Surgery            2800 non-null   object\n 8   I131 Treatment             2800 non-null   object\n 9   Query Hypothyroid          2800 non-null   object\n 10  Query Hyperthyroid         2800 non-null   object\n 11  Lithium                    2800 non-null   object\n 12  Goiter                     2800 non-null   object\n 13  Tumor                      2800 non-null   object\n 14  Hypopituitary              2800 non-null   object\n 15  Psych                      2800 non-null   object\n 16  TSH Measured               2800 non-null   object\n 17  TSH                        2800 non-null   object\n 18  T3 Measured                2800 non-null   object\n 19  T3                         2800 non-null   object\n 20  TT4 Measured               2800 non-null   object\n 21  TT4                        2800 non-null   object\n 22  T4U Measured               2800 non-null   object\n 23  T4U                        2800 non-null   object\n 24  FTI Measured               2800 non-null   object\n 25  FTI                        2800 non-null   object\n 26  Referral Source            2800 non-null   object\n 27  Class                      2800 non-null   object\ndtypes: object(28)\nmemory usage: 612.6+ KB\n",
     "output_type": "stream"
    }
   ]
  },
  {
   "cell_type": "code",
   "metadata": {
    "cell_id": "00013-499add0c-dc36-4def-988e-57696548d9a8",
    "deepnote_to_be_reexecuted": false,
    "source_hash": "dac0237c",
    "execution_start": 1625755673140,
    "execution_millis": 6,
    "deepnote_cell_type": "code"
   },
   "source": "# convert \"?\" cells to NaN\ndataset[dataset=='?'] = np.nan",
   "execution_count": 22,
   "outputs": []
  },
  {
   "cell_type": "code",
   "metadata": {
    "cell_id": "00014-556e1951-5aba-451d-bd62-6db81a495f25",
    "deepnote_to_be_reexecuted": false,
    "source_hash": "85b551b8",
    "execution_start": 1625755674290,
    "execution_millis": 170,
    "deepnote_cell_type": "code"
   },
   "source": "# identify columns by what time of data they hold\nnumeric_columns = list([\"Age\",\"TSH\",\"T3\",\"TT4\",\"T4U\",\"FTI\"])\n\n# categorical columns are everything else (minus 'class')\ncategorical_columns = list(set(dataset.columns)-set(numeric_columns)-set(['Class']))\n\n\n# convert numeric columns from strings to numbers\ndataset[numeric_columns] = dataset[numeric_columns].apply(po.to_numeric)\n\n# print statement for sanity check\nprint('Numerical Columns: ', numeric_columns)\nprint('Categorical Columns: ', categorical_columns)\n\ndataset.head(10)",
   "execution_count": 23,
   "outputs": [
    {
     "name": "stdout",
     "text": "Numerical Columns:  ['Age', 'TSH', 'T3', 'TT4', 'T4U', 'FTI']\nCategorical Columns:  ['Query Hypothyroid', 'Hypopituitary', 'Query Hyperthyroid', 'Psych', 'Lithium', 'T4U Measured', 'Tumor', 'Sick', 'On Thyroxine', 'Sex', 'Thyroid Surgery', 'I131 Treatment', 'Pregnant', 'On Antithyroid Medication', 'Query on Thyroxine', 'T3 Measured', 'Referral Source', 'Goiter', 'TSH Measured', 'FTI Measured', 'TT4 Measured']\n",
     "output_type": "stream"
    },
    {
     "output_type": "execute_result",
     "execution_count": 23,
     "data": {
      "application/vnd.deepnote.dataframe.v2+json": {
       "row_count": 10,
       "column_count": 28,
       "columns": [
        {
         "name": "Age",
         "dtype": "float64",
         "stats": {
          "unique_count": 9,
          "nan_count": 0,
          "min": "18.0",
          "max": "80.0",
          "histogram": [
           {
            "bin_start": 18,
            "bin_end": 24.2,
            "count": 2
           },
           {
            "bin_start": 24.2,
            "bin_end": 30.4,
            "count": 0
           },
           {
            "bin_start": 30.4,
            "bin_end": 36.6,
            "count": 0
           },
           {
            "bin_start": 36.6,
            "bin_end": 42.8,
            "count": 1
           },
           {
            "bin_start": 42.8,
            "bin_end": 49,
            "count": 1
           },
           {
            "bin_start": 49,
            "bin_end": 55.2,
            "count": 0
           },
           {
            "bin_start": 55.2,
            "bin_end": 61.4,
            "count": 1
           },
           {
            "bin_start": 61.4,
            "bin_end": 67.6,
            "count": 1
           },
           {
            "bin_start": 67.6,
            "bin_end": 73.80000000000001,
            "count": 3
           },
           {
            "bin_start": 73.80000000000001,
            "bin_end": 80,
            "count": 1
           }
          ]
         }
        },
        {
         "name": "Sex",
         "dtype": "object",
         "stats": {
          "unique_count": 2,
          "nan_count": 0,
          "categories": [
           {
            "name": "F",
            "count": 8
           },
           {
            "name": "M",
            "count": 2
           }
          ]
         }
        },
        {
         "name": "On Thyroxine",
         "dtype": "object",
         "stats": {
          "unique_count": 2,
          "nan_count": 0,
          "categories": [
           {
            "name": "f",
            "count": 8
           },
           {
            "name": "t",
            "count": 2
           }
          ]
         }
        },
        {
         "name": "Query on Thyroxine",
         "dtype": "object",
         "stats": {
          "unique_count": 1,
          "nan_count": 0,
          "categories": [
           {
            "name": "f",
            "count": 10
           }
          ]
         }
        },
        {
         "name": "On Antithyroid Medication",
         "dtype": "object",
         "stats": {
          "unique_count": 1,
          "nan_count": 0,
          "categories": [
           {
            "name": "f",
            "count": 10
           }
          ]
         }
        },
        {
         "name": "Sick",
         "dtype": "object",
         "stats": {
          "unique_count": 1,
          "nan_count": 0,
          "categories": [
           {
            "name": "f",
            "count": 10
           }
          ]
         }
        },
        {
         "name": "Pregnant",
         "dtype": "object",
         "stats": {
          "unique_count": 1,
          "nan_count": 0,
          "categories": [
           {
            "name": "f",
            "count": 10
           }
          ]
         }
        },
        {
         "name": "Thyroid Surgery",
         "dtype": "object",
         "stats": {
          "unique_count": 1,
          "nan_count": 0,
          "categories": [
           {
            "name": "f",
            "count": 10
           }
          ]
         }
        },
        {
         "name": "I131 Treatment",
         "dtype": "object",
         "stats": {
          "unique_count": 1,
          "nan_count": 0,
          "categories": [
           {
            "name": "f",
            "count": 10
           }
          ]
         }
        },
        {
         "name": "Query Hypothyroid",
         "dtype": "object",
         "stats": {
          "unique_count": 1,
          "nan_count": 0,
          "categories": [
           {
            "name": "f",
            "count": 10
           }
          ]
         }
        },
        {
         "name": "Query Hyperthyroid",
         "dtype": "object",
         "stats": {
          "unique_count": 1,
          "nan_count": 0,
          "categories": [
           {
            "name": "f",
            "count": 10
           }
          ]
         }
        },
        {
         "name": "Lithium",
         "dtype": "object",
         "stats": {
          "unique_count": 1,
          "nan_count": 0,
          "categories": [
           {
            "name": "f",
            "count": 10
           }
          ]
         }
        },
        {
         "name": "Goiter",
         "dtype": "object",
         "stats": {
          "unique_count": 1,
          "nan_count": 0,
          "categories": [
           {
            "name": "f",
            "count": 10
           }
          ]
         }
        },
        {
         "name": "Tumor",
         "dtype": "object",
         "stats": {
          "unique_count": 2,
          "nan_count": 0,
          "categories": [
           {
            "name": "f",
            "count": 9
           },
           {
            "name": "t",
            "count": 1
           }
          ]
         }
        },
        {
         "name": "Hypopituitary",
         "dtype": "object",
         "stats": {
          "unique_count": 1,
          "nan_count": 0,
          "categories": [
           {
            "name": "f",
            "count": 10
           }
          ]
         }
        },
        {
         "name": "Psych",
         "dtype": "object",
         "stats": {
          "unique_count": 1,
          "nan_count": 0,
          "categories": [
           {
            "name": "f",
            "count": 10
           }
          ]
         }
        },
        {
         "name": "TSH Measured",
         "dtype": "object",
         "stats": {
          "unique_count": 2,
          "nan_count": 0,
          "categories": [
           {
            "name": "t",
            "count": 9
           },
           {
            "name": "f",
            "count": 1
           }
          ]
         }
        },
        {
         "name": "TSH",
         "dtype": "float64",
         "stats": {
          "unique_count": 9,
          "nan_count": 1,
          "min": "0.03",
          "max": "4.1",
          "histogram": [
           {
            "bin_start": 0.03,
            "bin_end": 0.43699999999999994,
            "count": 2
           },
           {
            "bin_start": 0.43699999999999994,
            "bin_end": 0.8439999999999999,
            "count": 2
           },
           {
            "bin_start": 0.8439999999999999,
            "bin_end": 1.2509999999999997,
            "count": 1
           },
           {
            "bin_start": 1.2509999999999997,
            "bin_end": 1.6579999999999997,
            "count": 1
           },
           {
            "bin_start": 1.6579999999999997,
            "bin_end": 2.0649999999999995,
            "count": 0
           },
           {
            "bin_start": 2.0649999999999995,
            "bin_end": 2.471999999999999,
            "count": 2
           },
           {
            "bin_start": 2.471999999999999,
            "bin_end": 2.878999999999999,
            "count": 0
           },
           {
            "bin_start": 2.878999999999999,
            "bin_end": 3.285999999999999,
            "count": 0
           },
           {
            "bin_start": 3.285999999999999,
            "bin_end": 3.692999999999999,
            "count": 0
           },
           {
            "bin_start": 3.692999999999999,
            "bin_end": 4.1,
            "count": 1
           }
          ]
         }
        },
        {
         "name": "T3 Measured",
         "dtype": "object",
         "stats": {
          "unique_count": 2,
          "nan_count": 0,
          "categories": [
           {
            "name": "t",
            "count": 7
           },
           {
            "name": "f",
            "count": 3
           }
          ]
         }
        },
        {
         "name": "T3",
         "dtype": "float64",
         "stats": {
          "unique_count": 7,
          "nan_count": 3,
          "min": "0.6",
          "max": "2.5",
          "histogram": [
           {
            "bin_start": 0.6,
            "bin_end": 0.79,
            "count": 1
           },
           {
            "bin_start": 0.79,
            "bin_end": 0.98,
            "count": 0
           },
           {
            "bin_start": 0.98,
            "bin_end": 1.17,
            "count": 0
           },
           {
            "bin_start": 1.17,
            "bin_end": 1.3599999999999999,
            "count": 1
           },
           {
            "bin_start": 1.3599999999999999,
            "bin_end": 1.5499999999999998,
            "count": 0
           },
           {
            "bin_start": 1.5499999999999998,
            "bin_end": 1.7400000000000002,
            "count": 1
           },
           {
            "bin_start": 1.7400000000000002,
            "bin_end": 1.9300000000000002,
            "count": 1
           },
           {
            "bin_start": 1.9300000000000002,
            "bin_end": 2.12,
            "count": 1
           },
           {
            "bin_start": 2.12,
            "bin_end": 2.31,
            "count": 1
           },
           {
            "bin_start": 2.31,
            "bin_end": 2.5,
            "count": 1
           }
          ]
         }
        },
        {
         "name": "TT4 Measured",
         "dtype": "object",
         "stats": {
          "unique_count": 1,
          "nan_count": 0,
          "categories": [
           {
            "name": "t",
            "count": 10
           }
          ]
         }
        },
        {
         "name": "TT4",
         "dtype": "float64",
         "stats": {
          "unique_count": 10,
          "nan_count": 0,
          "min": "61.0",
          "max": "183.0",
          "histogram": [
           {
            "bin_start": 61,
            "bin_end": 73.2,
            "count": 2
           },
           {
            "bin_start": 73.2,
            "bin_end": 85.4,
            "count": 2
           },
           {
            "bin_start": 85.4,
            "bin_end": 97.6,
            "count": 0
           },
           {
            "bin_start": 97.6,
            "bin_end": 109.8,
            "count": 2
           },
           {
            "bin_start": 109.8,
            "bin_end": 122,
            "count": 0
           },
           {
            "bin_start": 122,
            "bin_end": 134.2,
            "count": 2
           },
           {
            "bin_start": 134.2,
            "bin_end": 146.39999999999998,
            "count": 0
           },
           {
            "bin_start": 146.39999999999998,
            "bin_end": 158.6,
            "count": 0
           },
           {
            "bin_start": 158.6,
            "bin_end": 170.8,
            "count": 0
           },
           {
            "bin_start": 170.8,
            "bin_end": 183,
            "count": 2
           }
          ]
         }
        },
        {
         "name": "T4U Measured",
         "dtype": "object",
         "stats": {
          "unique_count": 2,
          "nan_count": 0,
          "categories": [
           {
            "name": "t",
            "count": 8
           },
           {
            "name": "f",
            "count": 2
           }
          ]
         }
        },
        {
         "name": "T4U",
         "dtype": "float64",
         "stats": {
          "unique_count": 8,
          "nan_count": 2,
          "min": "0.7",
          "max": "1.3",
          "histogram": [
           {
            "bin_start": 0.7,
            "bin_end": 0.76,
            "count": 1
           },
           {
            "bin_start": 0.76,
            "bin_end": 0.82,
            "count": 0
           },
           {
            "bin_start": 0.82,
            "bin_end": 0.88,
            "count": 1
           },
           {
            "bin_start": 0.88,
            "bin_end": 0.94,
            "count": 4
           },
           {
            "bin_start": 0.94,
            "bin_end": 1,
            "count": 0
           },
           {
            "bin_start": 1,
            "bin_end": 1.06,
            "count": 0
           },
           {
            "bin_start": 1.06,
            "bin_end": 1.12,
            "count": 0
           },
           {
            "bin_start": 1.12,
            "bin_end": 1.1800000000000002,
            "count": 1
           },
           {
            "bin_start": 1.1800000000000002,
            "bin_end": 1.2400000000000002,
            "count": 0
           },
           {
            "bin_start": 1.2400000000000002,
            "bin_end": 1.3,
            "count": 1
           }
          ]
         }
        },
        {
         "name": "FTI Measured",
         "dtype": "object",
         "stats": {
          "unique_count": 2,
          "nan_count": 0,
          "categories": [
           {
            "name": "t",
            "count": 8
           },
           {
            "name": "f",
            "count": 2
           }
          ]
         }
        },
        {
         "name": "FTI",
         "dtype": "float64",
         "stats": {
          "unique_count": 8,
          "nan_count": 2,
          "min": "70.0",
          "max": "141.0",
          "histogram": [
           {
            "bin_start": 70,
            "bin_end": 77.1,
            "count": 1
           },
           {
            "bin_start": 77.1,
            "bin_end": 84.2,
            "count": 1
           },
           {
            "bin_start": 84.2,
            "bin_end": 91.3,
            "count": 0
           },
           {
            "bin_start": 91.3,
            "bin_end": 98.4,
            "count": 1
           },
           {
            "bin_start": 98.4,
            "bin_end": 105.5,
            "count": 0
           },
           {
            "bin_start": 105.5,
            "bin_end": 112.6,
            "count": 1
           },
           {
            "bin_start": 112.6,
            "bin_end": 119.69999999999999,
            "count": 1
           },
           {
            "bin_start": 119.69999999999999,
            "bin_end": 126.8,
            "count": 1
           },
           {
            "bin_start": 126.8,
            "bin_end": 133.9,
            "count": 1
           },
           {
            "bin_start": 133.9,
            "bin_end": 141,
            "count": 1
           }
          ]
         }
        },
        {
         "name": "Referral Source",
         "dtype": "object",
         "stats": {
          "unique_count": 3,
          "nan_count": 0,
          "categories": [
           {
            "name": "other",
            "count": 5
           },
           {
            "name": "SVI",
            "count": 4
           },
           {
            "name": "SVHC",
            "count": 1
           }
          ]
         }
        },
        {
         "name": "Class",
         "dtype": "object",
         "stats": {
          "unique_count": 10,
          "nan_count": 0,
          "categories": [
           {
            "name": "negative.|3733",
            "count": 1
           },
           {
            "name": "negative.|1442",
            "count": 1
           },
           {
            "name": "8 others",
            "count": 8
           }
          ]
         }
        },
        {
         "name": "_deepnote_index_column",
         "dtype": "int64"
        }
       ],
       "rows_top": [
        {
         "Age": 41,
         "Sex": "F",
         "On Thyroxine": "f",
         "Query on Thyroxine": "f",
         "On Antithyroid Medication": "f",
         "Sick": "f",
         "Pregnant": "f",
         "Thyroid Surgery": "f",
         "I131 Treatment": "f",
         "Query Hypothyroid": "f",
         "Query Hyperthyroid": "f",
         "Lithium": "f",
         "Goiter": "f",
         "Tumor": "f",
         "Hypopituitary": "f",
         "Psych": "f",
         "TSH Measured": "t",
         "TSH": 1.3,
         "T3 Measured": "t",
         "T3": 2.5,
         "TT4 Measured": "t",
         "TT4": 125,
         "T4U Measured": "t",
         "T4U": 1.14,
         "FTI Measured": "t",
         "FTI": 109,
         "Referral Source": "SVHC",
         "Class": "negative.|3733",
         "_deepnote_index_column": 0
        },
        {
         "Age": 23,
         "Sex": "F",
         "On Thyroxine": "f",
         "Query on Thyroxine": "f",
         "On Antithyroid Medication": "f",
         "Sick": "f",
         "Pregnant": "f",
         "Thyroid Surgery": "f",
         "I131 Treatment": "f",
         "Query Hypothyroid": "f",
         "Query Hyperthyroid": "f",
         "Lithium": "f",
         "Goiter": "f",
         "Tumor": "f",
         "Hypopituitary": "f",
         "Psych": "f",
         "TSH Measured": "t",
         "TSH": 4.1,
         "T3 Measured": "t",
         "T3": 2,
         "TT4 Measured": "t",
         "TT4": 102,
         "T4U Measured": "f",
         "T4U": "nan",
         "FTI Measured": "f",
         "FTI": "nan",
         "Referral Source": "other",
         "Class": "negative.|1442",
         "_deepnote_index_column": 1
        },
        {
         "Age": 46,
         "Sex": "M",
         "On Thyroxine": "f",
         "Query on Thyroxine": "f",
         "On Antithyroid Medication": "f",
         "Sick": "f",
         "Pregnant": "f",
         "Thyroid Surgery": "f",
         "I131 Treatment": "f",
         "Query Hypothyroid": "f",
         "Query Hyperthyroid": "f",
         "Lithium": "f",
         "Goiter": "f",
         "Tumor": "f",
         "Hypopituitary": "f",
         "Psych": "f",
         "TSH Measured": "t",
         "TSH": 0.98,
         "T3 Measured": "f",
         "T3": "nan",
         "TT4 Measured": "t",
         "TT4": 109,
         "T4U Measured": "t",
         "T4U": 0.91,
         "FTI Measured": "t",
         "FTI": 120,
         "Referral Source": "other",
         "Class": "negative.|2965",
         "_deepnote_index_column": 2
        },
        {
         "Age": 70,
         "Sex": "F",
         "On Thyroxine": "t",
         "Query on Thyroxine": "f",
         "On Antithyroid Medication": "f",
         "Sick": "f",
         "Pregnant": "f",
         "Thyroid Surgery": "f",
         "I131 Treatment": "f",
         "Query Hypothyroid": "f",
         "Query Hyperthyroid": "f",
         "Lithium": "f",
         "Goiter": "f",
         "Tumor": "f",
         "Hypopituitary": "f",
         "Psych": "f",
         "TSH Measured": "t",
         "TSH": 0.16,
         "T3 Measured": "t",
         "T3": 1.9,
         "TT4 Measured": "t",
         "TT4": 175,
         "T4U Measured": "f",
         "T4U": "nan",
         "FTI Measured": "f",
         "FTI": "nan",
         "Referral Source": "other",
         "Class": "negative.|806",
         "_deepnote_index_column": 3
        },
        {
         "Age": 70,
         "Sex": "F",
         "On Thyroxine": "f",
         "Query on Thyroxine": "f",
         "On Antithyroid Medication": "f",
         "Sick": "f",
         "Pregnant": "f",
         "Thyroid Surgery": "f",
         "I131 Treatment": "f",
         "Query Hypothyroid": "f",
         "Query Hyperthyroid": "f",
         "Lithium": "f",
         "Goiter": "f",
         "Tumor": "f",
         "Hypopituitary": "f",
         "Psych": "f",
         "TSH Measured": "t",
         "TSH": 0.72,
         "T3 Measured": "t",
         "T3": 1.2,
         "TT4 Measured": "t",
         "TT4": 61,
         "T4U Measured": "t",
         "T4U": 0.87,
         "FTI Measured": "t",
         "FTI": 70,
         "Referral Source": "SVI",
         "Class": "negative.|2807",
         "_deepnote_index_column": 4
        },
        {
         "Age": 18,
         "Sex": "F",
         "On Thyroxine": "t",
         "Query on Thyroxine": "f",
         "On Antithyroid Medication": "f",
         "Sick": "f",
         "Pregnant": "f",
         "Thyroid Surgery": "f",
         "I131 Treatment": "f",
         "Query Hypothyroid": "f",
         "Query Hyperthyroid": "f",
         "Lithium": "f",
         "Goiter": "f",
         "Tumor": "f",
         "Hypopituitary": "f",
         "Psych": "f",
         "TSH Measured": "t",
         "TSH": 0.03,
         "T3 Measured": "f",
         "T3": "nan",
         "TT4 Measured": "t",
         "TT4": 183,
         "T4U Measured": "t",
         "T4U": 1.3,
         "FTI Measured": "t",
         "FTI": 141,
         "Referral Source": "other",
         "Class": "negative.|3434",
         "_deepnote_index_column": 5
        },
        {
         "Age": 59,
         "Sex": "F",
         "On Thyroxine": "f",
         "Query on Thyroxine": "f",
         "On Antithyroid Medication": "f",
         "Sick": "f",
         "Pregnant": "f",
         "Thyroid Surgery": "f",
         "I131 Treatment": "f",
         "Query Hypothyroid": "f",
         "Query Hyperthyroid": "f",
         "Lithium": "f",
         "Goiter": "f",
         "Tumor": "f",
         "Hypopituitary": "f",
         "Psych": "f",
         "TSH Measured": "f",
         "TSH": "nan",
         "T3 Measured": "f",
         "T3": "nan",
         "TT4 Measured": "t",
         "TT4": 72,
         "T4U Measured": "t",
         "T4U": 0.92,
         "FTI Measured": "t",
         "FTI": 78,
         "Referral Source": "other",
         "Class": "negative.|1595",
         "_deepnote_index_column": 6
        },
        {
         "Age": 80,
         "Sex": "F",
         "On Thyroxine": "f",
         "Query on Thyroxine": "f",
         "On Antithyroid Medication": "f",
         "Sick": "f",
         "Pregnant": "f",
         "Thyroid Surgery": "f",
         "I131 Treatment": "f",
         "Query Hypothyroid": "f",
         "Query Hyperthyroid": "f",
         "Lithium": "f",
         "Goiter": "f",
         "Tumor": "f",
         "Hypopituitary": "f",
         "Psych": "f",
         "TSH Measured": "t",
         "TSH": 2.2,
         "T3 Measured": "t",
         "T3": 0.6,
         "TT4 Measured": "t",
         "TT4": 80,
         "T4U Measured": "t",
         "T4U": 0.7,
         "FTI Measured": "t",
         "FTI": 115,
         "Referral Source": "SVI",
         "Class": "negative.|1367",
         "_deepnote_index_column": 7
        },
        {
         "Age": 66,
         "Sex": "F",
         "On Thyroxine": "f",
         "Query on Thyroxine": "f",
         "On Antithyroid Medication": "f",
         "Sick": "f",
         "Pregnant": "f",
         "Thyroid Surgery": "f",
         "I131 Treatment": "f",
         "Query Hypothyroid": "f",
         "Query Hyperthyroid": "f",
         "Lithium": "f",
         "Goiter": "f",
         "Tumor": "t",
         "Hypopituitary": "f",
         "Psych": "f",
         "TSH Measured": "t",
         "TSH": 0.6,
         "T3 Measured": "t",
         "T3": 2.2,
         "TT4 Measured": "t",
         "TT4": 123,
         "T4U Measured": "t",
         "T4U": 0.93,
         "FTI Measured": "t",
         "FTI": 132,
         "Referral Source": "SVI",
         "Class": "negative.|1787",
         "_deepnote_index_column": 8
        },
        {
         "Age": 68,
         "Sex": "M",
         "On Thyroxine": "f",
         "Query on Thyroxine": "f",
         "On Antithyroid Medication": "f",
         "Sick": "f",
         "Pregnant": "f",
         "Thyroid Surgery": "f",
         "I131 Treatment": "f",
         "Query Hypothyroid": "f",
         "Query Hyperthyroid": "f",
         "Lithium": "f",
         "Goiter": "f",
         "Tumor": "f",
         "Hypopituitary": "f",
         "Psych": "f",
         "TSH Measured": "t",
         "TSH": 2.4,
         "T3 Measured": "t",
         "T3": 1.6,
         "TT4 Measured": "t",
         "TT4": 83,
         "T4U Measured": "t",
         "T4U": 0.89,
         "FTI Measured": "t",
         "FTI": 93,
         "Referral Source": "SVI",
         "Class": "negative.|2534",
         "_deepnote_index_column": 9
        }
       ],
       "rows_bottom": null
      },
      "text/plain": "    Age Sex On Thyroxine Query on Thyroxine On Antithyroid Medication Sick  \\\n0  41.0   F            f                  f                         f    f   \n1  23.0   F            f                  f                         f    f   \n2  46.0   M            f                  f                         f    f   \n3  70.0   F            t                  f                         f    f   \n4  70.0   F            f                  f                         f    f   \n5  18.0   F            t                  f                         f    f   \n6  59.0   F            f                  f                         f    f   \n7  80.0   F            f                  f                         f    f   \n8  66.0   F            f                  f                         f    f   \n9  68.0   M            f                  f                         f    f   \n\n  Pregnant Thyroid Surgery I131 Treatment Query Hypothyroid  ... T3 Measured  \\\n0        f               f              f                 f  ...           t   \n1        f               f              f                 f  ...           t   \n2        f               f              f                 f  ...           f   \n3        f               f              f                 f  ...           t   \n4        f               f              f                 f  ...           t   \n5        f               f              f                 f  ...           f   \n6        f               f              f                 f  ...           f   \n7        f               f              f                 f  ...           t   \n8        f               f              f                 f  ...           t   \n9        f               f              f                 f  ...           t   \n\n    T3 TT4 Measured    TT4 T4U Measured   T4U FTI Measured    FTI  \\\n0  2.5            t  125.0            t  1.14            t  109.0   \n1  2.0            t  102.0            f   NaN            f    NaN   \n2  NaN            t  109.0            t  0.91            t  120.0   \n3  1.9            t  175.0            f   NaN            f    NaN   \n4  1.2            t   61.0            t  0.87            t   70.0   \n5  NaN            t  183.0            t  1.30            t  141.0   \n6  NaN            t   72.0            t  0.92            t   78.0   \n7  0.6            t   80.0            t  0.70            t  115.0   \n8  2.2            t  123.0            t  0.93            t  132.0   \n9  1.6            t   83.0            t  0.89            t   93.0   \n\n  Referral Source           Class  \n0            SVHC  negative.|3733  \n1           other  negative.|1442  \n2           other  negative.|2965  \n3           other   negative.|806  \n4             SVI  negative.|2807  \n5           other  negative.|3434  \n6           other  negative.|1595  \n7             SVI  negative.|1367  \n8             SVI  negative.|1787  \n9             SVI  negative.|2534  \n\n[10 rows x 28 columns]",
      "text/html": "<div>\n<style scoped>\n    .dataframe tbody tr th:only-of-type {\n        vertical-align: middle;\n    }\n\n    .dataframe tbody tr th {\n        vertical-align: top;\n    }\n\n    .dataframe thead th {\n        text-align: right;\n    }\n</style>\n<table border=\"1\" class=\"dataframe\">\n  <thead>\n    <tr style=\"text-align: right;\">\n      <th></th>\n      <th>Age</th>\n      <th>Sex</th>\n      <th>On Thyroxine</th>\n      <th>Query on Thyroxine</th>\n      <th>On Antithyroid Medication</th>\n      <th>Sick</th>\n      <th>Pregnant</th>\n      <th>Thyroid Surgery</th>\n      <th>I131 Treatment</th>\n      <th>Query Hypothyroid</th>\n      <th>...</th>\n      <th>T3 Measured</th>\n      <th>T3</th>\n      <th>TT4 Measured</th>\n      <th>TT4</th>\n      <th>T4U Measured</th>\n      <th>T4U</th>\n      <th>FTI Measured</th>\n      <th>FTI</th>\n      <th>Referral Source</th>\n      <th>Class</th>\n    </tr>\n  </thead>\n  <tbody>\n    <tr>\n      <th>0</th>\n      <td>41.0</td>\n      <td>F</td>\n      <td>f</td>\n      <td>f</td>\n      <td>f</td>\n      <td>f</td>\n      <td>f</td>\n      <td>f</td>\n      <td>f</td>\n      <td>f</td>\n      <td>...</td>\n      <td>t</td>\n      <td>2.5</td>\n      <td>t</td>\n      <td>125.0</td>\n      <td>t</td>\n      <td>1.14</td>\n      <td>t</td>\n      <td>109.0</td>\n      <td>SVHC</td>\n      <td>negative.|3733</td>\n    </tr>\n    <tr>\n      <th>1</th>\n      <td>23.0</td>\n      <td>F</td>\n      <td>f</td>\n      <td>f</td>\n      <td>f</td>\n      <td>f</td>\n      <td>f</td>\n      <td>f</td>\n      <td>f</td>\n      <td>f</td>\n      <td>...</td>\n      <td>t</td>\n      <td>2.0</td>\n      <td>t</td>\n      <td>102.0</td>\n      <td>f</td>\n      <td>NaN</td>\n      <td>f</td>\n      <td>NaN</td>\n      <td>other</td>\n      <td>negative.|1442</td>\n    </tr>\n    <tr>\n      <th>2</th>\n      <td>46.0</td>\n      <td>M</td>\n      <td>f</td>\n      <td>f</td>\n      <td>f</td>\n      <td>f</td>\n      <td>f</td>\n      <td>f</td>\n      <td>f</td>\n      <td>f</td>\n      <td>...</td>\n      <td>f</td>\n      <td>NaN</td>\n      <td>t</td>\n      <td>109.0</td>\n      <td>t</td>\n      <td>0.91</td>\n      <td>t</td>\n      <td>120.0</td>\n      <td>other</td>\n      <td>negative.|2965</td>\n    </tr>\n    <tr>\n      <th>3</th>\n      <td>70.0</td>\n      <td>F</td>\n      <td>t</td>\n      <td>f</td>\n      <td>f</td>\n      <td>f</td>\n      <td>f</td>\n      <td>f</td>\n      <td>f</td>\n      <td>f</td>\n      <td>...</td>\n      <td>t</td>\n      <td>1.9</td>\n      <td>t</td>\n      <td>175.0</td>\n      <td>f</td>\n      <td>NaN</td>\n      <td>f</td>\n      <td>NaN</td>\n      <td>other</td>\n      <td>negative.|806</td>\n    </tr>\n    <tr>\n      <th>4</th>\n      <td>70.0</td>\n      <td>F</td>\n      <td>f</td>\n      <td>f</td>\n      <td>f</td>\n      <td>f</td>\n      <td>f</td>\n      <td>f</td>\n      <td>f</td>\n      <td>f</td>\n      <td>...</td>\n      <td>t</td>\n      <td>1.2</td>\n      <td>t</td>\n      <td>61.0</td>\n      <td>t</td>\n      <td>0.87</td>\n      <td>t</td>\n      <td>70.0</td>\n      <td>SVI</td>\n      <td>negative.|2807</td>\n    </tr>\n    <tr>\n      <th>5</th>\n      <td>18.0</td>\n      <td>F</td>\n      <td>t</td>\n      <td>f</td>\n      <td>f</td>\n      <td>f</td>\n      <td>f</td>\n      <td>f</td>\n      <td>f</td>\n      <td>f</td>\n      <td>...</td>\n      <td>f</td>\n      <td>NaN</td>\n      <td>t</td>\n      <td>183.0</td>\n      <td>t</td>\n      <td>1.30</td>\n      <td>t</td>\n      <td>141.0</td>\n      <td>other</td>\n      <td>negative.|3434</td>\n    </tr>\n    <tr>\n      <th>6</th>\n      <td>59.0</td>\n      <td>F</td>\n      <td>f</td>\n      <td>f</td>\n      <td>f</td>\n      <td>f</td>\n      <td>f</td>\n      <td>f</td>\n      <td>f</td>\n      <td>f</td>\n      <td>...</td>\n      <td>f</td>\n      <td>NaN</td>\n      <td>t</td>\n      <td>72.0</td>\n      <td>t</td>\n      <td>0.92</td>\n      <td>t</td>\n      <td>78.0</td>\n      <td>other</td>\n      <td>negative.|1595</td>\n    </tr>\n    <tr>\n      <th>7</th>\n      <td>80.0</td>\n      <td>F</td>\n      <td>f</td>\n      <td>f</td>\n      <td>f</td>\n      <td>f</td>\n      <td>f</td>\n      <td>f</td>\n      <td>f</td>\n      <td>f</td>\n      <td>...</td>\n      <td>t</td>\n      <td>0.6</td>\n      <td>t</td>\n      <td>80.0</td>\n      <td>t</td>\n      <td>0.70</td>\n      <td>t</td>\n      <td>115.0</td>\n      <td>SVI</td>\n      <td>negative.|1367</td>\n    </tr>\n    <tr>\n      <th>8</th>\n      <td>66.0</td>\n      <td>F</td>\n      <td>f</td>\n      <td>f</td>\n      <td>f</td>\n      <td>f</td>\n      <td>f</td>\n      <td>f</td>\n      <td>f</td>\n      <td>f</td>\n      <td>...</td>\n      <td>t</td>\n      <td>2.2</td>\n      <td>t</td>\n      <td>123.0</td>\n      <td>t</td>\n      <td>0.93</td>\n      <td>t</td>\n      <td>132.0</td>\n      <td>SVI</td>\n      <td>negative.|1787</td>\n    </tr>\n    <tr>\n      <th>9</th>\n      <td>68.0</td>\n      <td>M</td>\n      <td>f</td>\n      <td>f</td>\n      <td>f</td>\n      <td>f</td>\n      <td>f</td>\n      <td>f</td>\n      <td>f</td>\n      <td>f</td>\n      <td>...</td>\n      <td>t</td>\n      <td>1.6</td>\n      <td>t</td>\n      <td>83.0</td>\n      <td>t</td>\n      <td>0.89</td>\n      <td>t</td>\n      <td>93.0</td>\n      <td>SVI</td>\n      <td>negative.|2534</td>\n    </tr>\n  </tbody>\n</table>\n<p>10 rows × 28 columns</p>\n</div>"
     },
     "metadata": {}
    }
   ]
  },
  {
   "cell_type": "markdown",
   "source": "Perfect!  Now let's see what's going on with the \"class\" column.... According to the note the data collectors included with this data, the \".|####\" refers to a patient number, and is not necessarily relevant for our purposes here.  Let's turn the \"class\" column into a useful multi-class label.",
   "metadata": {
    "colab_type": "text",
    "id": "XOzcRX-5YRvz",
    "cell_id": "00015-cb5457a4-295b-4772-8548-12300f569a5b",
    "deepnote_cell_type": "markdown"
   }
  },
  {
   "cell_type": "code",
   "metadata": {
    "colab": {
     "autoexec": {
      "startup": false,
      "wait_interval": 0
     }
    },
    "colab_type": "code",
    "id": "QFmeyRcGYR7s",
    "cell_id": "00016-b18d1488-f687-44e8-9875-abfb5245d205",
    "deepnote_to_be_reexecuted": false,
    "source_hash": "1372214a",
    "execution_start": 1625755675976,
    "execution_millis": 1365,
    "deepnote_cell_type": "code"
   },
   "source": "# import regular expression package\nimport re  \n\n# define the regular expression for the \".|####\" part of dataset['class']\n\nregex_pattern = ( \"\\.\"   # looks for the period...\n                  \"\\|\"   # followed by a pipe...\n                  \"\\d+\") # followed by one or more digit\n\nfor index, row in dataset.iterrows():\n    \n    # substitute instances of our regex_pattern for an empty string\n    new_class = re.sub(regex_pattern, '', row['Class'])\n    dataset.loc[index,'Class']=new_class\n\ndataset.head()",
   "execution_count": 24,
   "outputs": [
    {
     "output_type": "execute_result",
     "execution_count": 24,
     "data": {
      "application/vnd.deepnote.dataframe.v2+json": {
       "row_count": 5,
       "column_count": 28,
       "columns": [
        {
         "name": "Age",
         "dtype": "float64",
         "stats": {
          "unique_count": 4,
          "nan_count": 0,
          "min": "23.0",
          "max": "70.0",
          "histogram": [
           {
            "bin_start": 23,
            "bin_end": 27.7,
            "count": 1
           },
           {
            "bin_start": 27.7,
            "bin_end": 32.4,
            "count": 0
           },
           {
            "bin_start": 32.4,
            "bin_end": 37.1,
            "count": 0
           },
           {
            "bin_start": 37.1,
            "bin_end": 41.8,
            "count": 1
           },
           {
            "bin_start": 41.8,
            "bin_end": 46.5,
            "count": 1
           },
           {
            "bin_start": 46.5,
            "bin_end": 51.2,
            "count": 0
           },
           {
            "bin_start": 51.2,
            "bin_end": 55.9,
            "count": 0
           },
           {
            "bin_start": 55.9,
            "bin_end": 60.6,
            "count": 0
           },
           {
            "bin_start": 60.6,
            "bin_end": 65.30000000000001,
            "count": 0
           },
           {
            "bin_start": 65.30000000000001,
            "bin_end": 70,
            "count": 2
           }
          ]
         }
        },
        {
         "name": "Sex",
         "dtype": "object",
         "stats": {
          "unique_count": 2,
          "nan_count": 0,
          "categories": [
           {
            "name": "F",
            "count": 4
           },
           {
            "name": "M",
            "count": 1
           }
          ]
         }
        },
        {
         "name": "On Thyroxine",
         "dtype": "object",
         "stats": {
          "unique_count": 2,
          "nan_count": 0,
          "categories": [
           {
            "name": "f",
            "count": 4
           },
           {
            "name": "t",
            "count": 1
           }
          ]
         }
        },
        {
         "name": "Query on Thyroxine",
         "dtype": "object",
         "stats": {
          "unique_count": 1,
          "nan_count": 0,
          "categories": [
           {
            "name": "f",
            "count": 5
           }
          ]
         }
        },
        {
         "name": "On Antithyroid Medication",
         "dtype": "object",
         "stats": {
          "unique_count": 1,
          "nan_count": 0,
          "categories": [
           {
            "name": "f",
            "count": 5
           }
          ]
         }
        },
        {
         "name": "Sick",
         "dtype": "object",
         "stats": {
          "unique_count": 1,
          "nan_count": 0,
          "categories": [
           {
            "name": "f",
            "count": 5
           }
          ]
         }
        },
        {
         "name": "Pregnant",
         "dtype": "object",
         "stats": {
          "unique_count": 1,
          "nan_count": 0,
          "categories": [
           {
            "name": "f",
            "count": 5
           }
          ]
         }
        },
        {
         "name": "Thyroid Surgery",
         "dtype": "object",
         "stats": {
          "unique_count": 1,
          "nan_count": 0,
          "categories": [
           {
            "name": "f",
            "count": 5
           }
          ]
         }
        },
        {
         "name": "I131 Treatment",
         "dtype": "object",
         "stats": {
          "unique_count": 1,
          "nan_count": 0,
          "categories": [
           {
            "name": "f",
            "count": 5
           }
          ]
         }
        },
        {
         "name": "Query Hypothyroid",
         "dtype": "object",
         "stats": {
          "unique_count": 1,
          "nan_count": 0,
          "categories": [
           {
            "name": "f",
            "count": 5
           }
          ]
         }
        },
        {
         "name": "Query Hyperthyroid",
         "dtype": "object",
         "stats": {
          "unique_count": 1,
          "nan_count": 0,
          "categories": [
           {
            "name": "f",
            "count": 5
           }
          ]
         }
        },
        {
         "name": "Lithium",
         "dtype": "object",
         "stats": {
          "unique_count": 1,
          "nan_count": 0,
          "categories": [
           {
            "name": "f",
            "count": 5
           }
          ]
         }
        },
        {
         "name": "Goiter",
         "dtype": "object",
         "stats": {
          "unique_count": 1,
          "nan_count": 0,
          "categories": [
           {
            "name": "f",
            "count": 5
           }
          ]
         }
        },
        {
         "name": "Tumor",
         "dtype": "object",
         "stats": {
          "unique_count": 1,
          "nan_count": 0,
          "categories": [
           {
            "name": "f",
            "count": 5
           }
          ]
         }
        },
        {
         "name": "Hypopituitary",
         "dtype": "object",
         "stats": {
          "unique_count": 1,
          "nan_count": 0,
          "categories": [
           {
            "name": "f",
            "count": 5
           }
          ]
         }
        },
        {
         "name": "Psych",
         "dtype": "object",
         "stats": {
          "unique_count": 1,
          "nan_count": 0,
          "categories": [
           {
            "name": "f",
            "count": 5
           }
          ]
         }
        },
        {
         "name": "TSH Measured",
         "dtype": "object",
         "stats": {
          "unique_count": 1,
          "nan_count": 0,
          "categories": [
           {
            "name": "t",
            "count": 5
           }
          ]
         }
        },
        {
         "name": "TSH",
         "dtype": "float64",
         "stats": {
          "unique_count": 5,
          "nan_count": 0,
          "min": "0.16",
          "max": "4.1",
          "histogram": [
           {
            "bin_start": 0.16,
            "bin_end": 0.5539999999999999,
            "count": 1
           },
           {
            "bin_start": 0.5539999999999999,
            "bin_end": 0.948,
            "count": 1
           },
           {
            "bin_start": 0.948,
            "bin_end": 1.3419999999999999,
            "count": 2
           },
           {
            "bin_start": 1.3419999999999999,
            "bin_end": 1.7359999999999998,
            "count": 0
           },
           {
            "bin_start": 1.7359999999999998,
            "bin_end": 2.13,
            "count": 0
           },
           {
            "bin_start": 2.13,
            "bin_end": 2.524,
            "count": 0
           },
           {
            "bin_start": 2.524,
            "bin_end": 2.9179999999999997,
            "count": 0
           },
           {
            "bin_start": 2.9179999999999997,
            "bin_end": 3.312,
            "count": 0
           },
           {
            "bin_start": 3.312,
            "bin_end": 3.706,
            "count": 0
           },
           {
            "bin_start": 3.706,
            "bin_end": 4.1,
            "count": 1
           }
          ]
         }
        },
        {
         "name": "T3 Measured",
         "dtype": "object",
         "stats": {
          "unique_count": 2,
          "nan_count": 0,
          "categories": [
           {
            "name": "t",
            "count": 4
           },
           {
            "name": "f",
            "count": 1
           }
          ]
         }
        },
        {
         "name": "T3",
         "dtype": "float64",
         "stats": {
          "unique_count": 4,
          "nan_count": 1,
          "min": "1.2",
          "max": "2.5",
          "histogram": [
           {
            "bin_start": 1.2,
            "bin_end": 1.33,
            "count": 1
           },
           {
            "bin_start": 1.33,
            "bin_end": 1.46,
            "count": 0
           },
           {
            "bin_start": 1.46,
            "bin_end": 1.5899999999999999,
            "count": 0
           },
           {
            "bin_start": 1.5899999999999999,
            "bin_end": 1.72,
            "count": 0
           },
           {
            "bin_start": 1.72,
            "bin_end": 1.85,
            "count": 0
           },
           {
            "bin_start": 1.85,
            "bin_end": 1.98,
            "count": 1
           },
           {
            "bin_start": 1.98,
            "bin_end": 2.11,
            "count": 1
           },
           {
            "bin_start": 2.11,
            "bin_end": 2.24,
            "count": 0
           },
           {
            "bin_start": 2.24,
            "bin_end": 2.37,
            "count": 0
           },
           {
            "bin_start": 2.37,
            "bin_end": 2.5,
            "count": 1
           }
          ]
         }
        },
        {
         "name": "TT4 Measured",
         "dtype": "object",
         "stats": {
          "unique_count": 1,
          "nan_count": 0,
          "categories": [
           {
            "name": "t",
            "count": 5
           }
          ]
         }
        },
        {
         "name": "TT4",
         "dtype": "float64",
         "stats": {
          "unique_count": 5,
          "nan_count": 0,
          "min": "61.0",
          "max": "175.0",
          "histogram": [
           {
            "bin_start": 61,
            "bin_end": 72.4,
            "count": 1
           },
           {
            "bin_start": 72.4,
            "bin_end": 83.8,
            "count": 0
           },
           {
            "bin_start": 83.8,
            "bin_end": 95.2,
            "count": 0
           },
           {
            "bin_start": 95.2,
            "bin_end": 106.6,
            "count": 1
           },
           {
            "bin_start": 106.6,
            "bin_end": 118,
            "count": 1
           },
           {
            "bin_start": 118,
            "bin_end": 129.4,
            "count": 1
           },
           {
            "bin_start": 129.4,
            "bin_end": 140.8,
            "count": 0
           },
           {
            "bin_start": 140.8,
            "bin_end": 152.2,
            "count": 0
           },
           {
            "bin_start": 152.2,
            "bin_end": 163.60000000000002,
            "count": 0
           },
           {
            "bin_start": 163.60000000000002,
            "bin_end": 175,
            "count": 1
           }
          ]
         }
        },
        {
         "name": "T4U Measured",
         "dtype": "object",
         "stats": {
          "unique_count": 2,
          "nan_count": 0,
          "categories": [
           {
            "name": "t",
            "count": 3
           },
           {
            "name": "f",
            "count": 2
           }
          ]
         }
        },
        {
         "name": "T4U",
         "dtype": "float64",
         "stats": {
          "unique_count": 3,
          "nan_count": 2,
          "min": "0.87",
          "max": "1.14",
          "histogram": [
           {
            "bin_start": 0.87,
            "bin_end": 0.897,
            "count": 1
           },
           {
            "bin_start": 0.897,
            "bin_end": 0.9239999999999999,
            "count": 1
           },
           {
            "bin_start": 0.9239999999999999,
            "bin_end": 0.951,
            "count": 0
           },
           {
            "bin_start": 0.951,
            "bin_end": 0.978,
            "count": 0
           },
           {
            "bin_start": 0.978,
            "bin_end": 1.005,
            "count": 0
           },
           {
            "bin_start": 1.005,
            "bin_end": 1.032,
            "count": 0
           },
           {
            "bin_start": 1.032,
            "bin_end": 1.059,
            "count": 0
           },
           {
            "bin_start": 1.059,
            "bin_end": 1.0859999999999999,
            "count": 0
           },
           {
            "bin_start": 1.0859999999999999,
            "bin_end": 1.113,
            "count": 0
           },
           {
            "bin_start": 1.113,
            "bin_end": 1.14,
            "count": 1
           }
          ]
         }
        },
        {
         "name": "FTI Measured",
         "dtype": "object",
         "stats": {
          "unique_count": 2,
          "nan_count": 0,
          "categories": [
           {
            "name": "t",
            "count": 3
           },
           {
            "name": "f",
            "count": 2
           }
          ]
         }
        },
        {
         "name": "FTI",
         "dtype": "float64",
         "stats": {
          "unique_count": 3,
          "nan_count": 2,
          "min": "70.0",
          "max": "120.0",
          "histogram": [
           {
            "bin_start": 70,
            "bin_end": 75,
            "count": 1
           },
           {
            "bin_start": 75,
            "bin_end": 80,
            "count": 0
           },
           {
            "bin_start": 80,
            "bin_end": 85,
            "count": 0
           },
           {
            "bin_start": 85,
            "bin_end": 90,
            "count": 0
           },
           {
            "bin_start": 90,
            "bin_end": 95,
            "count": 0
           },
           {
            "bin_start": 95,
            "bin_end": 100,
            "count": 0
           },
           {
            "bin_start": 100,
            "bin_end": 105,
            "count": 0
           },
           {
            "bin_start": 105,
            "bin_end": 110,
            "count": 1
           },
           {
            "bin_start": 110,
            "bin_end": 115,
            "count": 0
           },
           {
            "bin_start": 115,
            "bin_end": 120,
            "count": 1
           }
          ]
         }
        },
        {
         "name": "Referral Source",
         "dtype": "object",
         "stats": {
          "unique_count": 3,
          "nan_count": 0,
          "categories": [
           {
            "name": "other",
            "count": 3
           },
           {
            "name": "SVHC",
            "count": 1
           },
           {
            "name": "SVI",
            "count": 1
           }
          ]
         }
        },
        {
         "name": "Class",
         "dtype": "object",
         "stats": {
          "unique_count": 1,
          "nan_count": 0,
          "categories": [
           {
            "name": "negative",
            "count": 5
           }
          ]
         }
        },
        {
         "name": "_deepnote_index_column",
         "dtype": "int64"
        }
       ],
       "rows_top": [
        {
         "Age": 41,
         "Sex": "F",
         "On Thyroxine": "f",
         "Query on Thyroxine": "f",
         "On Antithyroid Medication": "f",
         "Sick": "f",
         "Pregnant": "f",
         "Thyroid Surgery": "f",
         "I131 Treatment": "f",
         "Query Hypothyroid": "f",
         "Query Hyperthyroid": "f",
         "Lithium": "f",
         "Goiter": "f",
         "Tumor": "f",
         "Hypopituitary": "f",
         "Psych": "f",
         "TSH Measured": "t",
         "TSH": 1.3,
         "T3 Measured": "t",
         "T3": 2.5,
         "TT4 Measured": "t",
         "TT4": 125,
         "T4U Measured": "t",
         "T4U": 1.14,
         "FTI Measured": "t",
         "FTI": 109,
         "Referral Source": "SVHC",
         "Class": "negative",
         "_deepnote_index_column": 0
        },
        {
         "Age": 23,
         "Sex": "F",
         "On Thyroxine": "f",
         "Query on Thyroxine": "f",
         "On Antithyroid Medication": "f",
         "Sick": "f",
         "Pregnant": "f",
         "Thyroid Surgery": "f",
         "I131 Treatment": "f",
         "Query Hypothyroid": "f",
         "Query Hyperthyroid": "f",
         "Lithium": "f",
         "Goiter": "f",
         "Tumor": "f",
         "Hypopituitary": "f",
         "Psych": "f",
         "TSH Measured": "t",
         "TSH": 4.1,
         "T3 Measured": "t",
         "T3": 2,
         "TT4 Measured": "t",
         "TT4": 102,
         "T4U Measured": "f",
         "T4U": "nan",
         "FTI Measured": "f",
         "FTI": "nan",
         "Referral Source": "other",
         "Class": "negative",
         "_deepnote_index_column": 1
        },
        {
         "Age": 46,
         "Sex": "M",
         "On Thyroxine": "f",
         "Query on Thyroxine": "f",
         "On Antithyroid Medication": "f",
         "Sick": "f",
         "Pregnant": "f",
         "Thyroid Surgery": "f",
         "I131 Treatment": "f",
         "Query Hypothyroid": "f",
         "Query Hyperthyroid": "f",
         "Lithium": "f",
         "Goiter": "f",
         "Tumor": "f",
         "Hypopituitary": "f",
         "Psych": "f",
         "TSH Measured": "t",
         "TSH": 0.98,
         "T3 Measured": "f",
         "T3": "nan",
         "TT4 Measured": "t",
         "TT4": 109,
         "T4U Measured": "t",
         "T4U": 0.91,
         "FTI Measured": "t",
         "FTI": 120,
         "Referral Source": "other",
         "Class": "negative",
         "_deepnote_index_column": 2
        },
        {
         "Age": 70,
         "Sex": "F",
         "On Thyroxine": "t",
         "Query on Thyroxine": "f",
         "On Antithyroid Medication": "f",
         "Sick": "f",
         "Pregnant": "f",
         "Thyroid Surgery": "f",
         "I131 Treatment": "f",
         "Query Hypothyroid": "f",
         "Query Hyperthyroid": "f",
         "Lithium": "f",
         "Goiter": "f",
         "Tumor": "f",
         "Hypopituitary": "f",
         "Psych": "f",
         "TSH Measured": "t",
         "TSH": 0.16,
         "T3 Measured": "t",
         "T3": 1.9,
         "TT4 Measured": "t",
         "TT4": 175,
         "T4U Measured": "f",
         "T4U": "nan",
         "FTI Measured": "f",
         "FTI": "nan",
         "Referral Source": "other",
         "Class": "negative",
         "_deepnote_index_column": 3
        },
        {
         "Age": 70,
         "Sex": "F",
         "On Thyroxine": "f",
         "Query on Thyroxine": "f",
         "On Antithyroid Medication": "f",
         "Sick": "f",
         "Pregnant": "f",
         "Thyroid Surgery": "f",
         "I131 Treatment": "f",
         "Query Hypothyroid": "f",
         "Query Hyperthyroid": "f",
         "Lithium": "f",
         "Goiter": "f",
         "Tumor": "f",
         "Hypopituitary": "f",
         "Psych": "f",
         "TSH Measured": "t",
         "TSH": 0.72,
         "T3 Measured": "t",
         "T3": 1.2,
         "TT4 Measured": "t",
         "TT4": 61,
         "T4U Measured": "t",
         "T4U": 0.87,
         "FTI Measured": "t",
         "FTI": 70,
         "Referral Source": "SVI",
         "Class": "negative",
         "_deepnote_index_column": 4
        }
       ],
       "rows_bottom": null
      },
      "text/plain": "    Age Sex On Thyroxine Query on Thyroxine On Antithyroid Medication Sick  \\\n0  41.0   F            f                  f                         f    f   \n1  23.0   F            f                  f                         f    f   \n2  46.0   M            f                  f                         f    f   \n3  70.0   F            t                  f                         f    f   \n4  70.0   F            f                  f                         f    f   \n\n  Pregnant Thyroid Surgery I131 Treatment Query Hypothyroid  ... T3 Measured  \\\n0        f               f              f                 f  ...           t   \n1        f               f              f                 f  ...           t   \n2        f               f              f                 f  ...           f   \n3        f               f              f                 f  ...           t   \n4        f               f              f                 f  ...           t   \n\n    T3 TT4 Measured    TT4 T4U Measured   T4U FTI Measured    FTI  \\\n0  2.5            t  125.0            t  1.14            t  109.0   \n1  2.0            t  102.0            f   NaN            f    NaN   \n2  NaN            t  109.0            t  0.91            t  120.0   \n3  1.9            t  175.0            f   NaN            f    NaN   \n4  1.2            t   61.0            t  0.87            t   70.0   \n\n  Referral Source     Class  \n0            SVHC  negative  \n1           other  negative  \n2           other  negative  \n3           other  negative  \n4             SVI  negative  \n\n[5 rows x 28 columns]",
      "text/html": "<div>\n<style scoped>\n    .dataframe tbody tr th:only-of-type {\n        vertical-align: middle;\n    }\n\n    .dataframe tbody tr th {\n        vertical-align: top;\n    }\n\n    .dataframe thead th {\n        text-align: right;\n    }\n</style>\n<table border=\"1\" class=\"dataframe\">\n  <thead>\n    <tr style=\"text-align: right;\">\n      <th></th>\n      <th>Age</th>\n      <th>Sex</th>\n      <th>On Thyroxine</th>\n      <th>Query on Thyroxine</th>\n      <th>On Antithyroid Medication</th>\n      <th>Sick</th>\n      <th>Pregnant</th>\n      <th>Thyroid Surgery</th>\n      <th>I131 Treatment</th>\n      <th>Query Hypothyroid</th>\n      <th>...</th>\n      <th>T3 Measured</th>\n      <th>T3</th>\n      <th>TT4 Measured</th>\n      <th>TT4</th>\n      <th>T4U Measured</th>\n      <th>T4U</th>\n      <th>FTI Measured</th>\n      <th>FTI</th>\n      <th>Referral Source</th>\n      <th>Class</th>\n    </tr>\n  </thead>\n  <tbody>\n    <tr>\n      <th>0</th>\n      <td>41.0</td>\n      <td>F</td>\n      <td>f</td>\n      <td>f</td>\n      <td>f</td>\n      <td>f</td>\n      <td>f</td>\n      <td>f</td>\n      <td>f</td>\n      <td>f</td>\n      <td>...</td>\n      <td>t</td>\n      <td>2.5</td>\n      <td>t</td>\n      <td>125.0</td>\n      <td>t</td>\n      <td>1.14</td>\n      <td>t</td>\n      <td>109.0</td>\n      <td>SVHC</td>\n      <td>negative</td>\n    </tr>\n    <tr>\n      <th>1</th>\n      <td>23.0</td>\n      <td>F</td>\n      <td>f</td>\n      <td>f</td>\n      <td>f</td>\n      <td>f</td>\n      <td>f</td>\n      <td>f</td>\n      <td>f</td>\n      <td>f</td>\n      <td>...</td>\n      <td>t</td>\n      <td>2.0</td>\n      <td>t</td>\n      <td>102.0</td>\n      <td>f</td>\n      <td>NaN</td>\n      <td>f</td>\n      <td>NaN</td>\n      <td>other</td>\n      <td>negative</td>\n    </tr>\n    <tr>\n      <th>2</th>\n      <td>46.0</td>\n      <td>M</td>\n      <td>f</td>\n      <td>f</td>\n      <td>f</td>\n      <td>f</td>\n      <td>f</td>\n      <td>f</td>\n      <td>f</td>\n      <td>f</td>\n      <td>...</td>\n      <td>f</td>\n      <td>NaN</td>\n      <td>t</td>\n      <td>109.0</td>\n      <td>t</td>\n      <td>0.91</td>\n      <td>t</td>\n      <td>120.0</td>\n      <td>other</td>\n      <td>negative</td>\n    </tr>\n    <tr>\n      <th>3</th>\n      <td>70.0</td>\n      <td>F</td>\n      <td>t</td>\n      <td>f</td>\n      <td>f</td>\n      <td>f</td>\n      <td>f</td>\n      <td>f</td>\n      <td>f</td>\n      <td>f</td>\n      <td>...</td>\n      <td>t</td>\n      <td>1.9</td>\n      <td>t</td>\n      <td>175.0</td>\n      <td>f</td>\n      <td>NaN</td>\n      <td>f</td>\n      <td>NaN</td>\n      <td>other</td>\n      <td>negative</td>\n    </tr>\n    <tr>\n      <th>4</th>\n      <td>70.0</td>\n      <td>F</td>\n      <td>f</td>\n      <td>f</td>\n      <td>f</td>\n      <td>f</td>\n      <td>f</td>\n      <td>f</td>\n      <td>f</td>\n      <td>f</td>\n      <td>...</td>\n      <td>t</td>\n      <td>1.2</td>\n      <td>t</td>\n      <td>61.0</td>\n      <td>t</td>\n      <td>0.87</td>\n      <td>t</td>\n      <td>70.0</td>\n      <td>SVI</td>\n      <td>negative</td>\n    </tr>\n  </tbody>\n</table>\n<p>5 rows × 28 columns</p>\n</div>"
     },
     "metadata": {}
    }
   ]
  },
  {
   "cell_type": "markdown",
   "source": "Let's run the describe() function on just the \"class\" column.",
   "metadata": {
    "colab_type": "text",
    "id": "KYOwWnpqhQvd",
    "cell_id": "00017-571a770b-eeda-4bfd-9686-c20b83549c0d",
    "deepnote_cell_type": "markdown"
   }
  },
  {
   "cell_type": "code",
   "metadata": {
    "colab": {
     "autoexec": {
      "startup": false,
      "wait_interval": 0
     },
     "base_uri": "https://localhost:8080/",
     "height": 105
    },
    "colab_type": "code",
    "executionInfo": {
     "elapsed": 272,
     "status": "ok",
     "timestamp": 1531117211963,
     "user": {
      "displayName": "Lyle Lalunio",
      "photoUrl": "https://lh3.googleusercontent.com/a/default-user=s128",
      "userId": "108954789805627648380"
     },
     "user_tz": 240
    },
    "id": "cq_v45R8hP5A",
    "outputId": "5db97e80-a424-49c9-d58f-a7126894d1c6",
    "cell_id": "00018-7470089b-ea9a-4020-934c-38bbe12997bb",
    "deepnote_to_be_reexecuted": false,
    "source_hash": "49976322",
    "execution_start": 1625755678356,
    "execution_millis": 4,
    "deepnote_cell_type": "code"
   },
   "source": "dataset['Class'].describe()",
   "execution_count": 25,
   "outputs": [
    {
     "output_type": "execute_result",
     "execution_count": 25,
     "data": {
      "text/plain": "count         2800\nunique           4\ntop       negative\nfreq          2580\nName: Class, dtype: object"
     },
     "metadata": {}
    }
   ]
  },
  {
   "cell_type": "markdown",
   "source": "It looks like there are actually 4 unique classification variables! Thank goodness we didn't assume it was binary.\n\n",
   "metadata": {
    "colab_type": "text",
    "id": "m6S7Y6VXhYct",
    "cell_id": "00019-dc577d69-414f-4804-bc07-332e690eafc0",
    "deepnote_cell_type": "markdown"
   }
  },
  {
   "cell_type": "code",
   "metadata": {
    "colab": {
     "autoexec": {
      "startup": false,
      "wait_interval": 0
     }
    },
    "colab_type": "code",
    "id": "oH0fTzzvE-oF",
    "cell_id": "00020-b778405e-f064-4c77-bcd9-5d246fe02e54",
    "deepnote_to_be_reexecuted": false,
    "source_hash": "e3cb0ef3",
    "execution_start": 1625755679801,
    "execution_millis": 12,
    "deepnote_cell_type": "code"
   },
   "source": "# Display all the unique values in the class column.\ndataset['Class'].unique()",
   "execution_count": 26,
   "outputs": [
    {
     "output_type": "execute_result",
     "execution_count": 26,
     "data": {
      "text/plain": "array(['negative', 'compensated hypothyroid', 'primary hypothyroid',\n       'secondary hypothyroid'], dtype=object)"
     },
     "metadata": {}
    }
   ]
  },
  {
   "cell_type": "markdown",
   "source": "But let's make it binary for the sake of this example.  If you finish early later on, try the multiclass classifier with all 4 values!",
   "metadata": {
    "colab_type": "text",
    "id": "aBrmRJHakpWm",
    "cell_id": "00021-b1ef8faa-b299-433a-9a6f-9fdc7f363086",
    "deepnote_cell_type": "markdown"
   }
  },
  {
   "cell_type": "code",
   "metadata": {
    "colab": {
     "autoexec": {
      "startup": false,
      "wait_interval": 0
     }
    },
    "colab_type": "code",
    "id": "HwqVoUFTkoa0",
    "cell_id": "00022-ee225878-6254-4064-9f88-b09bcbfa5771",
    "deepnote_to_be_reexecuted": false,
    "source_hash": "55c7ca0d",
    "execution_start": 1625755681276,
    "execution_millis": 24,
    "deepnote_cell_type": "code"
   },
   "source": "# Change all non-negative classes to the positive class\n\ndataset['Class'] = dataset['Class'].replace('negative', 0)                    \ndataset['Class'] = dataset['Class'].replace('compensated hypothyroid', 1)     \ndataset['Class'] = dataset['Class'].replace('primary hypothyroid', 1)         \ndataset['Class'] = dataset['Class'].replace('secondary hypothyroid', 1)\n\ndataset.head(10)",
   "execution_count": 27,
   "outputs": [
    {
     "output_type": "execute_result",
     "execution_count": 27,
     "data": {
      "application/vnd.deepnote.dataframe.v2+json": {
       "row_count": 10,
       "column_count": 28,
       "columns": [
        {
         "name": "Age",
         "dtype": "float64",
         "stats": {
          "unique_count": 9,
          "nan_count": 0,
          "min": "18.0",
          "max": "80.0",
          "histogram": [
           {
            "bin_start": 18,
            "bin_end": 24.2,
            "count": 2
           },
           {
            "bin_start": 24.2,
            "bin_end": 30.4,
            "count": 0
           },
           {
            "bin_start": 30.4,
            "bin_end": 36.6,
            "count": 0
           },
           {
            "bin_start": 36.6,
            "bin_end": 42.8,
            "count": 1
           },
           {
            "bin_start": 42.8,
            "bin_end": 49,
            "count": 1
           },
           {
            "bin_start": 49,
            "bin_end": 55.2,
            "count": 0
           },
           {
            "bin_start": 55.2,
            "bin_end": 61.4,
            "count": 1
           },
           {
            "bin_start": 61.4,
            "bin_end": 67.6,
            "count": 1
           },
           {
            "bin_start": 67.6,
            "bin_end": 73.80000000000001,
            "count": 3
           },
           {
            "bin_start": 73.80000000000001,
            "bin_end": 80,
            "count": 1
           }
          ]
         }
        },
        {
         "name": "Sex",
         "dtype": "object",
         "stats": {
          "unique_count": 2,
          "nan_count": 0,
          "categories": [
           {
            "name": "F",
            "count": 8
           },
           {
            "name": "M",
            "count": 2
           }
          ]
         }
        },
        {
         "name": "On Thyroxine",
         "dtype": "object",
         "stats": {
          "unique_count": 2,
          "nan_count": 0,
          "categories": [
           {
            "name": "f",
            "count": 8
           },
           {
            "name": "t",
            "count": 2
           }
          ]
         }
        },
        {
         "name": "Query on Thyroxine",
         "dtype": "object",
         "stats": {
          "unique_count": 1,
          "nan_count": 0,
          "categories": [
           {
            "name": "f",
            "count": 10
           }
          ]
         }
        },
        {
         "name": "On Antithyroid Medication",
         "dtype": "object",
         "stats": {
          "unique_count": 1,
          "nan_count": 0,
          "categories": [
           {
            "name": "f",
            "count": 10
           }
          ]
         }
        },
        {
         "name": "Sick",
         "dtype": "object",
         "stats": {
          "unique_count": 1,
          "nan_count": 0,
          "categories": [
           {
            "name": "f",
            "count": 10
           }
          ]
         }
        },
        {
         "name": "Pregnant",
         "dtype": "object",
         "stats": {
          "unique_count": 1,
          "nan_count": 0,
          "categories": [
           {
            "name": "f",
            "count": 10
           }
          ]
         }
        },
        {
         "name": "Thyroid Surgery",
         "dtype": "object",
         "stats": {
          "unique_count": 1,
          "nan_count": 0,
          "categories": [
           {
            "name": "f",
            "count": 10
           }
          ]
         }
        },
        {
         "name": "I131 Treatment",
         "dtype": "object",
         "stats": {
          "unique_count": 1,
          "nan_count": 0,
          "categories": [
           {
            "name": "f",
            "count": 10
           }
          ]
         }
        },
        {
         "name": "Query Hypothyroid",
         "dtype": "object",
         "stats": {
          "unique_count": 1,
          "nan_count": 0,
          "categories": [
           {
            "name": "f",
            "count": 10
           }
          ]
         }
        },
        {
         "name": "Query Hyperthyroid",
         "dtype": "object",
         "stats": {
          "unique_count": 1,
          "nan_count": 0,
          "categories": [
           {
            "name": "f",
            "count": 10
           }
          ]
         }
        },
        {
         "name": "Lithium",
         "dtype": "object",
         "stats": {
          "unique_count": 1,
          "nan_count": 0,
          "categories": [
           {
            "name": "f",
            "count": 10
           }
          ]
         }
        },
        {
         "name": "Goiter",
         "dtype": "object",
         "stats": {
          "unique_count": 1,
          "nan_count": 0,
          "categories": [
           {
            "name": "f",
            "count": 10
           }
          ]
         }
        },
        {
         "name": "Tumor",
         "dtype": "object",
         "stats": {
          "unique_count": 2,
          "nan_count": 0,
          "categories": [
           {
            "name": "f",
            "count": 9
           },
           {
            "name": "t",
            "count": 1
           }
          ]
         }
        },
        {
         "name": "Hypopituitary",
         "dtype": "object",
         "stats": {
          "unique_count": 1,
          "nan_count": 0,
          "categories": [
           {
            "name": "f",
            "count": 10
           }
          ]
         }
        },
        {
         "name": "Psych",
         "dtype": "object",
         "stats": {
          "unique_count": 1,
          "nan_count": 0,
          "categories": [
           {
            "name": "f",
            "count": 10
           }
          ]
         }
        },
        {
         "name": "TSH Measured",
         "dtype": "object",
         "stats": {
          "unique_count": 2,
          "nan_count": 0,
          "categories": [
           {
            "name": "t",
            "count": 9
           },
           {
            "name": "f",
            "count": 1
           }
          ]
         }
        },
        {
         "name": "TSH",
         "dtype": "float64",
         "stats": {
          "unique_count": 9,
          "nan_count": 1,
          "min": "0.03",
          "max": "4.1",
          "histogram": [
           {
            "bin_start": 0.03,
            "bin_end": 0.43699999999999994,
            "count": 2
           },
           {
            "bin_start": 0.43699999999999994,
            "bin_end": 0.8439999999999999,
            "count": 2
           },
           {
            "bin_start": 0.8439999999999999,
            "bin_end": 1.2509999999999997,
            "count": 1
           },
           {
            "bin_start": 1.2509999999999997,
            "bin_end": 1.6579999999999997,
            "count": 1
           },
           {
            "bin_start": 1.6579999999999997,
            "bin_end": 2.0649999999999995,
            "count": 0
           },
           {
            "bin_start": 2.0649999999999995,
            "bin_end": 2.471999999999999,
            "count": 2
           },
           {
            "bin_start": 2.471999999999999,
            "bin_end": 2.878999999999999,
            "count": 0
           },
           {
            "bin_start": 2.878999999999999,
            "bin_end": 3.285999999999999,
            "count": 0
           },
           {
            "bin_start": 3.285999999999999,
            "bin_end": 3.692999999999999,
            "count": 0
           },
           {
            "bin_start": 3.692999999999999,
            "bin_end": 4.1,
            "count": 1
           }
          ]
         }
        },
        {
         "name": "T3 Measured",
         "dtype": "object",
         "stats": {
          "unique_count": 2,
          "nan_count": 0,
          "categories": [
           {
            "name": "t",
            "count": 7
           },
           {
            "name": "f",
            "count": 3
           }
          ]
         }
        },
        {
         "name": "T3",
         "dtype": "float64",
         "stats": {
          "unique_count": 7,
          "nan_count": 3,
          "min": "0.6",
          "max": "2.5",
          "histogram": [
           {
            "bin_start": 0.6,
            "bin_end": 0.79,
            "count": 1
           },
           {
            "bin_start": 0.79,
            "bin_end": 0.98,
            "count": 0
           },
           {
            "bin_start": 0.98,
            "bin_end": 1.17,
            "count": 0
           },
           {
            "bin_start": 1.17,
            "bin_end": 1.3599999999999999,
            "count": 1
           },
           {
            "bin_start": 1.3599999999999999,
            "bin_end": 1.5499999999999998,
            "count": 0
           },
           {
            "bin_start": 1.5499999999999998,
            "bin_end": 1.7400000000000002,
            "count": 1
           },
           {
            "bin_start": 1.7400000000000002,
            "bin_end": 1.9300000000000002,
            "count": 1
           },
           {
            "bin_start": 1.9300000000000002,
            "bin_end": 2.12,
            "count": 1
           },
           {
            "bin_start": 2.12,
            "bin_end": 2.31,
            "count": 1
           },
           {
            "bin_start": 2.31,
            "bin_end": 2.5,
            "count": 1
           }
          ]
         }
        },
        {
         "name": "TT4 Measured",
         "dtype": "object",
         "stats": {
          "unique_count": 1,
          "nan_count": 0,
          "categories": [
           {
            "name": "t",
            "count": 10
           }
          ]
         }
        },
        {
         "name": "TT4",
         "dtype": "float64",
         "stats": {
          "unique_count": 10,
          "nan_count": 0,
          "min": "61.0",
          "max": "183.0",
          "histogram": [
           {
            "bin_start": 61,
            "bin_end": 73.2,
            "count": 2
           },
           {
            "bin_start": 73.2,
            "bin_end": 85.4,
            "count": 2
           },
           {
            "bin_start": 85.4,
            "bin_end": 97.6,
            "count": 0
           },
           {
            "bin_start": 97.6,
            "bin_end": 109.8,
            "count": 2
           },
           {
            "bin_start": 109.8,
            "bin_end": 122,
            "count": 0
           },
           {
            "bin_start": 122,
            "bin_end": 134.2,
            "count": 2
           },
           {
            "bin_start": 134.2,
            "bin_end": 146.39999999999998,
            "count": 0
           },
           {
            "bin_start": 146.39999999999998,
            "bin_end": 158.6,
            "count": 0
           },
           {
            "bin_start": 158.6,
            "bin_end": 170.8,
            "count": 0
           },
           {
            "bin_start": 170.8,
            "bin_end": 183,
            "count": 2
           }
          ]
         }
        },
        {
         "name": "T4U Measured",
         "dtype": "object",
         "stats": {
          "unique_count": 2,
          "nan_count": 0,
          "categories": [
           {
            "name": "t",
            "count": 8
           },
           {
            "name": "f",
            "count": 2
           }
          ]
         }
        },
        {
         "name": "T4U",
         "dtype": "float64",
         "stats": {
          "unique_count": 8,
          "nan_count": 2,
          "min": "0.7",
          "max": "1.3",
          "histogram": [
           {
            "bin_start": 0.7,
            "bin_end": 0.76,
            "count": 1
           },
           {
            "bin_start": 0.76,
            "bin_end": 0.82,
            "count": 0
           },
           {
            "bin_start": 0.82,
            "bin_end": 0.88,
            "count": 1
           },
           {
            "bin_start": 0.88,
            "bin_end": 0.94,
            "count": 4
           },
           {
            "bin_start": 0.94,
            "bin_end": 1,
            "count": 0
           },
           {
            "bin_start": 1,
            "bin_end": 1.06,
            "count": 0
           },
           {
            "bin_start": 1.06,
            "bin_end": 1.12,
            "count": 0
           },
           {
            "bin_start": 1.12,
            "bin_end": 1.1800000000000002,
            "count": 1
           },
           {
            "bin_start": 1.1800000000000002,
            "bin_end": 1.2400000000000002,
            "count": 0
           },
           {
            "bin_start": 1.2400000000000002,
            "bin_end": 1.3,
            "count": 1
           }
          ]
         }
        },
        {
         "name": "FTI Measured",
         "dtype": "object",
         "stats": {
          "unique_count": 2,
          "nan_count": 0,
          "categories": [
           {
            "name": "t",
            "count": 8
           },
           {
            "name": "f",
            "count": 2
           }
          ]
         }
        },
        {
         "name": "FTI",
         "dtype": "float64",
         "stats": {
          "unique_count": 8,
          "nan_count": 2,
          "min": "70.0",
          "max": "141.0",
          "histogram": [
           {
            "bin_start": 70,
            "bin_end": 77.1,
            "count": 1
           },
           {
            "bin_start": 77.1,
            "bin_end": 84.2,
            "count": 1
           },
           {
            "bin_start": 84.2,
            "bin_end": 91.3,
            "count": 0
           },
           {
            "bin_start": 91.3,
            "bin_end": 98.4,
            "count": 1
           },
           {
            "bin_start": 98.4,
            "bin_end": 105.5,
            "count": 0
           },
           {
            "bin_start": 105.5,
            "bin_end": 112.6,
            "count": 1
           },
           {
            "bin_start": 112.6,
            "bin_end": 119.69999999999999,
            "count": 1
           },
           {
            "bin_start": 119.69999999999999,
            "bin_end": 126.8,
            "count": 1
           },
           {
            "bin_start": 126.8,
            "bin_end": 133.9,
            "count": 1
           },
           {
            "bin_start": 133.9,
            "bin_end": 141,
            "count": 1
           }
          ]
         }
        },
        {
         "name": "Referral Source",
         "dtype": "object",
         "stats": {
          "unique_count": 3,
          "nan_count": 0,
          "categories": [
           {
            "name": "other",
            "count": 5
           },
           {
            "name": "SVI",
            "count": 4
           },
           {
            "name": "SVHC",
            "count": 1
           }
          ]
         }
        },
        {
         "name": "Class",
         "dtype": "int64",
         "stats": {
          "unique_count": 1,
          "nan_count": 0,
          "min": "0",
          "max": "0",
          "histogram": [
           {
            "bin_start": -0.5,
            "bin_end": -0.4,
            "count": 0
           },
           {
            "bin_start": -0.4,
            "bin_end": -0.3,
            "count": 0
           },
           {
            "bin_start": -0.3,
            "bin_end": -0.19999999999999996,
            "count": 0
           },
           {
            "bin_start": -0.19999999999999996,
            "bin_end": -0.09999999999999998,
            "count": 0
           },
           {
            "bin_start": -0.09999999999999998,
            "bin_end": 0,
            "count": 0
           },
           {
            "bin_start": 0,
            "bin_end": 0.10000000000000009,
            "count": 10
           },
           {
            "bin_start": 0.10000000000000009,
            "bin_end": 0.20000000000000007,
            "count": 0
           },
           {
            "bin_start": 0.20000000000000007,
            "bin_end": 0.30000000000000004,
            "count": 0
           },
           {
            "bin_start": 0.30000000000000004,
            "bin_end": 0.4,
            "count": 0
           },
           {
            "bin_start": 0.4,
            "bin_end": 0.5,
            "count": 0
           }
          ]
         }
        },
        {
         "name": "_deepnote_index_column",
         "dtype": "int64"
        }
       ],
       "rows_top": [
        {
         "Age": 41,
         "Sex": "F",
         "On Thyroxine": "f",
         "Query on Thyroxine": "f",
         "On Antithyroid Medication": "f",
         "Sick": "f",
         "Pregnant": "f",
         "Thyroid Surgery": "f",
         "I131 Treatment": "f",
         "Query Hypothyroid": "f",
         "Query Hyperthyroid": "f",
         "Lithium": "f",
         "Goiter": "f",
         "Tumor": "f",
         "Hypopituitary": "f",
         "Psych": "f",
         "TSH Measured": "t",
         "TSH": 1.3,
         "T3 Measured": "t",
         "T3": 2.5,
         "TT4 Measured": "t",
         "TT4": 125,
         "T4U Measured": "t",
         "T4U": 1.14,
         "FTI Measured": "t",
         "FTI": 109,
         "Referral Source": "SVHC",
         "Class": 0,
         "_deepnote_index_column": 0
        },
        {
         "Age": 23,
         "Sex": "F",
         "On Thyroxine": "f",
         "Query on Thyroxine": "f",
         "On Antithyroid Medication": "f",
         "Sick": "f",
         "Pregnant": "f",
         "Thyroid Surgery": "f",
         "I131 Treatment": "f",
         "Query Hypothyroid": "f",
         "Query Hyperthyroid": "f",
         "Lithium": "f",
         "Goiter": "f",
         "Tumor": "f",
         "Hypopituitary": "f",
         "Psych": "f",
         "TSH Measured": "t",
         "TSH": 4.1,
         "T3 Measured": "t",
         "T3": 2,
         "TT4 Measured": "t",
         "TT4": 102,
         "T4U Measured": "f",
         "T4U": "nan",
         "FTI Measured": "f",
         "FTI": "nan",
         "Referral Source": "other",
         "Class": 0,
         "_deepnote_index_column": 1
        },
        {
         "Age": 46,
         "Sex": "M",
         "On Thyroxine": "f",
         "Query on Thyroxine": "f",
         "On Antithyroid Medication": "f",
         "Sick": "f",
         "Pregnant": "f",
         "Thyroid Surgery": "f",
         "I131 Treatment": "f",
         "Query Hypothyroid": "f",
         "Query Hyperthyroid": "f",
         "Lithium": "f",
         "Goiter": "f",
         "Tumor": "f",
         "Hypopituitary": "f",
         "Psych": "f",
         "TSH Measured": "t",
         "TSH": 0.98,
         "T3 Measured": "f",
         "T3": "nan",
         "TT4 Measured": "t",
         "TT4": 109,
         "T4U Measured": "t",
         "T4U": 0.91,
         "FTI Measured": "t",
         "FTI": 120,
         "Referral Source": "other",
         "Class": 0,
         "_deepnote_index_column": 2
        },
        {
         "Age": 70,
         "Sex": "F",
         "On Thyroxine": "t",
         "Query on Thyroxine": "f",
         "On Antithyroid Medication": "f",
         "Sick": "f",
         "Pregnant": "f",
         "Thyroid Surgery": "f",
         "I131 Treatment": "f",
         "Query Hypothyroid": "f",
         "Query Hyperthyroid": "f",
         "Lithium": "f",
         "Goiter": "f",
         "Tumor": "f",
         "Hypopituitary": "f",
         "Psych": "f",
         "TSH Measured": "t",
         "TSH": 0.16,
         "T3 Measured": "t",
         "T3": 1.9,
         "TT4 Measured": "t",
         "TT4": 175,
         "T4U Measured": "f",
         "T4U": "nan",
         "FTI Measured": "f",
         "FTI": "nan",
         "Referral Source": "other",
         "Class": 0,
         "_deepnote_index_column": 3
        },
        {
         "Age": 70,
         "Sex": "F",
         "On Thyroxine": "f",
         "Query on Thyroxine": "f",
         "On Antithyroid Medication": "f",
         "Sick": "f",
         "Pregnant": "f",
         "Thyroid Surgery": "f",
         "I131 Treatment": "f",
         "Query Hypothyroid": "f",
         "Query Hyperthyroid": "f",
         "Lithium": "f",
         "Goiter": "f",
         "Tumor": "f",
         "Hypopituitary": "f",
         "Psych": "f",
         "TSH Measured": "t",
         "TSH": 0.72,
         "T3 Measured": "t",
         "T3": 1.2,
         "TT4 Measured": "t",
         "TT4": 61,
         "T4U Measured": "t",
         "T4U": 0.87,
         "FTI Measured": "t",
         "FTI": 70,
         "Referral Source": "SVI",
         "Class": 0,
         "_deepnote_index_column": 4
        },
        {
         "Age": 18,
         "Sex": "F",
         "On Thyroxine": "t",
         "Query on Thyroxine": "f",
         "On Antithyroid Medication": "f",
         "Sick": "f",
         "Pregnant": "f",
         "Thyroid Surgery": "f",
         "I131 Treatment": "f",
         "Query Hypothyroid": "f",
         "Query Hyperthyroid": "f",
         "Lithium": "f",
         "Goiter": "f",
         "Tumor": "f",
         "Hypopituitary": "f",
         "Psych": "f",
         "TSH Measured": "t",
         "TSH": 0.03,
         "T3 Measured": "f",
         "T3": "nan",
         "TT4 Measured": "t",
         "TT4": 183,
         "T4U Measured": "t",
         "T4U": 1.3,
         "FTI Measured": "t",
         "FTI": 141,
         "Referral Source": "other",
         "Class": 0,
         "_deepnote_index_column": 5
        },
        {
         "Age": 59,
         "Sex": "F",
         "On Thyroxine": "f",
         "Query on Thyroxine": "f",
         "On Antithyroid Medication": "f",
         "Sick": "f",
         "Pregnant": "f",
         "Thyroid Surgery": "f",
         "I131 Treatment": "f",
         "Query Hypothyroid": "f",
         "Query Hyperthyroid": "f",
         "Lithium": "f",
         "Goiter": "f",
         "Tumor": "f",
         "Hypopituitary": "f",
         "Psych": "f",
         "TSH Measured": "f",
         "TSH": "nan",
         "T3 Measured": "f",
         "T3": "nan",
         "TT4 Measured": "t",
         "TT4": 72,
         "T4U Measured": "t",
         "T4U": 0.92,
         "FTI Measured": "t",
         "FTI": 78,
         "Referral Source": "other",
         "Class": 0,
         "_deepnote_index_column": 6
        },
        {
         "Age": 80,
         "Sex": "F",
         "On Thyroxine": "f",
         "Query on Thyroxine": "f",
         "On Antithyroid Medication": "f",
         "Sick": "f",
         "Pregnant": "f",
         "Thyroid Surgery": "f",
         "I131 Treatment": "f",
         "Query Hypothyroid": "f",
         "Query Hyperthyroid": "f",
         "Lithium": "f",
         "Goiter": "f",
         "Tumor": "f",
         "Hypopituitary": "f",
         "Psych": "f",
         "TSH Measured": "t",
         "TSH": 2.2,
         "T3 Measured": "t",
         "T3": 0.6,
         "TT4 Measured": "t",
         "TT4": 80,
         "T4U Measured": "t",
         "T4U": 0.7,
         "FTI Measured": "t",
         "FTI": 115,
         "Referral Source": "SVI",
         "Class": 0,
         "_deepnote_index_column": 7
        },
        {
         "Age": 66,
         "Sex": "F",
         "On Thyroxine": "f",
         "Query on Thyroxine": "f",
         "On Antithyroid Medication": "f",
         "Sick": "f",
         "Pregnant": "f",
         "Thyroid Surgery": "f",
         "I131 Treatment": "f",
         "Query Hypothyroid": "f",
         "Query Hyperthyroid": "f",
         "Lithium": "f",
         "Goiter": "f",
         "Tumor": "t",
         "Hypopituitary": "f",
         "Psych": "f",
         "TSH Measured": "t",
         "TSH": 0.6,
         "T3 Measured": "t",
         "T3": 2.2,
         "TT4 Measured": "t",
         "TT4": 123,
         "T4U Measured": "t",
         "T4U": 0.93,
         "FTI Measured": "t",
         "FTI": 132,
         "Referral Source": "SVI",
         "Class": 0,
         "_deepnote_index_column": 8
        },
        {
         "Age": 68,
         "Sex": "M",
         "On Thyroxine": "f",
         "Query on Thyroxine": "f",
         "On Antithyroid Medication": "f",
         "Sick": "f",
         "Pregnant": "f",
         "Thyroid Surgery": "f",
         "I131 Treatment": "f",
         "Query Hypothyroid": "f",
         "Query Hyperthyroid": "f",
         "Lithium": "f",
         "Goiter": "f",
         "Tumor": "f",
         "Hypopituitary": "f",
         "Psych": "f",
         "TSH Measured": "t",
         "TSH": 2.4,
         "T3 Measured": "t",
         "T3": 1.6,
         "TT4 Measured": "t",
         "TT4": 83,
         "T4U Measured": "t",
         "T4U": 0.89,
         "FTI Measured": "t",
         "FTI": 93,
         "Referral Source": "SVI",
         "Class": 0,
         "_deepnote_index_column": 9
        }
       ],
       "rows_bottom": null
      },
      "text/plain": "    Age Sex On Thyroxine Query on Thyroxine On Antithyroid Medication Sick  \\\n0  41.0   F            f                  f                         f    f   \n1  23.0   F            f                  f                         f    f   \n2  46.0   M            f                  f                         f    f   \n3  70.0   F            t                  f                         f    f   \n4  70.0   F            f                  f                         f    f   \n5  18.0   F            t                  f                         f    f   \n6  59.0   F            f                  f                         f    f   \n7  80.0   F            f                  f                         f    f   \n8  66.0   F            f                  f                         f    f   \n9  68.0   M            f                  f                         f    f   \n\n  Pregnant Thyroid Surgery I131 Treatment Query Hypothyroid  ... T3 Measured  \\\n0        f               f              f                 f  ...           t   \n1        f               f              f                 f  ...           t   \n2        f               f              f                 f  ...           f   \n3        f               f              f                 f  ...           t   \n4        f               f              f                 f  ...           t   \n5        f               f              f                 f  ...           f   \n6        f               f              f                 f  ...           f   \n7        f               f              f                 f  ...           t   \n8        f               f              f                 f  ...           t   \n9        f               f              f                 f  ...           t   \n\n    T3 TT4 Measured    TT4 T4U Measured   T4U FTI Measured    FTI  \\\n0  2.5            t  125.0            t  1.14            t  109.0   \n1  2.0            t  102.0            f   NaN            f    NaN   \n2  NaN            t  109.0            t  0.91            t  120.0   \n3  1.9            t  175.0            f   NaN            f    NaN   \n4  1.2            t   61.0            t  0.87            t   70.0   \n5  NaN            t  183.0            t  1.30            t  141.0   \n6  NaN            t   72.0            t  0.92            t   78.0   \n7  0.6            t   80.0            t  0.70            t  115.0   \n8  2.2            t  123.0            t  0.93            t  132.0   \n9  1.6            t   83.0            t  0.89            t   93.0   \n\n  Referral Source  Class  \n0            SVHC      0  \n1           other      0  \n2           other      0  \n3           other      0  \n4             SVI      0  \n5           other      0  \n6           other      0  \n7             SVI      0  \n8             SVI      0  \n9             SVI      0  \n\n[10 rows x 28 columns]",
      "text/html": "<div>\n<style scoped>\n    .dataframe tbody tr th:only-of-type {\n        vertical-align: middle;\n    }\n\n    .dataframe tbody tr th {\n        vertical-align: top;\n    }\n\n    .dataframe thead th {\n        text-align: right;\n    }\n</style>\n<table border=\"1\" class=\"dataframe\">\n  <thead>\n    <tr style=\"text-align: right;\">\n      <th></th>\n      <th>Age</th>\n      <th>Sex</th>\n      <th>On Thyroxine</th>\n      <th>Query on Thyroxine</th>\n      <th>On Antithyroid Medication</th>\n      <th>Sick</th>\n      <th>Pregnant</th>\n      <th>Thyroid Surgery</th>\n      <th>I131 Treatment</th>\n      <th>Query Hypothyroid</th>\n      <th>...</th>\n      <th>T3 Measured</th>\n      <th>T3</th>\n      <th>TT4 Measured</th>\n      <th>TT4</th>\n      <th>T4U Measured</th>\n      <th>T4U</th>\n      <th>FTI Measured</th>\n      <th>FTI</th>\n      <th>Referral Source</th>\n      <th>Class</th>\n    </tr>\n  </thead>\n  <tbody>\n    <tr>\n      <th>0</th>\n      <td>41.0</td>\n      <td>F</td>\n      <td>f</td>\n      <td>f</td>\n      <td>f</td>\n      <td>f</td>\n      <td>f</td>\n      <td>f</td>\n      <td>f</td>\n      <td>f</td>\n      <td>...</td>\n      <td>t</td>\n      <td>2.5</td>\n      <td>t</td>\n      <td>125.0</td>\n      <td>t</td>\n      <td>1.14</td>\n      <td>t</td>\n      <td>109.0</td>\n      <td>SVHC</td>\n      <td>0</td>\n    </tr>\n    <tr>\n      <th>1</th>\n      <td>23.0</td>\n      <td>F</td>\n      <td>f</td>\n      <td>f</td>\n      <td>f</td>\n      <td>f</td>\n      <td>f</td>\n      <td>f</td>\n      <td>f</td>\n      <td>f</td>\n      <td>...</td>\n      <td>t</td>\n      <td>2.0</td>\n      <td>t</td>\n      <td>102.0</td>\n      <td>f</td>\n      <td>NaN</td>\n      <td>f</td>\n      <td>NaN</td>\n      <td>other</td>\n      <td>0</td>\n    </tr>\n    <tr>\n      <th>2</th>\n      <td>46.0</td>\n      <td>M</td>\n      <td>f</td>\n      <td>f</td>\n      <td>f</td>\n      <td>f</td>\n      <td>f</td>\n      <td>f</td>\n      <td>f</td>\n      <td>f</td>\n      <td>...</td>\n      <td>f</td>\n      <td>NaN</td>\n      <td>t</td>\n      <td>109.0</td>\n      <td>t</td>\n      <td>0.91</td>\n      <td>t</td>\n      <td>120.0</td>\n      <td>other</td>\n      <td>0</td>\n    </tr>\n    <tr>\n      <th>3</th>\n      <td>70.0</td>\n      <td>F</td>\n      <td>t</td>\n      <td>f</td>\n      <td>f</td>\n      <td>f</td>\n      <td>f</td>\n      <td>f</td>\n      <td>f</td>\n      <td>f</td>\n      <td>...</td>\n      <td>t</td>\n      <td>1.9</td>\n      <td>t</td>\n      <td>175.0</td>\n      <td>f</td>\n      <td>NaN</td>\n      <td>f</td>\n      <td>NaN</td>\n      <td>other</td>\n      <td>0</td>\n    </tr>\n    <tr>\n      <th>4</th>\n      <td>70.0</td>\n      <td>F</td>\n      <td>f</td>\n      <td>f</td>\n      <td>f</td>\n      <td>f</td>\n      <td>f</td>\n      <td>f</td>\n      <td>f</td>\n      <td>f</td>\n      <td>...</td>\n      <td>t</td>\n      <td>1.2</td>\n      <td>t</td>\n      <td>61.0</td>\n      <td>t</td>\n      <td>0.87</td>\n      <td>t</td>\n      <td>70.0</td>\n      <td>SVI</td>\n      <td>0</td>\n    </tr>\n    <tr>\n      <th>5</th>\n      <td>18.0</td>\n      <td>F</td>\n      <td>t</td>\n      <td>f</td>\n      <td>f</td>\n      <td>f</td>\n      <td>f</td>\n      <td>f</td>\n      <td>f</td>\n      <td>f</td>\n      <td>...</td>\n      <td>f</td>\n      <td>NaN</td>\n      <td>t</td>\n      <td>183.0</td>\n      <td>t</td>\n      <td>1.30</td>\n      <td>t</td>\n      <td>141.0</td>\n      <td>other</td>\n      <td>0</td>\n    </tr>\n    <tr>\n      <th>6</th>\n      <td>59.0</td>\n      <td>F</td>\n      <td>f</td>\n      <td>f</td>\n      <td>f</td>\n      <td>f</td>\n      <td>f</td>\n      <td>f</td>\n      <td>f</td>\n      <td>f</td>\n      <td>...</td>\n      <td>f</td>\n      <td>NaN</td>\n      <td>t</td>\n      <td>72.0</td>\n      <td>t</td>\n      <td>0.92</td>\n      <td>t</td>\n      <td>78.0</td>\n      <td>other</td>\n      <td>0</td>\n    </tr>\n    <tr>\n      <th>7</th>\n      <td>80.0</td>\n      <td>F</td>\n      <td>f</td>\n      <td>f</td>\n      <td>f</td>\n      <td>f</td>\n      <td>f</td>\n      <td>f</td>\n      <td>f</td>\n      <td>f</td>\n      <td>...</td>\n      <td>t</td>\n      <td>0.6</td>\n      <td>t</td>\n      <td>80.0</td>\n      <td>t</td>\n      <td>0.70</td>\n      <td>t</td>\n      <td>115.0</td>\n      <td>SVI</td>\n      <td>0</td>\n    </tr>\n    <tr>\n      <th>8</th>\n      <td>66.0</td>\n      <td>F</td>\n      <td>f</td>\n      <td>f</td>\n      <td>f</td>\n      <td>f</td>\n      <td>f</td>\n      <td>f</td>\n      <td>f</td>\n      <td>f</td>\n      <td>...</td>\n      <td>t</td>\n      <td>2.2</td>\n      <td>t</td>\n      <td>123.0</td>\n      <td>t</td>\n      <td>0.93</td>\n      <td>t</td>\n      <td>132.0</td>\n      <td>SVI</td>\n      <td>0</td>\n    </tr>\n    <tr>\n      <th>9</th>\n      <td>68.0</td>\n      <td>M</td>\n      <td>f</td>\n      <td>f</td>\n      <td>f</td>\n      <td>f</td>\n      <td>f</td>\n      <td>f</td>\n      <td>f</td>\n      <td>f</td>\n      <td>...</td>\n      <td>t</td>\n      <td>1.6</td>\n      <td>t</td>\n      <td>83.0</td>\n      <td>t</td>\n      <td>0.89</td>\n      <td>t</td>\n      <td>93.0</td>\n      <td>SVI</td>\n      <td>0</td>\n    </tr>\n  </tbody>\n</table>\n<p>10 rows × 28 columns</p>\n</div>"
     },
     "metadata": {}
    }
   ]
  },
  {
   "cell_type": "markdown",
   "source": "Great! Let's see if there's any other records we have to address. count() is a nice way to check if we have any other missing values.",
   "metadata": {
    "colab_type": "text",
    "id": "Jo9aRzltCOK8",
    "cell_id": "00023-fa38ba71-37cd-43fa-857f-45f91f72a1fa",
    "deepnote_cell_type": "markdown"
   }
  },
  {
   "cell_type": "code",
   "metadata": {
    "colab": {
     "autoexec": {
      "startup": false,
      "wait_interval": 0
     }
    },
    "colab_type": "code",
    "id": "Q1yGe8nrzozW",
    "cell_id": "00024-82603a45-49e9-4f9c-97ee-58ca9efe1fe8",
    "deepnote_to_be_reexecuted": false,
    "source_hash": "5b370030",
    "execution_start": 1625755683590,
    "execution_millis": 19,
    "deepnote_cell_type": "code"
   },
   "source": "dataset.count()",
   "execution_count": 28,
   "outputs": [
    {
     "output_type": "execute_result",
     "execution_count": 28,
     "data": {
      "text/plain": "Age                          2799\nSex                          2690\nOn Thyroxine                 2800\nQuery on Thyroxine           2800\nOn Antithyroid Medication    2800\nSick                         2800\nPregnant                     2800\nThyroid Surgery              2800\nI131 Treatment               2800\nQuery Hypothyroid            2800\nQuery Hyperthyroid           2800\nLithium                      2800\nGoiter                       2800\nTumor                        2800\nHypopituitary                2800\nPsych                        2800\nTSH Measured                 2800\nTSH                          2516\nT3 Measured                  2800\nT3                           2215\nTT4 Measured                 2800\nTT4                          2616\nT4U Measured                 2800\nT4U                          2503\nFTI Measured                 2800\nFTI                          2505\nReferral Source              2800\nClass                        2800\ndtype: int64"
     },
     "metadata": {}
    }
   ]
  },
  {
   "cell_type": "markdown",
   "source": "There seems to be quite a few rows with missing data.  There are techniques you can use to try to handle this situation (and some models in sklearn can handle NaN values without problem).  But let's just remove those rows for now.",
   "metadata": {
    "colab_type": "text",
    "id": "-Y9DDq8qCeL8",
    "cell_id": "00025-f153e06d-ef82-43a8-aacc-38252c2e88f3",
    "deepnote_cell_type": "markdown"
   }
  },
  {
   "cell_type": "code",
   "metadata": {
    "colab": {
     "autoexec": {
      "startup": false,
      "wait_interval": 0
     }
    },
    "colab_type": "code",
    "id": "1E6qS7F5zyt3",
    "cell_id": "00026-1b2b4421-7846-4e58-8d73-f559fba06e54",
    "deepnote_to_be_reexecuted": false,
    "source_hash": "74988c76",
    "execution_start": 1625755685550,
    "execution_millis": 22,
    "deepnote_cell_type": "code"
   },
   "source": "dataset = dataset.dropna(axis='rows')\ndataset.count()",
   "execution_count": 29,
   "outputs": [
    {
     "output_type": "execute_result",
     "execution_count": 29,
     "data": {
      "text/plain": "Age                          1947\nSex                          1947\nOn Thyroxine                 1947\nQuery on Thyroxine           1947\nOn Antithyroid Medication    1947\nSick                         1947\nPregnant                     1947\nThyroid Surgery              1947\nI131 Treatment               1947\nQuery Hypothyroid            1947\nQuery Hyperthyroid           1947\nLithium                      1947\nGoiter                       1947\nTumor                        1947\nHypopituitary                1947\nPsych                        1947\nTSH Measured                 1947\nTSH                          1947\nT3 Measured                  1947\nT3                           1947\nTT4 Measured                 1947\nTT4                          1947\nT4U Measured                 1947\nT4U                          1947\nFTI Measured                 1947\nFTI                          1947\nReferral Source              1947\nClass                        1947\ndtype: int64"
     },
     "metadata": {}
    }
   ]
  },
  {
   "cell_type": "markdown",
   "source": "Ooof!  We just cut out about 30% of our data set!  You probably won't want to throw out this data for your project, but let's keep going now that we have a clean dataset and do some further data analysis and visualization to better understand what we're working with.",
   "metadata": {
    "colab_type": "text",
    "id": "eTcS25EHF4vL",
    "cell_id": "00027-104be215-c02f-4133-a853-f780468ce6e1",
    "deepnote_cell_type": "markdown"
   }
  },
  {
   "cell_type": "markdown",
   "source": "## Data analysis and visualization",
   "metadata": {
    "colab_type": "text",
    "id": "SsiaTCjQql3S",
    "cell_id": "00028-73aa022e-e41c-4584-88a3-f1750095a32c",
    "deepnote_cell_type": "markdown"
   }
  },
  {
   "cell_type": "markdown",
   "source": "As the name suggests, [pandas.corr()](https://pandas.pydata.org/pandas-docs/stable/generated/pandas.DataFrame.corr.html) will compute pairwise correlation of (numerical) columns, excluding NA/null values. Notice that in this case, since we've converted 'class' to a number (0 or 1) we can see how correlated different features are with the class label!",
   "metadata": {
    "colab_type": "text",
    "id": "huFOG2Mw3OqJ",
    "cell_id": "00029-c4aafa8f-989c-4251-8f77-825250abf5b0",
    "deepnote_cell_type": "markdown"
   }
  },
  {
   "cell_type": "code",
   "metadata": {
    "colab": {
     "autoexec": {
      "startup": false,
      "wait_interval": 0
     }
    },
    "colab_type": "code",
    "id": "fXrXSMW_GSeT",
    "cell_id": "00030-09550728-1ce7-4558-8dd9-26272792bdd8",
    "deepnote_to_be_reexecuted": false,
    "source_hash": "1cf5e53b",
    "execution_start": 1625755688136,
    "execution_millis": 25,
    "deepnote_cell_type": "code"
   },
   "source": "dataset.corr()",
   "execution_count": 30,
   "outputs": [
    {
     "output_type": "execute_result",
     "execution_count": 30,
     "data": {
      "application/vnd.deepnote.dataframe.v2+json": {
       "row_count": 7,
       "column_count": 7,
       "columns": [
        {
         "name": "Age",
         "dtype": "float64",
         "stats": {
          "unique_count": 7,
          "nan_count": 0,
          "min": "-0.25572074697851765",
          "max": "1.0",
          "histogram": [
           {
            "bin_start": -0.25572074697851765,
            "bin_end": -0.1301486722806659,
            "count": 2
           },
           {
            "bin_start": -0.1301486722806659,
            "bin_end": -0.004576597582814146,
            "count": 2
           },
           {
            "bin_start": -0.004576597582814146,
            "bin_end": 0.12099547711503761,
            "count": 2
           },
           {
            "bin_start": 0.12099547711503761,
            "bin_end": 0.24656755181288936,
            "count": 0
           },
           {
            "bin_start": 0.24656755181288936,
            "bin_end": 0.37213962651074106,
            "count": 0
           },
           {
            "bin_start": 0.37213962651074106,
            "bin_end": 0.49771170120859287,
            "count": 0
           },
           {
            "bin_start": 0.49771170120859287,
            "bin_end": 0.6232837759064447,
            "count": 0
           },
           {
            "bin_start": 0.6232837759064447,
            "bin_end": 0.7488558506042964,
            "count": 0
           },
           {
            "bin_start": 0.7488558506042964,
            "bin_end": 0.8744279253021481,
            "count": 0
           },
           {
            "bin_start": 0.8744279253021481,
            "bin_end": 1,
            "count": 1
           }
          ]
         }
        },
        {
         "name": "TSH",
         "dtype": "float64",
         "stats": {
          "unique_count": 7,
          "nan_count": 0,
          "min": "-0.3310626496045458",
          "max": "1.0",
          "histogram": [
           {
            "bin_start": -0.3310626496045458,
            "bin_end": -0.1979563846440912,
            "count": 2
           },
           {
            "bin_start": -0.1979563846440912,
            "bin_end": -0.06485011968363663,
            "count": 1
           },
           {
            "bin_start": -0.06485011968363663,
            "bin_end": 0.06825614527681795,
            "count": 2
           },
           {
            "bin_start": 0.06825614527681795,
            "bin_end": 0.20136241023727253,
            "count": 0
           },
           {
            "bin_start": 0.20136241023727253,
            "bin_end": 0.33446867519772716,
            "count": 0
           },
           {
            "bin_start": 0.33446867519772716,
            "bin_end": 0.4675749401581817,
            "count": 0
           },
           {
            "bin_start": 0.4675749401581817,
            "bin_end": 0.6006812051186362,
            "count": 1
           },
           {
            "bin_start": 0.6006812051186362,
            "bin_end": 0.7337874700790908,
            "count": 0
           },
           {
            "bin_start": 0.7337874700790908,
            "bin_end": 0.8668937350395455,
            "count": 0
           },
           {
            "bin_start": 0.8668937350395455,
            "bin_end": 1,
            "count": 1
           }
          ]
         }
        },
        {
         "name": "T3",
         "dtype": "float64",
         "stats": {
          "unique_count": 7,
          "nan_count": 0,
          "min": "-0.25572074697851765",
          "max": "1.0",
          "histogram": [
           {
            "bin_start": -0.25572074697851765,
            "bin_end": -0.1301486722806659,
            "count": 3
           },
           {
            "bin_start": -0.1301486722806659,
            "bin_end": -0.004576597582814146,
            "count": 0
           },
           {
            "bin_start": -0.004576597582814146,
            "bin_end": 0.12099547711503761,
            "count": 0
           },
           {
            "bin_start": 0.12099547711503761,
            "bin_end": 0.24656755181288936,
            "count": 0
           },
           {
            "bin_start": 0.24656755181288936,
            "bin_end": 0.37213962651074106,
            "count": 1
           },
           {
            "bin_start": 0.37213962651074106,
            "bin_end": 0.49771170120859287,
            "count": 1
           },
           {
            "bin_start": 0.49771170120859287,
            "bin_end": 0.6232837759064447,
            "count": 1
           },
           {
            "bin_start": 0.6232837759064447,
            "bin_end": 0.7488558506042964,
            "count": 0
           },
           {
            "bin_start": 0.7488558506042964,
            "bin_end": 0.8744279253021481,
            "count": 0
           },
           {
            "bin_start": 0.8744279253021481,
            "bin_end": 1,
            "count": 1
           }
          ]
         }
        },
        {
         "name": "TT4",
         "dtype": "float64",
         "stats": {
          "unique_count": 7,
          "nan_count": 0,
          "min": "-0.28860014663883643",
          "max": "1.0",
          "histogram": [
           {
            "bin_start": -0.28860014663883643,
            "bin_end": -0.1597401319749528,
            "count": 2
           },
           {
            "bin_start": -0.1597401319749528,
            "bin_end": -0.030880117311069155,
            "count": 1
           },
           {
            "bin_start": -0.030880117311069155,
            "bin_end": 0.09797989735281448,
            "count": 0
           },
           {
            "bin_start": 0.09797989735281448,
            "bin_end": 0.22683991201669812,
            "count": 0
           },
           {
            "bin_start": 0.22683991201669812,
            "bin_end": 0.35569992668058176,
            "count": 0
           },
           {
            "bin_start": 0.35569992668058176,
            "bin_end": 0.4845599413444654,
            "count": 1
           },
           {
            "bin_start": 0.4845599413444654,
            "bin_end": 0.6134199560083491,
            "count": 1
           },
           {
            "bin_start": 0.6134199560083491,
            "bin_end": 0.7422799706722327,
            "count": 0
           },
           {
            "bin_start": 0.7422799706722327,
            "bin_end": 0.8711399853361164,
            "count": 1
           },
           {
            "bin_start": 0.8711399853361164,
            "bin_end": 1,
            "count": 1
           }
          ]
         }
        },
        {
         "name": "T4U",
         "dtype": "float64",
         "stats": {
          "unique_count": 7,
          "nan_count": 0,
          "min": "-0.1708048867769871",
          "max": "1.0",
          "histogram": [
           {
            "bin_start": -0.1708048867769871,
            "bin_end": -0.05372439809928839,
            "count": 2
           },
           {
            "bin_start": -0.05372439809928839,
            "bin_end": 0.06335609057841032,
            "count": 2
           },
           {
            "bin_start": 0.06335609057841032,
            "bin_end": 0.18043657925610904,
            "count": 0
           },
           {
            "bin_start": 0.18043657925610904,
            "bin_end": 0.2975170679338077,
            "count": 0
           },
           {
            "bin_start": 0.2975170679338077,
            "bin_end": 0.41459755661150643,
            "count": 0
           },
           {
            "bin_start": 0.41459755661150643,
            "bin_end": 0.5316780452892051,
            "count": 2
           },
           {
            "bin_start": 0.5316780452892051,
            "bin_end": 0.6487585339669039,
            "count": 0
           },
           {
            "bin_start": 0.6487585339669039,
            "bin_end": 0.7658390226446026,
            "count": 0
           },
           {
            "bin_start": 0.7658390226446026,
            "bin_end": 0.8829195113223014,
            "count": 0
           },
           {
            "bin_start": 0.8829195113223014,
            "bin_end": 1,
            "count": 1
           }
          ]
         }
        },
        {
         "name": "FTI",
         "dtype": "float64",
         "stats": {
          "unique_count": 7,
          "nan_count": 0,
          "min": "-0.3310626496045458",
          "max": "1.0",
          "histogram": [
           {
            "bin_start": -0.3310626496045458,
            "bin_end": -0.1979563846440912,
            "count": 2
           },
           {
            "bin_start": -0.1979563846440912,
            "bin_end": -0.06485011968363663,
            "count": 1
           },
           {
            "bin_start": -0.06485011968363663,
            "bin_end": 0.06825614527681795,
            "count": 1
           },
           {
            "bin_start": 0.06825614527681795,
            "bin_end": 0.20136241023727253,
            "count": 0
           },
           {
            "bin_start": 0.20136241023727253,
            "bin_end": 0.33446867519772716,
            "count": 0
           },
           {
            "bin_start": 0.33446867519772716,
            "bin_end": 0.4675749401581817,
            "count": 1
           },
           {
            "bin_start": 0.4675749401581817,
            "bin_end": 0.6006812051186362,
            "count": 0
           },
           {
            "bin_start": 0.6006812051186362,
            "bin_end": 0.7337874700790908,
            "count": 0
           },
           {
            "bin_start": 0.7337874700790908,
            "bin_end": 0.8668937350395455,
            "count": 1
           },
           {
            "bin_start": 0.8668937350395455,
            "bin_end": 1,
            "count": 1
           }
          ]
         }
        },
        {
         "name": "Class",
         "dtype": "float64",
         "stats": {
          "unique_count": 7,
          "nan_count": 0,
          "min": "-0.32363124304261776",
          "max": "1.0",
          "histogram": [
           {
            "bin_start": -0.32363124304261776,
            "bin_end": -0.19126811873835597,
            "count": 2
           },
           {
            "bin_start": -0.19126811873835597,
            "bin_end": -0.05890499443409419,
            "count": 1
           },
           {
            "bin_start": -0.05890499443409419,
            "bin_end": 0.07345812987016759,
            "count": 2
           },
           {
            "bin_start": 0.07345812987016759,
            "bin_end": 0.20582125417442937,
            "count": 0
           },
           {
            "bin_start": 0.20582125417442937,
            "bin_end": 0.33818437847869115,
            "count": 0
           },
           {
            "bin_start": 0.33818437847869115,
            "bin_end": 0.47054750278295293,
            "count": 0
           },
           {
            "bin_start": 0.47054750278295293,
            "bin_end": 0.6029106270872147,
            "count": 1
           },
           {
            "bin_start": 0.6029106270872147,
            "bin_end": 0.7352737513914764,
            "count": 0
           },
           {
            "bin_start": 0.7352737513914764,
            "bin_end": 0.8676368756957382,
            "count": 0
           },
           {
            "bin_start": 0.8676368756957382,
            "bin_end": 1,
            "count": 1
           }
          ]
         }
        },
        {
         "name": "_deepnote_index_column",
         "dtype": "object"
        }
       ],
       "rows_top": [
        {
         "Age": 1,
         "TSH": -0.030174068158791298,
         "T3": -0.25572074697851765,
         "TT4": -0.07453785743565883,
         "T4U": -0.16972405789139372,
         "FTI": 0.03036752640276961,
         "Class": -0.002796353260216625,
         "_deepnote_index_column": "Age"
        },
        {
         "Age": -0.030174068158791298,
         "TSH": 1,
         "T3": -0.1804253890360963,
         "TT4": -0.2882727964310796,
         "T4U": 0.05591222188271482,
         "FTI": -0.3310626496045458,
         "Class": 0.4706577612969161,
         "_deepnote_index_column": "TSH"
        },
        {
         "Age": -0.25572074697851765,
         "TSH": -0.1804253890360963,
         "T3": 1,
         "TT4": 0.5818297900755279,
         "T4U": 0.46567341715264354,
         "FTI": 0.3468733396328939,
         "Class": -0.18311471605283272,
         "_deepnote_index_column": "T3"
        },
        {
         "Age": -0.07453785743565883,
         "TSH": -0.2882727964310796,
         "T3": 0.5818297900755279,
         "TT4": 1,
         "T4U": 0.45052749733748093,
         "FTI": 0.7863263258450267,
         "Class": -0.28860014663883643,
         "_deepnote_index_column": "TT4"
        },
        {
         "Age": -0.16972405789139372,
         "TSH": 0.05591222188271482,
         "T3": 0.46567341715264354,
         "TT4": 0.45052749733748093,
         "T4U": 1,
         "FTI": -0.1708048867769871,
         "Class": 0.020148855986663765,
         "_deepnote_index_column": "T4U"
        },
        {
         "Age": 0.03036752640276961,
         "TSH": -0.3310626496045458,
         "T3": 0.3468733396328939,
         "TT4": 0.7863263258450267,
         "T4U": -0.1708048867769871,
         "FTI": 1,
         "Class": -0.32363124304261776,
         "_deepnote_index_column": "FTI"
        },
        {
         "Age": -0.002796353260216625,
         "TSH": 0.4706577612969161,
         "T3": -0.18311471605283272,
         "TT4": -0.28860014663883643,
         "T4U": 0.020148855986663765,
         "FTI": -0.32363124304261776,
         "Class": 1,
         "_deepnote_index_column": "Class"
        }
       ],
       "rows_bottom": null
      },
      "text/plain": "            Age       TSH        T3       TT4       T4U       FTI     Class\nAge    1.000000 -0.030174 -0.255721 -0.074538 -0.169724  0.030368 -0.002796\nTSH   -0.030174  1.000000 -0.180425 -0.288273  0.055912 -0.331063  0.470658\nT3    -0.255721 -0.180425  1.000000  0.581830  0.465673  0.346873 -0.183115\nTT4   -0.074538 -0.288273  0.581830  1.000000  0.450527  0.786326 -0.288600\nT4U   -0.169724  0.055912  0.465673  0.450527  1.000000 -0.170805  0.020149\nFTI    0.030368 -0.331063  0.346873  0.786326 -0.170805  1.000000 -0.323631\nClass -0.002796  0.470658 -0.183115 -0.288600  0.020149 -0.323631  1.000000",
      "text/html": "<div>\n<style scoped>\n    .dataframe tbody tr th:only-of-type {\n        vertical-align: middle;\n    }\n\n    .dataframe tbody tr th {\n        vertical-align: top;\n    }\n\n    .dataframe thead th {\n        text-align: right;\n    }\n</style>\n<table border=\"1\" class=\"dataframe\">\n  <thead>\n    <tr style=\"text-align: right;\">\n      <th></th>\n      <th>Age</th>\n      <th>TSH</th>\n      <th>T3</th>\n      <th>TT4</th>\n      <th>T4U</th>\n      <th>FTI</th>\n      <th>Class</th>\n    </tr>\n  </thead>\n  <tbody>\n    <tr>\n      <th>Age</th>\n      <td>1.000000</td>\n      <td>-0.030174</td>\n      <td>-0.255721</td>\n      <td>-0.074538</td>\n      <td>-0.169724</td>\n      <td>0.030368</td>\n      <td>-0.002796</td>\n    </tr>\n    <tr>\n      <th>TSH</th>\n      <td>-0.030174</td>\n      <td>1.000000</td>\n      <td>-0.180425</td>\n      <td>-0.288273</td>\n      <td>0.055912</td>\n      <td>-0.331063</td>\n      <td>0.470658</td>\n    </tr>\n    <tr>\n      <th>T3</th>\n      <td>-0.255721</td>\n      <td>-0.180425</td>\n      <td>1.000000</td>\n      <td>0.581830</td>\n      <td>0.465673</td>\n      <td>0.346873</td>\n      <td>-0.183115</td>\n    </tr>\n    <tr>\n      <th>TT4</th>\n      <td>-0.074538</td>\n      <td>-0.288273</td>\n      <td>0.581830</td>\n      <td>1.000000</td>\n      <td>0.450527</td>\n      <td>0.786326</td>\n      <td>-0.288600</td>\n    </tr>\n    <tr>\n      <th>T4U</th>\n      <td>-0.169724</td>\n      <td>0.055912</td>\n      <td>0.465673</td>\n      <td>0.450527</td>\n      <td>1.000000</td>\n      <td>-0.170805</td>\n      <td>0.020149</td>\n    </tr>\n    <tr>\n      <th>FTI</th>\n      <td>0.030368</td>\n      <td>-0.331063</td>\n      <td>0.346873</td>\n      <td>0.786326</td>\n      <td>-0.170805</td>\n      <td>1.000000</td>\n      <td>-0.323631</td>\n    </tr>\n    <tr>\n      <th>Class</th>\n      <td>-0.002796</td>\n      <td>0.470658</td>\n      <td>-0.183115</td>\n      <td>-0.288600</td>\n      <td>0.020149</td>\n      <td>-0.323631</td>\n      <td>1.000000</td>\n    </tr>\n  </tbody>\n</table>\n</div>"
     },
     "metadata": {}
    }
   ]
  },
  {
   "cell_type": "markdown",
   "source": "Let's do some further visual analysis using a new module called seaborn. Explore its incredible versatility and diversity with data visualization here: https://seaborn.pydata.org/",
   "metadata": {
    "colab_type": "text",
    "id": "tp4yO5kUGd3L",
    "cell_id": "00031-cbf093f8-8cb3-4ef8-9116-038515851ada",
    "deepnote_cell_type": "markdown"
   }
  },
  {
   "cell_type": "code",
   "metadata": {
    "colab": {
     "autoexec": {
      "startup": false,
      "wait_interval": 0
     }
    },
    "colab_type": "code",
    "id": "JzkaBa64aXzb",
    "cell_id": "00032-95f46920-3563-4e47-90f1-989ef94aec07",
    "deepnote_to_be_reexecuted": false,
    "source_hash": "5f844cd5",
    "execution_start": 1625755690364,
    "execution_millis": 18113,
    "deepnote_cell_type": "code"
   },
   "source": "import seaborn as sns\nsns.pairplot(dataset)",
   "execution_count": 31,
   "outputs": [
    {
     "output_type": "execute_result",
     "execution_count": 31,
     "data": {
      "text/plain": "<seaborn.axisgrid.PairGrid at 0x7f92ef1259d0>"
     },
     "metadata": {}
    },
    {
     "data": {
      "text/plain": "<Figure size 1260x1260 with 56 Axes>",
      "image/png": "[encoded data removed]"
     },
     "metadata": {
      "needs_background": "light",
      "image/png": {
       "width": 1242,
       "height": 1239
      }
     },
     "output_type": "display_data"
    }
   ]
  },
  {
   "cell_type": "markdown",
   "source": "OK! I think we're ready to create and select some supervised learning models. To get the ball rolling, select Age and Sex as our explanatory features (and class as the target feature, obviously).",
   "metadata": {
    "colab_type": "text",
    "id": "mvW7_0aWFSEm",
    "cell_id": "00033-9610cdf6-4c62-4243-a124-3139b0d62484",
    "deepnote_cell_type": "markdown"
   }
  },
  {
   "cell_type": "code",
   "metadata": {
    "cell_id": "00034-e5936f41-5555-4381-bc28-c2345801724f",
    "deepnote_to_be_reexecuted": false,
    "source_hash": "674a2a6",
    "execution_start": 1625755712003,
    "execution_millis": 71,
    "deepnote_cell_type": "code"
   },
   "source": "dataset.describe()",
   "execution_count": 32,
   "outputs": [
    {
     "output_type": "execute_result",
     "execution_count": 32,
     "data": {
      "application/vnd.deepnote.dataframe.v2+json": {
       "row_count": 8,
       "column_count": 7,
       "columns": [
        {
         "name": "Age",
         "dtype": "float64",
         "stats": {
          "unique_count": 8,
          "nan_count": 0,
          "min": "1.0",
          "max": "1947.0",
          "histogram": [
           {
            "bin_start": 1,
            "bin_end": 195.6,
            "count": 6
           },
           {
            "bin_start": 195.6,
            "bin_end": 390.2,
            "count": 0
           },
           {
            "bin_start": 390.2,
            "bin_end": 584.8,
            "count": 1
           },
           {
            "bin_start": 584.8,
            "bin_end": 779.4,
            "count": 0
           },
           {
            "bin_start": 779.4,
            "bin_end": 974,
            "count": 0
           },
           {
            "bin_start": 974,
            "bin_end": 1168.6,
            "count": 0
           },
           {
            "bin_start": 1168.6,
            "bin_end": 1363.2,
            "count": 0
           },
           {
            "bin_start": 1363.2,
            "bin_end": 1557.8,
            "count": 0
           },
           {
            "bin_start": 1557.8,
            "bin_end": 1752.3999999999999,
            "count": 0
           },
           {
            "bin_start": 1752.3999999999999,
            "bin_end": 1947,
            "count": 1
           }
          ]
         }
        },
        {
         "name": "TSH",
         "dtype": "float64",
         "stats": {
          "unique_count": 8,
          "nan_count": 0,
          "min": "0.005",
          "max": "1947.0",
          "histogram": [
           {
            "bin_start": 0.005,
            "bin_end": 194.7045,
            "count": 6
           },
           {
            "bin_start": 194.7045,
            "bin_end": 389.404,
            "count": 0
           },
           {
            "bin_start": 389.404,
            "bin_end": 584.1035,
            "count": 1
           },
           {
            "bin_start": 584.1035,
            "bin_end": 778.803,
            "count": 0
           },
           {
            "bin_start": 778.803,
            "bin_end": 973.5024999999999,
            "count": 0
           },
           {
            "bin_start": 973.5024999999999,
            "bin_end": 1168.2020000000002,
            "count": 0
           },
           {
            "bin_start": 1168.2020000000002,
            "bin_end": 1362.9015000000002,
            "count": 0
           },
           {
            "bin_start": 1362.9015000000002,
            "bin_end": 1557.601,
            "count": 0
           },
           {
            "bin_start": 1557.601,
            "bin_end": 1752.3005,
            "count": 0
           },
           {
            "bin_start": 1752.3005,
            "bin_end": 1947,
            "count": 1
           }
          ]
         }
        },
        {
         "name": "T3",
         "dtype": "float64",
         "stats": {
          "unique_count": 8,
          "nan_count": 0,
          "min": "0.05",
          "max": "1947.0",
          "histogram": [
           {
            "bin_start": 0.05,
            "bin_end": 194.745,
            "count": 7
           },
           {
            "bin_start": 194.745,
            "bin_end": 389.44,
            "count": 0
           },
           {
            "bin_start": 389.44,
            "bin_end": 584.135,
            "count": 0
           },
           {
            "bin_start": 584.135,
            "bin_end": 778.8299999999999,
            "count": 0
           },
           {
            "bin_start": 778.8299999999999,
            "bin_end": 973.5249999999999,
            "count": 0
           },
           {
            "bin_start": 973.5249999999999,
            "bin_end": 1168.22,
            "count": 0
           },
           {
            "bin_start": 1168.22,
            "bin_end": 1362.915,
            "count": 0
           },
           {
            "bin_start": 1362.915,
            "bin_end": 1557.61,
            "count": 0
           },
           {
            "bin_start": 1557.61,
            "bin_end": 1752.3049999999998,
            "count": 0
           },
           {
            "bin_start": 1752.3049999999998,
            "bin_end": 1947,
            "count": 1
           }
          ]
         }
        },
        {
         "name": "TT4",
         "dtype": "float64",
         "stats": {
          "unique_count": 8,
          "nan_count": 0,
          "min": "2.0",
          "max": "1947.0",
          "histogram": [
           {
            "bin_start": 2,
            "bin_end": 196.5,
            "count": 6
           },
           {
            "bin_start": 196.5,
            "bin_end": 391,
            "count": 0
           },
           {
            "bin_start": 391,
            "bin_end": 585.5,
            "count": 1
           },
           {
            "bin_start": 585.5,
            "bin_end": 780,
            "count": 0
           },
           {
            "bin_start": 780,
            "bin_end": 974.5,
            "count": 0
           },
           {
            "bin_start": 974.5,
            "bin_end": 1169,
            "count": 0
           },
           {
            "bin_start": 1169,
            "bin_end": 1363.5,
            "count": 0
           },
           {
            "bin_start": 1363.5,
            "bin_end": 1558,
            "count": 0
           },
           {
            "bin_start": 1558,
            "bin_end": 1752.5,
            "count": 0
           },
           {
            "bin_start": 1752.5,
            "bin_end": 1947,
            "count": 1
           }
          ]
         }
        },
        {
         "name": "T4U",
         "dtype": "float64",
         "stats": {
          "unique_count": 8,
          "nan_count": 0,
          "min": "0.199023963081754",
          "max": "1947.0",
          "histogram": [
           {
            "bin_start": 0.199023963081754,
            "bin_end": 194.87912156677356,
            "count": 7
           },
           {
            "bin_start": 194.87912156677356,
            "bin_end": 389.5592191704654,
            "count": 0
           },
           {
            "bin_start": 389.5592191704654,
            "bin_end": 584.2393167741573,
            "count": 0
           },
           {
            "bin_start": 584.2393167741573,
            "bin_end": 778.9194143778491,
            "count": 0
           },
           {
            "bin_start": 778.9194143778491,
            "bin_end": 973.5995119815409,
            "count": 0
           },
           {
            "bin_start": 973.5995119815409,
            "bin_end": 1168.2796095852327,
            "count": 0
           },
           {
            "bin_start": 1168.2796095852327,
            "bin_end": 1362.9597071889245,
            "count": 0
           },
           {
            "bin_start": 1362.9597071889245,
            "bin_end": 1557.6398047926164,
            "count": 0
           },
           {
            "bin_start": 1557.6398047926164,
            "bin_end": 1752.3199023963082,
            "count": 0
           },
           {
            "bin_start": 1752.3199023963082,
            "bin_end": 1947,
            "count": 1
           }
          ]
         }
        },
        {
         "name": "FTI",
         "dtype": "float64",
         "stats": {
          "unique_count": 8,
          "nan_count": 0,
          "min": "2.0",
          "max": "1947.0",
          "histogram": [
           {
            "bin_start": 2,
            "bin_end": 196.5,
            "count": 6
           },
           {
            "bin_start": 196.5,
            "bin_end": 391,
            "count": 0
           },
           {
            "bin_start": 391,
            "bin_end": 585.5,
            "count": 1
           },
           {
            "bin_start": 585.5,
            "bin_end": 780,
            "count": 0
           },
           {
            "bin_start": 780,
            "bin_end": 974.5,
            "count": 0
           },
           {
            "bin_start": 974.5,
            "bin_end": 1169,
            "count": 0
           },
           {
            "bin_start": 1169,
            "bin_end": 1363.5,
            "count": 0
           },
           {
            "bin_start": 1363.5,
            "bin_end": 1558,
            "count": 0
           },
           {
            "bin_start": 1558,
            "bin_end": 1752.5,
            "count": 0
           },
           {
            "bin_start": 1752.5,
            "bin_end": 1947,
            "count": 1
           }
          ]
         }
        },
        {
         "name": "Class",
         "dtype": "float64",
         "stats": {
          "unique_count": 5,
          "nan_count": 0,
          "min": "0.0",
          "max": "1947.0",
          "histogram": [
           {
            "bin_start": 0,
            "bin_end": 194.7,
            "count": 7
           },
           {
            "bin_start": 194.7,
            "bin_end": 389.4,
            "count": 0
           },
           {
            "bin_start": 389.4,
            "bin_end": 584.0999999999999,
            "count": 0
           },
           {
            "bin_start": 584.0999999999999,
            "bin_end": 778.8,
            "count": 0
           },
           {
            "bin_start": 778.8,
            "bin_end": 973.5,
            "count": 0
           },
           {
            "bin_start": 973.5,
            "bin_end": 1168.1999999999998,
            "count": 0
           },
           {
            "bin_start": 1168.1999999999998,
            "bin_end": 1362.8999999999999,
            "count": 0
           },
           {
            "bin_start": 1362.8999999999999,
            "bin_end": 1557.6,
            "count": 0
           },
           {
            "bin_start": 1557.6,
            "bin_end": 1752.3,
            "count": 0
           },
           {
            "bin_start": 1752.3,
            "bin_end": 1947,
            "count": 1
           }
          ]
         }
        },
        {
         "name": "_deepnote_index_column",
         "dtype": "object"
        }
       ],
       "rows_top": [
        {
         "Age": 1947,
         "TSH": 1947,
         "T3": 1947,
         "TT4": 1947,
         "T4U": 1947,
         "FTI": 1947,
         "Class": 1947,
         "_deepnote_index_column": "count"
        },
        {
         "Age": 53.21623009758603,
         "TSH": 4.376096558808422,
         "T3": 2.014894709809964,
         "TT4": 108.76045197740113,
         "T4U": 0.9986923472008218,
         "FTI": 110.00169491525423,
         "Class": 0.08063687724704674,
         "_deepnote_index_column": "mean"
        },
        {
         "Age": 20.882261427027967,
         "TSH": 18.427723893082256,
         "T3": 0.8247280075525997,
         "TT4": 35.44715936853306,
         "T4U": 0.199023963081754,
         "FTI": 32.38666192605577,
         "Class": 0.2723465937902169,
         "_deepnote_index_column": "std"
        },
        {
         "Age": 1,
         "TSH": 0.005,
         "T3": 0.05,
         "TT4": 2,
         "T4U": 0.31,
         "FTI": 2,
         "Class": 0,
         "_deepnote_index_column": "min"
        },
        {
         "Age": 37,
         "TSH": 0.45,
         "T3": 1.6,
         "TT4": 88,
         "T4U": 0.88,
         "FTI": 93,
         "Class": 0,
         "_deepnote_index_column": "25%"
        },
        {
         "Age": 55,
         "TSH": 1.3,
         "T3": 2,
         "TT4": 104,
         "T4U": 0.98,
         "FTI": 107,
         "Class": 0,
         "_deepnote_index_column": "50%"
        },
        {
         "Age": 69,
         "TSH": 2.5,
         "T3": 2.4,
         "TT4": 124,
         "T4U": 1.09,
         "FTI": 123,
         "Class": 0,
         "_deepnote_index_column": "75%"
        },
        {
         "Age": 455,
         "TSH": 468,
         "T3": 10.6,
         "TT4": 430,
         "T4U": 2.12,
         "FTI": 395,
         "Class": 1,
         "_deepnote_index_column": "max"
        }
       ],
       "rows_bottom": null
      },
      "text/plain": "               Age          TSH           T3          TT4          T4U  \\\ncount  1947.000000  1947.000000  1947.000000  1947.000000  1947.000000   \nmean     53.216230     4.376097     2.014895   108.760452     0.998692   \nstd      20.882261    18.427724     0.824728    35.447159     0.199024   \nmin       1.000000     0.005000     0.050000     2.000000     0.310000   \n25%      37.000000     0.450000     1.600000    88.000000     0.880000   \n50%      55.000000     1.300000     2.000000   104.000000     0.980000   \n75%      69.000000     2.500000     2.400000   124.000000     1.090000   \nmax     455.000000   468.000000    10.600000   430.000000     2.120000   \n\n               FTI        Class  \ncount  1947.000000  1947.000000  \nmean    110.001695     0.080637  \nstd      32.386662     0.272347  \nmin       2.000000     0.000000  \n25%      93.000000     0.000000  \n50%     107.000000     0.000000  \n75%     123.000000     0.000000  \nmax     395.000000     1.000000  ",
      "text/html": "<div>\n<style scoped>\n    .dataframe tbody tr th:only-of-type {\n        vertical-align: middle;\n    }\n\n    .dataframe tbody tr th {\n        vertical-align: top;\n    }\n\n    .dataframe thead th {\n        text-align: right;\n    }\n</style>\n<table border=\"1\" class=\"dataframe\">\n  <thead>\n    <tr style=\"text-align: right;\">\n      <th></th>\n      <th>Age</th>\n      <th>TSH</th>\n      <th>T3</th>\n      <th>TT4</th>\n      <th>T4U</th>\n      <th>FTI</th>\n      <th>Class</th>\n    </tr>\n  </thead>\n  <tbody>\n    <tr>\n      <th>count</th>\n      <td>1947.000000</td>\n      <td>1947.000000</td>\n      <td>1947.000000</td>\n      <td>1947.000000</td>\n      <td>1947.000000</td>\n      <td>1947.000000</td>\n      <td>1947.000000</td>\n    </tr>\n    <tr>\n      <th>mean</th>\n      <td>53.216230</td>\n      <td>4.376097</td>\n      <td>2.014895</td>\n      <td>108.760452</td>\n      <td>0.998692</td>\n      <td>110.001695</td>\n      <td>0.080637</td>\n    </tr>\n    <tr>\n      <th>std</th>\n      <td>20.882261</td>\n      <td>18.427724</td>\n      <td>0.824728</td>\n      <td>35.447159</td>\n      <td>0.199024</td>\n      <td>32.386662</td>\n      <td>0.272347</td>\n    </tr>\n    <tr>\n      <th>min</th>\n      <td>1.000000</td>\n      <td>0.005000</td>\n      <td>0.050000</td>\n      <td>2.000000</td>\n      <td>0.310000</td>\n      <td>2.000000</td>\n      <td>0.000000</td>\n    </tr>\n    <tr>\n      <th>25%</th>\n      <td>37.000000</td>\n      <td>0.450000</td>\n      <td>1.600000</td>\n      <td>88.000000</td>\n      <td>0.880000</td>\n      <td>93.000000</td>\n      <td>0.000000</td>\n    </tr>\n    <tr>\n      <th>50%</th>\n      <td>55.000000</td>\n      <td>1.300000</td>\n      <td>2.000000</td>\n      <td>104.000000</td>\n      <td>0.980000</td>\n      <td>107.000000</td>\n      <td>0.000000</td>\n    </tr>\n    <tr>\n      <th>75%</th>\n      <td>69.000000</td>\n      <td>2.500000</td>\n      <td>2.400000</td>\n      <td>124.000000</td>\n      <td>1.090000</td>\n      <td>123.000000</td>\n      <td>0.000000</td>\n    </tr>\n    <tr>\n      <th>max</th>\n      <td>455.000000</td>\n      <td>468.000000</td>\n      <td>10.600000</td>\n      <td>430.000000</td>\n      <td>2.120000</td>\n      <td>395.000000</td>\n      <td>1.000000</td>\n    </tr>\n  </tbody>\n</table>\n</div>"
     },
     "metadata": {}
    }
   ]
  },
  {
   "cell_type": "markdown",
   "source": "Now let's take a look at our categorical columns!",
   "metadata": {
    "cell_id": "00035-fa1eebf3-1876-4423-a3e6-4f374c54e606",
    "deepnote_cell_type": "markdown"
   }
  },
  {
   "cell_type": "code",
   "metadata": {
    "cell_id": "00036-97dc92c5-15df-4766-a679-c75d665e1c97",
    "deepnote_to_be_reexecuted": false,
    "source_hash": "f6072bad",
    "execution_start": 1625755713687,
    "execution_millis": 27,
    "deepnote_cell_type": "code"
   },
   "source": "for col in categorical_columns:\n    print(col, dataset[col].unique())",
   "execution_count": 33,
   "outputs": [
    {
     "name": "stdout",
     "text": "Query Hypothyroid ['f' 't']\nHypopituitary ['f' 't']\nQuery Hyperthyroid ['f' 't']\nPsych ['f' 't']\nLithium ['f' 't']\nT4U Measured ['t']\nTumor ['f' 't']\nSick ['f' 't']\nOn Thyroxine ['f' 't']\nSex ['F' 'M']\nThyroid Surgery ['f' 't']\nI131 Treatment ['f' 't']\nPregnant ['f' 't']\nOn Antithyroid Medication ['f' 't']\nQuery on Thyroxine ['f' 't']\nT3 Measured ['t']\nReferral Source ['SVHC' 'SVI' 'other' 'SVHD' 'STMW']\nGoiter ['f' 't']\nTSH Measured ['t']\nFTI Measured ['t']\nTT4 Measured ['t']\n",
     "output_type": "stream"
    }
   ]
  },
  {
   "cell_type": "markdown",
   "source": "Uh oh... we have several features that are non-informative (they only have a single value).  We probably didn't notice this before because there were still '?' values in there, or perhaps when we threw out that 30% of our data we got rid of some variation in these features.  Let's just drop those columns.",
   "metadata": {
    "cell_id": "00037-d91b6d5b-1b7b-4f08-8cec-3b1575c9bd4d",
    "deepnote_cell_type": "markdown"
   }
  },
  {
   "cell_type": "code",
   "metadata": {
    "cell_id": "00038-4294704b-5987-4245-a5a4-26f925defd3d",
    "deepnote_to_be_reexecuted": false,
    "source_hash": "81c76afb",
    "execution_start": 1625755715908,
    "execution_millis": 5,
    "deepnote_cell_type": "code"
   },
   "source": "# drop columns that do not contain useful information (all 2800 data points have the same value)\ndrop_columns = [\"T4U Measured\",\"FTI Measured\",\"T3 Measured\",\"TSH Measured\",\"TT4 Measured\"]\ntry:\n    dataset=dataset.drop(drop_columns, axis=1)\nexcept:\n    print(\"Can't drop columns {}, they may not exist\".format(drop_columns))",
   "execution_count": 34,
   "outputs": []
  },
  {
   "cell_type": "markdown",
   "source": "We can convert categorical columns (i.e., True/False or Male/Female) into indicator values (0,1) using a pretty nifty feature: [pandas.get_dummies()](https://pandas.pydata.org/pandas-docs/version/0.22/generated/pandas.get_dummies.html).  ",
   "metadata": {
    "cell_id": "00039-7d85c928-6f6d-4268-b402-8e9ffa0aeca8",
    "deepnote_cell_type": "markdown"
   }
  },
  {
   "cell_type": "code",
   "metadata": {
    "cell_id": "00040-70f09f6c-6c1a-40cc-ac88-56dc6ddba951",
    "deepnote_to_be_reexecuted": false,
    "source_hash": "a9827283",
    "execution_start": 1625755717823,
    "execution_millis": 133,
    "deepnote_cell_type": "code"
   },
   "source": "categorical_columns = list(set(categorical_columns)-set(drop_columns))\n\n# convert categorical columns to indicator (0,1) variables\nfor col in categorical_columns:\n    dataset[col] = po.get_dummies(dataset[col],drop_first=True)\n    \ndataset.head(10)",
   "execution_count": 35,
   "outputs": [
    {
     "output_type": "execute_result",
     "execution_count": 35,
     "data": {
      "application/vnd.deepnote.dataframe.v2+json": {
       "row_count": 10,
       "column_count": 23,
       "columns": [
        {
         "name": "Age",
         "dtype": "float64",
         "stats": {
          "unique_count": 10,
          "nan_count": 0,
          "min": "28.0",
          "max": "84.0",
          "histogram": [
           {
            "bin_start": 28,
            "bin_end": 33.6,
            "count": 1
           },
           {
            "bin_start": 33.6,
            "bin_end": 39.2,
            "count": 0
           },
           {
            "bin_start": 39.2,
            "bin_end": 44.8,
            "count": 1
           },
           {
            "bin_start": 44.8,
            "bin_end": 50.4,
            "count": 0
           },
           {
            "bin_start": 50.4,
            "bin_end": 56,
            "count": 0
           },
           {
            "bin_start": 56,
            "bin_end": 61.599999999999994,
            "count": 1
           },
           {
            "bin_start": 61.599999999999994,
            "bin_end": 67.19999999999999,
            "count": 2
           },
           {
            "bin_start": 67.19999999999999,
            "bin_end": 72.8,
            "count": 3
           },
           {
            "bin_start": 72.8,
            "bin_end": 78.4,
            "count": 0
           },
           {
            "bin_start": 78.4,
            "bin_end": 84,
            "count": 2
           }
          ]
         }
        },
        {
         "name": "Sex",
         "dtype": "uint8",
         "stats": {
          "unique_count": 2,
          "nan_count": 0,
          "min": "0",
          "max": "1",
          "histogram": [
           {
            "bin_start": 0,
            "bin_end": 0.1,
            "count": 8
           },
           {
            "bin_start": 0.1,
            "bin_end": 0.2,
            "count": 0
           },
           {
            "bin_start": 0.2,
            "bin_end": 0.30000000000000004,
            "count": 0
           },
           {
            "bin_start": 0.30000000000000004,
            "bin_end": 0.4,
            "count": 0
           },
           {
            "bin_start": 0.4,
            "bin_end": 0.5,
            "count": 0
           },
           {
            "bin_start": 0.5,
            "bin_end": 0.6000000000000001,
            "count": 0
           },
           {
            "bin_start": 0.6000000000000001,
            "bin_end": 0.7000000000000001,
            "count": 0
           },
           {
            "bin_start": 0.7000000000000001,
            "bin_end": 0.8,
            "count": 0
           },
           {
            "bin_start": 0.8,
            "bin_end": 0.9,
            "count": 0
           },
           {
            "bin_start": 0.9,
            "bin_end": 1,
            "count": 2
           }
          ]
         }
        },
        {
         "name": "On Thyroxine",
         "dtype": "uint8",
         "stats": {
          "unique_count": 1,
          "nan_count": 0,
          "min": "0",
          "max": "0",
          "histogram": [
           {
            "bin_start": -0.5,
            "bin_end": -0.4,
            "count": 0
           },
           {
            "bin_start": -0.4,
            "bin_end": -0.3,
            "count": 0
           },
           {
            "bin_start": -0.3,
            "bin_end": -0.19999999999999996,
            "count": 0
           },
           {
            "bin_start": -0.19999999999999996,
            "bin_end": -0.09999999999999998,
            "count": 0
           },
           {
            "bin_start": -0.09999999999999998,
            "bin_end": 0,
            "count": 0
           },
           {
            "bin_start": 0,
            "bin_end": 0.10000000000000009,
            "count": 10
           },
           {
            "bin_start": 0.10000000000000009,
            "bin_end": 0.20000000000000007,
            "count": 0
           },
           {
            "bin_start": 0.20000000000000007,
            "bin_end": 0.30000000000000004,
            "count": 0
           },
           {
            "bin_start": 0.30000000000000004,
            "bin_end": 0.4,
            "count": 0
           },
           {
            "bin_start": 0.4,
            "bin_end": 0.5,
            "count": 0
           }
          ]
         }
        },
        {
         "name": "Query on Thyroxine",
         "dtype": "uint8",
         "stats": {
          "unique_count": 1,
          "nan_count": 0,
          "min": "0",
          "max": "0",
          "histogram": [
           {
            "bin_start": -0.5,
            "bin_end": -0.4,
            "count": 0
           },
           {
            "bin_start": -0.4,
            "bin_end": -0.3,
            "count": 0
           },
           {
            "bin_start": -0.3,
            "bin_end": -0.19999999999999996,
            "count": 0
           },
           {
            "bin_start": -0.19999999999999996,
            "bin_end": -0.09999999999999998,
            "count": 0
           },
           {
            "bin_start": -0.09999999999999998,
            "bin_end": 0,
            "count": 0
           },
           {
            "bin_start": 0,
            "bin_end": 0.10000000000000009,
            "count": 10
           },
           {
            "bin_start": 0.10000000000000009,
            "bin_end": 0.20000000000000007,
            "count": 0
           },
           {
            "bin_start": 0.20000000000000007,
            "bin_end": 0.30000000000000004,
            "count": 0
           },
           {
            "bin_start": 0.30000000000000004,
            "bin_end": 0.4,
            "count": 0
           },
           {
            "bin_start": 0.4,
            "bin_end": 0.5,
            "count": 0
           }
          ]
         }
        },
        {
         "name": "On Antithyroid Medication",
         "dtype": "uint8",
         "stats": {
          "unique_count": 1,
          "nan_count": 0,
          "min": "0",
          "max": "0",
          "histogram": [
           {
            "bin_start": -0.5,
            "bin_end": -0.4,
            "count": 0
           },
           {
            "bin_start": -0.4,
            "bin_end": -0.3,
            "count": 0
           },
           {
            "bin_start": -0.3,
            "bin_end": -0.19999999999999996,
            "count": 0
           },
           {
            "bin_start": -0.19999999999999996,
            "bin_end": -0.09999999999999998,
            "count": 0
           },
           {
            "bin_start": -0.09999999999999998,
            "bin_end": 0,
            "count": 0
           },
           {
            "bin_start": 0,
            "bin_end": 0.10000000000000009,
            "count": 10
           },
           {
            "bin_start": 0.10000000000000009,
            "bin_end": 0.20000000000000007,
            "count": 0
           },
           {
            "bin_start": 0.20000000000000007,
            "bin_end": 0.30000000000000004,
            "count": 0
           },
           {
            "bin_start": 0.30000000000000004,
            "bin_end": 0.4,
            "count": 0
           },
           {
            "bin_start": 0.4,
            "bin_end": 0.5,
            "count": 0
           }
          ]
         }
        },
        {
         "name": "Sick",
         "dtype": "uint8",
         "stats": {
          "unique_count": 2,
          "nan_count": 0,
          "min": "0",
          "max": "1",
          "histogram": [
           {
            "bin_start": 0,
            "bin_end": 0.1,
            "count": 9
           },
           {
            "bin_start": 0.1,
            "bin_end": 0.2,
            "count": 0
           },
           {
            "bin_start": 0.2,
            "bin_end": 0.30000000000000004,
            "count": 0
           },
           {
            "bin_start": 0.30000000000000004,
            "bin_end": 0.4,
            "count": 0
           },
           {
            "bin_start": 0.4,
            "bin_end": 0.5,
            "count": 0
           },
           {
            "bin_start": 0.5,
            "bin_end": 0.6000000000000001,
            "count": 0
           },
           {
            "bin_start": 0.6000000000000001,
            "bin_end": 0.7000000000000001,
            "count": 0
           },
           {
            "bin_start": 0.7000000000000001,
            "bin_end": 0.8,
            "count": 0
           },
           {
            "bin_start": 0.8,
            "bin_end": 0.9,
            "count": 0
           },
           {
            "bin_start": 0.9,
            "bin_end": 1,
            "count": 1
           }
          ]
         }
        },
        {
         "name": "Pregnant",
         "dtype": "uint8",
         "stats": {
          "unique_count": 1,
          "nan_count": 0,
          "min": "0",
          "max": "0",
          "histogram": [
           {
            "bin_start": -0.5,
            "bin_end": -0.4,
            "count": 0
           },
           {
            "bin_start": -0.4,
            "bin_end": -0.3,
            "count": 0
           },
           {
            "bin_start": -0.3,
            "bin_end": -0.19999999999999996,
            "count": 0
           },
           {
            "bin_start": -0.19999999999999996,
            "bin_end": -0.09999999999999998,
            "count": 0
           },
           {
            "bin_start": -0.09999999999999998,
            "bin_end": 0,
            "count": 0
           },
           {
            "bin_start": 0,
            "bin_end": 0.10000000000000009,
            "count": 10
           },
           {
            "bin_start": 0.10000000000000009,
            "bin_end": 0.20000000000000007,
            "count": 0
           },
           {
            "bin_start": 0.20000000000000007,
            "bin_end": 0.30000000000000004,
            "count": 0
           },
           {
            "bin_start": 0.30000000000000004,
            "bin_end": 0.4,
            "count": 0
           },
           {
            "bin_start": 0.4,
            "bin_end": 0.5,
            "count": 0
           }
          ]
         }
        },
        {
         "name": "Thyroid Surgery",
         "dtype": "uint8",
         "stats": {
          "unique_count": 1,
          "nan_count": 0,
          "min": "0",
          "max": "0",
          "histogram": [
           {
            "bin_start": -0.5,
            "bin_end": -0.4,
            "count": 0
           },
           {
            "bin_start": -0.4,
            "bin_end": -0.3,
            "count": 0
           },
           {
            "bin_start": -0.3,
            "bin_end": -0.19999999999999996,
            "count": 0
           },
           {
            "bin_start": -0.19999999999999996,
            "bin_end": -0.09999999999999998,
            "count": 0
           },
           {
            "bin_start": -0.09999999999999998,
            "bin_end": 0,
            "count": 0
           },
           {
            "bin_start": 0,
            "bin_end": 0.10000000000000009,
            "count": 10
           },
           {
            "bin_start": 0.10000000000000009,
            "bin_end": 0.20000000000000007,
            "count": 0
           },
           {
            "bin_start": 0.20000000000000007,
            "bin_end": 0.30000000000000004,
            "count": 0
           },
           {
            "bin_start": 0.30000000000000004,
            "bin_end": 0.4,
            "count": 0
           },
           {
            "bin_start": 0.4,
            "bin_end": 0.5,
            "count": 0
           }
          ]
         }
        },
        {
         "name": "I131 Treatment",
         "dtype": "uint8",
         "stats": {
          "unique_count": 1,
          "nan_count": 0,
          "min": "0",
          "max": "0",
          "histogram": [
           {
            "bin_start": -0.5,
            "bin_end": -0.4,
            "count": 0
           },
           {
            "bin_start": -0.4,
            "bin_end": -0.3,
            "count": 0
           },
           {
            "bin_start": -0.3,
            "bin_end": -0.19999999999999996,
            "count": 0
           },
           {
            "bin_start": -0.19999999999999996,
            "bin_end": -0.09999999999999998,
            "count": 0
           },
           {
            "bin_start": -0.09999999999999998,
            "bin_end": 0,
            "count": 0
           },
           {
            "bin_start": 0,
            "bin_end": 0.10000000000000009,
            "count": 10
           },
           {
            "bin_start": 0.10000000000000009,
            "bin_end": 0.20000000000000007,
            "count": 0
           },
           {
            "bin_start": 0.20000000000000007,
            "bin_end": 0.30000000000000004,
            "count": 0
           },
           {
            "bin_start": 0.30000000000000004,
            "bin_end": 0.4,
            "count": 0
           },
           {
            "bin_start": 0.4,
            "bin_end": 0.5,
            "count": 0
           }
          ]
         }
        },
        {
         "name": "Query Hypothyroid",
         "dtype": "uint8",
         "stats": {
          "unique_count": 1,
          "nan_count": 0,
          "min": "0",
          "max": "0",
          "histogram": [
           {
            "bin_start": -0.5,
            "bin_end": -0.4,
            "count": 0
           },
           {
            "bin_start": -0.4,
            "bin_end": -0.3,
            "count": 0
           },
           {
            "bin_start": -0.3,
            "bin_end": -0.19999999999999996,
            "count": 0
           },
           {
            "bin_start": -0.19999999999999996,
            "bin_end": -0.09999999999999998,
            "count": 0
           },
           {
            "bin_start": -0.09999999999999998,
            "bin_end": 0,
            "count": 0
           },
           {
            "bin_start": 0,
            "bin_end": 0.10000000000000009,
            "count": 10
           },
           {
            "bin_start": 0.10000000000000009,
            "bin_end": 0.20000000000000007,
            "count": 0
           },
           {
            "bin_start": 0.20000000000000007,
            "bin_end": 0.30000000000000004,
            "count": 0
           },
           {
            "bin_start": 0.30000000000000004,
            "bin_end": 0.4,
            "count": 0
           },
           {
            "bin_start": 0.4,
            "bin_end": 0.5,
            "count": 0
           }
          ]
         }
        },
        {
         "name": "Query Hyperthyroid",
         "dtype": "uint8",
         "stats": {
          "unique_count": 2,
          "nan_count": 0,
          "min": "0",
          "max": "1",
          "histogram": [
           {
            "bin_start": 0,
            "bin_end": 0.1,
            "count": 9
           },
           {
            "bin_start": 0.1,
            "bin_end": 0.2,
            "count": 0
           },
           {
            "bin_start": 0.2,
            "bin_end": 0.30000000000000004,
            "count": 0
           },
           {
            "bin_start": 0.30000000000000004,
            "bin_end": 0.4,
            "count": 0
           },
           {
            "bin_start": 0.4,
            "bin_end": 0.5,
            "count": 0
           },
           {
            "bin_start": 0.5,
            "bin_end": 0.6000000000000001,
            "count": 0
           },
           {
            "bin_start": 0.6000000000000001,
            "bin_end": 0.7000000000000001,
            "count": 0
           },
           {
            "bin_start": 0.7000000000000001,
            "bin_end": 0.8,
            "count": 0
           },
           {
            "bin_start": 0.8,
            "bin_end": 0.9,
            "count": 0
           },
           {
            "bin_start": 0.9,
            "bin_end": 1,
            "count": 1
           }
          ]
         }
        },
        {
         "name": "Lithium",
         "dtype": "uint8",
         "stats": {
          "unique_count": 1,
          "nan_count": 0,
          "min": "0",
          "max": "0",
          "histogram": [
           {
            "bin_start": -0.5,
            "bin_end": -0.4,
            "count": 0
           },
           {
            "bin_start": -0.4,
            "bin_end": -0.3,
            "count": 0
           },
           {
            "bin_start": -0.3,
            "bin_end": -0.19999999999999996,
            "count": 0
           },
           {
            "bin_start": -0.19999999999999996,
            "bin_end": -0.09999999999999998,
            "count": 0
           },
           {
            "bin_start": -0.09999999999999998,
            "bin_end": 0,
            "count": 0
           },
           {
            "bin_start": 0,
            "bin_end": 0.10000000000000009,
            "count": 10
           },
           {
            "bin_start": 0.10000000000000009,
            "bin_end": 0.20000000000000007,
            "count": 0
           },
           {
            "bin_start": 0.20000000000000007,
            "bin_end": 0.30000000000000004,
            "count": 0
           },
           {
            "bin_start": 0.30000000000000004,
            "bin_end": 0.4,
            "count": 0
           },
           {
            "bin_start": 0.4,
            "bin_end": 0.5,
            "count": 0
           }
          ]
         }
        },
        {
         "name": "Goiter",
         "dtype": "uint8",
         "stats": {
          "unique_count": 1,
          "nan_count": 0,
          "min": "0",
          "max": "0",
          "histogram": [
           {
            "bin_start": -0.5,
            "bin_end": -0.4,
            "count": 0
           },
           {
            "bin_start": -0.4,
            "bin_end": -0.3,
            "count": 0
           },
           {
            "bin_start": -0.3,
            "bin_end": -0.19999999999999996,
            "count": 0
           },
           {
            "bin_start": -0.19999999999999996,
            "bin_end": -0.09999999999999998,
            "count": 0
           },
           {
            "bin_start": -0.09999999999999998,
            "bin_end": 0,
            "count": 0
           },
           {
            "bin_start": 0,
            "bin_end": 0.10000000000000009,
            "count": 10
           },
           {
            "bin_start": 0.10000000000000009,
            "bin_end": 0.20000000000000007,
            "count": 0
           },
           {
            "bin_start": 0.20000000000000007,
            "bin_end": 0.30000000000000004,
            "count": 0
           },
           {
            "bin_start": 0.30000000000000004,
            "bin_end": 0.4,
            "count": 0
           },
           {
            "bin_start": 0.4,
            "bin_end": 0.5,
            "count": 0
           }
          ]
         }
        },
        {
         "name": "Tumor",
         "dtype": "uint8",
         "stats": {
          "unique_count": 2,
          "nan_count": 0,
          "min": "0",
          "max": "1",
          "histogram": [
           {
            "bin_start": 0,
            "bin_end": 0.1,
            "count": 8
           },
           {
            "bin_start": 0.1,
            "bin_end": 0.2,
            "count": 0
           },
           {
            "bin_start": 0.2,
            "bin_end": 0.30000000000000004,
            "count": 0
           },
           {
            "bin_start": 0.30000000000000004,
            "bin_end": 0.4,
            "count": 0
           },
           {
            "bin_start": 0.4,
            "bin_end": 0.5,
            "count": 0
           },
           {
            "bin_start": 0.5,
            "bin_end": 0.6000000000000001,
            "count": 0
           },
           {
            "bin_start": 0.6000000000000001,
            "bin_end": 0.7000000000000001,
            "count": 0
           },
           {
            "bin_start": 0.7000000000000001,
            "bin_end": 0.8,
            "count": 0
           },
           {
            "bin_start": 0.8,
            "bin_end": 0.9,
            "count": 0
           },
           {
            "bin_start": 0.9,
            "bin_end": 1,
            "count": 2
           }
          ]
         }
        },
        {
         "name": "Hypopituitary",
         "dtype": "uint8",
         "stats": {
          "unique_count": 1,
          "nan_count": 0,
          "min": "0",
          "max": "0",
          "histogram": [
           {
            "bin_start": -0.5,
            "bin_end": -0.4,
            "count": 0
           },
           {
            "bin_start": -0.4,
            "bin_end": -0.3,
            "count": 0
           },
           {
            "bin_start": -0.3,
            "bin_end": -0.19999999999999996,
            "count": 0
           },
           {
            "bin_start": -0.19999999999999996,
            "bin_end": -0.09999999999999998,
            "count": 0
           },
           {
            "bin_start": -0.09999999999999998,
            "bin_end": 0,
            "count": 0
           },
           {
            "bin_start": 0,
            "bin_end": 0.10000000000000009,
            "count": 10
           },
           {
            "bin_start": 0.10000000000000009,
            "bin_end": 0.20000000000000007,
            "count": 0
           },
           {
            "bin_start": 0.20000000000000007,
            "bin_end": 0.30000000000000004,
            "count": 0
           },
           {
            "bin_start": 0.30000000000000004,
            "bin_end": 0.4,
            "count": 0
           },
           {
            "bin_start": 0.4,
            "bin_end": 0.5,
            "count": 0
           }
          ]
         }
        },
        {
         "name": "Psych",
         "dtype": "uint8",
         "stats": {
          "unique_count": 1,
          "nan_count": 0,
          "min": "0",
          "max": "0",
          "histogram": [
           {
            "bin_start": -0.5,
            "bin_end": -0.4,
            "count": 0
           },
           {
            "bin_start": -0.4,
            "bin_end": -0.3,
            "count": 0
           },
           {
            "bin_start": -0.3,
            "bin_end": -0.19999999999999996,
            "count": 0
           },
           {
            "bin_start": -0.19999999999999996,
            "bin_end": -0.09999999999999998,
            "count": 0
           },
           {
            "bin_start": -0.09999999999999998,
            "bin_end": 0,
            "count": 0
           },
           {
            "bin_start": 0,
            "bin_end": 0.10000000000000009,
            "count": 10
           },
           {
            "bin_start": 0.10000000000000009,
            "bin_end": 0.20000000000000007,
            "count": 0
           },
           {
            "bin_start": 0.20000000000000007,
            "bin_end": 0.30000000000000004,
            "count": 0
           },
           {
            "bin_start": 0.30000000000000004,
            "bin_end": 0.4,
            "count": 0
           },
           {
            "bin_start": 0.4,
            "bin_end": 0.5,
            "count": 0
           }
          ]
         }
        },
        {
         "name": "TSH",
         "dtype": "float64",
         "stats": {
          "unique_count": 10,
          "nan_count": 0,
          "min": "0.03",
          "max": "3.3",
          "histogram": [
           {
            "bin_start": 0.03,
            "bin_end": 0.357,
            "count": 1
           },
           {
            "bin_start": 0.357,
            "bin_end": 0.684,
            "count": 1
           },
           {
            "bin_start": 0.684,
            "bin_end": 1.0110000000000001,
            "count": 1
           },
           {
            "bin_start": 1.0110000000000001,
            "bin_end": 1.338,
            "count": 2
           },
           {
            "bin_start": 1.338,
            "bin_end": 1.665,
            "count": 1
           },
           {
            "bin_start": 1.665,
            "bin_end": 1.9920000000000002,
            "count": 0
           },
           {
            "bin_start": 1.9920000000000002,
            "bin_end": 2.319,
            "count": 1
           },
           {
            "bin_start": 2.319,
            "bin_end": 2.646,
            "count": 1
           },
           {
            "bin_start": 2.646,
            "bin_end": 2.973,
            "count": 1
           },
           {
            "bin_start": 2.973,
            "bin_end": 3.3,
            "count": 1
           }
          ]
         }
        },
        {
         "name": "T3",
         "dtype": "float64",
         "stats": {
          "unique_count": 8,
          "nan_count": 0,
          "min": "0.6",
          "max": "3.8",
          "histogram": [
           {
            "bin_start": 0.6,
            "bin_end": 0.9199999999999999,
            "count": 1
           },
           {
            "bin_start": 0.9199999999999999,
            "bin_end": 1.2399999999999998,
            "count": 2
           },
           {
            "bin_start": 1.2399999999999998,
            "bin_end": 1.5599999999999998,
            "count": 0
           },
           {
            "bin_start": 1.5599999999999998,
            "bin_end": 1.88,
            "count": 3
           },
           {
            "bin_start": 1.88,
            "bin_end": 2.1999999999999997,
            "count": 0
           },
           {
            "bin_start": 2.1999999999999997,
            "bin_end": 2.5199999999999996,
            "count": 3
           },
           {
            "bin_start": 2.5199999999999996,
            "bin_end": 2.84,
            "count": 0
           },
           {
            "bin_start": 2.84,
            "bin_end": 3.1599999999999997,
            "count": 0
           },
           {
            "bin_start": 3.1599999999999997,
            "bin_end": 3.4799999999999995,
            "count": 0
           },
           {
            "bin_start": 3.4799999999999995,
            "bin_end": 3.8,
            "count": 1
           }
          ]
         }
        },
        {
         "name": "TT4",
         "dtype": "float64",
         "stats": {
          "unique_count": 10,
          "nan_count": 0,
          "min": "61.0",
          "max": "171.0",
          "histogram": [
           {
            "bin_start": 61,
            "bin_end": 72,
            "count": 1
           },
           {
            "bin_start": 72,
            "bin_end": 83,
            "count": 1
           },
           {
            "bin_start": 83,
            "bin_end": 94,
            "count": 1
           },
           {
            "bin_start": 94,
            "bin_end": 105,
            "count": 1
           },
           {
            "bin_start": 105,
            "bin_end": 116,
            "count": 2
           },
           {
            "bin_start": 116,
            "bin_end": 127,
            "count": 3
           },
           {
            "bin_start": 127,
            "bin_end": 138,
            "count": 0
           },
           {
            "bin_start": 138,
            "bin_end": 149,
            "count": 0
           },
           {
            "bin_start": 149,
            "bin_end": 160,
            "count": 0
           },
           {
            "bin_start": 160,
            "bin_end": 171,
            "count": 1
           }
          ]
         }
        },
        {
         "name": "T4U",
         "dtype": "float64",
         "stats": {
          "unique_count": 9,
          "nan_count": 0,
          "min": "0.7",
          "max": "1.14",
          "histogram": [
           {
            "bin_start": 0.7,
            "bin_end": 0.744,
            "count": 1
           },
           {
            "bin_start": 0.744,
            "bin_end": 0.7879999999999999,
            "count": 0
           },
           {
            "bin_start": 0.7879999999999999,
            "bin_end": 0.832,
            "count": 0
           },
           {
            "bin_start": 0.832,
            "bin_end": 0.8759999999999999,
            "count": 1
           },
           {
            "bin_start": 0.8759999999999999,
            "bin_end": 0.9199999999999999,
            "count": 3
           },
           {
            "bin_start": 0.9199999999999999,
            "bin_end": 0.964,
            "count": 3
           },
           {
            "bin_start": 0.964,
            "bin_end": 1.008,
            "count": 0
           },
           {
            "bin_start": 1.008,
            "bin_end": 1.052,
            "count": 0
           },
           {
            "bin_start": 1.052,
            "bin_end": 1.0959999999999999,
            "count": 0
           },
           {
            "bin_start": 1.0959999999999999,
            "bin_end": 1.14,
            "count": 2
           }
          ]
         }
        },
        {
         "name": "FTI",
         "dtype": "float64",
         "stats": {
          "unique_count": 9,
          "nan_count": 0,
          "min": "70.0",
          "max": "151.0",
          "histogram": [
           {
            "bin_start": 70,
            "bin_end": 78.1,
            "count": 1
           },
           {
            "bin_start": 78.1,
            "bin_end": 86.2,
            "count": 0
           },
           {
            "bin_start": 86.2,
            "bin_end": 94.3,
            "count": 1
           },
           {
            "bin_start": 94.3,
            "bin_end": 102.4,
            "count": 0
           },
           {
            "bin_start": 102.4,
            "bin_end": 110.5,
            "count": 2
           },
           {
            "bin_start": 110.5,
            "bin_end": 118.6,
            "count": 1
           },
           {
            "bin_start": 118.6,
            "bin_end": 126.69999999999999,
            "count": 3
           },
           {
            "bin_start": 126.69999999999999,
            "bin_end": 134.8,
            "count": 1
           },
           {
            "bin_start": 134.8,
            "bin_end": 142.89999999999998,
            "count": 0
           },
           {
            "bin_start": 142.89999999999998,
            "bin_end": 151,
            "count": 1
           }
          ]
         }
        },
        {
         "name": "Referral Source",
         "dtype": "uint8",
         "stats": {
          "unique_count": 2,
          "nan_count": 0,
          "min": "0",
          "max": "1",
          "histogram": [
           {
            "bin_start": 0,
            "bin_end": 0.1,
            "count": 8
           },
           {
            "bin_start": 0.1,
            "bin_end": 0.2,
            "count": 0
           },
           {
            "bin_start": 0.2,
            "bin_end": 0.30000000000000004,
            "count": 0
           },
           {
            "bin_start": 0.30000000000000004,
            "bin_end": 0.4,
            "count": 0
           },
           {
            "bin_start": 0.4,
            "bin_end": 0.5,
            "count": 0
           },
           {
            "bin_start": 0.5,
            "bin_end": 0.6000000000000001,
            "count": 0
           },
           {
            "bin_start": 0.6000000000000001,
            "bin_end": 0.7000000000000001,
            "count": 0
           },
           {
            "bin_start": 0.7000000000000001,
            "bin_end": 0.8,
            "count": 0
           },
           {
            "bin_start": 0.8,
            "bin_end": 0.9,
            "count": 0
           },
           {
            "bin_start": 0.9,
            "bin_end": 1,
            "count": 2
           }
          ]
         }
        },
        {
         "name": "Class",
         "dtype": "int64",
         "stats": {
          "unique_count": 1,
          "nan_count": 0,
          "min": "0",
          "max": "0",
          "histogram": [
           {
            "bin_start": -0.5,
            "bin_end": -0.4,
            "count": 0
           },
           {
            "bin_start": -0.4,
            "bin_end": -0.3,
            "count": 0
           },
           {
            "bin_start": -0.3,
            "bin_end": -0.19999999999999996,
            "count": 0
           },
           {
            "bin_start": -0.19999999999999996,
            "bin_end": -0.09999999999999998,
            "count": 0
           },
           {
            "bin_start": -0.09999999999999998,
            "bin_end": 0,
            "count": 0
           },
           {
            "bin_start": 0,
            "bin_end": 0.10000000000000009,
            "count": 10
           },
           {
            "bin_start": 0.10000000000000009,
            "bin_end": 0.20000000000000007,
            "count": 0
           },
           {
            "bin_start": 0.20000000000000007,
            "bin_end": 0.30000000000000004,
            "count": 0
           },
           {
            "bin_start": 0.30000000000000004,
            "bin_end": 0.4,
            "count": 0
           },
           {
            "bin_start": 0.4,
            "bin_end": 0.5,
            "count": 0
           }
          ]
         }
        },
        {
         "name": "_deepnote_index_column",
         "dtype": "int64"
        }
       ],
       "rows_top": [
        {
         "Age": 41,
         "Sex": 0,
         "On Thyroxine": 0,
         "Query on Thyroxine": 0,
         "On Antithyroid Medication": 0,
         "Sick": 0,
         "Pregnant": 0,
         "Thyroid Surgery": 0,
         "I131 Treatment": 0,
         "Query Hypothyroid": 0,
         "Query Hyperthyroid": 0,
         "Lithium": 0,
         "Goiter": 0,
         "Tumor": 0,
         "Hypopituitary": 0,
         "Psych": 0,
         "TSH": 1.3,
         "T3": 2.5,
         "TT4": 125,
         "T4U": 1.14,
         "FTI": 109,
         "Referral Source": 1,
         "Class": 0,
         "_deepnote_index_column": 0
        },
        {
         "Age": 70,
         "Sex": 0,
         "On Thyroxine": 0,
         "Query on Thyroxine": 0,
         "On Antithyroid Medication": 0,
         "Sick": 0,
         "Pregnant": 0,
         "Thyroid Surgery": 0,
         "I131 Treatment": 0,
         "Query Hypothyroid": 0,
         "Query Hyperthyroid": 0,
         "Lithium": 0,
         "Goiter": 0,
         "Tumor": 0,
         "Hypopituitary": 0,
         "Psych": 0,
         "TSH": 0.72,
         "T3": 1.2,
         "TT4": 61,
         "T4U": 0.87,
         "FTI": 70,
         "Referral Source": 0,
         "Class": 0,
         "_deepnote_index_column": 4
        },
        {
         "Age": 80,
         "Sex": 0,
         "On Thyroxine": 0,
         "Query on Thyroxine": 0,
         "On Antithyroid Medication": 0,
         "Sick": 0,
         "Pregnant": 0,
         "Thyroid Surgery": 0,
         "I131 Treatment": 0,
         "Query Hypothyroid": 0,
         "Query Hyperthyroid": 0,
         "Lithium": 0,
         "Goiter": 0,
         "Tumor": 0,
         "Hypopituitary": 0,
         "Psych": 0,
         "TSH": 2.2,
         "T3": 0.6,
         "TT4": 80,
         "T4U": 0.7,
         "FTI": 115,
         "Referral Source": 0,
         "Class": 0,
         "_deepnote_index_column": 7
        },
        {
         "Age": 66,
         "Sex": 0,
         "On Thyroxine": 0,
         "Query on Thyroxine": 0,
         "On Antithyroid Medication": 0,
         "Sick": 0,
         "Pregnant": 0,
         "Thyroid Surgery": 0,
         "I131 Treatment": 0,
         "Query Hypothyroid": 0,
         "Query Hyperthyroid": 0,
         "Lithium": 0,
         "Goiter": 0,
         "Tumor": 1,
         "Hypopituitary": 0,
         "Psych": 0,
         "TSH": 0.6,
         "T3": 2.2,
         "TT4": 123,
         "T4U": 0.93,
         "FTI": 132,
         "Referral Source": 0,
         "Class": 0,
         "_deepnote_index_column": 8
        },
        {
         "Age": 68,
         "Sex": 1,
         "On Thyroxine": 0,
         "Query on Thyroxine": 0,
         "On Antithyroid Medication": 0,
         "Sick": 0,
         "Pregnant": 0,
         "Thyroid Surgery": 0,
         "I131 Treatment": 0,
         "Query Hypothyroid": 0,
         "Query Hyperthyroid": 0,
         "Lithium": 0,
         "Goiter": 0,
         "Tumor": 0,
         "Hypopituitary": 0,
         "Psych": 0,
         "TSH": 2.4,
         "T3": 1.6,
         "TT4": 83,
         "T4U": 0.89,
         "FTI": 93,
         "Referral Source": 0,
         "Class": 0,
         "_deepnote_index_column": 9
        },
        {
         "Age": 84,
         "Sex": 0,
         "On Thyroxine": 0,
         "Query on Thyroxine": 0,
         "On Antithyroid Medication": 0,
         "Sick": 0,
         "Pregnant": 0,
         "Thyroid Surgery": 0,
         "I131 Treatment": 0,
         "Query Hypothyroid": 0,
         "Query Hyperthyroid": 0,
         "Lithium": 0,
         "Goiter": 0,
         "Tumor": 1,
         "Hypopituitary": 0,
         "Psych": 0,
         "TSH": 1.1,
         "T3": 2.2,
         "TT4": 115,
         "T4U": 0.95,
         "FTI": 121,
         "Referral Source": 0,
         "Class": 0,
         "_deepnote_index_column": 10
        },
        {
         "Age": 71,
         "Sex": 0,
         "On Thyroxine": 0,
         "Query on Thyroxine": 0,
         "On Antithyroid Medication": 0,
         "Sick": 1,
         "Pregnant": 0,
         "Thyroid Surgery": 0,
         "I131 Treatment": 0,
         "Query Hypothyroid": 0,
         "Query Hyperthyroid": 1,
         "Lithium": 0,
         "Goiter": 0,
         "Tumor": 0,
         "Hypopituitary": 0,
         "Psych": 0,
         "TSH": 0.03,
         "T3": 3.8,
         "TT4": 171,
         "T4U": 1.13,
         "FTI": 151,
         "Referral Source": 0,
         "Class": 0,
         "_deepnote_index_column": 12
        },
        {
         "Age": 59,
         "Sex": 0,
         "On Thyroxine": 0,
         "Query on Thyroxine": 0,
         "On Antithyroid Medication": 0,
         "Sick": 0,
         "Pregnant": 0,
         "Thyroid Surgery": 0,
         "I131 Treatment": 0,
         "Query Hypothyroid": 0,
         "Query Hyperthyroid": 0,
         "Lithium": 0,
         "Goiter": 0,
         "Tumor": 0,
         "Hypopituitary": 0,
         "Psych": 0,
         "TSH": 2.8,
         "T3": 1.7,
         "TT4": 97,
         "T4U": 0.91,
         "FTI": 107,
         "Referral Source": 0,
         "Class": 0,
         "_deepnote_index_column": 13
        },
        {
         "Age": 28,
         "Sex": 1,
         "On Thyroxine": 0,
         "Query on Thyroxine": 0,
         "On Antithyroid Medication": 0,
         "Sick": 0,
         "Pregnant": 0,
         "Thyroid Surgery": 0,
         "I131 Treatment": 0,
         "Query Hypothyroid": 0,
         "Query Hyperthyroid": 0,
         "Lithium": 0,
         "Goiter": 0,
         "Tumor": 0,
         "Hypopituitary": 0,
         "Psych": 0,
         "TSH": 3.3,
         "T3": 1.8,
         "TT4": 109,
         "T4U": 0.91,
         "FTI": 119,
         "Referral Source": 1,
         "Class": 0,
         "_deepnote_index_column": 14
        },
        {
         "Age": 63,
         "Sex": 0,
         "On Thyroxine": 0,
         "Query on Thyroxine": 0,
         "On Antithyroid Medication": 0,
         "Sick": 0,
         "Pregnant": 0,
         "Thyroid Surgery": 0,
         "I131 Treatment": 0,
         "Query Hypothyroid": 0,
         "Query Hyperthyroid": 0,
         "Lithium": 0,
         "Goiter": 0,
         "Tumor": 0,
         "Hypopituitary": 0,
         "Psych": 0,
         "TSH": 1.5,
         "T3": 1.2,
         "TT4": 117,
         "T4U": 0.96,
         "FTI": 121,
         "Referral Source": 0,
         "Class": 0,
         "_deepnote_index_column": 17
        }
       ],
       "rows_bottom": null
      },
      "text/plain": "     Age  Sex  On Thyroxine  Query on Thyroxine  On Antithyroid Medication  \\\n0   41.0    0             0                   0                          0   \n4   70.0    0             0                   0                          0   \n7   80.0    0             0                   0                          0   \n8   66.0    0             0                   0                          0   \n9   68.0    1             0                   0                          0   \n10  84.0    0             0                   0                          0   \n12  71.0    0             0                   0                          0   \n13  59.0    0             0                   0                          0   \n14  28.0    1             0                   0                          0   \n17  63.0    0             0                   0                          0   \n\n    Sick  Pregnant  Thyroid Surgery  I131 Treatment  Query Hypothyroid  ...  \\\n0      0         0                0               0                  0  ...   \n4      0         0                0               0                  0  ...   \n7      0         0                0               0                  0  ...   \n8      0         0                0               0                  0  ...   \n9      0         0                0               0                  0  ...   \n10     0         0                0               0                  0  ...   \n12     1         0                0               0                  0  ...   \n13     0         0                0               0                  0  ...   \n14     0         0                0               0                  0  ...   \n17     0         0                0               0                  0  ...   \n\n    Tumor  Hypopituitary  Psych   TSH   T3    TT4   T4U    FTI  \\\n0       0              0      0  1.30  2.5  125.0  1.14  109.0   \n4       0              0      0  0.72  1.2   61.0  0.87   70.0   \n7       0              0      0  2.20  0.6   80.0  0.70  115.0   \n8       1              0      0  0.60  2.2  123.0  0.93  132.0   \n9       0              0      0  2.40  1.6   83.0  0.89   93.0   \n10      1              0      0  1.10  2.2  115.0  0.95  121.0   \n12      0              0      0  0.03  3.8  171.0  1.13  151.0   \n13      0              0      0  2.80  1.7   97.0  0.91  107.0   \n14      0              0      0  3.30  1.8  109.0  0.91  119.0   \n17      0              0      0  1.50  1.2  117.0  0.96  121.0   \n\n    Referral Source  Class  \n0                 1      0  \n4                 0      0  \n7                 0      0  \n8                 0      0  \n9                 0      0  \n10                0      0  \n12                0      0  \n13                0      0  \n14                1      0  \n17                0      0  \n\n[10 rows x 23 columns]",
      "text/html": "<div>\n<style scoped>\n    .dataframe tbody tr th:only-of-type {\n        vertical-align: middle;\n    }\n\n    .dataframe tbody tr th {\n        vertical-align: top;\n    }\n\n    .dataframe thead th {\n        text-align: right;\n    }\n</style>\n<table border=\"1\" class=\"dataframe\">\n  <thead>\n    <tr style=\"text-align: right;\">\n      <th></th>\n      <th>Age</th>\n      <th>Sex</th>\n      <th>On Thyroxine</th>\n      <th>Query on Thyroxine</th>\n      <th>On Antithyroid Medication</th>\n      <th>Sick</th>\n      <th>Pregnant</th>\n      <th>Thyroid Surgery</th>\n      <th>I131 Treatment</th>\n      <th>Query Hypothyroid</th>\n      <th>...</th>\n      <th>Tumor</th>\n      <th>Hypopituitary</th>\n      <th>Psych</th>\n      <th>TSH</th>\n      <th>T3</th>\n      <th>TT4</th>\n      <th>T4U</th>\n      <th>FTI</th>\n      <th>Referral Source</th>\n      <th>Class</th>\n    </tr>\n  </thead>\n  <tbody>\n    <tr>\n      <th>0</th>\n      <td>41.0</td>\n      <td>0</td>\n      <td>0</td>\n      <td>0</td>\n      <td>0</td>\n      <td>0</td>\n      <td>0</td>\n      <td>0</td>\n      <td>0</td>\n      <td>0</td>\n      <td>...</td>\n      <td>0</td>\n      <td>0</td>\n      <td>0</td>\n      <td>1.30</td>\n      <td>2.5</td>\n      <td>125.0</td>\n      <td>1.14</td>\n      <td>109.0</td>\n      <td>1</td>\n      <td>0</td>\n    </tr>\n    <tr>\n      <th>4</th>\n      <td>70.0</td>\n      <td>0</td>\n      <td>0</td>\n      <td>0</td>\n      <td>0</td>\n      <td>0</td>\n      <td>0</td>\n      <td>0</td>\n      <td>0</td>\n      <td>0</td>\n      <td>...</td>\n      <td>0</td>\n      <td>0</td>\n      <td>0</td>\n      <td>0.72</td>\n      <td>1.2</td>\n      <td>61.0</td>\n      <td>0.87</td>\n      <td>70.0</td>\n      <td>0</td>\n      <td>0</td>\n    </tr>\n    <tr>\n      <th>7</th>\n      <td>80.0</td>\n      <td>0</td>\n      <td>0</td>\n      <td>0</td>\n      <td>0</td>\n      <td>0</td>\n      <td>0</td>\n      <td>0</td>\n      <td>0</td>\n      <td>0</td>\n      <td>...</td>\n      <td>0</td>\n      <td>0</td>\n      <td>0</td>\n      <td>2.20</td>\n      <td>0.6</td>\n      <td>80.0</td>\n      <td>0.70</td>\n      <td>115.0</td>\n      <td>0</td>\n      <td>0</td>\n    </tr>\n    <tr>\n      <th>8</th>\n      <td>66.0</td>\n      <td>0</td>\n      <td>0</td>\n      <td>0</td>\n      <td>0</td>\n      <td>0</td>\n      <td>0</td>\n      <td>0</td>\n      <td>0</td>\n      <td>0</td>\n      <td>...</td>\n      <td>1</td>\n      <td>0</td>\n      <td>0</td>\n      <td>0.60</td>\n      <td>2.2</td>\n      <td>123.0</td>\n      <td>0.93</td>\n      <td>132.0</td>\n      <td>0</td>\n      <td>0</td>\n    </tr>\n    <tr>\n      <th>9</th>\n      <td>68.0</td>\n      <td>1</td>\n      <td>0</td>\n      <td>0</td>\n      <td>0</td>\n      <td>0</td>\n      <td>0</td>\n      <td>0</td>\n      <td>0</td>\n      <td>0</td>\n      <td>...</td>\n      <td>0</td>\n      <td>0</td>\n      <td>0</td>\n      <td>2.40</td>\n      <td>1.6</td>\n      <td>83.0</td>\n      <td>0.89</td>\n      <td>93.0</td>\n      <td>0</td>\n      <td>0</td>\n    </tr>\n    <tr>\n      <th>10</th>\n      <td>84.0</td>\n      <td>0</td>\n      <td>0</td>\n      <td>0</td>\n      <td>0</td>\n      <td>0</td>\n      <td>0</td>\n      <td>0</td>\n      <td>0</td>\n      <td>0</td>\n      <td>...</td>\n      <td>1</td>\n      <td>0</td>\n      <td>0</td>\n      <td>1.10</td>\n      <td>2.2</td>\n      <td>115.0</td>\n      <td>0.95</td>\n      <td>121.0</td>\n      <td>0</td>\n      <td>0</td>\n    </tr>\n    <tr>\n      <th>12</th>\n      <td>71.0</td>\n      <td>0</td>\n      <td>0</td>\n      <td>0</td>\n      <td>0</td>\n      <td>1</td>\n      <td>0</td>\n      <td>0</td>\n      <td>0</td>\n      <td>0</td>\n      <td>...</td>\n      <td>0</td>\n      <td>0</td>\n      <td>0</td>\n      <td>0.03</td>\n      <td>3.8</td>\n      <td>171.0</td>\n      <td>1.13</td>\n      <td>151.0</td>\n      <td>0</td>\n      <td>0</td>\n    </tr>\n    <tr>\n      <th>13</th>\n      <td>59.0</td>\n      <td>0</td>\n      <td>0</td>\n      <td>0</td>\n      <td>0</td>\n      <td>0</td>\n      <td>0</td>\n      <td>0</td>\n      <td>0</td>\n      <td>0</td>\n      <td>...</td>\n      <td>0</td>\n      <td>0</td>\n      <td>0</td>\n      <td>2.80</td>\n      <td>1.7</td>\n      <td>97.0</td>\n      <td>0.91</td>\n      <td>107.0</td>\n      <td>0</td>\n      <td>0</td>\n    </tr>\n    <tr>\n      <th>14</th>\n      <td>28.0</td>\n      <td>1</td>\n      <td>0</td>\n      <td>0</td>\n      <td>0</td>\n      <td>0</td>\n      <td>0</td>\n      <td>0</td>\n      <td>0</td>\n      <td>0</td>\n      <td>...</td>\n      <td>0</td>\n      <td>0</td>\n      <td>0</td>\n      <td>3.30</td>\n      <td>1.8</td>\n      <td>109.0</td>\n      <td>0.91</td>\n      <td>119.0</td>\n      <td>1</td>\n      <td>0</td>\n    </tr>\n    <tr>\n      <th>17</th>\n      <td>63.0</td>\n      <td>0</td>\n      <td>0</td>\n      <td>0</td>\n      <td>0</td>\n      <td>0</td>\n      <td>0</td>\n      <td>0</td>\n      <td>0</td>\n      <td>0</td>\n      <td>...</td>\n      <td>0</td>\n      <td>0</td>\n      <td>0</td>\n      <td>1.50</td>\n      <td>1.2</td>\n      <td>117.0</td>\n      <td>0.96</td>\n      <td>121.0</td>\n      <td>0</td>\n      <td>0</td>\n    </tr>\n  </tbody>\n</table>\n<p>10 rows × 23 columns</p>\n</div>"
     },
     "metadata": {}
    }
   ]
  },
  {
   "cell_type": "markdown",
   "source": "## Model training and selection",
   "metadata": {
    "colab_type": "text",
    "id": "JXMQ9UaKqyha",
    "cell_id": "00041-e581858a-d363-404e-a871-e9ed7ee2bdc4",
    "deepnote_cell_type": "markdown"
   }
  },
  {
   "cell_type": "markdown",
   "source": "All right, let's now split our data into training and testing in an 80-20 split, stratified by class distribution (this tries to keep the class distribution approximately equal for the training and test set). For consistency, let's use a random seed 0.",
   "metadata": {
    "colab_type": "text",
    "id": "4yEeqjv19hCX",
    "cell_id": "00042-84217f49-679f-4507-93b9-f21ca519cb1a",
    "deepnote_cell_type": "markdown"
   }
  },
  {
   "cell_type": "code",
   "metadata": {
    "colab": {
     "autoexec": {
      "startup": false,
      "wait_interval": 0
     },
     "base_uri": "https://localhost:8080/",
     "height": 36
    },
    "colab_type": "code",
    "executionInfo": {
     "elapsed": 452,
     "status": "ok",
     "timestamp": 1531117461829,
     "user": {
      "displayName": "Lyle Lalunio",
      "photoUrl": "https://lh3.googleusercontent.com/a/default-user=s128",
      "userId": "108954789805627648380"
     },
     "user_tz": 240
    },
    "id": "GQqlCTGntXCX",
    "outputId": "17fb180a-5a12-4890-8de2-2b2d73bfe9df",
    "cell_id": "00043-8fbce437-13c4-4a77-aaa6-0f5355390787",
    "deepnote_to_be_reexecuted": false,
    "source_hash": "4c840d33",
    "execution_start": 1625755719824,
    "execution_millis": 74,
    "deepnote_cell_type": "code"
   },
   "source": "from sklearn.model_selection import train_test_split\n\ndata_train, data_val = train_test_split(dataset, test_size=0.20, random_state=0, stratify=dataset['Class'])\n\nX_train = data_train[[\"Age\",\"Sex\"]]\nX_val = data_val[[\"Age\",\"Sex\"]]\n\ny_train = data_train['Class']\ny_val = data_val['Class']\n\nX_train.head()",
   "execution_count": 36,
   "outputs": [
    {
     "output_type": "execute_result",
     "execution_count": 36,
     "data": {
      "application/vnd.deepnote.dataframe.v2+json": {
       "row_count": 5,
       "column_count": 2,
       "columns": [
        {
         "name": "Age",
         "dtype": "float64",
         "stats": {
          "unique_count": 5,
          "nan_count": 0,
          "min": "30.0",
          "max": "85.0",
          "histogram": [
           {
            "bin_start": 30,
            "bin_end": 35.5,
            "count": 1
           },
           {
            "bin_start": 35.5,
            "bin_end": 41,
            "count": 1
           },
           {
            "bin_start": 41,
            "bin_end": 46.5,
            "count": 0
           },
           {
            "bin_start": 46.5,
            "bin_end": 52,
            "count": 0
           },
           {
            "bin_start": 52,
            "bin_end": 57.5,
            "count": 1
           },
           {
            "bin_start": 57.5,
            "bin_end": 63,
            "count": 0
           },
           {
            "bin_start": 63,
            "bin_end": 68.5,
            "count": 0
           },
           {
            "bin_start": 68.5,
            "bin_end": 74,
            "count": 0
           },
           {
            "bin_start": 74,
            "bin_end": 79.5,
            "count": 1
           },
           {
            "bin_start": 79.5,
            "bin_end": 85,
            "count": 1
           }
          ]
         }
        },
        {
         "name": "Sex",
         "dtype": "uint8",
         "stats": {
          "unique_count": 2,
          "nan_count": 0,
          "min": "0",
          "max": "1",
          "histogram": [
           {
            "bin_start": 0,
            "bin_end": 0.1,
            "count": 4
           },
           {
            "bin_start": 0.1,
            "bin_end": 0.2,
            "count": 0
           },
           {
            "bin_start": 0.2,
            "bin_end": 0.30000000000000004,
            "count": 0
           },
           {
            "bin_start": 0.30000000000000004,
            "bin_end": 0.4,
            "count": 0
           },
           {
            "bin_start": 0.4,
            "bin_end": 0.5,
            "count": 0
           },
           {
            "bin_start": 0.5,
            "bin_end": 0.6000000000000001,
            "count": 0
           },
           {
            "bin_start": 0.6000000000000001,
            "bin_end": 0.7000000000000001,
            "count": 0
           },
           {
            "bin_start": 0.7000000000000001,
            "bin_end": 0.8,
            "count": 0
           },
           {
            "bin_start": 0.8,
            "bin_end": 0.9,
            "count": 0
           },
           {
            "bin_start": 0.9,
            "bin_end": 1,
            "count": 1
           }
          ]
         }
        },
        {
         "name": "_deepnote_index_column",
         "dtype": "int64"
        }
       ],
       "rows_top": [
        {
         "Age": 78,
         "Sex": 1,
         "_deepnote_index_column": 263
        },
        {
         "Age": 36,
         "Sex": 0,
         "_deepnote_index_column": 401
        },
        {
         "Age": 85,
         "Sex": 0,
         "_deepnote_index_column": 2501
        },
        {
         "Age": 56,
         "Sex": 0,
         "_deepnote_index_column": 1862
        },
        {
         "Age": 30,
         "Sex": 0,
         "_deepnote_index_column": 1915
        }
       ],
       "rows_bottom": null
      },
      "text/plain": "       Age  Sex\n263   78.0    1\n401   36.0    0\n2501  85.0    0\n1862  56.0    0\n1915  30.0    0",
      "text/html": "<div>\n<style scoped>\n    .dataframe tbody tr th:only-of-type {\n        vertical-align: middle;\n    }\n\n    .dataframe tbody tr th {\n        vertical-align: top;\n    }\n\n    .dataframe thead th {\n        text-align: right;\n    }\n</style>\n<table border=\"1\" class=\"dataframe\">\n  <thead>\n    <tr style=\"text-align: right;\">\n      <th></th>\n      <th>Age</th>\n      <th>Sex</th>\n    </tr>\n  </thead>\n  <tbody>\n    <tr>\n      <th>263</th>\n      <td>78.0</td>\n      <td>1</td>\n    </tr>\n    <tr>\n      <th>401</th>\n      <td>36.0</td>\n      <td>0</td>\n    </tr>\n    <tr>\n      <th>2501</th>\n      <td>85.0</td>\n      <td>0</td>\n    </tr>\n    <tr>\n      <th>1862</th>\n      <td>56.0</td>\n      <td>0</td>\n    </tr>\n    <tr>\n      <th>1915</th>\n      <td>30.0</td>\n      <td>0</td>\n    </tr>\n  </tbody>\n</table>\n</div>"
     },
     "metadata": {}
    }
   ]
  },
  {
   "cell_type": "markdown",
   "source": "Let's train a decision tree model on our training data!",
   "metadata": {
    "colab_type": "text",
    "id": "6KGUCXBE-OFy",
    "cell_id": "00044-dec51990-c075-42c6-b219-0dc9ee4bbd35",
    "deepnote_cell_type": "markdown"
   }
  },
  {
   "cell_type": "code",
   "metadata": {
    "colab": {
     "autoexec": {
      "startup": false,
      "wait_interval": 0
     }
    },
    "colab_type": "code",
    "id": "DawvoHd7lnG9",
    "cell_id": "00045-e8f7e1fb-076f-4e75-85a7-f3ca64f39d97",
    "deepnote_to_be_reexecuted": false,
    "source_hash": "79452eeb",
    "execution_start": 1625755721690,
    "execution_millis": 237,
    "deepnote_cell_type": "code"
   },
   "source": "from sklearn.tree import DecisionTreeClassifier\nfrom sklearn.metrics import auc\n\n# define the model\ndt_model = DecisionTreeClassifier(random_state = 0)\n\n# fit the model to training data \ndt_model.fit(X_train, y_train)\n\n# apply the model to test data\ny_val_predict = dt_model.predict(X_val)\ny_val_proba = dt_model.predict_proba(X_val)\n\nprint(y_val[:5],y_val_predict[:5])",
   "execution_count": 37,
   "outputs": [
    {
     "name": "stdout",
     "text": "266     1\n1352    0\n2708    0\n1517    0\n665     0\nName: Class, dtype: int64 [0 0 0 0 0]\n",
     "output_type": "stream"
    }
   ]
  },
  {
   "cell_type": "markdown",
   "source": "Fantastic, we have just built a decision tree model! Let's go see how well it performs.",
   "metadata": {
    "colab_type": "text",
    "id": "JR8xu_VVsygN",
    "cell_id": "00046-9705ba92-b04e-4b40-ac1f-7a689354d05f",
    "deepnote_cell_type": "markdown"
   }
  },
  {
   "cell_type": "markdown",
   "source": "# Scoring Metrics",
   "metadata": {
    "colab_type": "text",
    "id": "gAz096POwSRJ",
    "cell_id": "00047-b0ba1a25-5720-46f3-aa22-3ff549df9fe8",
    "deepnote_cell_type": "markdown"
   }
  },
  {
   "cell_type": "markdown",
   "source": "## 1. Confusion Matrix Metric\nYou will receive a certain number of points for each correct classification and a certain point penalty for each incorrect classification. The points are weighted, and are designed to equate to -1 in a Zero Rule baseline model. This point scheme is even more pessimistic than the F1 score, designed to punish you heavily for predicting false positives (FP) and false negatives (FN)--FN cases especially. In doing so, we hope you see the importance of clinical considerations and treat your models from a more human perspective, rather than detached from it.\n\n",
   "metadata": {
    "cell_id": "00048-fac5e424-89af-4457-9bb2-104cda8c2d47",
    "deepnote_cell_type": "markdown"
   }
  },
  {
   "cell_type": "code",
   "metadata": {
    "cell_id": "00049-807010e6-2591-45e0-8d3a-a8ee206e8509",
    "deepnote_to_be_reexecuted": false,
    "source_hash": "4a332d74",
    "execution_start": 1625755724124,
    "execution_millis": 15,
    "deepnote_cell_type": "code"
   },
   "source": "from sklearn.metrics import confusion_matrix\n\n# This is exctly the first metric you'll be evaluated on!\n# Note: this will only work on the binary case -- let us know if you get to the multi-class case\ndef cm_metric(y_true, y_prob):\n    \n    # predict the class with the greatest probability\n    y_val_predict = [np.argmax(y) for y in y_prob]\n\n    # calculate the confusion matrix\n    cm = confusion_matrix(y_true, y_val_predict)\n\n    cm_norm = cm.astype('float') / cm.sum(axis=1)[:, np.newaxis]\n    return sum(sum(np.multiply(cm_norm, np.array([[1, -2], [-2, 1]]))))\n\ncm_metric(y_val, y_val_proba)",
   "execution_count": 38,
   "outputs": [
    {
     "output_type": "execute_result",
     "execution_count": 38,
     "data": {
      "text/plain": "-1.0"
     },
     "metadata": {}
    }
   ]
  },
  {
   "cell_type": "markdown",
   "source": "As we can see, the decision tree is just classifying everything as class 0...  Pretty terrible.   =(  Well maybe there's a threshold where this doesn't happen.  Let's look at the AUC",
   "metadata": {
    "cell_id": "00050-409b4769-61b8-4cc8-a0d3-54b8923e8cac",
    "deepnote_cell_type": "markdown"
   }
  },
  {
   "cell_type": "markdown",
   "source": "## 2. Area Under ROC Curve\nA receiver operating characteristic (ROC) curve plots the true positive rate (y) against the false positive rate (x) at many decision threshold settings (output < threshold = 0, output > threshold = 1). The area under this curve represents the probability that a classifier will rank a randomly chosen positive instance higher than a randomly chosen negative one.",
   "metadata": {
    "cell_id": "00051-ca2ce22f-6517-493a-9cbf-0bfb7db53924",
    "deepnote_cell_type": "markdown"
   }
  },
  {
   "cell_type": "code",
   "metadata": {
    "cell_id": "00052-dfd64e84-483f-4bcd-8db4-e91f35b2e8fd",
    "deepnote_to_be_reexecuted": false,
    "source_hash": "5e5a3eba",
    "execution_start": 1625755726359,
    "execution_millis": 11,
    "deepnote_cell_type": "code"
   },
   "source": "from sklearn import metrics\n\nfpr, tpr, threshold = metrics.roc_curve(y_val, y_val_proba[:,1])\nroc_auc = metrics.auc(fpr, tpr)\nprint('AUC: ',roc_auc)",
   "execution_count": 39,
   "outputs": [
    {
     "name": "stdout",
     "text": "AUC:  0.6049061011771049\n",
     "output_type": "stream"
    }
   ]
  },
  {
   "cell_type": "markdown",
   "source": "Yikes... that's still pretty bad.  Not unexpected, though, since we're only using 2 features!  Let's take a look at the ROC.",
   "metadata": {
    "cell_id": "00053-af6a937f-2975-41c7-a490-e12bf7f3a12f",
    "deepnote_cell_type": "markdown"
   }
  },
  {
   "cell_type": "code",
   "metadata": {
    "cell_id": "00054-91ac2fb6-9af3-45b7-9c1d-2600f535f53a",
    "deepnote_to_be_reexecuted": false,
    "source_hash": "f15d9d75",
    "execution_start": 1625755728652,
    "execution_millis": 253,
    "deepnote_cell_type": "code"
   },
   "source": "import matplotlib.pyplot as plt\nplt.title('Receiver Operating Characteristic')\nplt.plot(fpr, tpr, 'b', label = 'AUC = %0.3f' % roc_auc)\nplt.legend(loc = 'lower right')\nplt.plot([0, 1], [0, 1],'r--')\nplt.xlim([0, 1])\nplt.ylim([0, 1])\nplt.ylabel('True Positive Rate')\nplt.xlabel('False Positive Rate')\nplt.show()",
   "execution_count": 40,
   "outputs": [
    {
     "data": {
      "text/plain": "<Figure size 432x288 with 1 Axes>",
      "image/png": "[encoded data removed]"
     },
     "metadata": {
      "needs_background": "light",
      "image/png": {
       "width": 394,
       "height": 278
      }
     },
     "output_type": "display_data"
    }
   ]
  },
  {
   "cell_type": "markdown",
   "source": "Well, look on the bright side... at least there's lots of room for improvement!  Try using more features, different models, and see if you can do anything about that 30% of the data we threw out earlier.",
   "metadata": {
    "cell_id": "00055-476439ae-070f-43e9-af20-37f4f4bdf333",
    "deepnote_cell_type": "markdown"
   }
  },
  {
   "cell_type": "markdown",
   "source": "## 3. Economic Cost\nSimilar to the confusion matrix, we want you to keep in mind the other aspects of healthcare analytics--in this case, economic feasibility. In essence, we want you to minimize the amount of time and money spent on data collection by **reducing the number of features** collected. Each record certainly required a lot of time and money from several individuals and businesses to reliably create, and we hope you gain a better understanding of conducting a useful cost-benefit analysis with this scoring method.  This won't be evaluated quantitatively, but please consider discussing it for your presentation.",
   "metadata": {
    "cell_id": "00056-69bf1ea4-6f75-42cb-9b5e-849b21d5e2b5",
    "deepnote_cell_type": "markdown"
   }
  },
  {
   "cell_type": "markdown",
   "source": "In conclusion, it looks like this model performed pretty bad. It's probably best to try out different columns or perhaps use a different model before we submit our model for scoring.",
   "metadata": {
    "colab_type": "text",
    "id": "5D4BtDZV6fxV",
    "cell_id": "00057-b17f5eee-885f-4669-a662-b6f5c97cc5f4",
    "deepnote_cell_type": "markdown"
   }
  },
  {
   "cell_type": "markdown",
   "source": "# Submitting your Model",
   "metadata": {
    "colab_type": "text",
    "id": "5JW3myd8LHJy",
    "cell_id": "00058-8aa91789-199b-4d99-ae93-03f9912a1ae5",
    "deepnote_cell_type": "markdown"
   }
  },
  {
   "cell_type": "markdown",
   "source": "Once you believe to have found the best classifier, run your classifier on the test data and make a pickle file containing your predictions contained a pandas dataframe.  This pandas dataframe will contain 2 columns for your binary classifier (or 4 columns for the multiclass classifier) that looks like this (*pay attention to the column names!*):\n\n|   | 0 | 1   |\n|---|---|------|\n| 0 | $p_{0,0}$ | $p_{0,1}$|\n| 1 | $p_{1,0}$ | $p_{1,1}$|\n| 2 | $p_{2,0}$ | $p_{2,1}$|\n| ... | ... | ...|\n| N | $p_{N,0}$ | $p_{N,1}$|\n\nwhere $p_{i,j}$ corresponds to the probability of data point $i$ belonging to class $j$.",
   "metadata": {
    "colab_type": "text",
    "id": "Wuexs1daLNBY",
    "cell_id": "00059-5dbfd7fe-3b3e-4a17-aeda-d388a95f92f4",
    "deepnote_cell_type": "markdown"
   }
  },
  {
   "cell_type": "code",
   "metadata": {
    "cell_id": "00060-445d1f58-2ed2-480c-bf5f-1b2da9d43191",
    "deepnote_to_be_reexecuted": false,
    "source_hash": "55c6f783",
    "execution_start": 1625510334002,
    "execution_millis": 23,
    "deepnote_cell_type": "code"
   },
   "source": "# NOTE!!! For the actual challenge, you will use your TEST predictions.  Here we are just using the validation predictions.\nprint(po.DataFrame(y_val_proba))",
   "execution_count": 32,
   "outputs": [
    {
     "name": "stdout",
     "text": "            0         1\n0    0.952381  0.047619\n1    1.000000  0.000000\n2    1.000000  0.000000\n3    1.000000  0.000000\n4    0.945946  0.054054\n..        ...       ...\n385  0.631579  0.368421\n386  0.631579  0.368421\n387  0.800000  0.200000\n388  0.931034  0.068966\n389  1.000000  0.000000\n\n[390 rows x 2 columns]\n",
     "output_type": "stream"
    }
   ]
  },
  {
   "cell_type": "code",
   "metadata": {
    "colab": {
     "autoexec": {
      "startup": false,
      "wait_interval": 0
     }
    },
    "colab_type": "code",
    "id": "GkZOEgg3m3g1",
    "cell_id": "00061-7ef43ac4-bb89-4a0e-9895-d1bad76c33dc",
    "deepnote_to_be_reexecuted": false,
    "source_hash": "94b19ae7",
    "execution_start": 1625510338185,
    "execution_millis": 3,
    "deepnote_cell_type": "code"
   },
   "source": "# after running this cell, you should see the pickle file pop up in the file explorer to the left\n# use the three dots next to the filename to download the file\n# after downloading the pickle file, email it to medlytics-21@mit.edu\nimport pickle\n\n# create a pickle file (this will save to the Google cloud)\nprediction_pickle_path = 'teamname_week1_attempt1.pkl'\nprediction_pickle = open(prediction_pickle_path, 'wb')\npickle.dump(y_val_proba, prediction_pickle)\n\nprediction_pickle.close()",
   "execution_count": 33,
   "outputs": []
  },
  {
   "cell_type": "markdown",
   "source": "# Presenting Your Model",
   "metadata": {
    "colab_type": "text",
    "id": "w66lpbB6Qv_M",
    "cell_id": "00062-18b5fefa-70f3-4b5a-9074-5d750e6cb5ae",
    "deepnote_cell_type": "markdown"
   }
  },
  {
   "cell_type": "markdown",
   "source": "Finally, we would like you to be able to present your model to the class. This will be done on the Friday of each week. The format in which you present is completely up to your group, but a good way to go about it is to take the rest of the class through the notebook where your model's code is stored. You should also specifically talk about the following components of your project:\n\n* Features Chosen: a list of the features used in your model, and an explanation of how you chose them.\n* Type of Model: an explanation of the model type, parameters used, and why.\n* Evaluation: at least one plot showing an evaluation of your model against a validation set. You can use a confusion matrix, AUROC, or another metric of your choice.\n\nFeel free to include one or two additional plots that describe your process and/or model if you think that would be helpful.",
   "metadata": {
    "colab_type": "text",
    "id": "X-HZ12lht_so",
    "cell_id": "00063-652fb34f-0638-447b-9d32-78d17363990e",
    "deepnote_cell_type": "markdown"
   }
  },
  {
   "cell_type": "markdown",
   "source": "# Moving to the Next Level",
   "metadata": {
    "colab_type": "text",
    "id": "w66lpbB6Qv_M",
    "cell_id": "00063-18eab2af-7862-4995-9502-942f6c12ac6b",
    "deepnote_cell_type": "markdown"
   }
  },
  {
   "cell_type": "markdown",
   "source": "For those that finish early, remember how I converted the class values into simply \"negative\" and \"positive\"? Now try tackling the multiclass classifier (predicting the different types of positive hypothyroid cases instead of simply negative or positive)! \n\nThe same rules apply!  (Note: for the multiclass problem, the AUC calculation will be the micro-average over your classes.)",
   "metadata": {
    "colab_type": "text",
    "id": "X-HZ12lht_so",
    "cell_id": "00065-61d3075a-6c65-43fb-a9df-5909eac7b316",
    "deepnote_cell_type": "markdown"
   }
  },
  {
   "cell_type": "markdown",
   "source": "<a style='text-decoration:none;line-height:16px;display:flex;color:#5B5B62;padding:10px;justify-content:end;' href='https://deepnote.com?utm_source=created-in-deepnote-cell&projectId=34ac619e-a8ba-4c02-b670-4f307fb3c5a3' target=\"_blank\">\n<img alt='Created in deepnote.com' style='display:inline;max-height:16px;margin:0px;margin-right:7.5px;' src='data:image/svg+xml;base64,PD94bWwgdmVyc2lvbj0iMS4wIiBlbmNvZGluZz0iVVRGLTgiPz4KPHN2ZyB3aWR0aD0iODBweCIgaGVpZ2h0PSI4MHB4IiB2aWV3Qm94PSIwIDAgODAgODAiIHZlcnNpb249IjEuMSIgeG1sbnM9Imh0dHA6Ly93d3cudzMub3JnLzIwMDAvc3ZnIiB4bWxuczp4bGluaz0iaHR0cDovL3d3dy53My5vcmcvMTk5OS94bGluayI+CiAgICA8IS0tIEdlbmVyYXRvcjogU2tldGNoIDU0LjEgKDc2NDkwKSAtIGh0dHBzOi8vc2tldGNoYXBwLmNvbSAtLT4KICAgIDx0aXRsZT5Hcm91cCAzPC90aXRsZT4KICAgIDxkZXNjPkNyZWF0ZWQgd2l0aCBTa2V0Y2guPC9kZXNjPgogICAgPGcgaWQ9IkxhbmRpbmciIHN0cm9rZT0ibm9uZSIgc3Ryb2tlLXdpZHRoPSIxIiBmaWxsPSJub25lIiBmaWxsLXJ1bGU9ImV2ZW5vZGQiPgogICAgICAgIDxnIGlkPSJBcnRib2FyZCIgdHJhbnNmb3JtPSJ0cmFuc2xhdGUoLTEyMzUuMDAwMDAwLCAtNzkuMDAwMDAwKSI+CiAgICAgICAgICAgIDxnIGlkPSJHcm91cC0zIiB0cmFuc2Zvcm09InRyYW5zbGF0ZSgxMjM1LjAwMDAwMCwgNzkuMDAwMDAwKSI+CiAgICAgICAgICAgICAgICA8cG9seWdvbiBpZD0iUGF0aC0yMCIgZmlsbD0iIzAyNjVCNCIgcG9pbnRzPSIyLjM3NjIzNzYyIDgwIDM4LjA0NzY2NjcgODAgNTcuODIxNzgyMiA3My44MDU3NTkyIDU3LjgyMTc4MjIgMzIuNzU5MjczOSAzOS4xNDAyMjc4IDMxLjY4MzE2ODMiPjwvcG9seWdvbj4KICAgICAgICAgICAgICAgIDxwYXRoIGQ9Ik0zNS4wMDc3MTgsODAgQzQyLjkwNjIwMDcsNzYuNDU0OTM1OCA0Ny41NjQ5MTY3LDcxLjU0MjI2NzEgNDguOTgzODY2LDY1LjI2MTk5MzkgQzUxLjExMjI4OTksNTUuODQxNTg0MiA0MS42NzcxNzk1LDQ5LjIxMjIyODQgMjUuNjIzOTg0Niw0OS4yMTIyMjg0IEMyNS40ODQ5Mjg5LDQ5LjEyNjg0NDggMjkuODI2MTI5Niw0My4yODM4MjQ4IDM4LjY0NzU4NjksMzEuNjgzMTY4MyBMNzIuODcxMjg3MSwzMi41NTQ0MjUgTDY1LjI4MDk3Myw2Ny42NzYzNDIxIEw1MS4xMTIyODk5LDc3LjM3NjE0NCBMMzUuMDA3NzE4LDgwIFoiIGlkPSJQYXRoLTIyIiBmaWxsPSIjMDAyODY4Ij48L3BhdGg+CiAgICAgICAgICAgICAgICA8cGF0aCBkPSJNMCwzNy43MzA0NDA1IEwyNy4xMTQ1MzcsMC4yNTcxMTE0MzYgQzYyLjM3MTUxMjMsLTEuOTkwNzE3MDEgODAsMTAuNTAwMzkyNyA4MCwzNy43MzA0NDA1IEM4MCw2NC45NjA0ODgyIDY0Ljc3NjUwMzgsNzkuMDUwMzQxNCAzNC4zMjk1MTEzLDgwIEM0Ny4wNTUzNDg5LDc3LjU2NzA4MDggNTMuNDE4MjY3Nyw3MC4zMTM2MTAzIDUzLjQxODI2NzcsNTguMjM5NTg4NSBDNTMuNDE4MjY3Nyw0MC4xMjg1NTU3IDM2LjMwMzk1NDQsMzcuNzMwNDQwNSAyNS4yMjc0MTcsMzcuNzMwNDQwNSBDMTcuODQzMDU4NiwzNy43MzA0NDA1IDkuNDMzOTE5NjYsMzcuNzMwNDQwNSAwLDM3LjczMDQ0MDUgWiIgaWQ9IlBhdGgtMTkiIGZpbGw9IiMzNzkzRUYiPjwvcGF0aD4KICAgICAgICAgICAgPC9nPgogICAgICAgIDwvZz4KICAgIDwvZz4KPC9zdmc+' > </img>\nCreated in <span style='font-weight:600;margin-left:4px;'>Deepnote</span></a>",
   "metadata": {
    "tags": [],
    "created_in_deepnote_cell": true,
    "deepnote_cell_type": "markdown"
   }
  }
 ],
 "nbformat": 4,
 "nbformat_minor": 1,
 "metadata": {
  "colab": {
   "collapsed_sections": [],
   "default_view": {},
   "name": "Challenge_Project_STUDENT.ipynb",
   "provenance": [],
   "version": "0.3.2",
   "views": {}
  },
  "kernelspec": {
   "display_name": "Python 3",
   "language": "python",
   "name": "python3"
  },
  "language_info": {
   "codemirror_mode": {
    "name": "ipython",
    "version": 3
   },
   "file_extension": ".py",
   "mimetype": "text/x-python",
   "name": "python",
   "nbconvert_exporter": "python",
   "pygments_lexer": "ipython3",
   "version": "3.7.3"
  },
  "deepnote_notebook_id": "c4a6b5c1-1b01-44e9-b208-88985eb7c141",
  "deepnote": {},
  "deepnote_execution_queue": []
 }
}