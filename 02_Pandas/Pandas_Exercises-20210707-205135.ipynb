{
 "cells": [
  {
   "cell_type": "markdown",
   "source": "# Pandas Exercises",
   "metadata": {
    "colab_type": "text",
    "id": "bSU6eKZTdMXZ",
    "cell_id": "00000-a1a70b45-4173-41c3-bd0f-1c7334aedbc1",
    "deepnote_cell_type": "markdown"
   }
  },
  {
   "cell_type": "code",
   "metadata": {
    "colab_type": "code",
    "id": "c5ewTg7vdQFm",
    "colab": {},
    "cell_id": "00001-c6d0491e-81bf-48bb-9f7d-2474bd25924c",
    "deepnote_to_be_reexecuted": false,
    "source_hash": "73161b4",
    "execution_start": 1625597363788,
    "execution_millis": 1,
    "deepnote_cell_type": "code"
   },
   "source": "import pandas as pd\n\nurl = \"https://raw.githubusercontent.com/BeaverWorksMedlytics2020/Data_Public/master/NotebookExampleData/Week1/diabetes.csv\"\nnames = ['preg', 'plas', 'pres', 'skin', 'test', 'mass', 'pedi', 'age', 'class']",
   "execution_count": null,
   "outputs": []
  },
  {
   "cell_type": "markdown",
   "source": "Read in csv above to a pandas dataframe",
   "metadata": {
    "colab_type": "text",
    "id": "QOLgFaSKeShR",
    "cell_id": "00002-042a372d-c00c-4c1f-ac93-787afa44b1e9",
    "deepnote_cell_type": "markdown"
   }
  },
  {
   "cell_type": "code",
   "metadata": {
    "colab_type": "code",
    "id": "Okcb8dnXeX2C",
    "colab": {},
    "cell_id": "00003-3853efa3-180b-4c70-8be9-3a18524779a8",
    "deepnote_to_be_reexecuted": false,
    "source_hash": "a3f1f9b0",
    "execution_start": 1625597415505,
    "execution_millis": 1,
    "deepnote_cell_type": "code"
   },
   "source": "data = pd.read_csv(url, names=names)",
   "execution_count": null,
   "outputs": []
  },
  {
   "cell_type": "markdown",
   "source": "Print out the age and class of the 100th patient",
   "metadata": {
    "colab_type": "text",
    "id": "d4DyOsuoewE2",
    "cell_id": "00004-7ec9296d-24bf-4019-8f5a-c844c6b8cb1a",
    "deepnote_cell_type": "markdown"
   }
  },
  {
   "cell_type": "code",
   "metadata": {
    "colab_type": "code",
    "id": "xZqBsg39eY8_",
    "colab": {},
    "cell_id": "00005-0056ddb4-3287-41f8-834d-5ece93cf6909",
    "deepnote_to_be_reexecuted": false,
    "source_hash": "ffeb5987",
    "execution_start": 1625598157785,
    "execution_millis": 9,
    "deepnote_cell_type": "code"
   },
   "source": "# Reesa\ndata.loc[99, 'age':'class']",
   "execution_count": null,
   "outputs": [
    {
     "output_type": "execute_result",
     "execution_count": 7,
     "data": {
      "text/plain": "age      31.0\nclass     1.0\nName: 99, dtype: float64"
     },
     "metadata": {}
    }
   ]
  },
  {
   "cell_type": "markdown",
   "source": "Write code to figure out how many people are classified as not having diabetes, class is 0",
   "metadata": {
    "colab_type": "text",
    "id": "j8L2EM-5iOWc",
    "cell_id": "00006-82daaf2f-3e31-463a-9b7a-53799ab84fef",
    "deepnote_cell_type": "markdown"
   }
  },
  {
   "cell_type": "code",
   "metadata": {
    "colab_type": "code",
    "id": "vohzS51WiWvD",
    "colab": {},
    "cell_id": "00007-2d900e3b-23a6-403c-9bde-7e09d0510fcd",
    "deepnote_to_be_reexecuted": false,
    "source_hash": "b98ff02f",
    "execution_start": 1625598670094,
    "execution_millis": 11,
    "deepnote_cell_type": "code"
   },
   "source": "# Rees\nnondiabetes = data[data['class'] == 0]\nlen(nodiabetes)",
   "execution_count": null,
   "outputs": [
    {
     "output_type": "execute_result",
     "execution_count": 34,
     "data": {
      "text/plain": "500"
     },
     "metadata": {}
    }
   ]
  },
  {
   "cell_type": "markdown",
   "source": "Write code to figure out how many people are classified as having diabetes, class is 1",
   "metadata": {
    "colab_type": "text",
    "id": "ieGRz4iiiX4E",
    "cell_id": "00008-389ce810-0027-4af4-b4bf-a5bdc38c1573",
    "deepnote_cell_type": "markdown"
   }
  },
  {
   "cell_type": "code",
   "metadata": {
    "colab_type": "code",
    "id": "-jq2O-vriXRT",
    "colab": {},
    "cell_id": "00009-5eb55bcc-0b10-4a59-a3de-fad689a23fe1",
    "deepnote_to_be_reexecuted": false,
    "source_hash": "5b2e89c3",
    "execution_start": 1625598691578,
    "execution_millis": 8,
    "deepnote_cell_type": "code"
   },
   "source": "# Reesa\ndiabetes = data[data['class'] == 1]\nlen(diabetes)",
   "execution_count": null,
   "outputs": [
    {
     "output_type": "execute_result",
     "execution_count": 36,
     "data": {
      "text/plain": "268"
     },
     "metadata": {}
    }
   ]
  },
  {
   "cell_type": "markdown",
   "source": "What percent of people have diabetes in the study",
   "metadata": {
    "colab_type": "text",
    "id": "oeFT7T9OnuSd",
    "cell_id": "00010-31b5f7c6-ea56-457b-ae9c-72ab86c5c567",
    "deepnote_cell_type": "markdown"
   }
  },
  {
   "cell_type": "code",
   "metadata": {
    "colab_type": "code",
    "id": "zGGHptFYnwq0",
    "colab": {},
    "cell_id": "00011-a33c8893-4cbc-42b5-898d-e3115c13e329",
    "deepnote_to_be_reexecuted": false,
    "source_hash": "514c8b14",
    "execution_start": 1625598796199,
    "execution_millis": 20,
    "deepnote_cell_type": "code"
   },
   "source": "# Yasmeen\ntotal_data = len(data['class'] == 0)\nperc_dia = len(diabetes)/total_data\nprint(perc_dia)",
   "execution_count": null,
   "outputs": [
    {
     "name": "stdout",
     "text": "0.3489583333333333\n",
     "output_type": "stream"
    }
   ]
  },
  {
   "cell_type": "markdown",
   "source": "Print out the `\"pres\"` and `\"class\"` (no other columns) for the first 5 people",
   "metadata": {
    "colab_type": "text",
    "id": "nbrjnRPafs0p",
    "cell_id": "00012-5080ee0d-b515-4ca1-954d-63144b849480",
    "deepnote_cell_type": "markdown"
   }
  },
  {
   "cell_type": "code",
   "metadata": {
    "colab_type": "code",
    "id": "GiNCJ19KfHJQ",
    "colab": {},
    "cell_id": "00013-52905732-b305-424f-98c1-182e4ababc0c",
    "deepnote_to_be_reexecuted": false,
    "source_hash": "acce6905",
    "execution_start": 1625598817480,
    "execution_millis": 28,
    "deepnote_cell_type": "code"
   },
   "source": "data[['pres', 'class']].head(5)",
   "execution_count": null,
   "outputs": [
    {
     "output_type": "execute_result",
     "execution_count": 47,
     "data": {
      "application/vnd.deepnote.dataframe.v2+json": {
       "row_count": 5,
       "column_count": 2,
       "columns": [
        {
         "name": "pres",
         "dtype": "int64",
         "stats": {
          "unique_count": 4,
          "nan_count": 0,
          "min": "40",
          "max": "72",
          "histogram": [
           {
            "bin_start": 40,
            "bin_end": 43.2,
            "count": 1
           },
           {
            "bin_start": 43.2,
            "bin_end": 46.4,
            "count": 0
           },
           {
            "bin_start": 46.4,
            "bin_end": 49.6,
            "count": 0
           },
           {
            "bin_start": 49.6,
            "bin_end": 52.8,
            "count": 0
           },
           {
            "bin_start": 52.8,
            "bin_end": 56,
            "count": 0
           },
           {
            "bin_start": 56,
            "bin_end": 59.2,
            "count": 0
           },
           {
            "bin_start": 59.2,
            "bin_end": 62.400000000000006,
            "count": 0
           },
           {
            "bin_start": 62.400000000000006,
            "bin_end": 65.6,
            "count": 1
           },
           {
            "bin_start": 65.6,
            "bin_end": 68.8,
            "count": 2
           },
           {
            "bin_start": 68.8,
            "bin_end": 72,
            "count": 1
           }
          ]
         }
        },
        {
         "name": "class",
         "dtype": "int64",
         "stats": {
          "unique_count": 2,
          "nan_count": 0,
          "min": "0",
          "max": "1",
          "histogram": [
           {
            "bin_start": 0,
            "bin_end": 0.1,
            "count": 2
           },
           {
            "bin_start": 0.1,
            "bin_end": 0.2,
            "count": 0
           },
           {
            "bin_start": 0.2,
            "bin_end": 0.30000000000000004,
            "count": 0
           },
           {
            "bin_start": 0.30000000000000004,
            "bin_end": 0.4,
            "count": 0
           },
           {
            "bin_start": 0.4,
            "bin_end": 0.5,
            "count": 0
           },
           {
            "bin_start": 0.5,
            "bin_end": 0.6000000000000001,
            "count": 0
           },
           {
            "bin_start": 0.6000000000000001,
            "bin_end": 0.7000000000000001,
            "count": 0
           },
           {
            "bin_start": 0.7000000000000001,
            "bin_end": 0.8,
            "count": 0
           },
           {
            "bin_start": 0.8,
            "bin_end": 0.9,
            "count": 0
           },
           {
            "bin_start": 0.9,
            "bin_end": 1,
            "count": 3
           }
          ]
         }
        },
        {
         "name": "_deepnote_index_column",
         "dtype": "int64"
        }
       ],
       "rows_top": [
        {
         "pres": 72,
         "class": 1,
         "_deepnote_index_column": 0
        },
        {
         "pres": 66,
         "class": 0,
         "_deepnote_index_column": 1
        },
        {
         "pres": 64,
         "class": 1,
         "_deepnote_index_column": 2
        },
        {
         "pres": 66,
         "class": 0,
         "_deepnote_index_column": 3
        },
        {
         "pres": 40,
         "class": 1,
         "_deepnote_index_column": 4
        }
       ],
       "rows_bottom": null
      },
      "text/plain": "   pres  class\n0    72      1\n1    66      0\n2    64      1\n3    66      0\n4    40      1",
      "text/html": "<div>\n<style scoped>\n    .dataframe tbody tr th:only-of-type {\n        vertical-align: middle;\n    }\n\n    .dataframe tbody tr th {\n        vertical-align: top;\n    }\n\n    .dataframe thead th {\n        text-align: right;\n    }\n</style>\n<table border=\"1\" class=\"dataframe\">\n  <thead>\n    <tr style=\"text-align: right;\">\n      <th></th>\n      <th>pres</th>\n      <th>class</th>\n    </tr>\n  </thead>\n  <tbody>\n    <tr>\n      <th>0</th>\n      <td>72</td>\n      <td>1</td>\n    </tr>\n    <tr>\n      <th>1</th>\n      <td>66</td>\n      <td>0</td>\n    </tr>\n    <tr>\n      <th>2</th>\n      <td>64</td>\n      <td>1</td>\n    </tr>\n    <tr>\n      <th>3</th>\n      <td>66</td>\n      <td>0</td>\n    </tr>\n    <tr>\n      <th>4</th>\n      <td>40</td>\n      <td>1</td>\n    </tr>\n  </tbody>\n</table>\n</div>"
     },
     "metadata": {}
    }
   ]
  },
  {
   "cell_type": "markdown",
   "source": "Run the cell below, it will print out the correlation among the columns",
   "metadata": {
    "colab_type": "text",
    "id": "O-CcsoqlhxUn",
    "cell_id": "00014-f3aad72a-9f72-4fb7-9d82-8d10b502d48a",
    "deepnote_cell_type": "markdown"
   }
  },
  {
   "cell_type": "code",
   "metadata": {
    "colab_type": "code",
    "id": "pXpVFt6MffQt",
    "colab": {},
    "cell_id": "00015-2172a85f-0f52-484b-a29e-5c3e48658917",
    "deepnote_to_be_reexecuted": false,
    "source_hash": "e21fb0f1",
    "execution_start": 1625598888831,
    "execution_millis": 42,
    "deepnote_cell_type": "code"
   },
   "source": "correlation = data.corr() \ncorrelation",
   "execution_count": null,
   "outputs": [
    {
     "output_type": "execute_result",
     "execution_count": 50,
     "data": {
      "application/vnd.deepnote.dataframe.v2+json": {
       "row_count": 9,
       "column_count": 9,
       "columns": [
        {
         "name": "preg",
         "dtype": "float64",
         "stats": {
          "unique_count": 9,
          "nan_count": 0,
          "min": "-0.08167177444900726",
          "max": "1.0",
          "histogram": [
           {
            "bin_start": -0.08167177444900726,
            "bin_end": 0.026495402995893452,
            "count": 4
           },
           {
            "bin_start": 0.026495402995893452,
            "bin_end": 0.13466258044079416,
            "count": 1
           },
           {
            "bin_start": 0.13466258044079416,
            "bin_end": 0.24282975788569489,
            "count": 2
           },
           {
            "bin_start": 0.24282975788569489,
            "bin_end": 0.3509969353305956,
            "count": 0
           },
           {
            "bin_start": 0.3509969353305956,
            "bin_end": 0.45916411277549635,
            "count": 0
           },
           {
            "bin_start": 0.45916411277549635,
            "bin_end": 0.567331290220397,
            "count": 1
           },
           {
            "bin_start": 0.567331290220397,
            "bin_end": 0.6754984676652978,
            "count": 0
           },
           {
            "bin_start": 0.6754984676652978,
            "bin_end": 0.7836656451101984,
            "count": 0
           },
           {
            "bin_start": 0.7836656451101984,
            "bin_end": 0.8918328225550991,
            "count": 0
           },
           {
            "bin_start": 0.8918328225550991,
            "bin_end": 1,
            "count": 1
           }
          ]
         }
        },
        {
         "name": "plas",
         "dtype": "float64",
         "stats": {
          "unique_count": 9,
          "nan_count": 0,
          "min": "0.05732789073817692",
          "max": "1.0",
          "histogram": [
           {
            "bin_start": 0.05732789073817692,
            "bin_end": 0.15159510166435924,
            "count": 3
           },
           {
            "bin_start": 0.15159510166435924,
            "bin_end": 0.24586231259054156,
            "count": 2
           },
           {
            "bin_start": 0.24586231259054156,
            "bin_end": 0.3401295235167239,
            "count": 2
           },
           {
            "bin_start": 0.3401295235167239,
            "bin_end": 0.43439673444290616,
            "count": 0
           },
           {
            "bin_start": 0.43439673444290616,
            "bin_end": 0.5286639453690885,
            "count": 1
           },
           {
            "bin_start": 0.5286639453690885,
            "bin_end": 0.6229311562952708,
            "count": 0
           },
           {
            "bin_start": 0.6229311562952708,
            "bin_end": 0.7171983672214531,
            "count": 0
           },
           {
            "bin_start": 0.7171983672214531,
            "bin_end": 0.8114655781476354,
            "count": 0
           },
           {
            "bin_start": 0.8114655781476354,
            "bin_end": 0.9057327890738177,
            "count": 0
           },
           {
            "bin_start": 0.9057327890738177,
            "bin_end": 1,
            "count": 1
           }
          ]
         }
        },
        {
         "name": "pres",
         "dtype": "float64",
         "stats": {
          "unique_count": 9,
          "nan_count": 0,
          "min": "0.04126494793009856",
          "max": "1.0",
          "histogram": [
           {
            "bin_start": 0.04126494793009856,
            "bin_end": 0.1371384531370887,
            "count": 3
           },
           {
            "bin_start": 0.1371384531370887,
            "bin_end": 0.23301195834407884,
            "count": 3
           },
           {
            "bin_start": 0.23301195834407884,
            "bin_end": 0.328885463551069,
            "count": 2
           },
           {
            "bin_start": 0.328885463551069,
            "bin_end": 0.42475896875805913,
            "count": 0
           },
           {
            "bin_start": 0.42475896875805913,
            "bin_end": 0.5206324739650493,
            "count": 0
           },
           {
            "bin_start": 0.5206324739650493,
            "bin_end": 0.6165059791720395,
            "count": 0
           },
           {
            "bin_start": 0.6165059791720395,
            "bin_end": 0.7123794843790296,
            "count": 0
           },
           {
            "bin_start": 0.7123794843790296,
            "bin_end": 0.8082529895860198,
            "count": 0
           },
           {
            "bin_start": 0.8082529895860198,
            "bin_end": 0.9041264947930099,
            "count": 0
           },
           {
            "bin_start": 0.9041264947930099,
            "bin_end": 1,
            "count": 1
           }
          ]
         }
        },
        {
         "name": "skin",
         "dtype": "float64",
         "stats": {
          "unique_count": 9,
          "nan_count": 0,
          "min": "-0.11397026236774152",
          "max": "1.0",
          "histogram": [
           {
            "bin_start": -0.11397026236774152,
            "bin_end": -0.0025732361309673824,
            "count": 2
           },
           {
            "bin_start": -0.0025732361309673824,
            "bin_end": 0.10882379010580676,
            "count": 2
           },
           {
            "bin_start": 0.10882379010580676,
            "bin_end": 0.22022081634258087,
            "count": 2
           },
           {
            "bin_start": 0.22022081634258087,
            "bin_end": 0.331617842579355,
            "count": 0
           },
           {
            "bin_start": 0.331617842579355,
            "bin_end": 0.44301486881612917,
            "count": 2
           },
           {
            "bin_start": 0.44301486881612917,
            "bin_end": 0.5544118950529032,
            "count": 0
           },
           {
            "bin_start": 0.5544118950529032,
            "bin_end": 0.6658089212896774,
            "count": 0
           },
           {
            "bin_start": 0.6658089212896774,
            "bin_end": 0.7772059475264516,
            "count": 0
           },
           {
            "bin_start": 0.7772059475264516,
            "bin_end": 0.8886029737632256,
            "count": 0
           },
           {
            "bin_start": 0.8886029737632256,
            "bin_end": 1,
            "count": 1
           }
          ]
         }
        },
        {
         "name": "test",
         "dtype": "float64",
         "stats": {
          "unique_count": 9,
          "nan_count": 0,
          "min": "-0.07353461435162822",
          "max": "1.0",
          "histogram": [
           {
            "bin_start": -0.07353461435162822,
            "bin_end": 0.033818847083534595,
            "count": 2
           },
           {
            "bin_start": 0.033818847083534595,
            "bin_end": 0.14117230851869741,
            "count": 2
           },
           {
            "bin_start": 0.14117230851869741,
            "bin_end": 0.24852576995386022,
            "count": 2
           },
           {
            "bin_start": 0.24852576995386022,
            "bin_end": 0.35587923138902305,
            "count": 1
           },
           {
            "bin_start": 0.35587923138902305,
            "bin_end": 0.4632326928241859,
            "count": 1
           },
           {
            "bin_start": 0.4632326928241859,
            "bin_end": 0.5705861542593487,
            "count": 0
           },
           {
            "bin_start": 0.5705861542593487,
            "bin_end": 0.6779396156945116,
            "count": 0
           },
           {
            "bin_start": 0.6779396156945116,
            "bin_end": 0.7852930771296743,
            "count": 0
           },
           {
            "bin_start": 0.7852930771296743,
            "bin_end": 0.8926465385648371,
            "count": 0
           },
           {
            "bin_start": 0.8926465385648371,
            "bin_end": 1,
            "count": 1
           }
          ]
         }
        },
        {
         "name": "mass",
         "dtype": "float64",
         "stats": {
          "unique_count": 9,
          "nan_count": 0,
          "min": "0.017683090727830565",
          "max": "1.0",
          "histogram": [
           {
            "bin_start": 0.017683090727830565,
            "bin_end": 0.11591478165504751,
            "count": 2
           },
           {
            "bin_start": 0.11591478165504751,
            "bin_end": 0.21414647258226444,
            "count": 2
           },
           {
            "bin_start": 0.21414647258226444,
            "bin_end": 0.3123781635094814,
            "count": 3
           },
           {
            "bin_start": 0.3123781635094814,
            "bin_end": 0.41060985443669834,
            "count": 1
           },
           {
            "bin_start": 0.41060985443669834,
            "bin_end": 0.5088415453639152,
            "count": 0
           },
           {
            "bin_start": 0.5088415453639152,
            "bin_end": 0.6070732362911322,
            "count": 0
           },
           {
            "bin_start": 0.6070732362911322,
            "bin_end": 0.7053049272183491,
            "count": 0
           },
           {
            "bin_start": 0.7053049272183491,
            "bin_end": 0.8035366181455661,
            "count": 0
           },
           {
            "bin_start": 0.8035366181455661,
            "bin_end": 0.901768309072783,
            "count": 0
           },
           {
            "bin_start": 0.901768309072783,
            "bin_end": 1,
            "count": 1
           }
          ]
         }
        },
        {
         "name": "pedi",
         "dtype": "float64",
         "stats": {
          "unique_count": 9,
          "nan_count": 0,
          "min": "-0.03352267296261304",
          "max": "1.0",
          "histogram": [
           {
            "bin_start": -0.03352267296261304,
            "bin_end": 0.06982959433364827,
            "count": 3
           },
           {
            "bin_start": 0.06982959433364827,
            "bin_end": 0.17318186162990956,
            "count": 2
           },
           {
            "bin_start": 0.17318186162990956,
            "bin_end": 0.2765341289261709,
            "count": 3
           },
           {
            "bin_start": 0.2765341289261709,
            "bin_end": 0.3798863962224322,
            "count": 0
           },
           {
            "bin_start": 0.3798863962224322,
            "bin_end": 0.4832386635186935,
            "count": 0
           },
           {
            "bin_start": 0.4832386635186935,
            "bin_end": 0.5865909308149548,
            "count": 0
           },
           {
            "bin_start": 0.5865909308149548,
            "bin_end": 0.6899431981112161,
            "count": 0
           },
           {
            "bin_start": 0.6899431981112161,
            "bin_end": 0.7932954654074774,
            "count": 0
           },
           {
            "bin_start": 0.7932954654074774,
            "bin_end": 0.8966477327037388,
            "count": 0
           },
           {
            "bin_start": 0.8966477327037388,
            "bin_end": 1,
            "count": 1
           }
          ]
         }
        },
        {
         "name": "age",
         "dtype": "float64",
         "stats": {
          "unique_count": 9,
          "nan_count": 0,
          "min": "-0.11397026236774152",
          "max": "1.0",
          "histogram": [
           {
            "bin_start": -0.11397026236774152,
            "bin_end": -0.0025732361309673824,
            "count": 2
           },
           {
            "bin_start": -0.0025732361309673824,
            "bin_end": 0.10882379010580676,
            "count": 2
           },
           {
            "bin_start": 0.10882379010580676,
            "bin_end": 0.22022081634258087,
            "count": 0
           },
           {
            "bin_start": 0.22022081634258087,
            "bin_end": 0.331617842579355,
            "count": 3
           },
           {
            "bin_start": 0.331617842579355,
            "bin_end": 0.44301486881612917,
            "count": 0
           },
           {
            "bin_start": 0.44301486881612917,
            "bin_end": 0.5544118950529032,
            "count": 1
           },
           {
            "bin_start": 0.5544118950529032,
            "bin_end": 0.6658089212896774,
            "count": 0
           },
           {
            "bin_start": 0.6658089212896774,
            "bin_end": 0.7772059475264516,
            "count": 0
           },
           {
            "bin_start": 0.7772059475264516,
            "bin_end": 0.8886029737632256,
            "count": 0
           },
           {
            "bin_start": 0.8886029737632256,
            "bin_end": 1,
            "count": 1
           }
          ]
         }
        },
        {
         "name": "class",
         "dtype": "float64",
         "stats": {
          "unique_count": 9,
          "nan_count": 0,
          "min": "0.06506835955033277",
          "max": "1.0",
          "histogram": [
           {
            "bin_start": 0.06506835955033277,
            "bin_end": 0.15856152359529951,
            "count": 3
           },
           {
            "bin_start": 0.15856152359529951,
            "bin_end": 0.25205468764026623,
            "count": 3
           },
           {
            "bin_start": 0.25205468764026623,
            "bin_end": 0.34554785168523294,
            "count": 1
           },
           {
            "bin_start": 0.34554785168523294,
            "bin_end": 0.4390410157301997,
            "count": 0
           },
           {
            "bin_start": 0.4390410157301997,
            "bin_end": 0.5325341797751664,
            "count": 1
           },
           {
            "bin_start": 0.5325341797751664,
            "bin_end": 0.6260273438201331,
            "count": 0
           },
           {
            "bin_start": 0.6260273438201331,
            "bin_end": 0.7195205078650998,
            "count": 0
           },
           {
            "bin_start": 0.7195205078650998,
            "bin_end": 0.8130136719100666,
            "count": 0
           },
           {
            "bin_start": 0.8130136719100666,
            "bin_end": 0.9065068359550333,
            "count": 0
           },
           {
            "bin_start": 0.9065068359550333,
            "bin_end": 1,
            "count": 1
           }
          ]
         }
        },
        {
         "name": "_deepnote_index_column",
         "dtype": "object"
        }
       ],
       "rows_top": [
        {
         "preg": 1,
         "plas": 0.12945867149927248,
         "pres": 0.14128197740713966,
         "skin": -0.08167177444900726,
         "test": -0.07353461435162822,
         "mass": 0.017683090727830565,
         "pedi": -0.03352267296261304,
         "age": 0.5443412284023392,
         "class": 0.22189815303398636,
         "_deepnote_index_column": "preg"
        },
        {
         "preg": 0.12945867149927248,
         "plas": 1,
         "pres": 0.1525895865686646,
         "skin": 0.05732789073817692,
         "test": 0.3313571099202092,
         "mass": 0.2210710694589828,
         "pedi": 0.13733729982837092,
         "age": 0.26351431982433343,
         "class": 0.46658139830687373,
         "_deepnote_index_column": "plas"
        },
        {
         "preg": 0.14128197740713966,
         "plas": 0.1525895865686646,
         "pres": 1,
         "skin": 0.2073705384030709,
         "test": 0.08893337837319314,
         "mass": 0.2818052888499109,
         "pedi": 0.04126494793009856,
         "age": 0.23952794642136344,
         "class": 0.06506835955033277,
         "_deepnote_index_column": "pres"
        },
        {
         "preg": -0.08167177444900726,
         "plas": 0.05732789073817692,
         "pres": 0.2073705384030709,
         "skin": 1,
         "test": 0.43678257012001326,
         "mass": 0.39257320415903835,
         "pedi": 0.1839275729541631,
         "age": -0.11397026236774152,
         "class": 0.07475223191831946,
         "_deepnote_index_column": "skin"
        },
        {
         "preg": -0.07353461435162822,
         "plas": 0.3313571099202092,
         "pres": 0.08893337837319314,
         "skin": 0.43678257012001326,
         "test": 1,
         "mass": 0.19785905649310145,
         "pedi": 0.1850709291680993,
         "age": -0.04216295473537695,
         "class": 0.13054795488404794,
         "_deepnote_index_column": "test"
        },
        {
         "preg": 0.017683090727830565,
         "plas": 0.2210710694589828,
         "pres": 0.2818052888499109,
         "skin": 0.39257320415903835,
         "test": 0.19785905649310145,
         "mass": 1,
         "pedi": 0.14064695254510523,
         "age": 0.03624187009229395,
         "class": 0.2926946626444454,
         "_deepnote_index_column": "mass"
        },
        {
         "preg": -0.03352267296261304,
         "plas": 0.13733729982837092,
         "pres": 0.04126494793009856,
         "skin": 0.1839275729541631,
         "test": 0.1850709291680993,
         "mass": 0.14064695254510523,
         "pedi": 1,
         "age": 0.03356131243480539,
         "class": 0.17384406565296004,
         "_deepnote_index_column": "pedi"
        },
        {
         "preg": 0.5443412284023392,
         "plas": 0.26351431982433343,
         "pres": 0.23952794642136344,
         "skin": -0.11397026236774152,
         "test": -0.04216295473537695,
         "mass": 0.03624187009229395,
         "pedi": 0.03356131243480539,
         "age": 1,
         "class": 0.23835598302719757,
         "_deepnote_index_column": "age"
        },
        {
         "preg": 0.22189815303398636,
         "plas": 0.46658139830687373,
         "pres": 0.06506835955033277,
         "skin": 0.07475223191831946,
         "test": 0.13054795488404794,
         "mass": 0.2926946626444454,
         "pedi": 0.17384406565296004,
         "age": 0.23835598302719757,
         "class": 1,
         "_deepnote_index_column": "class"
        }
       ],
       "rows_bottom": null
      },
      "text/plain": "           preg      plas      pres      skin      test      mass      pedi  \\\npreg   1.000000  0.129459  0.141282 -0.081672 -0.073535  0.017683 -0.033523   \nplas   0.129459  1.000000  0.152590  0.057328  0.331357  0.221071  0.137337   \npres   0.141282  0.152590  1.000000  0.207371  0.088933  0.281805  0.041265   \nskin  -0.081672  0.057328  0.207371  1.000000  0.436783  0.392573  0.183928   \ntest  -0.073535  0.331357  0.088933  0.436783  1.000000  0.197859  0.185071   \nmass   0.017683  0.221071  0.281805  0.392573  0.197859  1.000000  0.140647   \npedi  -0.033523  0.137337  0.041265  0.183928  0.185071  0.140647  1.000000   \nage    0.544341  0.263514  0.239528 -0.113970 -0.042163  0.036242  0.033561   \nclass  0.221898  0.466581  0.065068  0.074752  0.130548  0.292695  0.173844   \n\n            age     class  \npreg   0.544341  0.221898  \nplas   0.263514  0.466581  \npres   0.239528  0.065068  \nskin  -0.113970  0.074752  \ntest  -0.042163  0.130548  \nmass   0.036242  0.292695  \npedi   0.033561  0.173844  \nage    1.000000  0.238356  \nclass  0.238356  1.000000  ",
      "text/html": "<div>\n<style scoped>\n    .dataframe tbody tr th:only-of-type {\n        vertical-align: middle;\n    }\n\n    .dataframe tbody tr th {\n        vertical-align: top;\n    }\n\n    .dataframe thead th {\n        text-align: right;\n    }\n</style>\n<table border=\"1\" class=\"dataframe\">\n  <thead>\n    <tr style=\"text-align: right;\">\n      <th></th>\n      <th>preg</th>\n      <th>plas</th>\n      <th>pres</th>\n      <th>skin</th>\n      <th>test</th>\n      <th>mass</th>\n      <th>pedi</th>\n      <th>age</th>\n      <th>class</th>\n    </tr>\n  </thead>\n  <tbody>\n    <tr>\n      <th>preg</th>\n      <td>1.000000</td>\n      <td>0.129459</td>\n      <td>0.141282</td>\n      <td>-0.081672</td>\n      <td>-0.073535</td>\n      <td>0.017683</td>\n      <td>-0.033523</td>\n      <td>0.544341</td>\n      <td>0.221898</td>\n    </tr>\n    <tr>\n      <th>plas</th>\n      <td>0.129459</td>\n      <td>1.000000</td>\n      <td>0.152590</td>\n      <td>0.057328</td>\n      <td>0.331357</td>\n      <td>0.221071</td>\n      <td>0.137337</td>\n      <td>0.263514</td>\n      <td>0.466581</td>\n    </tr>\n    <tr>\n      <th>pres</th>\n      <td>0.141282</td>\n      <td>0.152590</td>\n      <td>1.000000</td>\n      <td>0.207371</td>\n      <td>0.088933</td>\n      <td>0.281805</td>\n      <td>0.041265</td>\n      <td>0.239528</td>\n      <td>0.065068</td>\n    </tr>\n    <tr>\n      <th>skin</th>\n      <td>-0.081672</td>\n      <td>0.057328</td>\n      <td>0.207371</td>\n      <td>1.000000</td>\n      <td>0.436783</td>\n      <td>0.392573</td>\n      <td>0.183928</td>\n      <td>-0.113970</td>\n      <td>0.074752</td>\n    </tr>\n    <tr>\n      <th>test</th>\n      <td>-0.073535</td>\n      <td>0.331357</td>\n      <td>0.088933</td>\n      <td>0.436783</td>\n      <td>1.000000</td>\n      <td>0.197859</td>\n      <td>0.185071</td>\n      <td>-0.042163</td>\n      <td>0.130548</td>\n    </tr>\n    <tr>\n      <th>mass</th>\n      <td>0.017683</td>\n      <td>0.221071</td>\n      <td>0.281805</td>\n      <td>0.392573</td>\n      <td>0.197859</td>\n      <td>1.000000</td>\n      <td>0.140647</td>\n      <td>0.036242</td>\n      <td>0.292695</td>\n    </tr>\n    <tr>\n      <th>pedi</th>\n      <td>-0.033523</td>\n      <td>0.137337</td>\n      <td>0.041265</td>\n      <td>0.183928</td>\n      <td>0.185071</td>\n      <td>0.140647</td>\n      <td>1.000000</td>\n      <td>0.033561</td>\n      <td>0.173844</td>\n    </tr>\n    <tr>\n      <th>age</th>\n      <td>0.544341</td>\n      <td>0.263514</td>\n      <td>0.239528</td>\n      <td>-0.113970</td>\n      <td>-0.042163</td>\n      <td>0.036242</td>\n      <td>0.033561</td>\n      <td>1.000000</td>\n      <td>0.238356</td>\n    </tr>\n    <tr>\n      <th>class</th>\n      <td>0.221898</td>\n      <td>0.466581</td>\n      <td>0.065068</td>\n      <td>0.074752</td>\n      <td>0.130548</td>\n      <td>0.292695</td>\n      <td>0.173844</td>\n      <td>0.238356</td>\n      <td>1.000000</td>\n    </tr>\n  </tbody>\n</table>\n</div>"
     },
     "metadata": {}
    }
   ]
  },
  {
   "cell_type": "markdown",
   "source": "What column has the highest correlation with class? Find the mean() value of that column",
   "metadata": {
    "colab_type": "text",
    "id": "P_7xRF11h4Uf",
    "cell_id": "00016-c6dc3dd2-3401-45f6-82f1-9b8d3db94077",
    "deepnote_cell_type": "markdown"
   }
  },
  {
   "cell_type": "code",
   "metadata": {
    "colab_type": "code",
    "id": "clb2Gh8Mn9d4",
    "colab": {},
    "cell_id": "00017-b1dcf134-97de-42fa-ac10-96fe97db8e2c",
    "deepnote_to_be_reexecuted": false,
    "source_hash": "29374699",
    "execution_start": 1625599999377,
    "execution_millis": 7,
    "deepnote_cell_type": "code"
   },
   "source": "#sample = correlation.sort_values(by='class', ascending=True, na_position='first')\n#sample\n\ntable = correlation['class'].sort_values(ascending=False)\ncolumn = table.index[1]\nmean_of_col = data[column].mean()\nmean_of_col\n",
   "execution_count": null,
   "outputs": [
    {
     "output_type": "execute_result",
     "execution_count": 92,
     "data": {
      "text/plain": "120.89453125"
     },
     "metadata": {}
    }
   ]
  },
  {
   "cell_type": "markdown",
   "source": "Create a new dataframe with only people that are above the mean found in the above cell.",
   "metadata": {
    "colab_type": "text",
    "id": "64yWhAARoWw-",
    "cell_id": "00018-fd63fcb2-c10a-4a26-b428-e30348fe833a",
    "deepnote_cell_type": "markdown"
   }
  },
  {
   "cell_type": "code",
   "metadata": {
    "colab_type": "code",
    "id": "HRLjs3agkdPY",
    "colab": {},
    "cell_id": "00019-8b938a90-7bd5-4ba2-92f1-4df4ffc190e0",
    "deepnote_to_be_reexecuted": false,
    "source_hash": "6c3e67b3",
    "execution_start": 1625600053185,
    "execution_millis": 46,
    "deepnote_cell_type": "code"
   },
   "source": "filtered_by_plas = data.plas > mean_of_col\nframe_filtered_by_plas = data[filtered_by_plas]\nframe_filtered_by_plas",
   "execution_count": null,
   "outputs": [
    {
     "output_type": "execute_result",
     "execution_count": 96,
     "data": {
      "application/vnd.deepnote.dataframe.v2+json": {
       "row_count": 349,
       "column_count": 9,
       "columns": [
        {
         "name": "preg",
         "dtype": "int64",
         "stats": {
          "unique_count": 17,
          "nan_count": 0,
          "min": "0",
          "max": "17",
          "histogram": [
           {
            "bin_start": 0,
            "bin_end": 1.7,
            "count": 100
           },
           {
            "bin_start": 1.7,
            "bin_end": 3.4,
            "count": 68
           },
           {
            "bin_start": 3.4,
            "bin_end": 5.1,
            "count": 62
           },
           {
            "bin_start": 5.1,
            "bin_end": 6.8,
            "count": 22
           },
           {
            "bin_start": 6.8,
            "bin_end": 8.5,
            "count": 47
           },
           {
            "bin_start": 8.5,
            "bin_end": 10.2,
            "count": 30
           },
           {
            "bin_start": 10.2,
            "bin_end": 11.9,
            "count": 7
           },
           {
            "bin_start": 11.9,
            "bin_end": 13.6,
            "count": 10
           },
           {
            "bin_start": 13.6,
            "bin_end": 15.299999999999999,
            "count": 2
           },
           {
            "bin_start": 15.299999999999999,
            "bin_end": 17,
            "count": 1
           }
          ]
         }
        },
        {
         "name": "plas",
         "dtype": "int64",
         "stats": {
          "unique_count": 77,
          "nan_count": 0,
          "min": "121",
          "max": "199",
          "histogram": [
           {
            "bin_start": 121,
            "bin_end": 128.8,
            "count": 77
           },
           {
            "bin_start": 128.8,
            "bin_end": 136.6,
            "count": 54
           },
           {
            "bin_start": 136.6,
            "bin_end": 144.4,
            "count": 49
           },
           {
            "bin_start": 144.4,
            "bin_end": 152.2,
            "count": 39
           },
           {
            "bin_start": 152.2,
            "bin_end": 160,
            "count": 28
           },
           {
            "bin_start": 160,
            "bin_end": 167.8,
            "count": 26
           },
           {
            "bin_start": 167.8,
            "bin_end": 175.6,
            "count": 21
           },
           {
            "bin_start": 175.6,
            "bin_end": 183.4,
            "count": 23
           },
           {
            "bin_start": 183.4,
            "bin_end": 191.2,
            "count": 16
           },
           {
            "bin_start": 191.2,
            "bin_end": 199,
            "count": 16
           }
          ]
         }
        },
        {
         "name": "pres",
         "dtype": "int64",
         "stats": {
          "unique_count": 41,
          "nan_count": 0,
          "min": "0",
          "max": "114",
          "histogram": [
           {
            "bin_start": 0,
            "bin_end": 11.4,
            "count": 13
           },
           {
            "bin_start": 11.4,
            "bin_end": 22.8,
            "count": 0
           },
           {
            "bin_start": 22.8,
            "bin_end": 34.2,
            "count": 0
           },
           {
            "bin_start": 34.2,
            "bin_end": 45.6,
            "count": 1
           },
           {
            "bin_start": 45.6,
            "bin_end": 57,
            "count": 20
           },
           {
            "bin_start": 57,
            "bin_end": 68.4,
            "count": 71
           },
           {
            "bin_start": 68.4,
            "bin_end": 79.8,
            "count": 122
           },
           {
            "bin_start": 79.8,
            "bin_end": 91.2,
            "count": 98
           },
           {
            "bin_start": 91.2,
            "bin_end": 102.60000000000001,
            "count": 15
           },
           {
            "bin_start": 102.60000000000001,
            "bin_end": 114,
            "count": 9
           }
          ]
         }
        },
        {
         "name": "skin",
         "dtype": "int64",
         "stats": {
          "unique_count": 46,
          "nan_count": 0,
          "min": "0",
          "max": "99",
          "histogram": [
           {
            "bin_start": 0,
            "bin_end": 9.9,
            "count": 114
           },
           {
            "bin_start": 9.9,
            "bin_end": 19.8,
            "count": 30
           },
           {
            "bin_start": 19.8,
            "bin_end": 29.700000000000003,
            "count": 68
           },
           {
            "bin_start": 29.700000000000003,
            "bin_end": 39.6,
            "count": 87
           },
           {
            "bin_start": 39.6,
            "bin_end": 49.5,
            "count": 44
           },
           {
            "bin_start": 49.5,
            "bin_end": 59.400000000000006,
            "count": 4
           },
           {
            "bin_start": 59.400000000000006,
            "bin_end": 69.3,
            "count": 1
           },
           {
            "bin_start": 69.3,
            "bin_end": 79.2,
            "count": 0
           },
           {
            "bin_start": 79.2,
            "bin_end": 89.10000000000001,
            "count": 0
           },
           {
            "bin_start": 89.10000000000001,
            "bin_end": 99,
            "count": 1
           }
          ]
         }
        },
        {
         "name": "test",
         "dtype": "int64",
         "stats": {
          "unique_count": 129,
          "nan_count": 0,
          "min": "0",
          "max": "846",
          "histogram": [
           {
            "bin_start": 0,
            "bin_end": 84.6,
            "count": 174
           },
           {
            "bin_start": 84.6,
            "bin_end": 169.2,
            "count": 78
           },
           {
            "bin_start": 169.2,
            "bin_end": 253.79999999999998,
            "count": 46
           },
           {
            "bin_start": 253.79999999999998,
            "bin_end": 338.4,
            "count": 25
           },
           {
            "bin_start": 338.4,
            "bin_end": 423,
            "count": 8
           },
           {
            "bin_start": 423,
            "bin_end": 507.59999999999997,
            "count": 9
           },
           {
            "bin_start": 507.59999999999997,
            "bin_end": 592.1999999999999,
            "count": 5
           },
           {
            "bin_start": 592.1999999999999,
            "bin_end": 676.8,
            "count": 1
           },
           {
            "bin_start": 676.8,
            "bin_end": 761.4,
            "count": 2
           },
           {
            "bin_start": 761.4,
            "bin_end": 846,
            "count": 1
           }
          ]
         }
        },
        {
         "name": "mass",
         "dtype": "float64",
         "stats": {
          "unique_count": 178,
          "nan_count": 0,
          "min": "0.0",
          "max": "67.1",
          "histogram": [
           {
            "bin_start": 0,
            "bin_end": 6.709999999999999,
            "count": 2
           },
           {
            "bin_start": 6.709999999999999,
            "bin_end": 13.419999999999998,
            "count": 0
           },
           {
            "bin_start": 13.419999999999998,
            "bin_end": 20.129999999999995,
            "count": 1
           },
           {
            "bin_start": 20.129999999999995,
            "bin_end": 26.839999999999996,
            "count": 50
           },
           {
            "bin_start": 26.839999999999996,
            "bin_end": 33.55,
            "count": 122
           },
           {
            "bin_start": 33.55,
            "bin_end": 40.25999999999999,
            "count": 115
           },
           {
            "bin_start": 40.25999999999999,
            "bin_end": 46.96999999999999,
            "count": 45
           },
           {
            "bin_start": 46.96999999999999,
            "bin_end": 53.67999999999999,
            "count": 11
           },
           {
            "bin_start": 53.67999999999999,
            "bin_end": 60.38999999999999,
            "count": 2
           },
           {
            "bin_start": 60.38999999999999,
            "bin_end": 67.1,
            "count": 1
           }
          ]
         }
        },
        {
         "name": "pedi",
         "dtype": "float64",
         "stats": {
          "unique_count": 281,
          "nan_count": 0,
          "min": "0.088",
          "max": "2.42",
          "histogram": [
           {
            "bin_start": 0.088,
            "bin_end": 0.3212,
            "count": 135
           },
           {
            "bin_start": 0.3212,
            "bin_end": 0.5544,
            "count": 94
           },
           {
            "bin_start": 0.5544,
            "bin_end": 0.7876,
            "count": 65
           },
           {
            "bin_start": 0.7876,
            "bin_end": 1.0208,
            "count": 25
           },
           {
            "bin_start": 1.0208,
            "bin_end": 1.254,
            "count": 16
           },
           {
            "bin_start": 1.254,
            "bin_end": 1.4872,
            "count": 7
           },
           {
            "bin_start": 1.4872,
            "bin_end": 1.7204,
            "count": 1
           },
           {
            "bin_start": 1.7204,
            "bin_end": 1.9536,
            "count": 2
           },
           {
            "bin_start": 1.9536,
            "bin_end": 2.1868,
            "count": 1
           },
           {
            "bin_start": 2.1868,
            "bin_end": 2.42,
            "count": 3
           }
          ]
         }
        },
        {
         "name": "age",
         "dtype": "int64",
         "stats": {
          "unique_count": 47,
          "nan_count": 0,
          "min": "21",
          "max": "81",
          "histogram": [
           {
            "bin_start": 21,
            "bin_end": 27,
            "count": 94
           },
           {
            "bin_start": 27,
            "bin_end": 33,
            "count": 70
           },
           {
            "bin_start": 33,
            "bin_end": 39,
            "count": 51
           },
           {
            "bin_start": 39,
            "bin_end": 45,
            "count": 47
           },
           {
            "bin_start": 45,
            "bin_end": 51,
            "count": 29
           },
           {
            "bin_start": 51,
            "bin_end": 57,
            "count": 25
           },
           {
            "bin_start": 57,
            "bin_end": 63,
            "count": 19
           },
           {
            "bin_start": 63,
            "bin_end": 69,
            "count": 10
           },
           {
            "bin_start": 69,
            "bin_end": 75,
            "count": 3
           },
           {
            "bin_start": 75,
            "bin_end": 81,
            "count": 1
           }
          ]
         }
        },
        {
         "name": "class",
         "dtype": "int64",
         "stats": {
          "unique_count": 2,
          "nan_count": 0,
          "min": "0",
          "max": "1",
          "histogram": [
           {
            "bin_start": 0,
            "bin_end": 0.1,
            "count": 154
           },
           {
            "bin_start": 0.1,
            "bin_end": 0.2,
            "count": 0
           },
           {
            "bin_start": 0.2,
            "bin_end": 0.30000000000000004,
            "count": 0
           },
           {
            "bin_start": 0.30000000000000004,
            "bin_end": 0.4,
            "count": 0
           },
           {
            "bin_start": 0.4,
            "bin_end": 0.5,
            "count": 0
           },
           {
            "bin_start": 0.5,
            "bin_end": 0.6000000000000001,
            "count": 0
           },
           {
            "bin_start": 0.6000000000000001,
            "bin_end": 0.7000000000000001,
            "count": 0
           },
           {
            "bin_start": 0.7000000000000001,
            "bin_end": 0.8,
            "count": 0
           },
           {
            "bin_start": 0.8,
            "bin_end": 0.9,
            "count": 0
           },
           {
            "bin_start": 0.9,
            "bin_end": 1,
            "count": 195
           }
          ]
         }
        },
        {
         "name": "_deepnote_index_column",
         "dtype": "int64"
        }
       ],
       "rows_top": [
        {
         "preg": 6,
         "plas": 148,
         "pres": 72,
         "skin": 35,
         "test": 0,
         "mass": 33.6,
         "pedi": 0.627,
         "age": 50,
         "class": 1,
         "_deepnote_index_column": 0
        },
        {
         "preg": 8,
         "plas": 183,
         "pres": 64,
         "skin": 0,
         "test": 0,
         "mass": 23.3,
         "pedi": 0.672,
         "age": 32,
         "class": 1,
         "_deepnote_index_column": 2
        },
        {
         "preg": 0,
         "plas": 137,
         "pres": 40,
         "skin": 35,
         "test": 168,
         "mass": 43.1,
         "pedi": 2.288,
         "age": 33,
         "class": 1,
         "_deepnote_index_column": 4
        },
        {
         "preg": 2,
         "plas": 197,
         "pres": 70,
         "skin": 45,
         "test": 543,
         "mass": 30.5,
         "pedi": 0.158,
         "age": 53,
         "class": 1,
         "_deepnote_index_column": 8
        },
        {
         "preg": 8,
         "plas": 125,
         "pres": 96,
         "skin": 0,
         "test": 0,
         "mass": 0,
         "pedi": 0.232,
         "age": 54,
         "class": 1,
         "_deepnote_index_column": 9
        },
        {
         "preg": 10,
         "plas": 168,
         "pres": 74,
         "skin": 0,
         "test": 0,
         "mass": 38,
         "pedi": 0.537,
         "age": 34,
         "class": 1,
         "_deepnote_index_column": 11
        },
        {
         "preg": 10,
         "plas": 139,
         "pres": 80,
         "skin": 0,
         "test": 0,
         "mass": 27.1,
         "pedi": 1.441,
         "age": 57,
         "class": 0,
         "_deepnote_index_column": 12
        },
        {
         "preg": 1,
         "plas": 189,
         "pres": 60,
         "skin": 23,
         "test": 846,
         "mass": 30.1,
         "pedi": 0.398,
         "age": 59,
         "class": 1,
         "_deepnote_index_column": 13
        },
        {
         "preg": 5,
         "plas": 166,
         "pres": 72,
         "skin": 19,
         "test": 175,
         "mass": 25.8,
         "pedi": 0.587,
         "age": 51,
         "class": 1,
         "_deepnote_index_column": 14
        },
        {
         "preg": 3,
         "plas": 126,
         "pres": 88,
         "skin": 41,
         "test": 235,
         "mass": 39.3,
         "pedi": 0.704,
         "age": 27,
         "class": 0,
         "_deepnote_index_column": 20
        },
        {
         "preg": 7,
         "plas": 196,
         "pres": 90,
         "skin": 0,
         "test": 0,
         "mass": 39.8,
         "pedi": 0.451,
         "age": 41,
         "class": 1,
         "_deepnote_index_column": 22
        },
        {
         "preg": 11,
         "plas": 143,
         "pres": 94,
         "skin": 33,
         "test": 146,
         "mass": 36.6,
         "pedi": 0.254,
         "age": 51,
         "class": 1,
         "_deepnote_index_column": 24
        },
        {
         "preg": 10,
         "plas": 125,
         "pres": 70,
         "skin": 26,
         "test": 115,
         "mass": 31.1,
         "pedi": 0.205,
         "age": 41,
         "class": 1,
         "_deepnote_index_column": 25
        },
        {
         "preg": 7,
         "plas": 147,
         "pres": 76,
         "skin": 0,
         "test": 0,
         "mass": 39.4,
         "pedi": 0.257,
         "age": 43,
         "class": 1,
         "_deepnote_index_column": 26
        },
        {
         "preg": 13,
         "plas": 145,
         "pres": 82,
         "skin": 19,
         "test": 110,
         "mass": 22.2,
         "pedi": 0.245,
         "age": 57,
         "class": 0,
         "_deepnote_index_column": 28
        },
        {
         "preg": 3,
         "plas": 158,
         "pres": 76,
         "skin": 36,
         "test": 245,
         "mass": 31.6,
         "pedi": 0.851,
         "age": 28,
         "class": 1,
         "_deepnote_index_column": 31
        },
        {
         "preg": 10,
         "plas": 122,
         "pres": 78,
         "skin": 31,
         "test": 0,
         "mass": 27.6,
         "pedi": 0.512,
         "age": 45,
         "class": 0,
         "_deepnote_index_column": 34
        },
        {
         "preg": 11,
         "plas": 138,
         "pres": 76,
         "skin": 0,
         "test": 0,
         "mass": 33.2,
         "pedi": 0.42,
         "age": 35,
         "class": 0,
         "_deepnote_index_column": 36
        },
        {
         "preg": 3,
         "plas": 180,
         "pres": 64,
         "skin": 25,
         "test": 70,
         "mass": 34,
         "pedi": 0.271,
         "age": 26,
         "class": 0,
         "_deepnote_index_column": 40
        },
        {
         "preg": 7,
         "plas": 133,
         "pres": 84,
         "skin": 0,
         "test": 0,
         "mass": 40.2,
         "pedi": 0.696,
         "age": 37,
         "class": 0,
         "_deepnote_index_column": 41
        },
        {
         "preg": 9,
         "plas": 171,
         "pres": 110,
         "skin": 24,
         "test": 240,
         "mass": 45.4,
         "pedi": 0.721,
         "age": 54,
         "class": 1,
         "_deepnote_index_column": 43
        },
        {
         "preg": 7,
         "plas": 159,
         "pres": 64,
         "skin": 0,
         "test": 0,
         "mass": 27.4,
         "pedi": 0.294,
         "age": 40,
         "class": 0,
         "_deepnote_index_column": 44
        },
        {
         "preg": 0,
         "plas": 180,
         "pres": 66,
         "skin": 39,
         "test": 0,
         "mass": 42,
         "pedi": 1.893,
         "age": 25,
         "class": 1,
         "_deepnote_index_column": 45
        },
        {
         "preg": 1,
         "plas": 146,
         "pres": 56,
         "skin": 0,
         "test": 0,
         "mass": 29.7,
         "pedi": 0.564,
         "age": 29,
         "class": 0,
         "_deepnote_index_column": 46
        },
        {
         "preg": 8,
         "plas": 176,
         "pres": 90,
         "skin": 34,
         "test": 300,
         "mass": 33.7,
         "pedi": 0.467,
         "age": 58,
         "class": 1,
         "_deepnote_index_column": 53
        },
        {
         "preg": 7,
         "plas": 150,
         "pres": 66,
         "skin": 42,
         "test": 342,
         "mass": 34.7,
         "pedi": 0.718,
         "age": 42,
         "class": 0,
         "_deepnote_index_column": 54
        },
        {
         "preg": 7,
         "plas": 187,
         "pres": 68,
         "skin": 39,
         "test": 304,
         "mass": 37.7,
         "pedi": 0.254,
         "age": 41,
         "class": 1,
         "_deepnote_index_column": 56
        },
        {
         "preg": 0,
         "plas": 146,
         "pres": 82,
         "skin": 0,
         "test": 0,
         "mass": 40.5,
         "pedi": 1.781,
         "age": 44,
         "class": 0,
         "_deepnote_index_column": 58
        },
        {
         "preg": 8,
         "plas": 133,
         "pres": 72,
         "skin": 0,
         "test": 0,
         "mass": 32.9,
         "pedi": 0.27,
         "age": 39,
         "class": 1,
         "_deepnote_index_column": 61
        },
        {
         "preg": 2,
         "plas": 141,
         "pres": 58,
         "skin": 34,
         "test": 128,
         "mass": 25.4,
         "pedi": 0.699,
         "age": 24,
         "class": 0,
         "_deepnote_index_column": 63
        },
        {
         "preg": 4,
         "plas": 146,
         "pres": 85,
         "skin": 27,
         "test": 100,
         "mass": 28.9,
         "pedi": 0.189,
         "age": 27,
         "class": 0,
         "_deepnote_index_column": 69
        },
        {
         "preg": 5,
         "plas": 139,
         "pres": 64,
         "skin": 35,
         "test": 140,
         "mass": 28.6,
         "pedi": 0.411,
         "age": 26,
         "class": 0,
         "_deepnote_index_column": 71
        },
        {
         "preg": 13,
         "plas": 126,
         "pres": 90,
         "skin": 0,
         "test": 0,
         "mass": 43.4,
         "pedi": 0.583,
         "age": 42,
         "class": 1,
         "_deepnote_index_column": 72
        },
        {
         "preg": 4,
         "plas": 129,
         "pres": 86,
         "skin": 20,
         "test": 270,
         "mass": 35.1,
         "pedi": 0.231,
         "age": 23,
         "class": 0,
         "_deepnote_index_column": 73
        },
        {
         "preg": 0,
         "plas": 131,
         "pres": 0,
         "skin": 0,
         "test": 0,
         "mass": 43.2,
         "pedi": 0.27,
         "age": 26,
         "class": 1,
         "_deepnote_index_column": 78
        },
        {
         "preg": 5,
         "plas": 137,
         "pres": 108,
         "skin": 0,
         "test": 0,
         "mass": 48.8,
         "pedi": 0.227,
         "age": 37,
         "class": 1,
         "_deepnote_index_column": 84
        },
        {
         "preg": 15,
         "plas": 136,
         "pres": 70,
         "skin": 32,
         "test": 110,
         "mass": 37.1,
         "pedi": 0.153,
         "age": 43,
         "class": 1,
         "_deepnote_index_column": 88
        },
        {
         "preg": 4,
         "plas": 123,
         "pres": 80,
         "skin": 15,
         "test": 176,
         "mass": 32,
         "pedi": 0.443,
         "age": 34,
         "class": 0,
         "_deepnote_index_column": 91
        },
        {
         "preg": 4,
         "plas": 134,
         "pres": 72,
         "skin": 0,
         "test": 0,
         "mass": 23.8,
         "pedi": 0.277,
         "age": 60,
         "class": 1,
         "_deepnote_index_column": 93
        },
        {
         "preg": 2,
         "plas": 142,
         "pres": 82,
         "skin": 18,
         "test": 64,
         "mass": 24.7,
         "pedi": 0.761,
         "age": 21,
         "class": 0,
         "_deepnote_index_column": 94
        },
        {
         "preg": 6,
         "plas": 144,
         "pres": 72,
         "skin": 27,
         "test": 228,
         "mass": 33.9,
         "pedi": 0.255,
         "age": 40,
         "class": 0,
         "_deepnote_index_column": 95
        },
        {
         "preg": 1,
         "plas": 122,
         "pres": 90,
         "skin": 51,
         "test": 220,
         "mass": 49.7,
         "pedi": 0.325,
         "age": 31,
         "class": 1,
         "_deepnote_index_column": 99
        },
        {
         "preg": 1,
         "plas": 163,
         "pres": 72,
         "skin": 0,
         "test": 0,
         "mass": 39,
         "pedi": 1.222,
         "age": 33,
         "class": 1,
         "_deepnote_index_column": 100
        },
        {
         "preg": 1,
         "plas": 151,
         "pres": 60,
         "skin": 0,
         "test": 0,
         "mass": 26.1,
         "pedi": 0.179,
         "age": 22,
         "class": 0,
         "_deepnote_index_column": 101
        },
        {
         "preg": 0,
         "plas": 125,
         "pres": 96,
         "skin": 0,
         "test": 0,
         "mass": 22.5,
         "pedi": 0.262,
         "age": 21,
         "class": 0,
         "_deepnote_index_column": 102
        },
        {
         "preg": 1,
         "plas": 126,
         "pres": 56,
         "skin": 29,
         "test": 152,
         "mass": 28.7,
         "pedi": 0.801,
         "age": 21,
         "class": 0,
         "_deepnote_index_column": 105
        },
        {
         "preg": 4,
         "plas": 144,
         "pres": 58,
         "skin": 28,
         "test": 140,
         "mass": 29.5,
         "pedi": 0.287,
         "age": 37,
         "class": 0,
         "_deepnote_index_column": 107
        },
        {
         "preg": 3,
         "plas": 171,
         "pres": 72,
         "skin": 33,
         "test": 135,
         "mass": 33.3,
         "pedi": 0.199,
         "age": 24,
         "class": 1,
         "_deepnote_index_column": 110
        },
        {
         "preg": 8,
         "plas": 155,
         "pres": 62,
         "skin": 26,
         "test": 495,
         "mass": 34,
         "pedi": 0.543,
         "age": 46,
         "class": 1,
         "_deepnote_index_column": 111
        },
        {
         "preg": 7,
         "plas": 160,
         "pres": 54,
         "skin": 32,
         "test": 175,
         "mass": 30.5,
         "pedi": 0.588,
         "age": 39,
         "class": 1,
         "_deepnote_index_column": 114
        },
        {
         "preg": 4,
         "plas": 146,
         "pres": 92,
         "skin": 0,
         "test": 0,
         "mass": 31.2,
         "pedi": 0.539,
         "age": 61,
         "class": 1,
         "_deepnote_index_column": 115
        },
        {
         "preg": 5,
         "plas": 124,
         "pres": 74,
         "skin": 0,
         "test": 0,
         "mass": 34,
         "pedi": 0.22,
         "age": 38,
         "class": 1,
         "_deepnote_index_column": 116
        },
        {
         "preg": 0,
         "plas": 162,
         "pres": 76,
         "skin": 56,
         "test": 100,
         "mass": 53.2,
         "pedi": 0.759,
         "age": 25,
         "class": 1,
         "_deepnote_index_column": 120
        },
        {
         "preg": 5,
         "plas": 132,
         "pres": 80,
         "skin": 0,
         "test": 0,
         "mass": 26.8,
         "pedi": 0.186,
         "age": 69,
         "class": 0,
         "_deepnote_index_column": 123
        },
        {
         "preg": 4,
         "plas": 173,
         "pres": 70,
         "skin": 14,
         "test": 168,
         "mass": 29.7,
         "pedi": 0.361,
         "age": 33,
         "class": 1,
         "_deepnote_index_column": 130
        }
       ],
       "rows_bottom": [
        {
         "preg": 9,
         "plas": 145,
         "pres": 80,
         "skin": 46,
         "test": 130,
         "mass": 37.9,
         "pedi": 0.637,
         "age": 40,
         "class": 1,
         "_deepnote_index_column": 663
        },
        {
         "preg": 4,
         "plas": 145,
         "pres": 82,
         "skin": 18,
         "test": 0,
         "mass": 32.5,
         "pedi": 0.235,
         "age": 70,
         "class": 1,
         "_deepnote_index_column": 666
        },
        {
         "preg": 9,
         "plas": 154,
         "pres": 78,
         "skin": 30,
         "test": 100,
         "mass": 30.9,
         "pedi": 0.164,
         "age": 45,
         "class": 0,
         "_deepnote_index_column": 669
        },
        {
         "preg": 6,
         "plas": 165,
         "pres": 68,
         "skin": 26,
         "test": 168,
         "mass": 33.6,
         "pedi": 0.631,
         "age": 49,
         "class": 0,
         "_deepnote_index_column": 670
        },
        {
         "preg": 3,
         "plas": 123,
         "pres": 100,
         "skin": 35,
         "test": 240,
         "mass": 57.3,
         "pedi": 0.88,
         "age": 22,
         "class": 0,
         "_deepnote_index_column": 673
        },
        {
         "preg": 6,
         "plas": 195,
         "pres": 70,
         "skin": 0,
         "test": 0,
         "mass": 30.9,
         "pedi": 0.328,
         "age": 31,
         "class": 1,
         "_deepnote_index_column": 675
        },
        {
         "preg": 9,
         "plas": 156,
         "pres": 86,
         "skin": 0,
         "test": 0,
         "mass": 24.8,
         "pedi": 0.23,
         "age": 53,
         "class": 1,
         "_deepnote_index_column": 676
        },
        {
         "preg": 3,
         "plas": 121,
         "pres": 52,
         "skin": 0,
         "test": 0,
         "mass": 36,
         "pedi": 0.127,
         "age": 25,
         "class": 1,
         "_deepnote_index_column": 678
        },
        {
         "preg": 0,
         "plas": 162,
         "pres": 76,
         "skin": 36,
         "test": 0,
         "mass": 49.6,
         "pedi": 0.364,
         "age": 26,
         "class": 1,
         "_deepnote_index_column": 681
        },
        {
         "preg": 4,
         "plas": 125,
         "pres": 80,
         "skin": 0,
         "test": 0,
         "mass": 32.3,
         "pedi": 0.536,
         "age": 27,
         "class": 1,
         "_deepnote_index_column": 683
        },
        {
         "preg": 5,
         "plas": 136,
         "pres": 82,
         "skin": 0,
         "test": 0,
         "mass": 0,
         "pedi": 0.64,
         "age": 69,
         "class": 0,
         "_deepnote_index_column": 684
        },
        {
         "preg": 2,
         "plas": 129,
         "pres": 74,
         "skin": 26,
         "test": 205,
         "mass": 33.2,
         "pedi": 0.591,
         "age": 25,
         "class": 0,
         "_deepnote_index_column": 685
        },
        {
         "preg": 3,
         "plas": 130,
         "pres": 64,
         "skin": 0,
         "test": 0,
         "mass": 23.1,
         "pedi": 0.314,
         "age": 22,
         "class": 0,
         "_deepnote_index_column": 686
        },
        {
         "preg": 1,
         "plas": 140,
         "pres": 74,
         "skin": 26,
         "test": 180,
         "mass": 24.1,
         "pedi": 0.828,
         "age": 23,
         "class": 0,
         "_deepnote_index_column": 688
        },
        {
         "preg": 1,
         "plas": 144,
         "pres": 82,
         "skin": 46,
         "test": 180,
         "mass": 46.1,
         "pedi": 0.335,
         "age": 46,
         "class": 1,
         "_deepnote_index_column": 689
        },
        {
         "preg": 13,
         "plas": 158,
         "pres": 114,
         "skin": 0,
         "test": 0,
         "mass": 42.3,
         "pedi": 0.257,
         "age": 44,
         "class": 1,
         "_deepnote_index_column": 691
        },
        {
         "preg": 2,
         "plas": 121,
         "pres": 70,
         "skin": 32,
         "test": 95,
         "mass": 39.1,
         "pedi": 0.886,
         "age": 23,
         "class": 0,
         "_deepnote_index_column": 692
        },
        {
         "preg": 7,
         "plas": 129,
         "pres": 68,
         "skin": 49,
         "test": 125,
         "mass": 38.5,
         "pedi": 0.439,
         "age": 43,
         "class": 1,
         "_deepnote_index_column": 693
        },
        {
         "preg": 7,
         "plas": 142,
         "pres": 90,
         "skin": 24,
         "test": 480,
         "mass": 30.4,
         "pedi": 0.128,
         "age": 43,
         "class": 1,
         "_deepnote_index_column": 695
        },
        {
         "preg": 3,
         "plas": 169,
         "pres": 74,
         "skin": 19,
         "test": 125,
         "mass": 29.9,
         "pedi": 0.268,
         "age": 31,
         "class": 1,
         "_deepnote_index_column": 696
        },
        {
         "preg": 4,
         "plas": 127,
         "pres": 88,
         "skin": 11,
         "test": 155,
         "mass": 34.5,
         "pedi": 0.598,
         "age": 28,
         "class": 0,
         "_deepnote_index_column": 698
        },
        {
         "preg": 2,
         "plas": 122,
         "pres": 76,
         "skin": 27,
         "test": 200,
         "mass": 35.9,
         "pedi": 0.483,
         "age": 26,
         "class": 0,
         "_deepnote_index_column": 700
        },
        {
         "preg": 6,
         "plas": 125,
         "pres": 78,
         "skin": 31,
         "test": 0,
         "mass": 27.6,
         "pedi": 0.565,
         "age": 49,
         "class": 1,
         "_deepnote_index_column": 701
        },
        {
         "preg": 1,
         "plas": 168,
         "pres": 88,
         "skin": 29,
         "test": 0,
         "mass": 35,
         "pedi": 0.905,
         "age": 52,
         "class": 1,
         "_deepnote_index_column": 702
        },
        {
         "preg": 2,
         "plas": 129,
         "pres": 0,
         "skin": 0,
         "test": 0,
         "mass": 38.5,
         "pedi": 0.304,
         "age": 41,
         "class": 0,
         "_deepnote_index_column": 703
        },
        {
         "preg": 2,
         "plas": 127,
         "pres": 46,
         "skin": 21,
         "test": 335,
         "mass": 34.4,
         "pedi": 0.176,
         "age": 22,
         "class": 0,
         "_deepnote_index_column": 707
        },
        {
         "preg": 9,
         "plas": 164,
         "pres": 78,
         "skin": 0,
         "test": 0,
         "mass": 32.8,
         "pedi": 0.148,
         "age": 45,
         "class": 1,
         "_deepnote_index_column": 708
        },
        {
         "preg": 3,
         "plas": 158,
         "pres": 64,
         "skin": 13,
         "test": 387,
         "mass": 31.2,
         "pedi": 0.295,
         "age": 24,
         "class": 0,
         "_deepnote_index_column": 710
        },
        {
         "preg": 5,
         "plas": 126,
         "pres": 78,
         "skin": 27,
         "test": 22,
         "mass": 29.6,
         "pedi": 0.439,
         "age": 40,
         "class": 0,
         "_deepnote_index_column": 711
        },
        {
         "preg": 10,
         "plas": 129,
         "pres": 62,
         "skin": 36,
         "test": 0,
         "mass": 41.2,
         "pedi": 0.441,
         "age": 38,
         "class": 1,
         "_deepnote_index_column": 712
        },
        {
         "preg": 0,
         "plas": 134,
         "pres": 58,
         "skin": 20,
         "test": 291,
         "mass": 26.4,
         "pedi": 0.352,
         "age": 21,
         "class": 0,
         "_deepnote_index_column": 713
        },
        {
         "preg": 7,
         "plas": 187,
         "pres": 50,
         "skin": 33,
         "test": 392,
         "mass": 33.9,
         "pedi": 0.826,
         "age": 34,
         "class": 1,
         "_deepnote_index_column": 715
        },
        {
         "preg": 3,
         "plas": 173,
         "pres": 78,
         "skin": 39,
         "test": 185,
         "mass": 33.8,
         "pedi": 0.97,
         "age": 31,
         "class": 1,
         "_deepnote_index_column": 716
        },
        {
         "preg": 1,
         "plas": 149,
         "pres": 68,
         "skin": 29,
         "test": 127,
         "mass": 29.3,
         "pedi": 0.349,
         "age": 42,
         "class": 1,
         "_deepnote_index_column": 722
        },
        {
         "preg": 0,
         "plas": 141,
         "pres": 84,
         "skin": 26,
         "test": 0,
         "mass": 32.4,
         "pedi": 0.433,
         "age": 22,
         "class": 0,
         "_deepnote_index_column": 727
        },
        {
         "preg": 2,
         "plas": 175,
         "pres": 88,
         "skin": 0,
         "test": 0,
         "mass": 22.9,
         "pedi": 0.326,
         "age": 22,
         "class": 0,
         "_deepnote_index_column": 728
        },
        {
         "preg": 3,
         "plas": 130,
         "pres": 78,
         "skin": 23,
         "test": 79,
         "mass": 28.4,
         "pedi": 0.323,
         "age": 34,
         "class": 1,
         "_deepnote_index_column": 730
        },
        {
         "preg": 2,
         "plas": 174,
         "pres": 88,
         "skin": 37,
         "test": 120,
         "mass": 44.5,
         "pedi": 0.646,
         "age": 24,
         "class": 1,
         "_deepnote_index_column": 732
        },
        {
         "preg": 0,
         "plas": 126,
         "pres": 86,
         "skin": 27,
         "test": 120,
         "mass": 27.4,
         "pedi": 0.515,
         "age": 21,
         "class": 0,
         "_deepnote_index_column": 736
        },
        {
         "preg": 9,
         "plas": 140,
         "pres": 94,
         "skin": 0,
         "test": 0,
         "mass": 32.7,
         "pedi": 0.734,
         "age": 45,
         "class": 1,
         "_deepnote_index_column": 743
        },
        {
         "preg": 13,
         "plas": 153,
         "pres": 88,
         "skin": 37,
         "test": 140,
         "mass": 40.6,
         "pedi": 1.174,
         "age": 39,
         "class": 0,
         "_deepnote_index_column": 744
        },
        {
         "preg": 1,
         "plas": 147,
         "pres": 94,
         "skin": 41,
         "test": 0,
         "mass": 49.3,
         "pedi": 0.358,
         "age": 27,
         "class": 1,
         "_deepnote_index_column": 746
        },
        {
         "preg": 3,
         "plas": 187,
         "pres": 70,
         "skin": 22,
         "test": 200,
         "mass": 36.4,
         "pedi": 0.408,
         "age": 36,
         "class": 1,
         "_deepnote_index_column": 748
        },
        {
         "preg": 6,
         "plas": 162,
         "pres": 62,
         "skin": 0,
         "test": 0,
         "mass": 24.3,
         "pedi": 0.178,
         "age": 50,
         "class": 1,
         "_deepnote_index_column": 749
        },
        {
         "preg": 4,
         "plas": 136,
         "pres": 70,
         "skin": 0,
         "test": 0,
         "mass": 31.2,
         "pedi": 1.182,
         "age": 22,
         "class": 1,
         "_deepnote_index_column": 750
        },
        {
         "preg": 1,
         "plas": 121,
         "pres": 78,
         "skin": 39,
         "test": 74,
         "mass": 39,
         "pedi": 0.261,
         "age": 28,
         "class": 0,
         "_deepnote_index_column": 751
        },
        {
         "preg": 0,
         "plas": 181,
         "pres": 88,
         "skin": 44,
         "test": 510,
         "mass": 43.3,
         "pedi": 0.222,
         "age": 26,
         "class": 1,
         "_deepnote_index_column": 753
        },
        {
         "preg": 8,
         "plas": 154,
         "pres": 78,
         "skin": 32,
         "test": 0,
         "mass": 32.4,
         "pedi": 0.443,
         "age": 45,
         "class": 1,
         "_deepnote_index_column": 754
        },
        {
         "preg": 1,
         "plas": 128,
         "pres": 88,
         "skin": 39,
         "test": 110,
         "mass": 36.5,
         "pedi": 1.057,
         "age": 37,
         "class": 1,
         "_deepnote_index_column": 755
        },
        {
         "preg": 7,
         "plas": 137,
         "pres": 90,
         "skin": 41,
         "test": 0,
         "mass": 32,
         "pedi": 0.391,
         "age": 39,
         "class": 0,
         "_deepnote_index_column": 756
        },
        {
         "preg": 0,
         "plas": 123,
         "pres": 72,
         "skin": 0,
         "test": 0,
         "mass": 36.3,
         "pedi": 0.258,
         "age": 52,
         "class": 1,
         "_deepnote_index_column": 757
        },
        {
         "preg": 6,
         "plas": 190,
         "pres": 92,
         "skin": 0,
         "test": 0,
         "mass": 35.5,
         "pedi": 0.278,
         "age": 66,
         "class": 1,
         "_deepnote_index_column": 759
        },
        {
         "preg": 9,
         "plas": 170,
         "pres": 74,
         "skin": 31,
         "test": 0,
         "mass": 44,
         "pedi": 0.403,
         "age": 43,
         "class": 1,
         "_deepnote_index_column": 761
        },
        {
         "preg": 2,
         "plas": 122,
         "pres": 70,
         "skin": 27,
         "test": 0,
         "mass": 36.8,
         "pedi": 0.34,
         "age": 27,
         "class": 0,
         "_deepnote_index_column": 764
        },
        {
         "preg": 5,
         "plas": 121,
         "pres": 72,
         "skin": 23,
         "test": 112,
         "mass": 26.2,
         "pedi": 0.245,
         "age": 30,
         "class": 0,
         "_deepnote_index_column": 765
        },
        {
         "preg": 1,
         "plas": 126,
         "pres": 60,
         "skin": 0,
         "test": 0,
         "mass": 30.1,
         "pedi": 0.349,
         "age": 47,
         "class": 1,
         "_deepnote_index_column": 766
        }
       ]
      },
      "text/plain": "     preg  plas  pres  skin  test  mass   pedi  age  class\n0       6   148    72    35     0  33.6  0.627   50      1\n2       8   183    64     0     0  23.3  0.672   32      1\n4       0   137    40    35   168  43.1  2.288   33      1\n8       2   197    70    45   543  30.5  0.158   53      1\n9       8   125    96     0     0   0.0  0.232   54      1\n..    ...   ...   ...   ...   ...   ...    ...  ...    ...\n759     6   190    92     0     0  35.5  0.278   66      1\n761     9   170    74    31     0  44.0  0.403   43      1\n764     2   122    70    27     0  36.8  0.340   27      0\n765     5   121    72    23   112  26.2  0.245   30      0\n766     1   126    60     0     0  30.1  0.349   47      1\n\n[349 rows x 9 columns]",
      "text/html": "<div>\n<style scoped>\n    .dataframe tbody tr th:only-of-type {\n        vertical-align: middle;\n    }\n\n    .dataframe tbody tr th {\n        vertical-align: top;\n    }\n\n    .dataframe thead th {\n        text-align: right;\n    }\n</style>\n<table border=\"1\" class=\"dataframe\">\n  <thead>\n    <tr style=\"text-align: right;\">\n      <th></th>\n      <th>preg</th>\n      <th>plas</th>\n      <th>pres</th>\n      <th>skin</th>\n      <th>test</th>\n      <th>mass</th>\n      <th>pedi</th>\n      <th>age</th>\n      <th>class</th>\n    </tr>\n  </thead>\n  <tbody>\n    <tr>\n      <th>0</th>\n      <td>6</td>\n      <td>148</td>\n      <td>72</td>\n      <td>35</td>\n      <td>0</td>\n      <td>33.6</td>\n      <td>0.627</td>\n      <td>50</td>\n      <td>1</td>\n    </tr>\n    <tr>\n      <th>2</th>\n      <td>8</td>\n      <td>183</td>\n      <td>64</td>\n      <td>0</td>\n      <td>0</td>\n      <td>23.3</td>\n      <td>0.672</td>\n      <td>32</td>\n      <td>1</td>\n    </tr>\n    <tr>\n      <th>4</th>\n      <td>0</td>\n      <td>137</td>\n      <td>40</td>\n      <td>35</td>\n      <td>168</td>\n      <td>43.1</td>\n      <td>2.288</td>\n      <td>33</td>\n      <td>1</td>\n    </tr>\n    <tr>\n      <th>8</th>\n      <td>2</td>\n      <td>197</td>\n      <td>70</td>\n      <td>45</td>\n      <td>543</td>\n      <td>30.5</td>\n      <td>0.158</td>\n      <td>53</td>\n      <td>1</td>\n    </tr>\n    <tr>\n      <th>9</th>\n      <td>8</td>\n      <td>125</td>\n      <td>96</td>\n      <td>0</td>\n      <td>0</td>\n      <td>0.0</td>\n      <td>0.232</td>\n      <td>54</td>\n      <td>1</td>\n    </tr>\n    <tr>\n      <th>...</th>\n      <td>...</td>\n      <td>...</td>\n      <td>...</td>\n      <td>...</td>\n      <td>...</td>\n      <td>...</td>\n      <td>...</td>\n      <td>...</td>\n      <td>...</td>\n    </tr>\n    <tr>\n      <th>759</th>\n      <td>6</td>\n      <td>190</td>\n      <td>92</td>\n      <td>0</td>\n      <td>0</td>\n      <td>35.5</td>\n      <td>0.278</td>\n      <td>66</td>\n      <td>1</td>\n    </tr>\n    <tr>\n      <th>761</th>\n      <td>9</td>\n      <td>170</td>\n      <td>74</td>\n      <td>31</td>\n      <td>0</td>\n      <td>44.0</td>\n      <td>0.403</td>\n      <td>43</td>\n      <td>1</td>\n    </tr>\n    <tr>\n      <th>764</th>\n      <td>2</td>\n      <td>122</td>\n      <td>70</td>\n      <td>27</td>\n      <td>0</td>\n      <td>36.8</td>\n      <td>0.340</td>\n      <td>27</td>\n      <td>0</td>\n    </tr>\n    <tr>\n      <th>765</th>\n      <td>5</td>\n      <td>121</td>\n      <td>72</td>\n      <td>23</td>\n      <td>112</td>\n      <td>26.2</td>\n      <td>0.245</td>\n      <td>30</td>\n      <td>0</td>\n    </tr>\n    <tr>\n      <th>766</th>\n      <td>1</td>\n      <td>126</td>\n      <td>60</td>\n      <td>0</td>\n      <td>0</td>\n      <td>30.1</td>\n      <td>0.349</td>\n      <td>47</td>\n      <td>1</td>\n    </tr>\n  </tbody>\n</table>\n<p>349 rows × 9 columns</p>\n</div>"
     },
     "metadata": {}
    }
   ]
  },
  {
   "cell_type": "markdown",
   "source": "Create a new dataframe that only includes people who are above the average value for each column in the dataset. In other words, find the average value for each column, and then find which users have values above all of these average column values.",
   "metadata": {
    "colab_type": "text",
    "id": "RxGIQp0JrUnq",
    "cell_id": "00020-d5d0c3ea-9655-4aa2-97dd-4bf3a09e357f",
    "deepnote_cell_type": "markdown"
   }
  },
  {
   "cell_type": "code",
   "metadata": {
    "colab_type": "code",
    "id": "Ylf4p6NNrfME",
    "colab": {},
    "cell_id": "00021-064e8e41-d624-434c-a65a-392e463c840e",
    "deepnote_to_be_reexecuted": false,
    "source_hash": "ebd8eea2",
    "execution_start": 1625603758882,
    "execution_millis": 70,
    "deepnote_cell_type": "code"
   },
   "source": "\n# data.iloc[:,0]\n\n##print(data.describe())\n# \n#newData = data.copy()# \n\nmeans = data.describe().iloc[1]\ncolumnNames = list(data.columns)\n\nfor i in range(len(means) - 1):\n    filteredData = data[(data[columnNames[i]] > means[i])]\n        \nfilteredData\n\n\n",
   "execution_count": null,
   "outputs": [
    {
     "output_type": "execute_result",
     "execution_count": 258,
     "data": {
      "application/vnd.deepnote.dataframe.v2+json": {
       "row_count": 294,
       "column_count": 9,
       "columns": [
        {
         "name": "preg",
         "dtype": "int64",
         "stats": {
          "unique_count": 17,
          "nan_count": 0,
          "min": "0",
          "max": "17",
          "histogram": [
           {
            "bin_start": 0,
            "bin_end": 1.7,
            "count": 35
           },
           {
            "bin_start": 1.7,
            "bin_end": 3.4,
            "count": 26
           },
           {
            "bin_start": 3.4,
            "bin_end": 5.1,
            "count": 55
           },
           {
            "bin_start": 5.1,
            "bin_end": 6.8,
            "count": 28
           },
           {
            "bin_start": 6.8,
            "bin_end": 8.5,
            "count": 72
           },
           {
            "bin_start": 8.5,
            "bin_end": 10.2,
            "count": 44
           },
           {
            "bin_start": 10.2,
            "bin_end": 11.9,
            "count": 11
           },
           {
            "bin_start": 11.9,
            "bin_end": 13.6,
            "count": 19
           },
           {
            "bin_start": 13.6,
            "bin_end": 15.299999999999999,
            "count": 3
           },
           {
            "bin_start": 15.299999999999999,
            "bin_end": 17,
            "count": 1
           }
          ]
         }
        },
        {
         "name": "plas",
         "dtype": "int64",
         "stats": {
          "unique_count": 119,
          "nan_count": 0,
          "min": "0",
          "max": "197",
          "histogram": [
           {
            "bin_start": 0,
            "bin_end": 19.7,
            "count": 2
           },
           {
            "bin_start": 19.7,
            "bin_end": 39.4,
            "count": 0
           },
           {
            "bin_start": 39.4,
            "bin_end": 59.099999999999994,
            "count": 3
           },
           {
            "bin_start": 59.099999999999994,
            "bin_end": 78.8,
            "count": 11
           },
           {
            "bin_start": 78.8,
            "bin_end": 98.5,
            "count": 30
           },
           {
            "bin_start": 98.5,
            "bin_end": 118.19999999999999,
            "count": 64
           },
           {
            "bin_start": 118.19999999999999,
            "bin_end": 137.9,
            "count": 69
           },
           {
            "bin_start": 137.9,
            "bin_end": 157.6,
            "count": 49
           },
           {
            "bin_start": 157.6,
            "bin_end": 177.29999999999998,
            "count": 33
           },
           {
            "bin_start": 177.29999999999998,
            "bin_end": 197,
            "count": 33
           }
          ]
         }
        },
        {
         "name": "pres",
         "dtype": "int64",
         "stats": {
          "unique_count": 40,
          "nan_count": 0,
          "min": "0",
          "max": "114",
          "histogram": [
           {
            "bin_start": 0,
            "bin_end": 11.4,
            "count": 9
           },
           {
            "bin_start": 11.4,
            "bin_end": 22.8,
            "count": 0
           },
           {
            "bin_start": 22.8,
            "bin_end": 34.2,
            "count": 0
           },
           {
            "bin_start": 34.2,
            "bin_end": 45.6,
            "count": 1
           },
           {
            "bin_start": 45.6,
            "bin_end": 57,
            "count": 7
           },
           {
            "bin_start": 57,
            "bin_end": 68.4,
            "count": 48
           },
           {
            "bin_start": 68.4,
            "bin_end": 79.8,
            "count": 115
           },
           {
            "bin_start": 79.8,
            "bin_end": 91.2,
            "count": 89
           },
           {
            "bin_start": 91.2,
            "bin_end": 102.60000000000001,
            "count": 15
           },
           {
            "bin_start": 102.60000000000001,
            "bin_end": 114,
            "count": 10
           }
          ]
         }
        },
        {
         "name": "skin",
         "dtype": "int64",
         "stats": {
          "unique_count": 41,
          "nan_count": 0,
          "min": "0",
          "max": "99",
          "histogram": [
           {
            "bin_start": 0,
            "bin_end": 9.9,
            "count": 119
           },
           {
            "bin_start": 9.9,
            "bin_end": 19.8,
            "count": 18
           },
           {
            "bin_start": 19.8,
            "bin_end": 29.700000000000003,
            "count": 53
           },
           {
            "bin_start": 29.700000000000003,
            "bin_end": 39.6,
            "count": 70
           },
           {
            "bin_start": 39.6,
            "bin_end": 49.5,
            "count": 32
           },
           {
            "bin_start": 49.5,
            "bin_end": 59.400000000000006,
            "count": 1
           },
           {
            "bin_start": 59.400000000000006,
            "bin_end": 69.3,
            "count": 0
           },
           {
            "bin_start": 69.3,
            "bin_end": 79.2,
            "count": 0
           },
           {
            "bin_start": 79.2,
            "bin_end": 89.10000000000001,
            "count": 0
           },
           {
            "bin_start": 89.10000000000001,
            "bin_end": 99,
            "count": 1
           }
          ]
         }
        },
        {
         "name": "test",
         "dtype": "int64",
         "stats": {
          "unique_count": 84,
          "nan_count": 0,
          "min": "0",
          "max": "846",
          "histogram": [
           {
            "bin_start": 0,
            "bin_end": 84.6,
            "count": 197
           },
           {
            "bin_start": 84.6,
            "bin_end": 169.2,
            "count": 46
           },
           {
            "bin_start": 169.2,
            "bin_end": 253.79999999999998,
            "count": 29
           },
           {
            "bin_start": 253.79999999999998,
            "bin_end": 338.4,
            "count": 11
           },
           {
            "bin_start": 338.4,
            "bin_end": 423,
            "count": 4
           },
           {
            "bin_start": 423,
            "bin_end": 507.59999999999997,
            "count": 3
           },
           {
            "bin_start": 507.59999999999997,
            "bin_end": 592.1999999999999,
            "count": 2
           },
           {
            "bin_start": 592.1999999999999,
            "bin_end": 676.8,
            "count": 1
           },
           {
            "bin_start": 676.8,
            "bin_end": 761.4,
            "count": 0
           },
           {
            "bin_start": 761.4,
            "bin_end": 846,
            "count": 1
           }
          ]
         }
        },
        {
         "name": "mass",
         "dtype": "float64",
         "stats": {
          "unique_count": 163,
          "nan_count": 0,
          "min": "0.0",
          "max": "52.3",
          "histogram": [
           {
            "bin_start": 0,
            "bin_end": 5.2299999999999995,
            "count": 2
           },
           {
            "bin_start": 5.2299999999999995,
            "bin_end": 10.459999999999999,
            "count": 0
           },
           {
            "bin_start": 10.459999999999999,
            "bin_end": 15.689999999999998,
            "count": 0
           },
           {
            "bin_start": 15.689999999999998,
            "bin_end": 20.919999999999998,
            "count": 3
           },
           {
            "bin_start": 20.919999999999998,
            "bin_end": 26.15,
            "count": 40
           },
           {
            "bin_start": 26.15,
            "bin_end": 31.379999999999995,
            "count": 76
           },
           {
            "bin_start": 31.379999999999995,
            "bin_end": 36.61,
            "count": 100
           },
           {
            "bin_start": 36.61,
            "bin_end": 41.839999999999996,
            "count": 49
           },
           {
            "bin_start": 41.839999999999996,
            "bin_end": 47.06999999999999,
            "count": 20
           },
           {
            "bin_start": 47.06999999999999,
            "bin_end": 52.3,
            "count": 4
           }
          ]
         }
        },
        {
         "name": "pedi",
         "dtype": "float64",
         "stats": {
          "unique_count": 241,
          "nan_count": 0,
          "min": "0.085",
          "max": "1.781",
          "histogram": [
           {
            "bin_start": 0.085,
            "bin_end": 0.2546,
            "count": 84
           },
           {
            "bin_start": 0.2546,
            "bin_end": 0.4242,
            "count": 82
           },
           {
            "bin_start": 0.4242,
            "bin_end": 0.5938,
            "count": 43
           },
           {
            "bin_start": 0.5938,
            "bin_end": 0.7634,
            "count": 39
           },
           {
            "bin_start": 0.7634,
            "bin_end": 0.9329999999999999,
            "count": 19
           },
           {
            "bin_start": 0.9329999999999999,
            "bin_end": 1.1026,
            "count": 8
           },
           {
            "bin_start": 1.1026,
            "bin_end": 1.2722,
            "count": 11
           },
           {
            "bin_start": 1.2722,
            "bin_end": 1.4418,
            "count": 5
           },
           {
            "bin_start": 1.4418,
            "bin_end": 1.6114,
            "count": 2
           },
           {
            "bin_start": 1.6114,
            "bin_end": 1.781,
            "count": 1
           }
          ]
         }
        },
        {
         "name": "age",
         "dtype": "int64",
         "stats": {
          "unique_count": 39,
          "nan_count": 0,
          "min": "34",
          "max": "81",
          "histogram": [
           {
            "bin_start": 34,
            "bin_end": 38.7,
            "count": 75
           },
           {
            "bin_start": 38.7,
            "bin_end": 43.4,
            "count": 78
           },
           {
            "bin_start": 43.4,
            "bin_end": 48.1,
            "count": 47
           },
           {
            "bin_start": 48.1,
            "bin_end": 52.8,
            "count": 29
           },
           {
            "bin_start": 52.8,
            "bin_end": 57.5,
            "count": 23
           },
           {
            "bin_start": 57.5,
            "bin_end": 62.2,
            "count": 21
           },
           {
            "bin_start": 62.2,
            "bin_end": 66.9,
            "count": 12
           },
           {
            "bin_start": 66.9,
            "bin_end": 71.6,
            "count": 7
           },
           {
            "bin_start": 71.6,
            "bin_end": 76.30000000000001,
            "count": 1
           },
           {
            "bin_start": 76.30000000000001,
            "bin_end": 81,
            "count": 1
           }
          ]
         }
        },
        {
         "name": "class",
         "dtype": "int64",
         "stats": {
          "unique_count": 2,
          "nan_count": 0,
          "min": "0",
          "max": "1",
          "histogram": [
           {
            "bin_start": 0,
            "bin_end": 0.1,
            "count": 148
           },
           {
            "bin_start": 0.1,
            "bin_end": 0.2,
            "count": 0
           },
           {
            "bin_start": 0.2,
            "bin_end": 0.30000000000000004,
            "count": 0
           },
           {
            "bin_start": 0.30000000000000004,
            "bin_end": 0.4,
            "count": 0
           },
           {
            "bin_start": 0.4,
            "bin_end": 0.5,
            "count": 0
           },
           {
            "bin_start": 0.5,
            "bin_end": 0.6000000000000001,
            "count": 0
           },
           {
            "bin_start": 0.6000000000000001,
            "bin_end": 0.7000000000000001,
            "count": 0
           },
           {
            "bin_start": 0.7000000000000001,
            "bin_end": 0.8,
            "count": 0
           },
           {
            "bin_start": 0.8,
            "bin_end": 0.9,
            "count": 0
           },
           {
            "bin_start": 0.9,
            "bin_end": 1,
            "count": 146
           }
          ]
         }
        },
        {
         "name": "_deepnote_index_column",
         "dtype": "int64"
        }
       ],
       "rows_top": [
        {
         "preg": 6,
         "plas": 148,
         "pres": 72,
         "skin": 35,
         "test": 0,
         "mass": 33.6,
         "pedi": 0.627,
         "age": 50,
         "class": 1,
         "_deepnote_index_column": 0
        },
        {
         "preg": 2,
         "plas": 197,
         "pres": 70,
         "skin": 45,
         "test": 543,
         "mass": 30.5,
         "pedi": 0.158,
         "age": 53,
         "class": 1,
         "_deepnote_index_column": 8
        },
        {
         "preg": 8,
         "plas": 125,
         "pres": 96,
         "skin": 0,
         "test": 0,
         "mass": 0,
         "pedi": 0.232,
         "age": 54,
         "class": 1,
         "_deepnote_index_column": 9
        },
        {
         "preg": 10,
         "plas": 168,
         "pres": 74,
         "skin": 0,
         "test": 0,
         "mass": 38,
         "pedi": 0.537,
         "age": 34,
         "class": 1,
         "_deepnote_index_column": 11
        },
        {
         "preg": 10,
         "plas": 139,
         "pres": 80,
         "skin": 0,
         "test": 0,
         "mass": 27.1,
         "pedi": 1.441,
         "age": 57,
         "class": 0,
         "_deepnote_index_column": 12
        },
        {
         "preg": 1,
         "plas": 189,
         "pres": 60,
         "skin": 23,
         "test": 846,
         "mass": 30.1,
         "pedi": 0.398,
         "age": 59,
         "class": 1,
         "_deepnote_index_column": 13
        },
        {
         "preg": 5,
         "plas": 166,
         "pres": 72,
         "skin": 19,
         "test": 175,
         "mass": 25.8,
         "pedi": 0.587,
         "age": 51,
         "class": 1,
         "_deepnote_index_column": 14
        },
        {
         "preg": 8,
         "plas": 99,
         "pres": 84,
         "skin": 0,
         "test": 0,
         "mass": 35.4,
         "pedi": 0.388,
         "age": 50,
         "class": 0,
         "_deepnote_index_column": 21
        },
        {
         "preg": 7,
         "plas": 196,
         "pres": 90,
         "skin": 0,
         "test": 0,
         "mass": 39.8,
         "pedi": 0.451,
         "age": 41,
         "class": 1,
         "_deepnote_index_column": 22
        },
        {
         "preg": 11,
         "plas": 143,
         "pres": 94,
         "skin": 33,
         "test": 146,
         "mass": 36.6,
         "pedi": 0.254,
         "age": 51,
         "class": 1,
         "_deepnote_index_column": 24
        },
        {
         "preg": 10,
         "plas": 125,
         "pres": 70,
         "skin": 26,
         "test": 115,
         "mass": 31.1,
         "pedi": 0.205,
         "age": 41,
         "class": 1,
         "_deepnote_index_column": 25
        },
        {
         "preg": 7,
         "plas": 147,
         "pres": 76,
         "skin": 0,
         "test": 0,
         "mass": 39.4,
         "pedi": 0.257,
         "age": 43,
         "class": 1,
         "_deepnote_index_column": 26
        },
        {
         "preg": 13,
         "plas": 145,
         "pres": 82,
         "skin": 19,
         "test": 110,
         "mass": 22.2,
         "pedi": 0.245,
         "age": 57,
         "class": 0,
         "_deepnote_index_column": 28
        },
        {
         "preg": 5,
         "plas": 117,
         "pres": 92,
         "skin": 0,
         "test": 0,
         "mass": 34.1,
         "pedi": 0.337,
         "age": 38,
         "class": 0,
         "_deepnote_index_column": 29
        },
        {
         "preg": 5,
         "plas": 109,
         "pres": 75,
         "skin": 26,
         "test": 0,
         "mass": 36,
         "pedi": 0.546,
         "age": 60,
         "class": 0,
         "_deepnote_index_column": 30
        },
        {
         "preg": 10,
         "plas": 122,
         "pres": 78,
         "skin": 31,
         "test": 0,
         "mass": 27.6,
         "pedi": 0.512,
         "age": 45,
         "class": 0,
         "_deepnote_index_column": 34
        },
        {
         "preg": 11,
         "plas": 138,
         "pres": 76,
         "skin": 0,
         "test": 0,
         "mass": 33.2,
         "pedi": 0.42,
         "age": 35,
         "class": 0,
         "_deepnote_index_column": 36
        },
        {
         "preg": 9,
         "plas": 102,
         "pres": 76,
         "skin": 37,
         "test": 0,
         "mass": 32.9,
         "pedi": 0.665,
         "age": 46,
         "class": 1,
         "_deepnote_index_column": 37
        },
        {
         "preg": 4,
         "plas": 111,
         "pres": 72,
         "skin": 47,
         "test": 207,
         "mass": 37.1,
         "pedi": 1.39,
         "age": 56,
         "class": 1,
         "_deepnote_index_column": 39
        },
        {
         "preg": 7,
         "plas": 133,
         "pres": 84,
         "skin": 0,
         "test": 0,
         "mass": 40.2,
         "pedi": 0.696,
         "age": 37,
         "class": 0,
         "_deepnote_index_column": 41
        },
        {
         "preg": 7,
         "plas": 106,
         "pres": 92,
         "skin": 18,
         "test": 0,
         "mass": 22.7,
         "pedi": 0.235,
         "age": 48,
         "class": 0,
         "_deepnote_index_column": 42
        },
        {
         "preg": 9,
         "plas": 171,
         "pres": 110,
         "skin": 24,
         "test": 240,
         "mass": 45.4,
         "pedi": 0.721,
         "age": 54,
         "class": 1,
         "_deepnote_index_column": 43
        },
        {
         "preg": 7,
         "plas": 159,
         "pres": 64,
         "skin": 0,
         "test": 0,
         "mass": 27.4,
         "pedi": 0.294,
         "age": 40,
         "class": 0,
         "_deepnote_index_column": 44
        },
        {
         "preg": 8,
         "plas": 176,
         "pres": 90,
         "skin": 34,
         "test": 300,
         "mass": 33.7,
         "pedi": 0.467,
         "age": 58,
         "class": 1,
         "_deepnote_index_column": 53
        },
        {
         "preg": 7,
         "plas": 150,
         "pres": 66,
         "skin": 42,
         "test": 342,
         "mass": 34.7,
         "pedi": 0.718,
         "age": 42,
         "class": 0,
         "_deepnote_index_column": 54
        },
        {
         "preg": 7,
         "plas": 187,
         "pres": 68,
         "skin": 39,
         "test": 304,
         "mass": 37.7,
         "pedi": 0.254,
         "age": 41,
         "class": 1,
         "_deepnote_index_column": 56
        },
        {
         "preg": 0,
         "plas": 146,
         "pres": 82,
         "skin": 0,
         "test": 0,
         "mass": 40.5,
         "pedi": 1.781,
         "age": 44,
         "class": 0,
         "_deepnote_index_column": 58
        },
        {
         "preg": 8,
         "plas": 133,
         "pres": 72,
         "skin": 0,
         "test": 0,
         "mass": 32.9,
         "pedi": 0.27,
         "age": 39,
         "class": 1,
         "_deepnote_index_column": 61
        },
        {
         "preg": 5,
         "plas": 44,
         "pres": 62,
         "skin": 0,
         "test": 0,
         "mass": 25,
         "pedi": 0.587,
         "age": 36,
         "class": 0,
         "_deepnote_index_column": 62
        },
        {
         "preg": 7,
         "plas": 114,
         "pres": 66,
         "skin": 0,
         "test": 0,
         "mass": 32.8,
         "pedi": 0.258,
         "age": 42,
         "class": 1,
         "_deepnote_index_column": 64
        },
        {
         "preg": 0,
         "plas": 109,
         "pres": 88,
         "skin": 30,
         "test": 0,
         "mass": 32.5,
         "pedi": 0.855,
         "age": 38,
         "class": 1,
         "_deepnote_index_column": 66
        },
        {
         "preg": 2,
         "plas": 109,
         "pres": 92,
         "skin": 0,
         "test": 0,
         "mass": 42.7,
         "pedi": 0.845,
         "age": 54,
         "class": 0,
         "_deepnote_index_column": 67
        },
        {
         "preg": 13,
         "plas": 126,
         "pres": 90,
         "skin": 0,
         "test": 0,
         "mass": 43.4,
         "pedi": 0.583,
         "age": 42,
         "class": 1,
         "_deepnote_index_column": 72
        },
        {
         "preg": 7,
         "plas": 62,
         "pres": 78,
         "skin": 0,
         "test": 0,
         "mass": 32.6,
         "pedi": 0.391,
         "age": 41,
         "class": 0,
         "_deepnote_index_column": 76
        },
        {
         "preg": 7,
         "plas": 83,
         "pres": 78,
         "skin": 26,
         "test": 71,
         "mass": 29.3,
         "pedi": 0.767,
         "age": 36,
         "class": 0,
         "_deepnote_index_column": 82
        },
        {
         "preg": 5,
         "plas": 137,
         "pres": 108,
         "skin": 0,
         "test": 0,
         "mass": 48.8,
         "pedi": 0.227,
         "age": 37,
         "class": 1,
         "_deepnote_index_column": 84
        },
        {
         "preg": 13,
         "plas": 106,
         "pres": 72,
         "skin": 54,
         "test": 0,
         "mass": 36.6,
         "pedi": 0.178,
         "age": 45,
         "class": 0,
         "_deepnote_index_column": 86
        },
        {
         "preg": 15,
         "plas": 136,
         "pres": 70,
         "skin": 32,
         "test": 110,
         "mass": 37.1,
         "pedi": 0.153,
         "age": 43,
         "class": 1,
         "_deepnote_index_column": 88
        },
        {
         "preg": 4,
         "plas": 123,
         "pres": 80,
         "skin": 15,
         "test": 176,
         "mass": 32,
         "pedi": 0.443,
         "age": 34,
         "class": 0,
         "_deepnote_index_column": 91
        },
        {
         "preg": 7,
         "plas": 81,
         "pres": 78,
         "skin": 40,
         "test": 48,
         "mass": 46.7,
         "pedi": 0.261,
         "age": 42,
         "class": 0,
         "_deepnote_index_column": 92
        },
        {
         "preg": 4,
         "plas": 134,
         "pres": 72,
         "skin": 0,
         "test": 0,
         "mass": 23.8,
         "pedi": 0.277,
         "age": 60,
         "class": 1,
         "_deepnote_index_column": 93
        },
        {
         "preg": 6,
         "plas": 144,
         "pres": 72,
         "skin": 27,
         "test": 228,
         "mass": 33.9,
         "pedi": 0.255,
         "age": 40,
         "class": 0,
         "_deepnote_index_column": 95
        },
        {
         "preg": 4,
         "plas": 144,
         "pres": 58,
         "skin": 28,
         "test": 140,
         "mass": 29.5,
         "pedi": 0.287,
         "age": 37,
         "class": 0,
         "_deepnote_index_column": 107
        },
        {
         "preg": 8,
         "plas": 155,
         "pres": 62,
         "skin": 26,
         "test": 495,
         "mass": 34,
         "pedi": 0.543,
         "age": 46,
         "class": 1,
         "_deepnote_index_column": 111
        },
        {
         "preg": 7,
         "plas": 160,
         "pres": 54,
         "skin": 32,
         "test": 175,
         "mass": 30.5,
         "pedi": 0.588,
         "age": 39,
         "class": 1,
         "_deepnote_index_column": 114
        },
        {
         "preg": 4,
         "plas": 146,
         "pres": 92,
         "skin": 0,
         "test": 0,
         "mass": 31.2,
         "pedi": 0.539,
         "age": 61,
         "class": 1,
         "_deepnote_index_column": 115
        },
        {
         "preg": 5,
         "plas": 124,
         "pres": 74,
         "skin": 0,
         "test": 0,
         "mass": 34,
         "pedi": 0.22,
         "age": 38,
         "class": 1,
         "_deepnote_index_column": 116
        },
        {
         "preg": 5,
         "plas": 132,
         "pres": 80,
         "skin": 0,
         "test": 0,
         "mass": 26.8,
         "pedi": 0.186,
         "age": 69,
         "class": 0,
         "_deepnote_index_column": 123
        },
        {
         "preg": 1,
         "plas": 117,
         "pres": 88,
         "skin": 24,
         "test": 145,
         "mass": 34.5,
         "pedi": 0.403,
         "age": 40,
         "class": 1,
         "_deepnote_index_column": 128
        },
        {
         "preg": 0,
         "plas": 105,
         "pres": 84,
         "skin": 0,
         "test": 0,
         "mass": 27.9,
         "pedi": 0.741,
         "age": 62,
         "class": 1,
         "_deepnote_index_column": 129
        },
        {
         "preg": 8,
         "plas": 84,
         "pres": 74,
         "skin": 31,
         "test": 0,
         "mass": 38.3,
         "pedi": 0.457,
         "age": 39,
         "class": 0,
         "_deepnote_index_column": 133
        },
        {
         "preg": 3,
         "plas": 128,
         "pres": 78,
         "skin": 0,
         "test": 0,
         "mass": 21.1,
         "pedi": 0.268,
         "age": 55,
         "class": 0,
         "_deepnote_index_column": 140
        },
        {
         "preg": 5,
         "plas": 106,
         "pres": 82,
         "skin": 30,
         "test": 0,
         "mass": 39.5,
         "pedi": 0.286,
         "age": 38,
         "class": 0,
         "_deepnote_index_column": 141
        },
        {
         "preg": 10,
         "plas": 108,
         "pres": 66,
         "skin": 0,
         "test": 0,
         "mass": 32.4,
         "pedi": 0.272,
         "age": 42,
         "class": 1,
         "_deepnote_index_column": 143
        },
        {
         "preg": 9,
         "plas": 57,
         "pres": 80,
         "skin": 37,
         "test": 0,
         "mass": 32.8,
         "pedi": 0.096,
         "age": 41,
         "class": 0,
         "_deepnote_index_column": 146
        }
       ],
       "rows_bottom": [
        {
         "preg": 13,
         "plas": 104,
         "pres": 72,
         "skin": 0,
         "test": 0,
         "mass": 31.2,
         "pedi": 0.465,
         "age": 38,
         "class": 1,
         "_deepnote_index_column": 635
        },
        {
         "preg": 5,
         "plas": 104,
         "pres": 74,
         "skin": 0,
         "test": 0,
         "mass": 28.8,
         "pedi": 0.153,
         "age": 48,
         "class": 0,
         "_deepnote_index_column": 636
        },
        {
         "preg": 6,
         "plas": 147,
         "pres": 80,
         "skin": 0,
         "test": 0,
         "mass": 29.5,
         "pedi": 0.178,
         "age": 50,
         "class": 1,
         "_deepnote_index_column": 642
        },
        {
         "preg": 11,
         "plas": 136,
         "pres": 84,
         "skin": 35,
         "test": 130,
         "mass": 28.3,
         "pedi": 0.26,
         "age": 42,
         "class": 1,
         "_deepnote_index_column": 648
        },
        {
         "preg": 1,
         "plas": 120,
         "pres": 80,
         "skin": 48,
         "test": 200,
         "mass": 38.9,
         "pedi": 1.162,
         "age": 41,
         "class": 0,
         "_deepnote_index_column": 657
        },
        {
         "preg": 11,
         "plas": 127,
         "pres": 106,
         "skin": 0,
         "test": 0,
         "mass": 39,
         "pedi": 0.19,
         "age": 51,
         "class": 0,
         "_deepnote_index_column": 658
        },
        {
         "preg": 10,
         "plas": 162,
         "pres": 84,
         "skin": 0,
         "test": 0,
         "mass": 27.7,
         "pedi": 0.182,
         "age": 54,
         "class": 0,
         "_deepnote_index_column": 660
        },
        {
         "preg": 8,
         "plas": 167,
         "pres": 106,
         "skin": 46,
         "test": 231,
         "mass": 37.6,
         "pedi": 0.165,
         "age": 43,
         "class": 1,
         "_deepnote_index_column": 662
        },
        {
         "preg": 9,
         "plas": 145,
         "pres": 80,
         "skin": 46,
         "test": 130,
         "mass": 37.9,
         "pedi": 0.637,
         "age": 40,
         "class": 1,
         "_deepnote_index_column": 663
        },
        {
         "preg": 6,
         "plas": 115,
         "pres": 60,
         "skin": 39,
         "test": 0,
         "mass": 33.7,
         "pedi": 0.245,
         "age": 40,
         "class": 1,
         "_deepnote_index_column": 664
        },
        {
         "preg": 4,
         "plas": 145,
         "pres": 82,
         "skin": 18,
         "test": 0,
         "mass": 32.5,
         "pedi": 0.235,
         "age": 70,
         "class": 1,
         "_deepnote_index_column": 666
        },
        {
         "preg": 10,
         "plas": 111,
         "pres": 70,
         "skin": 27,
         "test": 0,
         "mass": 27.5,
         "pedi": 0.141,
         "age": 40,
         "class": 1,
         "_deepnote_index_column": 667
        },
        {
         "preg": 6,
         "plas": 98,
         "pres": 58,
         "skin": 33,
         "test": 190,
         "mass": 34,
         "pedi": 0.43,
         "age": 43,
         "class": 0,
         "_deepnote_index_column": 668
        },
        {
         "preg": 9,
         "plas": 154,
         "pres": 78,
         "skin": 30,
         "test": 100,
         "mass": 30.9,
         "pedi": 0.164,
         "age": 45,
         "class": 0,
         "_deepnote_index_column": 669
        },
        {
         "preg": 6,
         "plas": 165,
         "pres": 68,
         "skin": 26,
         "test": 168,
         "mass": 33.6,
         "pedi": 0.631,
         "age": 49,
         "class": 0,
         "_deepnote_index_column": 670
        },
        {
         "preg": 10,
         "plas": 68,
         "pres": 106,
         "skin": 23,
         "test": 49,
         "mass": 35.5,
         "pedi": 0.285,
         "age": 47,
         "class": 0,
         "_deepnote_index_column": 672
        },
        {
         "preg": 8,
         "plas": 91,
         "pres": 82,
         "skin": 0,
         "test": 0,
         "mass": 35.6,
         "pedi": 0.587,
         "age": 68,
         "class": 0,
         "_deepnote_index_column": 674
        },
        {
         "preg": 9,
         "plas": 156,
         "pres": 86,
         "skin": 0,
         "test": 0,
         "mass": 24.8,
         "pedi": 0.23,
         "age": 53,
         "class": 1,
         "_deepnote_index_column": 676
        },
        {
         "preg": 5,
         "plas": 136,
         "pres": 82,
         "skin": 0,
         "test": 0,
         "mass": 0,
         "pedi": 0.64,
         "age": 69,
         "class": 0,
         "_deepnote_index_column": 684
        },
        {
         "preg": 1,
         "plas": 144,
         "pres": 82,
         "skin": 46,
         "test": 180,
         "mass": 46.1,
         "pedi": 0.335,
         "age": 46,
         "class": 1,
         "_deepnote_index_column": 689
        },
        {
         "preg": 8,
         "plas": 107,
         "pres": 80,
         "skin": 0,
         "test": 0,
         "mass": 24.6,
         "pedi": 0.856,
         "age": 34,
         "class": 0,
         "_deepnote_index_column": 690
        },
        {
         "preg": 13,
         "plas": 158,
         "pres": 114,
         "skin": 0,
         "test": 0,
         "mass": 42.3,
         "pedi": 0.257,
         "age": 44,
         "class": 1,
         "_deepnote_index_column": 691
        },
        {
         "preg": 7,
         "plas": 129,
         "pres": 68,
         "skin": 49,
         "test": 125,
         "mass": 38.5,
         "pedi": 0.439,
         "age": 43,
         "class": 1,
         "_deepnote_index_column": 693
        },
        {
         "preg": 7,
         "plas": 142,
         "pres": 90,
         "skin": 24,
         "test": 480,
         "mass": 30.4,
         "pedi": 0.128,
         "age": 43,
         "class": 1,
         "_deepnote_index_column": 695
        },
        {
         "preg": 6,
         "plas": 125,
         "pres": 78,
         "skin": 31,
         "test": 0,
         "mass": 27.6,
         "pedi": 0.565,
         "age": 49,
         "class": 1,
         "_deepnote_index_column": 701
        },
        {
         "preg": 1,
         "plas": 168,
         "pres": 88,
         "skin": 29,
         "test": 0,
         "mass": 35,
         "pedi": 0.905,
         "age": 52,
         "class": 1,
         "_deepnote_index_column": 702
        },
        {
         "preg": 2,
         "plas": 129,
         "pres": 0,
         "skin": 0,
         "test": 0,
         "mass": 38.5,
         "pedi": 0.304,
         "age": 41,
         "class": 0,
         "_deepnote_index_column": 703
        },
        {
         "preg": 9,
         "plas": 164,
         "pres": 78,
         "skin": 0,
         "test": 0,
         "mass": 32.8,
         "pedi": 0.148,
         "age": 45,
         "class": 1,
         "_deepnote_index_column": 708
        },
        {
         "preg": 5,
         "plas": 126,
         "pres": 78,
         "skin": 27,
         "test": 22,
         "mass": 29.6,
         "pedi": 0.439,
         "age": 40,
         "class": 0,
         "_deepnote_index_column": 711
        },
        {
         "preg": 10,
         "plas": 129,
         "pres": 62,
         "skin": 36,
         "test": 0,
         "mass": 41.2,
         "pedi": 0.441,
         "age": 38,
         "class": 1,
         "_deepnote_index_column": 712
        },
        {
         "preg": 7,
         "plas": 187,
         "pres": 50,
         "skin": 33,
         "test": 392,
         "mass": 33.9,
         "pedi": 0.826,
         "age": 34,
         "class": 1,
         "_deepnote_index_column": 715
        },
        {
         "preg": 10,
         "plas": 94,
         "pres": 72,
         "skin": 18,
         "test": 0,
         "mass": 23.1,
         "pedi": 0.595,
         "age": 56,
         "class": 0,
         "_deepnote_index_column": 717
        },
        {
         "preg": 5,
         "plas": 97,
         "pres": 76,
         "skin": 27,
         "test": 0,
         "mass": 35.6,
         "pedi": 0.378,
         "age": 52,
         "class": 1,
         "_deepnote_index_column": 719
        },
        {
         "preg": 4,
         "plas": 83,
         "pres": 86,
         "skin": 19,
         "test": 0,
         "mass": 29.3,
         "pedi": 0.317,
         "age": 34,
         "class": 0,
         "_deepnote_index_column": 720
        },
        {
         "preg": 1,
         "plas": 149,
         "pres": 68,
         "skin": 29,
         "test": 127,
         "mass": 29.3,
         "pedi": 0.349,
         "age": 42,
         "class": 1,
         "_deepnote_index_column": 722
        },
        {
         "preg": 5,
         "plas": 117,
         "pres": 86,
         "skin": 30,
         "test": 105,
         "mass": 39.1,
         "pedi": 0.251,
         "age": 42,
         "class": 0,
         "_deepnote_index_column": 723
        },
        {
         "preg": 1,
         "plas": 111,
         "pres": 94,
         "skin": 0,
         "test": 0,
         "mass": 32.8,
         "pedi": 0.265,
         "age": 45,
         "class": 0,
         "_deepnote_index_column": 724
        },
        {
         "preg": 4,
         "plas": 112,
         "pres": 78,
         "skin": 40,
         "test": 0,
         "mass": 39.4,
         "pedi": 0.236,
         "age": 38,
         "class": 0,
         "_deepnote_index_column": 725
        },
        {
         "preg": 3,
         "plas": 130,
         "pres": 78,
         "skin": 23,
         "test": 79,
         "mass": 28.4,
         "pedi": 0.323,
         "age": 34,
         "class": 1,
         "_deepnote_index_column": 730
        },
        {
         "preg": 2,
         "plas": 105,
         "pres": 75,
         "skin": 0,
         "test": 0,
         "mass": 23.3,
         "pedi": 0.56,
         "age": 53,
         "class": 0,
         "_deepnote_index_column": 734
        },
        {
         "preg": 8,
         "plas": 65,
         "pres": 72,
         "skin": 23,
         "test": 0,
         "mass": 32,
         "pedi": 0.6,
         "age": 42,
         "class": 0,
         "_deepnote_index_column": 737
        },
        {
         "preg": 1,
         "plas": 102,
         "pres": 74,
         "skin": 0,
         "test": 0,
         "mass": 39.5,
         "pedi": 0.293,
         "age": 42,
         "class": 1,
         "_deepnote_index_column": 739
        },
        {
         "preg": 11,
         "plas": 120,
         "pres": 80,
         "skin": 37,
         "test": 150,
         "mass": 42.3,
         "pedi": 0.785,
         "age": 48,
         "class": 1,
         "_deepnote_index_column": 740
        },
        {
         "preg": 9,
         "plas": 140,
         "pres": 94,
         "skin": 0,
         "test": 0,
         "mass": 32.7,
         "pedi": 0.734,
         "age": 45,
         "class": 1,
         "_deepnote_index_column": 743
        },
        {
         "preg": 13,
         "plas": 153,
         "pres": 88,
         "skin": 37,
         "test": 140,
         "mass": 40.6,
         "pedi": 1.174,
         "age": 39,
         "class": 0,
         "_deepnote_index_column": 744
        },
        {
         "preg": 12,
         "plas": 100,
         "pres": 84,
         "skin": 33,
         "test": 105,
         "mass": 30,
         "pedi": 0.488,
         "age": 46,
         "class": 0,
         "_deepnote_index_column": 745
        },
        {
         "preg": 3,
         "plas": 187,
         "pres": 70,
         "skin": 22,
         "test": 200,
         "mass": 36.4,
         "pedi": 0.408,
         "age": 36,
         "class": 1,
         "_deepnote_index_column": 748
        },
        {
         "preg": 6,
         "plas": 162,
         "pres": 62,
         "skin": 0,
         "test": 0,
         "mass": 24.3,
         "pedi": 0.178,
         "age": 50,
         "class": 1,
         "_deepnote_index_column": 749
        },
        {
         "preg": 8,
         "plas": 154,
         "pres": 78,
         "skin": 32,
         "test": 0,
         "mass": 32.4,
         "pedi": 0.443,
         "age": 45,
         "class": 1,
         "_deepnote_index_column": 754
        },
        {
         "preg": 1,
         "plas": 128,
         "pres": 88,
         "skin": 39,
         "test": 110,
         "mass": 36.5,
         "pedi": 1.057,
         "age": 37,
         "class": 1,
         "_deepnote_index_column": 755
        },
        {
         "preg": 7,
         "plas": 137,
         "pres": 90,
         "skin": 41,
         "test": 0,
         "mass": 32,
         "pedi": 0.391,
         "age": 39,
         "class": 0,
         "_deepnote_index_column": 756
        },
        {
         "preg": 0,
         "plas": 123,
         "pres": 72,
         "skin": 0,
         "test": 0,
         "mass": 36.3,
         "pedi": 0.258,
         "age": 52,
         "class": 1,
         "_deepnote_index_column": 757
        },
        {
         "preg": 6,
         "plas": 190,
         "pres": 92,
         "skin": 0,
         "test": 0,
         "mass": 35.5,
         "pedi": 0.278,
         "age": 66,
         "class": 1,
         "_deepnote_index_column": 759
        },
        {
         "preg": 9,
         "plas": 170,
         "pres": 74,
         "skin": 31,
         "test": 0,
         "mass": 44,
         "pedi": 0.403,
         "age": 43,
         "class": 1,
         "_deepnote_index_column": 761
        },
        {
         "preg": 10,
         "plas": 101,
         "pres": 76,
         "skin": 48,
         "test": 180,
         "mass": 32.9,
         "pedi": 0.171,
         "age": 63,
         "class": 0,
         "_deepnote_index_column": 763
        },
        {
         "preg": 1,
         "plas": 126,
         "pres": 60,
         "skin": 0,
         "test": 0,
         "mass": 30.1,
         "pedi": 0.349,
         "age": 47,
         "class": 1,
         "_deepnote_index_column": 766
        }
       ]
      },
      "text/plain": "     preg  plas  pres  skin  test  mass   pedi  age  class\n0       6   148    72    35     0  33.6  0.627   50      1\n8       2   197    70    45   543  30.5  0.158   53      1\n9       8   125    96     0     0   0.0  0.232   54      1\n11     10   168    74     0     0  38.0  0.537   34      1\n12     10   139    80     0     0  27.1  1.441   57      0\n..    ...   ...   ...   ...   ...   ...    ...  ...    ...\n757     0   123    72     0     0  36.3  0.258   52      1\n759     6   190    92     0     0  35.5  0.278   66      1\n761     9   170    74    31     0  44.0  0.403   43      1\n763    10   101    76    48   180  32.9  0.171   63      0\n766     1   126    60     0     0  30.1  0.349   47      1\n\n[294 rows x 9 columns]",
      "text/html": "<div>\n<style scoped>\n    .dataframe tbody tr th:only-of-type {\n        vertical-align: middle;\n    }\n\n    .dataframe tbody tr th {\n        vertical-align: top;\n    }\n\n    .dataframe thead th {\n        text-align: right;\n    }\n</style>\n<table border=\"1\" class=\"dataframe\">\n  <thead>\n    <tr style=\"text-align: right;\">\n      <th></th>\n      <th>preg</th>\n      <th>plas</th>\n      <th>pres</th>\n      <th>skin</th>\n      <th>test</th>\n      <th>mass</th>\n      <th>pedi</th>\n      <th>age</th>\n      <th>class</th>\n    </tr>\n  </thead>\n  <tbody>\n    <tr>\n      <th>0</th>\n      <td>6</td>\n      <td>148</td>\n      <td>72</td>\n      <td>35</td>\n      <td>0</td>\n      <td>33.6</td>\n      <td>0.627</td>\n      <td>50</td>\n      <td>1</td>\n    </tr>\n    <tr>\n      <th>8</th>\n      <td>2</td>\n      <td>197</td>\n      <td>70</td>\n      <td>45</td>\n      <td>543</td>\n      <td>30.5</td>\n      <td>0.158</td>\n      <td>53</td>\n      <td>1</td>\n    </tr>\n    <tr>\n      <th>9</th>\n      <td>8</td>\n      <td>125</td>\n      <td>96</td>\n      <td>0</td>\n      <td>0</td>\n      <td>0.0</td>\n      <td>0.232</td>\n      <td>54</td>\n      <td>1</td>\n    </tr>\n    <tr>\n      <th>11</th>\n      <td>10</td>\n      <td>168</td>\n      <td>74</td>\n      <td>0</td>\n      <td>0</td>\n      <td>38.0</td>\n      <td>0.537</td>\n      <td>34</td>\n      <td>1</td>\n    </tr>\n    <tr>\n      <th>12</th>\n      <td>10</td>\n      <td>139</td>\n      <td>80</td>\n      <td>0</td>\n      <td>0</td>\n      <td>27.1</td>\n      <td>1.441</td>\n      <td>57</td>\n      <td>0</td>\n    </tr>\n    <tr>\n      <th>...</th>\n      <td>...</td>\n      <td>...</td>\n      <td>...</td>\n      <td>...</td>\n      <td>...</td>\n      <td>...</td>\n      <td>...</td>\n      <td>...</td>\n      <td>...</td>\n    </tr>\n    <tr>\n      <th>757</th>\n      <td>0</td>\n      <td>123</td>\n      <td>72</td>\n      <td>0</td>\n      <td>0</td>\n      <td>36.3</td>\n      <td>0.258</td>\n      <td>52</td>\n      <td>1</td>\n    </tr>\n    <tr>\n      <th>759</th>\n      <td>6</td>\n      <td>190</td>\n      <td>92</td>\n      <td>0</td>\n      <td>0</td>\n      <td>35.5</td>\n      <td>0.278</td>\n      <td>66</td>\n      <td>1</td>\n    </tr>\n    <tr>\n      <th>761</th>\n      <td>9</td>\n      <td>170</td>\n      <td>74</td>\n      <td>31</td>\n      <td>0</td>\n      <td>44.0</td>\n      <td>0.403</td>\n      <td>43</td>\n      <td>1</td>\n    </tr>\n    <tr>\n      <th>763</th>\n      <td>10</td>\n      <td>101</td>\n      <td>76</td>\n      <td>48</td>\n      <td>180</td>\n      <td>32.9</td>\n      <td>0.171</td>\n      <td>63</td>\n      <td>0</td>\n    </tr>\n    <tr>\n      <th>766</th>\n      <td>1</td>\n      <td>126</td>\n      <td>60</td>\n      <td>0</td>\n      <td>0</td>\n      <td>30.1</td>\n      <td>0.349</td>\n      <td>47</td>\n      <td>1</td>\n    </tr>\n  </tbody>\n</table>\n<p>294 rows × 9 columns</p>\n</div>"
     },
     "metadata": {}
    }
   ]
  },
  {
   "cell_type": "markdown",
   "source": "*Note: the next 3 problems were not explicitly shown in our tutorial—being able to effectively google and look through documentation is a very important coding tool!* ¯\\\\\\_(ツ)_/¯",
   "metadata": {
    "id": "Cy_6ce7_8qAB",
    "colab_type": "text",
    "cell_id": "00022-a1b28b03-6953-469c-a45d-80d21b3d36f6",
    "deepnote_cell_type": "markdown"
   }
  },
  {
   "cell_type": "markdown",
   "source": "Ignoring the index (resetting the index to 0) and using the dataframe from the cell above, sort the values based on `\"skin\"`, `\"test\"`, and `\"pedi\"` values in ascending order. Please write this in one line.",
   "metadata": {
    "colab_type": "text",
    "id": "24pCgP2xbCwZ",
    "cell_id": "00023-818ed759-16d8-4469-8fcb-19c412faa4c9",
    "deepnote_cell_type": "markdown"
   }
  },
  {
   "cell_type": "code",
   "metadata": {
    "colab_type": "code",
    "id": "wXZysbVwa7i5",
    "colab": {},
    "cell_id": "00024-1c8fa3ef-1628-44ef-bef7-554c548fea45",
    "deepnote_to_be_reexecuted": false,
    "source_hash": "a12ae7fe",
    "execution_start": 1625603792219,
    "execution_millis": 60,
    "deepnote_cell_type": "code"
   },
   "source": "# YOUR CODE HERE\nsample = filteredData.sort_values(by=['skin','test',\"pedi\"], ascending=True, na_position='first')\nsample",
   "execution_count": null,
   "outputs": [
    {
     "output_type": "execute_result",
     "execution_count": 262,
     "data": {
      "application/vnd.deepnote.dataframe.v2+json": {
       "row_count": 294,
       "column_count": 9,
       "columns": [
        {
         "name": "preg",
         "dtype": "int64",
         "stats": {
          "unique_count": 17,
          "nan_count": 0,
          "min": "0",
          "max": "17",
          "histogram": [
           {
            "bin_start": 0,
            "bin_end": 1.7,
            "count": 35
           },
           {
            "bin_start": 1.7,
            "bin_end": 3.4,
            "count": 26
           },
           {
            "bin_start": 3.4,
            "bin_end": 5.1,
            "count": 55
           },
           {
            "bin_start": 5.1,
            "bin_end": 6.8,
            "count": 28
           },
           {
            "bin_start": 6.8,
            "bin_end": 8.5,
            "count": 72
           },
           {
            "bin_start": 8.5,
            "bin_end": 10.2,
            "count": 44
           },
           {
            "bin_start": 10.2,
            "bin_end": 11.9,
            "count": 11
           },
           {
            "bin_start": 11.9,
            "bin_end": 13.6,
            "count": 19
           },
           {
            "bin_start": 13.6,
            "bin_end": 15.299999999999999,
            "count": 3
           },
           {
            "bin_start": 15.299999999999999,
            "bin_end": 17,
            "count": 1
           }
          ]
         }
        },
        {
         "name": "plas",
         "dtype": "int64",
         "stats": {
          "unique_count": 119,
          "nan_count": 0,
          "min": "0",
          "max": "197",
          "histogram": [
           {
            "bin_start": 0,
            "bin_end": 19.7,
            "count": 2
           },
           {
            "bin_start": 19.7,
            "bin_end": 39.4,
            "count": 0
           },
           {
            "bin_start": 39.4,
            "bin_end": 59.099999999999994,
            "count": 3
           },
           {
            "bin_start": 59.099999999999994,
            "bin_end": 78.8,
            "count": 11
           },
           {
            "bin_start": 78.8,
            "bin_end": 98.5,
            "count": 30
           },
           {
            "bin_start": 98.5,
            "bin_end": 118.19999999999999,
            "count": 64
           },
           {
            "bin_start": 118.19999999999999,
            "bin_end": 137.9,
            "count": 69
           },
           {
            "bin_start": 137.9,
            "bin_end": 157.6,
            "count": 49
           },
           {
            "bin_start": 157.6,
            "bin_end": 177.29999999999998,
            "count": 33
           },
           {
            "bin_start": 177.29999999999998,
            "bin_end": 197,
            "count": 33
           }
          ]
         }
        },
        {
         "name": "pres",
         "dtype": "int64",
         "stats": {
          "unique_count": 40,
          "nan_count": 0,
          "min": "0",
          "max": "114",
          "histogram": [
           {
            "bin_start": 0,
            "bin_end": 11.4,
            "count": 9
           },
           {
            "bin_start": 11.4,
            "bin_end": 22.8,
            "count": 0
           },
           {
            "bin_start": 22.8,
            "bin_end": 34.2,
            "count": 0
           },
           {
            "bin_start": 34.2,
            "bin_end": 45.6,
            "count": 1
           },
           {
            "bin_start": 45.6,
            "bin_end": 57,
            "count": 7
           },
           {
            "bin_start": 57,
            "bin_end": 68.4,
            "count": 48
           },
           {
            "bin_start": 68.4,
            "bin_end": 79.8,
            "count": 115
           },
           {
            "bin_start": 79.8,
            "bin_end": 91.2,
            "count": 89
           },
           {
            "bin_start": 91.2,
            "bin_end": 102.60000000000001,
            "count": 15
           },
           {
            "bin_start": 102.60000000000001,
            "bin_end": 114,
            "count": 10
           }
          ]
         }
        },
        {
         "name": "skin",
         "dtype": "int64",
         "stats": {
          "unique_count": 41,
          "nan_count": 0,
          "min": "0",
          "max": "99",
          "histogram": [
           {
            "bin_start": 0,
            "bin_end": 9.9,
            "count": 119
           },
           {
            "bin_start": 9.9,
            "bin_end": 19.8,
            "count": 18
           },
           {
            "bin_start": 19.8,
            "bin_end": 29.700000000000003,
            "count": 53
           },
           {
            "bin_start": 29.700000000000003,
            "bin_end": 39.6,
            "count": 70
           },
           {
            "bin_start": 39.6,
            "bin_end": 49.5,
            "count": 32
           },
           {
            "bin_start": 49.5,
            "bin_end": 59.400000000000006,
            "count": 1
           },
           {
            "bin_start": 59.400000000000006,
            "bin_end": 69.3,
            "count": 0
           },
           {
            "bin_start": 69.3,
            "bin_end": 79.2,
            "count": 0
           },
           {
            "bin_start": 79.2,
            "bin_end": 89.10000000000001,
            "count": 0
           },
           {
            "bin_start": 89.10000000000001,
            "bin_end": 99,
            "count": 1
           }
          ]
         }
        },
        {
         "name": "test",
         "dtype": "int64",
         "stats": {
          "unique_count": 84,
          "nan_count": 0,
          "min": "0",
          "max": "846",
          "histogram": [
           {
            "bin_start": 0,
            "bin_end": 84.6,
            "count": 197
           },
           {
            "bin_start": 84.6,
            "bin_end": 169.2,
            "count": 46
           },
           {
            "bin_start": 169.2,
            "bin_end": 253.79999999999998,
            "count": 29
           },
           {
            "bin_start": 253.79999999999998,
            "bin_end": 338.4,
            "count": 11
           },
           {
            "bin_start": 338.4,
            "bin_end": 423,
            "count": 4
           },
           {
            "bin_start": 423,
            "bin_end": 507.59999999999997,
            "count": 3
           },
           {
            "bin_start": 507.59999999999997,
            "bin_end": 592.1999999999999,
            "count": 2
           },
           {
            "bin_start": 592.1999999999999,
            "bin_end": 676.8,
            "count": 1
           },
           {
            "bin_start": 676.8,
            "bin_end": 761.4,
            "count": 0
           },
           {
            "bin_start": 761.4,
            "bin_end": 846,
            "count": 1
           }
          ]
         }
        },
        {
         "name": "mass",
         "dtype": "float64",
         "stats": {
          "unique_count": 163,
          "nan_count": 0,
          "min": "0.0",
          "max": "52.3",
          "histogram": [
           {
            "bin_start": 0,
            "bin_end": 5.2299999999999995,
            "count": 2
           },
           {
            "bin_start": 5.2299999999999995,
            "bin_end": 10.459999999999999,
            "count": 0
           },
           {
            "bin_start": 10.459999999999999,
            "bin_end": 15.689999999999998,
            "count": 0
           },
           {
            "bin_start": 15.689999999999998,
            "bin_end": 20.919999999999998,
            "count": 3
           },
           {
            "bin_start": 20.919999999999998,
            "bin_end": 26.15,
            "count": 40
           },
           {
            "bin_start": 26.15,
            "bin_end": 31.379999999999995,
            "count": 76
           },
           {
            "bin_start": 31.379999999999995,
            "bin_end": 36.61,
            "count": 100
           },
           {
            "bin_start": 36.61,
            "bin_end": 41.839999999999996,
            "count": 49
           },
           {
            "bin_start": 41.839999999999996,
            "bin_end": 47.06999999999999,
            "count": 20
           },
           {
            "bin_start": 47.06999999999999,
            "bin_end": 52.3,
            "count": 4
           }
          ]
         }
        },
        {
         "name": "pedi",
         "dtype": "float64",
         "stats": {
          "unique_count": 241,
          "nan_count": 0,
          "min": "0.085",
          "max": "1.781",
          "histogram": [
           {
            "bin_start": 0.085,
            "bin_end": 0.2546,
            "count": 84
           },
           {
            "bin_start": 0.2546,
            "bin_end": 0.4242,
            "count": 82
           },
           {
            "bin_start": 0.4242,
            "bin_end": 0.5938,
            "count": 43
           },
           {
            "bin_start": 0.5938,
            "bin_end": 0.7634,
            "count": 39
           },
           {
            "bin_start": 0.7634,
            "bin_end": 0.9329999999999999,
            "count": 19
           },
           {
            "bin_start": 0.9329999999999999,
            "bin_end": 1.1026,
            "count": 8
           },
           {
            "bin_start": 1.1026,
            "bin_end": 1.2722,
            "count": 11
           },
           {
            "bin_start": 1.2722,
            "bin_end": 1.4418,
            "count": 5
           },
           {
            "bin_start": 1.4418,
            "bin_end": 1.6114,
            "count": 2
           },
           {
            "bin_start": 1.6114,
            "bin_end": 1.781,
            "count": 1
           }
          ]
         }
        },
        {
         "name": "age",
         "dtype": "int64",
         "stats": {
          "unique_count": 39,
          "nan_count": 0,
          "min": "34",
          "max": "81",
          "histogram": [
           {
            "bin_start": 34,
            "bin_end": 38.7,
            "count": 75
           },
           {
            "bin_start": 38.7,
            "bin_end": 43.4,
            "count": 78
           },
           {
            "bin_start": 43.4,
            "bin_end": 48.1,
            "count": 47
           },
           {
            "bin_start": 48.1,
            "bin_end": 52.8,
            "count": 29
           },
           {
            "bin_start": 52.8,
            "bin_end": 57.5,
            "count": 23
           },
           {
            "bin_start": 57.5,
            "bin_end": 62.2,
            "count": 21
           },
           {
            "bin_start": 62.2,
            "bin_end": 66.9,
            "count": 12
           },
           {
            "bin_start": 66.9,
            "bin_end": 71.6,
            "count": 7
           },
           {
            "bin_start": 71.6,
            "bin_end": 76.30000000000001,
            "count": 1
           },
           {
            "bin_start": 76.30000000000001,
            "bin_end": 81,
            "count": 1
           }
          ]
         }
        },
        {
         "name": "class",
         "dtype": "int64",
         "stats": {
          "unique_count": 2,
          "nan_count": 0,
          "min": "0",
          "max": "1",
          "histogram": [
           {
            "bin_start": 0,
            "bin_end": 0.1,
            "count": 148
           },
           {
            "bin_start": 0.1,
            "bin_end": 0.2,
            "count": 0
           },
           {
            "bin_start": 0.2,
            "bin_end": 0.30000000000000004,
            "count": 0
           },
           {
            "bin_start": 0.30000000000000004,
            "bin_end": 0.4,
            "count": 0
           },
           {
            "bin_start": 0.4,
            "bin_end": 0.5,
            "count": 0
           },
           {
            "bin_start": 0.5,
            "bin_end": 0.6000000000000001,
            "count": 0
           },
           {
            "bin_start": 0.6000000000000001,
            "bin_end": 0.7000000000000001,
            "count": 0
           },
           {
            "bin_start": 0.7000000000000001,
            "bin_end": 0.8,
            "count": 0
           },
           {
            "bin_start": 0.8,
            "bin_end": 0.9,
            "count": 0
           },
           {
            "bin_start": 0.9,
            "bin_end": 1,
            "count": 146
           }
          ]
         }
        },
        {
         "name": "_deepnote_index_column",
         "dtype": "int64"
        }
       ],
       "rows_top": [
        {
         "preg": 1,
         "plas": 173,
         "pres": 74,
         "skin": 0,
         "test": 0,
         "mass": 36.8,
         "pedi": 0.088,
         "age": 38,
         "class": 1,
         "_deepnote_index_column": 598
        },
        {
         "preg": 6,
         "plas": 125,
         "pres": 76,
         "skin": 0,
         "test": 0,
         "mass": 33.8,
         "pedi": 0.121,
         "age": 54,
         "class": 1,
         "_deepnote_index_column": 560
        },
        {
         "preg": 6,
         "plas": 194,
         "pres": 78,
         "skin": 0,
         "test": 0,
         "mass": 23.5,
         "pedi": 0.129,
         "age": 59,
         "class": 1,
         "_deepnote_index_column": 319
        },
        {
         "preg": 8,
         "plas": 143,
         "pres": 66,
         "skin": 0,
         "test": 0,
         "mass": 34.9,
         "pedi": 0.129,
         "age": 41,
         "class": 1,
         "_deepnote_index_column": 586
        },
        {
         "preg": 5,
         "plas": 168,
         "pres": 64,
         "skin": 0,
         "test": 0,
         "mass": 32.9,
         "pedi": 0.135,
         "age": 41,
         "class": 1,
         "_deepnote_index_column": 404
        },
        {
         "preg": 8,
         "plas": 188,
         "pres": 78,
         "skin": 0,
         "test": 0,
         "mass": 47.9,
         "pedi": 0.137,
         "age": 43,
         "class": 1,
         "_deepnote_index_column": 154
        },
        {
         "preg": 12,
         "plas": 106,
         "pres": 80,
         "skin": 0,
         "test": 0,
         "mass": 23.6,
         "pedi": 0.137,
         "age": 44,
         "class": 0,
         "_deepnote_index_column": 333
        },
        {
         "preg": 5,
         "plas": 128,
         "pres": 80,
         "skin": 0,
         "test": 0,
         "mass": 34.6,
         "pedi": 0.144,
         "age": 45,
         "class": 0,
         "_deepnote_index_column": 628
        },
        {
         "preg": 9,
         "plas": 164,
         "pres": 78,
         "skin": 0,
         "test": 0,
         "mass": 32.8,
         "pedi": 0.148,
         "age": 45,
         "class": 1,
         "_deepnote_index_column": 708
        },
        {
         "preg": 5,
         "plas": 162,
         "pres": 104,
         "skin": 0,
         "test": 0,
         "mass": 37.7,
         "pedi": 0.151,
         "age": 52,
         "class": 1,
         "_deepnote_index_column": 207
        },
        {
         "preg": 6,
         "plas": 137,
         "pres": 61,
         "skin": 0,
         "test": 0,
         "mass": 24.2,
         "pedi": 0.151,
         "age": 55,
         "class": 0,
         "_deepnote_index_column": 401
        },
        {
         "preg": 5,
         "plas": 104,
         "pres": 74,
         "skin": 0,
         "test": 0,
         "mass": 28.8,
         "pedi": 0.153,
         "age": 48,
         "class": 0,
         "_deepnote_index_column": 636
        },
        {
         "preg": 7,
         "plas": 161,
         "pres": 86,
         "skin": 0,
         "test": 0,
         "mass": 30.4,
         "pedi": 0.165,
         "age": 47,
         "class": 1,
         "_deepnote_index_column": 283
        },
        {
         "preg": 6,
         "plas": 147,
         "pres": 80,
         "skin": 0,
         "test": 0,
         "mass": 29.5,
         "pedi": 0.178,
         "age": 50,
         "class": 1,
         "_deepnote_index_column": 642
        },
        {
         "preg": 6,
         "plas": 162,
         "pres": 62,
         "skin": 0,
         "test": 0,
         "mass": 24.3,
         "pedi": 0.178,
         "age": 50,
         "class": 1,
         "_deepnote_index_column": 749
        },
        {
         "preg": 6,
         "plas": 102,
         "pres": 82,
         "skin": 0,
         "test": 0,
         "mass": 30.8,
         "pedi": 0.18,
         "age": 36,
         "class": 1,
         "_deepnote_index_column": 170
        },
        {
         "preg": 13,
         "plas": 76,
         "pres": 60,
         "skin": 0,
         "test": 0,
         "mass": 32.8,
         "pedi": 0.18,
         "age": 41,
         "class": 0,
         "_deepnote_index_column": 518
        },
        {
         "preg": 10,
         "plas": 162,
         "pres": 84,
         "skin": 0,
         "test": 0,
         "mass": 27.7,
         "pedi": 0.182,
         "age": 54,
         "class": 0,
         "_deepnote_index_column": 660
        },
        {
         "preg": 8,
         "plas": 120,
         "pres": 0,
         "skin": 0,
         "test": 0,
         "mass": 30,
         "pedi": 0.183,
         "age": 38,
         "class": 1,
         "_deepnote_index_column": 468
        },
        {
         "preg": 5,
         "plas": 132,
         "pres": 80,
         "skin": 0,
         "test": 0,
         "mass": 26.8,
         "pedi": 0.186,
         "age": 69,
         "class": 0,
         "_deepnote_index_column": 123
        },
        {
         "preg": 5,
         "plas": 143,
         "pres": 78,
         "skin": 0,
         "test": 0,
         "mass": 45,
         "pedi": 0.19,
         "age": 47,
         "class": 0,
         "_deepnote_index_column": 178
        },
        {
         "preg": 8,
         "plas": 100,
         "pres": 76,
         "skin": 0,
         "test": 0,
         "mass": 38.7,
         "pedi": 0.19,
         "age": 42,
         "class": 0,
         "_deepnote_index_column": 583
        },
        {
         "preg": 11,
         "plas": 127,
         "pres": 106,
         "skin": 0,
         "test": 0,
         "mass": 39,
         "pedi": 0.19,
         "age": 51,
         "class": 0,
         "_deepnote_index_column": 658
        },
        {
         "preg": 0,
         "plas": 67,
         "pres": 76,
         "skin": 0,
         "test": 0,
         "mass": 45.3,
         "pedi": 0.194,
         "age": 46,
         "class": 0,
         "_deepnote_index_column": 596
        },
        {
         "preg": 0,
         "plas": 105,
         "pres": 90,
         "skin": 0,
         "test": 0,
         "mass": 29.6,
         "pedi": 0.197,
         "age": 46,
         "class": 0,
         "_deepnote_index_column": 536
        },
        {
         "preg": 10,
         "plas": 179,
         "pres": 70,
         "skin": 0,
         "test": 0,
         "mass": 35.1,
         "pedi": 0.2,
         "age": 37,
         "class": 0,
         "_deepnote_index_column": 327
        },
        {
         "preg": 9,
         "plas": 91,
         "pres": 68,
         "skin": 0,
         "test": 0,
         "mass": 24.2,
         "pedi": 0.2,
         "age": 58,
         "class": 0,
         "_deepnote_index_column": 512
        },
        {
         "preg": 3,
         "plas": 150,
         "pres": 76,
         "skin": 0,
         "test": 0,
         "mass": 21,
         "pedi": 0.207,
         "age": 37,
         "class": 0,
         "_deepnote_index_column": 304
        },
        {
         "preg": 5,
         "plas": 158,
         "pres": 70,
         "skin": 0,
         "test": 0,
         "mass": 29.8,
         "pedi": 0.207,
         "age": 63,
         "class": 0,
         "_deepnote_index_column": 361
        },
        {
         "preg": 7,
         "plas": 119,
         "pres": 0,
         "skin": 0,
         "test": 0,
         "mass": 25.2,
         "pedi": 0.209,
         "age": 37,
         "class": 0,
         "_deepnote_index_column": 222
        },
        {
         "preg": 7,
         "plas": 136,
         "pres": 90,
         "skin": 0,
         "test": 0,
         "mass": 29.9,
         "pedi": 0.21,
         "age": 50,
         "class": 0,
         "_deepnote_index_column": 473
        },
        {
         "preg": 4,
         "plas": 183,
         "pres": 0,
         "skin": 0,
         "test": 0,
         "mass": 28.4,
         "pedi": 0.212,
         "age": 36,
         "class": 1,
         "_deepnote_index_column": 604
        },
        {
         "preg": 5,
         "plas": 147,
         "pres": 78,
         "skin": 0,
         "test": 0,
         "mass": 33.7,
         "pedi": 0.218,
         "age": 65,
         "class": 0,
         "_deepnote_index_column": 148
        },
        {
         "preg": 5,
         "plas": 124,
         "pres": 74,
         "skin": 0,
         "test": 0,
         "mass": 34,
         "pedi": 0.22,
         "age": 38,
         "class": 1,
         "_deepnote_index_column": 116
        },
        {
         "preg": 4,
         "plas": 123,
         "pres": 62,
         "skin": 0,
         "test": 0,
         "mass": 32,
         "pedi": 0.226,
         "age": 35,
         "class": 1,
         "_deepnote_index_column": 264
        },
        {
         "preg": 5,
         "plas": 137,
         "pres": 108,
         "skin": 0,
         "test": 0,
         "mass": 48.8,
         "pedi": 0.227,
         "age": 37,
         "class": 1,
         "_deepnote_index_column": 84
        },
        {
         "preg": 9,
         "plas": 156,
         "pres": 86,
         "skin": 0,
         "test": 0,
         "mass": 24.8,
         "pedi": 0.23,
         "age": 53,
         "class": 1,
         "_deepnote_index_column": 676
        },
        {
         "preg": 8,
         "plas": 125,
         "pres": 96,
         "skin": 0,
         "test": 0,
         "mass": 0,
         "pedi": 0.232,
         "age": 54,
         "class": 1,
         "_deepnote_index_column": 9
        },
        {
         "preg": 8,
         "plas": 110,
         "pres": 76,
         "skin": 0,
         "test": 0,
         "mass": 27.8,
         "pedi": 0.237,
         "age": 58,
         "class": 0,
         "_deepnote_index_column": 557
        },
        {
         "preg": 4,
         "plas": 141,
         "pres": 74,
         "skin": 0,
         "test": 0,
         "mass": 27.6,
         "pedi": 0.244,
         "age": 40,
         "class": 0,
         "_deepnote_index_column": 184
        },
        {
         "preg": 10,
         "plas": 133,
         "pres": 68,
         "skin": 0,
         "test": 0,
         "mass": 27,
         "pedi": 0.245,
         "age": 36,
         "class": 0,
         "_deepnote_index_column": 578
        },
        {
         "preg": 6,
         "plas": 114,
         "pres": 88,
         "skin": 0,
         "test": 0,
         "mass": 27.8,
         "pedi": 0.247,
         "age": 66,
         "class": 0,
         "_deepnote_index_column": 552
        },
        {
         "preg": 13,
         "plas": 106,
         "pres": 70,
         "skin": 0,
         "test": 0,
         "mass": 34.2,
         "pedi": 0.251,
         "age": 52,
         "class": 0,
         "_deepnote_index_column": 274
        },
        {
         "preg": 3,
         "plas": 122,
         "pres": 78,
         "skin": 0,
         "test": 0,
         "mass": 23,
         "pedi": 0.254,
         "age": 40,
         "class": 0,
         "_deepnote_index_column": 272
        },
        {
         "preg": 0,
         "plas": 161,
         "pres": 50,
         "skin": 0,
         "test": 0,
         "mass": 21.9,
         "pedi": 0.254,
         "age": 65,
         "class": 0,
         "_deepnote_index_column": 294
        },
        {
         "preg": 7,
         "plas": 147,
         "pres": 76,
         "skin": 0,
         "test": 0,
         "mass": 39.4,
         "pedi": 0.257,
         "age": 43,
         "class": 1,
         "_deepnote_index_column": 26
        },
        {
         "preg": 13,
         "plas": 158,
         "pres": 114,
         "skin": 0,
         "test": 0,
         "mass": 42.3,
         "pedi": 0.257,
         "age": 44,
         "class": 1,
         "_deepnote_index_column": 691
        },
        {
         "preg": 7,
         "plas": 114,
         "pres": 66,
         "skin": 0,
         "test": 0,
         "mass": 32.8,
         "pedi": 0.258,
         "age": 42,
         "class": 1,
         "_deepnote_index_column": 64
        },
        {
         "preg": 10,
         "plas": 122,
         "pres": 68,
         "skin": 0,
         "test": 0,
         "mass": 31.2,
         "pedi": 0.258,
         "age": 41,
         "class": 0,
         "_deepnote_index_column": 246
        },
        {
         "preg": 0,
         "plas": 123,
         "pres": 72,
         "skin": 0,
         "test": 0,
         "mass": 36.3,
         "pedi": 0.258,
         "age": 52,
         "class": 1,
         "_deepnote_index_column": 757
        },
        {
         "preg": 2,
         "plas": 108,
         "pres": 80,
         "skin": 0,
         "test": 0,
         "mass": 27,
         "pedi": 0.259,
         "age": 52,
         "class": 1,
         "_deepnote_index_column": 284
        },
        {
         "preg": 5,
         "plas": 112,
         "pres": 66,
         "skin": 0,
         "test": 0,
         "mass": 37.8,
         "pedi": 0.261,
         "age": 41,
         "class": 1,
         "_deepnote_index_column": 219
        },
        {
         "preg": 10,
         "plas": 75,
         "pres": 82,
         "skin": 0,
         "test": 0,
         "mass": 33.3,
         "pedi": 0.263,
         "age": 38,
         "class": 0,
         "_deepnote_index_column": 505
        },
        {
         "preg": 1,
         "plas": 111,
         "pres": 94,
         "skin": 0,
         "test": 0,
         "mass": 32.8,
         "pedi": 0.265,
         "age": 45,
         "class": 0,
         "_deepnote_index_column": 724
        },
        {
         "preg": 3,
         "plas": 128,
         "pres": 78,
         "skin": 0,
         "test": 0,
         "mass": 21.1,
         "pedi": 0.268,
         "age": 55,
         "class": 0,
         "_deepnote_index_column": 140
        }
       ],
       "rows_bottom": [
        {
         "preg": 6,
         "plas": 148,
         "pres": 72,
         "skin": 35,
         "test": 0,
         "mass": 33.6,
         "pedi": 0.627,
         "age": 50,
         "class": 1,
         "_deepnote_index_column": 0
        },
        {
         "preg": 2,
         "plas": 106,
         "pres": 64,
         "skin": 35,
         "test": 119,
         "mass": 30.5,
         "pedi": 1.4,
         "age": 34,
         "class": 0,
         "_deepnote_index_column": 147
        },
        {
         "preg": 11,
         "plas": 136,
         "pres": 84,
         "skin": 35,
         "test": 130,
         "mass": 28.3,
         "pedi": 0.26,
         "age": 42,
         "class": 1,
         "_deepnote_index_column": 648
        },
        {
         "preg": 8,
         "plas": 186,
         "pres": 90,
         "skin": 35,
         "test": 225,
         "mass": 34.5,
         "pedi": 0.423,
         "age": 37,
         "class": 1,
         "_deepnote_index_column": 545
        },
        {
         "preg": 8,
         "plas": 105,
         "pres": 100,
         "skin": 36,
         "test": 0,
         "mass": 43.3,
         "pedi": 0.239,
         "age": 45,
         "class": 1,
         "_deepnote_index_column": 387
        },
        {
         "preg": 10,
         "plas": 129,
         "pres": 62,
         "skin": 36,
         "test": 0,
         "mass": 41.2,
         "pedi": 0.441,
         "age": 38,
         "class": 1,
         "_deepnote_index_column": 712
        },
        {
         "preg": 8,
         "plas": 126,
         "pres": 88,
         "skin": 36,
         "test": 108,
         "mass": 38.5,
         "pedi": 0.349,
         "age": 49,
         "class": 0,
         "_deepnote_index_column": 345
        },
        {
         "preg": 8,
         "plas": 181,
         "pres": 68,
         "skin": 36,
         "test": 495,
         "mass": 30.1,
         "pedi": 0.615,
         "age": 60,
         "class": 1,
         "_deepnote_index_column": 186
        },
        {
         "preg": 9,
         "plas": 57,
         "pres": 80,
         "skin": 37,
         "test": 0,
         "mass": 32.8,
         "pedi": 0.096,
         "age": 41,
         "class": 0,
         "_deepnote_index_column": 146
        },
        {
         "preg": 5,
         "plas": 103,
         "pres": 108,
         "skin": 37,
         "test": 0,
         "mass": 39.2,
         "pedi": 0.305,
         "age": 65,
         "class": 0,
         "_deepnote_index_column": 362
        },
        {
         "preg": 9,
         "plas": 102,
         "pres": 76,
         "skin": 37,
         "test": 0,
         "mass": 32.9,
         "pedi": 0.665,
         "age": 46,
         "class": 1,
         "_deepnote_index_column": 37
        },
        {
         "preg": 10,
         "plas": 101,
         "pres": 86,
         "skin": 37,
         "test": 0,
         "mass": 45.6,
         "pedi": 1.136,
         "age": 38,
         "class": 1,
         "_deepnote_index_column": 270
        },
        {
         "preg": 13,
         "plas": 153,
         "pres": 88,
         "skin": 37,
         "test": 140,
         "mass": 40.6,
         "pedi": 1.174,
         "age": 39,
         "class": 0,
         "_deepnote_index_column": 744
        },
        {
         "preg": 11,
         "plas": 120,
         "pres": 80,
         "skin": 37,
         "test": 150,
         "mass": 42.3,
         "pedi": 0.785,
         "age": 48,
         "class": 1,
         "_deepnote_index_column": 740
        },
        {
         "preg": 6,
         "plas": 134,
         "pres": 80,
         "skin": 37,
         "test": 370,
         "mass": 46.2,
         "pedi": 0.238,
         "age": 46,
         "class": 1,
         "_deepnote_index_column": 231
        },
        {
         "preg": 4,
         "plas": 151,
         "pres": 90,
         "skin": 38,
         "test": 0,
         "mass": 29.7,
         "pedi": 0.294,
         "age": 36,
         "class": 0,
         "_deepnote_index_column": 160
        },
        {
         "preg": 8,
         "plas": 126,
         "pres": 74,
         "skin": 38,
         "test": 75,
         "mass": 25.9,
         "pedi": 0.162,
         "age": 39,
         "class": 0,
         "_deepnote_index_column": 478
        },
        {
         "preg": 3,
         "plas": 96,
         "pres": 78,
         "skin": 39,
         "test": 0,
         "mass": 37.3,
         "pedi": 0.238,
         "age": 40,
         "class": 0,
         "_deepnote_index_column": 504
        },
        {
         "preg": 6,
         "plas": 115,
         "pres": 60,
         "skin": 39,
         "test": 0,
         "mass": 33.7,
         "pedi": 0.245,
         "age": 40,
         "class": 1,
         "_deepnote_index_column": 664
        },
        {
         "preg": 0,
         "plas": 93,
         "pres": 100,
         "skin": 39,
         "test": 72,
         "mass": 43.4,
         "pedi": 1.021,
         "age": 35,
         "class": 0,
         "_deepnote_index_column": 379
        },
        {
         "preg": 1,
         "plas": 128,
         "pres": 88,
         "skin": 39,
         "test": 110,
         "mass": 36.5,
         "pedi": 1.057,
         "age": 37,
         "class": 1,
         "_deepnote_index_column": 755
        },
        {
         "preg": 7,
         "plas": 187,
         "pres": 68,
         "skin": 39,
         "test": 304,
         "mass": 37.7,
         "pedi": 0.254,
         "age": 41,
         "class": 1,
         "_deepnote_index_column": 56
        },
        {
         "preg": 11,
         "plas": 103,
         "pres": 68,
         "skin": 40,
         "test": 0,
         "mass": 46.2,
         "pedi": 0.126,
         "age": 42,
         "class": 0,
         "_deepnote_index_column": 558
        },
        {
         "preg": 4,
         "plas": 112,
         "pres": 78,
         "skin": 40,
         "test": 0,
         "mass": 39.4,
         "pedi": 0.236,
         "age": 38,
         "class": 0,
         "_deepnote_index_column": 725
        },
        {
         "preg": 11,
         "plas": 111,
         "pres": 84,
         "skin": 40,
         "test": 0,
         "mass": 46.8,
         "pedi": 0.925,
         "age": 45,
         "class": 1,
         "_deepnote_index_column": 590
        },
        {
         "preg": 7,
         "plas": 81,
         "pres": 78,
         "skin": 40,
         "test": 48,
         "mass": 46.7,
         "pedi": 0.261,
         "age": 42,
         "class": 0,
         "_deepnote_index_column": 92
        },
        {
         "preg": 8,
         "plas": 74,
         "pres": 70,
         "skin": 40,
         "test": 49,
         "mass": 35.3,
         "pedi": 0.705,
         "age": 39,
         "class": 0,
         "_deepnote_index_column": 462
        },
        {
         "preg": 12,
         "plas": 88,
         "pres": 74,
         "skin": 40,
         "test": 54,
         "mass": 35.3,
         "pedi": 0.378,
         "age": 48,
         "class": 0,
         "_deepnote_index_column": 358
        },
        {
         "preg": 7,
         "plas": 102,
         "pres": 74,
         "skin": 40,
         "test": 105,
         "mass": 37.2,
         "pedi": 0.204,
         "age": 45,
         "class": 0,
         "_deepnote_index_column": 161
        },
        {
         "preg": 8,
         "plas": 100,
         "pres": 74,
         "skin": 40,
         "test": 215,
         "mass": 39.4,
         "pedi": 0.661,
         "age": 43,
         "class": 1,
         "_deepnote_index_column": 540
        },
        {
         "preg": 12,
         "plas": 151,
         "pres": 70,
         "skin": 40,
         "test": 271,
         "mass": 41.8,
         "pedi": 0.742,
         "age": 38,
         "class": 1,
         "_deepnote_index_column": 215
        },
        {
         "preg": 7,
         "plas": 137,
         "pres": 90,
         "skin": 41,
         "test": 0,
         "mass": 32,
         "pedi": 0.391,
         "age": 39,
         "class": 0,
         "_deepnote_index_column": 756
        },
        {
         "preg": 6,
         "plas": 0,
         "pres": 68,
         "skin": 41,
         "test": 0,
         "mass": 39,
         "pedi": 0.727,
         "age": 41,
         "class": 1,
         "_deepnote_index_column": 502
        },
        {
         "preg": 5,
         "plas": 77,
         "pres": 82,
         "skin": 41,
         "test": 42,
         "mass": 35.8,
         "pedi": 0.156,
         "age": 35,
         "class": 0,
         "_deepnote_index_column": 302
        },
        {
         "preg": 5,
         "plas": 136,
         "pres": 84,
         "skin": 41,
         "test": 88,
         "mass": 35,
         "pedi": 0.286,
         "age": 35,
         "class": 1,
         "_deepnote_index_column": 402
        },
        {
         "preg": 17,
         "plas": 163,
         "pres": 72,
         "skin": 41,
         "test": 114,
         "mass": 40.9,
         "pedi": 0.817,
         "age": 47,
         "class": 1,
         "_deepnote_index_column": 159
        },
        {
         "preg": 8,
         "plas": 179,
         "pres": 72,
         "skin": 42,
         "test": 130,
         "mass": 32.7,
         "pedi": 0.719,
         "age": 36,
         "class": 1,
         "_deepnote_index_column": 175
        },
        {
         "preg": 7,
         "plas": 168,
         "pres": 88,
         "skin": 42,
         "test": 321,
         "mass": 38.2,
         "pedi": 0.787,
         "age": 40,
         "class": 1,
         "_deepnote_index_column": 612
        },
        {
         "preg": 7,
         "plas": 150,
         "pres": 66,
         "skin": 42,
         "test": 342,
         "mass": 34.7,
         "pedi": 0.718,
         "age": 42,
         "class": 0,
         "_deepnote_index_column": 54
        },
        {
         "preg": 1,
         "plas": 164,
         "pres": 82,
         "skin": 43,
         "test": 67,
         "mass": 32.8,
         "pedi": 0.341,
         "age": 50,
         "class": 0,
         "_deepnote_index_column": 548
        },
        {
         "preg": 12,
         "plas": 140,
         "pres": 82,
         "skin": 43,
         "test": 325,
         "mass": 39.2,
         "pedi": 0.528,
         "age": 58,
         "class": 1,
         "_deepnote_index_column": 375
        },
        {
         "preg": 7,
         "plas": 152,
         "pres": 88,
         "skin": 44,
         "test": 0,
         "mass": 50,
         "pedi": 0.337,
         "age": 36,
         "class": 1,
         "_deepnote_index_column": 155
        },
        {
         "preg": 9,
         "plas": 123,
         "pres": 70,
         "skin": 44,
         "test": 94,
         "mass": 33.1,
         "pedi": 0.374,
         "age": 40,
         "class": 0,
         "_deepnote_index_column": 191
        },
        {
         "preg": 5,
         "plas": 155,
         "pres": 84,
         "skin": 44,
         "test": 545,
         "mass": 38.7,
         "pedi": 0.619,
         "age": 34,
         "class": 0,
         "_deepnote_index_column": 286
        },
        {
         "preg": 6,
         "plas": 123,
         "pres": 72,
         "skin": 45,
         "test": 230,
         "mass": 33.6,
         "pedi": 0.733,
         "age": 34,
         "class": 0,
         "_deepnote_index_column": 594
        },
        {
         "preg": 2,
         "plas": 197,
         "pres": 70,
         "skin": 45,
         "test": 543,
         "mass": 30.5,
         "pedi": 0.158,
         "age": 53,
         "class": 1,
         "_deepnote_index_column": 8
        },
        {
         "preg": 9,
         "plas": 145,
         "pres": 80,
         "skin": 46,
         "test": 130,
         "mass": 37.9,
         "pedi": 0.637,
         "age": 40,
         "class": 1,
         "_deepnote_index_column": 663
        },
        {
         "preg": 1,
         "plas": 144,
         "pres": 82,
         "skin": 46,
         "test": 180,
         "mass": 46.1,
         "pedi": 0.335,
         "age": 46,
         "class": 1,
         "_deepnote_index_column": 689
        },
        {
         "preg": 8,
         "plas": 167,
         "pres": 106,
         "skin": 46,
         "test": 231,
         "mass": 37.6,
         "pedi": 0.165,
         "age": 43,
         "class": 1,
         "_deepnote_index_column": 662
        },
        {
         "preg": 4,
         "plas": 111,
         "pres": 72,
         "skin": 47,
         "test": 207,
         "mass": 37.1,
         "pedi": 1.39,
         "age": 56,
         "class": 1,
         "_deepnote_index_column": 39
        },
        {
         "preg": 10,
         "plas": 101,
         "pres": 76,
         "skin": 48,
         "test": 180,
         "mass": 32.9,
         "pedi": 0.171,
         "age": 63,
         "class": 0,
         "_deepnote_index_column": 763
        },
        {
         "preg": 1,
         "plas": 120,
         "pres": 80,
         "skin": 48,
         "test": 200,
         "mass": 38.9,
         "pedi": 1.162,
         "age": 41,
         "class": 0,
         "_deepnote_index_column": 657
        },
        {
         "preg": 10,
         "plas": 148,
         "pres": 84,
         "skin": 48,
         "test": 237,
         "mass": 37.6,
         "pedi": 1.001,
         "age": 51,
         "class": 1,
         "_deepnote_index_column": 458
        },
        {
         "preg": 7,
         "plas": 129,
         "pres": 68,
         "skin": 49,
         "test": 125,
         "mass": 38.5,
         "pedi": 0.439,
         "age": 43,
         "class": 1,
         "_deepnote_index_column": 693
        },
        {
         "preg": 13,
         "plas": 106,
         "pres": 72,
         "skin": 54,
         "test": 0,
         "mass": 36.6,
         "pedi": 0.178,
         "age": 45,
         "class": 0,
         "_deepnote_index_column": 86
        },
        {
         "preg": 2,
         "plas": 197,
         "pres": 70,
         "skin": 99,
         "test": 0,
         "mass": 34.7,
         "pedi": 0.575,
         "age": 62,
         "class": 1,
         "_deepnote_index_column": 579
        }
       ]
      },
      "text/plain": "     preg  plas  pres  skin  test  mass   pedi  age  class\n598     1   173    74     0     0  36.8  0.088   38      1\n560     6   125    76     0     0  33.8  0.121   54      1\n319     6   194    78     0     0  23.5  0.129   59      1\n586     8   143    66     0     0  34.9  0.129   41      1\n404     5   168    64     0     0  32.9  0.135   41      1\n..    ...   ...   ...   ...   ...   ...    ...  ...    ...\n657     1   120    80    48   200  38.9  1.162   41      0\n458    10   148    84    48   237  37.6  1.001   51      1\n693     7   129    68    49   125  38.5  0.439   43      1\n86     13   106    72    54     0  36.6  0.178   45      0\n579     2   197    70    99     0  34.7  0.575   62      1\n\n[294 rows x 9 columns]",
      "text/html": "<div>\n<style scoped>\n    .dataframe tbody tr th:only-of-type {\n        vertical-align: middle;\n    }\n\n    .dataframe tbody tr th {\n        vertical-align: top;\n    }\n\n    .dataframe thead th {\n        text-align: right;\n    }\n</style>\n<table border=\"1\" class=\"dataframe\">\n  <thead>\n    <tr style=\"text-align: right;\">\n      <th></th>\n      <th>preg</th>\n      <th>plas</th>\n      <th>pres</th>\n      <th>skin</th>\n      <th>test</th>\n      <th>mass</th>\n      <th>pedi</th>\n      <th>age</th>\n      <th>class</th>\n    </tr>\n  </thead>\n  <tbody>\n    <tr>\n      <th>598</th>\n      <td>1</td>\n      <td>173</td>\n      <td>74</td>\n      <td>0</td>\n      <td>0</td>\n      <td>36.8</td>\n      <td>0.088</td>\n      <td>38</td>\n      <td>1</td>\n    </tr>\n    <tr>\n      <th>560</th>\n      <td>6</td>\n      <td>125</td>\n      <td>76</td>\n      <td>0</td>\n      <td>0</td>\n      <td>33.8</td>\n      <td>0.121</td>\n      <td>54</td>\n      <td>1</td>\n    </tr>\n    <tr>\n      <th>319</th>\n      <td>6</td>\n      <td>194</td>\n      <td>78</td>\n      <td>0</td>\n      <td>0</td>\n      <td>23.5</td>\n      <td>0.129</td>\n      <td>59</td>\n      <td>1</td>\n    </tr>\n    <tr>\n      <th>586</th>\n      <td>8</td>\n      <td>143</td>\n      <td>66</td>\n      <td>0</td>\n      <td>0</td>\n      <td>34.9</td>\n      <td>0.129</td>\n      <td>41</td>\n      <td>1</td>\n    </tr>\n    <tr>\n      <th>404</th>\n      <td>5</td>\n      <td>168</td>\n      <td>64</td>\n      <td>0</td>\n      <td>0</td>\n      <td>32.9</td>\n      <td>0.135</td>\n      <td>41</td>\n      <td>1</td>\n    </tr>\n    <tr>\n      <th>...</th>\n      <td>...</td>\n      <td>...</td>\n      <td>...</td>\n      <td>...</td>\n      <td>...</td>\n      <td>...</td>\n      <td>...</td>\n      <td>...</td>\n      <td>...</td>\n    </tr>\n    <tr>\n      <th>657</th>\n      <td>1</td>\n      <td>120</td>\n      <td>80</td>\n      <td>48</td>\n      <td>200</td>\n      <td>38.9</td>\n      <td>1.162</td>\n      <td>41</td>\n      <td>0</td>\n    </tr>\n    <tr>\n      <th>458</th>\n      <td>10</td>\n      <td>148</td>\n      <td>84</td>\n      <td>48</td>\n      <td>237</td>\n      <td>37.6</td>\n      <td>1.001</td>\n      <td>51</td>\n      <td>1</td>\n    </tr>\n    <tr>\n      <th>693</th>\n      <td>7</td>\n      <td>129</td>\n      <td>68</td>\n      <td>49</td>\n      <td>125</td>\n      <td>38.5</td>\n      <td>0.439</td>\n      <td>43</td>\n      <td>1</td>\n    </tr>\n    <tr>\n      <th>86</th>\n      <td>13</td>\n      <td>106</td>\n      <td>72</td>\n      <td>54</td>\n      <td>0</td>\n      <td>36.6</td>\n      <td>0.178</td>\n      <td>45</td>\n      <td>0</td>\n    </tr>\n    <tr>\n      <th>579</th>\n      <td>2</td>\n      <td>197</td>\n      <td>70</td>\n      <td>99</td>\n      <td>0</td>\n      <td>34.7</td>\n      <td>0.575</td>\n      <td>62</td>\n      <td>1</td>\n    </tr>\n  </tbody>\n</table>\n<p>294 rows × 9 columns</p>\n</div>"
     },
     "metadata": {}
    }
   ]
  },
  {
   "cell_type": "markdown",
   "source": "Now let's find the 4 largest values for `\"age\"`",
   "metadata": {
    "colab_type": "text",
    "id": "BIJkXsK4ch-u",
    "cell_id": "00025-31c03cc1-a702-4c90-89f0-dab8fb9b51bf",
    "deepnote_cell_type": "markdown"
   }
  },
  {
   "cell_type": "code",
   "metadata": {
    "colab_type": "code",
    "id": "kSl28jLLdAF9",
    "colab": {},
    "cell_id": "00026-9728e4ca-d0d3-4d8c-a818-707a90e9e5d3",
    "deepnote_to_be_reexecuted": false,
    "source_hash": "56cd8f2a",
    "execution_start": 1625603788467,
    "execution_millis": 13,
    "deepnote_cell_type": "code"
   },
   "source": "filteredData['age'].sort_values(ascending=False).iloc[0:4]",
   "execution_count": null,
   "outputs": [
    {
     "output_type": "execute_result",
     "execution_count": 261,
     "data": {
      "text/plain": "459    81\n453    72\n666    70\n123    69\nName: age, dtype: int64"
     },
     "metadata": {}
    }
   ]
  },
  {
   "cell_type": "markdown",
   "source": "Now find the smallest 4 values for `\"pedi\"` and `\"plas\"` in reverse order (smallest to largest).",
   "metadata": {
    "colab_type": "text",
    "id": "fJRwe8UfqvNG",
    "cell_id": "00027-a5e12cb1-a313-47bf-9640-256181c460ad",
    "deepnote_cell_type": "markdown"
   }
  },
  {
   "cell_type": "code",
   "metadata": {
    "colab_type": "code",
    "id": "icQcbPg1quNI",
    "colab": {},
    "cell_id": "00028-2add4c0a-65b7-424e-a4d9-756817979e60",
    "deepnote_to_be_reexecuted": false,
    "source_hash": "8107a907",
    "execution_start": 1625603786908,
    "execution_millis": 14,
    "deepnote_cell_type": "code"
   },
   "source": "print(filteredData['pedi'].sort_values(ascending=True).iloc[0:4])\nfilteredData['plas'].sort_values(ascending=True).iloc[0:4]",
   "execution_count": null,
   "outputs": [
    {
     "name": "stdout",
     "text": "567    0.085\n598    0.088\n146    0.096\n560    0.121\nName: pedi, dtype: float64\n",
     "output_type": "stream"
    },
    {
     "output_type": "execute_result",
     "execution_count": 260,
     "data": {
      "text/plain": "349     0\n502     0\n62     44\n146    57\nName: plas, dtype: int64"
     },
     "metadata": {}
    }
   ]
  },
  {
   "cell_type": "code",
   "metadata": {
    "tags": [],
    "cell_id": "00029-9eddffbc-b142-4c0d-8666-0314c6edb4b1",
    "deepnote_cell_type": "code"
   },
   "source": "",
   "execution_count": null,
   "outputs": []
  },
  {
   "cell_type": "markdown",
   "source": "<a style='text-decoration:none;line-height:16px;display:flex;color:#5B5B62;padding:10px;justify-content:end;' href='https://deepnote.com?utm_source=created-in-deepnote-cell&projectId=6aa92908-daf4-47cc-a24d-1e94a9949d60' target=\"_blank\">\n<img alt='Created in deepnote.com' style='display:inline;max-height:16px;margin:0px;margin-right:7.5px;' src='data:image/svg+xml;base64,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' > </img>\nCreated in <span style='font-weight:600;margin-left:4px;'>Deepnote</span></a>",
   "metadata": {
    "tags": [],
    "created_in_deepnote_cell": true,
    "deepnote_cell_type": "markdown"
   }
  }
 ],
 "nbformat": 4,
 "nbformat_minor": 0,
 "metadata": {
  "colab": {
   "name": "Pandas_Exercises",
   "provenance": [],
   "collapsed_sections": []
  },
  "kernelspec": {
   "display_name": "Python 3",
   "language": "python",
   "name": "python3"
  },
  "language_info": {
   "codemirror_mode": {
    "name": "ipython",
    "version": 3
   },
   "file_extension": ".py",
   "mimetype": "text/x-python",
   "name": "python",
   "nbconvert_exporter": "python",
   "pygments_lexer": "ipython3",
   "version": "3.7.3"
  },
  "deepnote_notebook_id": "86faf811-6ae2-4018-b15f-d354237ab127",
  "deepnote": {},
  "deepnote_execution_queue": []
 }
}