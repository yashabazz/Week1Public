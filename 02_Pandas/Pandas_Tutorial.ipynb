{
 "cells": [
  {
   "cell_type": "markdown",
   "source": "# Pandas Tutorial \nPandas is a python library commonly used for analyzing, filtering and manipulating data. It works particularly well with any tabular (\"table like\") data, including the data sets that we will be using during Week 1. In this notebook, we will explore how pandas can be used to read, visualize, and modify data sets. For further information, see the pandas documentation website here: https://pandas.pydata.org/docs/index.html",
   "metadata": {
    "colab_type": "text",
    "id": "-UimMCmGe19F",
    "cell_id": "00000-42f644f2-544d-4640-80d3-0f147cf246bf",
    "deepnote_cell_type": "markdown"
   }
  },
  {
   "cell_type": "markdown",
   "source": "## Pima Diabetes Dataset\n\nThis notebook tutorial and most of the other tutorial notebooks for this week will use data from the Pima Diabetes Dataset. The set we will use can be accessed with the following direct link:\n\nhttps://raw.githubusercontent.com/BeaverWorksMedlytics2020/Data_Public/master/NotebookExampleData/Week1/diabetes.csv",
   "metadata": {
    "colab_type": "text",
    "id": "9h0O_mJm4tqq",
    "cell_id": "00001-1e86ebfe-44a2-492c-ba8a-55c0cb4ac523",
    "deepnote_cell_type": "markdown"
   }
  },
  {
   "cell_type": "markdown",
   "source": "### About the data:\n\nAll patients here are females at least 21 years old of Pima Native American heritage.\n\n- **Pregnancies**: Number of times pregnant\n- **Glucose**: Plasma glucose concentration 2 hours in an oral glucose tolerance test\n- **BloodPressure**: Diastolic blood pressure (mm Hg)\n- **SkinThickness**: Triceps skin fold thickness (mm)\n- **Insulin**: 2-Hour serum insulin (mu U/ml)\n- **BMI**: Body mass index (weight in kg/(height in m)^2)\n- **DiabetesPedigreeFunction**: A function that scores the likelihood of diabetes based on family history.\n- **Age**: Age (years)\n- **Outcome**: 1 (has diabetes) or 0 (no diabetes)",
   "metadata": {
    "colab_type": "text",
    "id": "zEySp-HkgFps",
    "cell_id": "00002-fcf5d0e2-032c-465a-9ab4-191482ea73e4",
    "deepnote_cell_type": "markdown"
   }
  },
  {
   "cell_type": "markdown",
   "source": "## Reading CSV files with pandas",
   "metadata": {
    "colab_type": "text",
    "id": "xPvBcxz7hiAG",
    "cell_id": "00003-f1d20c83-0413-4094-bba2-89ec476779f6",
    "deepnote_cell_type": "markdown"
   }
  },
  {
   "cell_type": "markdown",
   "source": "Pandas can read data directly from a url. There are a number of options associated with the **read_csv** function, but for now we will just pass a list of the column labels, since our CSV does not contain them. Without this option, the first row of data would be interpreted as labels.",
   "metadata": {
    "colab_type": "text",
    "id": "2IfN2ZFgs9wh",
    "cell_id": "00004-e05e70e3-3354-4cc5-94e3-c2a20f51111e",
    "deepnote_cell_type": "markdown"
   }
  },
  {
   "cell_type": "code",
   "metadata": {
    "colab_type": "code",
    "id": "5NLRPp9BdzOX",
    "colab": {},
    "cell_id": "00005-18c2a7a6-1fb8-4c48-9f1b-c4f6cfda94b9",
    "deepnote_to_be_reexecuted": false,
    "source_hash": "601fe356",
    "execution_start": 1625522755263,
    "execution_millis": 1353,
    "deepnote_cell_type": "code"
   },
   "source": "import pandas as pd\nimport numpy as np\nimport matplotlib.pyplot as plt\n\nurl = \"https://raw.githubusercontent.com/BeaverWorksMedlytics2020/Data_Public/master/NotebookExampleData/Week1/diabetes.csv\"\n\n\"\"\"\n      'preg': number of pregnancies  \n      'plas': plasma glucose concentration \n      'pres': blood pressure \n      'skin': skin thickness\n      'test': Insluin\n      'mass': BMI\n      'pedi': diabetes pedigree function\n      'age': age\n      'class': '0' means does not have diabetes and '1' means has diabetes\n\"\"\"\n\n# Define explicit list of column headers to pass to pandas\nour_names = ['preg','plas','pres','skin','test','mass','pedi','age','class']\ndata = pd.read_csv(url, names=our_names)",
   "outputs": [],
   "execution_count": null
  },
  {
   "cell_type": "markdown",
   "source": "Now that we've imported the data, let's take a closer look at the python object that was created by pandas. First, what is the object's type?",
   "metadata": {
    "colab_type": "text",
    "id": "9W7LvINwuJtV",
    "cell_id": "00006-80d674d1-da6a-4d9f-bee4-8d07fc14db4a",
    "deepnote_cell_type": "markdown"
   }
  },
  {
   "cell_type": "code",
   "metadata": {
    "colab_type": "code",
    "id": "WZ1FW3lhiPtD",
    "colab": {},
    "cell_id": "00007-ff3bd95c-71df-45f6-b088-286da2121a99",
    "deepnote_to_be_reexecuted": false,
    "source_hash": "9653dc5",
    "execution_start": 1625522781040,
    "execution_millis": 9,
    "deepnote_cell_type": "code"
   },
   "source": "type(data)",
   "outputs": [
    {
     "output_type": "execute_result",
     "execution_count": 3,
     "data": {
      "text/plain": "pandas.core.frame.DataFrame"
     },
     "metadata": {}
    }
   ],
   "execution_count": null
  },
  {
   "cell_type": "markdown",
   "source": "DataFrame is a very general structure for 2-dimensional tabular data. It contains column labels, is size-mutable, and may contain heterogeneous data (this means data may be missing, or of mixed types). There are a number of ways to get information about a DataFrame. Each of the following code segments will demonstrate one such way.",
   "metadata": {
    "colab_type": "text",
    "id": "Vrk0TLFRujUe",
    "cell_id": "00008-97cc83b2-495d-45bd-a511-86dbe4795e35",
    "deepnote_cell_type": "markdown"
   }
  },
  {
   "cell_type": "code",
   "metadata": {
    "colab_type": "code",
    "id": "SopMMUT1f-nV",
    "colab": {},
    "cell_id": "00009-df3323a7-131e-4c8a-bf24-c727f2eed29c",
    "deepnote_to_be_reexecuted": false,
    "source_hash": "c3471c45",
    "execution_start": 1625522784255,
    "execution_millis": 17,
    "deepnote_cell_type": "code"
   },
   "source": "# Show the first 10 entries in the DataFrame (from the \"head\")\ndata.head(10)",
   "outputs": [
    {
     "output_type": "execute_result",
     "execution_count": 4,
     "data": {
      "application/vnd.deepnote.dataframe.v2+json": {
       "row_count": 10,
       "column_count": 9,
       "columns": [
        {
         "name": "preg",
         "dtype": "int64",
         "stats": {
          "unique_count": 8,
          "nan_count": 0,
          "min": "0",
          "max": "10",
          "histogram": [
           {
            "bin_start": 0,
            "bin_end": 1,
            "count": 1
           },
           {
            "bin_start": 1,
            "bin_end": 2,
            "count": 2
           },
           {
            "bin_start": 2,
            "bin_end": 3,
            "count": 1
           },
           {
            "bin_start": 3,
            "bin_end": 4,
            "count": 1
           },
           {
            "bin_start": 4,
            "bin_end": 5,
            "count": 0
           },
           {
            "bin_start": 5,
            "bin_end": 6,
            "count": 1
           },
           {
            "bin_start": 6,
            "bin_end": 7,
            "count": 1
           },
           {
            "bin_start": 7,
            "bin_end": 8,
            "count": 0
           },
           {
            "bin_start": 8,
            "bin_end": 9,
            "count": 2
           },
           {
            "bin_start": 9,
            "bin_end": 10,
            "count": 1
           }
          ]
         }
        },
        {
         "name": "plas",
         "dtype": "int64",
         "stats": {
          "unique_count": 10,
          "nan_count": 0,
          "min": "78",
          "max": "197",
          "histogram": [
           {
            "bin_start": 78,
            "bin_end": 89.9,
            "count": 3
           },
           {
            "bin_start": 89.9,
            "bin_end": 101.8,
            "count": 0
           },
           {
            "bin_start": 101.8,
            "bin_end": 113.7,
            "count": 0
           },
           {
            "bin_start": 113.7,
            "bin_end": 125.6,
            "count": 3
           },
           {
            "bin_start": 125.6,
            "bin_end": 137.5,
            "count": 1
           },
           {
            "bin_start": 137.5,
            "bin_end": 149.4,
            "count": 1
           },
           {
            "bin_start": 149.4,
            "bin_end": 161.3,
            "count": 0
           },
           {
            "bin_start": 161.3,
            "bin_end": 173.2,
            "count": 0
           },
           {
            "bin_start": 173.2,
            "bin_end": 185.10000000000002,
            "count": 1
           },
           {
            "bin_start": 185.10000000000002,
            "bin_end": 197,
            "count": 1
           }
          ]
         }
        },
        {
         "name": "pres",
         "dtype": "int64",
         "stats": {
          "unique_count": 9,
          "nan_count": 0,
          "min": "0",
          "max": "96",
          "histogram": [
           {
            "bin_start": 0,
            "bin_end": 9.6,
            "count": 1
           },
           {
            "bin_start": 9.6,
            "bin_end": 19.2,
            "count": 0
           },
           {
            "bin_start": 19.2,
            "bin_end": 28.799999999999997,
            "count": 0
           },
           {
            "bin_start": 28.799999999999997,
            "bin_end": 38.4,
            "count": 0
           },
           {
            "bin_start": 38.4,
            "bin_end": 48,
            "count": 1
           },
           {
            "bin_start": 48,
            "bin_end": 57.599999999999994,
            "count": 1
           },
           {
            "bin_start": 57.599999999999994,
            "bin_end": 67.2,
            "count": 3
           },
           {
            "bin_start": 67.2,
            "bin_end": 76.8,
            "count": 3
           },
           {
            "bin_start": 76.8,
            "bin_end": 86.39999999999999,
            "count": 0
           },
           {
            "bin_start": 86.39999999999999,
            "bin_end": 96,
            "count": 1
           }
          ]
         }
        },
        {
         "name": "skin",
         "dtype": "int64",
         "stats": {
          "unique_count": 6,
          "nan_count": 0,
          "min": "0",
          "max": "45",
          "histogram": [
           {
            "bin_start": 0,
            "bin_end": 4.5,
            "count": 4
           },
           {
            "bin_start": 4.5,
            "bin_end": 9,
            "count": 0
           },
           {
            "bin_start": 9,
            "bin_end": 13.5,
            "count": 0
           },
           {
            "bin_start": 13.5,
            "bin_end": 18,
            "count": 0
           },
           {
            "bin_start": 18,
            "bin_end": 22.5,
            "count": 0
           },
           {
            "bin_start": 22.5,
            "bin_end": 27,
            "count": 1
           },
           {
            "bin_start": 27,
            "bin_end": 31.5,
            "count": 1
           },
           {
            "bin_start": 31.5,
            "bin_end": 36,
            "count": 3
           },
           {
            "bin_start": 36,
            "bin_end": 40.5,
            "count": 0
           },
           {
            "bin_start": 40.5,
            "bin_end": 45,
            "count": 1
           }
          ]
         }
        },
        {
         "name": "test",
         "dtype": "int64",
         "stats": {
          "unique_count": 5,
          "nan_count": 0,
          "min": "0",
          "max": "543",
          "histogram": [
           {
            "bin_start": 0,
            "bin_end": 54.3,
            "count": 6
           },
           {
            "bin_start": 54.3,
            "bin_end": 108.6,
            "count": 2
           },
           {
            "bin_start": 108.6,
            "bin_end": 162.89999999999998,
            "count": 0
           },
           {
            "bin_start": 162.89999999999998,
            "bin_end": 217.2,
            "count": 1
           },
           {
            "bin_start": 217.2,
            "bin_end": 271.5,
            "count": 0
           },
           {
            "bin_start": 271.5,
            "bin_end": 325.79999999999995,
            "count": 0
           },
           {
            "bin_start": 325.79999999999995,
            "bin_end": 380.09999999999997,
            "count": 0
           },
           {
            "bin_start": 380.09999999999997,
            "bin_end": 434.4,
            "count": 0
           },
           {
            "bin_start": 434.4,
            "bin_end": 488.7,
            "count": 0
           },
           {
            "bin_start": 488.7,
            "bin_end": 543,
            "count": 1
           }
          ]
         }
        },
        {
         "name": "mass",
         "dtype": "float64",
         "stats": {
          "unique_count": 10,
          "nan_count": 0,
          "min": "0.0",
          "max": "43.1",
          "histogram": [
           {
            "bin_start": 0,
            "bin_end": 4.3100000000000005,
            "count": 1
           },
           {
            "bin_start": 4.3100000000000005,
            "bin_end": 8.620000000000001,
            "count": 0
           },
           {
            "bin_start": 8.620000000000001,
            "bin_end": 12.930000000000001,
            "count": 0
           },
           {
            "bin_start": 12.930000000000001,
            "bin_end": 17.240000000000002,
            "count": 0
           },
           {
            "bin_start": 17.240000000000002,
            "bin_end": 21.550000000000004,
            "count": 0
           },
           {
            "bin_start": 21.550000000000004,
            "bin_end": 25.860000000000003,
            "count": 2
           },
           {
            "bin_start": 25.860000000000003,
            "bin_end": 30.17,
            "count": 2
           },
           {
            "bin_start": 30.17,
            "bin_end": 34.480000000000004,
            "count": 3
           },
           {
            "bin_start": 34.480000000000004,
            "bin_end": 38.790000000000006,
            "count": 1
           },
           {
            "bin_start": 38.790000000000006,
            "bin_end": 43.1,
            "count": 1
           }
          ]
         }
        },
        {
         "name": "pedi",
         "dtype": "float64",
         "stats": {
          "unique_count": 10,
          "nan_count": 0,
          "min": "0.134",
          "max": "2.288",
          "histogram": [
           {
            "bin_start": 0.134,
            "bin_end": 0.3494,
            "count": 6
           },
           {
            "bin_start": 0.3494,
            "bin_end": 0.5648,
            "count": 1
           },
           {
            "bin_start": 0.5648,
            "bin_end": 0.7801999999999999,
            "count": 2
           },
           {
            "bin_start": 0.7801999999999999,
            "bin_end": 0.9955999999999999,
            "count": 0
           },
           {
            "bin_start": 0.9955999999999999,
            "bin_end": 1.2109999999999999,
            "count": 0
           },
           {
            "bin_start": 1.2109999999999999,
            "bin_end": 1.4263999999999997,
            "count": 0
           },
           {
            "bin_start": 1.4263999999999997,
            "bin_end": 1.6418,
            "count": 0
           },
           {
            "bin_start": 1.6418,
            "bin_end": 1.8571999999999997,
            "count": 0
           },
           {
            "bin_start": 1.8571999999999997,
            "bin_end": 2.0726,
            "count": 0
           },
           {
            "bin_start": 2.0726,
            "bin_end": 2.288,
            "count": 1
           }
          ]
         }
        },
        {
         "name": "age",
         "dtype": "int64",
         "stats": {
          "unique_count": 10,
          "nan_count": 0,
          "min": "21",
          "max": "54",
          "histogram": [
           {
            "bin_start": 21,
            "bin_end": 24.3,
            "count": 1
           },
           {
            "bin_start": 24.3,
            "bin_end": 27.6,
            "count": 1
           },
           {
            "bin_start": 27.6,
            "bin_end": 30.9,
            "count": 2
           },
           {
            "bin_start": 30.9,
            "bin_end": 34.2,
            "count": 3
           },
           {
            "bin_start": 34.2,
            "bin_end": 37.5,
            "count": 0
           },
           {
            "bin_start": 37.5,
            "bin_end": 40.8,
            "count": 0
           },
           {
            "bin_start": 40.8,
            "bin_end": 44.099999999999994,
            "count": 0
           },
           {
            "bin_start": 44.099999999999994,
            "bin_end": 47.4,
            "count": 0
           },
           {
            "bin_start": 47.4,
            "bin_end": 50.7,
            "count": 1
           },
           {
            "bin_start": 50.7,
            "bin_end": 54,
            "count": 2
           }
          ]
         }
        },
        {
         "name": "class",
         "dtype": "int64",
         "stats": {
          "unique_count": 2,
          "nan_count": 0,
          "min": "0",
          "max": "1",
          "histogram": [
           {
            "bin_start": 0,
            "bin_end": 0.1,
            "count": 4
           },
           {
            "bin_start": 0.1,
            "bin_end": 0.2,
            "count": 0
           },
           {
            "bin_start": 0.2,
            "bin_end": 0.30000000000000004,
            "count": 0
           },
           {
            "bin_start": 0.30000000000000004,
            "bin_end": 0.4,
            "count": 0
           },
           {
            "bin_start": 0.4,
            "bin_end": 0.5,
            "count": 0
           },
           {
            "bin_start": 0.5,
            "bin_end": 0.6000000000000001,
            "count": 0
           },
           {
            "bin_start": 0.6000000000000001,
            "bin_end": 0.7000000000000001,
            "count": 0
           },
           {
            "bin_start": 0.7000000000000001,
            "bin_end": 0.8,
            "count": 0
           },
           {
            "bin_start": 0.8,
            "bin_end": 0.9,
            "count": 0
           },
           {
            "bin_start": 0.9,
            "bin_end": 1,
            "count": 6
           }
          ]
         }
        },
        {
         "name": "_deepnote_index_column",
         "dtype": "int64"
        }
       ],
       "rows_top": [
        {
         "preg": 6,
         "plas": 148,
         "pres": 72,
         "skin": 35,
         "test": 0,
         "mass": 33.6,
         "pedi": 0.627,
         "age": 50,
         "class": 1,
         "_deepnote_index_column": 0
        },
        {
         "preg": 1,
         "plas": 85,
         "pres": 66,
         "skin": 29,
         "test": 0,
         "mass": 26.6,
         "pedi": 0.351,
         "age": 31,
         "class": 0,
         "_deepnote_index_column": 1
        },
        {
         "preg": 8,
         "plas": 183,
         "pres": 64,
         "skin": 0,
         "test": 0,
         "mass": 23.3,
         "pedi": 0.672,
         "age": 32,
         "class": 1,
         "_deepnote_index_column": 2
        },
        {
         "preg": 1,
         "plas": 89,
         "pres": 66,
         "skin": 23,
         "test": 94,
         "mass": 28.1,
         "pedi": 0.167,
         "age": 21,
         "class": 0,
         "_deepnote_index_column": 3
        },
        {
         "preg": 0,
         "plas": 137,
         "pres": 40,
         "skin": 35,
         "test": 168,
         "mass": 43.1,
         "pedi": 2.288,
         "age": 33,
         "class": 1,
         "_deepnote_index_column": 4
        },
        {
         "preg": 5,
         "plas": 116,
         "pres": 74,
         "skin": 0,
         "test": 0,
         "mass": 25.6,
         "pedi": 0.201,
         "age": 30,
         "class": 0,
         "_deepnote_index_column": 5
        },
        {
         "preg": 3,
         "plas": 78,
         "pres": 50,
         "skin": 32,
         "test": 88,
         "mass": 31,
         "pedi": 0.248,
         "age": 26,
         "class": 1,
         "_deepnote_index_column": 6
        },
        {
         "preg": 10,
         "plas": 115,
         "pres": 0,
         "skin": 0,
         "test": 0,
         "mass": 35.3,
         "pedi": 0.134,
         "age": 29,
         "class": 0,
         "_deepnote_index_column": 7
        },
        {
         "preg": 2,
         "plas": 197,
         "pres": 70,
         "skin": 45,
         "test": 543,
         "mass": 30.5,
         "pedi": 0.158,
         "age": 53,
         "class": 1,
         "_deepnote_index_column": 8
        },
        {
         "preg": 8,
         "plas": 125,
         "pres": 96,
         "skin": 0,
         "test": 0,
         "mass": 0,
         "pedi": 0.232,
         "age": 54,
         "class": 1,
         "_deepnote_index_column": 9
        }
       ],
       "rows_bottom": null
      },
      "text/plain": "   preg  plas  pres  skin  test  mass   pedi  age  class\n0     6   148    72    35     0  33.6  0.627   50      1\n1     1    85    66    29     0  26.6  0.351   31      0\n2     8   183    64     0     0  23.3  0.672   32      1\n3     1    89    66    23    94  28.1  0.167   21      0\n4     0   137    40    35   168  43.1  2.288   33      1\n5     5   116    74     0     0  25.6  0.201   30      0\n6     3    78    50    32    88  31.0  0.248   26      1\n7    10   115     0     0     0  35.3  0.134   29      0\n8     2   197    70    45   543  30.5  0.158   53      1\n9     8   125    96     0     0   0.0  0.232   54      1",
      "text/html": "<div>\n<style scoped>\n    .dataframe tbody tr th:only-of-type {\n        vertical-align: middle;\n    }\n\n    .dataframe tbody tr th {\n        vertical-align: top;\n    }\n\n    .dataframe thead th {\n        text-align: right;\n    }\n</style>\n<table border=\"1\" class=\"dataframe\">\n  <thead>\n    <tr style=\"text-align: right;\">\n      <th></th>\n      <th>preg</th>\n      <th>plas</th>\n      <th>pres</th>\n      <th>skin</th>\n      <th>test</th>\n      <th>mass</th>\n      <th>pedi</th>\n      <th>age</th>\n      <th>class</th>\n    </tr>\n  </thead>\n  <tbody>\n    <tr>\n      <th>0</th>\n      <td>6</td>\n      <td>148</td>\n      <td>72</td>\n      <td>35</td>\n      <td>0</td>\n      <td>33.6</td>\n      <td>0.627</td>\n      <td>50</td>\n      <td>1</td>\n    </tr>\n    <tr>\n      <th>1</th>\n      <td>1</td>\n      <td>85</td>\n      <td>66</td>\n      <td>29</td>\n      <td>0</td>\n      <td>26.6</td>\n      <td>0.351</td>\n      <td>31</td>\n      <td>0</td>\n    </tr>\n    <tr>\n      <th>2</th>\n      <td>8</td>\n      <td>183</td>\n      <td>64</td>\n      <td>0</td>\n      <td>0</td>\n      <td>23.3</td>\n      <td>0.672</td>\n      <td>32</td>\n      <td>1</td>\n    </tr>\n    <tr>\n      <th>3</th>\n      <td>1</td>\n      <td>89</td>\n      <td>66</td>\n      <td>23</td>\n      <td>94</td>\n      <td>28.1</td>\n      <td>0.167</td>\n      <td>21</td>\n      <td>0</td>\n    </tr>\n    <tr>\n      <th>4</th>\n      <td>0</td>\n      <td>137</td>\n      <td>40</td>\n      <td>35</td>\n      <td>168</td>\n      <td>43.1</td>\n      <td>2.288</td>\n      <td>33</td>\n      <td>1</td>\n    </tr>\n    <tr>\n      <th>5</th>\n      <td>5</td>\n      <td>116</td>\n      <td>74</td>\n      <td>0</td>\n      <td>0</td>\n      <td>25.6</td>\n      <td>0.201</td>\n      <td>30</td>\n      <td>0</td>\n    </tr>\n    <tr>\n      <th>6</th>\n      <td>3</td>\n      <td>78</td>\n      <td>50</td>\n      <td>32</td>\n      <td>88</td>\n      <td>31.0</td>\n      <td>0.248</td>\n      <td>26</td>\n      <td>1</td>\n    </tr>\n    <tr>\n      <th>7</th>\n      <td>10</td>\n      <td>115</td>\n      <td>0</td>\n      <td>0</td>\n      <td>0</td>\n      <td>35.3</td>\n      <td>0.134</td>\n      <td>29</td>\n      <td>0</td>\n    </tr>\n    <tr>\n      <th>8</th>\n      <td>2</td>\n      <td>197</td>\n      <td>70</td>\n      <td>45</td>\n      <td>543</td>\n      <td>30.5</td>\n      <td>0.158</td>\n      <td>53</td>\n      <td>1</td>\n    </tr>\n    <tr>\n      <th>9</th>\n      <td>8</td>\n      <td>125</td>\n      <td>96</td>\n      <td>0</td>\n      <td>0</td>\n      <td>0.0</td>\n      <td>0.232</td>\n      <td>54</td>\n      <td>1</td>\n    </tr>\n  </tbody>\n</table>\n</div>"
     },
     "metadata": {}
    }
   ],
   "execution_count": null
  },
  {
   "cell_type": "code",
   "metadata": {
    "colab_type": "code",
    "id": "u0GiNip3hnFs",
    "colab": {},
    "cell_id": "00010-eb915b33-731b-4954-b960-a3be9d14c973",
    "deepnote_to_be_reexecuted": false,
    "source_hash": "d4300cdc",
    "execution_start": 1625522785078,
    "execution_millis": 12,
    "deepnote_cell_type": "code"
   },
   "source": "# Get the dimensionality of the DataFrame (number of rows, columns)\ndata.shape",
   "outputs": [
    {
     "output_type": "execute_result",
     "execution_count": 5,
     "data": {
      "text/plain": "(768, 9)"
     },
     "metadata": {}
    }
   ],
   "execution_count": null
  },
  {
   "cell_type": "code",
   "metadata": {
    "colab_type": "code",
    "id": "SSz4bg6UrZPG",
    "colab": {},
    "cell_id": "00011-74479617-5cd1-4422-af7d-2b99559ad5ed",
    "deepnote_to_be_reexecuted": false,
    "source_hash": "38c9da18",
    "execution_start": 1625522786181,
    "execution_millis": 11,
    "deepnote_cell_type": "code"
   },
   "source": "# Find the number of entries for each column\ndata.count()",
   "outputs": [
    {
     "output_type": "execute_result",
     "execution_count": 6,
     "data": {
      "text/plain": "preg     768\nplas     768\npres     768\nskin     768\ntest     768\nmass     768\npedi     768\nage      768\nclass    768\ndtype: int64"
     },
     "metadata": {}
    }
   ],
   "execution_count": null
  },
  {
   "cell_type": "code",
   "metadata": {
    "colab_type": "code",
    "id": "85mCDaaUipPu",
    "colab": {},
    "cell_id": "00012-42181299-1fab-435e-b0dc-d1001298fb9b",
    "deepnote_to_be_reexecuted": false,
    "source_hash": "cf090b95",
    "execution_start": 1625522787894,
    "execution_millis": 11,
    "deepnote_cell_type": "code"
   },
   "source": "# Create a string that describes the shape of the dataset\n\"There are \" + str(data.shape[0]) + \" people in the study with \" + str(data.shape[1]) + \" variables each \"",
   "outputs": [
    {
     "output_type": "execute_result",
     "execution_count": 7,
     "data": {
      "text/plain": "'There are 768 people in the study with 9 variables each '"
     },
     "metadata": {}
    }
   ],
   "execution_count": null
  },
  {
   "cell_type": "code",
   "metadata": {
    "colab_type": "code",
    "id": "pYqzEDuS04SK",
    "colab": {},
    "cell_id": "00013-459580ce-72c3-4392-8070-09c85aac9831",
    "deepnote_to_be_reexecuted": false,
    "source_hash": "4d3bdfb1",
    "execution_start": 1625522789536,
    "execution_millis": 139,
    "deepnote_cell_type": "code"
   },
   "source": "# Generate a table of statistical information describing the dataset\ndata.describe()",
   "outputs": [
    {
     "output_type": "execute_result",
     "execution_count": 8,
     "data": {
      "application/vnd.deepnote.dataframe.v2+json": {
       "row_count": 8,
       "column_count": 9,
       "columns": [
        {
         "name": "preg",
         "dtype": "float64",
         "stats": {
          "unique_count": 8,
          "nan_count": 0,
          "min": "0.0",
          "max": "768.0",
          "histogram": [
           {
            "bin_start": 0,
            "bin_end": 76.8,
            "count": 7
           },
           {
            "bin_start": 76.8,
            "bin_end": 153.6,
            "count": 0
           },
           {
            "bin_start": 153.6,
            "bin_end": 230.39999999999998,
            "count": 0
           },
           {
            "bin_start": 230.39999999999998,
            "bin_end": 307.2,
            "count": 0
           },
           {
            "bin_start": 307.2,
            "bin_end": 384,
            "count": 0
           },
           {
            "bin_start": 384,
            "bin_end": 460.79999999999995,
            "count": 0
           },
           {
            "bin_start": 460.79999999999995,
            "bin_end": 537.6,
            "count": 0
           },
           {
            "bin_start": 537.6,
            "bin_end": 614.4,
            "count": 0
           },
           {
            "bin_start": 614.4,
            "bin_end": 691.1999999999999,
            "count": 0
           },
           {
            "bin_start": 691.1999999999999,
            "bin_end": 768,
            "count": 1
           }
          ]
         }
        },
        {
         "name": "plas",
         "dtype": "float64",
         "stats": {
          "unique_count": 8,
          "nan_count": 0,
          "min": "0.0",
          "max": "768.0",
          "histogram": [
           {
            "bin_start": 0,
            "bin_end": 76.8,
            "count": 2
           },
           {
            "bin_start": 76.8,
            "bin_end": 153.6,
            "count": 4
           },
           {
            "bin_start": 153.6,
            "bin_end": 230.39999999999998,
            "count": 1
           },
           {
            "bin_start": 230.39999999999998,
            "bin_end": 307.2,
            "count": 0
           },
           {
            "bin_start": 307.2,
            "bin_end": 384,
            "count": 0
           },
           {
            "bin_start": 384,
            "bin_end": 460.79999999999995,
            "count": 0
           },
           {
            "bin_start": 460.79999999999995,
            "bin_end": 537.6,
            "count": 0
           },
           {
            "bin_start": 537.6,
            "bin_end": 614.4,
            "count": 0
           },
           {
            "bin_start": 614.4,
            "bin_end": 691.1999999999999,
            "count": 0
           },
           {
            "bin_start": 691.1999999999999,
            "bin_end": 768,
            "count": 1
           }
          ]
         }
        },
        {
         "name": "pres",
         "dtype": "float64",
         "stats": {
          "unique_count": 8,
          "nan_count": 0,
          "min": "0.0",
          "max": "768.0",
          "histogram": [
           {
            "bin_start": 0,
            "bin_end": 76.8,
            "count": 5
           },
           {
            "bin_start": 76.8,
            "bin_end": 153.6,
            "count": 2
           },
           {
            "bin_start": 153.6,
            "bin_end": 230.39999999999998,
            "count": 0
           },
           {
            "bin_start": 230.39999999999998,
            "bin_end": 307.2,
            "count": 0
           },
           {
            "bin_start": 307.2,
            "bin_end": 384,
            "count": 0
           },
           {
            "bin_start": 384,
            "bin_end": 460.79999999999995,
            "count": 0
           },
           {
            "bin_start": 460.79999999999995,
            "bin_end": 537.6,
            "count": 0
           },
           {
            "bin_start": 537.6,
            "bin_end": 614.4,
            "count": 0
           },
           {
            "bin_start": 614.4,
            "bin_end": 691.1999999999999,
            "count": 0
           },
           {
            "bin_start": 691.1999999999999,
            "bin_end": 768,
            "count": 1
           }
          ]
         }
        },
        {
         "name": "skin",
         "dtype": "float64",
         "stats": {
          "unique_count": 7,
          "nan_count": 0,
          "min": "0.0",
          "max": "768.0",
          "histogram": [
           {
            "bin_start": 0,
            "bin_end": 76.8,
            "count": 6
           },
           {
            "bin_start": 76.8,
            "bin_end": 153.6,
            "count": 1
           },
           {
            "bin_start": 153.6,
            "bin_end": 230.39999999999998,
            "count": 0
           },
           {
            "bin_start": 230.39999999999998,
            "bin_end": 307.2,
            "count": 0
           },
           {
            "bin_start": 307.2,
            "bin_end": 384,
            "count": 0
           },
           {
            "bin_start": 384,
            "bin_end": 460.79999999999995,
            "count": 0
           },
           {
            "bin_start": 460.79999999999995,
            "bin_end": 537.6,
            "count": 0
           },
           {
            "bin_start": 537.6,
            "bin_end": 614.4,
            "count": 0
           },
           {
            "bin_start": 614.4,
            "bin_end": 691.1999999999999,
            "count": 0
           },
           {
            "bin_start": 691.1999999999999,
            "bin_end": 768,
            "count": 1
           }
          ]
         }
        },
        {
         "name": "test",
         "dtype": "float64",
         "stats": {
          "unique_count": 7,
          "nan_count": 0,
          "min": "0.0",
          "max": "846.0",
          "histogram": [
           {
            "bin_start": 0,
            "bin_end": 84.6,
            "count": 4
           },
           {
            "bin_start": 84.6,
            "bin_end": 169.2,
            "count": 2
           },
           {
            "bin_start": 169.2,
            "bin_end": 253.79999999999998,
            "count": 0
           },
           {
            "bin_start": 253.79999999999998,
            "bin_end": 338.4,
            "count": 0
           },
           {
            "bin_start": 338.4,
            "bin_end": 423,
            "count": 0
           },
           {
            "bin_start": 423,
            "bin_end": 507.59999999999997,
            "count": 0
           },
           {
            "bin_start": 507.59999999999997,
            "bin_end": 592.1999999999999,
            "count": 0
           },
           {
            "bin_start": 592.1999999999999,
            "bin_end": 676.8,
            "count": 0
           },
           {
            "bin_start": 676.8,
            "bin_end": 761.4,
            "count": 0
           },
           {
            "bin_start": 761.4,
            "bin_end": 846,
            "count": 2
           }
          ]
         }
        },
        {
         "name": "mass",
         "dtype": "float64",
         "stats": {
          "unique_count": 8,
          "nan_count": 0,
          "min": "0.0",
          "max": "768.0",
          "histogram": [
           {
            "bin_start": 0,
            "bin_end": 76.8,
            "count": 7
           },
           {
            "bin_start": 76.8,
            "bin_end": 153.6,
            "count": 0
           },
           {
            "bin_start": 153.6,
            "bin_end": 230.39999999999998,
            "count": 0
           },
           {
            "bin_start": 230.39999999999998,
            "bin_end": 307.2,
            "count": 0
           },
           {
            "bin_start": 307.2,
            "bin_end": 384,
            "count": 0
           },
           {
            "bin_start": 384,
            "bin_end": 460.79999999999995,
            "count": 0
           },
           {
            "bin_start": 460.79999999999995,
            "bin_end": 537.6,
            "count": 0
           },
           {
            "bin_start": 537.6,
            "bin_end": 614.4,
            "count": 0
           },
           {
            "bin_start": 614.4,
            "bin_end": 691.1999999999999,
            "count": 0
           },
           {
            "bin_start": 691.1999999999999,
            "bin_end": 768,
            "count": 1
           }
          ]
         }
        },
        {
         "name": "pedi",
         "dtype": "float64",
         "stats": {
          "unique_count": 8,
          "nan_count": 0,
          "min": "0.078",
          "max": "768.0",
          "histogram": [
           {
            "bin_start": 0.078,
            "bin_end": 76.87020000000001,
            "count": 7
           },
           {
            "bin_start": 76.87020000000001,
            "bin_end": 153.66240000000002,
            "count": 0
           },
           {
            "bin_start": 153.66240000000002,
            "bin_end": 230.45460000000003,
            "count": 0
           },
           {
            "bin_start": 230.45460000000003,
            "bin_end": 307.2468,
            "count": 0
           },
           {
            "bin_start": 307.2468,
            "bin_end": 384.039,
            "count": 0
           },
           {
            "bin_start": 384.039,
            "bin_end": 460.8312,
            "count": 0
           },
           {
            "bin_start": 460.8312,
            "bin_end": 537.6234000000001,
            "count": 0
           },
           {
            "bin_start": 537.6234000000001,
            "bin_end": 614.4156,
            "count": 0
           },
           {
            "bin_start": 614.4156,
            "bin_end": 691.2078,
            "count": 0
           },
           {
            "bin_start": 691.2078,
            "bin_end": 768,
            "count": 1
           }
          ]
         }
        },
        {
         "name": "age",
         "dtype": "float64",
         "stats": {
          "unique_count": 8,
          "nan_count": 0,
          "min": "11.760231540678685",
          "max": "768.0",
          "histogram": [
           {
            "bin_start": 11.760231540678685,
            "bin_end": 87.38420838661082,
            "count": 7
           },
           {
            "bin_start": 87.38420838661082,
            "bin_end": 163.00818523254296,
            "count": 0
           },
           {
            "bin_start": 163.00818523254296,
            "bin_end": 238.6321620784751,
            "count": 0
           },
           {
            "bin_start": 238.6321620784751,
            "bin_end": 314.2561389244072,
            "count": 0
           },
           {
            "bin_start": 314.2561389244072,
            "bin_end": 389.88011577033933,
            "count": 0
           },
           {
            "bin_start": 389.88011577033933,
            "bin_end": 465.50409261627146,
            "count": 0
           },
           {
            "bin_start": 465.50409261627146,
            "bin_end": 541.1280694622036,
            "count": 0
           },
           {
            "bin_start": 541.1280694622036,
            "bin_end": 616.7520463081357,
            "count": 0
           },
           {
            "bin_start": 616.7520463081357,
            "bin_end": 692.3760231540679,
            "count": 0
           },
           {
            "bin_start": 692.3760231540679,
            "bin_end": 768,
            "count": 1
           }
          ]
         }
        },
        {
         "name": "class",
         "dtype": "float64",
         "stats": {
          "unique_count": 5,
          "nan_count": 0,
          "min": "0.0",
          "max": "768.0",
          "histogram": [
           {
            "bin_start": 0,
            "bin_end": 76.8,
            "count": 7
           },
           {
            "bin_start": 76.8,
            "bin_end": 153.6,
            "count": 0
           },
           {
            "bin_start": 153.6,
            "bin_end": 230.39999999999998,
            "count": 0
           },
           {
            "bin_start": 230.39999999999998,
            "bin_end": 307.2,
            "count": 0
           },
           {
            "bin_start": 307.2,
            "bin_end": 384,
            "count": 0
           },
           {
            "bin_start": 384,
            "bin_end": 460.79999999999995,
            "count": 0
           },
           {
            "bin_start": 460.79999999999995,
            "bin_end": 537.6,
            "count": 0
           },
           {
            "bin_start": 537.6,
            "bin_end": 614.4,
            "count": 0
           },
           {
            "bin_start": 614.4,
            "bin_end": 691.1999999999999,
            "count": 0
           },
           {
            "bin_start": 691.1999999999999,
            "bin_end": 768,
            "count": 1
           }
          ]
         }
        },
        {
         "name": "_deepnote_index_column",
         "dtype": "object"
        }
       ],
       "rows_top": [
        {
         "preg": 768,
         "plas": 768,
         "pres": 768,
         "skin": 768,
         "test": 768,
         "mass": 768,
         "pedi": 768,
         "age": 768,
         "class": 768,
         "_deepnote_index_column": "count"
        },
        {
         "preg": 3.8450520833333335,
         "plas": 120.89453125,
         "pres": 69.10546875,
         "skin": 20.536458333333332,
         "test": 79.79947916666667,
         "mass": 31.992578124999998,
         "pedi": 0.47187630208333325,
         "age": 33.240885416666664,
         "class": 0.3489583333333333,
         "_deepnote_index_column": "mean"
        },
        {
         "preg": 3.3695780626988694,
         "plas": 31.97261819513622,
         "pres": 19.355807170644777,
         "skin": 15.952217567727637,
         "test": 115.24400235133817,
         "mass": 7.884160320375446,
         "pedi": 0.3313285950127749,
         "age": 11.760231540678685,
         "class": 0.47695137724279896,
         "_deepnote_index_column": "std"
        },
        {
         "preg": 0,
         "plas": 0,
         "pres": 0,
         "skin": 0,
         "test": 0,
         "mass": 0,
         "pedi": 0.078,
         "age": 21,
         "class": 0,
         "_deepnote_index_column": "min"
        },
        {
         "preg": 1,
         "plas": 99,
         "pres": 62,
         "skin": 0,
         "test": 0,
         "mass": 27.3,
         "pedi": 0.24375,
         "age": 24,
         "class": 0,
         "_deepnote_index_column": "25%"
        },
        {
         "preg": 3,
         "plas": 117,
         "pres": 72,
         "skin": 23,
         "test": 30.5,
         "mass": 32,
         "pedi": 0.3725,
         "age": 29,
         "class": 0,
         "_deepnote_index_column": "50%"
        },
        {
         "preg": 6,
         "plas": 140.25,
         "pres": 80,
         "skin": 32,
         "test": 127.25,
         "mass": 36.6,
         "pedi": 0.62625,
         "age": 41,
         "class": 1,
         "_deepnote_index_column": "75%"
        },
        {
         "preg": 17,
         "plas": 199,
         "pres": 122,
         "skin": 99,
         "test": 846,
         "mass": 67.1,
         "pedi": 2.42,
         "age": 81,
         "class": 1,
         "_deepnote_index_column": "max"
        }
       ],
       "rows_bottom": null
      },
      "text/plain": "             preg        plas        pres        skin        test        mass  \\\ncount  768.000000  768.000000  768.000000  768.000000  768.000000  768.000000   \nmean     3.845052  120.894531   69.105469   20.536458   79.799479   31.992578   \nstd      3.369578   31.972618   19.355807   15.952218  115.244002    7.884160   \nmin      0.000000    0.000000    0.000000    0.000000    0.000000    0.000000   \n25%      1.000000   99.000000   62.000000    0.000000    0.000000   27.300000   \n50%      3.000000  117.000000   72.000000   23.000000   30.500000   32.000000   \n75%      6.000000  140.250000   80.000000   32.000000  127.250000   36.600000   \nmax     17.000000  199.000000  122.000000   99.000000  846.000000   67.100000   \n\n             pedi         age       class  \ncount  768.000000  768.000000  768.000000  \nmean     0.471876   33.240885    0.348958  \nstd      0.331329   11.760232    0.476951  \nmin      0.078000   21.000000    0.000000  \n25%      0.243750   24.000000    0.000000  \n50%      0.372500   29.000000    0.000000  \n75%      0.626250   41.000000    1.000000  \nmax      2.420000   81.000000    1.000000  ",
      "text/html": "<div>\n<style scoped>\n    .dataframe tbody tr th:only-of-type {\n        vertical-align: middle;\n    }\n\n    .dataframe tbody tr th {\n        vertical-align: top;\n    }\n\n    .dataframe thead th {\n        text-align: right;\n    }\n</style>\n<table border=\"1\" class=\"dataframe\">\n  <thead>\n    <tr style=\"text-align: right;\">\n      <th></th>\n      <th>preg</th>\n      <th>plas</th>\n      <th>pres</th>\n      <th>skin</th>\n      <th>test</th>\n      <th>mass</th>\n      <th>pedi</th>\n      <th>age</th>\n      <th>class</th>\n    </tr>\n  </thead>\n  <tbody>\n    <tr>\n      <th>count</th>\n      <td>768.000000</td>\n      <td>768.000000</td>\n      <td>768.000000</td>\n      <td>768.000000</td>\n      <td>768.000000</td>\n      <td>768.000000</td>\n      <td>768.000000</td>\n      <td>768.000000</td>\n      <td>768.000000</td>\n    </tr>\n    <tr>\n      <th>mean</th>\n      <td>3.845052</td>\n      <td>120.894531</td>\n      <td>69.105469</td>\n      <td>20.536458</td>\n      <td>79.799479</td>\n      <td>31.992578</td>\n      <td>0.471876</td>\n      <td>33.240885</td>\n      <td>0.348958</td>\n    </tr>\n    <tr>\n      <th>std</th>\n      <td>3.369578</td>\n      <td>31.972618</td>\n      <td>19.355807</td>\n      <td>15.952218</td>\n      <td>115.244002</td>\n      <td>7.884160</td>\n      <td>0.331329</td>\n      <td>11.760232</td>\n      <td>0.476951</td>\n    </tr>\n    <tr>\n      <th>min</th>\n      <td>0.000000</td>\n      <td>0.000000</td>\n      <td>0.000000</td>\n      <td>0.000000</td>\n      <td>0.000000</td>\n      <td>0.000000</td>\n      <td>0.078000</td>\n      <td>21.000000</td>\n      <td>0.000000</td>\n    </tr>\n    <tr>\n      <th>25%</th>\n      <td>1.000000</td>\n      <td>99.000000</td>\n      <td>62.000000</td>\n      <td>0.000000</td>\n      <td>0.000000</td>\n      <td>27.300000</td>\n      <td>0.243750</td>\n      <td>24.000000</td>\n      <td>0.000000</td>\n    </tr>\n    <tr>\n      <th>50%</th>\n      <td>3.000000</td>\n      <td>117.000000</td>\n      <td>72.000000</td>\n      <td>23.000000</td>\n      <td>30.500000</td>\n      <td>32.000000</td>\n      <td>0.372500</td>\n      <td>29.000000</td>\n      <td>0.000000</td>\n    </tr>\n    <tr>\n      <th>75%</th>\n      <td>6.000000</td>\n      <td>140.250000</td>\n      <td>80.000000</td>\n      <td>32.000000</td>\n      <td>127.250000</td>\n      <td>36.600000</td>\n      <td>0.626250</td>\n      <td>41.000000</td>\n      <td>1.000000</td>\n    </tr>\n    <tr>\n      <th>max</th>\n      <td>17.000000</td>\n      <td>199.000000</td>\n      <td>122.000000</td>\n      <td>99.000000</td>\n      <td>846.000000</td>\n      <td>67.100000</td>\n      <td>2.420000</td>\n      <td>81.000000</td>\n      <td>1.000000</td>\n    </tr>\n  </tbody>\n</table>\n</div>"
     },
     "metadata": {}
    }
   ],
   "execution_count": null
  },
  {
   "cell_type": "markdown",
   "source": "Try using tab complete to see other functions and variables associated with DataFrames, or explore the API documentation:\n\nhttps://pandas.pydata.org/docs/reference/api/pandas.DataFrame.html",
   "metadata": {
    "colab_type": "text",
    "id": "p5lZ5dsRwHKK",
    "cell_id": "00014-1825bcb5-9667-459d-9f70-4a1cb736aefc",
    "deepnote_cell_type": "markdown"
   }
  },
  {
   "cell_type": "markdown",
   "source": "## Slicing and Dicing",
   "metadata": {
    "colab_type": "text",
    "id": "vOAdRSTAlu1A",
    "cell_id": "00015-af07c97f-4ef2-4f12-a4a5-bf4673d1439b",
    "deepnote_cell_type": "markdown"
   }
  },
  {
   "cell_type": "markdown",
   "source": "Slicing and dicing are technical terms for subselecting parts of a multi-dimensional dataset. To **slice** a dataset is to choose a value for one dimension, and take all data that matches. This results in a subset that is one dimension smaller. For example, in our dataset we could slice a single row or column. To **dice** data is to choose ranges in multiple dimensions, creating a more arbitrary subset.\n\nTo take a simple example, selecting a value from a python list by index is technically a slice (1-D to 0-D). Selecting a range of indices would be a dice. Pandas allows for similar data access, either by index or label. Here are some examples:\n<br></br>\n\n**iloc**: Indexing with integers. Accepts single values [ i ], lists [ i, j ], or ranges [ i : j : k ].",
   "metadata": {
    "colab_type": "text",
    "id": "p4GjOKyhxIUL",
    "cell_id": "00016-9a327d84-dc42-4960-b507-cfa6f3f75153",
    "deepnote_cell_type": "markdown"
   }
  },
  {
   "cell_type": "code",
   "metadata": {
    "colab_type": "code",
    "id": "_3FVIi860jLt",
    "colab": {},
    "cell_id": "00017-95f03874-020b-4465-9aa0-305b0d3fcd46",
    "deepnote_to_be_reexecuted": false,
    "source_hash": "d8561a87",
    "execution_start": 1625522792864,
    "execution_millis": 128,
    "deepnote_cell_type": "code"
   },
   "source": "# Single-row slice\ndata.iloc[3]",
   "outputs": [
    {
     "output_type": "execute_result",
     "execution_count": 9,
     "data": {
      "text/plain": "preg      1.000\nplas     89.000\npres     66.000\nskin     23.000\ntest     94.000\nmass     28.100\npedi      0.167\nage      21.000\nclass     0.000\nName: 3, dtype: float64"
     },
     "metadata": {}
    }
   ],
   "execution_count": null
  },
  {
   "cell_type": "code",
   "metadata": {
    "colab_type": "code",
    "id": "L9C2s__Ni1Eq",
    "colab": {},
    "cell_id": "00018-ab4d7a47-caec-4635-907f-cf63d8aa35d3",
    "deepnote_to_be_reexecuted": false,
    "source_hash": "31e3c2c3",
    "execution_start": 1625522793927,
    "execution_millis": 11,
    "deepnote_cell_type": "code"
   },
   "source": "# Dicing the first three rows\ndata.iloc[0:3]  # NOTE: equivalent to data.iloc[0:3:1]",
   "outputs": [
    {
     "output_type": "execute_result",
     "execution_count": 10,
     "data": {
      "application/vnd.deepnote.dataframe.v2+json": {
       "row_count": 3,
       "column_count": 9,
       "columns": [
        {
         "name": "preg",
         "dtype": "int64",
         "stats": {
          "unique_count": 3,
          "nan_count": 0,
          "min": "1",
          "max": "8",
          "histogram": [
           {
            "bin_start": 1,
            "bin_end": 1.7,
            "count": 1
           },
           {
            "bin_start": 1.7,
            "bin_end": 2.4,
            "count": 0
           },
           {
            "bin_start": 2.4,
            "bin_end": 3.0999999999999996,
            "count": 0
           },
           {
            "bin_start": 3.0999999999999996,
            "bin_end": 3.8,
            "count": 0
           },
           {
            "bin_start": 3.8,
            "bin_end": 4.5,
            "count": 0
           },
           {
            "bin_start": 4.5,
            "bin_end": 5.199999999999999,
            "count": 0
           },
           {
            "bin_start": 5.199999999999999,
            "bin_end": 5.8999999999999995,
            "count": 0
           },
           {
            "bin_start": 5.8999999999999995,
            "bin_end": 6.6,
            "count": 1
           },
           {
            "bin_start": 6.6,
            "bin_end": 7.3,
            "count": 0
           },
           {
            "bin_start": 7.3,
            "bin_end": 8,
            "count": 1
           }
          ]
         }
        },
        {
         "name": "plas",
         "dtype": "int64",
         "stats": {
          "unique_count": 3,
          "nan_count": 0,
          "min": "85",
          "max": "183",
          "histogram": [
           {
            "bin_start": 85,
            "bin_end": 94.8,
            "count": 1
           },
           {
            "bin_start": 94.8,
            "bin_end": 104.6,
            "count": 0
           },
           {
            "bin_start": 104.6,
            "bin_end": 114.4,
            "count": 0
           },
           {
            "bin_start": 114.4,
            "bin_end": 124.2,
            "count": 0
           },
           {
            "bin_start": 124.2,
            "bin_end": 134,
            "count": 0
           },
           {
            "bin_start": 134,
            "bin_end": 143.8,
            "count": 0
           },
           {
            "bin_start": 143.8,
            "bin_end": 153.60000000000002,
            "count": 1
           },
           {
            "bin_start": 153.60000000000002,
            "bin_end": 163.4,
            "count": 0
           },
           {
            "bin_start": 163.4,
            "bin_end": 173.2,
            "count": 0
           },
           {
            "bin_start": 173.2,
            "bin_end": 183,
            "count": 1
           }
          ]
         }
        },
        {
         "name": "pres",
         "dtype": "int64",
         "stats": {
          "unique_count": 3,
          "nan_count": 0,
          "min": "64",
          "max": "72",
          "histogram": [
           {
            "bin_start": 64,
            "bin_end": 64.8,
            "count": 1
           },
           {
            "bin_start": 64.8,
            "bin_end": 65.6,
            "count": 0
           },
           {
            "bin_start": 65.6,
            "bin_end": 66.4,
            "count": 1
           },
           {
            "bin_start": 66.4,
            "bin_end": 67.2,
            "count": 0
           },
           {
            "bin_start": 67.2,
            "bin_end": 68,
            "count": 0
           },
           {
            "bin_start": 68,
            "bin_end": 68.8,
            "count": 0
           },
           {
            "bin_start": 68.8,
            "bin_end": 69.6,
            "count": 0
           },
           {
            "bin_start": 69.6,
            "bin_end": 70.4,
            "count": 0
           },
           {
            "bin_start": 70.4,
            "bin_end": 71.2,
            "count": 0
           },
           {
            "bin_start": 71.2,
            "bin_end": 72,
            "count": 1
           }
          ]
         }
        },
        {
         "name": "skin",
         "dtype": "int64",
         "stats": {
          "unique_count": 3,
          "nan_count": 0,
          "min": "0",
          "max": "35",
          "histogram": [
           {
            "bin_start": 0,
            "bin_end": 3.5,
            "count": 1
           },
           {
            "bin_start": 3.5,
            "bin_end": 7,
            "count": 0
           },
           {
            "bin_start": 7,
            "bin_end": 10.5,
            "count": 0
           },
           {
            "bin_start": 10.5,
            "bin_end": 14,
            "count": 0
           },
           {
            "bin_start": 14,
            "bin_end": 17.5,
            "count": 0
           },
           {
            "bin_start": 17.5,
            "bin_end": 21,
            "count": 0
           },
           {
            "bin_start": 21,
            "bin_end": 24.5,
            "count": 0
           },
           {
            "bin_start": 24.5,
            "bin_end": 28,
            "count": 0
           },
           {
            "bin_start": 28,
            "bin_end": 31.5,
            "count": 1
           },
           {
            "bin_start": 31.5,
            "bin_end": 35,
            "count": 1
           }
          ]
         }
        },
        {
         "name": "test",
         "dtype": "int64",
         "stats": {
          "unique_count": 1,
          "nan_count": 0,
          "min": "0",
          "max": "0",
          "histogram": [
           {
            "bin_start": -0.5,
            "bin_end": -0.4,
            "count": 0
           },
           {
            "bin_start": -0.4,
            "bin_end": -0.3,
            "count": 0
           },
           {
            "bin_start": -0.3,
            "bin_end": -0.19999999999999996,
            "count": 0
           },
           {
            "bin_start": -0.19999999999999996,
            "bin_end": -0.09999999999999998,
            "count": 0
           },
           {
            "bin_start": -0.09999999999999998,
            "bin_end": 0,
            "count": 0
           },
           {
            "bin_start": 0,
            "bin_end": 0.10000000000000009,
            "count": 3
           },
           {
            "bin_start": 0.10000000000000009,
            "bin_end": 0.20000000000000007,
            "count": 0
           },
           {
            "bin_start": 0.20000000000000007,
            "bin_end": 0.30000000000000004,
            "count": 0
           },
           {
            "bin_start": 0.30000000000000004,
            "bin_end": 0.4,
            "count": 0
           },
           {
            "bin_start": 0.4,
            "bin_end": 0.5,
            "count": 0
           }
          ]
         }
        },
        {
         "name": "mass",
         "dtype": "float64",
         "stats": {
          "unique_count": 3,
          "nan_count": 0,
          "min": "23.3",
          "max": "33.6",
          "histogram": [
           {
            "bin_start": 23.3,
            "bin_end": 24.330000000000002,
            "count": 1
           },
           {
            "bin_start": 24.330000000000002,
            "bin_end": 25.36,
            "count": 0
           },
           {
            "bin_start": 25.36,
            "bin_end": 26.39,
            "count": 0
           },
           {
            "bin_start": 26.39,
            "bin_end": 27.42,
            "count": 1
           },
           {
            "bin_start": 27.42,
            "bin_end": 28.450000000000003,
            "count": 0
           },
           {
            "bin_start": 28.450000000000003,
            "bin_end": 29.48,
            "count": 0
           },
           {
            "bin_start": 29.48,
            "bin_end": 30.51,
            "count": 0
           },
           {
            "bin_start": 30.51,
            "bin_end": 31.54,
            "count": 0
           },
           {
            "bin_start": 31.54,
            "bin_end": 32.57,
            "count": 0
           },
           {
            "bin_start": 32.57,
            "bin_end": 33.6,
            "count": 1
           }
          ]
         }
        },
        {
         "name": "pedi",
         "dtype": "float64",
         "stats": {
          "unique_count": 3,
          "nan_count": 0,
          "min": "0.351",
          "max": "0.672",
          "histogram": [
           {
            "bin_start": 0.351,
            "bin_end": 0.3831,
            "count": 1
           },
           {
            "bin_start": 0.3831,
            "bin_end": 0.4152,
            "count": 0
           },
           {
            "bin_start": 0.4152,
            "bin_end": 0.4473,
            "count": 0
           },
           {
            "bin_start": 0.4473,
            "bin_end": 0.4794,
            "count": 0
           },
           {
            "bin_start": 0.4794,
            "bin_end": 0.5115000000000001,
            "count": 0
           },
           {
            "bin_start": 0.5115000000000001,
            "bin_end": 0.5436,
            "count": 0
           },
           {
            "bin_start": 0.5436,
            "bin_end": 0.5757,
            "count": 0
           },
           {
            "bin_start": 0.5757,
            "bin_end": 0.6078,
            "count": 0
           },
           {
            "bin_start": 0.6078,
            "bin_end": 0.6399,
            "count": 1
           },
           {
            "bin_start": 0.6399,
            "bin_end": 0.672,
            "count": 1
           }
          ]
         }
        },
        {
         "name": "age",
         "dtype": "int64",
         "stats": {
          "unique_count": 3,
          "nan_count": 0,
          "min": "31",
          "max": "50",
          "histogram": [
           {
            "bin_start": 31,
            "bin_end": 32.9,
            "count": 2
           },
           {
            "bin_start": 32.9,
            "bin_end": 34.8,
            "count": 0
           },
           {
            "bin_start": 34.8,
            "bin_end": 36.7,
            "count": 0
           },
           {
            "bin_start": 36.7,
            "bin_end": 38.6,
            "count": 0
           },
           {
            "bin_start": 38.6,
            "bin_end": 40.5,
            "count": 0
           },
           {
            "bin_start": 40.5,
            "bin_end": 42.4,
            "count": 0
           },
           {
            "bin_start": 42.4,
            "bin_end": 44.3,
            "count": 0
           },
           {
            "bin_start": 44.3,
            "bin_end": 46.2,
            "count": 0
           },
           {
            "bin_start": 46.2,
            "bin_end": 48.099999999999994,
            "count": 0
           },
           {
            "bin_start": 48.099999999999994,
            "bin_end": 50,
            "count": 1
           }
          ]
         }
        },
        {
         "name": "class",
         "dtype": "int64",
         "stats": {
          "unique_count": 2,
          "nan_count": 0,
          "min": "0",
          "max": "1",
          "histogram": [
           {
            "bin_start": 0,
            "bin_end": 0.1,
            "count": 1
           },
           {
            "bin_start": 0.1,
            "bin_end": 0.2,
            "count": 0
           },
           {
            "bin_start": 0.2,
            "bin_end": 0.30000000000000004,
            "count": 0
           },
           {
            "bin_start": 0.30000000000000004,
            "bin_end": 0.4,
            "count": 0
           },
           {
            "bin_start": 0.4,
            "bin_end": 0.5,
            "count": 0
           },
           {
            "bin_start": 0.5,
            "bin_end": 0.6000000000000001,
            "count": 0
           },
           {
            "bin_start": 0.6000000000000001,
            "bin_end": 0.7000000000000001,
            "count": 0
           },
           {
            "bin_start": 0.7000000000000001,
            "bin_end": 0.8,
            "count": 0
           },
           {
            "bin_start": 0.8,
            "bin_end": 0.9,
            "count": 0
           },
           {
            "bin_start": 0.9,
            "bin_end": 1,
            "count": 2
           }
          ]
         }
        },
        {
         "name": "_deepnote_index_column",
         "dtype": "int64"
        }
       ],
       "rows_top": [
        {
         "preg": 6,
         "plas": 148,
         "pres": 72,
         "skin": 35,
         "test": 0,
         "mass": 33.6,
         "pedi": 0.627,
         "age": 50,
         "class": 1,
         "_deepnote_index_column": 0
        },
        {
         "preg": 1,
         "plas": 85,
         "pres": 66,
         "skin": 29,
         "test": 0,
         "mass": 26.6,
         "pedi": 0.351,
         "age": 31,
         "class": 0,
         "_deepnote_index_column": 1
        },
        {
         "preg": 8,
         "plas": 183,
         "pres": 64,
         "skin": 0,
         "test": 0,
         "mass": 23.3,
         "pedi": 0.672,
         "age": 32,
         "class": 1,
         "_deepnote_index_column": 2
        }
       ],
       "rows_bottom": null
      },
      "text/plain": "   preg  plas  pres  skin  test  mass   pedi  age  class\n0     6   148    72    35     0  33.6  0.627   50      1\n1     1    85    66    29     0  26.6  0.351   31      0\n2     8   183    64     0     0  23.3  0.672   32      1",
      "text/html": "<div>\n<style scoped>\n    .dataframe tbody tr th:only-of-type {\n        vertical-align: middle;\n    }\n\n    .dataframe tbody tr th {\n        vertical-align: top;\n    }\n\n    .dataframe thead th {\n        text-align: right;\n    }\n</style>\n<table border=\"1\" class=\"dataframe\">\n  <thead>\n    <tr style=\"text-align: right;\">\n      <th></th>\n      <th>preg</th>\n      <th>plas</th>\n      <th>pres</th>\n      <th>skin</th>\n      <th>test</th>\n      <th>mass</th>\n      <th>pedi</th>\n      <th>age</th>\n      <th>class</th>\n    </tr>\n  </thead>\n  <tbody>\n    <tr>\n      <th>0</th>\n      <td>6</td>\n      <td>148</td>\n      <td>72</td>\n      <td>35</td>\n      <td>0</td>\n      <td>33.6</td>\n      <td>0.627</td>\n      <td>50</td>\n      <td>1</td>\n    </tr>\n    <tr>\n      <th>1</th>\n      <td>1</td>\n      <td>85</td>\n      <td>66</td>\n      <td>29</td>\n      <td>0</td>\n      <td>26.6</td>\n      <td>0.351</td>\n      <td>31</td>\n      <td>0</td>\n    </tr>\n    <tr>\n      <th>2</th>\n      <td>8</td>\n      <td>183</td>\n      <td>64</td>\n      <td>0</td>\n      <td>0</td>\n      <td>23.3</td>\n      <td>0.672</td>\n      <td>32</td>\n      <td>1</td>\n    </tr>\n  </tbody>\n</table>\n</div>"
     },
     "metadata": {}
    }
   ],
   "execution_count": null
  },
  {
   "cell_type": "code",
   "metadata": {
    "colab_type": "code",
    "id": "ds3HLB3JnPea",
    "colab": {},
    "cell_id": "00019-f74453f0-724d-4b4d-976f-0d44317af77c",
    "deepnote_to_be_reexecuted": false,
    "source_hash": "73201963",
    "execution_start": 1625522794691,
    "execution_millis": 6,
    "deepnote_cell_type": "code"
   },
   "source": "# 2-D dice of the first 3 rows, but only the last two columns\ndata.iloc[0:3, 7:]  # NOTE: equivalent to data.iloc[0:3:1, 7:9:1]",
   "outputs": [
    {
     "output_type": "execute_result",
     "execution_count": 11,
     "data": {
      "application/vnd.deepnote.dataframe.v2+json": {
       "row_count": 3,
       "column_count": 2,
       "columns": [
        {
         "name": "age",
         "dtype": "int64",
         "stats": {
          "unique_count": 3,
          "nan_count": 0,
          "min": "31",
          "max": "50",
          "histogram": [
           {
            "bin_start": 31,
            "bin_end": 32.9,
            "count": 2
           },
           {
            "bin_start": 32.9,
            "bin_end": 34.8,
            "count": 0
           },
           {
            "bin_start": 34.8,
            "bin_end": 36.7,
            "count": 0
           },
           {
            "bin_start": 36.7,
            "bin_end": 38.6,
            "count": 0
           },
           {
            "bin_start": 38.6,
            "bin_end": 40.5,
            "count": 0
           },
           {
            "bin_start": 40.5,
            "bin_end": 42.4,
            "count": 0
           },
           {
            "bin_start": 42.4,
            "bin_end": 44.3,
            "count": 0
           },
           {
            "bin_start": 44.3,
            "bin_end": 46.2,
            "count": 0
           },
           {
            "bin_start": 46.2,
            "bin_end": 48.099999999999994,
            "count": 0
           },
           {
            "bin_start": 48.099999999999994,
            "bin_end": 50,
            "count": 1
           }
          ]
         }
        },
        {
         "name": "class",
         "dtype": "int64",
         "stats": {
          "unique_count": 2,
          "nan_count": 0,
          "min": "0",
          "max": "1",
          "histogram": [
           {
            "bin_start": 0,
            "bin_end": 0.1,
            "count": 1
           },
           {
            "bin_start": 0.1,
            "bin_end": 0.2,
            "count": 0
           },
           {
            "bin_start": 0.2,
            "bin_end": 0.30000000000000004,
            "count": 0
           },
           {
            "bin_start": 0.30000000000000004,
            "bin_end": 0.4,
            "count": 0
           },
           {
            "bin_start": 0.4,
            "bin_end": 0.5,
            "count": 0
           },
           {
            "bin_start": 0.5,
            "bin_end": 0.6000000000000001,
            "count": 0
           },
           {
            "bin_start": 0.6000000000000001,
            "bin_end": 0.7000000000000001,
            "count": 0
           },
           {
            "bin_start": 0.7000000000000001,
            "bin_end": 0.8,
            "count": 0
           },
           {
            "bin_start": 0.8,
            "bin_end": 0.9,
            "count": 0
           },
           {
            "bin_start": 0.9,
            "bin_end": 1,
            "count": 2
           }
          ]
         }
        },
        {
         "name": "_deepnote_index_column",
         "dtype": "int64"
        }
       ],
       "rows_top": [
        {
         "age": 50,
         "class": 1,
         "_deepnote_index_column": 0
        },
        {
         "age": 31,
         "class": 0,
         "_deepnote_index_column": 1
        },
        {
         "age": 32,
         "class": 1,
         "_deepnote_index_column": 2
        }
       ],
       "rows_bottom": null
      },
      "text/plain": "   age  class\n0   50      1\n1   31      0\n2   32      1",
      "text/html": "<div>\n<style scoped>\n    .dataframe tbody tr th:only-of-type {\n        vertical-align: middle;\n    }\n\n    .dataframe tbody tr th {\n        vertical-align: top;\n    }\n\n    .dataframe thead th {\n        text-align: right;\n    }\n</style>\n<table border=\"1\" class=\"dataframe\">\n  <thead>\n    <tr style=\"text-align: right;\">\n      <th></th>\n      <th>age</th>\n      <th>class</th>\n    </tr>\n  </thead>\n  <tbody>\n    <tr>\n      <th>0</th>\n      <td>50</td>\n      <td>1</td>\n    </tr>\n    <tr>\n      <th>1</th>\n      <td>31</td>\n      <td>0</td>\n    </tr>\n    <tr>\n      <th>2</th>\n      <td>32</td>\n      <td>1</td>\n    </tr>\n  </tbody>\n</table>\n</div>"
     },
     "metadata": {}
    }
   ],
   "execution_count": null
  },
  {
   "cell_type": "markdown",
   "source": "**loc**: Indexing with column labels, which are strings for columns and integers for rows. Accepts single values [ 'pres' ], lists [ 'pres', 'class' ], or \"label slices\" [ 'pres' : 'class' ]. Note that the \"label slice\" is not a range, so the terminal value will be included. This is particularly confusing with row labels, because the syntax for a slice will resemble an integer range, as shown below.",
   "metadata": {
    "colab_type": "text",
    "id": "oBTayeAnquFd",
    "cell_id": "00020-23934a4e-461b-45b7-a2d8-b57d230f388d",
    "deepnote_cell_type": "markdown"
   }
  },
  {
   "cell_type": "code",
   "metadata": {
    "colab_type": "code",
    "id": "Cw5M4JHunhvm",
    "colab": {},
    "cell_id": "00021-6448cd0b-d31a-4ec0-893e-fd54d9845a83",
    "deepnote_to_be_reexecuted": false,
    "source_hash": "dec19919",
    "execution_start": 1625522796059,
    "execution_millis": 24,
    "deepnote_cell_type": "code"
   },
   "source": "# Dice the first three rows, with data in the columns from 'pres' to 'class'\ndata.loc[0:2, 'pres':'class'] # NOTE: 0:2 is a slice, not a range, and includes index 2",
   "outputs": [
    {
     "output_type": "execute_result",
     "execution_count": 12,
     "data": {
      "application/vnd.deepnote.dataframe.v2+json": {
       "row_count": 3,
       "column_count": 7,
       "columns": [
        {
         "name": "pres",
         "dtype": "int64",
         "stats": {
          "unique_count": 3,
          "nan_count": 0,
          "min": "64",
          "max": "72",
          "histogram": [
           {
            "bin_start": 64,
            "bin_end": 64.8,
            "count": 1
           },
           {
            "bin_start": 64.8,
            "bin_end": 65.6,
            "count": 0
           },
           {
            "bin_start": 65.6,
            "bin_end": 66.4,
            "count": 1
           },
           {
            "bin_start": 66.4,
            "bin_end": 67.2,
            "count": 0
           },
           {
            "bin_start": 67.2,
            "bin_end": 68,
            "count": 0
           },
           {
            "bin_start": 68,
            "bin_end": 68.8,
            "count": 0
           },
           {
            "bin_start": 68.8,
            "bin_end": 69.6,
            "count": 0
           },
           {
            "bin_start": 69.6,
            "bin_end": 70.4,
            "count": 0
           },
           {
            "bin_start": 70.4,
            "bin_end": 71.2,
            "count": 0
           },
           {
            "bin_start": 71.2,
            "bin_end": 72,
            "count": 1
           }
          ]
         }
        },
        {
         "name": "skin",
         "dtype": "int64",
         "stats": {
          "unique_count": 3,
          "nan_count": 0,
          "min": "0",
          "max": "35",
          "histogram": [
           {
            "bin_start": 0,
            "bin_end": 3.5,
            "count": 1
           },
           {
            "bin_start": 3.5,
            "bin_end": 7,
            "count": 0
           },
           {
            "bin_start": 7,
            "bin_end": 10.5,
            "count": 0
           },
           {
            "bin_start": 10.5,
            "bin_end": 14,
            "count": 0
           },
           {
            "bin_start": 14,
            "bin_end": 17.5,
            "count": 0
           },
           {
            "bin_start": 17.5,
            "bin_end": 21,
            "count": 0
           },
           {
            "bin_start": 21,
            "bin_end": 24.5,
            "count": 0
           },
           {
            "bin_start": 24.5,
            "bin_end": 28,
            "count": 0
           },
           {
            "bin_start": 28,
            "bin_end": 31.5,
            "count": 1
           },
           {
            "bin_start": 31.5,
            "bin_end": 35,
            "count": 1
           }
          ]
         }
        },
        {
         "name": "test",
         "dtype": "int64",
         "stats": {
          "unique_count": 1,
          "nan_count": 0,
          "min": "0",
          "max": "0",
          "histogram": [
           {
            "bin_start": -0.5,
            "bin_end": -0.4,
            "count": 0
           },
           {
            "bin_start": -0.4,
            "bin_end": -0.3,
            "count": 0
           },
           {
            "bin_start": -0.3,
            "bin_end": -0.19999999999999996,
            "count": 0
           },
           {
            "bin_start": -0.19999999999999996,
            "bin_end": -0.09999999999999998,
            "count": 0
           },
           {
            "bin_start": -0.09999999999999998,
            "bin_end": 0,
            "count": 0
           },
           {
            "bin_start": 0,
            "bin_end": 0.10000000000000009,
            "count": 3
           },
           {
            "bin_start": 0.10000000000000009,
            "bin_end": 0.20000000000000007,
            "count": 0
           },
           {
            "bin_start": 0.20000000000000007,
            "bin_end": 0.30000000000000004,
            "count": 0
           },
           {
            "bin_start": 0.30000000000000004,
            "bin_end": 0.4,
            "count": 0
           },
           {
            "bin_start": 0.4,
            "bin_end": 0.5,
            "count": 0
           }
          ]
         }
        },
        {
         "name": "mass",
         "dtype": "float64",
         "stats": {
          "unique_count": 3,
          "nan_count": 0,
          "min": "23.3",
          "max": "33.6",
          "histogram": [
           {
            "bin_start": 23.3,
            "bin_end": 24.330000000000002,
            "count": 1
           },
           {
            "bin_start": 24.330000000000002,
            "bin_end": 25.36,
            "count": 0
           },
           {
            "bin_start": 25.36,
            "bin_end": 26.39,
            "count": 0
           },
           {
            "bin_start": 26.39,
            "bin_end": 27.42,
            "count": 1
           },
           {
            "bin_start": 27.42,
            "bin_end": 28.450000000000003,
            "count": 0
           },
           {
            "bin_start": 28.450000000000003,
            "bin_end": 29.48,
            "count": 0
           },
           {
            "bin_start": 29.48,
            "bin_end": 30.51,
            "count": 0
           },
           {
            "bin_start": 30.51,
            "bin_end": 31.54,
            "count": 0
           },
           {
            "bin_start": 31.54,
            "bin_end": 32.57,
            "count": 0
           },
           {
            "bin_start": 32.57,
            "bin_end": 33.6,
            "count": 1
           }
          ]
         }
        },
        {
         "name": "pedi",
         "dtype": "float64",
         "stats": {
          "unique_count": 3,
          "nan_count": 0,
          "min": "0.351",
          "max": "0.672",
          "histogram": [
           {
            "bin_start": 0.351,
            "bin_end": 0.3831,
            "count": 1
           },
           {
            "bin_start": 0.3831,
            "bin_end": 0.4152,
            "count": 0
           },
           {
            "bin_start": 0.4152,
            "bin_end": 0.4473,
            "count": 0
           },
           {
            "bin_start": 0.4473,
            "bin_end": 0.4794,
            "count": 0
           },
           {
            "bin_start": 0.4794,
            "bin_end": 0.5115000000000001,
            "count": 0
           },
           {
            "bin_start": 0.5115000000000001,
            "bin_end": 0.5436,
            "count": 0
           },
           {
            "bin_start": 0.5436,
            "bin_end": 0.5757,
            "count": 0
           },
           {
            "bin_start": 0.5757,
            "bin_end": 0.6078,
            "count": 0
           },
           {
            "bin_start": 0.6078,
            "bin_end": 0.6399,
            "count": 1
           },
           {
            "bin_start": 0.6399,
            "bin_end": 0.672,
            "count": 1
           }
          ]
         }
        },
        {
         "name": "age",
         "dtype": "int64",
         "stats": {
          "unique_count": 3,
          "nan_count": 0,
          "min": "31",
          "max": "50",
          "histogram": [
           {
            "bin_start": 31,
            "bin_end": 32.9,
            "count": 2
           },
           {
            "bin_start": 32.9,
            "bin_end": 34.8,
            "count": 0
           },
           {
            "bin_start": 34.8,
            "bin_end": 36.7,
            "count": 0
           },
           {
            "bin_start": 36.7,
            "bin_end": 38.6,
            "count": 0
           },
           {
            "bin_start": 38.6,
            "bin_end": 40.5,
            "count": 0
           },
           {
            "bin_start": 40.5,
            "bin_end": 42.4,
            "count": 0
           },
           {
            "bin_start": 42.4,
            "bin_end": 44.3,
            "count": 0
           },
           {
            "bin_start": 44.3,
            "bin_end": 46.2,
            "count": 0
           },
           {
            "bin_start": 46.2,
            "bin_end": 48.099999999999994,
            "count": 0
           },
           {
            "bin_start": 48.099999999999994,
            "bin_end": 50,
            "count": 1
           }
          ]
         }
        },
        {
         "name": "class",
         "dtype": "int64",
         "stats": {
          "unique_count": 2,
          "nan_count": 0,
          "min": "0",
          "max": "1",
          "histogram": [
           {
            "bin_start": 0,
            "bin_end": 0.1,
            "count": 1
           },
           {
            "bin_start": 0.1,
            "bin_end": 0.2,
            "count": 0
           },
           {
            "bin_start": 0.2,
            "bin_end": 0.30000000000000004,
            "count": 0
           },
           {
            "bin_start": 0.30000000000000004,
            "bin_end": 0.4,
            "count": 0
           },
           {
            "bin_start": 0.4,
            "bin_end": 0.5,
            "count": 0
           },
           {
            "bin_start": 0.5,
            "bin_end": 0.6000000000000001,
            "count": 0
           },
           {
            "bin_start": 0.6000000000000001,
            "bin_end": 0.7000000000000001,
            "count": 0
           },
           {
            "bin_start": 0.7000000000000001,
            "bin_end": 0.8,
            "count": 0
           },
           {
            "bin_start": 0.8,
            "bin_end": 0.9,
            "count": 0
           },
           {
            "bin_start": 0.9,
            "bin_end": 1,
            "count": 2
           }
          ]
         }
        },
        {
         "name": "_deepnote_index_column",
         "dtype": "int64"
        }
       ],
       "rows_top": [
        {
         "pres": 72,
         "skin": 35,
         "test": 0,
         "mass": 33.6,
         "pedi": 0.627,
         "age": 50,
         "class": 1,
         "_deepnote_index_column": 0
        },
        {
         "pres": 66,
         "skin": 29,
         "test": 0,
         "mass": 26.6,
         "pedi": 0.351,
         "age": 31,
         "class": 0,
         "_deepnote_index_column": 1
        },
        {
         "pres": 64,
         "skin": 0,
         "test": 0,
         "mass": 23.3,
         "pedi": 0.672,
         "age": 32,
         "class": 1,
         "_deepnote_index_column": 2
        }
       ],
       "rows_bottom": null
      },
      "text/plain": "   pres  skin  test  mass   pedi  age  class\n0    72    35     0  33.6  0.627   50      1\n1    66    29     0  26.6  0.351   31      0\n2    64     0     0  23.3  0.672   32      1",
      "text/html": "<div>\n<style scoped>\n    .dataframe tbody tr th:only-of-type {\n        vertical-align: middle;\n    }\n\n    .dataframe tbody tr th {\n        vertical-align: top;\n    }\n\n    .dataframe thead th {\n        text-align: right;\n    }\n</style>\n<table border=\"1\" class=\"dataframe\">\n  <thead>\n    <tr style=\"text-align: right;\">\n      <th></th>\n      <th>pres</th>\n      <th>skin</th>\n      <th>test</th>\n      <th>mass</th>\n      <th>pedi</th>\n      <th>age</th>\n      <th>class</th>\n    </tr>\n  </thead>\n  <tbody>\n    <tr>\n      <th>0</th>\n      <td>72</td>\n      <td>35</td>\n      <td>0</td>\n      <td>33.6</td>\n      <td>0.627</td>\n      <td>50</td>\n      <td>1</td>\n    </tr>\n    <tr>\n      <th>1</th>\n      <td>66</td>\n      <td>29</td>\n      <td>0</td>\n      <td>26.6</td>\n      <td>0.351</td>\n      <td>31</td>\n      <td>0</td>\n    </tr>\n    <tr>\n      <th>2</th>\n      <td>64</td>\n      <td>0</td>\n      <td>0</td>\n      <td>23.3</td>\n      <td>0.672</td>\n      <td>32</td>\n      <td>1</td>\n    </tr>\n  </tbody>\n</table>\n</div>"
     },
     "metadata": {}
    }
   ],
   "execution_count": null
  },
  {
   "cell_type": "markdown",
   "source": "## Chained Indexing/Masking",
   "metadata": {
    "colab_type": "text",
    "id": "rHns1NFrrzDe",
    "cell_id": "00022-9205e6b5-cd2f-4ee1-963d-674dee43dc0c",
    "deepnote_cell_type": "markdown"
   }
  },
  {
   "cell_type": "markdown",
   "source": "Now we know how to subselect data, but that's not very useful unless we know what data we want to subselect. One solution is to create a data **mask**. In this context, the mask is a list of indices corresponding to data that meets certain criteria. For example, we can create a mask for all data for people with an age greater than 39. Doing so is quite simple in pandas:",
   "metadata": {
    "colab_type": "text",
    "id": "8p0ijE3E4vfr",
    "cell_id": "00023-a4468699-e1ec-4bee-a430-a8e3382d377b",
    "deepnote_cell_type": "markdown"
   }
  },
  {
   "cell_type": "code",
   "metadata": {
    "colab_type": "code",
    "id": "T9ui-mfbujed",
    "colab": {},
    "cell_id": "00024-da5c2518-3685-4039-a8e5-2a7d604e12ea",
    "deepnote_to_be_reexecuted": false,
    "source_hash": "ed18036e",
    "execution_start": 1625522798705,
    "execution_millis": 19,
    "deepnote_cell_type": "code"
   },
   "source": "# Create a pandas series \"mask\" for rows with an age greater than 39\ndata_age_boolean = data.age > 39\n# Show the created boolean series\ndata_age_boolean.head(20)",
   "outputs": [
    {
     "output_type": "execute_result",
     "execution_count": 13,
     "data": {
      "text/plain": "0      True\n1     False\n2     False\n3     False\n4     False\n5     False\n6     False\n7     False\n8      True\n9      True\n10    False\n11    False\n12     True\n13     True\n14     True\n15    False\n16    False\n17    False\n18    False\n19    False\nName: age, dtype: bool"
     },
     "metadata": {}
    }
   ],
   "execution_count": null
  },
  {
   "cell_type": "markdown",
   "source": "The created object is a series of True/False values for each row. Let's double check the first three values for age.",
   "metadata": {
    "colab_type": "text",
    "id": "N1DmFyel6ZOD",
    "cell_id": "00025-181ba2b3-9dad-48ce-90c1-a008d8ef9da3",
    "deepnote_cell_type": "markdown"
   }
  },
  {
   "cell_type": "code",
   "metadata": {
    "colab_type": "code",
    "id": "Mx7DyR-zwJgU",
    "colab": {},
    "cell_id": "00026-7d055cd7-a5fc-4d16-b74e-986413730159",
    "deepnote_to_be_reexecuted": false,
    "source_hash": "a02ef545",
    "execution_start": 1625522800126,
    "execution_millis": 9,
    "deepnote_cell_type": "code"
   },
   "source": "# Show the first three age values. Only value 0 is greater than 39.\ndata['age'].head(3)",
   "outputs": [
    {
     "output_type": "execute_result",
     "execution_count": 14,
     "data": {
      "text/plain": "0    50\n1    31\n2    32\nName: age, dtype: int64"
     },
     "metadata": {}
    }
   ],
   "execution_count": null
  },
  {
   "cell_type": "code",
   "metadata": {
    "colab_type": "code",
    "id": "DqkgI6A9vqkr",
    "colab": {},
    "cell_id": "00027-2fd09aeb-3e15-4b78-b17f-d800c2996528",
    "deepnote_to_be_reexecuted": false,
    "source_hash": "4319b242",
    "execution_start": 1625522801543,
    "execution_millis": 9,
    "deepnote_cell_type": "code"
   },
   "source": "# Show the first three values in the boolean mask. Only value 0 should be TRUE.\ndata_age_boolean.head(3)",
   "outputs": [
    {
     "output_type": "execute_result",
     "execution_count": 15,
     "data": {
      "text/plain": "0     True\n1    False\n2    False\nName: age, dtype: bool"
     },
     "metadata": {}
    }
   ],
   "execution_count": null
  },
  {
   "cell_type": "markdown",
   "source": "The series object can be used to access a subset of the data. This is effectively filtering the entire dataset to return only entries with an age greater than 39.",
   "metadata": {
    "colab_type": "text",
    "id": "PIgN9CjQ68nt",
    "cell_id": "00028-462c3d12-5790-4821-917a-0ee8ca34b9ab",
    "deepnote_cell_type": "markdown"
   }
  },
  {
   "cell_type": "code",
   "metadata": {
    "colab_type": "code",
    "id": "yFP_Wq7jwZnY",
    "colab": {},
    "cell_id": "00029-c2057c4a-d6f4-4eba-b5b4-f950362f0afa",
    "deepnote_to_be_reexecuted": false,
    "source_hash": "ad720a2c",
    "execution_start": 1625522802546,
    "execution_millis": 43,
    "deepnote_cell_type": "code"
   },
   "source": "# Subselect data that meets the condition set by data_age_boolean\nfiltered_dataframe_by_age = data[data_age_boolean]\n# Display the resulting filtered data\nfiltered_dataframe_by_age",
   "outputs": [
    {
     "output_type": "execute_result",
     "execution_count": 16,
     "data": {
      "application/vnd.deepnote.dataframe.v2+json": {
       "row_count": 207,
       "column_count": 9,
       "columns": [
        {
         "name": "preg",
         "dtype": "int64",
         "stats": {
          "unique_count": 17,
          "nan_count": 0,
          "min": "0",
          "max": "17",
          "histogram": [
           {
            "bin_start": 0,
            "bin_end": 1.7,
            "count": 26
           },
           {
            "bin_start": 1.7,
            "bin_end": 3.4,
            "count": 16
           },
           {
            "bin_start": 3.4,
            "bin_end": 5.1,
            "count": 30
           },
           {
            "bin_start": 5.1,
            "bin_end": 6.8,
            "count": 23
           },
           {
            "bin_start": 6.8,
            "bin_end": 8.5,
            "count": 51
           },
           {
            "bin_start": 8.5,
            "bin_end": 10.2,
            "count": 33
           },
           {
            "bin_start": 10.2,
            "bin_end": 11.9,
            "count": 9
           },
           {
            "bin_start": 11.9,
            "bin_end": 13.6,
            "count": 16
           },
           {
            "bin_start": 13.6,
            "bin_end": 15.299999999999999,
            "count": 2
           },
           {
            "bin_start": 15.299999999999999,
            "bin_end": 17,
            "count": 1
           }
          ]
         }
        },
        {
         "name": "plas",
         "dtype": "int64",
         "stats": {
          "unique_count": 102,
          "nan_count": 0,
          "min": "0",
          "max": "197",
          "histogram": [
           {
            "bin_start": 0,
            "bin_end": 19.7,
            "count": 1
           },
           {
            "bin_start": 19.7,
            "bin_end": 39.4,
            "count": 0
           },
           {
            "bin_start": 39.4,
            "bin_end": 59.099999999999994,
            "count": 2
           },
           {
            "bin_start": 59.099999999999994,
            "bin_end": 78.8,
            "count": 6
           },
           {
            "bin_start": 78.8,
            "bin_end": 98.5,
            "count": 20
           },
           {
            "bin_start": 98.5,
            "bin_end": 118.19999999999999,
            "count": 47
           },
           {
            "bin_start": 118.19999999999999,
            "bin_end": 137.9,
            "count": 46
           },
           {
            "bin_start": 137.9,
            "bin_end": 157.6,
            "count": 37
           },
           {
            "bin_start": 157.6,
            "bin_end": 177.29999999999998,
            "count": 26
           },
           {
            "bin_start": 177.29999999999998,
            "bin_end": 197,
            "count": 22
           }
          ]
         }
        },
        {
         "name": "pres",
         "dtype": "int64",
         "stats": {
          "unique_count": 36,
          "nan_count": 0,
          "min": "0",
          "max": "114",
          "histogram": [
           {
            "bin_start": 0,
            "bin_end": 11.4,
            "count": 6
           },
           {
            "bin_start": 11.4,
            "bin_end": 22.8,
            "count": 0
           },
           {
            "bin_start": 22.8,
            "bin_end": 34.2,
            "count": 0
           },
           {
            "bin_start": 34.2,
            "bin_end": 45.6,
            "count": 0
           },
           {
            "bin_start": 45.6,
            "bin_end": 57,
            "count": 4
           },
           {
            "bin_start": 57,
            "bin_end": 68.4,
            "count": 33
           },
           {
            "bin_start": 68.4,
            "bin_end": 79.8,
            "count": 79
           },
           {
            "bin_start": 79.8,
            "bin_end": 91.2,
            "count": 65
           },
           {
            "bin_start": 91.2,
            "bin_end": 102.60000000000001,
            "count": 12
           },
           {
            "bin_start": 102.60000000000001,
            "bin_end": 114,
            "count": 8
           }
          ]
         }
        },
        {
         "name": "skin",
         "dtype": "int64",
         "stats": {
          "unique_count": 37,
          "nan_count": 0,
          "min": "0",
          "max": "99",
          "histogram": [
           {
            "bin_start": 0,
            "bin_end": 9.9,
            "count": 89
           },
           {
            "bin_start": 9.9,
            "bin_end": 19.8,
            "count": 12
           },
           {
            "bin_start": 19.8,
            "bin_end": 29.700000000000003,
            "count": 40
           },
           {
            "bin_start": 29.700000000000003,
            "bin_end": 39.6,
            "count": 42
           },
           {
            "bin_start": 39.6,
            "bin_end": 49.5,
            "count": 22
           },
           {
            "bin_start": 49.5,
            "bin_end": 59.400000000000006,
            "count": 1
           },
           {
            "bin_start": 59.400000000000006,
            "bin_end": 69.3,
            "count": 0
           },
           {
            "bin_start": 69.3,
            "bin_end": 79.2,
            "count": 0
           },
           {
            "bin_start": 79.2,
            "bin_end": 89.10000000000001,
            "count": 0
           },
           {
            "bin_start": 89.10000000000001,
            "bin_end": 99,
            "count": 1
           }
          ]
         }
        },
        {
         "name": "test",
         "dtype": "int64",
         "stats": {
          "unique_count": 62,
          "nan_count": 0,
          "min": "0",
          "max": "846",
          "histogram": [
           {
            "bin_start": 0,
            "bin_end": 84.6,
            "count": 141
           },
           {
            "bin_start": 84.6,
            "bin_end": 169.2,
            "count": 31
           },
           {
            "bin_start": 169.2,
            "bin_end": 253.79999999999998,
            "count": 18
           },
           {
            "bin_start": 253.79999999999998,
            "bin_end": 338.4,
            "count": 9
           },
           {
            "bin_start": 338.4,
            "bin_end": 423,
            "count": 2
           },
           {
            "bin_start": 423,
            "bin_end": 507.59999999999997,
            "count": 3
           },
           {
            "bin_start": 507.59999999999997,
            "bin_end": 592.1999999999999,
            "count": 1
           },
           {
            "bin_start": 592.1999999999999,
            "bin_end": 676.8,
            "count": 1
           },
           {
            "bin_start": 676.8,
            "bin_end": 761.4,
            "count": 0
           },
           {
            "bin_start": 761.4,
            "bin_end": 846,
            "count": 1
           }
          ]
         }
        },
        {
         "name": "mass",
         "dtype": "float64",
         "stats": {
          "unique_count": 134,
          "nan_count": 0,
          "min": "0.0",
          "max": "52.3",
          "histogram": [
           {
            "bin_start": 0,
            "bin_end": 5.2299999999999995,
            "count": 2
           },
           {
            "bin_start": 5.2299999999999995,
            "bin_end": 10.459999999999999,
            "count": 0
           },
           {
            "bin_start": 10.459999999999999,
            "bin_end": 15.689999999999998,
            "count": 0
           },
           {
            "bin_start": 15.689999999999998,
            "bin_end": 20.919999999999998,
            "count": 3
           },
           {
            "bin_start": 20.919999999999998,
            "bin_end": 26.15,
            "count": 26
           },
           {
            "bin_start": 26.15,
            "bin_end": 31.379999999999995,
            "count": 52
           },
           {
            "bin_start": 31.379999999999995,
            "bin_end": 36.61,
            "count": 69
           },
           {
            "bin_start": 36.61,
            "bin_end": 41.839999999999996,
            "count": 36
           },
           {
            "bin_start": 41.839999999999996,
            "bin_end": 47.06999999999999,
            "count": 17
           },
           {
            "bin_start": 47.06999999999999,
            "bin_end": 52.3,
            "count": 2
           }
          ]
         }
        },
        {
         "name": "pedi",
         "dtype": "float64",
         "stats": {
          "unique_count": 173,
          "nan_count": 0,
          "min": "0.085",
          "max": "1.781",
          "histogram": [
           {
            "bin_start": 0.085,
            "bin_end": 0.2546,
            "count": 66
           },
           {
            "bin_start": 0.2546,
            "bin_end": 0.4242,
            "count": 53
           },
           {
            "bin_start": 0.4242,
            "bin_end": 0.5938,
            "count": 30
           },
           {
            "bin_start": 0.5938,
            "bin_end": 0.7634,
            "count": 28
           },
           {
            "bin_start": 0.7634,
            "bin_end": 0.9329999999999999,
            "count": 13
           },
           {
            "bin_start": 0.9329999999999999,
            "bin_end": 1.1026,
            "count": 3
           },
           {
            "bin_start": 1.1026,
            "bin_end": 1.2722,
            "count": 7
           },
           {
            "bin_start": 1.2722,
            "bin_end": 1.4418,
            "count": 4
           },
           {
            "bin_start": 1.4418,
            "bin_end": 1.6114,
            "count": 2
           },
           {
            "bin_start": 1.6114,
            "bin_end": 1.781,
            "count": 1
           }
          ]
         }
        },
        {
         "name": "age",
         "dtype": "int64",
         "stats": {
          "unique_count": 33,
          "nan_count": 0,
          "min": "40",
          "max": "81",
          "histogram": [
           {
            "bin_start": 40,
            "bin_end": 44.1,
            "count": 74
           },
           {
            "bin_start": 44.1,
            "bin_end": 48.2,
            "count": 39
           },
           {
            "bin_start": 48.2,
            "bin_end": 52.3,
            "count": 29
           },
           {
            "bin_start": 52.3,
            "bin_end": 56.4,
            "count": 18
           },
           {
            "bin_start": 56.4,
            "bin_end": 60.5,
            "count": 20
           },
           {
            "bin_start": 60.5,
            "bin_end": 64.6,
            "count": 11
           },
           {
            "bin_start": 64.6,
            "bin_end": 68.69999999999999,
            "count": 11
           },
           {
            "bin_start": 68.69999999999999,
            "bin_end": 72.8,
            "count": 4
           },
           {
            "bin_start": 72.8,
            "bin_end": 76.9,
            "count": 0
           },
           {
            "bin_start": 76.9,
            "bin_end": 81,
            "count": 1
           }
          ]
         }
        },
        {
         "name": "class",
         "dtype": "int64",
         "stats": {
          "unique_count": 2,
          "nan_count": 0,
          "min": "0",
          "max": "1",
          "histogram": [
           {
            "bin_start": 0,
            "bin_end": 0.1,
            "count": 99
           },
           {
            "bin_start": 0.1,
            "bin_end": 0.2,
            "count": 0
           },
           {
            "bin_start": 0.2,
            "bin_end": 0.30000000000000004,
            "count": 0
           },
           {
            "bin_start": 0.30000000000000004,
            "bin_end": 0.4,
            "count": 0
           },
           {
            "bin_start": 0.4,
            "bin_end": 0.5,
            "count": 0
           },
           {
            "bin_start": 0.5,
            "bin_end": 0.6000000000000001,
            "count": 0
           },
           {
            "bin_start": 0.6000000000000001,
            "bin_end": 0.7000000000000001,
            "count": 0
           },
           {
            "bin_start": 0.7000000000000001,
            "bin_end": 0.8,
            "count": 0
           },
           {
            "bin_start": 0.8,
            "bin_end": 0.9,
            "count": 0
           },
           {
            "bin_start": 0.9,
            "bin_end": 1,
            "count": 108
           }
          ]
         }
        },
        {
         "name": "_deepnote_index_column",
         "dtype": "int64"
        }
       ],
       "rows_top": [
        {
         "preg": 6,
         "plas": 148,
         "pres": 72,
         "skin": 35,
         "test": 0,
         "mass": 33.6,
         "pedi": 0.627,
         "age": 50,
         "class": 1,
         "_deepnote_index_column": 0
        },
        {
         "preg": 2,
         "plas": 197,
         "pres": 70,
         "skin": 45,
         "test": 543,
         "mass": 30.5,
         "pedi": 0.158,
         "age": 53,
         "class": 1,
         "_deepnote_index_column": 8
        },
        {
         "preg": 8,
         "plas": 125,
         "pres": 96,
         "skin": 0,
         "test": 0,
         "mass": 0,
         "pedi": 0.232,
         "age": 54,
         "class": 1,
         "_deepnote_index_column": 9
        },
        {
         "preg": 10,
         "plas": 139,
         "pres": 80,
         "skin": 0,
         "test": 0,
         "mass": 27.1,
         "pedi": 1.441,
         "age": 57,
         "class": 0,
         "_deepnote_index_column": 12
        },
        {
         "preg": 1,
         "plas": 189,
         "pres": 60,
         "skin": 23,
         "test": 846,
         "mass": 30.1,
         "pedi": 0.398,
         "age": 59,
         "class": 1,
         "_deepnote_index_column": 13
        },
        {
         "preg": 5,
         "plas": 166,
         "pres": 72,
         "skin": 19,
         "test": 175,
         "mass": 25.8,
         "pedi": 0.587,
         "age": 51,
         "class": 1,
         "_deepnote_index_column": 14
        },
        {
         "preg": 8,
         "plas": 99,
         "pres": 84,
         "skin": 0,
         "test": 0,
         "mass": 35.4,
         "pedi": 0.388,
         "age": 50,
         "class": 0,
         "_deepnote_index_column": 21
        },
        {
         "preg": 7,
         "plas": 196,
         "pres": 90,
         "skin": 0,
         "test": 0,
         "mass": 39.8,
         "pedi": 0.451,
         "age": 41,
         "class": 1,
         "_deepnote_index_column": 22
        },
        {
         "preg": 11,
         "plas": 143,
         "pres": 94,
         "skin": 33,
         "test": 146,
         "mass": 36.6,
         "pedi": 0.254,
         "age": 51,
         "class": 1,
         "_deepnote_index_column": 24
        },
        {
         "preg": 10,
         "plas": 125,
         "pres": 70,
         "skin": 26,
         "test": 115,
         "mass": 31.1,
         "pedi": 0.205,
         "age": 41,
         "class": 1,
         "_deepnote_index_column": 25
        },
        {
         "preg": 7,
         "plas": 147,
         "pres": 76,
         "skin": 0,
         "test": 0,
         "mass": 39.4,
         "pedi": 0.257,
         "age": 43,
         "class": 1,
         "_deepnote_index_column": 26
        },
        {
         "preg": 13,
         "plas": 145,
         "pres": 82,
         "skin": 19,
         "test": 110,
         "mass": 22.2,
         "pedi": 0.245,
         "age": 57,
         "class": 0,
         "_deepnote_index_column": 28
        },
        {
         "preg": 5,
         "plas": 109,
         "pres": 75,
         "skin": 26,
         "test": 0,
         "mass": 36,
         "pedi": 0.546,
         "age": 60,
         "class": 0,
         "_deepnote_index_column": 30
        },
        {
         "preg": 10,
         "plas": 122,
         "pres": 78,
         "skin": 31,
         "test": 0,
         "mass": 27.6,
         "pedi": 0.512,
         "age": 45,
         "class": 0,
         "_deepnote_index_column": 34
        },
        {
         "preg": 9,
         "plas": 102,
         "pres": 76,
         "skin": 37,
         "test": 0,
         "mass": 32.9,
         "pedi": 0.665,
         "age": 46,
         "class": 1,
         "_deepnote_index_column": 37
        },
        {
         "preg": 4,
         "plas": 111,
         "pres": 72,
         "skin": 47,
         "test": 207,
         "mass": 37.1,
         "pedi": 1.39,
         "age": 56,
         "class": 1,
         "_deepnote_index_column": 39
        },
        {
         "preg": 7,
         "plas": 106,
         "pres": 92,
         "skin": 18,
         "test": 0,
         "mass": 22.7,
         "pedi": 0.235,
         "age": 48,
         "class": 0,
         "_deepnote_index_column": 42
        },
        {
         "preg": 9,
         "plas": 171,
         "pres": 110,
         "skin": 24,
         "test": 240,
         "mass": 45.4,
         "pedi": 0.721,
         "age": 54,
         "class": 1,
         "_deepnote_index_column": 43
        },
        {
         "preg": 7,
         "plas": 159,
         "pres": 64,
         "skin": 0,
         "test": 0,
         "mass": 27.4,
         "pedi": 0.294,
         "age": 40,
         "class": 0,
         "_deepnote_index_column": 44
        },
        {
         "preg": 8,
         "plas": 176,
         "pres": 90,
         "skin": 34,
         "test": 300,
         "mass": 33.7,
         "pedi": 0.467,
         "age": 58,
         "class": 1,
         "_deepnote_index_column": 53
        },
        {
         "preg": 7,
         "plas": 150,
         "pres": 66,
         "skin": 42,
         "test": 342,
         "mass": 34.7,
         "pedi": 0.718,
         "age": 42,
         "class": 0,
         "_deepnote_index_column": 54
        },
        {
         "preg": 7,
         "plas": 187,
         "pres": 68,
         "skin": 39,
         "test": 304,
         "mass": 37.7,
         "pedi": 0.254,
         "age": 41,
         "class": 1,
         "_deepnote_index_column": 56
        },
        {
         "preg": 0,
         "plas": 146,
         "pres": 82,
         "skin": 0,
         "test": 0,
         "mass": 40.5,
         "pedi": 1.781,
         "age": 44,
         "class": 0,
         "_deepnote_index_column": 58
        },
        {
         "preg": 7,
         "plas": 114,
         "pres": 66,
         "skin": 0,
         "test": 0,
         "mass": 32.8,
         "pedi": 0.258,
         "age": 42,
         "class": 1,
         "_deepnote_index_column": 64
        },
        {
         "preg": 2,
         "plas": 109,
         "pres": 92,
         "skin": 0,
         "test": 0,
         "mass": 42.7,
         "pedi": 0.845,
         "age": 54,
         "class": 0,
         "_deepnote_index_column": 67
        },
        {
         "preg": 13,
         "plas": 126,
         "pres": 90,
         "skin": 0,
         "test": 0,
         "mass": 43.4,
         "pedi": 0.583,
         "age": 42,
         "class": 1,
         "_deepnote_index_column": 72
        },
        {
         "preg": 7,
         "plas": 62,
         "pres": 78,
         "skin": 0,
         "test": 0,
         "mass": 32.6,
         "pedi": 0.391,
         "age": 41,
         "class": 0,
         "_deepnote_index_column": 76
        },
        {
         "preg": 13,
         "plas": 106,
         "pres": 72,
         "skin": 54,
         "test": 0,
         "mass": 36.6,
         "pedi": 0.178,
         "age": 45,
         "class": 0,
         "_deepnote_index_column": 86
        },
        {
         "preg": 15,
         "plas": 136,
         "pres": 70,
         "skin": 32,
         "test": 110,
         "mass": 37.1,
         "pedi": 0.153,
         "age": 43,
         "class": 1,
         "_deepnote_index_column": 88
        },
        {
         "preg": 7,
         "plas": 81,
         "pres": 78,
         "skin": 40,
         "test": 48,
         "mass": 46.7,
         "pedi": 0.261,
         "age": 42,
         "class": 0,
         "_deepnote_index_column": 92
        },
        {
         "preg": 4,
         "plas": 134,
         "pres": 72,
         "skin": 0,
         "test": 0,
         "mass": 23.8,
         "pedi": 0.277,
         "age": 60,
         "class": 1,
         "_deepnote_index_column": 93
        },
        {
         "preg": 6,
         "plas": 144,
         "pres": 72,
         "skin": 27,
         "test": 228,
         "mass": 33.9,
         "pedi": 0.255,
         "age": 40,
         "class": 0,
         "_deepnote_index_column": 95
        },
        {
         "preg": 8,
         "plas": 155,
         "pres": 62,
         "skin": 26,
         "test": 495,
         "mass": 34,
         "pedi": 0.543,
         "age": 46,
         "class": 1,
         "_deepnote_index_column": 111
        },
        {
         "preg": 4,
         "plas": 146,
         "pres": 92,
         "skin": 0,
         "test": 0,
         "mass": 31.2,
         "pedi": 0.539,
         "age": 61,
         "class": 1,
         "_deepnote_index_column": 115
        },
        {
         "preg": 5,
         "plas": 132,
         "pres": 80,
         "skin": 0,
         "test": 0,
         "mass": 26.8,
         "pedi": 0.186,
         "age": 69,
         "class": 0,
         "_deepnote_index_column": 123
        },
        {
         "preg": 1,
         "plas": 117,
         "pres": 88,
         "skin": 24,
         "test": 145,
         "mass": 34.5,
         "pedi": 0.403,
         "age": 40,
         "class": 1,
         "_deepnote_index_column": 128
        },
        {
         "preg": 0,
         "plas": 105,
         "pres": 84,
         "skin": 0,
         "test": 0,
         "mass": 27.9,
         "pedi": 0.741,
         "age": 62,
         "class": 1,
         "_deepnote_index_column": 129
        },
        {
         "preg": 3,
         "plas": 128,
         "pres": 78,
         "skin": 0,
         "test": 0,
         "mass": 21.1,
         "pedi": 0.268,
         "age": 55,
         "class": 0,
         "_deepnote_index_column": 140
        },
        {
         "preg": 10,
         "plas": 108,
         "pres": 66,
         "skin": 0,
         "test": 0,
         "mass": 32.4,
         "pedi": 0.272,
         "age": 42,
         "class": 1,
         "_deepnote_index_column": 143
        },
        {
         "preg": 9,
         "plas": 57,
         "pres": 80,
         "skin": 37,
         "test": 0,
         "mass": 32.8,
         "pedi": 0.096,
         "age": 41,
         "class": 0,
         "_deepnote_index_column": 146
        },
        {
         "preg": 5,
         "plas": 147,
         "pres": 78,
         "skin": 0,
         "test": 0,
         "mass": 33.7,
         "pedi": 0.218,
         "age": 65,
         "class": 0,
         "_deepnote_index_column": 148
        },
        {
         "preg": 9,
         "plas": 156,
         "pres": 86,
         "skin": 28,
         "test": 155,
         "mass": 34.3,
         "pedi": 1.189,
         "age": 42,
         "class": 1,
         "_deepnote_index_column": 152
        },
        {
         "preg": 8,
         "plas": 188,
         "pres": 78,
         "skin": 0,
         "test": 0,
         "mass": 47.9,
         "pedi": 0.137,
         "age": 43,
         "class": 1,
         "_deepnote_index_column": 154
        },
        {
         "preg": 17,
         "plas": 163,
         "pres": 72,
         "skin": 41,
         "test": 114,
         "mass": 40.9,
         "pedi": 0.817,
         "age": 47,
         "class": 1,
         "_deepnote_index_column": 159
        },
        {
         "preg": 7,
         "plas": 102,
         "pres": 74,
         "skin": 40,
         "test": 105,
         "mass": 37.2,
         "pedi": 0.204,
         "age": 45,
         "class": 0,
         "_deepnote_index_column": 161
        },
        {
         "preg": 6,
         "plas": 104,
         "pres": 74,
         "skin": 18,
         "test": 156,
         "mass": 29.9,
         "pedi": 0.722,
         "age": 41,
         "class": 1,
         "_deepnote_index_column": 165
        },
        {
         "preg": 6,
         "plas": 85,
         "pres": 78,
         "skin": 0,
         "test": 0,
         "mass": 31.2,
         "pedi": 0.382,
         "age": 42,
         "class": 0,
         "_deepnote_index_column": 176
        },
        {
         "preg": 5,
         "plas": 143,
         "pres": 78,
         "skin": 0,
         "test": 0,
         "mass": 45,
         "pedi": 0.19,
         "age": 47,
         "class": 0,
         "_deepnote_index_column": 178
        },
        {
         "preg": 4,
         "plas": 141,
         "pres": 74,
         "skin": 0,
         "test": 0,
         "mass": 27.6,
         "pedi": 0.244,
         "age": 40,
         "class": 0,
         "_deepnote_index_column": 184
        },
        {
         "preg": 7,
         "plas": 194,
         "pres": 68,
         "skin": 28,
         "test": 0,
         "mass": 35.9,
         "pedi": 0.745,
         "age": 41,
         "class": 1,
         "_deepnote_index_column": 185
        },
        {
         "preg": 8,
         "plas": 181,
         "pres": 68,
         "skin": 36,
         "test": 495,
         "mass": 30.1,
         "pedi": 0.615,
         "age": 60,
         "class": 1,
         "_deepnote_index_column": 186
        },
        {
         "preg": 9,
         "plas": 123,
         "pres": 70,
         "skin": 44,
         "test": 94,
         "mass": 33.1,
         "pedi": 0.374,
         "age": 40,
         "class": 0,
         "_deepnote_index_column": 191
        },
        {
         "preg": 11,
         "plas": 135,
         "pres": 0,
         "skin": 0,
         "test": 0,
         "mass": 52.3,
         "pedi": 0.578,
         "age": 40,
         "class": 1,
         "_deepnote_index_column": 193
        },
        {
         "preg": 8,
         "plas": 85,
         "pres": 55,
         "skin": 20,
         "test": 0,
         "mass": 24.4,
         "pedi": 0.136,
         "age": 42,
         "class": 0,
         "_deepnote_index_column": 194
        },
        {
         "preg": 6,
         "plas": 103,
         "pres": 72,
         "skin": 32,
         "test": 190,
         "mass": 37.7,
         "pedi": 0.324,
         "age": 55,
         "class": 0,
         "_deepnote_index_column": 204
        }
       ],
       "rows_bottom": [
        {
         "preg": 8,
         "plas": 143,
         "pres": 66,
         "skin": 0,
         "test": 0,
         "mass": 34.9,
         "pedi": 0.129,
         "age": 41,
         "class": 1,
         "_deepnote_index_column": 586
        },
        {
         "preg": 3,
         "plas": 176,
         "pres": 86,
         "skin": 27,
         "test": 156,
         "mass": 33.3,
         "pedi": 1.154,
         "age": 52,
         "class": 1,
         "_deepnote_index_column": 588
        },
        {
         "preg": 11,
         "plas": 111,
         "pres": 84,
         "skin": 40,
         "test": 0,
         "mass": 46.8,
         "pedi": 0.925,
         "age": 45,
         "class": 1,
         "_deepnote_index_column": 590
        },
        {
         "preg": 3,
         "plas": 132,
         "pres": 80,
         "skin": 0,
         "test": 0,
         "mass": 34.4,
         "pedi": 0.402,
         "age": 44,
         "class": 1,
         "_deepnote_index_column": 592
        },
        {
         "preg": 0,
         "plas": 67,
         "pres": 76,
         "skin": 0,
         "test": 0,
         "mass": 45.3,
         "pedi": 0.194,
         "age": 46,
         "class": 0,
         "_deepnote_index_column": 596
        },
        {
         "preg": 7,
         "plas": 150,
         "pres": 78,
         "skin": 29,
         "test": 126,
         "mass": 35.2,
         "pedi": 0.692,
         "age": 54,
         "class": 1,
         "_deepnote_index_column": 603
        },
        {
         "preg": 7,
         "plas": 168,
         "pres": 88,
         "skin": 42,
         "test": 321,
         "mass": 38.2,
         "pedi": 0.787,
         "age": 40,
         "class": 1,
         "_deepnote_index_column": 612
        },
        {
         "preg": 11,
         "plas": 138,
         "pres": 74,
         "skin": 26,
         "test": 144,
         "mass": 36.1,
         "pedi": 0.557,
         "age": 50,
         "class": 1,
         "_deepnote_index_column": 614
        },
        {
         "preg": 9,
         "plas": 112,
         "pres": 82,
         "skin": 24,
         "test": 0,
         "mass": 28.2,
         "pedi": 1.282,
         "age": 50,
         "class": 1,
         "_deepnote_index_column": 618
        },
        {
         "preg": 6,
         "plas": 183,
         "pres": 94,
         "skin": 0,
         "test": 0,
         "mass": 40.8,
         "pedi": 1.461,
         "age": 45,
         "class": 0,
         "_deepnote_index_column": 622
        },
        {
         "preg": 5,
         "plas": 128,
         "pres": 80,
         "skin": 0,
         "test": 0,
         "mass": 34.6,
         "pedi": 0.144,
         "age": 45,
         "class": 0,
         "_deepnote_index_column": 628
        },
        {
         "preg": 5,
         "plas": 104,
         "pres": 74,
         "skin": 0,
         "test": 0,
         "mass": 28.8,
         "pedi": 0.153,
         "age": 48,
         "class": 0,
         "_deepnote_index_column": 636
        },
        {
         "preg": 6,
         "plas": 147,
         "pres": 80,
         "skin": 0,
         "test": 0,
         "mass": 29.5,
         "pedi": 0.178,
         "age": 50,
         "class": 1,
         "_deepnote_index_column": 642
        },
        {
         "preg": 11,
         "plas": 136,
         "pres": 84,
         "skin": 35,
         "test": 130,
         "mass": 28.3,
         "pedi": 0.26,
         "age": 42,
         "class": 1,
         "_deepnote_index_column": 648
        },
        {
         "preg": 1,
         "plas": 120,
         "pres": 80,
         "skin": 48,
         "test": 200,
         "mass": 38.9,
         "pedi": 1.162,
         "age": 41,
         "class": 0,
         "_deepnote_index_column": 657
        },
        {
         "preg": 11,
         "plas": 127,
         "pres": 106,
         "skin": 0,
         "test": 0,
         "mass": 39,
         "pedi": 0.19,
         "age": 51,
         "class": 0,
         "_deepnote_index_column": 658
        },
        {
         "preg": 10,
         "plas": 162,
         "pres": 84,
         "skin": 0,
         "test": 0,
         "mass": 27.7,
         "pedi": 0.182,
         "age": 54,
         "class": 0,
         "_deepnote_index_column": 660
        },
        {
         "preg": 8,
         "plas": 167,
         "pres": 106,
         "skin": 46,
         "test": 231,
         "mass": 37.6,
         "pedi": 0.165,
         "age": 43,
         "class": 1,
         "_deepnote_index_column": 662
        },
        {
         "preg": 9,
         "plas": 145,
         "pres": 80,
         "skin": 46,
         "test": 130,
         "mass": 37.9,
         "pedi": 0.637,
         "age": 40,
         "class": 1,
         "_deepnote_index_column": 663
        },
        {
         "preg": 6,
         "plas": 115,
         "pres": 60,
         "skin": 39,
         "test": 0,
         "mass": 33.7,
         "pedi": 0.245,
         "age": 40,
         "class": 1,
         "_deepnote_index_column": 664
        },
        {
         "preg": 4,
         "plas": 145,
         "pres": 82,
         "skin": 18,
         "test": 0,
         "mass": 32.5,
         "pedi": 0.235,
         "age": 70,
         "class": 1,
         "_deepnote_index_column": 666
        },
        {
         "preg": 10,
         "plas": 111,
         "pres": 70,
         "skin": 27,
         "test": 0,
         "mass": 27.5,
         "pedi": 0.141,
         "age": 40,
         "class": 1,
         "_deepnote_index_column": 667
        },
        {
         "preg": 6,
         "plas": 98,
         "pres": 58,
         "skin": 33,
         "test": 190,
         "mass": 34,
         "pedi": 0.43,
         "age": 43,
         "class": 0,
         "_deepnote_index_column": 668
        },
        {
         "preg": 9,
         "plas": 154,
         "pres": 78,
         "skin": 30,
         "test": 100,
         "mass": 30.9,
         "pedi": 0.164,
         "age": 45,
         "class": 0,
         "_deepnote_index_column": 669
        },
        {
         "preg": 6,
         "plas": 165,
         "pres": 68,
         "skin": 26,
         "test": 168,
         "mass": 33.6,
         "pedi": 0.631,
         "age": 49,
         "class": 0,
         "_deepnote_index_column": 670
        },
        {
         "preg": 10,
         "plas": 68,
         "pres": 106,
         "skin": 23,
         "test": 49,
         "mass": 35.5,
         "pedi": 0.285,
         "age": 47,
         "class": 0,
         "_deepnote_index_column": 672
        },
        {
         "preg": 8,
         "plas": 91,
         "pres": 82,
         "skin": 0,
         "test": 0,
         "mass": 35.6,
         "pedi": 0.587,
         "age": 68,
         "class": 0,
         "_deepnote_index_column": 674
        },
        {
         "preg": 9,
         "plas": 156,
         "pres": 86,
         "skin": 0,
         "test": 0,
         "mass": 24.8,
         "pedi": 0.23,
         "age": 53,
         "class": 1,
         "_deepnote_index_column": 676
        },
        {
         "preg": 5,
         "plas": 136,
         "pres": 82,
         "skin": 0,
         "test": 0,
         "mass": 0,
         "pedi": 0.64,
         "age": 69,
         "class": 0,
         "_deepnote_index_column": 684
        },
        {
         "preg": 1,
         "plas": 144,
         "pres": 82,
         "skin": 46,
         "test": 180,
         "mass": 46.1,
         "pedi": 0.335,
         "age": 46,
         "class": 1,
         "_deepnote_index_column": 689
        },
        {
         "preg": 13,
         "plas": 158,
         "pres": 114,
         "skin": 0,
         "test": 0,
         "mass": 42.3,
         "pedi": 0.257,
         "age": 44,
         "class": 1,
         "_deepnote_index_column": 691
        },
        {
         "preg": 7,
         "plas": 129,
         "pres": 68,
         "skin": 49,
         "test": 125,
         "mass": 38.5,
         "pedi": 0.439,
         "age": 43,
         "class": 1,
         "_deepnote_index_column": 693
        },
        {
         "preg": 7,
         "plas": 142,
         "pres": 90,
         "skin": 24,
         "test": 480,
         "mass": 30.4,
         "pedi": 0.128,
         "age": 43,
         "class": 1,
         "_deepnote_index_column": 695
        },
        {
         "preg": 6,
         "plas": 125,
         "pres": 78,
         "skin": 31,
         "test": 0,
         "mass": 27.6,
         "pedi": 0.565,
         "age": 49,
         "class": 1,
         "_deepnote_index_column": 701
        },
        {
         "preg": 1,
         "plas": 168,
         "pres": 88,
         "skin": 29,
         "test": 0,
         "mass": 35,
         "pedi": 0.905,
         "age": 52,
         "class": 1,
         "_deepnote_index_column": 702
        },
        {
         "preg": 2,
         "plas": 129,
         "pres": 0,
         "skin": 0,
         "test": 0,
         "mass": 38.5,
         "pedi": 0.304,
         "age": 41,
         "class": 0,
         "_deepnote_index_column": 703
        },
        {
         "preg": 9,
         "plas": 164,
         "pres": 78,
         "skin": 0,
         "test": 0,
         "mass": 32.8,
         "pedi": 0.148,
         "age": 45,
         "class": 1,
         "_deepnote_index_column": 708
        },
        {
         "preg": 5,
         "plas": 126,
         "pres": 78,
         "skin": 27,
         "test": 22,
         "mass": 29.6,
         "pedi": 0.439,
         "age": 40,
         "class": 0,
         "_deepnote_index_column": 711
        },
        {
         "preg": 10,
         "plas": 94,
         "pres": 72,
         "skin": 18,
         "test": 0,
         "mass": 23.1,
         "pedi": 0.595,
         "age": 56,
         "class": 0,
         "_deepnote_index_column": 717
        },
        {
         "preg": 5,
         "plas": 97,
         "pres": 76,
         "skin": 27,
         "test": 0,
         "mass": 35.6,
         "pedi": 0.378,
         "age": 52,
         "class": 1,
         "_deepnote_index_column": 719
        },
        {
         "preg": 1,
         "plas": 149,
         "pres": 68,
         "skin": 29,
         "test": 127,
         "mass": 29.3,
         "pedi": 0.349,
         "age": 42,
         "class": 1,
         "_deepnote_index_column": 722
        },
        {
         "preg": 5,
         "plas": 117,
         "pres": 86,
         "skin": 30,
         "test": 105,
         "mass": 39.1,
         "pedi": 0.251,
         "age": 42,
         "class": 0,
         "_deepnote_index_column": 723
        },
        {
         "preg": 1,
         "plas": 111,
         "pres": 94,
         "skin": 0,
         "test": 0,
         "mass": 32.8,
         "pedi": 0.265,
         "age": 45,
         "class": 0,
         "_deepnote_index_column": 724
        },
        {
         "preg": 2,
         "plas": 105,
         "pres": 75,
         "skin": 0,
         "test": 0,
         "mass": 23.3,
         "pedi": 0.56,
         "age": 53,
         "class": 0,
         "_deepnote_index_column": 734
        },
        {
         "preg": 8,
         "plas": 65,
         "pres": 72,
         "skin": 23,
         "test": 0,
         "mass": 32,
         "pedi": 0.6,
         "age": 42,
         "class": 0,
         "_deepnote_index_column": 737
        },
        {
         "preg": 1,
         "plas": 102,
         "pres": 74,
         "skin": 0,
         "test": 0,
         "mass": 39.5,
         "pedi": 0.293,
         "age": 42,
         "class": 1,
         "_deepnote_index_column": 739
        },
        {
         "preg": 11,
         "plas": 120,
         "pres": 80,
         "skin": 37,
         "test": 150,
         "mass": 42.3,
         "pedi": 0.785,
         "age": 48,
         "class": 1,
         "_deepnote_index_column": 740
        },
        {
         "preg": 9,
         "plas": 140,
         "pres": 94,
         "skin": 0,
         "test": 0,
         "mass": 32.7,
         "pedi": 0.734,
         "age": 45,
         "class": 1,
         "_deepnote_index_column": 743
        },
        {
         "preg": 12,
         "plas": 100,
         "pres": 84,
         "skin": 33,
         "test": 105,
         "mass": 30,
         "pedi": 0.488,
         "age": 46,
         "class": 0,
         "_deepnote_index_column": 745
        },
        {
         "preg": 6,
         "plas": 162,
         "pres": 62,
         "skin": 0,
         "test": 0,
         "mass": 24.3,
         "pedi": 0.178,
         "age": 50,
         "class": 1,
         "_deepnote_index_column": 749
        },
        {
         "preg": 8,
         "plas": 154,
         "pres": 78,
         "skin": 32,
         "test": 0,
         "mass": 32.4,
         "pedi": 0.443,
         "age": 45,
         "class": 1,
         "_deepnote_index_column": 754
        },
        {
         "preg": 0,
         "plas": 123,
         "pres": 72,
         "skin": 0,
         "test": 0,
         "mass": 36.3,
         "pedi": 0.258,
         "age": 52,
         "class": 1,
         "_deepnote_index_column": 757
        },
        {
         "preg": 6,
         "plas": 190,
         "pres": 92,
         "skin": 0,
         "test": 0,
         "mass": 35.5,
         "pedi": 0.278,
         "age": 66,
         "class": 1,
         "_deepnote_index_column": 759
        },
        {
         "preg": 9,
         "plas": 170,
         "pres": 74,
         "skin": 31,
         "test": 0,
         "mass": 44,
         "pedi": 0.403,
         "age": 43,
         "class": 1,
         "_deepnote_index_column": 761
        },
        {
         "preg": 10,
         "plas": 101,
         "pres": 76,
         "skin": 48,
         "test": 180,
         "mass": 32.9,
         "pedi": 0.171,
         "age": 63,
         "class": 0,
         "_deepnote_index_column": 763
        },
        {
         "preg": 1,
         "plas": 126,
         "pres": 60,
         "skin": 0,
         "test": 0,
         "mass": 30.1,
         "pedi": 0.349,
         "age": 47,
         "class": 1,
         "_deepnote_index_column": 766
        }
       ]
      },
      "text/plain": "     preg  plas  pres  skin  test  mass   pedi  age  class\n0       6   148    72    35     0  33.6  0.627   50      1\n8       2   197    70    45   543  30.5  0.158   53      1\n9       8   125    96     0     0   0.0  0.232   54      1\n12     10   139    80     0     0  27.1  1.441   57      0\n13      1   189    60    23   846  30.1  0.398   59      1\n..    ...   ...   ...   ...   ...   ...    ...  ...    ...\n757     0   123    72     0     0  36.3  0.258   52      1\n759     6   190    92     0     0  35.5  0.278   66      1\n761     9   170    74    31     0  44.0  0.403   43      1\n763    10   101    76    48   180  32.9  0.171   63      0\n766     1   126    60     0     0  30.1  0.349   47      1\n\n[207 rows x 9 columns]",
      "text/html": "<div>\n<style scoped>\n    .dataframe tbody tr th:only-of-type {\n        vertical-align: middle;\n    }\n\n    .dataframe tbody tr th {\n        vertical-align: top;\n    }\n\n    .dataframe thead th {\n        text-align: right;\n    }\n</style>\n<table border=\"1\" class=\"dataframe\">\n  <thead>\n    <tr style=\"text-align: right;\">\n      <th></th>\n      <th>preg</th>\n      <th>plas</th>\n      <th>pres</th>\n      <th>skin</th>\n      <th>test</th>\n      <th>mass</th>\n      <th>pedi</th>\n      <th>age</th>\n      <th>class</th>\n    </tr>\n  </thead>\n  <tbody>\n    <tr>\n      <th>0</th>\n      <td>6</td>\n      <td>148</td>\n      <td>72</td>\n      <td>35</td>\n      <td>0</td>\n      <td>33.6</td>\n      <td>0.627</td>\n      <td>50</td>\n      <td>1</td>\n    </tr>\n    <tr>\n      <th>8</th>\n      <td>2</td>\n      <td>197</td>\n      <td>70</td>\n      <td>45</td>\n      <td>543</td>\n      <td>30.5</td>\n      <td>0.158</td>\n      <td>53</td>\n      <td>1</td>\n    </tr>\n    <tr>\n      <th>9</th>\n      <td>8</td>\n      <td>125</td>\n      <td>96</td>\n      <td>0</td>\n      <td>0</td>\n      <td>0.0</td>\n      <td>0.232</td>\n      <td>54</td>\n      <td>1</td>\n    </tr>\n    <tr>\n      <th>12</th>\n      <td>10</td>\n      <td>139</td>\n      <td>80</td>\n      <td>0</td>\n      <td>0</td>\n      <td>27.1</td>\n      <td>1.441</td>\n      <td>57</td>\n      <td>0</td>\n    </tr>\n    <tr>\n      <th>13</th>\n      <td>1</td>\n      <td>189</td>\n      <td>60</td>\n      <td>23</td>\n      <td>846</td>\n      <td>30.1</td>\n      <td>0.398</td>\n      <td>59</td>\n      <td>1</td>\n    </tr>\n    <tr>\n      <th>...</th>\n      <td>...</td>\n      <td>...</td>\n      <td>...</td>\n      <td>...</td>\n      <td>...</td>\n      <td>...</td>\n      <td>...</td>\n      <td>...</td>\n      <td>...</td>\n    </tr>\n    <tr>\n      <th>757</th>\n      <td>0</td>\n      <td>123</td>\n      <td>72</td>\n      <td>0</td>\n      <td>0</td>\n      <td>36.3</td>\n      <td>0.258</td>\n      <td>52</td>\n      <td>1</td>\n    </tr>\n    <tr>\n      <th>759</th>\n      <td>6</td>\n      <td>190</td>\n      <td>92</td>\n      <td>0</td>\n      <td>0</td>\n      <td>35.5</td>\n      <td>0.278</td>\n      <td>66</td>\n      <td>1</td>\n    </tr>\n    <tr>\n      <th>761</th>\n      <td>9</td>\n      <td>170</td>\n      <td>74</td>\n      <td>31</td>\n      <td>0</td>\n      <td>44.0</td>\n      <td>0.403</td>\n      <td>43</td>\n      <td>1</td>\n    </tr>\n    <tr>\n      <th>763</th>\n      <td>10</td>\n      <td>101</td>\n      <td>76</td>\n      <td>48</td>\n      <td>180</td>\n      <td>32.9</td>\n      <td>0.171</td>\n      <td>63</td>\n      <td>0</td>\n    </tr>\n    <tr>\n      <th>766</th>\n      <td>1</td>\n      <td>126</td>\n      <td>60</td>\n      <td>0</td>\n      <td>0</td>\n      <td>30.1</td>\n      <td>0.349</td>\n      <td>47</td>\n      <td>1</td>\n    </tr>\n  </tbody>\n</table>\n<p>207 rows × 9 columns</p>\n</div>"
     },
     "metadata": {}
    }
   ],
   "execution_count": null
  },
  {
   "cell_type": "markdown",
   "source": "Notice that while the filtered output is only 207 rows, the row label goes up to 766. This is because the subselected rows have kept their original labels. Row \"766\" is the 207th row in our new structure. This can be important if we want to refer back to the original dataset.\n\nOften we will want to apply more than one filter to our data. Fortunately, since the masks are just booleans, it is intuitive and easy to combine masks. For example, if we want to combine our age filter with a second filter, we can use a logical \"and\" operator (&) like this:",
   "metadata": {
    "colab_type": "text",
    "id": "z2HTMPIo7jDR",
    "cell_id": "00030-458788b4-d459-4abd-9e94-f0094e2c2717",
    "deepnote_cell_type": "markdown"
   }
  },
  {
   "cell_type": "code",
   "metadata": {
    "colab_type": "code",
    "id": "othXawuotKDD",
    "colab": {},
    "cell_id": "00031-5eb127ff-acaa-4133-984e-d9ded45b822b",
    "deepnote_to_be_reexecuted": false,
    "source_hash": "71fbcc94",
    "execution_start": 1625522804498,
    "execution_millis": 23,
    "deepnote_cell_type": "code"
   },
   "source": "# Subselect data with age greater than 39 and more than 2 pregnancies\nfiltered_dataframe_age_preg = data[data_age_boolean & (data['preg'] > 2)]\n# Display the filtered data\nfiltered_dataframe_age_preg",
   "outputs": [
    {
     "output_type": "execute_result",
     "execution_count": 17,
     "data": {
      "application/vnd.deepnote.dataframe.v2+json": {
       "row_count": 172,
       "column_count": 9,
       "columns": [
        {
         "name": "preg",
         "dtype": "int64",
         "stats": {
          "unique_count": 14,
          "nan_count": 0,
          "min": "3",
          "max": "17",
          "histogram": [
           {
            "bin_start": 3,
            "bin_end": 4.4,
            "count": 16
           },
           {
            "bin_start": 4.4,
            "bin_end": 5.8,
            "count": 21
           },
           {
            "bin_start": 5.8,
            "bin_end": 7.199999999999999,
            "count": 50
           },
           {
            "bin_start": 7.199999999999999,
            "bin_end": 8.6,
            "count": 24
           },
           {
            "bin_start": 8.6,
            "bin_end": 10,
            "count": 20
           },
           {
            "bin_start": 10,
            "bin_end": 11.399999999999999,
            "count": 22
           },
           {
            "bin_start": 11.399999999999999,
            "bin_end": 12.799999999999999,
            "count": 8
           },
           {
            "bin_start": 12.799999999999999,
            "bin_end": 14.2,
            "count": 9
           },
           {
            "bin_start": 14.2,
            "bin_end": 15.6,
            "count": 1
           },
           {
            "bin_start": 15.6,
            "bin_end": 17,
            "count": 1
           }
          ]
         }
        },
        {
         "name": "plas",
         "dtype": "int64",
         "stats": {
          "unique_count": 93,
          "nan_count": 0,
          "min": "0",
          "max": "196",
          "histogram": [
           {
            "bin_start": 0,
            "bin_end": 19.6,
            "count": 1
           },
           {
            "bin_start": 19.6,
            "bin_end": 39.2,
            "count": 0
           },
           {
            "bin_start": 39.2,
            "bin_end": 58.800000000000004,
            "count": 1
           },
           {
            "bin_start": 58.800000000000004,
            "bin_end": 78.4,
            "count": 5
           },
           {
            "bin_start": 78.4,
            "bin_end": 98,
            "count": 17
           },
           {
            "bin_start": 98,
            "bin_end": 117.60000000000001,
            "count": 37
           },
           {
            "bin_start": 117.60000000000001,
            "bin_end": 137.20000000000002,
            "count": 39
           },
           {
            "bin_start": 137.20000000000002,
            "bin_end": 156.8,
            "count": 34
           },
           {
            "bin_start": 156.8,
            "bin_end": 176.4,
            "count": 21
           },
           {
            "bin_start": 176.4,
            "bin_end": 196,
            "count": 17
           }
          ]
         }
        },
        {
         "name": "pres",
         "dtype": "int64",
         "stats": {
          "unique_count": 33,
          "nan_count": 0,
          "min": "0",
          "max": "114",
          "histogram": [
           {
            "bin_start": 0,
            "bin_end": 11.4,
            "count": 2
           },
           {
            "bin_start": 11.4,
            "bin_end": 22.8,
            "count": 0
           },
           {
            "bin_start": 22.8,
            "bin_end": 34.2,
            "count": 0
           },
           {
            "bin_start": 34.2,
            "bin_end": 45.6,
            "count": 0
           },
           {
            "bin_start": 45.6,
            "bin_end": 57,
            "count": 2
           },
           {
            "bin_start": 57,
            "bin_end": 68.4,
            "count": 28
           },
           {
            "bin_start": 68.4,
            "bin_end": 79.8,
            "count": 72
           },
           {
            "bin_start": 79.8,
            "bin_end": 91.2,
            "count": 52
           },
           {
            "bin_start": 91.2,
            "bin_end": 102.60000000000001,
            "count": 9
           },
           {
            "bin_start": 102.60000000000001,
            "bin_end": 114,
            "count": 7
           }
          ]
         }
        },
        {
         "name": "skin",
         "dtype": "int64",
         "stats": {
          "unique_count": 35,
          "nan_count": 0,
          "min": "0",
          "max": "54",
          "histogram": [
           {
            "bin_start": 0,
            "bin_end": 5.4,
            "count": 68
           },
           {
            "bin_start": 5.4,
            "bin_end": 10.8,
            "count": 2
           },
           {
            "bin_start": 10.8,
            "bin_end": 16.200000000000003,
            "count": 2
           },
           {
            "bin_start": 16.200000000000003,
            "bin_end": 21.6,
            "count": 12
           },
           {
            "bin_start": 21.6,
            "bin_end": 27,
            "count": 17
           },
           {
            "bin_start": 27,
            "bin_end": 32.400000000000006,
            "count": 28
           },
           {
            "bin_start": 32.400000000000006,
            "bin_end": 37.800000000000004,
            "count": 21
           },
           {
            "bin_start": 37.800000000000004,
            "bin_end": 43.2,
            "count": 14
           },
           {
            "bin_start": 43.2,
            "bin_end": 48.6,
            "count": 6
           },
           {
            "bin_start": 48.6,
            "bin_end": 54,
            "count": 2
           }
          ]
         }
        },
        {
         "name": "test",
         "dtype": "int64",
         "stats": {
          "unique_count": 55,
          "nan_count": 0,
          "min": "0",
          "max": "600",
          "histogram": [
           {
            "bin_start": 0,
            "bin_end": 60,
            "count": 113
           },
           {
            "bin_start": 60,
            "bin_end": 120,
            "count": 13
           },
           {
            "bin_start": 120,
            "bin_end": 180,
            "count": 19
           },
           {
            "bin_start": 180,
            "bin_end": 240,
            "count": 12
           },
           {
            "bin_start": 240,
            "bin_end": 300,
            "count": 4
           },
           {
            "bin_start": 300,
            "bin_end": 360,
            "count": 6
           },
           {
            "bin_start": 360,
            "bin_end": 420,
            "count": 1
           },
           {
            "bin_start": 420,
            "bin_end": 480,
            "count": 0
           },
           {
            "bin_start": 480,
            "bin_end": 540,
            "count": 3
           },
           {
            "bin_start": 540,
            "bin_end": 600,
            "count": 1
           }
          ]
         }
        },
        {
         "name": "mass",
         "dtype": "float64",
         "stats": {
          "unique_count": 113,
          "nan_count": 0,
          "min": "0.0",
          "max": "52.3",
          "histogram": [
           {
            "bin_start": 0,
            "bin_end": 5.2299999999999995,
            "count": 2
           },
           {
            "bin_start": 5.2299999999999995,
            "bin_end": 10.459999999999999,
            "count": 0
           },
           {
            "bin_start": 10.459999999999999,
            "bin_end": 15.689999999999998,
            "count": 0
           },
           {
            "bin_start": 15.689999999999998,
            "bin_end": 20.919999999999998,
            "count": 2
           },
           {
            "bin_start": 20.919999999999998,
            "bin_end": 26.15,
            "count": 23
           },
           {
            "bin_start": 26.15,
            "bin_end": 31.379999999999995,
            "count": 43
           },
           {
            "bin_start": 31.379999999999995,
            "bin_end": 36.61,
            "count": 56
           },
           {
            "bin_start": 36.61,
            "bin_end": 41.839999999999996,
            "count": 32
           },
           {
            "bin_start": 41.839999999999996,
            "bin_end": 47.06999999999999,
            "count": 12
           },
           {
            "bin_start": 47.06999999999999,
            "bin_end": 52.3,
            "count": 2
           }
          ]
         }
        },
        {
         "name": "pedi",
         "dtype": "float64",
         "stats": {
          "unique_count": 146,
          "nan_count": 0,
          "min": "0.085",
          "max": "1.476",
          "histogram": [
           {
            "bin_start": 0.085,
            "bin_end": 0.22410000000000002,
            "count": 40
           },
           {
            "bin_start": 0.22410000000000002,
            "bin_end": 0.3632,
            "count": 46
           },
           {
            "bin_start": 0.3632,
            "bin_end": 0.5023,
            "count": 23
           },
           {
            "bin_start": 0.5023,
            "bin_end": 0.6414,
            "count": 24
           },
           {
            "bin_start": 0.6414,
            "bin_end": 0.7805,
            "count": 18
           },
           {
            "bin_start": 0.7805,
            "bin_end": 0.9196,
            "count": 5
           },
           {
            "bin_start": 0.9196,
            "bin_end": 1.0587,
            "count": 5
           },
           {
            "bin_start": 1.0587,
            "bin_end": 1.1978,
            "count": 4
           },
           {
            "bin_start": 1.1978,
            "bin_end": 1.3369,
            "count": 2
           },
           {
            "bin_start": 1.3369,
            "bin_end": 1.476,
            "count": 5
           }
          ]
         }
        },
        {
         "name": "age",
         "dtype": "int64",
         "stats": {
          "unique_count": 32,
          "nan_count": 0,
          "min": "40",
          "max": "81",
          "histogram": [
           {
            "bin_start": 40,
            "bin_end": 44.1,
            "count": 62
           },
           {
            "bin_start": 44.1,
            "bin_end": 48.2,
            "count": 33
           },
           {
            "bin_start": 48.2,
            "bin_end": 52.3,
            "count": 25
           },
           {
            "bin_start": 52.3,
            "bin_end": 56.4,
            "count": 15
           },
           {
            "bin_start": 56.4,
            "bin_end": 60.5,
            "count": 17
           },
           {
            "bin_start": 60.5,
            "bin_end": 64.6,
            "count": 8
           },
           {
            "bin_start": 64.6,
            "bin_end": 68.69999999999999,
            "count": 8
           },
           {
            "bin_start": 68.69999999999999,
            "bin_end": 72.8,
            "count": 3
           },
           {
            "bin_start": 72.8,
            "bin_end": 76.9,
            "count": 0
           },
           {
            "bin_start": 76.9,
            "bin_end": 81,
            "count": 1
           }
          ]
         }
        },
        {
         "name": "class",
         "dtype": "int64",
         "stats": {
          "unique_count": 2,
          "nan_count": 0,
          "min": "0",
          "max": "1",
          "histogram": [
           {
            "bin_start": 0,
            "bin_end": 0.1,
            "count": 81
           },
           {
            "bin_start": 0.1,
            "bin_end": 0.2,
            "count": 0
           },
           {
            "bin_start": 0.2,
            "bin_end": 0.30000000000000004,
            "count": 0
           },
           {
            "bin_start": 0.30000000000000004,
            "bin_end": 0.4,
            "count": 0
           },
           {
            "bin_start": 0.4,
            "bin_end": 0.5,
            "count": 0
           },
           {
            "bin_start": 0.5,
            "bin_end": 0.6000000000000001,
            "count": 0
           },
           {
            "bin_start": 0.6000000000000001,
            "bin_end": 0.7000000000000001,
            "count": 0
           },
           {
            "bin_start": 0.7000000000000001,
            "bin_end": 0.8,
            "count": 0
           },
           {
            "bin_start": 0.8,
            "bin_end": 0.9,
            "count": 0
           },
           {
            "bin_start": 0.9,
            "bin_end": 1,
            "count": 91
           }
          ]
         }
        },
        {
         "name": "_deepnote_index_column",
         "dtype": "int64"
        }
       ],
       "rows_top": [
        {
         "preg": 6,
         "plas": 148,
         "pres": 72,
         "skin": 35,
         "test": 0,
         "mass": 33.6,
         "pedi": 0.627,
         "age": 50,
         "class": 1,
         "_deepnote_index_column": 0
        },
        {
         "preg": 8,
         "plas": 125,
         "pres": 96,
         "skin": 0,
         "test": 0,
         "mass": 0,
         "pedi": 0.232,
         "age": 54,
         "class": 1,
         "_deepnote_index_column": 9
        },
        {
         "preg": 10,
         "plas": 139,
         "pres": 80,
         "skin": 0,
         "test": 0,
         "mass": 27.1,
         "pedi": 1.441,
         "age": 57,
         "class": 0,
         "_deepnote_index_column": 12
        },
        {
         "preg": 5,
         "plas": 166,
         "pres": 72,
         "skin": 19,
         "test": 175,
         "mass": 25.8,
         "pedi": 0.587,
         "age": 51,
         "class": 1,
         "_deepnote_index_column": 14
        },
        {
         "preg": 8,
         "plas": 99,
         "pres": 84,
         "skin": 0,
         "test": 0,
         "mass": 35.4,
         "pedi": 0.388,
         "age": 50,
         "class": 0,
         "_deepnote_index_column": 21
        },
        {
         "preg": 7,
         "plas": 196,
         "pres": 90,
         "skin": 0,
         "test": 0,
         "mass": 39.8,
         "pedi": 0.451,
         "age": 41,
         "class": 1,
         "_deepnote_index_column": 22
        },
        {
         "preg": 11,
         "plas": 143,
         "pres": 94,
         "skin": 33,
         "test": 146,
         "mass": 36.6,
         "pedi": 0.254,
         "age": 51,
         "class": 1,
         "_deepnote_index_column": 24
        },
        {
         "preg": 10,
         "plas": 125,
         "pres": 70,
         "skin": 26,
         "test": 115,
         "mass": 31.1,
         "pedi": 0.205,
         "age": 41,
         "class": 1,
         "_deepnote_index_column": 25
        },
        {
         "preg": 7,
         "plas": 147,
         "pres": 76,
         "skin": 0,
         "test": 0,
         "mass": 39.4,
         "pedi": 0.257,
         "age": 43,
         "class": 1,
         "_deepnote_index_column": 26
        },
        {
         "preg": 13,
         "plas": 145,
         "pres": 82,
         "skin": 19,
         "test": 110,
         "mass": 22.2,
         "pedi": 0.245,
         "age": 57,
         "class": 0,
         "_deepnote_index_column": 28
        },
        {
         "preg": 5,
         "plas": 109,
         "pres": 75,
         "skin": 26,
         "test": 0,
         "mass": 36,
         "pedi": 0.546,
         "age": 60,
         "class": 0,
         "_deepnote_index_column": 30
        },
        {
         "preg": 10,
         "plas": 122,
         "pres": 78,
         "skin": 31,
         "test": 0,
         "mass": 27.6,
         "pedi": 0.512,
         "age": 45,
         "class": 0,
         "_deepnote_index_column": 34
        },
        {
         "preg": 9,
         "plas": 102,
         "pres": 76,
         "skin": 37,
         "test": 0,
         "mass": 32.9,
         "pedi": 0.665,
         "age": 46,
         "class": 1,
         "_deepnote_index_column": 37
        },
        {
         "preg": 4,
         "plas": 111,
         "pres": 72,
         "skin": 47,
         "test": 207,
         "mass": 37.1,
         "pedi": 1.39,
         "age": 56,
         "class": 1,
         "_deepnote_index_column": 39
        },
        {
         "preg": 7,
         "plas": 106,
         "pres": 92,
         "skin": 18,
         "test": 0,
         "mass": 22.7,
         "pedi": 0.235,
         "age": 48,
         "class": 0,
         "_deepnote_index_column": 42
        },
        {
         "preg": 9,
         "plas": 171,
         "pres": 110,
         "skin": 24,
         "test": 240,
         "mass": 45.4,
         "pedi": 0.721,
         "age": 54,
         "class": 1,
         "_deepnote_index_column": 43
        },
        {
         "preg": 7,
         "plas": 159,
         "pres": 64,
         "skin": 0,
         "test": 0,
         "mass": 27.4,
         "pedi": 0.294,
         "age": 40,
         "class": 0,
         "_deepnote_index_column": 44
        },
        {
         "preg": 8,
         "plas": 176,
         "pres": 90,
         "skin": 34,
         "test": 300,
         "mass": 33.7,
         "pedi": 0.467,
         "age": 58,
         "class": 1,
         "_deepnote_index_column": 53
        },
        {
         "preg": 7,
         "plas": 150,
         "pres": 66,
         "skin": 42,
         "test": 342,
         "mass": 34.7,
         "pedi": 0.718,
         "age": 42,
         "class": 0,
         "_deepnote_index_column": 54
        },
        {
         "preg": 7,
         "plas": 187,
         "pres": 68,
         "skin": 39,
         "test": 304,
         "mass": 37.7,
         "pedi": 0.254,
         "age": 41,
         "class": 1,
         "_deepnote_index_column": 56
        },
        {
         "preg": 7,
         "plas": 114,
         "pres": 66,
         "skin": 0,
         "test": 0,
         "mass": 32.8,
         "pedi": 0.258,
         "age": 42,
         "class": 1,
         "_deepnote_index_column": 64
        },
        {
         "preg": 13,
         "plas": 126,
         "pres": 90,
         "skin": 0,
         "test": 0,
         "mass": 43.4,
         "pedi": 0.583,
         "age": 42,
         "class": 1,
         "_deepnote_index_column": 72
        },
        {
         "preg": 7,
         "plas": 62,
         "pres": 78,
         "skin": 0,
         "test": 0,
         "mass": 32.6,
         "pedi": 0.391,
         "age": 41,
         "class": 0,
         "_deepnote_index_column": 76
        },
        {
         "preg": 13,
         "plas": 106,
         "pres": 72,
         "skin": 54,
         "test": 0,
         "mass": 36.6,
         "pedi": 0.178,
         "age": 45,
         "class": 0,
         "_deepnote_index_column": 86
        },
        {
         "preg": 15,
         "plas": 136,
         "pres": 70,
         "skin": 32,
         "test": 110,
         "mass": 37.1,
         "pedi": 0.153,
         "age": 43,
         "class": 1,
         "_deepnote_index_column": 88
        },
        {
         "preg": 7,
         "plas": 81,
         "pres": 78,
         "skin": 40,
         "test": 48,
         "mass": 46.7,
         "pedi": 0.261,
         "age": 42,
         "class": 0,
         "_deepnote_index_column": 92
        },
        {
         "preg": 4,
         "plas": 134,
         "pres": 72,
         "skin": 0,
         "test": 0,
         "mass": 23.8,
         "pedi": 0.277,
         "age": 60,
         "class": 1,
         "_deepnote_index_column": 93
        },
        {
         "preg": 6,
         "plas": 144,
         "pres": 72,
         "skin": 27,
         "test": 228,
         "mass": 33.9,
         "pedi": 0.255,
         "age": 40,
         "class": 0,
         "_deepnote_index_column": 95
        },
        {
         "preg": 8,
         "plas": 155,
         "pres": 62,
         "skin": 26,
         "test": 495,
         "mass": 34,
         "pedi": 0.543,
         "age": 46,
         "class": 1,
         "_deepnote_index_column": 111
        },
        {
         "preg": 4,
         "plas": 146,
         "pres": 92,
         "skin": 0,
         "test": 0,
         "mass": 31.2,
         "pedi": 0.539,
         "age": 61,
         "class": 1,
         "_deepnote_index_column": 115
        },
        {
         "preg": 5,
         "plas": 132,
         "pres": 80,
         "skin": 0,
         "test": 0,
         "mass": 26.8,
         "pedi": 0.186,
         "age": 69,
         "class": 0,
         "_deepnote_index_column": 123
        },
        {
         "preg": 3,
         "plas": 128,
         "pres": 78,
         "skin": 0,
         "test": 0,
         "mass": 21.1,
         "pedi": 0.268,
         "age": 55,
         "class": 0,
         "_deepnote_index_column": 140
        },
        {
         "preg": 10,
         "plas": 108,
         "pres": 66,
         "skin": 0,
         "test": 0,
         "mass": 32.4,
         "pedi": 0.272,
         "age": 42,
         "class": 1,
         "_deepnote_index_column": 143
        },
        {
         "preg": 9,
         "plas": 57,
         "pres": 80,
         "skin": 37,
         "test": 0,
         "mass": 32.8,
         "pedi": 0.096,
         "age": 41,
         "class": 0,
         "_deepnote_index_column": 146
        },
        {
         "preg": 5,
         "plas": 147,
         "pres": 78,
         "skin": 0,
         "test": 0,
         "mass": 33.7,
         "pedi": 0.218,
         "age": 65,
         "class": 0,
         "_deepnote_index_column": 148
        },
        {
         "preg": 9,
         "plas": 156,
         "pres": 86,
         "skin": 28,
         "test": 155,
         "mass": 34.3,
         "pedi": 1.189,
         "age": 42,
         "class": 1,
         "_deepnote_index_column": 152
        },
        {
         "preg": 8,
         "plas": 188,
         "pres": 78,
         "skin": 0,
         "test": 0,
         "mass": 47.9,
         "pedi": 0.137,
         "age": 43,
         "class": 1,
         "_deepnote_index_column": 154
        },
        {
         "preg": 17,
         "plas": 163,
         "pres": 72,
         "skin": 41,
         "test": 114,
         "mass": 40.9,
         "pedi": 0.817,
         "age": 47,
         "class": 1,
         "_deepnote_index_column": 159
        },
        {
         "preg": 7,
         "plas": 102,
         "pres": 74,
         "skin": 40,
         "test": 105,
         "mass": 37.2,
         "pedi": 0.204,
         "age": 45,
         "class": 0,
         "_deepnote_index_column": 161
        },
        {
         "preg": 6,
         "plas": 104,
         "pres": 74,
         "skin": 18,
         "test": 156,
         "mass": 29.9,
         "pedi": 0.722,
         "age": 41,
         "class": 1,
         "_deepnote_index_column": 165
        },
        {
         "preg": 6,
         "plas": 85,
         "pres": 78,
         "skin": 0,
         "test": 0,
         "mass": 31.2,
         "pedi": 0.382,
         "age": 42,
         "class": 0,
         "_deepnote_index_column": 176
        },
        {
         "preg": 5,
         "plas": 143,
         "pres": 78,
         "skin": 0,
         "test": 0,
         "mass": 45,
         "pedi": 0.19,
         "age": 47,
         "class": 0,
         "_deepnote_index_column": 178
        },
        {
         "preg": 4,
         "plas": 141,
         "pres": 74,
         "skin": 0,
         "test": 0,
         "mass": 27.6,
         "pedi": 0.244,
         "age": 40,
         "class": 0,
         "_deepnote_index_column": 184
        },
        {
         "preg": 7,
         "plas": 194,
         "pres": 68,
         "skin": 28,
         "test": 0,
         "mass": 35.9,
         "pedi": 0.745,
         "age": 41,
         "class": 1,
         "_deepnote_index_column": 185
        },
        {
         "preg": 8,
         "plas": 181,
         "pres": 68,
         "skin": 36,
         "test": 495,
         "mass": 30.1,
         "pedi": 0.615,
         "age": 60,
         "class": 1,
         "_deepnote_index_column": 186
        },
        {
         "preg": 9,
         "plas": 123,
         "pres": 70,
         "skin": 44,
         "test": 94,
         "mass": 33.1,
         "pedi": 0.374,
         "age": 40,
         "class": 0,
         "_deepnote_index_column": 191
        },
        {
         "preg": 11,
         "plas": 135,
         "pres": 0,
         "skin": 0,
         "test": 0,
         "mass": 52.3,
         "pedi": 0.578,
         "age": 40,
         "class": 1,
         "_deepnote_index_column": 193
        },
        {
         "preg": 8,
         "plas": 85,
         "pres": 55,
         "skin": 20,
         "test": 0,
         "mass": 24.4,
         "pedi": 0.136,
         "age": 42,
         "class": 0,
         "_deepnote_index_column": 194
        },
        {
         "preg": 6,
         "plas": 103,
         "pres": 72,
         "skin": 32,
         "test": 190,
         "mass": 37.7,
         "pedi": 0.324,
         "age": 55,
         "class": 0,
         "_deepnote_index_column": 204
        },
        {
         "preg": 8,
         "plas": 196,
         "pres": 76,
         "skin": 29,
         "test": 280,
         "mass": 37.5,
         "pedi": 0.605,
         "age": 57,
         "class": 1,
         "_deepnote_index_column": 206
        },
        {
         "preg": 5,
         "plas": 162,
         "pres": 104,
         "skin": 0,
         "test": 0,
         "mass": 37.7,
         "pedi": 0.151,
         "age": 52,
         "class": 1,
         "_deepnote_index_column": 207
        },
        {
         "preg": 7,
         "plas": 184,
         "pres": 84,
         "skin": 33,
         "test": 0,
         "mass": 35.5,
         "pedi": 0.355,
         "age": 41,
         "class": 1,
         "_deepnote_index_column": 209
        },
        {
         "preg": 7,
         "plas": 179,
         "pres": 95,
         "skin": 31,
         "test": 0,
         "mass": 34.2,
         "pedi": 0.164,
         "age": 60,
         "class": 0,
         "_deepnote_index_column": 212
        },
        {
         "preg": 5,
         "plas": 112,
         "pres": 66,
         "skin": 0,
         "test": 0,
         "mass": 37.8,
         "pedi": 0.261,
         "age": 41,
         "class": 1,
         "_deepnote_index_column": 219
        },
        {
         "preg": 7,
         "plas": 142,
         "pres": 60,
         "skin": 33,
         "test": 190,
         "mass": 28.8,
         "pedi": 0.687,
         "age": 61,
         "class": 0,
         "_deepnote_index_column": 223
        }
       ],
       "rows_bottom": [
        {
         "preg": 8,
         "plas": 100,
         "pres": 74,
         "skin": 40,
         "test": 215,
         "mass": 39.4,
         "pedi": 0.661,
         "age": 43,
         "class": 1,
         "_deepnote_index_column": 540
        },
        {
         "preg": 10,
         "plas": 90,
         "pres": 85,
         "skin": 32,
         "test": 0,
         "mass": 34.9,
         "pedi": 0.825,
         "age": 56,
         "class": 1,
         "_deepnote_index_column": 542
        },
        {
         "preg": 5,
         "plas": 187,
         "pres": 76,
         "skin": 27,
         "test": 207,
         "mass": 43.6,
         "pedi": 1.034,
         "age": 53,
         "class": 1,
         "_deepnote_index_column": 546
        },
        {
         "preg": 6,
         "plas": 114,
         "pres": 88,
         "skin": 0,
         "test": 0,
         "mass": 27.8,
         "pedi": 0.247,
         "age": 66,
         "class": 0,
         "_deepnote_index_column": 552
        },
        {
         "preg": 8,
         "plas": 110,
         "pres": 76,
         "skin": 0,
         "test": 0,
         "mass": 27.8,
         "pedi": 0.237,
         "age": 58,
         "class": 0,
         "_deepnote_index_column": 557
        },
        {
         "preg": 11,
         "plas": 103,
         "pres": 68,
         "skin": 40,
         "test": 0,
         "mass": 46.2,
         "pedi": 0.126,
         "age": 42,
         "class": 0,
         "_deepnote_index_column": 558
        },
        {
         "preg": 6,
         "plas": 125,
         "pres": 76,
         "skin": 0,
         "test": 0,
         "mass": 33.8,
         "pedi": 0.121,
         "age": 54,
         "class": 1,
         "_deepnote_index_column": 560
        },
        {
         "preg": 6,
         "plas": 92,
         "pres": 62,
         "skin": 32,
         "test": 126,
         "mass": 32,
         "pedi": 0.085,
         "age": 46,
         "class": 0,
         "_deepnote_index_column": 567
        },
        {
         "preg": 12,
         "plas": 121,
         "pres": 78,
         "skin": 17,
         "test": 0,
         "mass": 26.5,
         "pedi": 0.259,
         "age": 62,
         "class": 0,
         "_deepnote_index_column": 582
        },
        {
         "preg": 8,
         "plas": 100,
         "pres": 76,
         "skin": 0,
         "test": 0,
         "mass": 38.7,
         "pedi": 0.19,
         "age": 42,
         "class": 0,
         "_deepnote_index_column": 583
        },
        {
         "preg": 8,
         "plas": 124,
         "pres": 76,
         "skin": 24,
         "test": 600,
         "mass": 28.7,
         "pedi": 0.687,
         "age": 52,
         "class": 1,
         "_deepnote_index_column": 584
        },
        {
         "preg": 8,
         "plas": 143,
         "pres": 66,
         "skin": 0,
         "test": 0,
         "mass": 34.9,
         "pedi": 0.129,
         "age": 41,
         "class": 1,
         "_deepnote_index_column": 586
        },
        {
         "preg": 3,
         "plas": 176,
         "pres": 86,
         "skin": 27,
         "test": 156,
         "mass": 33.3,
         "pedi": 1.154,
         "age": 52,
         "class": 1,
         "_deepnote_index_column": 588
        },
        {
         "preg": 11,
         "plas": 111,
         "pres": 84,
         "skin": 40,
         "test": 0,
         "mass": 46.8,
         "pedi": 0.925,
         "age": 45,
         "class": 1,
         "_deepnote_index_column": 590
        },
        {
         "preg": 3,
         "plas": 132,
         "pres": 80,
         "skin": 0,
         "test": 0,
         "mass": 34.4,
         "pedi": 0.402,
         "age": 44,
         "class": 1,
         "_deepnote_index_column": 592
        },
        {
         "preg": 7,
         "plas": 150,
         "pres": 78,
         "skin": 29,
         "test": 126,
         "mass": 35.2,
         "pedi": 0.692,
         "age": 54,
         "class": 1,
         "_deepnote_index_column": 603
        },
        {
         "preg": 7,
         "plas": 168,
         "pres": 88,
         "skin": 42,
         "test": 321,
         "mass": 38.2,
         "pedi": 0.787,
         "age": 40,
         "class": 1,
         "_deepnote_index_column": 612
        },
        {
         "preg": 11,
         "plas": 138,
         "pres": 74,
         "skin": 26,
         "test": 144,
         "mass": 36.1,
         "pedi": 0.557,
         "age": 50,
         "class": 1,
         "_deepnote_index_column": 614
        },
        {
         "preg": 9,
         "plas": 112,
         "pres": 82,
         "skin": 24,
         "test": 0,
         "mass": 28.2,
         "pedi": 1.282,
         "age": 50,
         "class": 1,
         "_deepnote_index_column": 618
        },
        {
         "preg": 6,
         "plas": 183,
         "pres": 94,
         "skin": 0,
         "test": 0,
         "mass": 40.8,
         "pedi": 1.461,
         "age": 45,
         "class": 0,
         "_deepnote_index_column": 622
        },
        {
         "preg": 5,
         "plas": 128,
         "pres": 80,
         "skin": 0,
         "test": 0,
         "mass": 34.6,
         "pedi": 0.144,
         "age": 45,
         "class": 0,
         "_deepnote_index_column": 628
        },
        {
         "preg": 5,
         "plas": 104,
         "pres": 74,
         "skin": 0,
         "test": 0,
         "mass": 28.8,
         "pedi": 0.153,
         "age": 48,
         "class": 0,
         "_deepnote_index_column": 636
        },
        {
         "preg": 6,
         "plas": 147,
         "pres": 80,
         "skin": 0,
         "test": 0,
         "mass": 29.5,
         "pedi": 0.178,
         "age": 50,
         "class": 1,
         "_deepnote_index_column": 642
        },
        {
         "preg": 11,
         "plas": 136,
         "pres": 84,
         "skin": 35,
         "test": 130,
         "mass": 28.3,
         "pedi": 0.26,
         "age": 42,
         "class": 1,
         "_deepnote_index_column": 648
        },
        {
         "preg": 11,
         "plas": 127,
         "pres": 106,
         "skin": 0,
         "test": 0,
         "mass": 39,
         "pedi": 0.19,
         "age": 51,
         "class": 0,
         "_deepnote_index_column": 658
        },
        {
         "preg": 10,
         "plas": 162,
         "pres": 84,
         "skin": 0,
         "test": 0,
         "mass": 27.7,
         "pedi": 0.182,
         "age": 54,
         "class": 0,
         "_deepnote_index_column": 660
        },
        {
         "preg": 8,
         "plas": 167,
         "pres": 106,
         "skin": 46,
         "test": 231,
         "mass": 37.6,
         "pedi": 0.165,
         "age": 43,
         "class": 1,
         "_deepnote_index_column": 662
        },
        {
         "preg": 9,
         "plas": 145,
         "pres": 80,
         "skin": 46,
         "test": 130,
         "mass": 37.9,
         "pedi": 0.637,
         "age": 40,
         "class": 1,
         "_deepnote_index_column": 663
        },
        {
         "preg": 6,
         "plas": 115,
         "pres": 60,
         "skin": 39,
         "test": 0,
         "mass": 33.7,
         "pedi": 0.245,
         "age": 40,
         "class": 1,
         "_deepnote_index_column": 664
        },
        {
         "preg": 4,
         "plas": 145,
         "pres": 82,
         "skin": 18,
         "test": 0,
         "mass": 32.5,
         "pedi": 0.235,
         "age": 70,
         "class": 1,
         "_deepnote_index_column": 666
        },
        {
         "preg": 10,
         "plas": 111,
         "pres": 70,
         "skin": 27,
         "test": 0,
         "mass": 27.5,
         "pedi": 0.141,
         "age": 40,
         "class": 1,
         "_deepnote_index_column": 667
        },
        {
         "preg": 6,
         "plas": 98,
         "pres": 58,
         "skin": 33,
         "test": 190,
         "mass": 34,
         "pedi": 0.43,
         "age": 43,
         "class": 0,
         "_deepnote_index_column": 668
        },
        {
         "preg": 9,
         "plas": 154,
         "pres": 78,
         "skin": 30,
         "test": 100,
         "mass": 30.9,
         "pedi": 0.164,
         "age": 45,
         "class": 0,
         "_deepnote_index_column": 669
        },
        {
         "preg": 6,
         "plas": 165,
         "pres": 68,
         "skin": 26,
         "test": 168,
         "mass": 33.6,
         "pedi": 0.631,
         "age": 49,
         "class": 0,
         "_deepnote_index_column": 670
        },
        {
         "preg": 10,
         "plas": 68,
         "pres": 106,
         "skin": 23,
         "test": 49,
         "mass": 35.5,
         "pedi": 0.285,
         "age": 47,
         "class": 0,
         "_deepnote_index_column": 672
        },
        {
         "preg": 8,
         "plas": 91,
         "pres": 82,
         "skin": 0,
         "test": 0,
         "mass": 35.6,
         "pedi": 0.587,
         "age": 68,
         "class": 0,
         "_deepnote_index_column": 674
        },
        {
         "preg": 9,
         "plas": 156,
         "pres": 86,
         "skin": 0,
         "test": 0,
         "mass": 24.8,
         "pedi": 0.23,
         "age": 53,
         "class": 1,
         "_deepnote_index_column": 676
        },
        {
         "preg": 5,
         "plas": 136,
         "pres": 82,
         "skin": 0,
         "test": 0,
         "mass": 0,
         "pedi": 0.64,
         "age": 69,
         "class": 0,
         "_deepnote_index_column": 684
        },
        {
         "preg": 13,
         "plas": 158,
         "pres": 114,
         "skin": 0,
         "test": 0,
         "mass": 42.3,
         "pedi": 0.257,
         "age": 44,
         "class": 1,
         "_deepnote_index_column": 691
        },
        {
         "preg": 7,
         "plas": 129,
         "pres": 68,
         "skin": 49,
         "test": 125,
         "mass": 38.5,
         "pedi": 0.439,
         "age": 43,
         "class": 1,
         "_deepnote_index_column": 693
        },
        {
         "preg": 7,
         "plas": 142,
         "pres": 90,
         "skin": 24,
         "test": 480,
         "mass": 30.4,
         "pedi": 0.128,
         "age": 43,
         "class": 1,
         "_deepnote_index_column": 695
        },
        {
         "preg": 6,
         "plas": 125,
         "pres": 78,
         "skin": 31,
         "test": 0,
         "mass": 27.6,
         "pedi": 0.565,
         "age": 49,
         "class": 1,
         "_deepnote_index_column": 701
        },
        {
         "preg": 9,
         "plas": 164,
         "pres": 78,
         "skin": 0,
         "test": 0,
         "mass": 32.8,
         "pedi": 0.148,
         "age": 45,
         "class": 1,
         "_deepnote_index_column": 708
        },
        {
         "preg": 5,
         "plas": 126,
         "pres": 78,
         "skin": 27,
         "test": 22,
         "mass": 29.6,
         "pedi": 0.439,
         "age": 40,
         "class": 0,
         "_deepnote_index_column": 711
        },
        {
         "preg": 10,
         "plas": 94,
         "pres": 72,
         "skin": 18,
         "test": 0,
         "mass": 23.1,
         "pedi": 0.595,
         "age": 56,
         "class": 0,
         "_deepnote_index_column": 717
        },
        {
         "preg": 5,
         "plas": 97,
         "pres": 76,
         "skin": 27,
         "test": 0,
         "mass": 35.6,
         "pedi": 0.378,
         "age": 52,
         "class": 1,
         "_deepnote_index_column": 719
        },
        {
         "preg": 5,
         "plas": 117,
         "pres": 86,
         "skin": 30,
         "test": 105,
         "mass": 39.1,
         "pedi": 0.251,
         "age": 42,
         "class": 0,
         "_deepnote_index_column": 723
        },
        {
         "preg": 8,
         "plas": 65,
         "pres": 72,
         "skin": 23,
         "test": 0,
         "mass": 32,
         "pedi": 0.6,
         "age": 42,
         "class": 0,
         "_deepnote_index_column": 737
        },
        {
         "preg": 11,
         "plas": 120,
         "pres": 80,
         "skin": 37,
         "test": 150,
         "mass": 42.3,
         "pedi": 0.785,
         "age": 48,
         "class": 1,
         "_deepnote_index_column": 740
        },
        {
         "preg": 9,
         "plas": 140,
         "pres": 94,
         "skin": 0,
         "test": 0,
         "mass": 32.7,
         "pedi": 0.734,
         "age": 45,
         "class": 1,
         "_deepnote_index_column": 743
        },
        {
         "preg": 12,
         "plas": 100,
         "pres": 84,
         "skin": 33,
         "test": 105,
         "mass": 30,
         "pedi": 0.488,
         "age": 46,
         "class": 0,
         "_deepnote_index_column": 745
        },
        {
         "preg": 6,
         "plas": 162,
         "pres": 62,
         "skin": 0,
         "test": 0,
         "mass": 24.3,
         "pedi": 0.178,
         "age": 50,
         "class": 1,
         "_deepnote_index_column": 749
        },
        {
         "preg": 8,
         "plas": 154,
         "pres": 78,
         "skin": 32,
         "test": 0,
         "mass": 32.4,
         "pedi": 0.443,
         "age": 45,
         "class": 1,
         "_deepnote_index_column": 754
        },
        {
         "preg": 6,
         "plas": 190,
         "pres": 92,
         "skin": 0,
         "test": 0,
         "mass": 35.5,
         "pedi": 0.278,
         "age": 66,
         "class": 1,
         "_deepnote_index_column": 759
        },
        {
         "preg": 9,
         "plas": 170,
         "pres": 74,
         "skin": 31,
         "test": 0,
         "mass": 44,
         "pedi": 0.403,
         "age": 43,
         "class": 1,
         "_deepnote_index_column": 761
        },
        {
         "preg": 10,
         "plas": 101,
         "pres": 76,
         "skin": 48,
         "test": 180,
         "mass": 32.9,
         "pedi": 0.171,
         "age": 63,
         "class": 0,
         "_deepnote_index_column": 763
        }
       ]
      },
      "text/plain": "     preg  plas  pres  skin  test  mass   pedi  age  class\n0       6   148    72    35     0  33.6  0.627   50      1\n9       8   125    96     0     0   0.0  0.232   54      1\n12     10   139    80     0     0  27.1  1.441   57      0\n14      5   166    72    19   175  25.8  0.587   51      1\n21      8    99    84     0     0  35.4  0.388   50      0\n..    ...   ...   ...   ...   ...   ...    ...  ...    ...\n749     6   162    62     0     0  24.3  0.178   50      1\n754     8   154    78    32     0  32.4  0.443   45      1\n759     6   190    92     0     0  35.5  0.278   66      1\n761     9   170    74    31     0  44.0  0.403   43      1\n763    10   101    76    48   180  32.9  0.171   63      0\n\n[172 rows x 9 columns]",
      "text/html": "<div>\n<style scoped>\n    .dataframe tbody tr th:only-of-type {\n        vertical-align: middle;\n    }\n\n    .dataframe tbody tr th {\n        vertical-align: top;\n    }\n\n    .dataframe thead th {\n        text-align: right;\n    }\n</style>\n<table border=\"1\" class=\"dataframe\">\n  <thead>\n    <tr style=\"text-align: right;\">\n      <th></th>\n      <th>preg</th>\n      <th>plas</th>\n      <th>pres</th>\n      <th>skin</th>\n      <th>test</th>\n      <th>mass</th>\n      <th>pedi</th>\n      <th>age</th>\n      <th>class</th>\n    </tr>\n  </thead>\n  <tbody>\n    <tr>\n      <th>0</th>\n      <td>6</td>\n      <td>148</td>\n      <td>72</td>\n      <td>35</td>\n      <td>0</td>\n      <td>33.6</td>\n      <td>0.627</td>\n      <td>50</td>\n      <td>1</td>\n    </tr>\n    <tr>\n      <th>9</th>\n      <td>8</td>\n      <td>125</td>\n      <td>96</td>\n      <td>0</td>\n      <td>0</td>\n      <td>0.0</td>\n      <td>0.232</td>\n      <td>54</td>\n      <td>1</td>\n    </tr>\n    <tr>\n      <th>12</th>\n      <td>10</td>\n      <td>139</td>\n      <td>80</td>\n      <td>0</td>\n      <td>0</td>\n      <td>27.1</td>\n      <td>1.441</td>\n      <td>57</td>\n      <td>0</td>\n    </tr>\n    <tr>\n      <th>14</th>\n      <td>5</td>\n      <td>166</td>\n      <td>72</td>\n      <td>19</td>\n      <td>175</td>\n      <td>25.8</td>\n      <td>0.587</td>\n      <td>51</td>\n      <td>1</td>\n    </tr>\n    <tr>\n      <th>21</th>\n      <td>8</td>\n      <td>99</td>\n      <td>84</td>\n      <td>0</td>\n      <td>0</td>\n      <td>35.4</td>\n      <td>0.388</td>\n      <td>50</td>\n      <td>0</td>\n    </tr>\n    <tr>\n      <th>...</th>\n      <td>...</td>\n      <td>...</td>\n      <td>...</td>\n      <td>...</td>\n      <td>...</td>\n      <td>...</td>\n      <td>...</td>\n      <td>...</td>\n      <td>...</td>\n    </tr>\n    <tr>\n      <th>749</th>\n      <td>6</td>\n      <td>162</td>\n      <td>62</td>\n      <td>0</td>\n      <td>0</td>\n      <td>24.3</td>\n      <td>0.178</td>\n      <td>50</td>\n      <td>1</td>\n    </tr>\n    <tr>\n      <th>754</th>\n      <td>8</td>\n      <td>154</td>\n      <td>78</td>\n      <td>32</td>\n      <td>0</td>\n      <td>32.4</td>\n      <td>0.443</td>\n      <td>45</td>\n      <td>1</td>\n    </tr>\n    <tr>\n      <th>759</th>\n      <td>6</td>\n      <td>190</td>\n      <td>92</td>\n      <td>0</td>\n      <td>0</td>\n      <td>35.5</td>\n      <td>0.278</td>\n      <td>66</td>\n      <td>1</td>\n    </tr>\n    <tr>\n      <th>761</th>\n      <td>9</td>\n      <td>170</td>\n      <td>74</td>\n      <td>31</td>\n      <td>0</td>\n      <td>44.0</td>\n      <td>0.403</td>\n      <td>43</td>\n      <td>1</td>\n    </tr>\n    <tr>\n      <th>763</th>\n      <td>10</td>\n      <td>101</td>\n      <td>76</td>\n      <td>48</td>\n      <td>180</td>\n      <td>32.9</td>\n      <td>0.171</td>\n      <td>63</td>\n      <td>0</td>\n    </tr>\n  </tbody>\n</table>\n<p>172 rows × 9 columns</p>\n</div>"
     },
     "metadata": {}
    }
   ],
   "execution_count": null
  },
  {
   "cell_type": "markdown",
   "source": "Now we've reduced our subset to just 172 entries. Also, while the original row labels are still maintained, row \"766\" has been filtered out!\n\nAs a final note, you can also combine filters with the \"or\" operator (|). We would expect this to produce a subset of equal or larger size than either filter on its own.",
   "metadata": {
    "colab_type": "text",
    "id": "Ll3S3Ayc9K3e",
    "cell_id": "00032-10e40d46-2a9d-448b-a60f-424860f6fd66",
    "deepnote_cell_type": "markdown"
   }
  },
  {
   "cell_type": "code",
   "metadata": {
    "colab_type": "code",
    "id": "Jau0Y-qA9wrV",
    "colab": {},
    "cell_id": "00033-76ff55e7-838a-4ec6-b903-c7a59db4c327",
    "deepnote_to_be_reexecuted": false,
    "source_hash": "540b4285",
    "execution_start": 1625522806342,
    "execution_millis": 46,
    "deepnote_cell_type": "code"
   },
   "source": "# Subselect data with age greater than 39 OR more than 2 pregnancies\nfiltered_dataframe_age_preg = data[data_age_boolean | (data['preg'] > 2)]\n# Display the filtered data\nfiltered_dataframe_age_preg",
   "outputs": [
    {
     "output_type": "execute_result",
     "execution_count": 18,
     "data": {
      "application/vnd.deepnote.dataframe.v2+json": {
       "row_count": 454,
       "column_count": 9,
       "columns": [
        {
         "name": "preg",
         "dtype": "int64",
         "stats": {
          "unique_count": 17,
          "nan_count": 0,
          "min": "0",
          "max": "17",
          "histogram": [
           {
            "bin_start": 0,
            "bin_end": 1.7,
            "count": 26
           },
           {
            "bin_start": 1.7,
            "bin_end": 3.4,
            "count": 84
           },
           {
            "bin_start": 3.4,
            "bin_end": 5.1,
            "count": 125
           },
           {
            "bin_start": 5.1,
            "bin_end": 6.8,
            "count": 50
           },
           {
            "bin_start": 6.8,
            "bin_end": 8.5,
            "count": 83
           },
           {
            "bin_start": 8.5,
            "bin_end": 10.2,
            "count": 52
           },
           {
            "bin_start": 10.2,
            "bin_end": 11.9,
            "count": 11
           },
           {
            "bin_start": 11.9,
            "bin_end": 13.6,
            "count": 19
           },
           {
            "bin_start": 13.6,
            "bin_end": 15.299999999999999,
            "count": 3
           },
           {
            "bin_start": 15.299999999999999,
            "bin_end": 17,
            "count": 1
           }
          ]
         }
        },
        {
         "name": "plas",
         "dtype": "int64",
         "stats": {
          "unique_count": 128,
          "nan_count": 0,
          "min": "0",
          "max": "197",
          "histogram": [
           {
            "bin_start": 0,
            "bin_end": 19.7,
            "count": 2
           },
           {
            "bin_start": 19.7,
            "bin_end": 39.4,
            "count": 0
           },
           {
            "bin_start": 39.4,
            "bin_end": 59.099999999999994,
            "count": 3
           },
           {
            "bin_start": 59.099999999999994,
            "bin_end": 78.8,
            "count": 16
           },
           {
            "bin_start": 78.8,
            "bin_end": 98.5,
            "count": 62
           },
           {
            "bin_start": 98.5,
            "bin_end": 118.19999999999999,
            "count": 123
           },
           {
            "bin_start": 118.19999999999999,
            "bin_end": 137.9,
            "count": 97
           },
           {
            "bin_start": 137.9,
            "bin_end": 157.6,
            "count": 64
           },
           {
            "bin_start": 157.6,
            "bin_end": 177.29999999999998,
            "count": 48
           },
           {
            "bin_start": 177.29999999999998,
            "bin_end": 197,
            "count": 39
           }
          ]
         }
        },
        {
         "name": "pres",
         "dtype": "int64",
         "stats": {
          "unique_count": 41,
          "nan_count": 0,
          "min": "0",
          "max": "114",
          "histogram": [
           {
            "bin_start": 0,
            "bin_end": 11.4,
            "count": 21
           },
           {
            "bin_start": 11.4,
            "bin_end": 22.8,
            "count": 0
           },
           {
            "bin_start": 22.8,
            "bin_end": 34.2,
            "count": 0
           },
           {
            "bin_start": 34.2,
            "bin_end": 45.6,
            "count": 3
           },
           {
            "bin_start": 45.6,
            "bin_end": 57,
            "count": 21
           },
           {
            "bin_start": 57,
            "bin_end": 68.4,
            "count": 100
           },
           {
            "bin_start": 68.4,
            "bin_end": 79.8,
            "count": 165
           },
           {
            "bin_start": 79.8,
            "bin_end": 91.2,
            "count": 114
           },
           {
            "bin_start": 91.2,
            "bin_end": 102.60000000000001,
            "count": 20
           },
           {
            "bin_start": 102.60000000000001,
            "bin_end": 114,
            "count": 10
           }
          ]
         }
        },
        {
         "name": "skin",
         "dtype": "int64",
         "stats": {
          "unique_count": 44,
          "nan_count": 0,
          "min": "0",
          "max": "99",
          "histogram": [
           {
            "bin_start": 0,
            "bin_end": 9.9,
            "count": 177
           },
           {
            "bin_start": 9.9,
            "bin_end": 19.8,
            "count": 41
           },
           {
            "bin_start": 19.8,
            "bin_end": 29.700000000000003,
            "count": 84
           },
           {
            "bin_start": 29.700000000000003,
            "bin_end": 39.6,
            "count": 108
           },
           {
            "bin_start": 39.6,
            "bin_end": 49.5,
            "count": 42
           },
           {
            "bin_start": 49.5,
            "bin_end": 59.400000000000006,
            "count": 1
           },
           {
            "bin_start": 59.400000000000006,
            "bin_end": 69.3,
            "count": 0
           },
           {
            "bin_start": 69.3,
            "bin_end": 79.2,
            "count": 0
           },
           {
            "bin_start": 79.2,
            "bin_end": 89.10000000000001,
            "count": 0
           },
           {
            "bin_start": 89.10000000000001,
            "bin_end": 99,
            "count": 1
           }
          ]
         }
        },
        {
         "name": "test",
         "dtype": "int64",
         "stats": {
          "unique_count": 117,
          "nan_count": 0,
          "min": "0",
          "max": "846",
          "histogram": [
           {
            "bin_start": 0,
            "bin_end": 84.6,
            "count": 304
           },
           {
            "bin_start": 84.6,
            "bin_end": 169.2,
            "count": 78
           },
           {
            "bin_start": 169.2,
            "bin_end": 253.79999999999998,
            "count": 39
           },
           {
            "bin_start": 253.79999999999998,
            "bin_end": 338.4,
            "count": 18
           },
           {
            "bin_start": 338.4,
            "bin_end": 423,
            "count": 5
           },
           {
            "bin_start": 423,
            "bin_end": 507.59999999999997,
            "count": 5
           },
           {
            "bin_start": 507.59999999999997,
            "bin_end": 592.1999999999999,
            "count": 2
           },
           {
            "bin_start": 592.1999999999999,
            "bin_end": 676.8,
            "count": 1
           },
           {
            "bin_start": 676.8,
            "bin_end": 761.4,
            "count": 1
           },
           {
            "bin_start": 761.4,
            "bin_end": 846,
            "count": 1
           }
          ]
         }
        },
        {
         "name": "mass",
         "dtype": "float64",
         "stats": {
          "unique_count": 195,
          "nan_count": 0,
          "min": "0.0",
          "max": "57.3",
          "histogram": [
           {
            "bin_start": 0,
            "bin_end": 5.7299999999999995,
            "count": 6
           },
           {
            "bin_start": 5.7299999999999995,
            "bin_end": 11.459999999999999,
            "count": 0
           },
           {
            "bin_start": 11.459999999999999,
            "bin_end": 17.189999999999998,
            "count": 0
           },
           {
            "bin_start": 17.189999999999998,
            "bin_end": 22.919999999999998,
            "count": 21
           },
           {
            "bin_start": 22.919999999999998,
            "bin_end": 28.65,
            "count": 99
           },
           {
            "bin_start": 28.65,
            "bin_end": 34.379999999999995,
            "count": 175
           },
           {
            "bin_start": 34.379999999999995,
            "bin_end": 40.11,
            "count": 110
           },
           {
            "bin_start": 40.11,
            "bin_end": 45.839999999999996,
            "count": 29
           },
           {
            "bin_start": 45.839999999999996,
            "bin_end": 51.56999999999999,
            "count": 11
           },
           {
            "bin_start": 51.56999999999999,
            "bin_end": 57.3,
            "count": 3
           }
          ]
         }
        },
        {
         "name": "pedi",
         "dtype": "float64",
         "stats": {
          "unique_count": 344,
          "nan_count": 0,
          "min": "0.084",
          "max": "2.329",
          "histogram": [
           {
            "bin_start": 0.084,
            "bin_end": 0.3085,
            "count": 206
           },
           {
            "bin_start": 0.3085,
            "bin_end": 0.533,
            "count": 103
           },
           {
            "bin_start": 0.533,
            "bin_end": 0.7575,
            "count": 82
           },
           {
            "bin_start": 0.7575,
            "bin_end": 0.982,
            "count": 35
           },
           {
            "bin_start": 0.982,
            "bin_end": 1.2065000000000001,
            "count": 15
           },
           {
            "bin_start": 1.2065000000000001,
            "bin_end": 1.431,
            "count": 7
           },
           {
            "bin_start": 1.431,
            "bin_end": 1.6555000000000002,
            "count": 3
           },
           {
            "bin_start": 1.6555000000000002,
            "bin_end": 1.8800000000000001,
            "count": 1
           },
           {
            "bin_start": 1.8800000000000001,
            "bin_end": 2.1045000000000003,
            "count": 0
           },
           {
            "bin_start": 2.1045000000000003,
            "bin_end": 2.329,
            "count": 2
           }
          ]
         }
        },
        {
         "name": "age",
         "dtype": "int64",
         "stats": {
          "unique_count": 52,
          "nan_count": 0,
          "min": "21",
          "max": "81",
          "histogram": [
           {
            "bin_start": 21,
            "bin_end": 27,
            "count": 67
           },
           {
            "bin_start": 27,
            "bin_end": 33,
            "count": 93
           },
           {
            "bin_start": 33,
            "bin_end": 39,
            "count": 75
           },
           {
            "bin_start": 39,
            "bin_end": 45,
            "count": 86
           },
           {
            "bin_start": 45,
            "bin_end": 51,
            "count": 52
           },
           {
            "bin_start": 51,
            "bin_end": 57,
            "count": 34
           },
           {
            "bin_start": 57,
            "bin_end": 63,
            "count": 26
           },
           {
            "bin_start": 63,
            "bin_end": 69,
            "count": 16
           },
           {
            "bin_start": 69,
            "bin_end": 75,
            "count": 4
           },
           {
            "bin_start": 75,
            "bin_end": 81,
            "count": 1
           }
          ]
         }
        },
        {
         "name": "class",
         "dtype": "int64",
         "stats": {
          "unique_count": 2,
          "nan_count": 0,
          "min": "0",
          "max": "1",
          "histogram": [
           {
            "bin_start": 0,
            "bin_end": 0.1,
            "count": 255
           },
           {
            "bin_start": 0.1,
            "bin_end": 0.2,
            "count": 0
           },
           {
            "bin_start": 0.2,
            "bin_end": 0.30000000000000004,
            "count": 0
           },
           {
            "bin_start": 0.30000000000000004,
            "bin_end": 0.4,
            "count": 0
           },
           {
            "bin_start": 0.4,
            "bin_end": 0.5,
            "count": 0
           },
           {
            "bin_start": 0.5,
            "bin_end": 0.6000000000000001,
            "count": 0
           },
           {
            "bin_start": 0.6000000000000001,
            "bin_end": 0.7000000000000001,
            "count": 0
           },
           {
            "bin_start": 0.7000000000000001,
            "bin_end": 0.8,
            "count": 0
           },
           {
            "bin_start": 0.8,
            "bin_end": 0.9,
            "count": 0
           },
           {
            "bin_start": 0.9,
            "bin_end": 1,
            "count": 199
           }
          ]
         }
        },
        {
         "name": "_deepnote_index_column",
         "dtype": "int64"
        }
       ],
       "rows_top": [
        {
         "preg": 6,
         "plas": 148,
         "pres": 72,
         "skin": 35,
         "test": 0,
         "mass": 33.6,
         "pedi": 0.627,
         "age": 50,
         "class": 1,
         "_deepnote_index_column": 0
        },
        {
         "preg": 8,
         "plas": 183,
         "pres": 64,
         "skin": 0,
         "test": 0,
         "mass": 23.3,
         "pedi": 0.672,
         "age": 32,
         "class": 1,
         "_deepnote_index_column": 2
        },
        {
         "preg": 5,
         "plas": 116,
         "pres": 74,
         "skin": 0,
         "test": 0,
         "mass": 25.6,
         "pedi": 0.201,
         "age": 30,
         "class": 0,
         "_deepnote_index_column": 5
        },
        {
         "preg": 3,
         "plas": 78,
         "pres": 50,
         "skin": 32,
         "test": 88,
         "mass": 31,
         "pedi": 0.248,
         "age": 26,
         "class": 1,
         "_deepnote_index_column": 6
        },
        {
         "preg": 10,
         "plas": 115,
         "pres": 0,
         "skin": 0,
         "test": 0,
         "mass": 35.3,
         "pedi": 0.134,
         "age": 29,
         "class": 0,
         "_deepnote_index_column": 7
        },
        {
         "preg": 2,
         "plas": 197,
         "pres": 70,
         "skin": 45,
         "test": 543,
         "mass": 30.5,
         "pedi": 0.158,
         "age": 53,
         "class": 1,
         "_deepnote_index_column": 8
        },
        {
         "preg": 8,
         "plas": 125,
         "pres": 96,
         "skin": 0,
         "test": 0,
         "mass": 0,
         "pedi": 0.232,
         "age": 54,
         "class": 1,
         "_deepnote_index_column": 9
        },
        {
         "preg": 4,
         "plas": 110,
         "pres": 92,
         "skin": 0,
         "test": 0,
         "mass": 37.6,
         "pedi": 0.191,
         "age": 30,
         "class": 0,
         "_deepnote_index_column": 10
        },
        {
         "preg": 10,
         "plas": 168,
         "pres": 74,
         "skin": 0,
         "test": 0,
         "mass": 38,
         "pedi": 0.537,
         "age": 34,
         "class": 1,
         "_deepnote_index_column": 11
        },
        {
         "preg": 10,
         "plas": 139,
         "pres": 80,
         "skin": 0,
         "test": 0,
         "mass": 27.1,
         "pedi": 1.441,
         "age": 57,
         "class": 0,
         "_deepnote_index_column": 12
        },
        {
         "preg": 1,
         "plas": 189,
         "pres": 60,
         "skin": 23,
         "test": 846,
         "mass": 30.1,
         "pedi": 0.398,
         "age": 59,
         "class": 1,
         "_deepnote_index_column": 13
        },
        {
         "preg": 5,
         "plas": 166,
         "pres": 72,
         "skin": 19,
         "test": 175,
         "mass": 25.8,
         "pedi": 0.587,
         "age": 51,
         "class": 1,
         "_deepnote_index_column": 14
        },
        {
         "preg": 7,
         "plas": 100,
         "pres": 0,
         "skin": 0,
         "test": 0,
         "mass": 30,
         "pedi": 0.484,
         "age": 32,
         "class": 1,
         "_deepnote_index_column": 15
        },
        {
         "preg": 7,
         "plas": 107,
         "pres": 74,
         "skin": 0,
         "test": 0,
         "mass": 29.6,
         "pedi": 0.254,
         "age": 31,
         "class": 1,
         "_deepnote_index_column": 17
        },
        {
         "preg": 3,
         "plas": 126,
         "pres": 88,
         "skin": 41,
         "test": 235,
         "mass": 39.3,
         "pedi": 0.704,
         "age": 27,
         "class": 0,
         "_deepnote_index_column": 20
        },
        {
         "preg": 8,
         "plas": 99,
         "pres": 84,
         "skin": 0,
         "test": 0,
         "mass": 35.4,
         "pedi": 0.388,
         "age": 50,
         "class": 0,
         "_deepnote_index_column": 21
        },
        {
         "preg": 7,
         "plas": 196,
         "pres": 90,
         "skin": 0,
         "test": 0,
         "mass": 39.8,
         "pedi": 0.451,
         "age": 41,
         "class": 1,
         "_deepnote_index_column": 22
        },
        {
         "preg": 9,
         "plas": 119,
         "pres": 80,
         "skin": 35,
         "test": 0,
         "mass": 29,
         "pedi": 0.263,
         "age": 29,
         "class": 1,
         "_deepnote_index_column": 23
        },
        {
         "preg": 11,
         "plas": 143,
         "pres": 94,
         "skin": 33,
         "test": 146,
         "mass": 36.6,
         "pedi": 0.254,
         "age": 51,
         "class": 1,
         "_deepnote_index_column": 24
        },
        {
         "preg": 10,
         "plas": 125,
         "pres": 70,
         "skin": 26,
         "test": 115,
         "mass": 31.1,
         "pedi": 0.205,
         "age": 41,
         "class": 1,
         "_deepnote_index_column": 25
        },
        {
         "preg": 7,
         "plas": 147,
         "pres": 76,
         "skin": 0,
         "test": 0,
         "mass": 39.4,
         "pedi": 0.257,
         "age": 43,
         "class": 1,
         "_deepnote_index_column": 26
        },
        {
         "preg": 13,
         "plas": 145,
         "pres": 82,
         "skin": 19,
         "test": 110,
         "mass": 22.2,
         "pedi": 0.245,
         "age": 57,
         "class": 0,
         "_deepnote_index_column": 28
        },
        {
         "preg": 5,
         "plas": 117,
         "pres": 92,
         "skin": 0,
         "test": 0,
         "mass": 34.1,
         "pedi": 0.337,
         "age": 38,
         "class": 0,
         "_deepnote_index_column": 29
        },
        {
         "preg": 5,
         "plas": 109,
         "pres": 75,
         "skin": 26,
         "test": 0,
         "mass": 36,
         "pedi": 0.546,
         "age": 60,
         "class": 0,
         "_deepnote_index_column": 30
        },
        {
         "preg": 3,
         "plas": 158,
         "pres": 76,
         "skin": 36,
         "test": 245,
         "mass": 31.6,
         "pedi": 0.851,
         "age": 28,
         "class": 1,
         "_deepnote_index_column": 31
        },
        {
         "preg": 3,
         "plas": 88,
         "pres": 58,
         "skin": 11,
         "test": 54,
         "mass": 24.8,
         "pedi": 0.267,
         "age": 22,
         "class": 0,
         "_deepnote_index_column": 32
        },
        {
         "preg": 6,
         "plas": 92,
         "pres": 92,
         "skin": 0,
         "test": 0,
         "mass": 19.9,
         "pedi": 0.188,
         "age": 28,
         "class": 0,
         "_deepnote_index_column": 33
        },
        {
         "preg": 10,
         "plas": 122,
         "pres": 78,
         "skin": 31,
         "test": 0,
         "mass": 27.6,
         "pedi": 0.512,
         "age": 45,
         "class": 0,
         "_deepnote_index_column": 34
        },
        {
         "preg": 4,
         "plas": 103,
         "pres": 60,
         "skin": 33,
         "test": 192,
         "mass": 24,
         "pedi": 0.966,
         "age": 33,
         "class": 0,
         "_deepnote_index_column": 35
        },
        {
         "preg": 11,
         "plas": 138,
         "pres": 76,
         "skin": 0,
         "test": 0,
         "mass": 33.2,
         "pedi": 0.42,
         "age": 35,
         "class": 0,
         "_deepnote_index_column": 36
        },
        {
         "preg": 9,
         "plas": 102,
         "pres": 76,
         "skin": 37,
         "test": 0,
         "mass": 32.9,
         "pedi": 0.665,
         "age": 46,
         "class": 1,
         "_deepnote_index_column": 37
        },
        {
         "preg": 4,
         "plas": 111,
         "pres": 72,
         "skin": 47,
         "test": 207,
         "mass": 37.1,
         "pedi": 1.39,
         "age": 56,
         "class": 1,
         "_deepnote_index_column": 39
        },
        {
         "preg": 3,
         "plas": 180,
         "pres": 64,
         "skin": 25,
         "test": 70,
         "mass": 34,
         "pedi": 0.271,
         "age": 26,
         "class": 0,
         "_deepnote_index_column": 40
        },
        {
         "preg": 7,
         "plas": 133,
         "pres": 84,
         "skin": 0,
         "test": 0,
         "mass": 40.2,
         "pedi": 0.696,
         "age": 37,
         "class": 0,
         "_deepnote_index_column": 41
        },
        {
         "preg": 7,
         "plas": 106,
         "pres": 92,
         "skin": 18,
         "test": 0,
         "mass": 22.7,
         "pedi": 0.235,
         "age": 48,
         "class": 0,
         "_deepnote_index_column": 42
        },
        {
         "preg": 9,
         "plas": 171,
         "pres": 110,
         "skin": 24,
         "test": 240,
         "mass": 45.4,
         "pedi": 0.721,
         "age": 54,
         "class": 1,
         "_deepnote_index_column": 43
        },
        {
         "preg": 7,
         "plas": 159,
         "pres": 64,
         "skin": 0,
         "test": 0,
         "mass": 27.4,
         "pedi": 0.294,
         "age": 40,
         "class": 0,
         "_deepnote_index_column": 44
        },
        {
         "preg": 7,
         "plas": 103,
         "pres": 66,
         "skin": 32,
         "test": 0,
         "mass": 39.1,
         "pedi": 0.344,
         "age": 31,
         "class": 1,
         "_deepnote_index_column": 48
        },
        {
         "preg": 7,
         "plas": 105,
         "pres": 0,
         "skin": 0,
         "test": 0,
         "mass": 0,
         "pedi": 0.305,
         "age": 24,
         "class": 0,
         "_deepnote_index_column": 49
        },
        {
         "preg": 5,
         "plas": 88,
         "pres": 66,
         "skin": 21,
         "test": 23,
         "mass": 24.4,
         "pedi": 0.342,
         "age": 30,
         "class": 0,
         "_deepnote_index_column": 52
        },
        {
         "preg": 8,
         "plas": 176,
         "pres": 90,
         "skin": 34,
         "test": 300,
         "mass": 33.7,
         "pedi": 0.467,
         "age": 58,
         "class": 1,
         "_deepnote_index_column": 53
        },
        {
         "preg": 7,
         "plas": 150,
         "pres": 66,
         "skin": 42,
         "test": 342,
         "mass": 34.7,
         "pedi": 0.718,
         "age": 42,
         "class": 0,
         "_deepnote_index_column": 54
        },
        {
         "preg": 7,
         "plas": 187,
         "pres": 68,
         "skin": 39,
         "test": 304,
         "mass": 37.7,
         "pedi": 0.254,
         "age": 41,
         "class": 1,
         "_deepnote_index_column": 56
        },
        {
         "preg": 0,
         "plas": 146,
         "pres": 82,
         "skin": 0,
         "test": 0,
         "mass": 40.5,
         "pedi": 1.781,
         "age": 44,
         "class": 0,
         "_deepnote_index_column": 58
        },
        {
         "preg": 8,
         "plas": 133,
         "pres": 72,
         "skin": 0,
         "test": 0,
         "mass": 32.9,
         "pedi": 0.27,
         "age": 39,
         "class": 1,
         "_deepnote_index_column": 61
        },
        {
         "preg": 5,
         "plas": 44,
         "pres": 62,
         "skin": 0,
         "test": 0,
         "mass": 25,
         "pedi": 0.587,
         "age": 36,
         "class": 0,
         "_deepnote_index_column": 62
        },
        {
         "preg": 7,
         "plas": 114,
         "pres": 66,
         "skin": 0,
         "test": 0,
         "mass": 32.8,
         "pedi": 0.258,
         "age": 42,
         "class": 1,
         "_deepnote_index_column": 64
        },
        {
         "preg": 5,
         "plas": 99,
         "pres": 74,
         "skin": 27,
         "test": 0,
         "mass": 29,
         "pedi": 0.203,
         "age": 32,
         "class": 0,
         "_deepnote_index_column": 65
        },
        {
         "preg": 2,
         "plas": 109,
         "pres": 92,
         "skin": 0,
         "test": 0,
         "mass": 42.7,
         "pedi": 0.845,
         "age": 54,
         "class": 0,
         "_deepnote_index_column": 67
        },
        {
         "preg": 4,
         "plas": 146,
         "pres": 85,
         "skin": 27,
         "test": 100,
         "mass": 28.9,
         "pedi": 0.189,
         "age": 27,
         "class": 0,
         "_deepnote_index_column": 69
        },
        {
         "preg": 5,
         "plas": 139,
         "pres": 64,
         "skin": 35,
         "test": 140,
         "mass": 28.6,
         "pedi": 0.411,
         "age": 26,
         "class": 0,
         "_deepnote_index_column": 71
        },
        {
         "preg": 13,
         "plas": 126,
         "pres": 90,
         "skin": 0,
         "test": 0,
         "mass": 43.4,
         "pedi": 0.583,
         "age": 42,
         "class": 1,
         "_deepnote_index_column": 72
        },
        {
         "preg": 4,
         "plas": 129,
         "pres": 86,
         "skin": 20,
         "test": 270,
         "mass": 35.1,
         "pedi": 0.231,
         "age": 23,
         "class": 0,
         "_deepnote_index_column": 73
        },
        {
         "preg": 7,
         "plas": 62,
         "pres": 78,
         "skin": 0,
         "test": 0,
         "mass": 32.6,
         "pedi": 0.391,
         "age": 41,
         "class": 0,
         "_deepnote_index_column": 76
        },
        {
         "preg": 5,
         "plas": 95,
         "pres": 72,
         "skin": 33,
         "test": 0,
         "mass": 37.7,
         "pedi": 0.37,
         "age": 27,
         "class": 0,
         "_deepnote_index_column": 77
        }
       ],
       "rows_bottom": [
        {
         "preg": 3,
         "plas": 121,
         "pres": 52,
         "skin": 0,
         "test": 0,
         "mass": 36,
         "pedi": 0.127,
         "age": 25,
         "class": 1,
         "_deepnote_index_column": 678
        },
        {
         "preg": 4,
         "plas": 125,
         "pres": 80,
         "skin": 0,
         "test": 0,
         "mass": 32.3,
         "pedi": 0.536,
         "age": 27,
         "class": 1,
         "_deepnote_index_column": 683
        },
        {
         "preg": 5,
         "plas": 136,
         "pres": 82,
         "skin": 0,
         "test": 0,
         "mass": 0,
         "pedi": 0.64,
         "age": 69,
         "class": 0,
         "_deepnote_index_column": 684
        },
        {
         "preg": 3,
         "plas": 130,
         "pres": 64,
         "skin": 0,
         "test": 0,
         "mass": 23.1,
         "pedi": 0.314,
         "age": 22,
         "class": 0,
         "_deepnote_index_column": 686
        },
        {
         "preg": 1,
         "plas": 144,
         "pres": 82,
         "skin": 46,
         "test": 180,
         "mass": 46.1,
         "pedi": 0.335,
         "age": 46,
         "class": 1,
         "_deepnote_index_column": 689
        },
        {
         "preg": 8,
         "plas": 107,
         "pres": 80,
         "skin": 0,
         "test": 0,
         "mass": 24.6,
         "pedi": 0.856,
         "age": 34,
         "class": 0,
         "_deepnote_index_column": 690
        },
        {
         "preg": 13,
         "plas": 158,
         "pres": 114,
         "skin": 0,
         "test": 0,
         "mass": 42.3,
         "pedi": 0.257,
         "age": 44,
         "class": 1,
         "_deepnote_index_column": 691
        },
        {
         "preg": 7,
         "plas": 129,
         "pres": 68,
         "skin": 49,
         "test": 125,
         "mass": 38.5,
         "pedi": 0.439,
         "age": 43,
         "class": 1,
         "_deepnote_index_column": 693
        },
        {
         "preg": 7,
         "plas": 142,
         "pres": 90,
         "skin": 24,
         "test": 480,
         "mass": 30.4,
         "pedi": 0.128,
         "age": 43,
         "class": 1,
         "_deepnote_index_column": 695
        },
        {
         "preg": 3,
         "plas": 169,
         "pres": 74,
         "skin": 19,
         "test": 125,
         "mass": 29.9,
         "pedi": 0.268,
         "age": 31,
         "class": 1,
         "_deepnote_index_column": 696
        },
        {
         "preg": 4,
         "plas": 127,
         "pres": 88,
         "skin": 11,
         "test": 155,
         "mass": 34.5,
         "pedi": 0.598,
         "age": 28,
         "class": 0,
         "_deepnote_index_column": 698
        },
        {
         "preg": 4,
         "plas": 118,
         "pres": 70,
         "skin": 0,
         "test": 0,
         "mass": 44.5,
         "pedi": 0.904,
         "age": 26,
         "class": 0,
         "_deepnote_index_column": 699
        },
        {
         "preg": 6,
         "plas": 125,
         "pres": 78,
         "skin": 31,
         "test": 0,
         "mass": 27.6,
         "pedi": 0.565,
         "age": 49,
         "class": 1,
         "_deepnote_index_column": 701
        },
        {
         "preg": 1,
         "plas": 168,
         "pres": 88,
         "skin": 29,
         "test": 0,
         "mass": 35,
         "pedi": 0.905,
         "age": 52,
         "class": 1,
         "_deepnote_index_column": 702
        },
        {
         "preg": 2,
         "plas": 129,
         "pres": 0,
         "skin": 0,
         "test": 0,
         "mass": 38.5,
         "pedi": 0.304,
         "age": 41,
         "class": 0,
         "_deepnote_index_column": 703
        },
        {
         "preg": 4,
         "plas": 110,
         "pres": 76,
         "skin": 20,
         "test": 100,
         "mass": 28.4,
         "pedi": 0.118,
         "age": 27,
         "class": 0,
         "_deepnote_index_column": 704
        },
        {
         "preg": 6,
         "plas": 80,
         "pres": 80,
         "skin": 36,
         "test": 0,
         "mass": 39.8,
         "pedi": 0.177,
         "age": 28,
         "class": 0,
         "_deepnote_index_column": 705
        },
        {
         "preg": 10,
         "plas": 115,
         "pres": 0,
         "skin": 0,
         "test": 0,
         "mass": 0,
         "pedi": 0.261,
         "age": 30,
         "class": 1,
         "_deepnote_index_column": 706
        },
        {
         "preg": 9,
         "plas": 164,
         "pres": 78,
         "skin": 0,
         "test": 0,
         "mass": 32.8,
         "pedi": 0.148,
         "age": 45,
         "class": 1,
         "_deepnote_index_column": 708
        },
        {
         "preg": 3,
         "plas": 158,
         "pres": 64,
         "skin": 13,
         "test": 387,
         "mass": 31.2,
         "pedi": 0.295,
         "age": 24,
         "class": 0,
         "_deepnote_index_column": 710
        },
        {
         "preg": 5,
         "plas": 126,
         "pres": 78,
         "skin": 27,
         "test": 22,
         "mass": 29.6,
         "pedi": 0.439,
         "age": 40,
         "class": 0,
         "_deepnote_index_column": 711
        },
        {
         "preg": 10,
         "plas": 129,
         "pres": 62,
         "skin": 36,
         "test": 0,
         "mass": 41.2,
         "pedi": 0.441,
         "age": 38,
         "class": 1,
         "_deepnote_index_column": 712
        },
        {
         "preg": 3,
         "plas": 102,
         "pres": 74,
         "skin": 0,
         "test": 0,
         "mass": 29.5,
         "pedi": 0.121,
         "age": 32,
         "class": 0,
         "_deepnote_index_column": 714
        },
        {
         "preg": 7,
         "plas": 187,
         "pres": 50,
         "skin": 33,
         "test": 392,
         "mass": 33.9,
         "pedi": 0.826,
         "age": 34,
         "class": 1,
         "_deepnote_index_column": 715
        },
        {
         "preg": 3,
         "plas": 173,
         "pres": 78,
         "skin": 39,
         "test": 185,
         "mass": 33.8,
         "pedi": 0.97,
         "age": 31,
         "class": 1,
         "_deepnote_index_column": 716
        },
        {
         "preg": 10,
         "plas": 94,
         "pres": 72,
         "skin": 18,
         "test": 0,
         "mass": 23.1,
         "pedi": 0.595,
         "age": 56,
         "class": 0,
         "_deepnote_index_column": 717
        },
        {
         "preg": 5,
         "plas": 97,
         "pres": 76,
         "skin": 27,
         "test": 0,
         "mass": 35.6,
         "pedi": 0.378,
         "age": 52,
         "class": 1,
         "_deepnote_index_column": 719
        },
        {
         "preg": 4,
         "plas": 83,
         "pres": 86,
         "skin": 19,
         "test": 0,
         "mass": 29.3,
         "pedi": 0.317,
         "age": 34,
         "class": 0,
         "_deepnote_index_column": 720
        },
        {
         "preg": 1,
         "plas": 149,
         "pres": 68,
         "skin": 29,
         "test": 127,
         "mass": 29.3,
         "pedi": 0.349,
         "age": 42,
         "class": 1,
         "_deepnote_index_column": 722
        },
        {
         "preg": 5,
         "plas": 117,
         "pres": 86,
         "skin": 30,
         "test": 105,
         "mass": 39.1,
         "pedi": 0.251,
         "age": 42,
         "class": 0,
         "_deepnote_index_column": 723
        },
        {
         "preg": 1,
         "plas": 111,
         "pres": 94,
         "skin": 0,
         "test": 0,
         "mass": 32.8,
         "pedi": 0.265,
         "age": 45,
         "class": 0,
         "_deepnote_index_column": 724
        },
        {
         "preg": 4,
         "plas": 112,
         "pres": 78,
         "skin": 40,
         "test": 0,
         "mass": 39.4,
         "pedi": 0.236,
         "age": 38,
         "class": 0,
         "_deepnote_index_column": 725
        },
        {
         "preg": 3,
         "plas": 130,
         "pres": 78,
         "skin": 23,
         "test": 79,
         "mass": 28.4,
         "pedi": 0.323,
         "age": 34,
         "class": 1,
         "_deepnote_index_column": 730
        },
        {
         "preg": 8,
         "plas": 120,
         "pres": 86,
         "skin": 0,
         "test": 0,
         "mass": 28.4,
         "pedi": 0.259,
         "age": 22,
         "class": 1,
         "_deepnote_index_column": 731
        },
        {
         "preg": 2,
         "plas": 105,
         "pres": 75,
         "skin": 0,
         "test": 0,
         "mass": 23.3,
         "pedi": 0.56,
         "age": 53,
         "class": 0,
         "_deepnote_index_column": 734
        },
        {
         "preg": 4,
         "plas": 95,
         "pres": 60,
         "skin": 32,
         "test": 0,
         "mass": 35.4,
         "pedi": 0.284,
         "age": 28,
         "class": 0,
         "_deepnote_index_column": 735
        },
        {
         "preg": 8,
         "plas": 65,
         "pres": 72,
         "skin": 23,
         "test": 0,
         "mass": 32,
         "pedi": 0.6,
         "age": 42,
         "class": 0,
         "_deepnote_index_column": 737
        },
        {
         "preg": 1,
         "plas": 102,
         "pres": 74,
         "skin": 0,
         "test": 0,
         "mass": 39.5,
         "pedi": 0.293,
         "age": 42,
         "class": 1,
         "_deepnote_index_column": 739
        },
        {
         "preg": 11,
         "plas": 120,
         "pres": 80,
         "skin": 37,
         "test": 150,
         "mass": 42.3,
         "pedi": 0.785,
         "age": 48,
         "class": 1,
         "_deepnote_index_column": 740
        },
        {
         "preg": 3,
         "plas": 102,
         "pres": 44,
         "skin": 20,
         "test": 94,
         "mass": 30.8,
         "pedi": 0.4,
         "age": 26,
         "class": 0,
         "_deepnote_index_column": 741
        },
        {
         "preg": 9,
         "plas": 140,
         "pres": 94,
         "skin": 0,
         "test": 0,
         "mass": 32.7,
         "pedi": 0.734,
         "age": 45,
         "class": 1,
         "_deepnote_index_column": 743
        },
        {
         "preg": 13,
         "plas": 153,
         "pres": 88,
         "skin": 37,
         "test": 140,
         "mass": 40.6,
         "pedi": 1.174,
         "age": 39,
         "class": 0,
         "_deepnote_index_column": 744
        },
        {
         "preg": 12,
         "plas": 100,
         "pres": 84,
         "skin": 33,
         "test": 105,
         "mass": 30,
         "pedi": 0.488,
         "age": 46,
         "class": 0,
         "_deepnote_index_column": 745
        },
        {
         "preg": 3,
         "plas": 187,
         "pres": 70,
         "skin": 22,
         "test": 200,
         "mass": 36.4,
         "pedi": 0.408,
         "age": 36,
         "class": 1,
         "_deepnote_index_column": 748
        },
        {
         "preg": 6,
         "plas": 162,
         "pres": 62,
         "skin": 0,
         "test": 0,
         "mass": 24.3,
         "pedi": 0.178,
         "age": 50,
         "class": 1,
         "_deepnote_index_column": 749
        },
        {
         "preg": 4,
         "plas": 136,
         "pres": 70,
         "skin": 0,
         "test": 0,
         "mass": 31.2,
         "pedi": 1.182,
         "age": 22,
         "class": 1,
         "_deepnote_index_column": 750
        },
        {
         "preg": 3,
         "plas": 108,
         "pres": 62,
         "skin": 24,
         "test": 0,
         "mass": 26,
         "pedi": 0.223,
         "age": 25,
         "class": 0,
         "_deepnote_index_column": 752
        },
        {
         "preg": 8,
         "plas": 154,
         "pres": 78,
         "skin": 32,
         "test": 0,
         "mass": 32.4,
         "pedi": 0.443,
         "age": 45,
         "class": 1,
         "_deepnote_index_column": 754
        },
        {
         "preg": 7,
         "plas": 137,
         "pres": 90,
         "skin": 41,
         "test": 0,
         "mass": 32,
         "pedi": 0.391,
         "age": 39,
         "class": 0,
         "_deepnote_index_column": 756
        },
        {
         "preg": 0,
         "plas": 123,
         "pres": 72,
         "skin": 0,
         "test": 0,
         "mass": 36.3,
         "pedi": 0.258,
         "age": 52,
         "class": 1,
         "_deepnote_index_column": 757
        },
        {
         "preg": 6,
         "plas": 190,
         "pres": 92,
         "skin": 0,
         "test": 0,
         "mass": 35.5,
         "pedi": 0.278,
         "age": 66,
         "class": 1,
         "_deepnote_index_column": 759
        },
        {
         "preg": 9,
         "plas": 170,
         "pres": 74,
         "skin": 31,
         "test": 0,
         "mass": 44,
         "pedi": 0.403,
         "age": 43,
         "class": 1,
         "_deepnote_index_column": 761
        },
        {
         "preg": 9,
         "plas": 89,
         "pres": 62,
         "skin": 0,
         "test": 0,
         "mass": 22.5,
         "pedi": 0.142,
         "age": 33,
         "class": 0,
         "_deepnote_index_column": 762
        },
        {
         "preg": 10,
         "plas": 101,
         "pres": 76,
         "skin": 48,
         "test": 180,
         "mass": 32.9,
         "pedi": 0.171,
         "age": 63,
         "class": 0,
         "_deepnote_index_column": 763
        },
        {
         "preg": 5,
         "plas": 121,
         "pres": 72,
         "skin": 23,
         "test": 112,
         "mass": 26.2,
         "pedi": 0.245,
         "age": 30,
         "class": 0,
         "_deepnote_index_column": 765
        },
        {
         "preg": 1,
         "plas": 126,
         "pres": 60,
         "skin": 0,
         "test": 0,
         "mass": 30.1,
         "pedi": 0.349,
         "age": 47,
         "class": 1,
         "_deepnote_index_column": 766
        }
       ]
      },
      "text/plain": "     preg  plas  pres  skin  test  mass   pedi  age  class\n0       6   148    72    35     0  33.6  0.627   50      1\n2       8   183    64     0     0  23.3  0.672   32      1\n5       5   116    74     0     0  25.6  0.201   30      0\n6       3    78    50    32    88  31.0  0.248   26      1\n7      10   115     0     0     0  35.3  0.134   29      0\n..    ...   ...   ...   ...   ...   ...    ...  ...    ...\n761     9   170    74    31     0  44.0  0.403   43      1\n762     9    89    62     0     0  22.5  0.142   33      0\n763    10   101    76    48   180  32.9  0.171   63      0\n765     5   121    72    23   112  26.2  0.245   30      0\n766     1   126    60     0     0  30.1  0.349   47      1\n\n[454 rows x 9 columns]",
      "text/html": "<div>\n<style scoped>\n    .dataframe tbody tr th:only-of-type {\n        vertical-align: middle;\n    }\n\n    .dataframe tbody tr th {\n        vertical-align: top;\n    }\n\n    .dataframe thead th {\n        text-align: right;\n    }\n</style>\n<table border=\"1\" class=\"dataframe\">\n  <thead>\n    <tr style=\"text-align: right;\">\n      <th></th>\n      <th>preg</th>\n      <th>plas</th>\n      <th>pres</th>\n      <th>skin</th>\n      <th>test</th>\n      <th>mass</th>\n      <th>pedi</th>\n      <th>age</th>\n      <th>class</th>\n    </tr>\n  </thead>\n  <tbody>\n    <tr>\n      <th>0</th>\n      <td>6</td>\n      <td>148</td>\n      <td>72</td>\n      <td>35</td>\n      <td>0</td>\n      <td>33.6</td>\n      <td>0.627</td>\n      <td>50</td>\n      <td>1</td>\n    </tr>\n    <tr>\n      <th>2</th>\n      <td>8</td>\n      <td>183</td>\n      <td>64</td>\n      <td>0</td>\n      <td>0</td>\n      <td>23.3</td>\n      <td>0.672</td>\n      <td>32</td>\n      <td>1</td>\n    </tr>\n    <tr>\n      <th>5</th>\n      <td>5</td>\n      <td>116</td>\n      <td>74</td>\n      <td>0</td>\n      <td>0</td>\n      <td>25.6</td>\n      <td>0.201</td>\n      <td>30</td>\n      <td>0</td>\n    </tr>\n    <tr>\n      <th>6</th>\n      <td>3</td>\n      <td>78</td>\n      <td>50</td>\n      <td>32</td>\n      <td>88</td>\n      <td>31.0</td>\n      <td>0.248</td>\n      <td>26</td>\n      <td>1</td>\n    </tr>\n    <tr>\n      <th>7</th>\n      <td>10</td>\n      <td>115</td>\n      <td>0</td>\n      <td>0</td>\n      <td>0</td>\n      <td>35.3</td>\n      <td>0.134</td>\n      <td>29</td>\n      <td>0</td>\n    </tr>\n    <tr>\n      <th>...</th>\n      <td>...</td>\n      <td>...</td>\n      <td>...</td>\n      <td>...</td>\n      <td>...</td>\n      <td>...</td>\n      <td>...</td>\n      <td>...</td>\n      <td>...</td>\n    </tr>\n    <tr>\n      <th>761</th>\n      <td>9</td>\n      <td>170</td>\n      <td>74</td>\n      <td>31</td>\n      <td>0</td>\n      <td>44.0</td>\n      <td>0.403</td>\n      <td>43</td>\n      <td>1</td>\n    </tr>\n    <tr>\n      <th>762</th>\n      <td>9</td>\n      <td>89</td>\n      <td>62</td>\n      <td>0</td>\n      <td>0</td>\n      <td>22.5</td>\n      <td>0.142</td>\n      <td>33</td>\n      <td>0</td>\n    </tr>\n    <tr>\n      <th>763</th>\n      <td>10</td>\n      <td>101</td>\n      <td>76</td>\n      <td>48</td>\n      <td>180</td>\n      <td>32.9</td>\n      <td>0.171</td>\n      <td>63</td>\n      <td>0</td>\n    </tr>\n    <tr>\n      <th>765</th>\n      <td>5</td>\n      <td>121</td>\n      <td>72</td>\n      <td>23</td>\n      <td>112</td>\n      <td>26.2</td>\n      <td>0.245</td>\n      <td>30</td>\n      <td>0</td>\n    </tr>\n    <tr>\n      <th>766</th>\n      <td>1</td>\n      <td>126</td>\n      <td>60</td>\n      <td>0</td>\n      <td>0</td>\n      <td>30.1</td>\n      <td>0.349</td>\n      <td>47</td>\n      <td>1</td>\n    </tr>\n  </tbody>\n</table>\n<p>454 rows × 9 columns</p>\n</div>"
     },
     "metadata": {}
    }
   ],
   "execution_count": null
  },
  {
   "cell_type": "markdown",
   "source": "You can also sort the values in a dataframe by ascending or descending order. This can be useful for quickly viewing, for example, all of the subjects who have had more than 12 pregnancies.",
   "metadata": {
    "id": "1WfUukmFVGKz",
    "colab_type": "text",
    "cell_id": "00034-083eaa52-f581-419a-9187-7da1dbd5f8bf",
    "deepnote_cell_type": "markdown"
   }
  },
  {
   "cell_type": "code",
   "metadata": {
    "id": "uauHzxnyVGK0",
    "colab_type": "code",
    "colab": {},
    "cell_id": "00035-8624c124-47d6-4697-9b2b-2e832dd65b6c",
    "deepnote_to_be_reexecuted": false,
    "source_hash": "4a8e6a7c",
    "execution_start": 1625522807926,
    "execution_millis": 88,
    "deepnote_cell_type": "code"
   },
   "source": "sample = filtered_dataframe_age_preg.sort_values(by='preg', ascending=False, na_position='first') #descending order\nsample #ordered based on \"preg\"",
   "outputs": [
    {
     "output_type": "execute_result",
     "execution_count": 19,
     "data": {
      "application/vnd.deepnote.dataframe.v2+json": {
       "row_count": 454,
       "column_count": 9,
       "columns": [
        {
         "name": "preg",
         "dtype": "int64",
         "stats": {
          "unique_count": 17,
          "nan_count": 0,
          "min": "0",
          "max": "17",
          "histogram": [
           {
            "bin_start": 0,
            "bin_end": 1.7,
            "count": 26
           },
           {
            "bin_start": 1.7,
            "bin_end": 3.4,
            "count": 84
           },
           {
            "bin_start": 3.4,
            "bin_end": 5.1,
            "count": 125
           },
           {
            "bin_start": 5.1,
            "bin_end": 6.8,
            "count": 50
           },
           {
            "bin_start": 6.8,
            "bin_end": 8.5,
            "count": 83
           },
           {
            "bin_start": 8.5,
            "bin_end": 10.2,
            "count": 52
           },
           {
            "bin_start": 10.2,
            "bin_end": 11.9,
            "count": 11
           },
           {
            "bin_start": 11.9,
            "bin_end": 13.6,
            "count": 19
           },
           {
            "bin_start": 13.6,
            "bin_end": 15.299999999999999,
            "count": 3
           },
           {
            "bin_start": 15.299999999999999,
            "bin_end": 17,
            "count": 1
           }
          ]
         }
        },
        {
         "name": "plas",
         "dtype": "int64",
         "stats": {
          "unique_count": 128,
          "nan_count": 0,
          "min": "0",
          "max": "197",
          "histogram": [
           {
            "bin_start": 0,
            "bin_end": 19.7,
            "count": 2
           },
           {
            "bin_start": 19.7,
            "bin_end": 39.4,
            "count": 0
           },
           {
            "bin_start": 39.4,
            "bin_end": 59.099999999999994,
            "count": 3
           },
           {
            "bin_start": 59.099999999999994,
            "bin_end": 78.8,
            "count": 16
           },
           {
            "bin_start": 78.8,
            "bin_end": 98.5,
            "count": 62
           },
           {
            "bin_start": 98.5,
            "bin_end": 118.19999999999999,
            "count": 123
           },
           {
            "bin_start": 118.19999999999999,
            "bin_end": 137.9,
            "count": 97
           },
           {
            "bin_start": 137.9,
            "bin_end": 157.6,
            "count": 64
           },
           {
            "bin_start": 157.6,
            "bin_end": 177.29999999999998,
            "count": 48
           },
           {
            "bin_start": 177.29999999999998,
            "bin_end": 197,
            "count": 39
           }
          ]
         }
        },
        {
         "name": "pres",
         "dtype": "int64",
         "stats": {
          "unique_count": 41,
          "nan_count": 0,
          "min": "0",
          "max": "114",
          "histogram": [
           {
            "bin_start": 0,
            "bin_end": 11.4,
            "count": 21
           },
           {
            "bin_start": 11.4,
            "bin_end": 22.8,
            "count": 0
           },
           {
            "bin_start": 22.8,
            "bin_end": 34.2,
            "count": 0
           },
           {
            "bin_start": 34.2,
            "bin_end": 45.6,
            "count": 3
           },
           {
            "bin_start": 45.6,
            "bin_end": 57,
            "count": 21
           },
           {
            "bin_start": 57,
            "bin_end": 68.4,
            "count": 100
           },
           {
            "bin_start": 68.4,
            "bin_end": 79.8,
            "count": 165
           },
           {
            "bin_start": 79.8,
            "bin_end": 91.2,
            "count": 114
           },
           {
            "bin_start": 91.2,
            "bin_end": 102.60000000000001,
            "count": 20
           },
           {
            "bin_start": 102.60000000000001,
            "bin_end": 114,
            "count": 10
           }
          ]
         }
        },
        {
         "name": "skin",
         "dtype": "int64",
         "stats": {
          "unique_count": 44,
          "nan_count": 0,
          "min": "0",
          "max": "99",
          "histogram": [
           {
            "bin_start": 0,
            "bin_end": 9.9,
            "count": 177
           },
           {
            "bin_start": 9.9,
            "bin_end": 19.8,
            "count": 41
           },
           {
            "bin_start": 19.8,
            "bin_end": 29.700000000000003,
            "count": 84
           },
           {
            "bin_start": 29.700000000000003,
            "bin_end": 39.6,
            "count": 108
           },
           {
            "bin_start": 39.6,
            "bin_end": 49.5,
            "count": 42
           },
           {
            "bin_start": 49.5,
            "bin_end": 59.400000000000006,
            "count": 1
           },
           {
            "bin_start": 59.400000000000006,
            "bin_end": 69.3,
            "count": 0
           },
           {
            "bin_start": 69.3,
            "bin_end": 79.2,
            "count": 0
           },
           {
            "bin_start": 79.2,
            "bin_end": 89.10000000000001,
            "count": 0
           },
           {
            "bin_start": 89.10000000000001,
            "bin_end": 99,
            "count": 1
           }
          ]
         }
        },
        {
         "name": "test",
         "dtype": "int64",
         "stats": {
          "unique_count": 117,
          "nan_count": 0,
          "min": "0",
          "max": "846",
          "histogram": [
           {
            "bin_start": 0,
            "bin_end": 84.6,
            "count": 304
           },
           {
            "bin_start": 84.6,
            "bin_end": 169.2,
            "count": 78
           },
           {
            "bin_start": 169.2,
            "bin_end": 253.79999999999998,
            "count": 39
           },
           {
            "bin_start": 253.79999999999998,
            "bin_end": 338.4,
            "count": 18
           },
           {
            "bin_start": 338.4,
            "bin_end": 423,
            "count": 5
           },
           {
            "bin_start": 423,
            "bin_end": 507.59999999999997,
            "count": 5
           },
           {
            "bin_start": 507.59999999999997,
            "bin_end": 592.1999999999999,
            "count": 2
           },
           {
            "bin_start": 592.1999999999999,
            "bin_end": 676.8,
            "count": 1
           },
           {
            "bin_start": 676.8,
            "bin_end": 761.4,
            "count": 1
           },
           {
            "bin_start": 761.4,
            "bin_end": 846,
            "count": 1
           }
          ]
         }
        },
        {
         "name": "mass",
         "dtype": "float64",
         "stats": {
          "unique_count": 195,
          "nan_count": 0,
          "min": "0.0",
          "max": "57.3",
          "histogram": [
           {
            "bin_start": 0,
            "bin_end": 5.7299999999999995,
            "count": 6
           },
           {
            "bin_start": 5.7299999999999995,
            "bin_end": 11.459999999999999,
            "count": 0
           },
           {
            "bin_start": 11.459999999999999,
            "bin_end": 17.189999999999998,
            "count": 0
           },
           {
            "bin_start": 17.189999999999998,
            "bin_end": 22.919999999999998,
            "count": 21
           },
           {
            "bin_start": 22.919999999999998,
            "bin_end": 28.65,
            "count": 99
           },
           {
            "bin_start": 28.65,
            "bin_end": 34.379999999999995,
            "count": 175
           },
           {
            "bin_start": 34.379999999999995,
            "bin_end": 40.11,
            "count": 110
           },
           {
            "bin_start": 40.11,
            "bin_end": 45.839999999999996,
            "count": 29
           },
           {
            "bin_start": 45.839999999999996,
            "bin_end": 51.56999999999999,
            "count": 11
           },
           {
            "bin_start": 51.56999999999999,
            "bin_end": 57.3,
            "count": 3
           }
          ]
         }
        },
        {
         "name": "pedi",
         "dtype": "float64",
         "stats": {
          "unique_count": 344,
          "nan_count": 0,
          "min": "0.084",
          "max": "2.329",
          "histogram": [
           {
            "bin_start": 0.084,
            "bin_end": 0.3085,
            "count": 206
           },
           {
            "bin_start": 0.3085,
            "bin_end": 0.533,
            "count": 103
           },
           {
            "bin_start": 0.533,
            "bin_end": 0.7575,
            "count": 82
           },
           {
            "bin_start": 0.7575,
            "bin_end": 0.982,
            "count": 35
           },
           {
            "bin_start": 0.982,
            "bin_end": 1.2065000000000001,
            "count": 15
           },
           {
            "bin_start": 1.2065000000000001,
            "bin_end": 1.431,
            "count": 7
           },
           {
            "bin_start": 1.431,
            "bin_end": 1.6555000000000002,
            "count": 3
           },
           {
            "bin_start": 1.6555000000000002,
            "bin_end": 1.8800000000000001,
            "count": 1
           },
           {
            "bin_start": 1.8800000000000001,
            "bin_end": 2.1045000000000003,
            "count": 0
           },
           {
            "bin_start": 2.1045000000000003,
            "bin_end": 2.329,
            "count": 2
           }
          ]
         }
        },
        {
         "name": "age",
         "dtype": "int64",
         "stats": {
          "unique_count": 52,
          "nan_count": 0,
          "min": "21",
          "max": "81",
          "histogram": [
           {
            "bin_start": 21,
            "bin_end": 27,
            "count": 67
           },
           {
            "bin_start": 27,
            "bin_end": 33,
            "count": 93
           },
           {
            "bin_start": 33,
            "bin_end": 39,
            "count": 75
           },
           {
            "bin_start": 39,
            "bin_end": 45,
            "count": 86
           },
           {
            "bin_start": 45,
            "bin_end": 51,
            "count": 52
           },
           {
            "bin_start": 51,
            "bin_end": 57,
            "count": 34
           },
           {
            "bin_start": 57,
            "bin_end": 63,
            "count": 26
           },
           {
            "bin_start": 63,
            "bin_end": 69,
            "count": 16
           },
           {
            "bin_start": 69,
            "bin_end": 75,
            "count": 4
           },
           {
            "bin_start": 75,
            "bin_end": 81,
            "count": 1
           }
          ]
         }
        },
        {
         "name": "class",
         "dtype": "int64",
         "stats": {
          "unique_count": 2,
          "nan_count": 0,
          "min": "0",
          "max": "1",
          "histogram": [
           {
            "bin_start": 0,
            "bin_end": 0.1,
            "count": 255
           },
           {
            "bin_start": 0.1,
            "bin_end": 0.2,
            "count": 0
           },
           {
            "bin_start": 0.2,
            "bin_end": 0.30000000000000004,
            "count": 0
           },
           {
            "bin_start": 0.30000000000000004,
            "bin_end": 0.4,
            "count": 0
           },
           {
            "bin_start": 0.4,
            "bin_end": 0.5,
            "count": 0
           },
           {
            "bin_start": 0.5,
            "bin_end": 0.6000000000000001,
            "count": 0
           },
           {
            "bin_start": 0.6000000000000001,
            "bin_end": 0.7000000000000001,
            "count": 0
           },
           {
            "bin_start": 0.7000000000000001,
            "bin_end": 0.8,
            "count": 0
           },
           {
            "bin_start": 0.8,
            "bin_end": 0.9,
            "count": 0
           },
           {
            "bin_start": 0.9,
            "bin_end": 1,
            "count": 199
           }
          ]
         }
        },
        {
         "name": "_deepnote_index_column",
         "dtype": "int64"
        }
       ],
       "rows_top": [
        {
         "preg": 17,
         "plas": 163,
         "pres": 72,
         "skin": 41,
         "test": 114,
         "mass": 40.9,
         "pedi": 0.817,
         "age": 47,
         "class": 1,
         "_deepnote_index_column": 159
        },
        {
         "preg": 15,
         "plas": 136,
         "pres": 70,
         "skin": 32,
         "test": 110,
         "mass": 37.1,
         "pedi": 0.153,
         "age": 43,
         "class": 1,
         "_deepnote_index_column": 88
        },
        {
         "preg": 14,
         "plas": 175,
         "pres": 62,
         "skin": 30,
         "test": 0,
         "mass": 33.6,
         "pedi": 0.212,
         "age": 38,
         "class": 1,
         "_deepnote_index_column": 455
        },
        {
         "preg": 14,
         "plas": 100,
         "pres": 78,
         "skin": 25,
         "test": 184,
         "mass": 36.6,
         "pedi": 0.412,
         "age": 46,
         "class": 1,
         "_deepnote_index_column": 298
        },
        {
         "preg": 13,
         "plas": 104,
         "pres": 72,
         "skin": 0,
         "test": 0,
         "mass": 31.2,
         "pedi": 0.465,
         "age": 38,
         "class": 1,
         "_deepnote_index_column": 635
        },
        {
         "preg": 13,
         "plas": 126,
         "pres": 90,
         "skin": 0,
         "test": 0,
         "mass": 43.4,
         "pedi": 0.583,
         "age": 42,
         "class": 1,
         "_deepnote_index_column": 72
        },
        {
         "preg": 13,
         "plas": 106,
         "pres": 72,
         "skin": 54,
         "test": 0,
         "mass": 36.6,
         "pedi": 0.178,
         "age": 45,
         "class": 0,
         "_deepnote_index_column": 86
        },
        {
         "preg": 13,
         "plas": 76,
         "pres": 60,
         "skin": 0,
         "test": 0,
         "mass": 32.8,
         "pedi": 0.18,
         "age": 41,
         "class": 0,
         "_deepnote_index_column": 518
        },
        {
         "preg": 13,
         "plas": 153,
         "pres": 88,
         "skin": 37,
         "test": 140,
         "mass": 40.6,
         "pedi": 1.174,
         "age": 39,
         "class": 0,
         "_deepnote_index_column": 744
        },
        {
         "preg": 13,
         "plas": 145,
         "pres": 82,
         "skin": 19,
         "test": 110,
         "mass": 22.2,
         "pedi": 0.245,
         "age": 57,
         "class": 0,
         "_deepnote_index_column": 28
        },
        {
         "preg": 13,
         "plas": 129,
         "pres": 0,
         "skin": 30,
         "test": 0,
         "mass": 39.9,
         "pedi": 0.569,
         "age": 44,
         "class": 1,
         "_deepnote_index_column": 357
        },
        {
         "preg": 13,
         "plas": 158,
         "pres": 114,
         "skin": 0,
         "test": 0,
         "mass": 42.3,
         "pedi": 0.257,
         "age": 44,
         "class": 1,
         "_deepnote_index_column": 691
        },
        {
         "preg": 13,
         "plas": 106,
         "pres": 70,
         "skin": 0,
         "test": 0,
         "mass": 34.2,
         "pedi": 0.251,
         "age": 52,
         "class": 0,
         "_deepnote_index_column": 274
        },
        {
         "preg": 13,
         "plas": 152,
         "pres": 90,
         "skin": 33,
         "test": 29,
         "mass": 26.8,
         "pedi": 0.731,
         "age": 43,
         "class": 1,
         "_deepnote_index_column": 323
        },
        {
         "preg": 12,
         "plas": 151,
         "pres": 70,
         "skin": 40,
         "test": 271,
         "mass": 41.8,
         "pedi": 0.742,
         "age": 38,
         "class": 1,
         "_deepnote_index_column": 215
        },
        {
         "preg": 12,
         "plas": 121,
         "pres": 78,
         "skin": 17,
         "test": 0,
         "mass": 26.5,
         "pedi": 0.259,
         "age": 62,
         "class": 0,
         "_deepnote_index_column": 582
        },
        {
         "preg": 12,
         "plas": 140,
         "pres": 85,
         "skin": 33,
         "test": 0,
         "mass": 37.4,
         "pedi": 0.244,
         "age": 41,
         "class": 0,
         "_deepnote_index_column": 436
        },
        {
         "preg": 12,
         "plas": 92,
         "pres": 62,
         "skin": 7,
         "test": 258,
         "mass": 27.6,
         "pedi": 0.926,
         "age": 44,
         "class": 1,
         "_deepnote_index_column": 254
        },
        {
         "preg": 12,
         "plas": 84,
         "pres": 72,
         "skin": 31,
         "test": 0,
         "mass": 29.7,
         "pedi": 0.297,
         "age": 46,
         "class": 1,
         "_deepnote_index_column": 510
        },
        {
         "preg": 12,
         "plas": 140,
         "pres": 82,
         "skin": 43,
         "test": 325,
         "mass": 39.2,
         "pedi": 0.528,
         "age": 58,
         "class": 1,
         "_deepnote_index_column": 375
        },
        {
         "preg": 12,
         "plas": 106,
         "pres": 80,
         "skin": 0,
         "test": 0,
         "mass": 23.6,
         "pedi": 0.137,
         "age": 44,
         "class": 0,
         "_deepnote_index_column": 333
        },
        {
         "preg": 12,
         "plas": 100,
         "pres": 84,
         "skin": 33,
         "test": 105,
         "mass": 30,
         "pedi": 0.488,
         "age": 46,
         "class": 0,
         "_deepnote_index_column": 745
        },
        {
         "preg": 12,
         "plas": 88,
         "pres": 74,
         "skin": 40,
         "test": 54,
         "mass": 35.3,
         "pedi": 0.378,
         "age": 48,
         "class": 0,
         "_deepnote_index_column": 358
        },
        {
         "preg": 11,
         "plas": 120,
         "pres": 80,
         "skin": 37,
         "test": 150,
         "mass": 42.3,
         "pedi": 0.785,
         "age": 48,
         "class": 1,
         "_deepnote_index_column": 740
        },
        {
         "preg": 11,
         "plas": 138,
         "pres": 74,
         "skin": 26,
         "test": 144,
         "mass": 36.1,
         "pedi": 0.557,
         "age": 50,
         "class": 1,
         "_deepnote_index_column": 614
        },
        {
         "preg": 11,
         "plas": 143,
         "pres": 94,
         "skin": 33,
         "test": 146,
         "mass": 36.6,
         "pedi": 0.254,
         "age": 51,
         "class": 1,
         "_deepnote_index_column": 24
        },
        {
         "preg": 11,
         "plas": 127,
         "pres": 106,
         "skin": 0,
         "test": 0,
         "mass": 39,
         "pedi": 0.19,
         "age": 51,
         "class": 0,
         "_deepnote_index_column": 658
        },
        {
         "preg": 11,
         "plas": 155,
         "pres": 76,
         "skin": 28,
         "test": 150,
         "mass": 33.3,
         "pedi": 1.353,
         "age": 51,
         "class": 1,
         "_deepnote_index_column": 259
        },
        {
         "preg": 11,
         "plas": 135,
         "pres": 0,
         "skin": 0,
         "test": 0,
         "mass": 52.3,
         "pedi": 0.578,
         "age": 40,
         "class": 1,
         "_deepnote_index_column": 193
        },
        {
         "preg": 11,
         "plas": 85,
         "pres": 74,
         "skin": 0,
         "test": 0,
         "mass": 30.1,
         "pedi": 0.3,
         "age": 35,
         "class": 0,
         "_deepnote_index_column": 559
        },
        {
         "preg": 11,
         "plas": 136,
         "pres": 84,
         "skin": 35,
         "test": 130,
         "mass": 28.3,
         "pedi": 0.26,
         "age": 42,
         "class": 1,
         "_deepnote_index_column": 648
        },
        {
         "preg": 11,
         "plas": 103,
         "pres": 68,
         "skin": 40,
         "test": 0,
         "mass": 46.2,
         "pedi": 0.126,
         "age": 42,
         "class": 0,
         "_deepnote_index_column": 558
        },
        {
         "preg": 11,
         "plas": 138,
         "pres": 76,
         "skin": 0,
         "test": 0,
         "mass": 33.2,
         "pedi": 0.42,
         "age": 35,
         "class": 0,
         "_deepnote_index_column": 36
        },
        {
         "preg": 11,
         "plas": 111,
         "pres": 84,
         "skin": 40,
         "test": 0,
         "mass": 46.8,
         "pedi": 0.925,
         "age": 45,
         "class": 1,
         "_deepnote_index_column": 590
        },
        {
         "preg": 10,
         "plas": 92,
         "pres": 62,
         "skin": 0,
         "test": 0,
         "mass": 25.9,
         "pedi": 0.167,
         "age": 31,
         "class": 0,
         "_deepnote_index_column": 634
        },
        {
         "preg": 10,
         "plas": 129,
         "pres": 76,
         "skin": 28,
         "test": 122,
         "mass": 35.9,
         "pedi": 0.28,
         "age": 39,
         "class": 0,
         "_deepnote_index_column": 281
        },
        {
         "preg": 10,
         "plas": 139,
         "pres": 80,
         "skin": 0,
         "test": 0,
         "mass": 27.1,
         "pedi": 1.441,
         "age": 57,
         "class": 0,
         "_deepnote_index_column": 12
        },
        {
         "preg": 10,
         "plas": 161,
         "pres": 68,
         "skin": 23,
         "test": 132,
         "mass": 25.5,
         "pedi": 0.326,
         "age": 47,
         "class": 1,
         "_deepnote_index_column": 306
        },
        {
         "preg": 10,
         "plas": 129,
         "pres": 62,
         "skin": 36,
         "test": 0,
         "mass": 41.2,
         "pedi": 0.441,
         "age": 38,
         "class": 1,
         "_deepnote_index_column": 712
        },
        {
         "preg": 10,
         "plas": 115,
         "pres": 0,
         "skin": 0,
         "test": 0,
         "mass": 0,
         "pedi": 0.261,
         "age": 30,
         "class": 1,
         "_deepnote_index_column": 706
        },
        {
         "preg": 10,
         "plas": 90,
         "pres": 85,
         "skin": 32,
         "test": 0,
         "mass": 34.9,
         "pedi": 0.825,
         "age": 56,
         "class": 1,
         "_deepnote_index_column": 542
        },
        {
         "preg": 10,
         "plas": 108,
         "pres": 66,
         "skin": 0,
         "test": 0,
         "mass": 32.4,
         "pedi": 0.272,
         "age": 42,
         "class": 1,
         "_deepnote_index_column": 143
        },
        {
         "preg": 10,
         "plas": 148,
         "pres": 84,
         "skin": 48,
         "test": 237,
         "mass": 37.6,
         "pedi": 1.001,
         "age": 51,
         "class": 1,
         "_deepnote_index_column": 458
        },
        {
         "preg": 10,
         "plas": 75,
         "pres": 82,
         "skin": 0,
         "test": 0,
         "mass": 33.3,
         "pedi": 0.263,
         "age": 38,
         "class": 0,
         "_deepnote_index_column": 505
        },
        {
         "preg": 10,
         "plas": 68,
         "pres": 106,
         "skin": 23,
         "test": 49,
         "mass": 35.5,
         "pedi": 0.285,
         "age": 47,
         "class": 0,
         "_deepnote_index_column": 672
        },
        {
         "preg": 10,
         "plas": 162,
         "pres": 84,
         "skin": 0,
         "test": 0,
         "mass": 27.7,
         "pedi": 0.182,
         "age": 54,
         "class": 0,
         "_deepnote_index_column": 660
        },
        {
         "preg": 10,
         "plas": 125,
         "pres": 70,
         "skin": 26,
         "test": 115,
         "mass": 31.1,
         "pedi": 0.205,
         "age": 41,
         "class": 1,
         "_deepnote_index_column": 25
        },
        {
         "preg": 10,
         "plas": 168,
         "pres": 74,
         "skin": 0,
         "test": 0,
         "mass": 38,
         "pedi": 0.537,
         "age": 34,
         "class": 1,
         "_deepnote_index_column": 11
        },
        {
         "preg": 10,
         "plas": 179,
         "pres": 70,
         "skin": 0,
         "test": 0,
         "mass": 35.1,
         "pedi": 0.2,
         "age": 37,
         "class": 0,
         "_deepnote_index_column": 327
        },
        {
         "preg": 10,
         "plas": 115,
         "pres": 98,
         "skin": 0,
         "test": 0,
         "mass": 24,
         "pedi": 1.022,
         "age": 34,
         "class": 0,
         "_deepnote_index_column": 464
        },
        {
         "preg": 10,
         "plas": 94,
         "pres": 72,
         "skin": 18,
         "test": 0,
         "mass": 23.1,
         "pedi": 0.595,
         "age": 56,
         "class": 0,
         "_deepnote_index_column": 717
        },
        {
         "preg": 10,
         "plas": 122,
         "pres": 68,
         "skin": 0,
         "test": 0,
         "mass": 31.2,
         "pedi": 0.258,
         "age": 41,
         "class": 0,
         "_deepnote_index_column": 246
        },
        {
         "preg": 10,
         "plas": 133,
         "pres": 68,
         "skin": 0,
         "test": 0,
         "mass": 27,
         "pedi": 0.245,
         "age": 36,
         "class": 0,
         "_deepnote_index_column": 578
        },
        {
         "preg": 10,
         "plas": 122,
         "pres": 78,
         "skin": 31,
         "test": 0,
         "mass": 27.6,
         "pedi": 0.512,
         "age": 45,
         "class": 0,
         "_deepnote_index_column": 34
        },
        {
         "preg": 10,
         "plas": 101,
         "pres": 76,
         "skin": 48,
         "test": 180,
         "mass": 32.9,
         "pedi": 0.171,
         "age": 63,
         "class": 0,
         "_deepnote_index_column": 763
        }
       ],
       "rows_bottom": [
        {
         "preg": 3,
         "plas": 129,
         "pres": 92,
         "skin": 49,
         "test": 155,
         "mass": 36.4,
         "pedi": 0.968,
         "age": 32,
         "class": 1,
         "_deepnote_index_column": 539
        },
        {
         "preg": 3,
         "plas": 102,
         "pres": 44,
         "skin": 20,
         "test": 94,
         "mass": 30.8,
         "pedi": 0.4,
         "age": 26,
         "class": 0,
         "_deepnote_index_column": 741
        },
        {
         "preg": 3,
         "plas": 116,
         "pres": 74,
         "skin": 15,
         "test": 105,
         "mass": 26.3,
         "pedi": 0.107,
         "age": 24,
         "class": 0,
         "_deepnote_index_column": 527
        },
        {
         "preg": 3,
         "plas": 87,
         "pres": 60,
         "skin": 18,
         "test": 0,
         "mass": 21.8,
         "pedi": 0.444,
         "age": 21,
         "class": 0,
         "_deepnote_index_column": 525
        },
        {
         "preg": 3,
         "plas": 125,
         "pres": 58,
         "skin": 0,
         "test": 0,
         "mass": 31.6,
         "pedi": 0.151,
         "age": 24,
         "class": 0,
         "_deepnote_index_column": 524
        },
        {
         "preg": 3,
         "plas": 124,
         "pres": 80,
         "skin": 33,
         "test": 130,
         "mass": 33.2,
         "pedi": 0.305,
         "age": 26,
         "class": 0,
         "_deepnote_index_column": 521
        },
        {
         "preg": 3,
         "plas": 163,
         "pres": 70,
         "skin": 18,
         "test": 105,
         "mass": 31.6,
         "pedi": 0.268,
         "age": 28,
         "class": 1,
         "_deepnote_index_column": 515
        },
        {
         "preg": 3,
         "plas": 173,
         "pres": 82,
         "skin": 48,
         "test": 465,
         "mass": 38.4,
         "pedi": 2.137,
         "age": 25,
         "class": 1,
         "_deepnote_index_column": 370
        },
        {
         "preg": 3,
         "plas": 96,
         "pres": 78,
         "skin": 39,
         "test": 0,
         "mass": 37.3,
         "pedi": 0.238,
         "age": 40,
         "class": 0,
         "_deepnote_index_column": 504
        },
        {
         "preg": 3,
         "plas": 99,
         "pres": 54,
         "skin": 19,
         "test": 86,
         "mass": 25.6,
         "pedi": 0.154,
         "age": 24,
         "class": 0,
         "_deepnote_index_column": 514
        },
        {
         "preg": 3,
         "plas": 82,
         "pres": 70,
         "skin": 0,
         "test": 0,
         "mass": 21.1,
         "pedi": 0.389,
         "age": 25,
         "class": 0,
         "_deepnote_index_column": 398
        },
        {
         "preg": 3,
         "plas": 100,
         "pres": 68,
         "skin": 23,
         "test": 81,
         "mass": 31.6,
         "pedi": 0.949,
         "age": 28,
         "class": 0,
         "_deepnote_index_column": 389
        },
        {
         "preg": 3,
         "plas": 158,
         "pres": 70,
         "skin": 30,
         "test": 328,
         "mass": 35.5,
         "pedi": 0.344,
         "age": 35,
         "class": 1,
         "_deepnote_index_column": 480
        },
        {
         "preg": 3,
         "plas": 187,
         "pres": 70,
         "skin": 22,
         "test": 200,
         "mass": 36.4,
         "pedi": 0.408,
         "age": 36,
         "class": 1,
         "_deepnote_index_column": 748
        },
        {
         "preg": 3,
         "plas": 108,
         "pres": 62,
         "skin": 24,
         "test": 0,
         "mass": 26,
         "pedi": 0.223,
         "age": 25,
         "class": 0,
         "_deepnote_index_column": 752
        },
        {
         "preg": 3,
         "plas": 89,
         "pres": 74,
         "skin": 16,
         "test": 85,
         "mass": 30.4,
         "pedi": 0.551,
         "age": 38,
         "class": 0,
         "_deepnote_index_column": 431
        },
        {
         "preg": 3,
         "plas": 129,
         "pres": 64,
         "skin": 29,
         "test": 115,
         "mass": 26.4,
         "pedi": 0.219,
         "age": 28,
         "class": 1,
         "_deepnote_index_column": 419
        },
        {
         "preg": 3,
         "plas": 80,
         "pres": 0,
         "skin": 0,
         "test": 0,
         "mass": 0,
         "pedi": 0.174,
         "age": 22,
         "class": 0,
         "_deepnote_index_column": 494
        },
        {
         "preg": 3,
         "plas": 173,
         "pres": 84,
         "skin": 33,
         "test": 474,
         "mass": 35.7,
         "pedi": 0.258,
         "age": 22,
         "class": 1,
         "_deepnote_index_column": 415
        },
        {
         "preg": 3,
         "plas": 193,
         "pres": 70,
         "skin": 31,
         "test": 0,
         "mass": 34.9,
         "pedi": 0.241,
         "age": 25,
         "class": 1,
         "_deepnote_index_column": 399
        },
        {
         "preg": 3,
         "plas": 96,
         "pres": 56,
         "skin": 34,
         "test": 115,
         "mass": 24.7,
         "pedi": 0.944,
         "age": 39,
         "class": 0,
         "_deepnote_index_column": 396
        },
        {
         "preg": 2,
         "plas": 158,
         "pres": 90,
         "skin": 0,
         "test": 0,
         "mass": 31.6,
         "pedi": 0.805,
         "age": 66,
         "class": 1,
         "_deepnote_index_column": 221
        },
        {
         "preg": 2,
         "plas": 197,
         "pres": 70,
         "skin": 45,
         "test": 543,
         "mass": 30.5,
         "pedi": 0.158,
         "age": 53,
         "class": 1,
         "_deepnote_index_column": 8
        },
        {
         "preg": 2,
         "plas": 197,
         "pres": 70,
         "skin": 99,
         "test": 0,
         "mass": 34.7,
         "pedi": 0.575,
         "age": 62,
         "class": 1,
         "_deepnote_index_column": 579
        },
        {
         "preg": 2,
         "plas": 108,
         "pres": 80,
         "skin": 0,
         "test": 0,
         "mass": 27,
         "pedi": 0.259,
         "age": 52,
         "class": 1,
         "_deepnote_index_column": 284
        },
        {
         "preg": 2,
         "plas": 109,
         "pres": 92,
         "skin": 0,
         "test": 0,
         "mass": 42.7,
         "pedi": 0.845,
         "age": 54,
         "class": 0,
         "_deepnote_index_column": 67
        },
        {
         "preg": 2,
         "plas": 119,
         "pres": 0,
         "skin": 0,
         "test": 0,
         "mass": 19.6,
         "pedi": 0.832,
         "age": 72,
         "class": 0,
         "_deepnote_index_column": 453
        },
        {
         "preg": 2,
         "plas": 129,
         "pres": 0,
         "skin": 0,
         "test": 0,
         "mass": 38.5,
         "pedi": 0.304,
         "age": 41,
         "class": 0,
         "_deepnote_index_column": 703
        },
        {
         "preg": 2,
         "plas": 105,
         "pres": 75,
         "skin": 0,
         "test": 0,
         "mass": 23.3,
         "pedi": 0.56,
         "age": 53,
         "class": 0,
         "_deepnote_index_column": 734
        },
        {
         "preg": 2,
         "plas": 89,
         "pres": 90,
         "skin": 30,
         "test": 0,
         "mass": 33.5,
         "pedi": 0.292,
         "age": 42,
         "class": 0,
         "_deepnote_index_column": 491
        },
        {
         "preg": 1,
         "plas": 102,
         "pres": 74,
         "skin": 0,
         "test": 0,
         "mass": 39.5,
         "pedi": 0.293,
         "age": 42,
         "class": 1,
         "_deepnote_index_column": 739
        },
        {
         "preg": 1,
         "plas": 133,
         "pres": 102,
         "skin": 28,
         "test": 140,
         "mass": 32.8,
         "pedi": 0.234,
         "age": 45,
         "class": 1,
         "_deepnote_index_column": 369
        },
        {
         "preg": 1,
         "plas": 111,
         "pres": 94,
         "skin": 0,
         "test": 0,
         "mass": 32.8,
         "pedi": 0.265,
         "age": 45,
         "class": 0,
         "_deepnote_index_column": 724
        },
        {
         "preg": 1,
         "plas": 135,
         "pres": 54,
         "skin": 0,
         "test": 0,
         "mass": 26.7,
         "pedi": 0.687,
         "age": 62,
         "class": 0,
         "_deepnote_index_column": 456
        },
        {
         "preg": 1,
         "plas": 189,
         "pres": 60,
         "skin": 23,
         "test": 846,
         "mass": 30.1,
         "pedi": 0.398,
         "age": 59,
         "class": 1,
         "_deepnote_index_column": 13
        },
        {
         "preg": 1,
         "plas": 117,
         "pres": 88,
         "skin": 24,
         "test": 145,
         "mass": 34.5,
         "pedi": 0.403,
         "age": 40,
         "class": 1,
         "_deepnote_index_column": 128
        },
        {
         "preg": 1,
         "plas": 180,
         "pres": 0,
         "skin": 0,
         "test": 0,
         "mass": 43.3,
         "pedi": 0.282,
         "age": 41,
         "class": 1,
         "_deepnote_index_column": 332
        },
        {
         "preg": 1,
         "plas": 100,
         "pres": 66,
         "skin": 29,
         "test": 196,
         "mass": 32,
         "pedi": 0.444,
         "age": 42,
         "class": 0,
         "_deepnote_index_column": 390
        },
        {
         "preg": 1,
         "plas": 95,
         "pres": 82,
         "skin": 25,
         "test": 180,
         "mass": 35,
         "pedi": 0.233,
         "age": 43,
         "class": 1,
         "_deepnote_index_column": 429
        },
        {
         "preg": 1,
         "plas": 149,
         "pres": 68,
         "skin": 29,
         "test": 127,
         "mass": 29.3,
         "pedi": 0.349,
         "age": 42,
         "class": 1,
         "_deepnote_index_column": 722
        },
        {
         "preg": 1,
         "plas": 126,
         "pres": 60,
         "skin": 0,
         "test": 0,
         "mass": 30.1,
         "pedi": 0.349,
         "age": 47,
         "class": 1,
         "_deepnote_index_column": 766
        },
        {
         "preg": 1,
         "plas": 164,
         "pres": 82,
         "skin": 43,
         "test": 67,
         "mass": 32.8,
         "pedi": 0.341,
         "age": 50,
         "class": 0,
         "_deepnote_index_column": 548
        },
        {
         "preg": 1,
         "plas": 120,
         "pres": 80,
         "skin": 48,
         "test": 200,
         "mass": 38.9,
         "pedi": 1.162,
         "age": 41,
         "class": 0,
         "_deepnote_index_column": 657
        },
        {
         "preg": 1,
         "plas": 144,
         "pres": 82,
         "skin": 46,
         "test": 180,
         "mass": 46.1,
         "pedi": 0.335,
         "age": 46,
         "class": 1,
         "_deepnote_index_column": 689
        },
        {
         "preg": 1,
         "plas": 168,
         "pres": 88,
         "skin": 29,
         "test": 0,
         "mass": 35,
         "pedi": 0.905,
         "age": 52,
         "class": 1,
         "_deepnote_index_column": 702
        },
        {
         "preg": 0,
         "plas": 173,
         "pres": 78,
         "skin": 32,
         "test": 265,
         "mass": 46.5,
         "pedi": 1.159,
         "age": 58,
         "class": 0,
         "_deepnote_index_column": 487
        },
        {
         "preg": 0,
         "plas": 137,
         "pres": 84,
         "skin": 27,
         "test": 0,
         "mass": 27.3,
         "pedi": 0.231,
         "age": 59,
         "class": 0,
         "_deepnote_index_column": 475
        },
        {
         "preg": 0,
         "plas": 105,
         "pres": 90,
         "skin": 0,
         "test": 0,
         "mass": 29.6,
         "pedi": 0.197,
         "age": 46,
         "class": 0,
         "_deepnote_index_column": 536
        },
        {
         "preg": 0,
         "plas": 57,
         "pres": 60,
         "skin": 0,
         "test": 0,
         "mass": 21.7,
         "pedi": 0.735,
         "age": 67,
         "class": 0,
         "_deepnote_index_column": 537
        },
        {
         "preg": 0,
         "plas": 67,
         "pres": 76,
         "skin": 0,
         "test": 0,
         "mass": 45.3,
         "pedi": 0.194,
         "age": 46,
         "class": 0,
         "_deepnote_index_column": 596
        },
        {
         "preg": 0,
         "plas": 117,
         "pres": 0,
         "skin": 0,
         "test": 0,
         "mass": 33.8,
         "pedi": 0.932,
         "age": 44,
         "class": 0,
         "_deepnote_index_column": 336
        },
        {
         "preg": 0,
         "plas": 123,
         "pres": 72,
         "skin": 0,
         "test": 0,
         "mass": 36.3,
         "pedi": 0.258,
         "age": 52,
         "class": 1,
         "_deepnote_index_column": 757
        },
        {
         "preg": 0,
         "plas": 161,
         "pres": 50,
         "skin": 0,
         "test": 0,
         "mass": 21.9,
         "pedi": 0.254,
         "age": 65,
         "class": 0,
         "_deepnote_index_column": 294
        },
        {
         "preg": 0,
         "plas": 105,
         "pres": 84,
         "skin": 0,
         "test": 0,
         "mass": 27.9,
         "pedi": 0.741,
         "age": 62,
         "class": 1,
         "_deepnote_index_column": 129
        },
        {
         "preg": 0,
         "plas": 146,
         "pres": 82,
         "skin": 0,
         "test": 0,
         "mass": 40.5,
         "pedi": 1.781,
         "age": 44,
         "class": 0,
         "_deepnote_index_column": 58
        },
        {
         "preg": 0,
         "plas": 189,
         "pres": 104,
         "skin": 25,
         "test": 0,
         "mass": 34.3,
         "pedi": 0.435,
         "age": 41,
         "class": 1,
         "_deepnote_index_column": 440
        }
       ]
      },
      "text/plain": "     preg  plas  pres  skin  test  mass   pedi  age  class\n159    17   163    72    41   114  40.9  0.817   47      1\n88     15   136    70    32   110  37.1  0.153   43      1\n455    14   175    62    30     0  33.6  0.212   38      1\n298    14   100    78    25   184  36.6  0.412   46      1\n635    13   104    72     0     0  31.2  0.465   38      1\n..    ...   ...   ...   ...   ...   ...    ...  ...    ...\n757     0   123    72     0     0  36.3  0.258   52      1\n294     0   161    50     0     0  21.9  0.254   65      0\n129     0   105    84     0     0  27.9  0.741   62      1\n58      0   146    82     0     0  40.5  1.781   44      0\n440     0   189   104    25     0  34.3  0.435   41      1\n\n[454 rows x 9 columns]",
      "text/html": "<div>\n<style scoped>\n    .dataframe tbody tr th:only-of-type {\n        vertical-align: middle;\n    }\n\n    .dataframe tbody tr th {\n        vertical-align: top;\n    }\n\n    .dataframe thead th {\n        text-align: right;\n    }\n</style>\n<table border=\"1\" class=\"dataframe\">\n  <thead>\n    <tr style=\"text-align: right;\">\n      <th></th>\n      <th>preg</th>\n      <th>plas</th>\n      <th>pres</th>\n      <th>skin</th>\n      <th>test</th>\n      <th>mass</th>\n      <th>pedi</th>\n      <th>age</th>\n      <th>class</th>\n    </tr>\n  </thead>\n  <tbody>\n    <tr>\n      <th>159</th>\n      <td>17</td>\n      <td>163</td>\n      <td>72</td>\n      <td>41</td>\n      <td>114</td>\n      <td>40.9</td>\n      <td>0.817</td>\n      <td>47</td>\n      <td>1</td>\n    </tr>\n    <tr>\n      <th>88</th>\n      <td>15</td>\n      <td>136</td>\n      <td>70</td>\n      <td>32</td>\n      <td>110</td>\n      <td>37.1</td>\n      <td>0.153</td>\n      <td>43</td>\n      <td>1</td>\n    </tr>\n    <tr>\n      <th>455</th>\n      <td>14</td>\n      <td>175</td>\n      <td>62</td>\n      <td>30</td>\n      <td>0</td>\n      <td>33.6</td>\n      <td>0.212</td>\n      <td>38</td>\n      <td>1</td>\n    </tr>\n    <tr>\n      <th>298</th>\n      <td>14</td>\n      <td>100</td>\n      <td>78</td>\n      <td>25</td>\n      <td>184</td>\n      <td>36.6</td>\n      <td>0.412</td>\n      <td>46</td>\n      <td>1</td>\n    </tr>\n    <tr>\n      <th>635</th>\n      <td>13</td>\n      <td>104</td>\n      <td>72</td>\n      <td>0</td>\n      <td>0</td>\n      <td>31.2</td>\n      <td>0.465</td>\n      <td>38</td>\n      <td>1</td>\n    </tr>\n    <tr>\n      <th>...</th>\n      <td>...</td>\n      <td>...</td>\n      <td>...</td>\n      <td>...</td>\n      <td>...</td>\n      <td>...</td>\n      <td>...</td>\n      <td>...</td>\n      <td>...</td>\n    </tr>\n    <tr>\n      <th>757</th>\n      <td>0</td>\n      <td>123</td>\n      <td>72</td>\n      <td>0</td>\n      <td>0</td>\n      <td>36.3</td>\n      <td>0.258</td>\n      <td>52</td>\n      <td>1</td>\n    </tr>\n    <tr>\n      <th>294</th>\n      <td>0</td>\n      <td>161</td>\n      <td>50</td>\n      <td>0</td>\n      <td>0</td>\n      <td>21.9</td>\n      <td>0.254</td>\n      <td>65</td>\n      <td>0</td>\n    </tr>\n    <tr>\n      <th>129</th>\n      <td>0</td>\n      <td>105</td>\n      <td>84</td>\n      <td>0</td>\n      <td>0</td>\n      <td>27.9</td>\n      <td>0.741</td>\n      <td>62</td>\n      <td>1</td>\n    </tr>\n    <tr>\n      <th>58</th>\n      <td>0</td>\n      <td>146</td>\n      <td>82</td>\n      <td>0</td>\n      <td>0</td>\n      <td>40.5</td>\n      <td>1.781</td>\n      <td>44</td>\n      <td>0</td>\n    </tr>\n    <tr>\n      <th>440</th>\n      <td>0</td>\n      <td>189</td>\n      <td>104</td>\n      <td>25</td>\n      <td>0</td>\n      <td>34.3</td>\n      <td>0.435</td>\n      <td>41</td>\n      <td>1</td>\n    </tr>\n  </tbody>\n</table>\n<p>454 rows × 9 columns</p>\n</div>"
     },
     "metadata": {}
    }
   ],
   "execution_count": null
  },
  {
   "cell_type": "markdown",
   "source": "# Dealing with missing data\n\nNot all datasets are created whole. Survey respondents may accidentally skip a question, some lab equipement could malfunction, or the handwriting for an answer may be illegible to the people entering the data into a computer. Anyway it could happen, and missing data is annoying!\n\nThere are a few ways to go about fixing those fields in your data, each with their own advantages and disadvantages. We'll continue using the Pima diabetes dataset to demonstrate.",
   "metadata": {
    "id": "r2PHGRBRVGLB",
    "colab_type": "text",
    "cell_id": "00036-1a572f1b-7cfb-4179-8fec-da5c9467bf50",
    "deepnote_cell_type": "markdown"
   }
  },
  {
   "cell_type": "code",
   "metadata": {
    "id": "2Mtjl0mEVGLC",
    "colab_type": "code",
    "colab": {},
    "cell_id": "00037-e8a6b189-7854-49ba-83e5-2234ceb5bcd1",
    "deepnote_to_be_reexecuted": false,
    "source_hash": "d1f26273",
    "execution_start": 1625522811432,
    "execution_millis": 12,
    "deepnote_cell_type": "code"
   },
   "source": "data.head(15)",
   "outputs": [
    {
     "output_type": "execute_result",
     "execution_count": 20,
     "data": {
      "application/vnd.deepnote.dataframe.v2+json": {
       "row_count": 15,
       "column_count": 9,
       "columns": [
        {
         "name": "preg",
         "dtype": "int64",
         "stats": {
          "unique_count": 9,
          "nan_count": 0,
          "min": "0",
          "max": "10",
          "histogram": [
           {
            "bin_start": 0,
            "bin_end": 1,
            "count": 1
           },
           {
            "bin_start": 1,
            "bin_end": 2,
            "count": 3
           },
           {
            "bin_start": 2,
            "bin_end": 3,
            "count": 1
           },
           {
            "bin_start": 3,
            "bin_end": 4,
            "count": 1
           },
           {
            "bin_start": 4,
            "bin_end": 5,
            "count": 1
           },
           {
            "bin_start": 5,
            "bin_end": 6,
            "count": 2
           },
           {
            "bin_start": 6,
            "bin_end": 7,
            "count": 1
           },
           {
            "bin_start": 7,
            "bin_end": 8,
            "count": 0
           },
           {
            "bin_start": 8,
            "bin_end": 9,
            "count": 2
           },
           {
            "bin_start": 9,
            "bin_end": 10,
            "count": 3
           }
          ]
         }
        },
        {
         "name": "plas",
         "dtype": "int64",
         "stats": {
          "unique_count": 15,
          "nan_count": 0,
          "min": "78",
          "max": "197",
          "histogram": [
           {
            "bin_start": 78,
            "bin_end": 89.9,
            "count": 3
           },
           {
            "bin_start": 89.9,
            "bin_end": 101.8,
            "count": 0
           },
           {
            "bin_start": 101.8,
            "bin_end": 113.7,
            "count": 1
           },
           {
            "bin_start": 113.7,
            "bin_end": 125.6,
            "count": 3
           },
           {
            "bin_start": 125.6,
            "bin_end": 137.5,
            "count": 1
           },
           {
            "bin_start": 137.5,
            "bin_end": 149.4,
            "count": 2
           },
           {
            "bin_start": 149.4,
            "bin_end": 161.3,
            "count": 0
           },
           {
            "bin_start": 161.3,
            "bin_end": 173.2,
            "count": 2
           },
           {
            "bin_start": 173.2,
            "bin_end": 185.10000000000002,
            "count": 1
           },
           {
            "bin_start": 185.10000000000002,
            "bin_end": 197,
            "count": 2
           }
          ]
         }
        },
        {
         "name": "pres",
         "dtype": "int64",
         "stats": {
          "unique_count": 12,
          "nan_count": 0,
          "min": "0",
          "max": "96",
          "histogram": [
           {
            "bin_start": 0,
            "bin_end": 9.6,
            "count": 1
           },
           {
            "bin_start": 9.6,
            "bin_end": 19.2,
            "count": 0
           },
           {
            "bin_start": 19.2,
            "bin_end": 28.799999999999997,
            "count": 0
           },
           {
            "bin_start": 28.799999999999997,
            "bin_end": 38.4,
            "count": 0
           },
           {
            "bin_start": 38.4,
            "bin_end": 48,
            "count": 1
           },
           {
            "bin_start": 48,
            "bin_end": 57.599999999999994,
            "count": 1
           },
           {
            "bin_start": 57.599999999999994,
            "bin_end": 67.2,
            "count": 4
           },
           {
            "bin_start": 67.2,
            "bin_end": 76.8,
            "count": 5
           },
           {
            "bin_start": 76.8,
            "bin_end": 86.39999999999999,
            "count": 1
           },
           {
            "bin_start": 86.39999999999999,
            "bin_end": 96,
            "count": 2
           }
          ]
         }
        },
        {
         "name": "skin",
         "dtype": "int64",
         "stats": {
          "unique_count": 7,
          "nan_count": 0,
          "min": "0",
          "max": "45",
          "histogram": [
           {
            "bin_start": 0,
            "bin_end": 4.5,
            "count": 7
           },
           {
            "bin_start": 4.5,
            "bin_end": 9,
            "count": 0
           },
           {
            "bin_start": 9,
            "bin_end": 13.5,
            "count": 0
           },
           {
            "bin_start": 13.5,
            "bin_end": 18,
            "count": 0
           },
           {
            "bin_start": 18,
            "bin_end": 22.5,
            "count": 1
           },
           {
            "bin_start": 22.5,
            "bin_end": 27,
            "count": 2
           },
           {
            "bin_start": 27,
            "bin_end": 31.5,
            "count": 1
           },
           {
            "bin_start": 31.5,
            "bin_end": 36,
            "count": 3
           },
           {
            "bin_start": 36,
            "bin_end": 40.5,
            "count": 0
           },
           {
            "bin_start": 40.5,
            "bin_end": 45,
            "count": 1
           }
          ]
         }
        },
        {
         "name": "test",
         "dtype": "int64",
         "stats": {
          "unique_count": 7,
          "nan_count": 0,
          "min": "0",
          "max": "846",
          "histogram": [
           {
            "bin_start": 0,
            "bin_end": 84.6,
            "count": 9
           },
           {
            "bin_start": 84.6,
            "bin_end": 169.2,
            "count": 3
           },
           {
            "bin_start": 169.2,
            "bin_end": 253.79999999999998,
            "count": 1
           },
           {
            "bin_start": 253.79999999999998,
            "bin_end": 338.4,
            "count": 0
           },
           {
            "bin_start": 338.4,
            "bin_end": 423,
            "count": 0
           },
           {
            "bin_start": 423,
            "bin_end": 507.59999999999997,
            "count": 0
           },
           {
            "bin_start": 507.59999999999997,
            "bin_end": 592.1999999999999,
            "count": 1
           },
           {
            "bin_start": 592.1999999999999,
            "bin_end": 676.8,
            "count": 0
           },
           {
            "bin_start": 676.8,
            "bin_end": 761.4,
            "count": 0
           },
           {
            "bin_start": 761.4,
            "bin_end": 846,
            "count": 1
           }
          ]
         }
        },
        {
         "name": "mass",
         "dtype": "float64",
         "stats": {
          "unique_count": 15,
          "nan_count": 0,
          "min": "0.0",
          "max": "43.1",
          "histogram": [
           {
            "bin_start": 0,
            "bin_end": 4.3100000000000005,
            "count": 1
           },
           {
            "bin_start": 4.3100000000000005,
            "bin_end": 8.620000000000001,
            "count": 0
           },
           {
            "bin_start": 8.620000000000001,
            "bin_end": 12.930000000000001,
            "count": 0
           },
           {
            "bin_start": 12.930000000000001,
            "bin_end": 17.240000000000002,
            "count": 0
           },
           {
            "bin_start": 17.240000000000002,
            "bin_end": 21.550000000000004,
            "count": 0
           },
           {
            "bin_start": 21.550000000000004,
            "bin_end": 25.860000000000003,
            "count": 3
           },
           {
            "bin_start": 25.860000000000003,
            "bin_end": 30.17,
            "count": 4
           },
           {
            "bin_start": 30.17,
            "bin_end": 34.480000000000004,
            "count": 3
           },
           {
            "bin_start": 34.480000000000004,
            "bin_end": 38.790000000000006,
            "count": 3
           },
           {
            "bin_start": 38.790000000000006,
            "bin_end": 43.1,
            "count": 1
           }
          ]
         }
        },
        {
         "name": "pedi",
         "dtype": "float64",
         "stats": {
          "unique_count": 15,
          "nan_count": 0,
          "min": "0.134",
          "max": "2.288",
          "histogram": [
           {
            "bin_start": 0.134,
            "bin_end": 0.3494,
            "count": 7
           },
           {
            "bin_start": 0.3494,
            "bin_end": 0.5648,
            "count": 3
           },
           {
            "bin_start": 0.5648,
            "bin_end": 0.7801999999999999,
            "count": 3
           },
           {
            "bin_start": 0.7801999999999999,
            "bin_end": 0.9955999999999999,
            "count": 0
           },
           {
            "bin_start": 0.9955999999999999,
            "bin_end": 1.2109999999999999,
            "count": 0
           },
           {
            "bin_start": 1.2109999999999999,
            "bin_end": 1.4263999999999997,
            "count": 0
           },
           {
            "bin_start": 1.4263999999999997,
            "bin_end": 1.6418,
            "count": 1
           },
           {
            "bin_start": 1.6418,
            "bin_end": 1.8571999999999997,
            "count": 0
           },
           {
            "bin_start": 1.8571999999999997,
            "bin_end": 2.0726,
            "count": 0
           },
           {
            "bin_start": 2.0726,
            "bin_end": 2.288,
            "count": 1
           }
          ]
         }
        },
        {
         "name": "age",
         "dtype": "int64",
         "stats": {
          "unique_count": 14,
          "nan_count": 0,
          "min": "21",
          "max": "59",
          "histogram": [
           {
            "bin_start": 21,
            "bin_end": 24.8,
            "count": 1
           },
           {
            "bin_start": 24.8,
            "bin_end": 28.6,
            "count": 1
           },
           {
            "bin_start": 28.6,
            "bin_end": 32.4,
            "count": 5
           },
           {
            "bin_start": 32.4,
            "bin_end": 36.2,
            "count": 2
           },
           {
            "bin_start": 36.2,
            "bin_end": 40,
            "count": 0
           },
           {
            "bin_start": 40,
            "bin_end": 43.8,
            "count": 0
           },
           {
            "bin_start": 43.8,
            "bin_end": 47.599999999999994,
            "count": 0
           },
           {
            "bin_start": 47.599999999999994,
            "bin_end": 51.4,
            "count": 2
           },
           {
            "bin_start": 51.4,
            "bin_end": 55.199999999999996,
            "count": 2
           },
           {
            "bin_start": 55.199999999999996,
            "bin_end": 59,
            "count": 2
           }
          ]
         }
        },
        {
         "name": "class",
         "dtype": "int64",
         "stats": {
          "unique_count": 2,
          "nan_count": 0,
          "min": "0",
          "max": "1",
          "histogram": [
           {
            "bin_start": 0,
            "bin_end": 0.1,
            "count": 6
           },
           {
            "bin_start": 0.1,
            "bin_end": 0.2,
            "count": 0
           },
           {
            "bin_start": 0.2,
            "bin_end": 0.30000000000000004,
            "count": 0
           },
           {
            "bin_start": 0.30000000000000004,
            "bin_end": 0.4,
            "count": 0
           },
           {
            "bin_start": 0.4,
            "bin_end": 0.5,
            "count": 0
           },
           {
            "bin_start": 0.5,
            "bin_end": 0.6000000000000001,
            "count": 0
           },
           {
            "bin_start": 0.6000000000000001,
            "bin_end": 0.7000000000000001,
            "count": 0
           },
           {
            "bin_start": 0.7000000000000001,
            "bin_end": 0.8,
            "count": 0
           },
           {
            "bin_start": 0.8,
            "bin_end": 0.9,
            "count": 0
           },
           {
            "bin_start": 0.9,
            "bin_end": 1,
            "count": 9
           }
          ]
         }
        },
        {
         "name": "_deepnote_index_column",
         "dtype": "int64"
        }
       ],
       "rows_top": [
        {
         "preg": 6,
         "plas": 148,
         "pres": 72,
         "skin": 35,
         "test": 0,
         "mass": 33.6,
         "pedi": 0.627,
         "age": 50,
         "class": 1,
         "_deepnote_index_column": 0
        },
        {
         "preg": 1,
         "plas": 85,
         "pres": 66,
         "skin": 29,
         "test": 0,
         "mass": 26.6,
         "pedi": 0.351,
         "age": 31,
         "class": 0,
         "_deepnote_index_column": 1
        },
        {
         "preg": 8,
         "plas": 183,
         "pres": 64,
         "skin": 0,
         "test": 0,
         "mass": 23.3,
         "pedi": 0.672,
         "age": 32,
         "class": 1,
         "_deepnote_index_column": 2
        },
        {
         "preg": 1,
         "plas": 89,
         "pres": 66,
         "skin": 23,
         "test": 94,
         "mass": 28.1,
         "pedi": 0.167,
         "age": 21,
         "class": 0,
         "_deepnote_index_column": 3
        },
        {
         "preg": 0,
         "plas": 137,
         "pres": 40,
         "skin": 35,
         "test": 168,
         "mass": 43.1,
         "pedi": 2.288,
         "age": 33,
         "class": 1,
         "_deepnote_index_column": 4
        },
        {
         "preg": 5,
         "plas": 116,
         "pres": 74,
         "skin": 0,
         "test": 0,
         "mass": 25.6,
         "pedi": 0.201,
         "age": 30,
         "class": 0,
         "_deepnote_index_column": 5
        },
        {
         "preg": 3,
         "plas": 78,
         "pres": 50,
         "skin": 32,
         "test": 88,
         "mass": 31,
         "pedi": 0.248,
         "age": 26,
         "class": 1,
         "_deepnote_index_column": 6
        },
        {
         "preg": 10,
         "plas": 115,
         "pres": 0,
         "skin": 0,
         "test": 0,
         "mass": 35.3,
         "pedi": 0.134,
         "age": 29,
         "class": 0,
         "_deepnote_index_column": 7
        },
        {
         "preg": 2,
         "plas": 197,
         "pres": 70,
         "skin": 45,
         "test": 543,
         "mass": 30.5,
         "pedi": 0.158,
         "age": 53,
         "class": 1,
         "_deepnote_index_column": 8
        },
        {
         "preg": 8,
         "plas": 125,
         "pres": 96,
         "skin": 0,
         "test": 0,
         "mass": 0,
         "pedi": 0.232,
         "age": 54,
         "class": 1,
         "_deepnote_index_column": 9
        },
        {
         "preg": 4,
         "plas": 110,
         "pres": 92,
         "skin": 0,
         "test": 0,
         "mass": 37.6,
         "pedi": 0.191,
         "age": 30,
         "class": 0,
         "_deepnote_index_column": 10
        },
        {
         "preg": 10,
         "plas": 168,
         "pres": 74,
         "skin": 0,
         "test": 0,
         "mass": 38,
         "pedi": 0.537,
         "age": 34,
         "class": 1,
         "_deepnote_index_column": 11
        },
        {
         "preg": 10,
         "plas": 139,
         "pres": 80,
         "skin": 0,
         "test": 0,
         "mass": 27.1,
         "pedi": 1.441,
         "age": 57,
         "class": 0,
         "_deepnote_index_column": 12
        },
        {
         "preg": 1,
         "plas": 189,
         "pres": 60,
         "skin": 23,
         "test": 846,
         "mass": 30.1,
         "pedi": 0.398,
         "age": 59,
         "class": 1,
         "_deepnote_index_column": 13
        },
        {
         "preg": 5,
         "plas": 166,
         "pres": 72,
         "skin": 19,
         "test": 175,
         "mass": 25.8,
         "pedi": 0.587,
         "age": 51,
         "class": 1,
         "_deepnote_index_column": 14
        }
       ],
       "rows_bottom": null
      },
      "text/plain": "    preg  plas  pres  skin  test  mass   pedi  age  class\n0      6   148    72    35     0  33.6  0.627   50      1\n1      1    85    66    29     0  26.6  0.351   31      0\n2      8   183    64     0     0  23.3  0.672   32      1\n3      1    89    66    23    94  28.1  0.167   21      0\n4      0   137    40    35   168  43.1  2.288   33      1\n5      5   116    74     0     0  25.6  0.201   30      0\n6      3    78    50    32    88  31.0  0.248   26      1\n7     10   115     0     0     0  35.3  0.134   29      0\n8      2   197    70    45   543  30.5  0.158   53      1\n9      8   125    96     0     0   0.0  0.232   54      1\n10     4   110    92     0     0  37.6  0.191   30      0\n11    10   168    74     0     0  38.0  0.537   34      1\n12    10   139    80     0     0  27.1  1.441   57      0\n13     1   189    60    23   846  30.1  0.398   59      1\n14     5   166    72    19   175  25.8  0.587   51      1",
      "text/html": "<div>\n<style scoped>\n    .dataframe tbody tr th:only-of-type {\n        vertical-align: middle;\n    }\n\n    .dataframe tbody tr th {\n        vertical-align: top;\n    }\n\n    .dataframe thead th {\n        text-align: right;\n    }\n</style>\n<table border=\"1\" class=\"dataframe\">\n  <thead>\n    <tr style=\"text-align: right;\">\n      <th></th>\n      <th>preg</th>\n      <th>plas</th>\n      <th>pres</th>\n      <th>skin</th>\n      <th>test</th>\n      <th>mass</th>\n      <th>pedi</th>\n      <th>age</th>\n      <th>class</th>\n    </tr>\n  </thead>\n  <tbody>\n    <tr>\n      <th>0</th>\n      <td>6</td>\n      <td>148</td>\n      <td>72</td>\n      <td>35</td>\n      <td>0</td>\n      <td>33.6</td>\n      <td>0.627</td>\n      <td>50</td>\n      <td>1</td>\n    </tr>\n    <tr>\n      <th>1</th>\n      <td>1</td>\n      <td>85</td>\n      <td>66</td>\n      <td>29</td>\n      <td>0</td>\n      <td>26.6</td>\n      <td>0.351</td>\n      <td>31</td>\n      <td>0</td>\n    </tr>\n    <tr>\n      <th>2</th>\n      <td>8</td>\n      <td>183</td>\n      <td>64</td>\n      <td>0</td>\n      <td>0</td>\n      <td>23.3</td>\n      <td>0.672</td>\n      <td>32</td>\n      <td>1</td>\n    </tr>\n    <tr>\n      <th>3</th>\n      <td>1</td>\n      <td>89</td>\n      <td>66</td>\n      <td>23</td>\n      <td>94</td>\n      <td>28.1</td>\n      <td>0.167</td>\n      <td>21</td>\n      <td>0</td>\n    </tr>\n    <tr>\n      <th>4</th>\n      <td>0</td>\n      <td>137</td>\n      <td>40</td>\n      <td>35</td>\n      <td>168</td>\n      <td>43.1</td>\n      <td>2.288</td>\n      <td>33</td>\n      <td>1</td>\n    </tr>\n    <tr>\n      <th>5</th>\n      <td>5</td>\n      <td>116</td>\n      <td>74</td>\n      <td>0</td>\n      <td>0</td>\n      <td>25.6</td>\n      <td>0.201</td>\n      <td>30</td>\n      <td>0</td>\n    </tr>\n    <tr>\n      <th>6</th>\n      <td>3</td>\n      <td>78</td>\n      <td>50</td>\n      <td>32</td>\n      <td>88</td>\n      <td>31.0</td>\n      <td>0.248</td>\n      <td>26</td>\n      <td>1</td>\n    </tr>\n    <tr>\n      <th>7</th>\n      <td>10</td>\n      <td>115</td>\n      <td>0</td>\n      <td>0</td>\n      <td>0</td>\n      <td>35.3</td>\n      <td>0.134</td>\n      <td>29</td>\n      <td>0</td>\n    </tr>\n    <tr>\n      <th>8</th>\n      <td>2</td>\n      <td>197</td>\n      <td>70</td>\n      <td>45</td>\n      <td>543</td>\n      <td>30.5</td>\n      <td>0.158</td>\n      <td>53</td>\n      <td>1</td>\n    </tr>\n    <tr>\n      <th>9</th>\n      <td>8</td>\n      <td>125</td>\n      <td>96</td>\n      <td>0</td>\n      <td>0</td>\n      <td>0.0</td>\n      <td>0.232</td>\n      <td>54</td>\n      <td>1</td>\n    </tr>\n    <tr>\n      <th>10</th>\n      <td>4</td>\n      <td>110</td>\n      <td>92</td>\n      <td>0</td>\n      <td>0</td>\n      <td>37.6</td>\n      <td>0.191</td>\n      <td>30</td>\n      <td>0</td>\n    </tr>\n    <tr>\n      <th>11</th>\n      <td>10</td>\n      <td>168</td>\n      <td>74</td>\n      <td>0</td>\n      <td>0</td>\n      <td>38.0</td>\n      <td>0.537</td>\n      <td>34</td>\n      <td>1</td>\n    </tr>\n    <tr>\n      <th>12</th>\n      <td>10</td>\n      <td>139</td>\n      <td>80</td>\n      <td>0</td>\n      <td>0</td>\n      <td>27.1</td>\n      <td>1.441</td>\n      <td>57</td>\n      <td>0</td>\n    </tr>\n    <tr>\n      <th>13</th>\n      <td>1</td>\n      <td>189</td>\n      <td>60</td>\n      <td>23</td>\n      <td>846</td>\n      <td>30.1</td>\n      <td>0.398</td>\n      <td>59</td>\n      <td>1</td>\n    </tr>\n    <tr>\n      <th>14</th>\n      <td>5</td>\n      <td>166</td>\n      <td>72</td>\n      <td>19</td>\n      <td>175</td>\n      <td>25.8</td>\n      <td>0.587</td>\n      <td>51</td>\n      <td>1</td>\n    </tr>\n  </tbody>\n</table>\n</div>"
     },
     "metadata": {}
    }
   ],
   "execution_count": null
  },
  {
   "cell_type": "markdown",
   "source": "Now if you look into the dataframe you'll see some odd, or rather **missing**, values. We can tell that these are missing values from knowing what the columns stand for; for example it wouldn't make sense for someone to have a blood pressure or BMI of 0 right? ",
   "metadata": {
    "id": "H9z0lp0rVGLG",
    "colab_type": "text",
    "cell_id": "00038-ea801a30-db50-44c1-bf95-739e304727c1",
    "deepnote_cell_type": "markdown"
   }
  },
  {
   "cell_type": "code",
   "metadata": {
    "id": "AwZYVlQ9VGLG",
    "colab_type": "code",
    "colab": {},
    "cell_id": "00039-f229aaac-f354-4faa-b381-dc3a369370c2",
    "deepnote_to_be_reexecuted": false,
    "source_hash": "21e26475",
    "execution_start": 1625522812953,
    "execution_millis": 73,
    "deepnote_cell_type": "code"
   },
   "source": "# Looking at the columns with 0s\ndata.describe()",
   "outputs": [
    {
     "output_type": "execute_result",
     "execution_count": 21,
     "data": {
      "application/vnd.deepnote.dataframe.v2+json": {
       "row_count": 8,
       "column_count": 9,
       "columns": [
        {
         "name": "preg",
         "dtype": "float64",
         "stats": {
          "unique_count": 8,
          "nan_count": 0,
          "min": "0.0",
          "max": "768.0",
          "histogram": [
           {
            "bin_start": 0,
            "bin_end": 76.8,
            "count": 7
           },
           {
            "bin_start": 76.8,
            "bin_end": 153.6,
            "count": 0
           },
           {
            "bin_start": 153.6,
            "bin_end": 230.39999999999998,
            "count": 0
           },
           {
            "bin_start": 230.39999999999998,
            "bin_end": 307.2,
            "count": 0
           },
           {
            "bin_start": 307.2,
            "bin_end": 384,
            "count": 0
           },
           {
            "bin_start": 384,
            "bin_end": 460.79999999999995,
            "count": 0
           },
           {
            "bin_start": 460.79999999999995,
            "bin_end": 537.6,
            "count": 0
           },
           {
            "bin_start": 537.6,
            "bin_end": 614.4,
            "count": 0
           },
           {
            "bin_start": 614.4,
            "bin_end": 691.1999999999999,
            "count": 0
           },
           {
            "bin_start": 691.1999999999999,
            "bin_end": 768,
            "count": 1
           }
          ]
         }
        },
        {
         "name": "plas",
         "dtype": "float64",
         "stats": {
          "unique_count": 8,
          "nan_count": 0,
          "min": "0.0",
          "max": "768.0",
          "histogram": [
           {
            "bin_start": 0,
            "bin_end": 76.8,
            "count": 2
           },
           {
            "bin_start": 76.8,
            "bin_end": 153.6,
            "count": 4
           },
           {
            "bin_start": 153.6,
            "bin_end": 230.39999999999998,
            "count": 1
           },
           {
            "bin_start": 230.39999999999998,
            "bin_end": 307.2,
            "count": 0
           },
           {
            "bin_start": 307.2,
            "bin_end": 384,
            "count": 0
           },
           {
            "bin_start": 384,
            "bin_end": 460.79999999999995,
            "count": 0
           },
           {
            "bin_start": 460.79999999999995,
            "bin_end": 537.6,
            "count": 0
           },
           {
            "bin_start": 537.6,
            "bin_end": 614.4,
            "count": 0
           },
           {
            "bin_start": 614.4,
            "bin_end": 691.1999999999999,
            "count": 0
           },
           {
            "bin_start": 691.1999999999999,
            "bin_end": 768,
            "count": 1
           }
          ]
         }
        },
        {
         "name": "pres",
         "dtype": "float64",
         "stats": {
          "unique_count": 8,
          "nan_count": 0,
          "min": "0.0",
          "max": "768.0",
          "histogram": [
           {
            "bin_start": 0,
            "bin_end": 76.8,
            "count": 5
           },
           {
            "bin_start": 76.8,
            "bin_end": 153.6,
            "count": 2
           },
           {
            "bin_start": 153.6,
            "bin_end": 230.39999999999998,
            "count": 0
           },
           {
            "bin_start": 230.39999999999998,
            "bin_end": 307.2,
            "count": 0
           },
           {
            "bin_start": 307.2,
            "bin_end": 384,
            "count": 0
           },
           {
            "bin_start": 384,
            "bin_end": 460.79999999999995,
            "count": 0
           },
           {
            "bin_start": 460.79999999999995,
            "bin_end": 537.6,
            "count": 0
           },
           {
            "bin_start": 537.6,
            "bin_end": 614.4,
            "count": 0
           },
           {
            "bin_start": 614.4,
            "bin_end": 691.1999999999999,
            "count": 0
           },
           {
            "bin_start": 691.1999999999999,
            "bin_end": 768,
            "count": 1
           }
          ]
         }
        },
        {
         "name": "skin",
         "dtype": "float64",
         "stats": {
          "unique_count": 7,
          "nan_count": 0,
          "min": "0.0",
          "max": "768.0",
          "histogram": [
           {
            "bin_start": 0,
            "bin_end": 76.8,
            "count": 6
           },
           {
            "bin_start": 76.8,
            "bin_end": 153.6,
            "count": 1
           },
           {
            "bin_start": 153.6,
            "bin_end": 230.39999999999998,
            "count": 0
           },
           {
            "bin_start": 230.39999999999998,
            "bin_end": 307.2,
            "count": 0
           },
           {
            "bin_start": 307.2,
            "bin_end": 384,
            "count": 0
           },
           {
            "bin_start": 384,
            "bin_end": 460.79999999999995,
            "count": 0
           },
           {
            "bin_start": 460.79999999999995,
            "bin_end": 537.6,
            "count": 0
           },
           {
            "bin_start": 537.6,
            "bin_end": 614.4,
            "count": 0
           },
           {
            "bin_start": 614.4,
            "bin_end": 691.1999999999999,
            "count": 0
           },
           {
            "bin_start": 691.1999999999999,
            "bin_end": 768,
            "count": 1
           }
          ]
         }
        },
        {
         "name": "test",
         "dtype": "float64",
         "stats": {
          "unique_count": 7,
          "nan_count": 0,
          "min": "0.0",
          "max": "846.0",
          "histogram": [
           {
            "bin_start": 0,
            "bin_end": 84.6,
            "count": 4
           },
           {
            "bin_start": 84.6,
            "bin_end": 169.2,
            "count": 2
           },
           {
            "bin_start": 169.2,
            "bin_end": 253.79999999999998,
            "count": 0
           },
           {
            "bin_start": 253.79999999999998,
            "bin_end": 338.4,
            "count": 0
           },
           {
            "bin_start": 338.4,
            "bin_end": 423,
            "count": 0
           },
           {
            "bin_start": 423,
            "bin_end": 507.59999999999997,
            "count": 0
           },
           {
            "bin_start": 507.59999999999997,
            "bin_end": 592.1999999999999,
            "count": 0
           },
           {
            "bin_start": 592.1999999999999,
            "bin_end": 676.8,
            "count": 0
           },
           {
            "bin_start": 676.8,
            "bin_end": 761.4,
            "count": 0
           },
           {
            "bin_start": 761.4,
            "bin_end": 846,
            "count": 2
           }
          ]
         }
        },
        {
         "name": "mass",
         "dtype": "float64",
         "stats": {
          "unique_count": 8,
          "nan_count": 0,
          "min": "0.0",
          "max": "768.0",
          "histogram": [
           {
            "bin_start": 0,
            "bin_end": 76.8,
            "count": 7
           },
           {
            "bin_start": 76.8,
            "bin_end": 153.6,
            "count": 0
           },
           {
            "bin_start": 153.6,
            "bin_end": 230.39999999999998,
            "count": 0
           },
           {
            "bin_start": 230.39999999999998,
            "bin_end": 307.2,
            "count": 0
           },
           {
            "bin_start": 307.2,
            "bin_end": 384,
            "count": 0
           },
           {
            "bin_start": 384,
            "bin_end": 460.79999999999995,
            "count": 0
           },
           {
            "bin_start": 460.79999999999995,
            "bin_end": 537.6,
            "count": 0
           },
           {
            "bin_start": 537.6,
            "bin_end": 614.4,
            "count": 0
           },
           {
            "bin_start": 614.4,
            "bin_end": 691.1999999999999,
            "count": 0
           },
           {
            "bin_start": 691.1999999999999,
            "bin_end": 768,
            "count": 1
           }
          ]
         }
        },
        {
         "name": "pedi",
         "dtype": "float64",
         "stats": {
          "unique_count": 8,
          "nan_count": 0,
          "min": "0.078",
          "max": "768.0",
          "histogram": [
           {
            "bin_start": 0.078,
            "bin_end": 76.87020000000001,
            "count": 7
           },
           {
            "bin_start": 76.87020000000001,
            "bin_end": 153.66240000000002,
            "count": 0
           },
           {
            "bin_start": 153.66240000000002,
            "bin_end": 230.45460000000003,
            "count": 0
           },
           {
            "bin_start": 230.45460000000003,
            "bin_end": 307.2468,
            "count": 0
           },
           {
            "bin_start": 307.2468,
            "bin_end": 384.039,
            "count": 0
           },
           {
            "bin_start": 384.039,
            "bin_end": 460.8312,
            "count": 0
           },
           {
            "bin_start": 460.8312,
            "bin_end": 537.6234000000001,
            "count": 0
           },
           {
            "bin_start": 537.6234000000001,
            "bin_end": 614.4156,
            "count": 0
           },
           {
            "bin_start": 614.4156,
            "bin_end": 691.2078,
            "count": 0
           },
           {
            "bin_start": 691.2078,
            "bin_end": 768,
            "count": 1
           }
          ]
         }
        },
        {
         "name": "age",
         "dtype": "float64",
         "stats": {
          "unique_count": 8,
          "nan_count": 0,
          "min": "11.760231540678685",
          "max": "768.0",
          "histogram": [
           {
            "bin_start": 11.760231540678685,
            "bin_end": 87.38420838661082,
            "count": 7
           },
           {
            "bin_start": 87.38420838661082,
            "bin_end": 163.00818523254296,
            "count": 0
           },
           {
            "bin_start": 163.00818523254296,
            "bin_end": 238.6321620784751,
            "count": 0
           },
           {
            "bin_start": 238.6321620784751,
            "bin_end": 314.2561389244072,
            "count": 0
           },
           {
            "bin_start": 314.2561389244072,
            "bin_end": 389.88011577033933,
            "count": 0
           },
           {
            "bin_start": 389.88011577033933,
            "bin_end": 465.50409261627146,
            "count": 0
           },
           {
            "bin_start": 465.50409261627146,
            "bin_end": 541.1280694622036,
            "count": 0
           },
           {
            "bin_start": 541.1280694622036,
            "bin_end": 616.7520463081357,
            "count": 0
           },
           {
            "bin_start": 616.7520463081357,
            "bin_end": 692.3760231540679,
            "count": 0
           },
           {
            "bin_start": 692.3760231540679,
            "bin_end": 768,
            "count": 1
           }
          ]
         }
        },
        {
         "name": "class",
         "dtype": "float64",
         "stats": {
          "unique_count": 5,
          "nan_count": 0,
          "min": "0.0",
          "max": "768.0",
          "histogram": [
           {
            "bin_start": 0,
            "bin_end": 76.8,
            "count": 7
           },
           {
            "bin_start": 76.8,
            "bin_end": 153.6,
            "count": 0
           },
           {
            "bin_start": 153.6,
            "bin_end": 230.39999999999998,
            "count": 0
           },
           {
            "bin_start": 230.39999999999998,
            "bin_end": 307.2,
            "count": 0
           },
           {
            "bin_start": 307.2,
            "bin_end": 384,
            "count": 0
           },
           {
            "bin_start": 384,
            "bin_end": 460.79999999999995,
            "count": 0
           },
           {
            "bin_start": 460.79999999999995,
            "bin_end": 537.6,
            "count": 0
           },
           {
            "bin_start": 537.6,
            "bin_end": 614.4,
            "count": 0
           },
           {
            "bin_start": 614.4,
            "bin_end": 691.1999999999999,
            "count": 0
           },
           {
            "bin_start": 691.1999999999999,
            "bin_end": 768,
            "count": 1
           }
          ]
         }
        },
        {
         "name": "_deepnote_index_column",
         "dtype": "object"
        }
       ],
       "rows_top": [
        {
         "preg": 768,
         "plas": 768,
         "pres": 768,
         "skin": 768,
         "test": 768,
         "mass": 768,
         "pedi": 768,
         "age": 768,
         "class": 768,
         "_deepnote_index_column": "count"
        },
        {
         "preg": 3.8450520833333335,
         "plas": 120.89453125,
         "pres": 69.10546875,
         "skin": 20.536458333333332,
         "test": 79.79947916666667,
         "mass": 31.992578124999998,
         "pedi": 0.47187630208333325,
         "age": 33.240885416666664,
         "class": 0.3489583333333333,
         "_deepnote_index_column": "mean"
        },
        {
         "preg": 3.3695780626988694,
         "plas": 31.97261819513622,
         "pres": 19.355807170644777,
         "skin": 15.952217567727637,
         "test": 115.24400235133817,
         "mass": 7.884160320375446,
         "pedi": 0.3313285950127749,
         "age": 11.760231540678685,
         "class": 0.47695137724279896,
         "_deepnote_index_column": "std"
        },
        {
         "preg": 0,
         "plas": 0,
         "pres": 0,
         "skin": 0,
         "test": 0,
         "mass": 0,
         "pedi": 0.078,
         "age": 21,
         "class": 0,
         "_deepnote_index_column": "min"
        },
        {
         "preg": 1,
         "plas": 99,
         "pres": 62,
         "skin": 0,
         "test": 0,
         "mass": 27.3,
         "pedi": 0.24375,
         "age": 24,
         "class": 0,
         "_deepnote_index_column": "25%"
        },
        {
         "preg": 3,
         "plas": 117,
         "pres": 72,
         "skin": 23,
         "test": 30.5,
         "mass": 32,
         "pedi": 0.3725,
         "age": 29,
         "class": 0,
         "_deepnote_index_column": "50%"
        },
        {
         "preg": 6,
         "plas": 140.25,
         "pres": 80,
         "skin": 32,
         "test": 127.25,
         "mass": 36.6,
         "pedi": 0.62625,
         "age": 41,
         "class": 1,
         "_deepnote_index_column": "75%"
        },
        {
         "preg": 17,
         "plas": 199,
         "pres": 122,
         "skin": 99,
         "test": 846,
         "mass": 67.1,
         "pedi": 2.42,
         "age": 81,
         "class": 1,
         "_deepnote_index_column": "max"
        }
       ],
       "rows_bottom": null
      },
      "text/plain": "             preg        plas        pres        skin        test        mass  \\\ncount  768.000000  768.000000  768.000000  768.000000  768.000000  768.000000   \nmean     3.845052  120.894531   69.105469   20.536458   79.799479   31.992578   \nstd      3.369578   31.972618   19.355807   15.952218  115.244002    7.884160   \nmin      0.000000    0.000000    0.000000    0.000000    0.000000    0.000000   \n25%      1.000000   99.000000   62.000000    0.000000    0.000000   27.300000   \n50%      3.000000  117.000000   72.000000   23.000000   30.500000   32.000000   \n75%      6.000000  140.250000   80.000000   32.000000  127.250000   36.600000   \nmax     17.000000  199.000000  122.000000   99.000000  846.000000   67.100000   \n\n             pedi         age       class  \ncount  768.000000  768.000000  768.000000  \nmean     0.471876   33.240885    0.348958  \nstd      0.331329   11.760232    0.476951  \nmin      0.078000   21.000000    0.000000  \n25%      0.243750   24.000000    0.000000  \n50%      0.372500   29.000000    0.000000  \n75%      0.626250   41.000000    1.000000  \nmax      2.420000   81.000000    1.000000  ",
      "text/html": "<div>\n<style scoped>\n    .dataframe tbody tr th:only-of-type {\n        vertical-align: middle;\n    }\n\n    .dataframe tbody tr th {\n        vertical-align: top;\n    }\n\n    .dataframe thead th {\n        text-align: right;\n    }\n</style>\n<table border=\"1\" class=\"dataframe\">\n  <thead>\n    <tr style=\"text-align: right;\">\n      <th></th>\n      <th>preg</th>\n      <th>plas</th>\n      <th>pres</th>\n      <th>skin</th>\n      <th>test</th>\n      <th>mass</th>\n      <th>pedi</th>\n      <th>age</th>\n      <th>class</th>\n    </tr>\n  </thead>\n  <tbody>\n    <tr>\n      <th>count</th>\n      <td>768.000000</td>\n      <td>768.000000</td>\n      <td>768.000000</td>\n      <td>768.000000</td>\n      <td>768.000000</td>\n      <td>768.000000</td>\n      <td>768.000000</td>\n      <td>768.000000</td>\n      <td>768.000000</td>\n    </tr>\n    <tr>\n      <th>mean</th>\n      <td>3.845052</td>\n      <td>120.894531</td>\n      <td>69.105469</td>\n      <td>20.536458</td>\n      <td>79.799479</td>\n      <td>31.992578</td>\n      <td>0.471876</td>\n      <td>33.240885</td>\n      <td>0.348958</td>\n    </tr>\n    <tr>\n      <th>std</th>\n      <td>3.369578</td>\n      <td>31.972618</td>\n      <td>19.355807</td>\n      <td>15.952218</td>\n      <td>115.244002</td>\n      <td>7.884160</td>\n      <td>0.331329</td>\n      <td>11.760232</td>\n      <td>0.476951</td>\n    </tr>\n    <tr>\n      <th>min</th>\n      <td>0.000000</td>\n      <td>0.000000</td>\n      <td>0.000000</td>\n      <td>0.000000</td>\n      <td>0.000000</td>\n      <td>0.000000</td>\n      <td>0.078000</td>\n      <td>21.000000</td>\n      <td>0.000000</td>\n    </tr>\n    <tr>\n      <th>25%</th>\n      <td>1.000000</td>\n      <td>99.000000</td>\n      <td>62.000000</td>\n      <td>0.000000</td>\n      <td>0.000000</td>\n      <td>27.300000</td>\n      <td>0.243750</td>\n      <td>24.000000</td>\n      <td>0.000000</td>\n    </tr>\n    <tr>\n      <th>50%</th>\n      <td>3.000000</td>\n      <td>117.000000</td>\n      <td>72.000000</td>\n      <td>23.000000</td>\n      <td>30.500000</td>\n      <td>32.000000</td>\n      <td>0.372500</td>\n      <td>29.000000</td>\n      <td>0.000000</td>\n    </tr>\n    <tr>\n      <th>75%</th>\n      <td>6.000000</td>\n      <td>140.250000</td>\n      <td>80.000000</td>\n      <td>32.000000</td>\n      <td>127.250000</td>\n      <td>36.600000</td>\n      <td>0.626250</td>\n      <td>41.000000</td>\n      <td>1.000000</td>\n    </tr>\n    <tr>\n      <th>max</th>\n      <td>17.000000</td>\n      <td>199.000000</td>\n      <td>122.000000</td>\n      <td>99.000000</td>\n      <td>846.000000</td>\n      <td>67.100000</td>\n      <td>2.420000</td>\n      <td>81.000000</td>\n      <td>1.000000</td>\n    </tr>\n  </tbody>\n</table>\n</div>"
     },
     "metadata": {}
    }
   ],
   "execution_count": null
  },
  {
   "cell_type": "markdown",
   "source": "You can see from the 4th row showing minimum values that 'preg', 'plas', 'pres', 'skin', 'test', 'mass', and 'class' have 0s. On the other hand don't forget that for columns like number of pregnancies and class, a 0 is perfectly valid.\n\n_This is why it's important that you know what type of data you're handling!_\n\nTo summarize, the columns with invalid 0s (missing data) are:\n- plas\n- pres\n- skin\n- test\n- mass",
   "metadata": {
    "id": "TfCGh0HYVGLJ",
    "colab_type": "text",
    "cell_id": "00040-23d0ba97-42eb-42ee-9d6a-1b536acd7edd",
    "deepnote_cell_type": "markdown"
   }
  },
  {
   "cell_type": "markdown",
   "source": "## Replacing with a constant\n\nA lot of times when data is missing the cell is simply left blank or filled with NaNs or constant; in our case **_they have already been replaced with the constant 0_**. However as said before we want to keep the 0s in columns representing pregnancies and class so it'd be best to somehow differentiate these missing and valid values.\n\nNaN stands for \"Not a Number\" and is usually used for missing entries in a dataframe. Let's go ahead and replace the invalid 0s with NaNs.",
   "metadata": {
    "id": "SZdprkcbVGLJ",
    "colab_type": "text",
    "cell_id": "00041-df233831-0de1-4f1f-8d3a-3708faa5b7ba",
    "deepnote_cell_type": "markdown"
   }
  },
  {
   "cell_type": "code",
   "metadata": {
    "id": "lMcrdkWMVGLK",
    "colab_type": "code",
    "colab": {},
    "cell_id": "00042-c5818849-4921-447a-8160-55d88fda0159",
    "deepnote_to_be_reexecuted": false,
    "source_hash": "27f9af53",
    "execution_start": 1625522815110,
    "execution_millis": 61,
    "deepnote_cell_type": "code"
   },
   "source": "invalid = ['plas', 'pres', 'skin', 'test', 'mass']\n\nfor i in invalid:\n    data[i].replace(to_replace=0, value=np.nan, inplace=True)\n\ndata.head(15)",
   "outputs": [
    {
     "output_type": "execute_result",
     "execution_count": 22,
     "data": {
      "application/vnd.deepnote.dataframe.v2+json": {
       "row_count": 15,
       "column_count": 9,
       "columns": [
        {
         "name": "preg",
         "dtype": "int64",
         "stats": {
          "unique_count": 9,
          "nan_count": 0,
          "min": "0",
          "max": "10",
          "histogram": [
           {
            "bin_start": 0,
            "bin_end": 1,
            "count": 1
           },
           {
            "bin_start": 1,
            "bin_end": 2,
            "count": 3
           },
           {
            "bin_start": 2,
            "bin_end": 3,
            "count": 1
           },
           {
            "bin_start": 3,
            "bin_end": 4,
            "count": 1
           },
           {
            "bin_start": 4,
            "bin_end": 5,
            "count": 1
           },
           {
            "bin_start": 5,
            "bin_end": 6,
            "count": 2
           },
           {
            "bin_start": 6,
            "bin_end": 7,
            "count": 1
           },
           {
            "bin_start": 7,
            "bin_end": 8,
            "count": 0
           },
           {
            "bin_start": 8,
            "bin_end": 9,
            "count": 2
           },
           {
            "bin_start": 9,
            "bin_end": 10,
            "count": 3
           }
          ]
         }
        },
        {
         "name": "plas",
         "dtype": "float64",
         "stats": {
          "unique_count": 15,
          "nan_count": 0,
          "min": "78.0",
          "max": "197.0",
          "histogram": [
           {
            "bin_start": 78,
            "bin_end": 89.9,
            "count": 3
           },
           {
            "bin_start": 89.9,
            "bin_end": 101.8,
            "count": 0
           },
           {
            "bin_start": 101.8,
            "bin_end": 113.7,
            "count": 1
           },
           {
            "bin_start": 113.7,
            "bin_end": 125.6,
            "count": 3
           },
           {
            "bin_start": 125.6,
            "bin_end": 137.5,
            "count": 1
           },
           {
            "bin_start": 137.5,
            "bin_end": 149.4,
            "count": 2
           },
           {
            "bin_start": 149.4,
            "bin_end": 161.3,
            "count": 0
           },
           {
            "bin_start": 161.3,
            "bin_end": 173.2,
            "count": 2
           },
           {
            "bin_start": 173.2,
            "bin_end": 185.10000000000002,
            "count": 1
           },
           {
            "bin_start": 185.10000000000002,
            "bin_end": 197,
            "count": 2
           }
          ]
         }
        },
        {
         "name": "pres",
         "dtype": "float64",
         "stats": {
          "unique_count": 11,
          "nan_count": 1,
          "min": "40.0",
          "max": "96.0",
          "histogram": [
           {
            "bin_start": 40,
            "bin_end": 45.6,
            "count": 1
           },
           {
            "bin_start": 45.6,
            "bin_end": 51.2,
            "count": 1
           },
           {
            "bin_start": 51.2,
            "bin_end": 56.8,
            "count": 0
           },
           {
            "bin_start": 56.8,
            "bin_end": 62.4,
            "count": 1
           },
           {
            "bin_start": 62.4,
            "bin_end": 68,
            "count": 3
           },
           {
            "bin_start": 68,
            "bin_end": 73.6,
            "count": 3
           },
           {
            "bin_start": 73.6,
            "bin_end": 79.19999999999999,
            "count": 2
           },
           {
            "bin_start": 79.19999999999999,
            "bin_end": 84.8,
            "count": 1
           },
           {
            "bin_start": 84.8,
            "bin_end": 90.4,
            "count": 0
           },
           {
            "bin_start": 90.4,
            "bin_end": 96,
            "count": 2
           }
          ]
         }
        },
        {
         "name": "skin",
         "dtype": "float64",
         "stats": {
          "unique_count": 6,
          "nan_count": 7,
          "min": "19.0",
          "max": "45.0",
          "histogram": [
           {
            "bin_start": 19,
            "bin_end": 21.6,
            "count": 1
           },
           {
            "bin_start": 21.6,
            "bin_end": 24.2,
            "count": 2
           },
           {
            "bin_start": 24.2,
            "bin_end": 26.8,
            "count": 0
           },
           {
            "bin_start": 26.8,
            "bin_end": 29.4,
            "count": 1
           },
           {
            "bin_start": 29.4,
            "bin_end": 32,
            "count": 0
           },
           {
            "bin_start": 32,
            "bin_end": 34.6,
            "count": 1
           },
           {
            "bin_start": 34.6,
            "bin_end": 37.2,
            "count": 2
           },
           {
            "bin_start": 37.2,
            "bin_end": 39.8,
            "count": 0
           },
           {
            "bin_start": 39.8,
            "bin_end": 42.400000000000006,
            "count": 0
           },
           {
            "bin_start": 42.400000000000006,
            "bin_end": 45,
            "count": 1
           }
          ]
         }
        },
        {
         "name": "test",
         "dtype": "float64",
         "stats": {
          "unique_count": 6,
          "nan_count": 9,
          "min": "88.0",
          "max": "846.0",
          "histogram": [
           {
            "bin_start": 88,
            "bin_end": 163.8,
            "count": 2
           },
           {
            "bin_start": 163.8,
            "bin_end": 239.6,
            "count": 2
           },
           {
            "bin_start": 239.6,
            "bin_end": 315.4,
            "count": 0
           },
           {
            "bin_start": 315.4,
            "bin_end": 391.2,
            "count": 0
           },
           {
            "bin_start": 391.2,
            "bin_end": 467,
            "count": 0
           },
           {
            "bin_start": 467,
            "bin_end": 542.8,
            "count": 0
           },
           {
            "bin_start": 542.8,
            "bin_end": 618.6,
            "count": 1
           },
           {
            "bin_start": 618.6,
            "bin_end": 694.4,
            "count": 0
           },
           {
            "bin_start": 694.4,
            "bin_end": 770.1999999999999,
            "count": 0
           },
           {
            "bin_start": 770.1999999999999,
            "bin_end": 846,
            "count": 1
           }
          ]
         }
        },
        {
         "name": "mass",
         "dtype": "float64",
         "stats": {
          "unique_count": 14,
          "nan_count": 1,
          "min": "23.3",
          "max": "43.1",
          "histogram": [
           {
            "bin_start": 23.3,
            "bin_end": 25.28,
            "count": 1
           },
           {
            "bin_start": 25.28,
            "bin_end": 27.26,
            "count": 4
           },
           {
            "bin_start": 27.26,
            "bin_end": 29.240000000000002,
            "count": 1
           },
           {
            "bin_start": 29.240000000000002,
            "bin_end": 31.22,
            "count": 3
           },
           {
            "bin_start": 31.22,
            "bin_end": 33.2,
            "count": 0
           },
           {
            "bin_start": 33.2,
            "bin_end": 35.18,
            "count": 1
           },
           {
            "bin_start": 35.18,
            "bin_end": 37.16,
            "count": 1
           },
           {
            "bin_start": 37.16,
            "bin_end": 39.14,
            "count": 2
           },
           {
            "bin_start": 39.14,
            "bin_end": 41.120000000000005,
            "count": 0
           },
           {
            "bin_start": 41.120000000000005,
            "bin_end": 43.1,
            "count": 1
           }
          ]
         }
        },
        {
         "name": "pedi",
         "dtype": "float64",
         "stats": {
          "unique_count": 15,
          "nan_count": 0,
          "min": "0.134",
          "max": "2.288",
          "histogram": [
           {
            "bin_start": 0.134,
            "bin_end": 0.3494,
            "count": 7
           },
           {
            "bin_start": 0.3494,
            "bin_end": 0.5648,
            "count": 3
           },
           {
            "bin_start": 0.5648,
            "bin_end": 0.7801999999999999,
            "count": 3
           },
           {
            "bin_start": 0.7801999999999999,
            "bin_end": 0.9955999999999999,
            "count": 0
           },
           {
            "bin_start": 0.9955999999999999,
            "bin_end": 1.2109999999999999,
            "count": 0
           },
           {
            "bin_start": 1.2109999999999999,
            "bin_end": 1.4263999999999997,
            "count": 0
           },
           {
            "bin_start": 1.4263999999999997,
            "bin_end": 1.6418,
            "count": 1
           },
           {
            "bin_start": 1.6418,
            "bin_end": 1.8571999999999997,
            "count": 0
           },
           {
            "bin_start": 1.8571999999999997,
            "bin_end": 2.0726,
            "count": 0
           },
           {
            "bin_start": 2.0726,
            "bin_end": 2.288,
            "count": 1
           }
          ]
         }
        },
        {
         "name": "age",
         "dtype": "int64",
         "stats": {
          "unique_count": 14,
          "nan_count": 0,
          "min": "21",
          "max": "59",
          "histogram": [
           {
            "bin_start": 21,
            "bin_end": 24.8,
            "count": 1
           },
           {
            "bin_start": 24.8,
            "bin_end": 28.6,
            "count": 1
           },
           {
            "bin_start": 28.6,
            "bin_end": 32.4,
            "count": 5
           },
           {
            "bin_start": 32.4,
            "bin_end": 36.2,
            "count": 2
           },
           {
            "bin_start": 36.2,
            "bin_end": 40,
            "count": 0
           },
           {
            "bin_start": 40,
            "bin_end": 43.8,
            "count": 0
           },
           {
            "bin_start": 43.8,
            "bin_end": 47.599999999999994,
            "count": 0
           },
           {
            "bin_start": 47.599999999999994,
            "bin_end": 51.4,
            "count": 2
           },
           {
            "bin_start": 51.4,
            "bin_end": 55.199999999999996,
            "count": 2
           },
           {
            "bin_start": 55.199999999999996,
            "bin_end": 59,
            "count": 2
           }
          ]
         }
        },
        {
         "name": "class",
         "dtype": "int64",
         "stats": {
          "unique_count": 2,
          "nan_count": 0,
          "min": "0",
          "max": "1",
          "histogram": [
           {
            "bin_start": 0,
            "bin_end": 0.1,
            "count": 6
           },
           {
            "bin_start": 0.1,
            "bin_end": 0.2,
            "count": 0
           },
           {
            "bin_start": 0.2,
            "bin_end": 0.30000000000000004,
            "count": 0
           },
           {
            "bin_start": 0.30000000000000004,
            "bin_end": 0.4,
            "count": 0
           },
           {
            "bin_start": 0.4,
            "bin_end": 0.5,
            "count": 0
           },
           {
            "bin_start": 0.5,
            "bin_end": 0.6000000000000001,
            "count": 0
           },
           {
            "bin_start": 0.6000000000000001,
            "bin_end": 0.7000000000000001,
            "count": 0
           },
           {
            "bin_start": 0.7000000000000001,
            "bin_end": 0.8,
            "count": 0
           },
           {
            "bin_start": 0.8,
            "bin_end": 0.9,
            "count": 0
           },
           {
            "bin_start": 0.9,
            "bin_end": 1,
            "count": 9
           }
          ]
         }
        },
        {
         "name": "_deepnote_index_column",
         "dtype": "int64"
        }
       ],
       "rows_top": [
        {
         "preg": 6,
         "plas": 148,
         "pres": 72,
         "skin": 35,
         "test": "nan",
         "mass": 33.6,
         "pedi": 0.627,
         "age": 50,
         "class": 1,
         "_deepnote_index_column": 0
        },
        {
         "preg": 1,
         "plas": 85,
         "pres": 66,
         "skin": 29,
         "test": "nan",
         "mass": 26.6,
         "pedi": 0.351,
         "age": 31,
         "class": 0,
         "_deepnote_index_column": 1
        },
        {
         "preg": 8,
         "plas": 183,
         "pres": 64,
         "skin": "nan",
         "test": "nan",
         "mass": 23.3,
         "pedi": 0.672,
         "age": 32,
         "class": 1,
         "_deepnote_index_column": 2
        },
        {
         "preg": 1,
         "plas": 89,
         "pres": 66,
         "skin": 23,
         "test": 94,
         "mass": 28.1,
         "pedi": 0.167,
         "age": 21,
         "class": 0,
         "_deepnote_index_column": 3
        },
        {
         "preg": 0,
         "plas": 137,
         "pres": 40,
         "skin": 35,
         "test": 168,
         "mass": 43.1,
         "pedi": 2.288,
         "age": 33,
         "class": 1,
         "_deepnote_index_column": 4
        },
        {
         "preg": 5,
         "plas": 116,
         "pres": 74,
         "skin": "nan",
         "test": "nan",
         "mass": 25.6,
         "pedi": 0.201,
         "age": 30,
         "class": 0,
         "_deepnote_index_column": 5
        },
        {
         "preg": 3,
         "plas": 78,
         "pres": 50,
         "skin": 32,
         "test": 88,
         "mass": 31,
         "pedi": 0.248,
         "age": 26,
         "class": 1,
         "_deepnote_index_column": 6
        },
        {
         "preg": 10,
         "plas": 115,
         "pres": "nan",
         "skin": "nan",
         "test": "nan",
         "mass": 35.3,
         "pedi": 0.134,
         "age": 29,
         "class": 0,
         "_deepnote_index_column": 7
        },
        {
         "preg": 2,
         "plas": 197,
         "pres": 70,
         "skin": 45,
         "test": 543,
         "mass": 30.5,
         "pedi": 0.158,
         "age": 53,
         "class": 1,
         "_deepnote_index_column": 8
        },
        {
         "preg": 8,
         "plas": 125,
         "pres": 96,
         "skin": "nan",
         "test": "nan",
         "mass": "nan",
         "pedi": 0.232,
         "age": 54,
         "class": 1,
         "_deepnote_index_column": 9
        },
        {
         "preg": 4,
         "plas": 110,
         "pres": 92,
         "skin": "nan",
         "test": "nan",
         "mass": 37.6,
         "pedi": 0.191,
         "age": 30,
         "class": 0,
         "_deepnote_index_column": 10
        },
        {
         "preg": 10,
         "plas": 168,
         "pres": 74,
         "skin": "nan",
         "test": "nan",
         "mass": 38,
         "pedi": 0.537,
         "age": 34,
         "class": 1,
         "_deepnote_index_column": 11
        },
        {
         "preg": 10,
         "plas": 139,
         "pres": 80,
         "skin": "nan",
         "test": "nan",
         "mass": 27.1,
         "pedi": 1.441,
         "age": 57,
         "class": 0,
         "_deepnote_index_column": 12
        },
        {
         "preg": 1,
         "plas": 189,
         "pres": 60,
         "skin": 23,
         "test": 846,
         "mass": 30.1,
         "pedi": 0.398,
         "age": 59,
         "class": 1,
         "_deepnote_index_column": 13
        },
        {
         "preg": 5,
         "plas": 166,
         "pres": 72,
         "skin": 19,
         "test": 175,
         "mass": 25.8,
         "pedi": 0.587,
         "age": 51,
         "class": 1,
         "_deepnote_index_column": 14
        }
       ],
       "rows_bottom": null
      },
      "text/plain": "    preg   plas  pres  skin   test  mass   pedi  age  class\n0      6  148.0  72.0  35.0    NaN  33.6  0.627   50      1\n1      1   85.0  66.0  29.0    NaN  26.6  0.351   31      0\n2      8  183.0  64.0   NaN    NaN  23.3  0.672   32      1\n3      1   89.0  66.0  23.0   94.0  28.1  0.167   21      0\n4      0  137.0  40.0  35.0  168.0  43.1  2.288   33      1\n5      5  116.0  74.0   NaN    NaN  25.6  0.201   30      0\n6      3   78.0  50.0  32.0   88.0  31.0  0.248   26      1\n7     10  115.0   NaN   NaN    NaN  35.3  0.134   29      0\n8      2  197.0  70.0  45.0  543.0  30.5  0.158   53      1\n9      8  125.0  96.0   NaN    NaN   NaN  0.232   54      1\n10     4  110.0  92.0   NaN    NaN  37.6  0.191   30      0\n11    10  168.0  74.0   NaN    NaN  38.0  0.537   34      1\n12    10  139.0  80.0   NaN    NaN  27.1  1.441   57      0\n13     1  189.0  60.0  23.0  846.0  30.1  0.398   59      1\n14     5  166.0  72.0  19.0  175.0  25.8  0.587   51      1",
      "text/html": "<div>\n<style scoped>\n    .dataframe tbody tr th:only-of-type {\n        vertical-align: middle;\n    }\n\n    .dataframe tbody tr th {\n        vertical-align: top;\n    }\n\n    .dataframe thead th {\n        text-align: right;\n    }\n</style>\n<table border=\"1\" class=\"dataframe\">\n  <thead>\n    <tr style=\"text-align: right;\">\n      <th></th>\n      <th>preg</th>\n      <th>plas</th>\n      <th>pres</th>\n      <th>skin</th>\n      <th>test</th>\n      <th>mass</th>\n      <th>pedi</th>\n      <th>age</th>\n      <th>class</th>\n    </tr>\n  </thead>\n  <tbody>\n    <tr>\n      <th>0</th>\n      <td>6</td>\n      <td>148.0</td>\n      <td>72.0</td>\n      <td>35.0</td>\n      <td>NaN</td>\n      <td>33.6</td>\n      <td>0.627</td>\n      <td>50</td>\n      <td>1</td>\n    </tr>\n    <tr>\n      <th>1</th>\n      <td>1</td>\n      <td>85.0</td>\n      <td>66.0</td>\n      <td>29.0</td>\n      <td>NaN</td>\n      <td>26.6</td>\n      <td>0.351</td>\n      <td>31</td>\n      <td>0</td>\n    </tr>\n    <tr>\n      <th>2</th>\n      <td>8</td>\n      <td>183.0</td>\n      <td>64.0</td>\n      <td>NaN</td>\n      <td>NaN</td>\n      <td>23.3</td>\n      <td>0.672</td>\n      <td>32</td>\n      <td>1</td>\n    </tr>\n    <tr>\n      <th>3</th>\n      <td>1</td>\n      <td>89.0</td>\n      <td>66.0</td>\n      <td>23.0</td>\n      <td>94.0</td>\n      <td>28.1</td>\n      <td>0.167</td>\n      <td>21</td>\n      <td>0</td>\n    </tr>\n    <tr>\n      <th>4</th>\n      <td>0</td>\n      <td>137.0</td>\n      <td>40.0</td>\n      <td>35.0</td>\n      <td>168.0</td>\n      <td>43.1</td>\n      <td>2.288</td>\n      <td>33</td>\n      <td>1</td>\n    </tr>\n    <tr>\n      <th>5</th>\n      <td>5</td>\n      <td>116.0</td>\n      <td>74.0</td>\n      <td>NaN</td>\n      <td>NaN</td>\n      <td>25.6</td>\n      <td>0.201</td>\n      <td>30</td>\n      <td>0</td>\n    </tr>\n    <tr>\n      <th>6</th>\n      <td>3</td>\n      <td>78.0</td>\n      <td>50.0</td>\n      <td>32.0</td>\n      <td>88.0</td>\n      <td>31.0</td>\n      <td>0.248</td>\n      <td>26</td>\n      <td>1</td>\n    </tr>\n    <tr>\n      <th>7</th>\n      <td>10</td>\n      <td>115.0</td>\n      <td>NaN</td>\n      <td>NaN</td>\n      <td>NaN</td>\n      <td>35.3</td>\n      <td>0.134</td>\n      <td>29</td>\n      <td>0</td>\n    </tr>\n    <tr>\n      <th>8</th>\n      <td>2</td>\n      <td>197.0</td>\n      <td>70.0</td>\n      <td>45.0</td>\n      <td>543.0</td>\n      <td>30.5</td>\n      <td>0.158</td>\n      <td>53</td>\n      <td>1</td>\n    </tr>\n    <tr>\n      <th>9</th>\n      <td>8</td>\n      <td>125.0</td>\n      <td>96.0</td>\n      <td>NaN</td>\n      <td>NaN</td>\n      <td>NaN</td>\n      <td>0.232</td>\n      <td>54</td>\n      <td>1</td>\n    </tr>\n    <tr>\n      <th>10</th>\n      <td>4</td>\n      <td>110.0</td>\n      <td>92.0</td>\n      <td>NaN</td>\n      <td>NaN</td>\n      <td>37.6</td>\n      <td>0.191</td>\n      <td>30</td>\n      <td>0</td>\n    </tr>\n    <tr>\n      <th>11</th>\n      <td>10</td>\n      <td>168.0</td>\n      <td>74.0</td>\n      <td>NaN</td>\n      <td>NaN</td>\n      <td>38.0</td>\n      <td>0.537</td>\n      <td>34</td>\n      <td>1</td>\n    </tr>\n    <tr>\n      <th>12</th>\n      <td>10</td>\n      <td>139.0</td>\n      <td>80.0</td>\n      <td>NaN</td>\n      <td>NaN</td>\n      <td>27.1</td>\n      <td>1.441</td>\n      <td>57</td>\n      <td>0</td>\n    </tr>\n    <tr>\n      <th>13</th>\n      <td>1</td>\n      <td>189.0</td>\n      <td>60.0</td>\n      <td>23.0</td>\n      <td>846.0</td>\n      <td>30.1</td>\n      <td>0.398</td>\n      <td>59</td>\n      <td>1</td>\n    </tr>\n    <tr>\n      <th>14</th>\n      <td>5</td>\n      <td>166.0</td>\n      <td>72.0</td>\n      <td>19.0</td>\n      <td>175.0</td>\n      <td>25.8</td>\n      <td>0.587</td>\n      <td>51</td>\n      <td>1</td>\n    </tr>\n  </tbody>\n</table>\n</div>"
     },
     "metadata": {}
    }
   ],
   "execution_count": null
  },
  {
   "cell_type": "markdown",
   "source": "**Pros**\n- easiest and quickest way to deal with missing values\n\n\n**Cons**\n- can introduce bias and skew data",
   "metadata": {
    "id": "52a4Mb97VGLN",
    "colab_type": "text",
    "cell_id": "00043-a63a41fb-7d51-467d-a015-c881ea942c12",
    "deepnote_cell_type": "markdown"
   }
  },
  {
   "cell_type": "markdown",
   "source": "## Dropping rows\n\nOne of the next easiest ways to deal with NaNs is simply deleting rows with missing information. Luckily, pandas already has a beautiful function just for that purpose.",
   "metadata": {
    "id": "O2OaKwGVVGLN",
    "colab_type": "text",
    "cell_id": "00044-999f8e3b-e433-47ec-ab1d-79ec55ad0404",
    "deepnote_cell_type": "markdown"
   }
  },
  {
   "cell_type": "code",
   "metadata": {
    "id": "OnH-d1TzVGLO",
    "colab_type": "code",
    "colab": {},
    "cell_id": "00045-826b4cd2-7f71-4359-896f-29edc6c3f4c6",
    "deepnote_to_be_reexecuted": false,
    "source_hash": "f331e5c",
    "execution_start": 1625522817375,
    "execution_millis": 73,
    "deepnote_cell_type": "code"
   },
   "source": "data_row = data.dropna(axis=0).reset_index(drop=True) # axis: 0=row, 1=column\n\ndata_row.head(15)",
   "outputs": [
    {
     "output_type": "execute_result",
     "execution_count": 23,
     "data": {
      "application/vnd.deepnote.dataframe.v2+json": {
       "row_count": 15,
       "column_count": 9,
       "columns": [
        {
         "name": "preg",
         "dtype": "int64",
         "stats": {
          "unique_count": 8,
          "nan_count": 0,
          "min": "0",
          "max": "13",
          "histogram": [
           {
            "bin_start": 0,
            "bin_end": 1.3,
            "count": 7
           },
           {
            "bin_start": 1.3,
            "bin_end": 2.6,
            "count": 1
           },
           {
            "bin_start": 2.6,
            "bin_end": 3.9000000000000004,
            "count": 3
           },
           {
            "bin_start": 3.9000000000000004,
            "bin_end": 5.2,
            "count": 1
           },
           {
            "bin_start": 5.2,
            "bin_end": 6.5,
            "count": 0
           },
           {
            "bin_start": 6.5,
            "bin_end": 7.800000000000001,
            "count": 0
           },
           {
            "bin_start": 7.800000000000001,
            "bin_end": 9.1,
            "count": 0
           },
           {
            "bin_start": 9.1,
            "bin_end": 10.4,
            "count": 1
           },
           {
            "bin_start": 10.4,
            "bin_end": 11.700000000000001,
            "count": 1
           },
           {
            "bin_start": 11.700000000000001,
            "bin_end": 13,
            "count": 1
           }
          ]
         }
        },
        {
         "name": "plas",
         "dtype": "float64",
         "stats": {
          "unique_count": 15,
          "nan_count": 0,
          "min": "78.0",
          "max": "197.0",
          "histogram": [
           {
            "bin_start": 78,
            "bin_end": 89.9,
            "count": 2
           },
           {
            "bin_start": 89.9,
            "bin_end": 101.8,
            "count": 1
           },
           {
            "bin_start": 101.8,
            "bin_end": 113.7,
            "count": 1
           },
           {
            "bin_start": 113.7,
            "bin_end": 125.6,
            "count": 3
           },
           {
            "bin_start": 125.6,
            "bin_end": 137.5,
            "count": 2
           },
           {
            "bin_start": 137.5,
            "bin_end": 149.4,
            "count": 2
           },
           {
            "bin_start": 149.4,
            "bin_end": 161.3,
            "count": 1
           },
           {
            "bin_start": 161.3,
            "bin_end": 173.2,
            "count": 1
           },
           {
            "bin_start": 173.2,
            "bin_end": 185.10000000000002,
            "count": 0
           },
           {
            "bin_start": 185.10000000000002,
            "bin_end": 197,
            "count": 2
           }
          ]
         }
        },
        {
         "name": "pres",
         "dtype": "float64",
         "stats": {
          "unique_count": 12,
          "nan_count": 0,
          "min": "30.0",
          "max": "94.0",
          "histogram": [
           {
            "bin_start": 30,
            "bin_end": 36.4,
            "count": 1
           },
           {
            "bin_start": 36.4,
            "bin_end": 42.8,
            "count": 1
           },
           {
            "bin_start": 42.8,
            "bin_end": 49.2,
            "count": 0
           },
           {
            "bin_start": 49.2,
            "bin_end": 55.6,
            "count": 1
           },
           {
            "bin_start": 55.6,
            "bin_end": 62,
            "count": 1
           },
           {
            "bin_start": 62,
            "bin_end": 68.4,
            "count": 2
           },
           {
            "bin_start": 68.4,
            "bin_end": 74.80000000000001,
            "count": 4
           },
           {
            "bin_start": 74.80000000000001,
            "bin_end": 81.2,
            "count": 1
           },
           {
            "bin_start": 81.2,
            "bin_end": 87.6,
            "count": 2
           },
           {
            "bin_start": 87.6,
            "bin_end": 94,
            "count": 2
           }
          ]
         }
        },
        {
         "name": "skin",
         "dtype": "float64",
         "stats": {
          "unique_count": 13,
          "nan_count": 0,
          "min": "15.0",
          "max": "47.0",
          "histogram": [
           {
            "bin_start": 15,
            "bin_end": 18.2,
            "count": 1
           },
           {
            "bin_start": 18.2,
            "bin_end": 21.4,
            "count": 2
           },
           {
            "bin_start": 21.4,
            "bin_end": 24.6,
            "count": 2
           },
           {
            "bin_start": 24.6,
            "bin_end": 27.8,
            "count": 1
           },
           {
            "bin_start": 27.8,
            "bin_end": 31,
            "count": 1
           },
           {
            "bin_start": 31,
            "bin_end": 34.2,
            "count": 2
           },
           {
            "bin_start": 34.2,
            "bin_end": 37.400000000000006,
            "count": 2
           },
           {
            "bin_start": 37.400000000000006,
            "bin_end": 40.6,
            "count": 1
           },
           {
            "bin_start": 40.6,
            "bin_end": 43.8,
            "count": 1
           },
           {
            "bin_start": 43.8,
            "bin_end": 47,
            "count": 2
           }
          ]
         }
        },
        {
         "name": "test",
         "dtype": "float64",
         "stats": {
          "unique_count": 15,
          "nan_count": 0,
          "min": "83.0",
          "max": "846.0",
          "histogram": [
           {
            "bin_start": 83,
            "bin_end": 159.3,
            "count": 8
           },
           {
            "bin_start": 159.3,
            "bin_end": 235.6,
            "count": 4
           },
           {
            "bin_start": 235.6,
            "bin_end": 311.9,
            "count": 1
           },
           {
            "bin_start": 311.9,
            "bin_end": 388.2,
            "count": 0
           },
           {
            "bin_start": 388.2,
            "bin_end": 464.5,
            "count": 0
           },
           {
            "bin_start": 464.5,
            "bin_end": 540.8,
            "count": 0
           },
           {
            "bin_start": 540.8,
            "bin_end": 617.1,
            "count": 1
           },
           {
            "bin_start": 617.1,
            "bin_end": 693.4,
            "count": 0
           },
           {
            "bin_start": 693.4,
            "bin_end": 769.6999999999999,
            "count": 0
           },
           {
            "bin_start": 769.6999999999999,
            "bin_end": 846,
            "count": 1
           }
          ]
         }
        },
        {
         "name": "mass",
         "dtype": "float64",
         "stats": {
          "unique_count": 15,
          "nan_count": 0,
          "min": "22.2",
          "max": "45.8",
          "histogram": [
           {
            "bin_start": 22.2,
            "bin_end": 24.56,
            "count": 2
           },
           {
            "bin_start": 24.56,
            "bin_end": 26.919999999999998,
            "count": 1
           },
           {
            "bin_start": 26.919999999999998,
            "bin_end": 29.28,
            "count": 1
           },
           {
            "bin_start": 29.28,
            "bin_end": 31.64,
            "count": 5
           },
           {
            "bin_start": 31.64,
            "bin_end": 34,
            "count": 0
           },
           {
            "bin_start": 34,
            "bin_end": 36.36,
            "count": 1
           },
           {
            "bin_start": 36.36,
            "bin_end": 38.72,
            "count": 1
           },
           {
            "bin_start": 38.72,
            "bin_end": 41.08,
            "count": 1
           },
           {
            "bin_start": 41.08,
            "bin_end": 43.44,
            "count": 2
           },
           {
            "bin_start": 43.44,
            "bin_end": 45.8,
            "count": 1
           }
          ]
         }
        },
        {
         "name": "pedi",
         "dtype": "float64",
         "stats": {
          "unique_count": 15,
          "nan_count": 0,
          "min": "0.158",
          "max": "2.288",
          "histogram": [
           {
            "bin_start": 0.158,
            "bin_end": 0.371,
            "count": 7
           },
           {
            "bin_start": 0.371,
            "bin_end": 0.584,
            "count": 4
           },
           {
            "bin_start": 0.584,
            "bin_end": 0.797,
            "count": 2
           },
           {
            "bin_start": 0.797,
            "bin_end": 1.01,
            "count": 1
           },
           {
            "bin_start": 1.01,
            "bin_end": 1.2229999999999999,
            "count": 0
           },
           {
            "bin_start": 1.2229999999999999,
            "bin_end": 1.436,
            "count": 0
           },
           {
            "bin_start": 1.436,
            "bin_end": 1.6489999999999998,
            "count": 0
           },
           {
            "bin_start": 1.6489999999999998,
            "bin_end": 1.8619999999999999,
            "count": 0
           },
           {
            "bin_start": 1.8619999999999999,
            "bin_end": 2.075,
            "count": 0
           },
           {
            "bin_start": 2.075,
            "bin_end": 2.288,
            "count": 1
           }
          ]
         }
        },
        {
         "name": "age",
         "dtype": "int64",
         "stats": {
          "unique_count": 13,
          "nan_count": 0,
          "min": "21",
          "max": "59",
          "histogram": [
           {
            "bin_start": 21,
            "bin_end": 24.8,
            "count": 2
           },
           {
            "bin_start": 24.8,
            "bin_end": 28.6,
            "count": 3
           },
           {
            "bin_start": 28.6,
            "bin_end": 32.4,
            "count": 2
           },
           {
            "bin_start": 32.4,
            "bin_end": 36.2,
            "count": 2
           },
           {
            "bin_start": 36.2,
            "bin_end": 40,
            "count": 0
           },
           {
            "bin_start": 40,
            "bin_end": 43.8,
            "count": 1
           },
           {
            "bin_start": 43.8,
            "bin_end": 47.599999999999994,
            "count": 0
           },
           {
            "bin_start": 47.599999999999994,
            "bin_end": 51.4,
            "count": 2
           },
           {
            "bin_start": 51.4,
            "bin_end": 55.199999999999996,
            "count": 1
           },
           {
            "bin_start": 55.199999999999996,
            "bin_end": 59,
            "count": 2
           }
          ]
         }
        },
        {
         "name": "class",
         "dtype": "int64",
         "stats": {
          "unique_count": 2,
          "nan_count": 0,
          "min": "0",
          "max": "1",
          "histogram": [
           {
            "bin_start": 0,
            "bin_end": 0.1,
            "count": 5
           },
           {
            "bin_start": 0.1,
            "bin_end": 0.2,
            "count": 0
           },
           {
            "bin_start": 0.2,
            "bin_end": 0.30000000000000004,
            "count": 0
           },
           {
            "bin_start": 0.30000000000000004,
            "bin_end": 0.4,
            "count": 0
           },
           {
            "bin_start": 0.4,
            "bin_end": 0.5,
            "count": 0
           },
           {
            "bin_start": 0.5,
            "bin_end": 0.6000000000000001,
            "count": 0
           },
           {
            "bin_start": 0.6000000000000001,
            "bin_end": 0.7000000000000001,
            "count": 0
           },
           {
            "bin_start": 0.7000000000000001,
            "bin_end": 0.8,
            "count": 0
           },
           {
            "bin_start": 0.8,
            "bin_end": 0.9,
            "count": 0
           },
           {
            "bin_start": 0.9,
            "bin_end": 1,
            "count": 10
           }
          ]
         }
        },
        {
         "name": "_deepnote_index_column",
         "dtype": "int64"
        }
       ],
       "rows_top": [
        {
         "preg": 1,
         "plas": 89,
         "pres": 66,
         "skin": 23,
         "test": 94,
         "mass": 28.1,
         "pedi": 0.167,
         "age": 21,
         "class": 0,
         "_deepnote_index_column": 0
        },
        {
         "preg": 0,
         "plas": 137,
         "pres": 40,
         "skin": 35,
         "test": 168,
         "mass": 43.1,
         "pedi": 2.288,
         "age": 33,
         "class": 1,
         "_deepnote_index_column": 1
        },
        {
         "preg": 3,
         "plas": 78,
         "pres": 50,
         "skin": 32,
         "test": 88,
         "mass": 31,
         "pedi": 0.248,
         "age": 26,
         "class": 1,
         "_deepnote_index_column": 2
        },
        {
         "preg": 2,
         "plas": 197,
         "pres": 70,
         "skin": 45,
         "test": 543,
         "mass": 30.5,
         "pedi": 0.158,
         "age": 53,
         "class": 1,
         "_deepnote_index_column": 3
        },
        {
         "preg": 1,
         "plas": 189,
         "pres": 60,
         "skin": 23,
         "test": 846,
         "mass": 30.1,
         "pedi": 0.398,
         "age": 59,
         "class": 1,
         "_deepnote_index_column": 4
        },
        {
         "preg": 5,
         "plas": 166,
         "pres": 72,
         "skin": 19,
         "test": 175,
         "mass": 25.8,
         "pedi": 0.587,
         "age": 51,
         "class": 1,
         "_deepnote_index_column": 5
        },
        {
         "preg": 0,
         "plas": 118,
         "pres": 84,
         "skin": 47,
         "test": 230,
         "mass": 45.8,
         "pedi": 0.551,
         "age": 31,
         "class": 1,
         "_deepnote_index_column": 6
        },
        {
         "preg": 1,
         "plas": 103,
         "pres": 30,
         "skin": 38,
         "test": 83,
         "mass": 43.3,
         "pedi": 0.183,
         "age": 33,
         "class": 0,
         "_deepnote_index_column": 7
        },
        {
         "preg": 1,
         "plas": 115,
         "pres": 70,
         "skin": 30,
         "test": 96,
         "mass": 34.6,
         "pedi": 0.529,
         "age": 32,
         "class": 1,
         "_deepnote_index_column": 8
        },
        {
         "preg": 3,
         "plas": 126,
         "pres": 88,
         "skin": 41,
         "test": 235,
         "mass": 39.3,
         "pedi": 0.704,
         "age": 27,
         "class": 0,
         "_deepnote_index_column": 9
        },
        {
         "preg": 11,
         "plas": 143,
         "pres": 94,
         "skin": 33,
         "test": 146,
         "mass": 36.6,
         "pedi": 0.254,
         "age": 51,
         "class": 1,
         "_deepnote_index_column": 10
        },
        {
         "preg": 10,
         "plas": 125,
         "pres": 70,
         "skin": 26,
         "test": 115,
         "mass": 31.1,
         "pedi": 0.205,
         "age": 41,
         "class": 1,
         "_deepnote_index_column": 11
        },
        {
         "preg": 1,
         "plas": 97,
         "pres": 66,
         "skin": 15,
         "test": 140,
         "mass": 23.2,
         "pedi": 0.487,
         "age": 22,
         "class": 0,
         "_deepnote_index_column": 12
        },
        {
         "preg": 13,
         "plas": 145,
         "pres": 82,
         "skin": 19,
         "test": 110,
         "mass": 22.2,
         "pedi": 0.245,
         "age": 57,
         "class": 0,
         "_deepnote_index_column": 13
        },
        {
         "preg": 3,
         "plas": 158,
         "pres": 76,
         "skin": 36,
         "test": 245,
         "mass": 31.6,
         "pedi": 0.851,
         "age": 28,
         "class": 1,
         "_deepnote_index_column": 14
        }
       ],
       "rows_bottom": null
      },
      "text/plain": "    preg   plas  pres  skin   test  mass   pedi  age  class\n0      1   89.0  66.0  23.0   94.0  28.1  0.167   21      0\n1      0  137.0  40.0  35.0  168.0  43.1  2.288   33      1\n2      3   78.0  50.0  32.0   88.0  31.0  0.248   26      1\n3      2  197.0  70.0  45.0  543.0  30.5  0.158   53      1\n4      1  189.0  60.0  23.0  846.0  30.1  0.398   59      1\n5      5  166.0  72.0  19.0  175.0  25.8  0.587   51      1\n6      0  118.0  84.0  47.0  230.0  45.8  0.551   31      1\n7      1  103.0  30.0  38.0   83.0  43.3  0.183   33      0\n8      1  115.0  70.0  30.0   96.0  34.6  0.529   32      1\n9      3  126.0  88.0  41.0  235.0  39.3  0.704   27      0\n10    11  143.0  94.0  33.0  146.0  36.6  0.254   51      1\n11    10  125.0  70.0  26.0  115.0  31.1  0.205   41      1\n12     1   97.0  66.0  15.0  140.0  23.2  0.487   22      0\n13    13  145.0  82.0  19.0  110.0  22.2  0.245   57      0\n14     3  158.0  76.0  36.0  245.0  31.6  0.851   28      1",
      "text/html": "<div>\n<style scoped>\n    .dataframe tbody tr th:only-of-type {\n        vertical-align: middle;\n    }\n\n    .dataframe tbody tr th {\n        vertical-align: top;\n    }\n\n    .dataframe thead th {\n        text-align: right;\n    }\n</style>\n<table border=\"1\" class=\"dataframe\">\n  <thead>\n    <tr style=\"text-align: right;\">\n      <th></th>\n      <th>preg</th>\n      <th>plas</th>\n      <th>pres</th>\n      <th>skin</th>\n      <th>test</th>\n      <th>mass</th>\n      <th>pedi</th>\n      <th>age</th>\n      <th>class</th>\n    </tr>\n  </thead>\n  <tbody>\n    <tr>\n      <th>0</th>\n      <td>1</td>\n      <td>89.0</td>\n      <td>66.0</td>\n      <td>23.0</td>\n      <td>94.0</td>\n      <td>28.1</td>\n      <td>0.167</td>\n      <td>21</td>\n      <td>0</td>\n    </tr>\n    <tr>\n      <th>1</th>\n      <td>0</td>\n      <td>137.0</td>\n      <td>40.0</td>\n      <td>35.0</td>\n      <td>168.0</td>\n      <td>43.1</td>\n      <td>2.288</td>\n      <td>33</td>\n      <td>1</td>\n    </tr>\n    <tr>\n      <th>2</th>\n      <td>3</td>\n      <td>78.0</td>\n      <td>50.0</td>\n      <td>32.0</td>\n      <td>88.0</td>\n      <td>31.0</td>\n      <td>0.248</td>\n      <td>26</td>\n      <td>1</td>\n    </tr>\n    <tr>\n      <th>3</th>\n      <td>2</td>\n      <td>197.0</td>\n      <td>70.0</td>\n      <td>45.0</td>\n      <td>543.0</td>\n      <td>30.5</td>\n      <td>0.158</td>\n      <td>53</td>\n      <td>1</td>\n    </tr>\n    <tr>\n      <th>4</th>\n      <td>1</td>\n      <td>189.0</td>\n      <td>60.0</td>\n      <td>23.0</td>\n      <td>846.0</td>\n      <td>30.1</td>\n      <td>0.398</td>\n      <td>59</td>\n      <td>1</td>\n    </tr>\n    <tr>\n      <th>5</th>\n      <td>5</td>\n      <td>166.0</td>\n      <td>72.0</td>\n      <td>19.0</td>\n      <td>175.0</td>\n      <td>25.8</td>\n      <td>0.587</td>\n      <td>51</td>\n      <td>1</td>\n    </tr>\n    <tr>\n      <th>6</th>\n      <td>0</td>\n      <td>118.0</td>\n      <td>84.0</td>\n      <td>47.0</td>\n      <td>230.0</td>\n      <td>45.8</td>\n      <td>0.551</td>\n      <td>31</td>\n      <td>1</td>\n    </tr>\n    <tr>\n      <th>7</th>\n      <td>1</td>\n      <td>103.0</td>\n      <td>30.0</td>\n      <td>38.0</td>\n      <td>83.0</td>\n      <td>43.3</td>\n      <td>0.183</td>\n      <td>33</td>\n      <td>0</td>\n    </tr>\n    <tr>\n      <th>8</th>\n      <td>1</td>\n      <td>115.0</td>\n      <td>70.0</td>\n      <td>30.0</td>\n      <td>96.0</td>\n      <td>34.6</td>\n      <td>0.529</td>\n      <td>32</td>\n      <td>1</td>\n    </tr>\n    <tr>\n      <th>9</th>\n      <td>3</td>\n      <td>126.0</td>\n      <td>88.0</td>\n      <td>41.0</td>\n      <td>235.0</td>\n      <td>39.3</td>\n      <td>0.704</td>\n      <td>27</td>\n      <td>0</td>\n    </tr>\n    <tr>\n      <th>10</th>\n      <td>11</td>\n      <td>143.0</td>\n      <td>94.0</td>\n      <td>33.0</td>\n      <td>146.0</td>\n      <td>36.6</td>\n      <td>0.254</td>\n      <td>51</td>\n      <td>1</td>\n    </tr>\n    <tr>\n      <th>11</th>\n      <td>10</td>\n      <td>125.0</td>\n      <td>70.0</td>\n      <td>26.0</td>\n      <td>115.0</td>\n      <td>31.1</td>\n      <td>0.205</td>\n      <td>41</td>\n      <td>1</td>\n    </tr>\n    <tr>\n      <th>12</th>\n      <td>1</td>\n      <td>97.0</td>\n      <td>66.0</td>\n      <td>15.0</td>\n      <td>140.0</td>\n      <td>23.2</td>\n      <td>0.487</td>\n      <td>22</td>\n      <td>0</td>\n    </tr>\n    <tr>\n      <th>13</th>\n      <td>13</td>\n      <td>145.0</td>\n      <td>82.0</td>\n      <td>19.0</td>\n      <td>110.0</td>\n      <td>22.2</td>\n      <td>0.245</td>\n      <td>57</td>\n      <td>0</td>\n    </tr>\n    <tr>\n      <th>14</th>\n      <td>3</td>\n      <td>158.0</td>\n      <td>76.0</td>\n      <td>36.0</td>\n      <td>245.0</td>\n      <td>31.6</td>\n      <td>0.851</td>\n      <td>28</td>\n      <td>1</td>\n    </tr>\n  </tbody>\n</table>\n</div>"
     },
     "metadata": {}
    }
   ],
   "execution_count": null
  },
  {
   "cell_type": "markdown",
   "source": "But be cautious with dropping rows, depending on how many rows had NaNs and the size of your data. You may inadvertently drastically decrease the sample size. As you can see below, we lost about half of our data:",
   "metadata": {
    "id": "ITWvVK0DVGLQ",
    "colab_type": "text",
    "cell_id": "00046-552ad4b3-d309-40fc-a6f4-d97503eadf8e",
    "deepnote_cell_type": "markdown"
   }
  },
  {
   "cell_type": "code",
   "metadata": {
    "id": "5liVVD3MVGLQ",
    "colab_type": "code",
    "colab": {},
    "cell_id": "00047-3fbc1bca-d945-4156-8119-f2837b8c49b0",
    "deepnote_to_be_reexecuted": false,
    "source_hash": "33833612",
    "execution_start": 1625522818827,
    "execution_millis": 12,
    "deepnote_cell_type": "code"
   },
   "source": "print(\"Original size: \", data.shape)\nprint(\"With rows dropped: \", data_row.shape)",
   "outputs": [
    {
     "name": "stdout",
     "text": "Original size:  (768, 9)\nWith rows dropped:  (392, 9)\n",
     "output_type": "stream"
    }
   ],
   "execution_count": null
  },
  {
   "cell_type": "markdown",
   "source": "**Pros**\n- again, easy and quick to apply to data\n\n**Cons**\n- reduces sample size",
   "metadata": {
    "id": "ykQHDIy9VGLT",
    "colab_type": "text",
    "cell_id": "00048-849b4372-7c23-4bc7-a757-326958d827e2",
    "deepnote_cell_type": "markdown"
   }
  },
  {
   "cell_type": "markdown",
   "source": "## Dropping the variable (column)\n\nIf the majority of the column were filled with NaNs (ie >70% but it's up to you to determine your own rule of thumb) and thus not very important in predicting the targeted label, dropping the variable makes sense. Although overall, it would be unwise to drop a variable just because it has NaNs; as you can see in our data that would mean dropping 5 of our 9 columns!\n\nFor an example's sake, let's drop the column containing the most NaNs.",
   "metadata": {
    "id": "QnNB71y-VGLT",
    "colab_type": "text",
    "cell_id": "00049-79d25580-54e5-48f8-acf7-84aaaaec9f4e",
    "deepnote_cell_type": "markdown"
   }
  },
  {
   "cell_type": "code",
   "metadata": {
    "id": "UwEmY2QHVGLU",
    "colab_type": "code",
    "colab": {},
    "cell_id": "00050-3f4ba6ce-b21b-41b9-ac3d-efbc18abcc96",
    "deepnote_to_be_reexecuted": false,
    "source_hash": "c030ae84",
    "execution_start": 1625522820579,
    "execution_millis": 17,
    "deepnote_cell_type": "code"
   },
   "source": "for i in invalid:\n    count = data[i].isna().sum()\n    print(i, \": \", count, \"NaNs, \", ((count/(len(data.index))) * 100), \"%\")",
   "outputs": [
    {
     "name": "stdout",
     "text": "plas :  5 NaNs,  0.6510416666666667 %\npres :  35 NaNs,  4.557291666666666 %\nskin :  227 NaNs,  29.557291666666668 %\ntest :  374 NaNs,  48.69791666666667 %\nmass :  11 NaNs,  1.4322916666666665 %\n",
     "output_type": "stream"
    }
   ],
   "execution_count": null
  },
  {
   "cell_type": "code",
   "metadata": {
    "id": "5TI3FbqqVGLW",
    "colab_type": "code",
    "colab": {},
    "cell_id": "00051-2e386b46-2755-41bb-90a3-18c31085ed3a",
    "deepnote_to_be_reexecuted": false,
    "source_hash": "7a9c51d5",
    "execution_start": 1625522821376,
    "execution_millis": 67,
    "deepnote_cell_type": "code"
   },
   "source": "data_col = data.drop(['test'], axis=1)\n\ndata_col.head()",
   "outputs": [
    {
     "output_type": "execute_result",
     "execution_count": 26,
     "data": {
      "application/vnd.deepnote.dataframe.v2+json": {
       "row_count": 5,
       "column_count": 8,
       "columns": [
        {
         "name": "preg",
         "dtype": "int64",
         "stats": {
          "unique_count": 4,
          "nan_count": 0,
          "min": "0",
          "max": "8",
          "histogram": [
           {
            "bin_start": 0,
            "bin_end": 0.8,
            "count": 1
           },
           {
            "bin_start": 0.8,
            "bin_end": 1.6,
            "count": 2
           },
           {
            "bin_start": 1.6,
            "bin_end": 2.4000000000000004,
            "count": 0
           },
           {
            "bin_start": 2.4000000000000004,
            "bin_end": 3.2,
            "count": 0
           },
           {
            "bin_start": 3.2,
            "bin_end": 4,
            "count": 0
           },
           {
            "bin_start": 4,
            "bin_end": 4.800000000000001,
            "count": 0
           },
           {
            "bin_start": 4.800000000000001,
            "bin_end": 5.6000000000000005,
            "count": 0
           },
           {
            "bin_start": 5.6000000000000005,
            "bin_end": 6.4,
            "count": 1
           },
           {
            "bin_start": 6.4,
            "bin_end": 7.2,
            "count": 0
           },
           {
            "bin_start": 7.2,
            "bin_end": 8,
            "count": 1
           }
          ]
         }
        },
        {
         "name": "plas",
         "dtype": "float64",
         "stats": {
          "unique_count": 5,
          "nan_count": 0,
          "min": "85.0",
          "max": "183.0",
          "histogram": [
           {
            "bin_start": 85,
            "bin_end": 94.8,
            "count": 2
           },
           {
            "bin_start": 94.8,
            "bin_end": 104.6,
            "count": 0
           },
           {
            "bin_start": 104.6,
            "bin_end": 114.4,
            "count": 0
           },
           {
            "bin_start": 114.4,
            "bin_end": 124.2,
            "count": 0
           },
           {
            "bin_start": 124.2,
            "bin_end": 134,
            "count": 0
           },
           {
            "bin_start": 134,
            "bin_end": 143.8,
            "count": 1
           },
           {
            "bin_start": 143.8,
            "bin_end": 153.60000000000002,
            "count": 1
           },
           {
            "bin_start": 153.60000000000002,
            "bin_end": 163.4,
            "count": 0
           },
           {
            "bin_start": 163.4,
            "bin_end": 173.2,
            "count": 0
           },
           {
            "bin_start": 173.2,
            "bin_end": 183,
            "count": 1
           }
          ]
         }
        },
        {
         "name": "pres",
         "dtype": "float64",
         "stats": {
          "unique_count": 4,
          "nan_count": 0,
          "min": "40.0",
          "max": "72.0",
          "histogram": [
           {
            "bin_start": 40,
            "bin_end": 43.2,
            "count": 1
           },
           {
            "bin_start": 43.2,
            "bin_end": 46.4,
            "count": 0
           },
           {
            "bin_start": 46.4,
            "bin_end": 49.6,
            "count": 0
           },
           {
            "bin_start": 49.6,
            "bin_end": 52.8,
            "count": 0
           },
           {
            "bin_start": 52.8,
            "bin_end": 56,
            "count": 0
           },
           {
            "bin_start": 56,
            "bin_end": 59.2,
            "count": 0
           },
           {
            "bin_start": 59.2,
            "bin_end": 62.400000000000006,
            "count": 0
           },
           {
            "bin_start": 62.400000000000006,
            "bin_end": 65.6,
            "count": 1
           },
           {
            "bin_start": 65.6,
            "bin_end": 68.8,
            "count": 2
           },
           {
            "bin_start": 68.8,
            "bin_end": 72,
            "count": 1
           }
          ]
         }
        },
        {
         "name": "skin",
         "dtype": "float64",
         "stats": {
          "unique_count": 3,
          "nan_count": 1,
          "min": "23.0",
          "max": "35.0",
          "histogram": [
           {
            "bin_start": 23,
            "bin_end": 24.2,
            "count": 1
           },
           {
            "bin_start": 24.2,
            "bin_end": 25.4,
            "count": 0
           },
           {
            "bin_start": 25.4,
            "bin_end": 26.6,
            "count": 0
           },
           {
            "bin_start": 26.6,
            "bin_end": 27.8,
            "count": 0
           },
           {
            "bin_start": 27.8,
            "bin_end": 29,
            "count": 0
           },
           {
            "bin_start": 29,
            "bin_end": 30.2,
            "count": 1
           },
           {
            "bin_start": 30.2,
            "bin_end": 31.4,
            "count": 0
           },
           {
            "bin_start": 31.4,
            "bin_end": 32.6,
            "count": 0
           },
           {
            "bin_start": 32.6,
            "bin_end": 33.8,
            "count": 0
           },
           {
            "bin_start": 33.8,
            "bin_end": 35,
            "count": 2
           }
          ]
         }
        },
        {
         "name": "mass",
         "dtype": "float64",
         "stats": {
          "unique_count": 5,
          "nan_count": 0,
          "min": "23.3",
          "max": "43.1",
          "histogram": [
           {
            "bin_start": 23.3,
            "bin_end": 25.28,
            "count": 1
           },
           {
            "bin_start": 25.28,
            "bin_end": 27.26,
            "count": 1
           },
           {
            "bin_start": 27.26,
            "bin_end": 29.240000000000002,
            "count": 1
           },
           {
            "bin_start": 29.240000000000002,
            "bin_end": 31.22,
            "count": 0
           },
           {
            "bin_start": 31.22,
            "bin_end": 33.2,
            "count": 0
           },
           {
            "bin_start": 33.2,
            "bin_end": 35.18,
            "count": 1
           },
           {
            "bin_start": 35.18,
            "bin_end": 37.16,
            "count": 0
           },
           {
            "bin_start": 37.16,
            "bin_end": 39.14,
            "count": 0
           },
           {
            "bin_start": 39.14,
            "bin_end": 41.120000000000005,
            "count": 0
           },
           {
            "bin_start": 41.120000000000005,
            "bin_end": 43.1,
            "count": 1
           }
          ]
         }
        },
        {
         "name": "pedi",
         "dtype": "float64",
         "stats": {
          "unique_count": 5,
          "nan_count": 0,
          "min": "0.167",
          "max": "2.288",
          "histogram": [
           {
            "bin_start": 0.167,
            "bin_end": 0.3791,
            "count": 2
           },
           {
            "bin_start": 0.3791,
            "bin_end": 0.5912000000000001,
            "count": 0
           },
           {
            "bin_start": 0.5912000000000001,
            "bin_end": 0.8033000000000001,
            "count": 2
           },
           {
            "bin_start": 0.8033000000000001,
            "bin_end": 1.0154,
            "count": 0
           },
           {
            "bin_start": 1.0154,
            "bin_end": 1.2275,
            "count": 0
           },
           {
            "bin_start": 1.2275,
            "bin_end": 1.4396000000000002,
            "count": 0
           },
           {
            "bin_start": 1.4396000000000002,
            "bin_end": 1.6517000000000002,
            "count": 0
           },
           {
            "bin_start": 1.6517000000000002,
            "bin_end": 1.8638000000000001,
            "count": 0
           },
           {
            "bin_start": 1.8638000000000001,
            "bin_end": 2.0759,
            "count": 0
           },
           {
            "bin_start": 2.0759,
            "bin_end": 2.288,
            "count": 1
           }
          ]
         }
        },
        {
         "name": "age",
         "dtype": "int64",
         "stats": {
          "unique_count": 5,
          "nan_count": 0,
          "min": "21",
          "max": "50",
          "histogram": [
           {
            "bin_start": 21,
            "bin_end": 23.9,
            "count": 1
           },
           {
            "bin_start": 23.9,
            "bin_end": 26.8,
            "count": 0
           },
           {
            "bin_start": 26.8,
            "bin_end": 29.7,
            "count": 0
           },
           {
            "bin_start": 29.7,
            "bin_end": 32.6,
            "count": 2
           },
           {
            "bin_start": 32.6,
            "bin_end": 35.5,
            "count": 1
           },
           {
            "bin_start": 35.5,
            "bin_end": 38.4,
            "count": 0
           },
           {
            "bin_start": 38.4,
            "bin_end": 41.3,
            "count": 0
           },
           {
            "bin_start": 41.3,
            "bin_end": 44.2,
            "count": 0
           },
           {
            "bin_start": 44.2,
            "bin_end": 47.099999999999994,
            "count": 0
           },
           {
            "bin_start": 47.099999999999994,
            "bin_end": 50,
            "count": 1
           }
          ]
         }
        },
        {
         "name": "class",
         "dtype": "int64",
         "stats": {
          "unique_count": 2,
          "nan_count": 0,
          "min": "0",
          "max": "1",
          "histogram": [
           {
            "bin_start": 0,
            "bin_end": 0.1,
            "count": 2
           },
           {
            "bin_start": 0.1,
            "bin_end": 0.2,
            "count": 0
           },
           {
            "bin_start": 0.2,
            "bin_end": 0.30000000000000004,
            "count": 0
           },
           {
            "bin_start": 0.30000000000000004,
            "bin_end": 0.4,
            "count": 0
           },
           {
            "bin_start": 0.4,
            "bin_end": 0.5,
            "count": 0
           },
           {
            "bin_start": 0.5,
            "bin_end": 0.6000000000000001,
            "count": 0
           },
           {
            "bin_start": 0.6000000000000001,
            "bin_end": 0.7000000000000001,
            "count": 0
           },
           {
            "bin_start": 0.7000000000000001,
            "bin_end": 0.8,
            "count": 0
           },
           {
            "bin_start": 0.8,
            "bin_end": 0.9,
            "count": 0
           },
           {
            "bin_start": 0.9,
            "bin_end": 1,
            "count": 3
           }
          ]
         }
        },
        {
         "name": "_deepnote_index_column",
         "dtype": "int64"
        }
       ],
       "rows_top": [
        {
         "preg": 6,
         "plas": 148,
         "pres": 72,
         "skin": 35,
         "mass": 33.6,
         "pedi": 0.627,
         "age": 50,
         "class": 1,
         "_deepnote_index_column": 0
        },
        {
         "preg": 1,
         "plas": 85,
         "pres": 66,
         "skin": 29,
         "mass": 26.6,
         "pedi": 0.351,
         "age": 31,
         "class": 0,
         "_deepnote_index_column": 1
        },
        {
         "preg": 8,
         "plas": 183,
         "pres": 64,
         "skin": "nan",
         "mass": 23.3,
         "pedi": 0.672,
         "age": 32,
         "class": 1,
         "_deepnote_index_column": 2
        },
        {
         "preg": 1,
         "plas": 89,
         "pres": 66,
         "skin": 23,
         "mass": 28.1,
         "pedi": 0.167,
         "age": 21,
         "class": 0,
         "_deepnote_index_column": 3
        },
        {
         "preg": 0,
         "plas": 137,
         "pres": 40,
         "skin": 35,
         "mass": 43.1,
         "pedi": 2.288,
         "age": 33,
         "class": 1,
         "_deepnote_index_column": 4
        }
       ],
       "rows_bottom": null
      },
      "text/plain": "   preg   plas  pres  skin  mass   pedi  age  class\n0     6  148.0  72.0  35.0  33.6  0.627   50      1\n1     1   85.0  66.0  29.0  26.6  0.351   31      0\n2     8  183.0  64.0   NaN  23.3  0.672   32      1\n3     1   89.0  66.0  23.0  28.1  0.167   21      0\n4     0  137.0  40.0  35.0  43.1  2.288   33      1",
      "text/html": "<div>\n<style scoped>\n    .dataframe tbody tr th:only-of-type {\n        vertical-align: middle;\n    }\n\n    .dataframe tbody tr th {\n        vertical-align: top;\n    }\n\n    .dataframe thead th {\n        text-align: right;\n    }\n</style>\n<table border=\"1\" class=\"dataframe\">\n  <thead>\n    <tr style=\"text-align: right;\">\n      <th></th>\n      <th>preg</th>\n      <th>plas</th>\n      <th>pres</th>\n      <th>skin</th>\n      <th>mass</th>\n      <th>pedi</th>\n      <th>age</th>\n      <th>class</th>\n    </tr>\n  </thead>\n  <tbody>\n    <tr>\n      <th>0</th>\n      <td>6</td>\n      <td>148.0</td>\n      <td>72.0</td>\n      <td>35.0</td>\n      <td>33.6</td>\n      <td>0.627</td>\n      <td>50</td>\n      <td>1</td>\n    </tr>\n    <tr>\n      <th>1</th>\n      <td>1</td>\n      <td>85.0</td>\n      <td>66.0</td>\n      <td>29.0</td>\n      <td>26.6</td>\n      <td>0.351</td>\n      <td>31</td>\n      <td>0</td>\n    </tr>\n    <tr>\n      <th>2</th>\n      <td>8</td>\n      <td>183.0</td>\n      <td>64.0</td>\n      <td>NaN</td>\n      <td>23.3</td>\n      <td>0.672</td>\n      <td>32</td>\n      <td>1</td>\n    </tr>\n    <tr>\n      <th>3</th>\n      <td>1</td>\n      <td>89.0</td>\n      <td>66.0</td>\n      <td>23.0</td>\n      <td>28.1</td>\n      <td>0.167</td>\n      <td>21</td>\n      <td>0</td>\n    </tr>\n    <tr>\n      <th>4</th>\n      <td>0</td>\n      <td>137.0</td>\n      <td>40.0</td>\n      <td>35.0</td>\n      <td>43.1</td>\n      <td>2.288</td>\n      <td>33</td>\n      <td>1</td>\n    </tr>\n  </tbody>\n</table>\n</div>"
     },
     "metadata": {}
    }
   ],
   "execution_count": null
  },
  {
   "cell_type": "markdown",
   "source": "**Pros**\n- can clean up unnecessary data and speed up processing\n\n**Cons**\n- reduces data and number of potential features",
   "metadata": {
    "id": "kq8lNQsWVGLZ",
    "colab_type": "text",
    "cell_id": "00052-b9757458-cfd1-40b7-bdd5-749b4271c2b9",
    "deepnote_cell_type": "markdown"
   }
  },
  {
   "cell_type": "markdown",
   "source": "## Replacing with the mean/median\n\nWe can also deal with missing values by replacing them with the mean or median if the column's numerical. Like dropping NaNs, filling NaNs with a constant value can be done with a single function. ",
   "metadata": {
    "id": "rfmVYILCVGLZ",
    "colab_type": "text",
    "cell_id": "00053-7fd37732-24c1-4192-84ff-aab2bb7755c1",
    "deepnote_cell_type": "markdown"
   }
  },
  {
   "cell_type": "code",
   "metadata": {
    "id": "RFgfc5MfVGLb",
    "colab_type": "code",
    "colab": {},
    "cell_id": "00054-3173be93-058b-48e9-b91c-e4b4a6a265e0",
    "deepnote_to_be_reexecuted": false,
    "source_hash": "fdf13eb4",
    "execution_start": 1625522823724,
    "execution_millis": 11,
    "deepnote_cell_type": "code"
   },
   "source": "for i in invalid:\n    data[i].fillna(data[i].mean(), inplace=True) #use data[i].median() for median\n\ndata.head()",
   "outputs": [
    {
     "output_type": "execute_result",
     "execution_count": 27,
     "data": {
      "application/vnd.deepnote.dataframe.v2+json": {
       "row_count": 5,
       "column_count": 9,
       "columns": [
        {
         "name": "preg",
         "dtype": "int64",
         "stats": {
          "unique_count": 4,
          "nan_count": 0,
          "min": "0",
          "max": "8",
          "histogram": [
           {
            "bin_start": 0,
            "bin_end": 0.8,
            "count": 1
           },
           {
            "bin_start": 0.8,
            "bin_end": 1.6,
            "count": 2
           },
           {
            "bin_start": 1.6,
            "bin_end": 2.4000000000000004,
            "count": 0
           },
           {
            "bin_start": 2.4000000000000004,
            "bin_end": 3.2,
            "count": 0
           },
           {
            "bin_start": 3.2,
            "bin_end": 4,
            "count": 0
           },
           {
            "bin_start": 4,
            "bin_end": 4.800000000000001,
            "count": 0
           },
           {
            "bin_start": 4.800000000000001,
            "bin_end": 5.6000000000000005,
            "count": 0
           },
           {
            "bin_start": 5.6000000000000005,
            "bin_end": 6.4,
            "count": 1
           },
           {
            "bin_start": 6.4,
            "bin_end": 7.2,
            "count": 0
           },
           {
            "bin_start": 7.2,
            "bin_end": 8,
            "count": 1
           }
          ]
         }
        },
        {
         "name": "plas",
         "dtype": "float64",
         "stats": {
          "unique_count": 5,
          "nan_count": 0,
          "min": "85.0",
          "max": "183.0",
          "histogram": [
           {
            "bin_start": 85,
            "bin_end": 94.8,
            "count": 2
           },
           {
            "bin_start": 94.8,
            "bin_end": 104.6,
            "count": 0
           },
           {
            "bin_start": 104.6,
            "bin_end": 114.4,
            "count": 0
           },
           {
            "bin_start": 114.4,
            "bin_end": 124.2,
            "count": 0
           },
           {
            "bin_start": 124.2,
            "bin_end": 134,
            "count": 0
           },
           {
            "bin_start": 134,
            "bin_end": 143.8,
            "count": 1
           },
           {
            "bin_start": 143.8,
            "bin_end": 153.60000000000002,
            "count": 1
           },
           {
            "bin_start": 153.60000000000002,
            "bin_end": 163.4,
            "count": 0
           },
           {
            "bin_start": 163.4,
            "bin_end": 173.2,
            "count": 0
           },
           {
            "bin_start": 173.2,
            "bin_end": 183,
            "count": 1
           }
          ]
         }
        },
        {
         "name": "pres",
         "dtype": "float64",
         "stats": {
          "unique_count": 4,
          "nan_count": 0,
          "min": "40.0",
          "max": "72.0",
          "histogram": [
           {
            "bin_start": 40,
            "bin_end": 43.2,
            "count": 1
           },
           {
            "bin_start": 43.2,
            "bin_end": 46.4,
            "count": 0
           },
           {
            "bin_start": 46.4,
            "bin_end": 49.6,
            "count": 0
           },
           {
            "bin_start": 49.6,
            "bin_end": 52.8,
            "count": 0
           },
           {
            "bin_start": 52.8,
            "bin_end": 56,
            "count": 0
           },
           {
            "bin_start": 56,
            "bin_end": 59.2,
            "count": 0
           },
           {
            "bin_start": 59.2,
            "bin_end": 62.400000000000006,
            "count": 0
           },
           {
            "bin_start": 62.400000000000006,
            "bin_end": 65.6,
            "count": 1
           },
           {
            "bin_start": 65.6,
            "bin_end": 68.8,
            "count": 2
           },
           {
            "bin_start": 68.8,
            "bin_end": 72,
            "count": 1
           }
          ]
         }
        },
        {
         "name": "skin",
         "dtype": "float64",
         "stats": {
          "unique_count": 4,
          "nan_count": 0,
          "min": "23.0",
          "max": "35.0",
          "histogram": [
           {
            "bin_start": 23,
            "bin_end": 24.2,
            "count": 1
           },
           {
            "bin_start": 24.2,
            "bin_end": 25.4,
            "count": 0
           },
           {
            "bin_start": 25.4,
            "bin_end": 26.6,
            "count": 0
           },
           {
            "bin_start": 26.6,
            "bin_end": 27.8,
            "count": 0
           },
           {
            "bin_start": 27.8,
            "bin_end": 29,
            "count": 0
           },
           {
            "bin_start": 29,
            "bin_end": 30.2,
            "count": 2
           },
           {
            "bin_start": 30.2,
            "bin_end": 31.4,
            "count": 0
           },
           {
            "bin_start": 31.4,
            "bin_end": 32.6,
            "count": 0
           },
           {
            "bin_start": 32.6,
            "bin_end": 33.8,
            "count": 0
           },
           {
            "bin_start": 33.8,
            "bin_end": 35,
            "count": 2
           }
          ]
         }
        },
        {
         "name": "test",
         "dtype": "float64",
         "stats": {
          "unique_count": 3,
          "nan_count": 0,
          "min": "94.0",
          "max": "168.0",
          "histogram": [
           {
            "bin_start": 94,
            "bin_end": 101.4,
            "count": 1
           },
           {
            "bin_start": 101.4,
            "bin_end": 108.8,
            "count": 0
           },
           {
            "bin_start": 108.8,
            "bin_end": 116.2,
            "count": 0
           },
           {
            "bin_start": 116.2,
            "bin_end": 123.6,
            "count": 0
           },
           {
            "bin_start": 123.6,
            "bin_end": 131,
            "count": 0
           },
           {
            "bin_start": 131,
            "bin_end": 138.4,
            "count": 0
           },
           {
            "bin_start": 138.4,
            "bin_end": 145.8,
            "count": 0
           },
           {
            "bin_start": 145.8,
            "bin_end": 153.2,
            "count": 0
           },
           {
            "bin_start": 153.2,
            "bin_end": 160.60000000000002,
            "count": 3
           },
           {
            "bin_start": 160.60000000000002,
            "bin_end": 168,
            "count": 1
           }
          ]
         }
        },
        {
         "name": "mass",
         "dtype": "float64",
         "stats": {
          "unique_count": 5,
          "nan_count": 0,
          "min": "23.3",
          "max": "43.1",
          "histogram": [
           {
            "bin_start": 23.3,
            "bin_end": 25.28,
            "count": 1
           },
           {
            "bin_start": 25.28,
            "bin_end": 27.26,
            "count": 1
           },
           {
            "bin_start": 27.26,
            "bin_end": 29.240000000000002,
            "count": 1
           },
           {
            "bin_start": 29.240000000000002,
            "bin_end": 31.22,
            "count": 0
           },
           {
            "bin_start": 31.22,
            "bin_end": 33.2,
            "count": 0
           },
           {
            "bin_start": 33.2,
            "bin_end": 35.18,
            "count": 1
           },
           {
            "bin_start": 35.18,
            "bin_end": 37.16,
            "count": 0
           },
           {
            "bin_start": 37.16,
            "bin_end": 39.14,
            "count": 0
           },
           {
            "bin_start": 39.14,
            "bin_end": 41.120000000000005,
            "count": 0
           },
           {
            "bin_start": 41.120000000000005,
            "bin_end": 43.1,
            "count": 1
           }
          ]
         }
        },
        {
         "name": "pedi",
         "dtype": "float64",
         "stats": {
          "unique_count": 5,
          "nan_count": 0,
          "min": "0.167",
          "max": "2.288",
          "histogram": [
           {
            "bin_start": 0.167,
            "bin_end": 0.3791,
            "count": 2
           },
           {
            "bin_start": 0.3791,
            "bin_end": 0.5912000000000001,
            "count": 0
           },
           {
            "bin_start": 0.5912000000000001,
            "bin_end": 0.8033000000000001,
            "count": 2
           },
           {
            "bin_start": 0.8033000000000001,
            "bin_end": 1.0154,
            "count": 0
           },
           {
            "bin_start": 1.0154,
            "bin_end": 1.2275,
            "count": 0
           },
           {
            "bin_start": 1.2275,
            "bin_end": 1.4396000000000002,
            "count": 0
           },
           {
            "bin_start": 1.4396000000000002,
            "bin_end": 1.6517000000000002,
            "count": 0
           },
           {
            "bin_start": 1.6517000000000002,
            "bin_end": 1.8638000000000001,
            "count": 0
           },
           {
            "bin_start": 1.8638000000000001,
            "bin_end": 2.0759,
            "count": 0
           },
           {
            "bin_start": 2.0759,
            "bin_end": 2.288,
            "count": 1
           }
          ]
         }
        },
        {
         "name": "age",
         "dtype": "int64",
         "stats": {
          "unique_count": 5,
          "nan_count": 0,
          "min": "21",
          "max": "50",
          "histogram": [
           {
            "bin_start": 21,
            "bin_end": 23.9,
            "count": 1
           },
           {
            "bin_start": 23.9,
            "bin_end": 26.8,
            "count": 0
           },
           {
            "bin_start": 26.8,
            "bin_end": 29.7,
            "count": 0
           },
           {
            "bin_start": 29.7,
            "bin_end": 32.6,
            "count": 2
           },
           {
            "bin_start": 32.6,
            "bin_end": 35.5,
            "count": 1
           },
           {
            "bin_start": 35.5,
            "bin_end": 38.4,
            "count": 0
           },
           {
            "bin_start": 38.4,
            "bin_end": 41.3,
            "count": 0
           },
           {
            "bin_start": 41.3,
            "bin_end": 44.2,
            "count": 0
           },
           {
            "bin_start": 44.2,
            "bin_end": 47.099999999999994,
            "count": 0
           },
           {
            "bin_start": 47.099999999999994,
            "bin_end": 50,
            "count": 1
           }
          ]
         }
        },
        {
         "name": "class",
         "dtype": "int64",
         "stats": {
          "unique_count": 2,
          "nan_count": 0,
          "min": "0",
          "max": "1",
          "histogram": [
           {
            "bin_start": 0,
            "bin_end": 0.1,
            "count": 2
           },
           {
            "bin_start": 0.1,
            "bin_end": 0.2,
            "count": 0
           },
           {
            "bin_start": 0.2,
            "bin_end": 0.30000000000000004,
            "count": 0
           },
           {
            "bin_start": 0.30000000000000004,
            "bin_end": 0.4,
            "count": 0
           },
           {
            "bin_start": 0.4,
            "bin_end": 0.5,
            "count": 0
           },
           {
            "bin_start": 0.5,
            "bin_end": 0.6000000000000001,
            "count": 0
           },
           {
            "bin_start": 0.6000000000000001,
            "bin_end": 0.7000000000000001,
            "count": 0
           },
           {
            "bin_start": 0.7000000000000001,
            "bin_end": 0.8,
            "count": 0
           },
           {
            "bin_start": 0.8,
            "bin_end": 0.9,
            "count": 0
           },
           {
            "bin_start": 0.9,
            "bin_end": 1,
            "count": 3
           }
          ]
         }
        },
        {
         "name": "_deepnote_index_column",
         "dtype": "int64"
        }
       ],
       "rows_top": [
        {
         "preg": 6,
         "plas": 148,
         "pres": 72,
         "skin": 35,
         "test": 155.5482233502538,
         "mass": 33.6,
         "pedi": 0.627,
         "age": 50,
         "class": 1,
         "_deepnote_index_column": 0
        },
        {
         "preg": 1,
         "plas": 85,
         "pres": 66,
         "skin": 29,
         "test": 155.5482233502538,
         "mass": 26.6,
         "pedi": 0.351,
         "age": 31,
         "class": 0,
         "_deepnote_index_column": 1
        },
        {
         "preg": 8,
         "plas": 183,
         "pres": 64,
         "skin": 29.153419593345657,
         "test": 155.5482233502538,
         "mass": 23.3,
         "pedi": 0.672,
         "age": 32,
         "class": 1,
         "_deepnote_index_column": 2
        },
        {
         "preg": 1,
         "plas": 89,
         "pres": 66,
         "skin": 23,
         "test": 94,
         "mass": 28.1,
         "pedi": 0.167,
         "age": 21,
         "class": 0,
         "_deepnote_index_column": 3
        },
        {
         "preg": 0,
         "plas": 137,
         "pres": 40,
         "skin": 35,
         "test": 168,
         "mass": 43.1,
         "pedi": 2.288,
         "age": 33,
         "class": 1,
         "_deepnote_index_column": 4
        }
       ],
       "rows_bottom": null
      },
      "text/plain": "   preg   plas  pres      skin        test  mass   pedi  age  class\n0     6  148.0  72.0  35.00000  155.548223  33.6  0.627   50      1\n1     1   85.0  66.0  29.00000  155.548223  26.6  0.351   31      0\n2     8  183.0  64.0  29.15342  155.548223  23.3  0.672   32      1\n3     1   89.0  66.0  23.00000   94.000000  28.1  0.167   21      0\n4     0  137.0  40.0  35.00000  168.000000  43.1  2.288   33      1",
      "text/html": "<div>\n<style scoped>\n    .dataframe tbody tr th:only-of-type {\n        vertical-align: middle;\n    }\n\n    .dataframe tbody tr th {\n        vertical-align: top;\n    }\n\n    .dataframe thead th {\n        text-align: right;\n    }\n</style>\n<table border=\"1\" class=\"dataframe\">\n  <thead>\n    <tr style=\"text-align: right;\">\n      <th></th>\n      <th>preg</th>\n      <th>plas</th>\n      <th>pres</th>\n      <th>skin</th>\n      <th>test</th>\n      <th>mass</th>\n      <th>pedi</th>\n      <th>age</th>\n      <th>class</th>\n    </tr>\n  </thead>\n  <tbody>\n    <tr>\n      <th>0</th>\n      <td>6</td>\n      <td>148.0</td>\n      <td>72.0</td>\n      <td>35.00000</td>\n      <td>155.548223</td>\n      <td>33.6</td>\n      <td>0.627</td>\n      <td>50</td>\n      <td>1</td>\n    </tr>\n    <tr>\n      <th>1</th>\n      <td>1</td>\n      <td>85.0</td>\n      <td>66.0</td>\n      <td>29.00000</td>\n      <td>155.548223</td>\n      <td>26.6</td>\n      <td>0.351</td>\n      <td>31</td>\n      <td>0</td>\n    </tr>\n    <tr>\n      <th>2</th>\n      <td>8</td>\n      <td>183.0</td>\n      <td>64.0</td>\n      <td>29.15342</td>\n      <td>155.548223</td>\n      <td>23.3</td>\n      <td>0.672</td>\n      <td>32</td>\n      <td>1</td>\n    </tr>\n    <tr>\n      <th>3</th>\n      <td>1</td>\n      <td>89.0</td>\n      <td>66.0</td>\n      <td>23.00000</td>\n      <td>94.000000</td>\n      <td>28.1</td>\n      <td>0.167</td>\n      <td>21</td>\n      <td>0</td>\n    </tr>\n    <tr>\n      <th>4</th>\n      <td>0</td>\n      <td>137.0</td>\n      <td>40.0</td>\n      <td>35.00000</td>\n      <td>168.000000</td>\n      <td>43.1</td>\n      <td>2.288</td>\n      <td>33</td>\n      <td>1</td>\n    </tr>\n  </tbody>\n</table>\n</div>"
     },
     "metadata": {}
    }
   ],
   "execution_count": null
  },
  {
   "cell_type": "markdown",
   "source": "**Pros**\n- easy and straightforward (calculate, find, & replace)\n\n**Cons**\n- skews data to be biased towards the center, underestimating the variance in our data ",
   "metadata": {
    "id": "lhBlTzFkVGLd",
    "colab_type": "text",
    "cell_id": "00055-c74ae3c1-0b38-4630-94f1-2a58c87dde36",
    "deepnote_cell_type": "markdown"
   }
  },
  {
   "cell_type": "markdown",
   "source": "<a style='text-decoration:none;line-height:16px;display:flex;color:#5B5B62;padding:10px;justify-content:end;' href='https://deepnote.com?utm_source=created-in-deepnote-cell&projectId=6aa92908-daf4-47cc-a24d-1e94a9949d60' target=\"_blank\">\n<img alt='Created in deepnote.com' style='display:inline;max-height:16px;margin:0px;margin-right:7.5px;' src='data:image/svg+xml;base64,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' > </img>\nCreated in <span style='font-weight:600;margin-left:4px;'>Deepnote</span></a>",
   "metadata": {
    "tags": [],
    "created_in_deepnote_cell": true,
    "deepnote_cell_type": "markdown"
   }
  }
 ],
 "nbformat": 4,
 "nbformat_minor": 0,
 "metadata": {
  "anaconda-cloud": {},
  "colab": {
   "name": "Pandas_Tutorial",
   "provenance": [],
   "collapsed_sections": []
  },
  "kernelspec": {
   "display_name": "Python 3",
   "language": "python",
   "name": "python3"
  },
  "language_info": {
   "codemirror_mode": {
    "name": "ipython",
    "version": 3
   },
   "file_extension": ".py",
   "mimetype": "text/x-python",
   "name": "python",
   "nbconvert_exporter": "python",
   "pygments_lexer": "ipython3",
   "version": "3.7.3"
  },
  "deepnote_notebook_id": "19522fc5-5214-46df-86ee-1c78f09f0f07",
  "deepnote": {},
  "deepnote_execution_queue": []
 }
}